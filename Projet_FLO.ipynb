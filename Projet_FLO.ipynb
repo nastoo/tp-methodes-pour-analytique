{
 "cells": [
  {
   "cell_type": "code",
   "execution_count": 1,
   "id": "2069a212",
   "metadata": {},
   "outputs": [],
   "source": [
    "import numpy as np \n",
    "import pandas as pd "
   ]
  },
  {
   "cell_type": "code",
   "execution_count": 2,
   "id": "115dc9ec",
   "metadata": {},
   "outputs": [],
   "source": [
    "import json \n",
    "from sklearn import preprocessing"
   ]
  },
  {
   "cell_type": "code",
   "execution_count": 3,
   "id": "d5465ff5",
   "metadata": {},
   "outputs": [],
   "source": [
    "import matplotlib.pyplot as plt"
   ]
  },
  {
   "cell_type": "code",
   "execution_count": 4,
   "id": "865a4d68",
   "metadata": {},
   "outputs": [],
   "source": [
    "import math as m "
   ]
  },
  {
   "cell_type": "code",
   "execution_count": 5,
   "id": "57bfde02",
   "metadata": {},
   "outputs": [
    {
     "name": "stdout",
     "output_type": "stream",
     "text": [
      "Enabling IPython Memory Usage, use %imu_start to begin, %imu_stop to end\n"
     ]
    }
   ],
   "source": [
    "%load_ext ipython_memory_usage"
   ]
  },
  {
   "cell_type": "code",
   "execution_count": 6,
   "id": "0947540c",
   "metadata": {},
   "outputs": [
    {
     "data": {
      "text/plain": [
       "'IPython Memory Usage started'"
      ]
     },
     "execution_count": 6,
     "metadata": {},
     "output_type": "execute_result"
    },
    {
     "name": "stdout",
     "output_type": "stream",
     "text": [
      "In [6] used 0.4 MiB RAM in 0.12s (system mean cpu 0%, single max cpu 0%), peaked 0.0 MiB above final usage, current RAM usage now 147.2 MiB\n"
     ]
    }
   ],
   "source": [
    "%imu_start "
   ]
  },
  {
   "cell_type": "markdown",
   "id": "61281c1a",
   "metadata": {},
   "source": [
    "### EDA de la dataFrame 'Athlete_events'"
   ]
  },
  {
   "cell_type": "code",
   "execution_count": 8,
   "id": "17d666b9",
   "metadata": {},
   "outputs": [
    {
     "ename": "ParserError",
     "evalue": "Error tokenizing data. C error: Expected 14 fields in line 282994, saw 16\n",
     "output_type": "error",
     "traceback": [
      "\u001b[0;31m---------------------------------------------------------------------------\u001b[0m",
      "\u001b[0;31mParserError\u001b[0m                               Traceback (most recent call last)",
      "\u001b[0;32m<ipython-input-8-4454969dcf69>\u001b[0m in \u001b[0;36m<module>\u001b[0;34m\u001b[0m\n\u001b[0;32m----> 1\u001b[0;31m \u001b[0mdf_athlete\u001b[0m\u001b[0;34m=\u001b[0m\u001b[0mpd\u001b[0m\u001b[0;34m.\u001b[0m\u001b[0mread_csv\u001b[0m\u001b[0;34m(\u001b[0m\u001b[0;34m'data/athlete_events.csv'\u001b[0m\u001b[0;34m,\u001b[0m\u001b[0msep\u001b[0m\u001b[0;34m=\u001b[0m\u001b[0;34m','\u001b[0m\u001b[0;34m)\u001b[0m\u001b[0;34m\u001b[0m\u001b[0;34m\u001b[0m\u001b[0m\n\u001b[0m\u001b[1;32m      2\u001b[0m \u001b[0;34m\u001b[0m\u001b[0m\n\u001b[1;32m      3\u001b[0m \u001b[0mdf_athlete\u001b[0m\u001b[0;34m\u001b[0m\u001b[0;34m\u001b[0m\u001b[0m\n",
      "\u001b[0;32m/opt/anaconda3/lib/python3.8/site-packages/pandas/io/parsers/readers.py\u001b[0m in \u001b[0;36mread_csv\u001b[0;34m(filepath_or_buffer, sep, delimiter, header, names, index_col, usecols, dtype, engine, converters, true_values, false_values, skipinitialspace, skiprows, skipfooter, nrows, na_values, keep_default_na, na_filter, verbose, skip_blank_lines, parse_dates, infer_datetime_format, keep_date_col, date_parser, date_format, dayfirst, cache_dates, iterator, chunksize, compression, thousands, decimal, lineterminator, quotechar, quoting, doublequote, escapechar, comment, encoding, encoding_errors, dialect, on_bad_lines, delim_whitespace, low_memory, memory_map, float_precision, storage_options, dtype_backend)\u001b[0m\n\u001b[1;32m    910\u001b[0m     \u001b[0mkwds\u001b[0m\u001b[0;34m.\u001b[0m\u001b[0mupdate\u001b[0m\u001b[0;34m(\u001b[0m\u001b[0mkwds_defaults\u001b[0m\u001b[0;34m)\u001b[0m\u001b[0;34m\u001b[0m\u001b[0;34m\u001b[0m\u001b[0m\n\u001b[1;32m    911\u001b[0m \u001b[0;34m\u001b[0m\u001b[0m\n\u001b[0;32m--> 912\u001b[0;31m     \u001b[0;32mreturn\u001b[0m \u001b[0m_read\u001b[0m\u001b[0;34m(\u001b[0m\u001b[0mfilepath_or_buffer\u001b[0m\u001b[0;34m,\u001b[0m \u001b[0mkwds\u001b[0m\u001b[0;34m)\u001b[0m\u001b[0;34m\u001b[0m\u001b[0;34m\u001b[0m\u001b[0m\n\u001b[0m\u001b[1;32m    913\u001b[0m \u001b[0;34m\u001b[0m\u001b[0m\n\u001b[1;32m    914\u001b[0m \u001b[0;34m\u001b[0m\u001b[0m\n",
      "\u001b[0;32m/opt/anaconda3/lib/python3.8/site-packages/pandas/io/parsers/readers.py\u001b[0m in \u001b[0;36m_read\u001b[0;34m(filepath_or_buffer, kwds)\u001b[0m\n\u001b[1;32m    581\u001b[0m \u001b[0;34m\u001b[0m\u001b[0m\n\u001b[1;32m    582\u001b[0m     \u001b[0;32mwith\u001b[0m \u001b[0mparser\u001b[0m\u001b[0;34m:\u001b[0m\u001b[0;34m\u001b[0m\u001b[0;34m\u001b[0m\u001b[0m\n\u001b[0;32m--> 583\u001b[0;31m         \u001b[0;32mreturn\u001b[0m \u001b[0mparser\u001b[0m\u001b[0;34m.\u001b[0m\u001b[0mread\u001b[0m\u001b[0;34m(\u001b[0m\u001b[0mnrows\u001b[0m\u001b[0;34m)\u001b[0m\u001b[0;34m\u001b[0m\u001b[0;34m\u001b[0m\u001b[0m\n\u001b[0m\u001b[1;32m    584\u001b[0m \u001b[0;34m\u001b[0m\u001b[0m\n\u001b[1;32m    585\u001b[0m \u001b[0;34m\u001b[0m\u001b[0m\n",
      "\u001b[0;32m/opt/anaconda3/lib/python3.8/site-packages/pandas/io/parsers/readers.py\u001b[0m in \u001b[0;36mread\u001b[0;34m(self, nrows)\u001b[0m\n\u001b[1;32m   1702\u001b[0m                     \u001b[0mcolumns\u001b[0m\u001b[0;34m,\u001b[0m\u001b[0;34m\u001b[0m\u001b[0;34m\u001b[0m\u001b[0m\n\u001b[1;32m   1703\u001b[0m                     \u001b[0mcol_dict\u001b[0m\u001b[0;34m,\u001b[0m\u001b[0;34m\u001b[0m\u001b[0;34m\u001b[0m\u001b[0m\n\u001b[0;32m-> 1704\u001b[0;31m                 \u001b[0;34m)\u001b[0m \u001b[0;34m=\u001b[0m \u001b[0mself\u001b[0m\u001b[0;34m.\u001b[0m\u001b[0m_engine\u001b[0m\u001b[0;34m.\u001b[0m\u001b[0mread\u001b[0m\u001b[0;34m(\u001b[0m  \u001b[0;31m# type: ignore[attr-defined]\u001b[0m\u001b[0;34m\u001b[0m\u001b[0;34m\u001b[0m\u001b[0m\n\u001b[0m\u001b[1;32m   1705\u001b[0m                     \u001b[0mnrows\u001b[0m\u001b[0;34m\u001b[0m\u001b[0;34m\u001b[0m\u001b[0m\n\u001b[1;32m   1706\u001b[0m                 )\n",
      "\u001b[0;32m/opt/anaconda3/lib/python3.8/site-packages/pandas/io/parsers/c_parser_wrapper.py\u001b[0m in \u001b[0;36mread\u001b[0;34m(self, nrows)\u001b[0m\n\u001b[1;32m    232\u001b[0m         \u001b[0;32mtry\u001b[0m\u001b[0;34m:\u001b[0m\u001b[0;34m\u001b[0m\u001b[0;34m\u001b[0m\u001b[0m\n\u001b[1;32m    233\u001b[0m             \u001b[0;32mif\u001b[0m \u001b[0mself\u001b[0m\u001b[0;34m.\u001b[0m\u001b[0mlow_memory\u001b[0m\u001b[0;34m:\u001b[0m\u001b[0;34m\u001b[0m\u001b[0;34m\u001b[0m\u001b[0m\n\u001b[0;32m--> 234\u001b[0;31m                 \u001b[0mchunks\u001b[0m \u001b[0;34m=\u001b[0m \u001b[0mself\u001b[0m\u001b[0;34m.\u001b[0m\u001b[0m_reader\u001b[0m\u001b[0;34m.\u001b[0m\u001b[0mread_low_memory\u001b[0m\u001b[0;34m(\u001b[0m\u001b[0mnrows\u001b[0m\u001b[0;34m)\u001b[0m\u001b[0;34m\u001b[0m\u001b[0;34m\u001b[0m\u001b[0m\n\u001b[0m\u001b[1;32m    235\u001b[0m                 \u001b[0;31m# destructive to chunks\u001b[0m\u001b[0;34m\u001b[0m\u001b[0;34m\u001b[0m\u001b[0;34m\u001b[0m\u001b[0m\n\u001b[1;32m    236\u001b[0m                 \u001b[0mdata\u001b[0m \u001b[0;34m=\u001b[0m \u001b[0m_concatenate_chunks\u001b[0m\u001b[0;34m(\u001b[0m\u001b[0mchunks\u001b[0m\u001b[0;34m)\u001b[0m\u001b[0;34m\u001b[0m\u001b[0;34m\u001b[0m\u001b[0m\n",
      "\u001b[0;32m/opt/anaconda3/lib/python3.8/site-packages/pandas/_libs/parsers.pyx\u001b[0m in \u001b[0;36mpandas._libs.parsers.TextReader.read_low_memory\u001b[0;34m()\u001b[0m\n",
      "\u001b[0;32m/opt/anaconda3/lib/python3.8/site-packages/pandas/_libs/parsers.pyx\u001b[0m in \u001b[0;36mpandas._libs.parsers.TextReader._read_rows\u001b[0;34m()\u001b[0m\n",
      "\u001b[0;32m/opt/anaconda3/lib/python3.8/site-packages/pandas/_libs/parsers.pyx\u001b[0m in \u001b[0;36mpandas._libs.parsers.TextReader._tokenize_rows\u001b[0;34m()\u001b[0m\n",
      "\u001b[0;32m/opt/anaconda3/lib/python3.8/site-packages/pandas/_libs/parsers.pyx\u001b[0m in \u001b[0;36mpandas._libs.parsers.TextReader._check_tokenize_status\u001b[0;34m()\u001b[0m\n",
      "\u001b[0;32m/opt/anaconda3/lib/python3.8/site-packages/pandas/_libs/parsers.pyx\u001b[0m in \u001b[0;36mpandas._libs.parsers.raise_parser_error\u001b[0;34m()\u001b[0m\n",
      "\u001b[0;31mParserError\u001b[0m: Error tokenizing data. C error: Expected 14 fields in line 282994, saw 16\n"
     ]
    },
    {
     "name": "stdout",
     "output_type": "stream",
     "text": [
      "In [8] used -7.0 MiB RAM in 309.23s (system mean cpu 21%, single max cpu 100%), peaked 0.0 MiB above final usage, current RAM usage now 107.9 MiB\n"
     ]
    }
   ],
   "source": [
    "df_athlete=pd.read_csv('data/athlete_events.csv',sep=',')\n",
    "\n",
    "df_athlete"
   ]
  },
  {
   "cell_type": "markdown",
   "id": "e880e9d3",
   "metadata": {},
   "source": [
    "### DataFrame dictionnary"
   ]
  },
  {
   "cell_type": "code",
   "execution_count": null,
   "id": "adf60793",
   "metadata": {},
   "outputs": [],
   "source": [
    "df_dictionnary=pd.read_csv('data/dictionary.csv')\n",
    "\n",
    "df_dictionnary=df_dictionnary.rename(columns={'GDP per Capita':'PIB/habitant','Code':'NOC'})\n",
    "\n",
    "df_dictionnary.isna().sum()"
   ]
  },
  {
   "cell_type": "markdown",
   "id": "5f747d89",
   "metadata": {},
   "source": [
    "### On cherche les athlètes qui n'ont pas de team et ceux des îles TUVALU"
   ]
  },
  {
   "cell_type": "code",
   "execution_count": null,
   "id": "24b590d0",
   "metadata": {},
   "outputs": [],
   "source": [
    "df_athlete[df_athlete['NOC']=='UNK']\n"
   ]
  },
  {
   "cell_type": "markdown",
   "id": "5bf436be",
   "metadata": {},
   "source": [
    "Fritez Eccard a participé dans l'équipe Suédoise et A.Laffen .... aucunes traces je sais pas qui est ce mec "
   ]
  },
  {
   "cell_type": "code",
   "execution_count": null,
   "id": "bdf58041",
   "metadata": {},
   "outputs": [],
   "source": [
    "df_athlete[df_athlete['NOC']=='ROT'].nunique()\n"
   ]
  },
  {
   "cell_type": "markdown",
   "id": "20b332c5",
   "metadata": {},
   "source": [
    "12 participations parmi 10 athlètes qui ont participé aux JO ces dernières années sous la team des athlètes réfugiés. "
   ]
  },
  {
   "cell_type": "code",
   "execution_count": null,
   "id": "0046f005",
   "metadata": {},
   "outputs": [],
   "source": [
    "df_athlete=df_athlete.query(\" NOC !='ROC' and NOC != 'UNK' \")"
   ]
  },
  {
   "cell_type": "markdown",
   "id": "b5b135c8",
   "metadata": {},
   "source": [
    "## Base données région "
   ]
  },
  {
   "cell_type": "code",
   "execution_count": null,
   "id": "4ed18476",
   "metadata": {},
   "outputs": [],
   "source": [
    "df_regions=pd.read_csv('data/noc_regions.csv')\n",
    "\n",
    "df_regions=df_regions.rename(columns={'region':'Country'})\n",
    "df_regions"
   ]
  },
  {
   "cell_type": "code",
   "execution_count": null,
   "id": "385765ad",
   "metadata": {},
   "outputs": [],
   "source": [
    "df_regions.nunique()"
   ]
  },
  {
   "cell_type": "markdown",
   "id": "8e41b012",
   "metadata": {},
   "source": [
    "Il y a des régions qui ont le même NOC "
   ]
  },
  {
   "cell_type": "code",
   "execution_count": null,
   "id": "43945071",
   "metadata": {},
   "outputs": [],
   "source": [
    "duplicates=[df_regions.duplicated(subset='Country')]"
   ]
  },
  {
   "cell_type": "code",
   "execution_count": null,
   "id": "fd5494fc",
   "metadata": {},
   "outputs": [],
   "source": [
    "df_regions[df_regions.duplicated(subset='Country')]"
   ]
  },
  {
   "cell_type": "code",
   "execution_count": null,
   "id": "ede869cc",
   "metadata": {},
   "outputs": [],
   "source": [
    "df_regions.isnull().sum()"
   ]
  },
  {
   "cell_type": "code",
   "execution_count": null,
   "id": "3a8372e7",
   "metadata": {},
   "outputs": [],
   "source": [
    "df_regions[df_regions['Country'].isnull()]"
   ]
  },
  {
   "cell_type": "markdown",
   "id": "8cee8860",
   "metadata": {},
   "source": [
    "Il y a  3 des regions qui ne sont pas attribuées, ROT ( refugee olympic team)  , TUVALU ( 9 archipels qui constituent un État ) et UNK qui correspond à Unknown "
   ]
  },
  {
   "cell_type": "markdown",
   "id": "5379dcc6",
   "metadata": {},
   "source": [
    "### On ajoute les iles TUVALU "
   ]
  },
  {
   "cell_type": "code",
   "execution_count": null,
   "id": "d19aad00",
   "metadata": {},
   "outputs": [],
   "source": [
    "df_regions[df_regions['Country'].isnull()]"
   ]
  },
  {
   "cell_type": "code",
   "execution_count": null,
   "id": "8ec0d495",
   "metadata": {},
   "outputs": [],
   "source": [
    "df_regions=df_regions.query(\" NOC != 'ROT' and NOC != 'UNK' \")\n",
    "\n",
    "df_regions.isnull().sum()"
   ]
  },
  {
   "cell_type": "code",
   "execution_count": null,
   "id": "2c30bf44",
   "metadata": {},
   "outputs": [],
   "source": [
    "df_regions['Country']=df_regions['Country'].fillna('Tuvalu')"
   ]
  },
  {
   "cell_type": "code",
   "execution_count": null,
   "id": "4b23fe5a",
   "metadata": {},
   "outputs": [],
   "source": [
    "df_regions[df_regions['Country']=='Tuvalu']"
   ]
  },
  {
   "cell_type": "code",
   "execution_count": null,
   "id": "0c29451d",
   "metadata": {},
   "outputs": [],
   "source": [
    "df_regions.isnull().sum()"
   ]
  },
  {
   "cell_type": "markdown",
   "id": "bc0ef96d",
   "metadata": {},
   "source": [
    "# On va merge les dataframes "
   ]
  },
  {
   "cell_type": "markdown",
   "id": "404665a5",
   "metadata": {},
   "source": [
    "## Merge en left "
   ]
  },
  {
   "cell_type": "code",
   "execution_count": null,
   "id": "001a4bd1",
   "metadata": {},
   "outputs": [],
   "source": [
    "df_complete=pd.merge(pd.merge(df_athlete,df_regions,on='NOC',how='left'),df_dictionnary,on='NOC',how='left')\n",
    "#df_complete=df_complete.drop(labels='',axis=1)\n",
    "\n",
    "df_complete"
   ]
  },
  {
   "cell_type": "code",
   "execution_count": null,
   "id": "5996b466",
   "metadata": {},
   "outputs": [],
   "source": []
  },
  {
   "cell_type": "code",
   "execution_count": null,
   "id": "e7992632",
   "metadata": {},
   "outputs": [],
   "source": [
    "df_complete=df_complete.query(\" NOC !='ROC' \")"
   ]
  },
  {
   "cell_type": "code",
   "execution_count": null,
   "id": "b8208952",
   "metadata": {
    "scrolled": true
   },
   "outputs": [],
   "source": [
    "#df_complete.info()"
   ]
  },
  {
   "cell_type": "markdown",
   "id": "2266791c",
   "metadata": {},
   "source": [
    "282 627 lignes , c'est normal on a enlevé les  réfugiés"
   ]
  },
  {
   "cell_type": "code",
   "execution_count": null,
   "id": "57b1b780",
   "metadata": {},
   "outputs": [],
   "source": [
    "df_complete.loc[(df_complete['Medal'].isna(),'Medal')]=0\n",
    "\n"
   ]
  },
  {
   "cell_type": "markdown",
   "id": "ea88cfda",
   "metadata": {},
   "source": [
    "## Encoding test "
   ]
  },
  {
   "cell_type": "code",
   "execution_count": null,
   "id": "b786455c",
   "metadata": {},
   "outputs": [],
   "source": [
    "dictio_score_medaille={'Pas_medaille':0,\n",
    "                      'Bronze':1,\n",
    "                      'Silver':2,\n",
    "                      'Gold':3}\n",
    "\n",
    "df_complete['Score_medaille']=df_complete['Medal'].map(dictio_score_medaille)\n",
    "\n",
    "df_complete"
   ]
  },
  {
   "cell_type": "code",
   "execution_count": null,
   "id": "e2f440db",
   "metadata": {},
   "outputs": [],
   "source": [
    "#Marche aussi \n",
    "''' \n",
    "medaille_categories=['Pas_medaille','Bronze','Silver','Gold']\n",
    "encode_medaille=preprocessing.OrdinalEncoder(categories=[medaille_categories])\n",
    "\n",
    "df_complete['enc_medal']=encode_medaille.fit_transform(df_complete[['Medal']])\n",
    "\n",
    "df_complete\n",
    "''' "
   ]
  },
  {
   "cell_type": "markdown",
   "id": "cc8d1124",
   "metadata": {},
   "source": [
    "## Analyse valeurs nulles "
   ]
  },
  {
   "cell_type": "code",
   "execution_count": null,
   "id": "53d43ec6",
   "metadata": {},
   "outputs": [],
   "source": [
    "df_complete.isna().sum()"
   ]
  },
  {
   "cell_type": "markdown",
   "id": "ad571996",
   "metadata": {},
   "source": [
    "156 sports où on sait pas ce que c'est .... et des country (26 221) qui ne sont pas attribués non plus "
   ]
  },
  {
   "cell_type": "markdown",
   "id": "f06d731d",
   "metadata": {},
   "source": [
    "Pour les Country , on va merge "
   ]
  },
  {
   "cell_type": "code",
   "execution_count": null,
   "id": "b9e140a7",
   "metadata": {},
   "outputs": [],
   "source": [
    "#df_complete_test=df_complete.copy()\n",
    "\n",
    "df_complete=pd.merge(df_complete,df_regions,on='NOC',how='left')\n",
    "\n",
    "df_complete['Country']=df_complete['Country_y'].fillna(df_complete['Country_x'])"
   ]
  },
  {
   "cell_type": "code",
   "execution_count": null,
   "id": "7da8d24e",
   "metadata": {},
   "outputs": [],
   "source": [
    "df_complete= df_complete.drop(['Country_x', 'Country_y'], axis=1)"
   ]
  },
  {
   "cell_type": "code",
   "execution_count": null,
   "id": "85f345e0",
   "metadata": {
    "scrolled": true
   },
   "outputs": [],
   "source": [
    "liste_pays=df_regions['Country'].tolist()\n",
    "liste_NOC=df_regions['NOC'].tolist()\n",
    "\n",
    "dictio_NOC_pays=dict(zip(liste_NOC,liste_pays))\n",
    "\n",
    "dictio_NOC_pays['SGP']='Singapour'\n",
    "dictio_NOC_pays['LBN']='Liban'\n",
    "\n",
    "\n",
    "df_complete['Country']=df_complete['Country'].fillna(df_complete['NOC'].map(dictio_NOC_pays))\n",
    "#liste_region\n",
    "\n",
    "#df_complete_test.isna().sum()"
   ]
  },
  {
   "cell_type": "code",
   "execution_count": null,
   "id": "cbb63273",
   "metadata": {},
   "outputs": [],
   "source": [
    "#test=df_complete_test[df_complete_test['Country'].isna()]\n",
    "\n",
    "#test['Country']=test['Country'].fillna(test['NOC'].map(dictio_NOC_pays))\n",
    "\n",
    "#test.groupby('NOC')['Name'].count().reset_index()"
   ]
  },
  {
   "cell_type": "markdown",
   "id": "f12aa432",
   "metadata": {},
   "source": [
    "Il y a quatre NOC qui ne correspondent à aucun pays dans notre EOR : réfugiés , ROT réfugiés aussi , LBN c'est le Liban (Lebanon en anglais )"
   ]
  },
  {
   "cell_type": "code",
   "execution_count": null,
   "id": "caca7705",
   "metadata": {},
   "outputs": [],
   "source": [
    "df_complete=df_complete.query(\" NOC !='ROT' and NOC !='EOR' \")\n",
    "\n"
   ]
  },
  {
   "cell_type": "code",
   "execution_count": null,
   "id": "40d3bb95",
   "metadata": {},
   "outputs": [],
   "source": [
    "df_complete=df_complete.drop(['notes_x','notes_y'],axis=1)"
   ]
  },
  {
   "cell_type": "markdown",
   "id": "6202ffb7",
   "metadata": {},
   "source": [
    "## Opérations sur les sports "
   ]
  },
  {
   "cell_type": "code",
   "execution_count": null,
   "id": "5a9660fa",
   "metadata": {},
   "outputs": [],
   "source": [
    "liste_sports=df_complete['Sport'].unique().tolist()\n",
    "\n",
    "print(liste_sports)"
   ]
  },
  {
   "cell_type": "code",
   "execution_count": null,
   "id": "7da8bef5",
   "metadata": {},
   "outputs": [],
   "source": [
    "table_sport=df_complete.groupby('Sport')['Name'].count().reset_index()\n",
    "\n",
    "table_sport"
   ]
  },
  {
   "cell_type": "code",
   "execution_count": null,
   "id": "1fa11e5a",
   "metadata": {},
   "outputs": [],
   "source": [
    "df_complete=df_complete[df_complete['Year']>=2000]"
   ]
  },
  {
   "cell_type": "code",
   "execution_count": null,
   "id": "412c0826",
   "metadata": {},
   "outputs": [],
   "source": [
    "df_complete"
   ]
  },
  {
   "cell_type": "markdown",
   "id": "77c5a0d5",
   "metadata": {},
   "source": [
    "## Opérations sur les Ages"
   ]
  },
  {
   "cell_type": "code",
   "execution_count": null,
   "id": "0a023d64",
   "metadata": {},
   "outputs": [],
   "source": [
    "table_sport_age=df_complete.groupby('Sport')['Age'].mean().apply(m.ceil).reset_index()\n",
    "\n",
    "table_sport_age"
   ]
  },
  {
   "cell_type": "code",
   "execution_count": null,
   "id": "05fbf5f4",
   "metadata": {},
   "outputs": [],
   "source": [
    "liste_sport=table_sport_age['Sport'].tolist()\n",
    "liste_age=table_sport_age['Age'].tolist()\n",
    "\n",
    "dictio_age_sport=dict(zip(liste_sport,liste_age))"
   ]
  },
  {
   "cell_type": "code",
   "execution_count": null,
   "id": "0ced09cb",
   "metadata": {},
   "outputs": [],
   "source": [
    "df_complete['Age']=df_complete['Age'].fillna(df_complete['Sport'].map(dictio_age_sport))\n",
    "\n",
    "df_complete.isna().sum()"
   ]
  },
  {
   "cell_type": "code",
   "execution_count": null,
   "id": "0ee2fb21",
   "metadata": {},
   "outputs": [],
   "source": [
    "df_complete[df_complete['Age'].isna()].groupby('Medal')['Name'].count().reset_index()"
   ]
  },
  {
   "cell_type": "code",
   "execution_count": null,
   "id": "cb8586ea",
   "metadata": {},
   "outputs": [],
   "source": [
    "#df_tokyo=pd.read_csv('data/athlete_events_tokyo_cleaned.csv')\n",
    "\n",
    "#df_tokyo.isna().sum()"
   ]
  },
  {
   "cell_type": "markdown",
   "id": "15512790",
   "metadata": {},
   "source": [
    "Enfaite il y a 156 personnes qui manquent prcq c'est les qu'on a pas les sport "
   ]
  },
  {
   "cell_type": "code",
   "execution_count": null,
<<<<<<< HEAD
=======
   "id": "be8f900c",
   "metadata": {},
   "outputs": [],
   "source": []
  },
  {
   "cell_type": "code",
   "execution_count": 45,
>>>>>>> dedd343a1632104211abf13ab13adb5803d9199a
   "id": "6e3b0fe3",
   "metadata": {},
   "outputs": [],
   "source": [
    "df_complete=df_complete.dropna(subset='Age')"
   ]
  },
  {
   "cell_type": "code",
   "execution_count": null,
   "id": "e1387447",
   "metadata": {},
   "outputs": [],
   "source": [
    "df_complete.isna().sum()"
   ]
  },
  {
   "cell_type": "markdown",
   "id": "c349247c",
   "metadata": {},
   "source": [
    "## Opérations sur les poids et les tailles "
   ]
  },
  {
   "cell_type": "code",
   "execution_count": null,
   "id": "fd8c29f2",
   "metadata": {},
   "outputs": [],
   "source": [
    "df_complete.isna().sum()"
   ]
  },
  {
   "cell_type": "code",
   "execution_count": null,
   "id": "045f1523",
   "metadata": {},
   "outputs": [],
   "source": [
    "table_taille=df_complete[df_complete['Height'].isna()==False].groupby(['Sport'])['Height'].mean().apply(m.ceil).reset_index()\n",
    "\n",
    "liste_sport=table_taille['Sport'].tolist()\n",
    "#liste_sex=table_taille['Sex'].tolist()\n",
    "liste_taille=table_taille['Height'].tolist()\n",
    "print(table_taille)\n",
    "liste_sport_sex=[]\n",
    "for i in range(len(liste_sport)):\n",
    "    liste_sport_sex.append((liste_sport[i],liste_taille[i]))\n",
    "#print(liste_sport_sex)\n",
    "\n",
    "dictio_sport_sex=dict(zip(liste_sport,liste_taille))\n",
    "\n"
   ]
  },
  {
   "cell_type": "code",
   "execution_count": null,
   "id": "8bc90a6f",
   "metadata": {},
   "outputs": [],
   "source": [
    "df_complete['Height'] = df_complete['Height'].fillna(df_complete['Sport'].map(dictio_sport_sex))\n",
    "\n",
    "\n",
    "df_complete.isna().sum()"
   ]
  },
  {
   "cell_type": "code",
   "execution_count": null,
   "id": "4bc0ad8a",
   "metadata": {},
   "outputs": [],
   "source": [
    "#df_complete[df_complete['Height'].isna()]"
   ]
  },
  {
   "cell_type": "code",
   "execution_count": null,
   "id": "a99f8034",
   "metadata": {},
   "outputs": [],
   "source": [
    "table_poids=df_complete[df_complete['Weight'].isna()==False].groupby(['Sport'])['Weight'].mean().apply(m.ceil).reset_index()\n",
    "\n",
    "liste_sport_2=table_poids['Sport'].tolist()\n",
    "#liste_sex=table_taille['Sex'].tolist()\n",
    "liste_poids=table_poids['Weight'].tolist()\n",
    "\n",
    "\n",
    "\n",
    "dictio_sport_poids=dict(zip(liste_sport_2,liste_poids))"
   ]
  },
  {
   "cell_type": "code",
   "execution_count": null,
   "id": "c2a973fe",
   "metadata": {},
   "outputs": [],
   "source": [
    "df_complete['Weight'] = df_complete['Weight'].fillna(df_complete['Sport'].map(dictio_sport_poids))\n",
    "\n",
    "\n",
    "df_complete.info()"
   ]
  },
  {
   "cell_type": "code",
   "execution_count": null,
   "id": "99d3118a",
   "metadata": {},
   "outputs": [],
   "source": [
    "df_complete=df_complete[df_complete['Season']=='Summer']\n",
    "\n",
    "df_complete"
   ]
  },
  {
   "cell_type": "markdown",
   "id": "1423f245",
   "metadata": {},
   "source": [
    "## Moyenne par pays pour les sports qu'on ne connait pas \n"
   ]
  },
  {
   "cell_type": "code",
   "execution_count": null,
   "id": "d0c99e97",
   "metadata": {},
   "outputs": [],
   "source": [
    "table_pays_1=df_complete[df_complete['Weight'].isna()==False].groupby(['Country'])['Weight'].mean().apply(m.ceil).reset_index()\n",
    "\n",
    "liste_pays_1=table_pays_1['Country'].tolist()\n",
    "#liste_sex=table_taille['Sex'].tolist()\n",
    "liste_poids_1=table_pays_1['Weight'].tolist()\n",
    "\n",
    "\n",
    "\n",
    "dictio_pays_poids_1=dict(zip(liste_pays_1,liste_poids_1))\n",
    "df_complete['Weight'] = df_complete['Weight'].fillna(df_complete['Country'].map(dictio_pays_poids_1))"
   ]
  },
  {
   "cell_type": "code",
   "execution_count": null,
   "id": "d4bd49b2",
   "metadata": {},
   "outputs": [],
   "source": [
    "table_pays_2=df_complete[df_complete['Height'].isna()==False].groupby(['Country'])['Height'].mean().apply(m.ceil).reset_index()\n",
    "\n",
    "liste_pays_2=table_pays_2['Country'].tolist()\n",
    "#liste_sex=table_taille['Sex'].tolist()\n",
    "liste_poids_2=table_pays_2['Height'].tolist()\n",
    "\n",
    "\n",
    "\n",
    "dictio_pays_poids_2=dict(zip(liste_pays_2,liste_poids_2))\n",
    "df_complete['Height'] = df_complete['Height'].fillna(df_complete['Country'].map(dictio_pays_poids_2))\n",
    "\n",
    "#df_complete.isna().sum()"
   ]
  },
  {
   "cell_type": "code",
   "execution_count": null,
   "id": "9a735c45",
   "metadata": {},
   "outputs": [],
   "source": [
    "#df_complete.to_csv('data/df_merge_FLO.csv', index=False)"
   ]
  },
  {
   "cell_type": "markdown",
   "id": "3bb7a25a",
   "metadata": {},
   "source": [
    "## Web Scrapping FLo "
   ]
  },
  {
   "cell_type": "code",
   "execution_count": null,
   "id": "95e847e5",
   "metadata": {},
   "outputs": [],
   "source": [
    "from bs4 import BeautifulSoup\n",
    "import requests"
   ]
  },
  {
   "cell_type": "code",
   "execution_count": null,
   "id": "4f0622f3",
   "metadata": {},
   "outputs": [],
   "source": [
    "url='https://www.topendsports.com/events/summer/hosts/list.htm'\n",
    "response=requests.get(url)"
   ]
  },
  {
   "cell_type": "code",
   "execution_count": null,
   "id": "c7741c71",
   "metadata": {},
   "outputs": [],
   "source": [
    "url_2='https://en.wikipedia.org/wiki/List_of_Olympic_Games_host_cities'"
   ]
  },
  {
   "cell_type": "code",
   "execution_count": null,
   "id": "116cdb09",
   "metadata": {},
   "outputs": [],
   "source": [
    "response_2=requests.get(url_2)\n"
   ]
  },
  {
   "cell_type": "code",
   "execution_count": null,
   "id": "e1d2e3ac",
   "metadata": {},
   "outputs": [],
   "source": [
    "soup_2=BeautifulSoup(response_2.text,'html.parser')\n"
   ]
  },
  {
   "cell_type": "markdown",
   "id": "f2bd3958",
   "metadata": {},
   "source": [
    "## On scrapp les pays organisateurs "
   ]
  },
  {
   "cell_type": "code",
   "execution_count": null,
   "id": "aa08e5a4",
   "metadata": {},
   "outputs": [],
   "source": [
    "L_pays=[]\n",
    "L_annees=[]\n",
    "elements=soup_2.findAll('span',class_='datasortkey')\n",
    "\n",
    "for element in elements:\n",
    "    pays=element.find('a').text\n",
    "    L_pays.append(pays)\n",
    "\n",
    "L_pays=L_pays[42:58]\n",
    "\n",
    "\n"
   ]
  },
  {
   "cell_type": "code",
   "execution_count": null,
   "id": "477dc922",
   "metadata": {},
   "outputs": [],
   "source": [
    "L_annees_2=[2000 + i  for i in range(0,34,2)]\n",
    "L_annees_2.pop(-2)\n",
    "\n",
    "L_annees_2"
   ]
  },
  {
   "cell_type": "code",
   "execution_count": null,
   "id": "286f07fd",
   "metadata": {},
   "outputs": [],
   "source": [
    "# On lie les pays et les années\n",
    "L_pays_annee=[]\n",
    "for i in range(len(L_pays)):\n",
    "    L_pays_annee.append((L_pays[i],L_annees_2[i]))\n",
    "\n",
    "df_hote=pd.DataFrame(L_pays_annee,columns=['Host_country','Year'])\n",
    "\n",
    "df_hote\n",
    "\n",
    "\n"
   ]
  },
  {
   "cell_type": "code",
   "execution_count": null,
   "id": "30bb3f61",
   "metadata": {},
   "outputs": [],
   "source": [
    "df_complete"
   ]
  },
  {
   "cell_type": "code",
   "execution_count": null,
   "id": "b9971ce5",
   "metadata": {},
   "outputs": [],
   "source": [
    "df_complete=pd.merge(df_complete,df_hote,on='Year',how='left')\n",
    "\n",
    "df_complete"
   ]
  },
  {
   "cell_type": "code",
   "execution_count": null,
   "id": "250dd3f1",
   "metadata": {},
   "outputs": [],
   "source": [
    "compare_col=lambda x : 1 if x['Country']==x['Host_country'] else 0 \n",
    "\n",
    "\n"
   ]
  },
  {
   "cell_type": "code",
   "execution_count": null,
   "id": "89c4ae12",
   "metadata": {},
   "outputs": [],
   "source": [
    "df_complete['Participation_own_country']=df_complete.apply(compare_col,axis=1)\n",
    "\n",
    "df_complete[df_complete['Participation_own_country']==1]"
   ]
  },
  {
   "cell_type": "code",
   "execution_count": null,
   "id": "2f1d5146",
   "metadata": {},
   "outputs": [],
   "source": [
    "table_sports=df_complete.groupby('Sport')['Name'].count().reset_index()\n",
    "\n",
    "table_sports"
   ]
  },
  {
   "cell_type": "markdown",
   "id": "e8c48869",
   "metadata": {},
   "source": [
    "## Dictionnaire group sport"
   ]
  },
  {
   "cell_type": "markdown",
   "id": "0fbe4062",
   "metadata": {},
   "source": [
    "On va essayer de scrapper les sports individuels et les collectifs \n"
   ]
  },
  {
   "cell_type": "code",
   "execution_count": null,
   "id": "8bcd8479",
   "metadata": {},
   "outputs": [],
   "source": [
    "url_sports='https://www.britannica.com/topic/list-of-sports-2038581#ref330452'"
   ]
  },
  {
   "cell_type": "code",
   "execution_count": null,
   "id": "14bcf04c",
   "metadata": {},
   "outputs": [],
   "source": [
    "response_sp=requests.get(url_sports)"
   ]
  },
  {
   "cell_type": "code",
   "execution_count": null,
   "id": "5af26ea7",
   "metadata": {},
   "outputs": [],
   "source": [
    "soup_sports=BeautifulSoup(response_sp.text,'html.parser')\n"
   ]
  },
  {
   "cell_type": "code",
   "execution_count": null,
   "id": "b6cc5fe2",
   "metadata": {},
   "outputs": [],
   "source": [
    "sports=soup_sports.findAll('div')\n",
    "L_sports_indiv=[]\n",
    "for sport in sports:\n",
    "    a=sport.find('a',class_='md-crosslink')\n",
    "    if a is not None:\n",
    "        L_sports_indiv.append(a.text)\n",
    "   \n",
    "    \n",
    "L_sports_collec=[]\n",
    "\n",
    "sports_co=soup_sports.findAll('section',id='ref330452')\n",
    "\n",
    "for sport in sports_co:\n",
    "    b=sport.find('a',class_='md-crosslink')\n",
    "    print(b)\n",
    "   \n",
    "        \n",
    "#sports"
   ]
  },
  {
   "cell_type": "markdown",
   "id": "6ac63179",
   "metadata": {},
   "source": [
    "## Pays passé communiste "
   ]
  },
  {
   "cell_type": "code",
   "execution_count": null,
   "id": "167c384e",
   "metadata": {},
   "outputs": [],
   "source": [
    "url_soviet='https://en.wikipedia.org/wiki/Post-Soviet_states'"
   ]
  },
  {
   "cell_type": "code",
   "execution_count": null,
   "id": "a556392b",
   "metadata": {},
   "outputs": [],
   "source": [
    "response_soviet=requests.get(url_soviet)"
   ]
  },
  {
   "cell_type": "code",
   "execution_count": null,
   "id": "7d97caf6",
   "metadata": {},
   "outputs": [],
   "source": [
    "soup_soviet=BeautifulSoup(response_soviet.text,'html.parser')"
   ]
  },
  {
   "cell_type": "code",
   "execution_count": null,
   "id": "bf2f7bb8",
   "metadata": {},
   "outputs": [],
   "source": [
    "L_pays_soviet=[]\n",
    "\n",
    "pays_soviet=soup_soviet.findAll('b')\n",
    "#print(pays_soviet)\n",
    "for pays in pays_soviet:\n",
    "    b=pays.find('a')\n",
    "    if b is not None:\n",
    "        L_pays_soviet.append(b.text)\n",
    "L_pays_soviet=L_pays_soviet[:15]\n",
    "\n",
    "L_pays_soviet"
   ]
  },
  {
   "cell_type": "code",
   "execution_count": null,
   "id": "8ae73df2",
   "metadata": {},
   "outputs": [],
   "source": [
    "complete_urss_regime=lambda x : 1 if x in L_pays_soviet else 0"
   ]
  },
  {
   "cell_type": "code",
   "execution_count": null,
   "id": "767c1e58",
   "metadata": {},
   "outputs": [],
   "source": [
    "df_complete['Soviet_past']=df_complete['Country'].apply(complete_urss_regime)\n",
    "\n"
   ]
  },
  {
   "cell_type": "code",
   "execution_count": null,
   "id": "f0ac092b",
   "metadata": {},
   "outputs": [],
   "source": [
    "df_complete.isna().sum()"
   ]
  },
  {
   "cell_type": "code",
   "execution_count": null,
   "id": "e6e54754",
   "metadata": {},
   "outputs": [],
   "source": [
    "df_pop_na=df_complete[df_complete['Population'].isna()]\n",
    "\n",
    "#df_pop_na.groupby('Country')['Name'].count().reset_index()"
   ]
  },
  {
   "cell_type": "markdown",
   "id": "843edef5",
   "metadata": {},
   "source": [
    "## Scrap Population et GPA "
   ]
  },
  {
   "cell_type": "code",
   "execution_count": null,
   "id": "b85cb1ce",
   "metadata": {},
   "outputs": [],
   "source": [
    "import re"
   ]
  },
  {
   "cell_type": "code",
   "execution_count": null,
   "id": "dc3a6275",
   "metadata": {},
   "outputs": [],
   "source": [
    "url_pop_gpa='https://www.worldometers.info/gdp/gdp-by-country/'"
   ]
  },
  {
   "cell_type": "code",
   "execution_count": null,
   "id": "2ee2e6ad",
   "metadata": {},
   "outputs": [],
   "source": [
    "response_pop_gpa=requests.get(url_pop_gpa)\n"
   ]
  },
  {
   "cell_type": "code",
   "execution_count": null,
   "id": "6cbe6812",
   "metadata": {},
   "outputs": [],
   "source": [
    "soup_pop_gpa=BeautifulSoup(response_pop_gpa.text,'html.parser')\n"
   ]
  },
  {
   "cell_type": "code",
   "execution_count": null,
   "id": "f6c83bbb",
   "metadata": {},
   "outputs": [],
   "source": [
    "L_pays=[]\n",
    "\n",
    "all_countries=soup_pop_gpa.findAll('td')\n",
    "\n",
    "for country in all_countries:\n",
    "    a=country.find('a')\n",
    "    if a is not None:\n",
    "        L_pays.append(a.text)\n",
    "len(L_pays)"
   ]
  },
  {
   "cell_type": "code",
   "execution_count": null,
   "id": "ad4439c3",
   "metadata": {},
   "outputs": [],
   "source": [
    "#b=re.findall(r'\\d+\\,?\\d*|\\d+\\.\\d+', info.text)"
   ]
  },
  {
   "cell_type": "code",
   "execution_count": null,
   "id": "489d78b5",
   "metadata": {},
   "outputs": [],
   "source": [
    "all_info=soup_pop_gpa.findAll('td',attrs={'style':'font-weight: bold; text-align:right;'})\n",
    "#print(all_info)\n",
    "numbers=[]\n",
    "for i,info in enumerate(all_info):\n",
    "    b=re.findall(r'\\d+\\b', info.text)\n",
    "    b=''.join(b)\n",
    "    numbers.append(b)\n",
    "   \n",
    " \n",
    "    #b=[number.replace(',','.') for number in b]\n",
    "#print(len(numbers))\n",
    "population=[]\n",
    "gpd_per_habitant=[]\n",
    "PIB_liste=[]\n",
    "for i in range(0,len(numbers),6):\n",
    "    PIB_liste.append(int(numbers[i]))\n",
    "for i in range(3,len(numbers),6):\n",
    "    population.append(int(numbers[i]))\n",
    "for i in range(4,len(numbers),6):\n",
    "    gpd_per_habitant.append(int(numbers[i]))\n",
    "    \n",
    "#print(len(population))\n",
    "#print(len(gpd_per_habitant))\n",
    "\n",
    "print(len(PIB_liste))\n",
    "PIB_liste"
   ]
  },
  {
   "cell_type": "code",
   "execution_count": null,
   "id": "6107bb97",
   "metadata": {},
   "outputs": [],
   "source": [
    "df_pop_gpd=pd.DataFrame({'Country':L_pays,'PIB':PIB_liste,'Population':population,'PIB/habitant':gpd_per_habitant})\n",
    "\n",
    "df_pop_gpd['Country']=df_pop_gpd['Country'].replace('Trinidad and Tobago','Trinidad')\n",
    "df_pop_gpd['Country']=df_pop_gpd['Country'].replace('State of Palestine','Palestine, Occupied Territories')\n",
    "df_pop_gpd['Country']=df_pop_gpd['Country'].replace('Singapore','Singapour')\n",
    "df_pop_gpd['Country']=df_pop_gpd['Country'].replace('Czech Republic (Czechia)','Czech Republic')\n",
    "df_pop_gpd['Country']=df_pop_gpd['Country'].replace(\"Côte d'Ivoire\" ,\"Cote d'Ivoire\")\n",
    "\n",
    "\n",
    "\n",
    "\n",
    "df_pop_gpd\n",
    "#df_pop_gpd[df_pop_gpd['Country']=='Iran']\n"
   ]
  },
  {
   "cell_type": "code",
   "execution_count": null,
   "id": "d3ab5f27",
   "metadata": {},
   "outputs": [],
   "source": []
  },
  {
   "cell_type": "code",
   "execution_count": null,
   "id": "02cbdc78",
   "metadata": {},
   "outputs": [],
   "source": [
    "df_pop_gpd=pd.concat([df_pop_gpd,pd.DataFrame([['Taiwan',762670000000,23923276,44460],\n",
    "                                               ['Cook Islands',220000000,17044,13558],\n",
    "                                               ['Eritrea',1960000000,3684000,1067],\n",
    "                                               ['Kosovo',9410000000,1760000,5340],\n",
    "                                               ['Lebanon',23130000000,5425542,4136],\n",
    "                                               ['Netherlands Antilles',3810000000,27148,11400],\n",
    "                                               ['South Sudan',12000000000,11000000,467]\n",
    "                                               ],\n",
    "                                             columns=['Country','PIB','Population','PIB/habitant'])],ignore_index=True)"
   ]
  },
  {
   "cell_type": "code",
   "execution_count": null,
   "id": "067bc7b1",
   "metadata": {},
   "outputs": [],
   "source": [
    "#df_pop_gpd"
   ]
  },
  {
   "cell_type": "markdown",
   "id": "3e0e3bd0",
   "metadata": {},
   "source": [
    "## Ne pas relancer les cellules avec des pd.concat sinon ça ajoute les mêmes éléments plusieurs fois "
   ]
  },
  {
   "cell_type": "code",
   "execution_count": null,
   "id": "201ac158",
   "metadata": {},
   "outputs": [],
   "source": [
    "df_pop_gpd=pd.concat([df_pop_gpd,pd.DataFrame([['American Samoa',871000000,43914,19673],\n",
    "                                              ['Aruba',3545000000,106445,333000],\n",
    "                                              ['Bermuda',7645000000,63532,118774],\n",
    "                                               ['British Virgin Islands',1751000000,31707,34246],\n",
    "                                               ['Virgin Islands',4440000000,105413,41974],\n",
    "                                               ['Cayman Islands',6845000000,69310,99624],\n",
    "                                               ['Cuba',633400000000,11179471,56495],\n",
    "                                               ['Guam',6123000000,173825,35904],\n",
    "                                               ['North Korea',48000000000,26070000,33719],\n",
    "                                               ['Liechtenstein',7710000000,39039,197504],\n",
    "                                               ['Monaco',8784000000,39050,240862],\n",
    "                                               ['Puerto Rico',113400000000,3260314,35208],\n",
    "                                               ['San Marino',1855000000,33642,53000],\n",
    "                                               ['Syria',8970000000,22130000,420],\n",
    "                                               ['Venezuela',92000000000,29254044,2624],\n",
    "                                               ['Virgin Islands*',4444000000,105413,41976],\n",
    "                                               ['Afghanistan',14583135237,42239000,363.73],\n",
    "                                               ['Bhutan',2539551327,782455,3560],\n",
    "                                               ['Brunei',16760000000,449000,37152],\n",
    "                                               ['Burma',62260000000,54180000,1149],\n",
    "                                               ['Cape Verde',2227000000,593000,3754],\n",
    "                                               ['Djibouti',3515000000,1121000,3136],\n",
    "                                               [\"East Timor (Timor-Leste)\",3205000000,1341000,2389],\n",
    "                                               ['Macedonia',13560000000,2058000,6591],\n",
    "                                               ['Nauru',151600000,12668,11970],\n",
    "                                               ['Palau',232000000,18055,12921],\n",
    "                                               ['Saint Kitts and Nevis',965000000,47000,20262],\n",
    "                                               ['Saint Vincent and the Grenadines',948000000,9123,9125],\n",
    "                                               ['Sao Tome and Principe',542000000,227380,2386],\n",
    "                                               ['Somalia',10042000000,17000000,592],\n",
    "                                               ['Swaziland',4791000000,1202000,3986],\n",
    "                                               ['Tonga',469000000,106858,4425],\n",
    "                                               ['Turkmenistan',56540000000,6431000,8792],\n",
    "                                               ['Yemen',21160000000,33700000,650]\n",
    "                                              ],\n",
    "                                              columns=['Country','PIB','Population','PIB/habitant'])],ignore_index=True)"
   ]
  },
  {
   "cell_type": "code",
   "execution_count": null,
   "id": "76453791",
   "metadata": {},
   "outputs": [],
   "source": [
    "df_pop_gpd"
   ]
  },
  {
   "cell_type": "markdown",
   "id": "8a3d17a9",
   "metadata": {},
   "source": [
    "## On va renommer les colonnes prcq on s'y perd avec les * "
   ]
  },
  {
   "cell_type": "markdown",
   "id": "c6a9906f",
   "metadata": {},
   "source": [
    "## Dictionnaire pour remplir les valeurs NaN de Pop et PIB sans changer les valeurs de pop et PIB per habitant précédentes"
   ]
  },
  {
   "cell_type": "code",
   "execution_count": null,
   "id": "2fd8884a",
   "metadata": {},
   "outputs": [],
   "source": [
    "dictio_pop_gpd=dict(zip(df_pop_gpd['Country'],df_pop_gpd['PIB']))\n",
    "\n",
    "dictio_pop_gpd"
   ]
  },
  {
   "cell_type": "markdown",
   "id": "b094b22c",
   "metadata": {},
   "source": [
    "## Changement de noms pour les pays "
   ]
  },
  {
   "cell_type": "code",
   "execution_count": null,
   "id": "4b2c0b08",
   "metadata": {},
   "outputs": [],
   "source": [
    "df_test=df_complete.copy()\n",
    "\n"
   ]
  },
  {
   "cell_type": "code",
   "execution_count": null,
   "id": "173f38fc",
   "metadata": {},
   "outputs": [],
   "source": [
    "df_test['Country']=df_test['Country'].replace('Puerto Rico*','Puerto Rico')\n",
    "df_test['Country']=df_test['Country'].replace('Hong Kong*','Hong Kong')\n",
    "df_test['Country']=df_test['Country'].replace('Korea, South','South Korea')\n",
    "df_test['Country']=df_test['Country'].replace('Korea, North','South Korea')\n",
    "df_test['Country']=df_test['Country'].replace('Liban','Lebanon')\n",
    "df_test['Country']=df_test['Country'].replace('Congo, Dem Rep','DR Congo')\n",
    "df_test['Country']=df_test['Country'].replace('Cayman Islands*','Cayman Islands')\n",
    "df_test['Country']=df_test['Country'].replace('Bermuda*','Bermuda')\n",
    "df_test['Country']=df_test['Country'].replace('Virgin Islands*','Virgin Islands')\n",
    "df_test['Country']=df_test['Country'].replace('Aruba*','Aruba')\n",
    "df_test['Country']=df_test['Country'].replace('American Samoa*','American Samoa')\n",
    "df_test['Country']=df_test['Country'].replace('Netherlands Antilles*','Netherlands Antilles')\n",
    "\n",
    "\n",
    "\n",
    "\n"
   ]
  },
  {
   "cell_type": "code",
   "execution_count": null,
   "id": "78c6eb7f",
   "metadata": {},
   "outputs": [],
   "source": [
    "df_test.head(20)"
   ]
  },
  {
   "cell_type": "markdown",
   "id": "3520177b",
   "metadata": {},
   "source": [
    "## Nouvelle dinguerie "
   ]
  },
  {
   "cell_type": "code",
   "execution_count": null,
   "id": "cb77c42c",
   "metadata": {},
   "outputs": [],
   "source": [
    "df_test.isna().sum()"
   ]
  },
  {
   "cell_type": "code",
   "execution_count": null,
   "id": "84e18b11",
   "metadata": {},
   "outputs": [],
   "source": [
    "df_test_na_pop=df_test[df_test['Population'].isna()]\n",
    "\n",
    "df_test_na_pop.isna().sum()"
   ]
  },
  {
   "cell_type": "code",
   "execution_count": null,
   "id": "d51ece58",
   "metadata": {},
   "outputs": [],
   "source": [
    "df_test_na_pop=pd.merge(df_test_na_pop,df_pop_gpd,on='Country',how='left')\n",
    "\n",
    "df_test_na_pop.isna().sum()"
   ]
  },
  {
   "cell_type": "code",
   "execution_count": null,
   "id": "1477c206",
   "metadata": {},
   "outputs": [],
   "source": [
    "df_test_na_pop=df_test_na_pop.drop(['Population_x'],axis=1)\n",
    "df_test_na_pop=df_test_na_pop.drop(['PIB/habitant_x'],axis=1)\n"
   ]
  },
  {
   "cell_type": "code",
   "execution_count": null,
   "id": "d88ecf96",
   "metadata": {},
   "outputs": [],
   "source": [
    "df_test_na_pop=df_test_na_pop.rename(columns={'Population_y':'Population'})\n",
    "df_test_na_pop=df_test_na_pop.rename(columns={'PIB/habitant_y':'PIB/habitant'})"
   ]
  },
  {
   "cell_type": "code",
   "execution_count": null,
   "id": "b5794561",
   "metadata": {},
   "outputs": [],
   "source": [
    "df_test_na_pop=df_test_na_pop.dropna(subset='Population')"
   ]
  },
  {
   "cell_type": "code",
   "execution_count": null,
   "id": "a2987f1e",
   "metadata": {},
   "outputs": [],
   "source": [
    "#df_test_na_pop.isna().sum()"
   ]
  },
  {
   "cell_type": "code",
   "execution_count": null,
   "id": "7293c446",
   "metadata": {},
   "outputs": [],
   "source": [
    "df_test=df_test.dropna(subset='Population')\n",
    "\n",
    "df_test.isna().info()"
   ]
  },
  {
   "cell_type": "code",
   "execution_count": null,
   "id": "a8b3929a",
   "metadata": {},
   "outputs": [],
   "source": [
    "df_test=pd.concat([df_test,df_test_na_pop],ignore_index=True)\n",
    "\n"
   ]
  },
  {
   "cell_type": "code",
   "execution_count": null,
   "id": "45ea26a4",
   "metadata": {
    "scrolled": true
   },
   "outputs": [],
   "source": [
    "df_test.info()"
   ]
  },
  {
   "cell_type": "markdown",
   "id": "d04131df",
   "metadata": {},
   "source": [
    "## On s'occupe du PIB "
   ]
  },
  {
   "cell_type": "code",
   "execution_count": null,
   "id": "db4063d0",
   "metadata": {},
   "outputs": [],
   "source": [
    "df_test_na_pib=df_test[df_test['PIB/habitant'].isna()]"
   ]
  },
  {
   "cell_type": "code",
   "execution_count": null,
   "id": "b81ed969",
   "metadata": {},
   "outputs": [],
   "source": [
    "df_test=df_test.dropna(subset='PIB/habitant')"
   ]
  },
  {
   "cell_type": "code",
   "execution_count": null,
   "id": "352b4acd",
   "metadata": {},
   "outputs": [],
   "source": [
    "df_test_na_pib=pd.merge(df_test_na_pib,df_pop_gpd,on='Country',how='left')\n",
    "\n",
    "df_test_na_pib.isna().sum()"
   ]
  },
  {
   "cell_type": "code",
   "execution_count": null,
   "id": "c414088f",
   "metadata": {},
   "outputs": [],
   "source": [
    "df_test_na_pib=df_test_na_pib.drop(['Population_x'],axis=1)\n",
    "df_test_na_pib=df_test_na_pib.drop(['PIB/habitant_x'],axis=1)\n",
    "df_test_na_pib=df_test_na_pib.drop(['PIB_x'],axis=1)"
   ]
  },
  {
   "cell_type": "code",
   "execution_count": null,
   "id": "646a3ad8",
   "metadata": {},
   "outputs": [],
   "source": [
    "df_test_na_pib=df_test_na_pib.rename(columns={'Population_y':'Population'})\n",
    "df_test_na_pib=df_test_na_pib.rename(columns={'PIB/habitant_y':'PIB/habitant'})\n",
    "df_test_na_pib=df_test_na_pib.rename(columns={'PIB_y':'PIB'})\n",
    "\n",
    "\n"
   ]
  },
  {
   "cell_type": "code",
   "execution_count": null,
   "id": "87f1ded8",
   "metadata": {},
   "outputs": [],
   "source": [
    "df_test_na_pib[df_test_na_pib['Population'].isna()]"
   ]
  },
  {
   "cell_type": "code",
   "execution_count": null,
   "id": "66ef85c1",
   "metadata": {},
   "outputs": [],
   "source": [
    "df_test_na_pib.isna().sum()"
   ]
  },
  {
   "cell_type": "code",
   "execution_count": null,
   "id": "d3987e0d",
   "metadata": {},
   "outputs": [],
   "source": [
    "df_test_na_pib.info()"
   ]
  },
  {
   "cell_type": "code",
   "execution_count": null,
   "id": "d0047512",
   "metadata": {},
   "outputs": [],
   "source": [
    "df_test=pd.concat([df_test,df_test_na_pib],ignore_index=True)"
   ]
  },
  {
   "cell_type": "code",
   "execution_count": null,
   "id": "4b619887",
   "metadata": {},
   "outputs": [],
   "source": [
    "df_test.isna().sum()"
   ]
  },
  {
   "cell_type": "markdown",
   "id": "13533c1a",
   "metadata": {},
   "source": [
    "## Attribution du PIB aux pays manquants "
   ]
  },
  {
   "cell_type": "code",
   "execution_count": null,
   "id": "fb0c26c1",
   "metadata": {},
   "outputs": [],
   "source": [
    "df_test['PIB']=df_test['PIB'].fillna(df_test['Country'].map(dictio_pop_gpd))"
   ]
  },
  {
   "cell_type": "code",
   "execution_count": null,
   "id": "984ee378",
   "metadata": {},
   "outputs": [],
   "source": [
    "df_test.isna().info()"
   ]
  },
  {
   "cell_type": "code",
   "execution_count": null,
   "id": "c798cde6",
   "metadata": {},
   "outputs": [],
   "source": [
    "\n"
   ]
  },
  {
   "cell_type": "code",
   "execution_count": null,
   "id": "2b89a48e",
   "metadata": {
    "scrolled": true
   },
   "outputs": [],
   "source": [
    "df_test_pib_na.groupby('Country')['Name'].count().reset_index()"
   ]
  },
  {
   "cell_type": "markdown",
   "id": "8fe2d7b1",
   "metadata": {},
   "source": [
    "## Mise au format csv dataframe"
   ]
  },
  {
   "cell_type": "code",
   "execution_count": null,
   "id": "25ead962",
   "metadata": {},
   "outputs": [],
   "source": [
    "#df_test.to_csv('data/data_FLO_without_NaN.csv',index=False)"
   ]
  },
  {
   "cell_type": "code",
   "execution_count": null,
   "id": "b6b206a3",
   "metadata": {},
   "outputs": [],
   "source": []
  },
  {
   "cell_type": "markdown",
   "id": "f2fa922b",
   "metadata": {},
   "source": [
    "### Base données Noé "
   ]
  },
  {
   "cell_type": "code",
   "execution_count": null,
   "id": "742f0596",
   "metadata": {},
   "outputs": [],
   "source": [
    "#df_ww=pd.read"
   ]
  }
 ],
 "metadata": {
  "kernelspec": {
   "display_name": "Python 3",
   "language": "python",
   "name": "python3"
  },
  "language_info": {
   "codemirror_mode": {
    "name": "ipython",
    "version": 3
   },
   "file_extension": ".py",
   "mimetype": "text/x-python",
   "name": "python",
   "nbconvert_exporter": "python",
   "pygments_lexer": "ipython3",
   "version": "3.9.13"
  }
 },
 "nbformat": 4,
 "nbformat_minor": 5
}
