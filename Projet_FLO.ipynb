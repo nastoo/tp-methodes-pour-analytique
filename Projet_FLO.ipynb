{
 "cells": [
  {
   "cell_type": "code",
   "execution_count": 1,
   "id": "2069a212",
   "metadata": {},
   "outputs": [],
   "source": [
    "import numpy as np \n",
    "import pandas as pd "
   ]
  },
  {
   "cell_type": "code",
   "execution_count": 10,
   "id": "28a06730",
   "metadata": {},
   "outputs": [
    {
     "name": "stdout",
     "output_type": "stream",
     "text": [
      "In [10] used 27.3 MiB RAM in 0.87s (system mean cpu 20%, single max cpu 77%), peaked 0.0 MiB above final usage, current RAM usage now 50.7 MiB\n"
     ]
    }
   ],
   "source": [
    "import matplotlib.pyplot as plt"
   ]
  },
  {
   "cell_type": "code",
   "execution_count": 2,
   "id": "57bfde02",
   "metadata": {},
   "outputs": [
    {
     "name": "stdout",
     "output_type": "stream",
     "text": [
      "Enabling IPython Memory Usage, use %imu_start to begin, %imu_stop to end\n"
     ]
    }
   ],
   "source": [
    "%load_ext ipython_memory_usage"
   ]
  },
  {
   "cell_type": "code",
   "execution_count": 3,
   "id": "0947540c",
   "metadata": {},
   "outputs": [
    {
     "data": {
      "text/plain": [
       "'IPython Memory Usage started'"
      ]
     },
     "execution_count": 3,
     "metadata": {},
     "output_type": "execute_result"
    },
    {
     "name": "stdout",
     "output_type": "stream",
     "text": [
      "In [3] used 0.5 MiB RAM in 0.13s (system mean cpu 0%, single max cpu 0%), peaked 0.0 MiB above final usage, current RAM usage now 107.5 MiB\n"
     ]
    }
   ],
   "source": [
    "%imu_start "
   ]
  },
  {
   "cell_type": "markdown",
   "id": "61281c1a",
   "metadata": {},
   "source": [
    "### EDA de la dataFrame 'Athlete_events'"
   ]
  },
  {
   "cell_type": "code",
   "execution_count": 4,
   "id": "17d666b9",
   "metadata": {},
   "outputs": [
    {
     "data": {
      "text/html": [
       "<div>\n",
       "<style scoped>\n",
       "    .dataframe tbody tr th:only-of-type {\n",
       "        vertical-align: middle;\n",
       "    }\n",
       "\n",
       "    .dataframe tbody tr th {\n",
       "        vertical-align: top;\n",
       "    }\n",
       "\n",
       "    .dataframe thead th {\n",
       "        text-align: right;\n",
       "    }\n",
       "</style>\n",
       "<table border=\"1\" class=\"dataframe\">\n",
       "  <thead>\n",
       "    <tr style=\"text-align: right;\">\n",
       "      <th></th>\n",
       "      <th>ID</th>\n",
       "      <th>Name</th>\n",
       "      <th>Sex</th>\n",
       "      <th>Age</th>\n",
       "      <th>Height</th>\n",
       "      <th>Weight</th>\n",
       "      <th>Team</th>\n",
       "      <th>NOC</th>\n",
       "      <th>Games</th>\n",
       "      <th>Year</th>\n",
       "      <th>Season</th>\n",
       "      <th>City</th>\n",
       "      <th>Sport</th>\n",
       "      <th>Event</th>\n",
       "      <th>Medal</th>\n",
       "    </tr>\n",
       "  </thead>\n",
       "  <tbody>\n",
       "    <tr>\n",
       "      <th>0</th>\n",
       "      <td>1</td>\n",
       "      <td>A Dijiang</td>\n",
       "      <td>M</td>\n",
       "      <td>24.0</td>\n",
       "      <td>180.0</td>\n",
       "      <td>80.0</td>\n",
       "      <td>China</td>\n",
       "      <td>CHN</td>\n",
       "      <td>1992 Summer</td>\n",
       "      <td>1992</td>\n",
       "      <td>Summer</td>\n",
       "      <td>Barcelona</td>\n",
       "      <td>Basketball</td>\n",
       "      <td>Basketball Men's Basketball</td>\n",
       "      <td>NaN</td>\n",
       "    </tr>\n",
       "    <tr>\n",
       "      <th>1</th>\n",
       "      <td>2</td>\n",
       "      <td>A Lamusi</td>\n",
       "      <td>M</td>\n",
       "      <td>23.0</td>\n",
       "      <td>170.0</td>\n",
       "      <td>60.0</td>\n",
       "      <td>China</td>\n",
       "      <td>CHN</td>\n",
       "      <td>2012 Summer</td>\n",
       "      <td>2012</td>\n",
       "      <td>Summer</td>\n",
       "      <td>London</td>\n",
       "      <td>Judo</td>\n",
       "      <td>Judo Men's Extra-Lightweight</td>\n",
       "      <td>NaN</td>\n",
       "    </tr>\n",
       "    <tr>\n",
       "      <th>2</th>\n",
       "      <td>3</td>\n",
       "      <td>Gunnar Nielsen Aaby</td>\n",
       "      <td>M</td>\n",
       "      <td>24.0</td>\n",
       "      <td>NaN</td>\n",
       "      <td>NaN</td>\n",
       "      <td>Denmark</td>\n",
       "      <td>DEN</td>\n",
       "      <td>1920 Summer</td>\n",
       "      <td>1920</td>\n",
       "      <td>Summer</td>\n",
       "      <td>Antwerpen</td>\n",
       "      <td>Football</td>\n",
       "      <td>Football Men's Football</td>\n",
       "      <td>NaN</td>\n",
       "    </tr>\n",
       "    <tr>\n",
       "      <th>3</th>\n",
       "      <td>4</td>\n",
       "      <td>Edgar Lindenau Aabye</td>\n",
       "      <td>M</td>\n",
       "      <td>34.0</td>\n",
       "      <td>NaN</td>\n",
       "      <td>NaN</td>\n",
       "      <td>Denmark/Sweden</td>\n",
       "      <td>DEN</td>\n",
       "      <td>1900 Summer</td>\n",
       "      <td>1900</td>\n",
       "      <td>Summer</td>\n",
       "      <td>Paris</td>\n",
       "      <td>Tug-Of-War</td>\n",
       "      <td>Tug-Of-War Men's Tug-Of-War</td>\n",
       "      <td>Gold</td>\n",
       "    </tr>\n",
       "    <tr>\n",
       "      <th>4</th>\n",
       "      <td>5</td>\n",
       "      <td>Christine Jacoba Aaftink</td>\n",
       "      <td>F</td>\n",
       "      <td>21.0</td>\n",
       "      <td>185.0</td>\n",
       "      <td>82.0</td>\n",
       "      <td>Netherlands</td>\n",
       "      <td>NED</td>\n",
       "      <td>1988 Winter</td>\n",
       "      <td>1988</td>\n",
       "      <td>Winter</td>\n",
       "      <td>Calgary</td>\n",
       "      <td>Speed Skating</td>\n",
       "      <td>Speed Skating Women's 500 metres</td>\n",
       "      <td>NaN</td>\n",
       "    </tr>\n",
       "    <tr>\n",
       "      <th>...</th>\n",
       "      <td>...</td>\n",
       "      <td>...</td>\n",
       "      <td>...</td>\n",
       "      <td>...</td>\n",
       "      <td>...</td>\n",
       "      <td>...</td>\n",
       "      <td>...</td>\n",
       "      <td>...</td>\n",
       "      <td>...</td>\n",
       "      <td>...</td>\n",
       "      <td>...</td>\n",
       "      <td>...</td>\n",
       "      <td>...</td>\n",
       "      <td>...</td>\n",
       "      <td>...</td>\n",
       "    </tr>\n",
       "    <tr>\n",
       "      <th>271111</th>\n",
       "      <td>135569</td>\n",
       "      <td>Andrzej ya</td>\n",
       "      <td>M</td>\n",
       "      <td>29.0</td>\n",
       "      <td>179.0</td>\n",
       "      <td>89.0</td>\n",
       "      <td>Poland-1</td>\n",
       "      <td>POL</td>\n",
       "      <td>1976 Winter</td>\n",
       "      <td>1976</td>\n",
       "      <td>Winter</td>\n",
       "      <td>Innsbruck</td>\n",
       "      <td>Luge</td>\n",
       "      <td>Luge Mixed (Men)'s Doubles</td>\n",
       "      <td>NaN</td>\n",
       "    </tr>\n",
       "    <tr>\n",
       "      <th>271112</th>\n",
       "      <td>135570</td>\n",
       "      <td>Piotr ya</td>\n",
       "      <td>M</td>\n",
       "      <td>27.0</td>\n",
       "      <td>176.0</td>\n",
       "      <td>59.0</td>\n",
       "      <td>Poland</td>\n",
       "      <td>POL</td>\n",
       "      <td>2014 Winter</td>\n",
       "      <td>2014</td>\n",
       "      <td>Winter</td>\n",
       "      <td>Sochi</td>\n",
       "      <td>Ski Jumping</td>\n",
       "      <td>Ski Jumping Men's Large Hill, Individual</td>\n",
       "      <td>NaN</td>\n",
       "    </tr>\n",
       "    <tr>\n",
       "      <th>271113</th>\n",
       "      <td>135570</td>\n",
       "      <td>Piotr ya</td>\n",
       "      <td>M</td>\n",
       "      <td>27.0</td>\n",
       "      <td>176.0</td>\n",
       "      <td>59.0</td>\n",
       "      <td>Poland</td>\n",
       "      <td>POL</td>\n",
       "      <td>2014 Winter</td>\n",
       "      <td>2014</td>\n",
       "      <td>Winter</td>\n",
       "      <td>Sochi</td>\n",
       "      <td>Ski Jumping</td>\n",
       "      <td>Ski Jumping Men's Large Hill, Team</td>\n",
       "      <td>NaN</td>\n",
       "    </tr>\n",
       "    <tr>\n",
       "      <th>271114</th>\n",
       "      <td>135571</td>\n",
       "      <td>Tomasz Ireneusz ya</td>\n",
       "      <td>M</td>\n",
       "      <td>30.0</td>\n",
       "      <td>185.0</td>\n",
       "      <td>96.0</td>\n",
       "      <td>Poland</td>\n",
       "      <td>POL</td>\n",
       "      <td>1998 Winter</td>\n",
       "      <td>1998</td>\n",
       "      <td>Winter</td>\n",
       "      <td>Nagano</td>\n",
       "      <td>Bobsleigh</td>\n",
       "      <td>Bobsleigh Men's Four</td>\n",
       "      <td>NaN</td>\n",
       "    </tr>\n",
       "    <tr>\n",
       "      <th>271115</th>\n",
       "      <td>135571</td>\n",
       "      <td>Tomasz Ireneusz ya</td>\n",
       "      <td>M</td>\n",
       "      <td>34.0</td>\n",
       "      <td>185.0</td>\n",
       "      <td>96.0</td>\n",
       "      <td>Poland</td>\n",
       "      <td>POL</td>\n",
       "      <td>2002 Winter</td>\n",
       "      <td>2002</td>\n",
       "      <td>Winter</td>\n",
       "      <td>Salt Lake City</td>\n",
       "      <td>Bobsleigh</td>\n",
       "      <td>Bobsleigh Men's Four</td>\n",
       "      <td>NaN</td>\n",
       "    </tr>\n",
       "  </tbody>\n",
       "</table>\n",
       "<p>271116 rows × 15 columns</p>\n",
       "</div>"
      ],
      "text/plain": [
       "            ID                      Name Sex   Age  Height  Weight  \\\n",
       "0            1                 A Dijiang   M  24.0   180.0    80.0   \n",
       "1            2                  A Lamusi   M  23.0   170.0    60.0   \n",
       "2            3       Gunnar Nielsen Aaby   M  24.0     NaN     NaN   \n",
       "3            4      Edgar Lindenau Aabye   M  34.0     NaN     NaN   \n",
       "4            5  Christine Jacoba Aaftink   F  21.0   185.0    82.0   \n",
       "...        ...                       ...  ..   ...     ...     ...   \n",
       "271111  135569                Andrzej ya   M  29.0   179.0    89.0   \n",
       "271112  135570                  Piotr ya   M  27.0   176.0    59.0   \n",
       "271113  135570                  Piotr ya   M  27.0   176.0    59.0   \n",
       "271114  135571        Tomasz Ireneusz ya   M  30.0   185.0    96.0   \n",
       "271115  135571        Tomasz Ireneusz ya   M  34.0   185.0    96.0   \n",
       "\n",
       "                  Team  NOC        Games  Year  Season            City  \\\n",
       "0                China  CHN  1992 Summer  1992  Summer       Barcelona   \n",
       "1                China  CHN  2012 Summer  2012  Summer          London   \n",
       "2              Denmark  DEN  1920 Summer  1920  Summer       Antwerpen   \n",
       "3       Denmark/Sweden  DEN  1900 Summer  1900  Summer           Paris   \n",
       "4          Netherlands  NED  1988 Winter  1988  Winter         Calgary   \n",
       "...                ...  ...          ...   ...     ...             ...   \n",
       "271111        Poland-1  POL  1976 Winter  1976  Winter       Innsbruck   \n",
       "271112          Poland  POL  2014 Winter  2014  Winter           Sochi   \n",
       "271113          Poland  POL  2014 Winter  2014  Winter           Sochi   \n",
       "271114          Poland  POL  1998 Winter  1998  Winter          Nagano   \n",
       "271115          Poland  POL  2002 Winter  2002  Winter  Salt Lake City   \n",
       "\n",
       "                Sport                                     Event Medal  \n",
       "0          Basketball               Basketball Men's Basketball   NaN  \n",
       "1                Judo              Judo Men's Extra-Lightweight   NaN  \n",
       "2            Football                   Football Men's Football   NaN  \n",
       "3          Tug-Of-War               Tug-Of-War Men's Tug-Of-War  Gold  \n",
       "4       Speed Skating          Speed Skating Women's 500 metres   NaN  \n",
       "...               ...                                       ...   ...  \n",
       "271111           Luge                Luge Mixed (Men)'s Doubles   NaN  \n",
       "271112    Ski Jumping  Ski Jumping Men's Large Hill, Individual   NaN  \n",
       "271113    Ski Jumping        Ski Jumping Men's Large Hill, Team   NaN  \n",
       "271114      Bobsleigh                      Bobsleigh Men's Four   NaN  \n",
       "271115      Bobsleigh                      Bobsleigh Men's Four   NaN  \n",
       "\n",
       "[271116 rows x 15 columns]"
      ]
     },
     "execution_count": 4,
     "metadata": {},
     "output_type": "execute_result"
    },
    {
     "name": "stdout",
     "output_type": "stream",
     "text": [
      "In [4] used 111.1 MiB RAM in 16.31s (system mean cpu 33%, single max cpu 100%), peaked 0.0 MiB above final usage, current RAM usage now 218.6 MiB\n"
     ]
    }
   ],
   "source": [
    "df_athlete=pd.read_csv('data/athlete_events.csv',sep=',')\n",
    "\n",
    "df_athlete"
   ]
  },
  {
   "cell_type": "markdown",
   "id": "e707987f",
   "metadata": {},
   "source": [
    "### DataFrame dictionnary"
   ]
  },
  {
   "cell_type": "code",
   "execution_count": 65,
   "id": "adf60793",
   "metadata": {},
   "outputs": [
    {
     "name": "stdout",
     "output_type": "stream",
     "text": [
      "In [65] used -132.7 MiB RAM in 0.12s (system mean cpu 15%, single max cpu 22%), peaked 0.0 MiB above final usage, current RAM usage now 29.6 MiB\n"
     ]
    }
   ],
   "source": [
    "df_dictionnary=pd.read_csv('data/dictionary.csv')\n",
    "\n",
    "df_dictionnary=df_dictionnary.rename(columns={'GDP per Capita':'PIB/habitant','Code':'NOC'})"
   ]
  },
  {
   "cell_type": "code",
   "execution_count": 48,
   "id": "640bc768",
   "metadata": {},
   "outputs": [
    {
     "data": {
      "text/plain": [
       "201"
      ]
     },
     "execution_count": 48,
     "metadata": {},
     "output_type": "execute_result"
    },
    {
     "name": "stdout",
     "output_type": "stream",
     "text": [
      "In [48] used -0.4 MiB RAM in 0.11s (system mean cpu 27%, single max cpu 51%), peaked 0.0 MiB above final usage, current RAM usage now 18.8 MiB\n"
     ]
    }
   ],
   "source": [
    "df_dictionnary['Code'].nunique()"
   ]
  },
  {
   "cell_type": "markdown",
   "id": "64317e9e",
   "metadata": {},
   "source": [
    "### On cherche les athlètes qui n'ont pas de team et ceux des îles TUVALU"
   ]
  },
  {
   "cell_type": "code",
   "execution_count": 22,
   "id": "8f048456",
   "metadata": {},
   "outputs": [
    {
     "data": {
      "text/html": [
       "<div>\n",
       "<style scoped>\n",
       "    .dataframe tbody tr th:only-of-type {\n",
       "        vertical-align: middle;\n",
       "    }\n",
       "\n",
       "    .dataframe tbody tr th {\n",
       "        vertical-align: top;\n",
       "    }\n",
       "\n",
       "    .dataframe thead th {\n",
       "        text-align: right;\n",
       "    }\n",
       "</style>\n",
       "<table border=\"1\" class=\"dataframe\">\n",
       "  <thead>\n",
       "    <tr style=\"text-align: right;\">\n",
       "      <th></th>\n",
       "      <th>ID</th>\n",
       "      <th>Name</th>\n",
       "      <th>Sex</th>\n",
       "      <th>Age</th>\n",
       "      <th>Height</th>\n",
       "      <th>Weight</th>\n",
       "      <th>Team</th>\n",
       "      <th>NOC</th>\n",
       "      <th>Games</th>\n",
       "      <th>Year</th>\n",
       "      <th>Season</th>\n",
       "      <th>City</th>\n",
       "      <th>Sport</th>\n",
       "      <th>Event</th>\n",
       "      <th>Medal</th>\n",
       "    </tr>\n",
       "  </thead>\n",
       "  <tbody>\n",
       "    <tr>\n",
       "      <th>61080</th>\n",
       "      <td>31292</td>\n",
       "      <td>Fritz Eccard</td>\n",
       "      <td>M</td>\n",
       "      <td>NaN</td>\n",
       "      <td>NaN</td>\n",
       "      <td>NaN</td>\n",
       "      <td>Unknown</td>\n",
       "      <td>UNK</td>\n",
       "      <td>1912 Summer</td>\n",
       "      <td>1912</td>\n",
       "      <td>Summer</td>\n",
       "      <td>Stockholm</td>\n",
       "      <td>Art Competitions</td>\n",
       "      <td>Art Competitions Mixed Architecture</td>\n",
       "      <td>NaN</td>\n",
       "    </tr>\n",
       "    <tr>\n",
       "      <th>130721</th>\n",
       "      <td>65813</td>\n",
       "      <td>A. Laffen</td>\n",
       "      <td>M</td>\n",
       "      <td>NaN</td>\n",
       "      <td>NaN</td>\n",
       "      <td>NaN</td>\n",
       "      <td>Unknown</td>\n",
       "      <td>UNK</td>\n",
       "      <td>1912 Summer</td>\n",
       "      <td>1912</td>\n",
       "      <td>Summer</td>\n",
       "      <td>Stockholm</td>\n",
       "      <td>Art Competitions</td>\n",
       "      <td>Art Competitions Mixed Architecture</td>\n",
       "      <td>NaN</td>\n",
       "    </tr>\n",
       "  </tbody>\n",
       "</table>\n",
       "</div>"
      ],
      "text/plain": [
       "           ID          Name Sex  Age  Height  Weight     Team  NOC  \\\n",
       "61080   31292  Fritz Eccard   M  NaN     NaN     NaN  Unknown  UNK   \n",
       "130721  65813     A. Laffen   M  NaN     NaN     NaN  Unknown  UNK   \n",
       "\n",
       "              Games  Year  Season       City             Sport  \\\n",
       "61080   1912 Summer  1912  Summer  Stockholm  Art Competitions   \n",
       "130721  1912 Summer  1912  Summer  Stockholm  Art Competitions   \n",
       "\n",
       "                                      Event Medal  \n",
       "61080   Art Competitions Mixed Architecture   NaN  \n",
       "130721  Art Competitions Mixed Architecture   NaN  "
      ]
     },
     "execution_count": 22,
     "metadata": {},
     "output_type": "execute_result"
    },
    {
     "name": "stdout",
     "output_type": "stream",
     "text": [
      "In [22] used -0.9 MiB RAM in 0.18s (system mean cpu 28%, single max cpu 49%), peaked 0.0 MiB above final usage, current RAM usage now 28.0 MiB\n"
     ]
    }
   ],
   "source": [
    "df_athlete[df_athlete['NOC']=='UNK']\n"
   ]
  },
  {
   "cell_type": "markdown",
   "id": "fa2dcdfa",
   "metadata": {},
   "source": [
    "Fritez Eccard a participé dans l'équipe Suédoise et A.Laffen .... aucunes traces je sais pas qui est ce mec "
   ]
  },
  {
   "cell_type": "code",
   "execution_count": 25,
   "id": "9795074e",
   "metadata": {},
   "outputs": [
    {
     "data": {
      "text/plain": [
       "ID        10\n",
       "Name      10\n",
       "Sex        2\n",
       "Age        7\n",
       "Height     7\n",
       "Weight     9\n",
       "Team       1\n",
       "NOC        1\n",
       "Games      1\n",
       "Year       1\n",
       "Season     1\n",
       "City       1\n",
       "Sport      3\n",
       "Event     12\n",
       "Medal      0\n",
       "dtype: int64"
      ]
     },
     "execution_count": 25,
     "metadata": {},
     "output_type": "execute_result"
    },
    {
     "name": "stdout",
     "output_type": "stream",
     "text": [
      "In [25] used -5.8 MiB RAM in 0.17s (system mean cpu 18%, single max cpu 29%), peaked 0.0 MiB above final usage, current RAM usage now 25.3 MiB\n"
     ]
    }
   ],
   "source": [
    "df_athlete[df_athlete['NOC']=='ROT'].nunique()\n"
   ]
  },
  {
   "cell_type": "code",
   "execution_count": null,
   "id": "2787601f",
   "metadata": {},
   "outputs": [],
   "source": [
    "12 participations parmi 10 athlètes qui ont participé aux JO ces dernières années sous la team des athlètes réfugiés. "
   ]
  },
  {
   "cell_type": "code",
   "execution_count": 45,
   "id": "7e50024f",
   "metadata": {},
   "outputs": [
    {
     "name": "stdout",
     "output_type": "stream",
     "text": [
      "In [45] used 82.3 MiB RAM in 0.31s (system mean cpu 30%, single max cpu 52%), peaked 0.0 MiB above final usage, current RAM usage now 103.9 MiB\n"
     ]
    }
   ],
   "source": [
    "df_athlete=df_athlete.query(\" NOC !='ROC' and NOC != 'UNK' \")"
   ]
  },
  {
   "cell_type": "markdown",
   "id": "addd2f8b",
   "metadata": {},
   "source": [
    "## Base données région "
   ]
  },
  {
   "cell_type": "code",
   "execution_count": 51,
   "id": "4ed18476",
   "metadata": {},
   "outputs": [
    {
     "data": {
      "text/html": [
       "<div>\n",
       "<style scoped>\n",
       "    .dataframe tbody tr th:only-of-type {\n",
       "        vertical-align: middle;\n",
       "    }\n",
       "\n",
       "    .dataframe tbody tr th {\n",
       "        vertical-align: top;\n",
       "    }\n",
       "\n",
       "    .dataframe thead th {\n",
       "        text-align: right;\n",
       "    }\n",
       "</style>\n",
       "<table border=\"1\" class=\"dataframe\">\n",
       "  <thead>\n",
       "    <tr style=\"text-align: right;\">\n",
       "      <th></th>\n",
       "      <th>NOC</th>\n",
       "      <th>Country</th>\n",
       "      <th>notes</th>\n",
       "    </tr>\n",
       "  </thead>\n",
       "  <tbody>\n",
       "    <tr>\n",
       "      <th>0</th>\n",
       "      <td>AFG</td>\n",
       "      <td>Afghanistan</td>\n",
       "      <td>NaN</td>\n",
       "    </tr>\n",
       "    <tr>\n",
       "      <th>1</th>\n",
       "      <td>AHO</td>\n",
       "      <td>Curacao</td>\n",
       "      <td>Netherlands Antilles</td>\n",
       "    </tr>\n",
       "    <tr>\n",
       "      <th>2</th>\n",
       "      <td>ALB</td>\n",
       "      <td>Albania</td>\n",
       "      <td>NaN</td>\n",
       "    </tr>\n",
       "    <tr>\n",
       "      <th>3</th>\n",
       "      <td>ALG</td>\n",
       "      <td>Algeria</td>\n",
       "      <td>NaN</td>\n",
       "    </tr>\n",
       "    <tr>\n",
       "      <th>4</th>\n",
       "      <td>AND</td>\n",
       "      <td>Andorra</td>\n",
       "      <td>NaN</td>\n",
       "    </tr>\n",
       "    <tr>\n",
       "      <th>...</th>\n",
       "      <td>...</td>\n",
       "      <td>...</td>\n",
       "      <td>...</td>\n",
       "    </tr>\n",
       "    <tr>\n",
       "      <th>225</th>\n",
       "      <td>YEM</td>\n",
       "      <td>Yemen</td>\n",
       "      <td>NaN</td>\n",
       "    </tr>\n",
       "    <tr>\n",
       "      <th>226</th>\n",
       "      <td>YMD</td>\n",
       "      <td>Yemen</td>\n",
       "      <td>South Yemen</td>\n",
       "    </tr>\n",
       "    <tr>\n",
       "      <th>227</th>\n",
       "      <td>YUG</td>\n",
       "      <td>Serbia</td>\n",
       "      <td>Yugoslavia</td>\n",
       "    </tr>\n",
       "    <tr>\n",
       "      <th>228</th>\n",
       "      <td>ZAM</td>\n",
       "      <td>Zambia</td>\n",
       "      <td>NaN</td>\n",
       "    </tr>\n",
       "    <tr>\n",
       "      <th>229</th>\n",
       "      <td>ZIM</td>\n",
       "      <td>Zimbabwe</td>\n",
       "      <td>NaN</td>\n",
       "    </tr>\n",
       "  </tbody>\n",
       "</table>\n",
       "<p>230 rows × 3 columns</p>\n",
       "</div>"
      ],
      "text/plain": [
       "     NOC      Country                 notes\n",
       "0    AFG  Afghanistan                   NaN\n",
       "1    AHO      Curacao  Netherlands Antilles\n",
       "2    ALB      Albania                   NaN\n",
       "3    ALG      Algeria                   NaN\n",
       "4    AND      Andorra                   NaN\n",
       "..   ...          ...                   ...\n",
       "225  YEM        Yemen                   NaN\n",
       "226  YMD        Yemen           South Yemen\n",
       "227  YUG       Serbia            Yugoslavia\n",
       "228  ZAM       Zambia                   NaN\n",
       "229  ZIM     Zimbabwe                   NaN\n",
       "\n",
       "[230 rows x 3 columns]"
      ]
     },
     "execution_count": 51,
     "metadata": {},
     "output_type": "execute_result"
    },
    {
     "name": "stdout",
     "output_type": "stream",
     "text": [
      "In [51] used -9.4 MiB RAM in 0.15s (system mean cpu 18%, single max cpu 28%), peaked 0.0 MiB above final usage, current RAM usage now 24.6 MiB\n"
     ]
    }
   ],
   "source": [
    "df_regions=pd.read_csv('data/noc_regions.csv')\n",
    "\n"
   ]
  },
  {
   "cell_type": "code",
   "execution_count": 7,
   "id": "385765ad",
   "metadata": {},
   "outputs": [
    {
     "data": {
      "text/plain": [
       "NOC       230\n",
       "region    206\n",
       "notes      21\n",
       "dtype: int64"
      ]
     },
     "execution_count": 7,
     "metadata": {},
     "output_type": "execute_result"
    },
    {
     "name": "stdout",
     "output_type": "stream",
     "text": [
      "In [7] used 0.7 MiB RAM in 0.14s (system mean cpu 35%, single max cpu 67%), peaked 0.0 MiB above final usage, current RAM usage now 140.6 MiB\n"
     ]
    }
   ],
   "source": [
    "df_regions.nunique()"
   ]
  },
  {
   "cell_type": "markdown",
   "id": "3ea054be",
   "metadata": {},
   "source": [
    "Il y a des régions qui ont le même NOC "
   ]
  },
  {
   "cell_type": "code",
   "execution_count": null,
   "id": "37305de4",
   "metadata": {},
   "outputs": [],
   "source": [
    "duplicates=[df_regions.duplicated(subset='region')]"
   ]
  },
  {
   "cell_type": "code",
   "execution_count": 16,
   "id": "1a410bcc",
   "metadata": {},
   "outputs": [
    {
     "data": {
      "text/html": [
       "<div>\n",
       "<style scoped>\n",
       "    .dataframe tbody tr th:only-of-type {\n",
       "        vertical-align: middle;\n",
       "    }\n",
       "\n",
       "    .dataframe tbody tr th {\n",
       "        vertical-align: top;\n",
       "    }\n",
       "\n",
       "    .dataframe thead th {\n",
       "        text-align: right;\n",
       "    }\n",
       "</style>\n",
       "<table border=\"1\" class=\"dataframe\">\n",
       "  <thead>\n",
       "    <tr style=\"text-align: right;\">\n",
       "      <th></th>\n",
       "      <th>NOC</th>\n",
       "      <th>region</th>\n",
       "      <th>notes</th>\n",
       "    </tr>\n",
       "  </thead>\n",
       "  <tbody>\n",
       "    <tr>\n",
       "      <th>12</th>\n",
       "      <td>AUS</td>\n",
       "      <td>Australia</td>\n",
       "      <td>NaN</td>\n",
       "    </tr>\n",
       "    <tr>\n",
       "      <th>54</th>\n",
       "      <td>CZE</td>\n",
       "      <td>Czech Republic</td>\n",
       "      <td>NaN</td>\n",
       "    </tr>\n",
       "    <tr>\n",
       "      <th>76</th>\n",
       "      <td>GDR</td>\n",
       "      <td>Germany</td>\n",
       "      <td>NaN</td>\n",
       "    </tr>\n",
       "    <tr>\n",
       "      <th>79</th>\n",
       "      <td>GER</td>\n",
       "      <td>Germany</td>\n",
       "      <td>NaN</td>\n",
       "    </tr>\n",
       "    <tr>\n",
       "      <th>81</th>\n",
       "      <td>GRE</td>\n",
       "      <td>Greece</td>\n",
       "      <td>NaN</td>\n",
       "    </tr>\n",
       "    <tr>\n",
       "      <th>88</th>\n",
       "      <td>HKG</td>\n",
       "      <td>China</td>\n",
       "      <td>Hong Kong</td>\n",
       "    </tr>\n",
       "    <tr>\n",
       "      <th>126</th>\n",
       "      <td>MAS</td>\n",
       "      <td>Malaysia</td>\n",
       "      <td>NaN</td>\n",
       "    </tr>\n",
       "    <tr>\n",
       "      <th>143</th>\n",
       "      <td>NBO</td>\n",
       "      <td>Malaysia</td>\n",
       "      <td>North Borneo</td>\n",
       "    </tr>\n",
       "    <tr>\n",
       "      <th>147</th>\n",
       "      <td>NFL</td>\n",
       "      <td>Canada</td>\n",
       "      <td>Newfoundland</td>\n",
       "    </tr>\n",
       "    <tr>\n",
       "      <th>171</th>\n",
       "      <td>RUS</td>\n",
       "      <td>Russia</td>\n",
       "      <td>NaN</td>\n",
       "    </tr>\n",
       "    <tr>\n",
       "      <th>173</th>\n",
       "      <td>SAA</td>\n",
       "      <td>Germany</td>\n",
       "      <td>NaN</td>\n",
       "    </tr>\n",
       "    <tr>\n",
       "      <th>185</th>\n",
       "      <td>SRB</td>\n",
       "      <td>Serbia</td>\n",
       "      <td>NaN</td>\n",
       "    </tr>\n",
       "    <tr>\n",
       "      <th>197</th>\n",
       "      <td>TCH</td>\n",
       "      <td>Czech Republic</td>\n",
       "      <td>NaN</td>\n",
       "    </tr>\n",
       "    <tr>\n",
       "      <th>208</th>\n",
       "      <td>TUV</td>\n",
       "      <td>NaN</td>\n",
       "      <td>Tuvalu</td>\n",
       "    </tr>\n",
       "    <tr>\n",
       "      <th>210</th>\n",
       "      <td>UAR</td>\n",
       "      <td>Syria</td>\n",
       "      <td>United Arab Republic</td>\n",
       "    </tr>\n",
       "    <tr>\n",
       "      <th>213</th>\n",
       "      <td>UNK</td>\n",
       "      <td>NaN</td>\n",
       "      <td>Unknown</td>\n",
       "    </tr>\n",
       "    <tr>\n",
       "      <th>214</th>\n",
       "      <td>URS</td>\n",
       "      <td>Russia</td>\n",
       "      <td>NaN</td>\n",
       "    </tr>\n",
       "    <tr>\n",
       "      <th>222</th>\n",
       "      <td>VNM</td>\n",
       "      <td>Vietnam</td>\n",
       "      <td>NaN</td>\n",
       "    </tr>\n",
       "    <tr>\n",
       "      <th>223</th>\n",
       "      <td>WIF</td>\n",
       "      <td>Trinidad</td>\n",
       "      <td>West Indies Federation</td>\n",
       "    </tr>\n",
       "    <tr>\n",
       "      <th>225</th>\n",
       "      <td>YEM</td>\n",
       "      <td>Yemen</td>\n",
       "      <td>NaN</td>\n",
       "    </tr>\n",
       "    <tr>\n",
       "      <th>226</th>\n",
       "      <td>YMD</td>\n",
       "      <td>Yemen</td>\n",
       "      <td>South Yemen</td>\n",
       "    </tr>\n",
       "    <tr>\n",
       "      <th>227</th>\n",
       "      <td>YUG</td>\n",
       "      <td>Serbia</td>\n",
       "      <td>Yugoslavia</td>\n",
       "    </tr>\n",
       "    <tr>\n",
       "      <th>229</th>\n",
       "      <td>ZIM</td>\n",
       "      <td>Zimbabwe</td>\n",
       "      <td>NaN</td>\n",
       "    </tr>\n",
       "  </tbody>\n",
       "</table>\n",
       "</div>"
      ],
      "text/plain": [
       "     NOC          region                   notes\n",
       "12   AUS       Australia                     NaN\n",
       "54   CZE  Czech Republic                     NaN\n",
       "76   GDR         Germany                     NaN\n",
       "79   GER         Germany                     NaN\n",
       "81   GRE          Greece                     NaN\n",
       "88   HKG           China               Hong Kong\n",
       "126  MAS        Malaysia                     NaN\n",
       "143  NBO        Malaysia            North Borneo\n",
       "147  NFL          Canada            Newfoundland\n",
       "171  RUS          Russia                     NaN\n",
       "173  SAA         Germany                     NaN\n",
       "185  SRB          Serbia                     NaN\n",
       "197  TCH  Czech Republic                     NaN\n",
       "208  TUV             NaN                  Tuvalu\n",
       "210  UAR           Syria    United Arab Republic\n",
       "213  UNK             NaN                 Unknown\n",
       "214  URS          Russia                     NaN\n",
       "222  VNM         Vietnam                     NaN\n",
       "223  WIF        Trinidad  West Indies Federation\n",
       "225  YEM           Yemen                     NaN\n",
       "226  YMD           Yemen             South Yemen\n",
       "227  YUG          Serbia              Yugoslavia\n",
       "229  ZIM        Zimbabwe                     NaN"
      ]
     },
     "execution_count": 16,
     "metadata": {},
     "output_type": "execute_result"
    },
    {
     "name": "stdout",
     "output_type": "stream",
     "text": [
      "In [16] used 0.8 MiB RAM in 0.14s (system mean cpu 13%, single max cpu 23%), peaked 0.0 MiB above final usage, current RAM usage now 26.2 MiB\n"
     ]
    }
   ],
   "source": [
    "df_regions[df_regions.duplicated(subset='region')]"
   ]
  },
  {
   "cell_type": "code",
   "execution_count": 8,
   "id": "578d223a",
   "metadata": {},
   "outputs": [
    {
     "data": {
      "text/plain": [
       "NOC         0\n",
       "region      3\n",
       "notes     209\n",
       "dtype: int64"
      ]
     },
     "execution_count": 8,
     "metadata": {},
     "output_type": "execute_result"
    },
    {
     "name": "stdout",
     "output_type": "stream",
     "text": [
      "In [8] used -113.4 MiB RAM in 0.16s (system mean cpu 24%, single max cpu 44%), peaked 0.0 MiB above final usage, current RAM usage now 27.2 MiB\n"
     ]
    }
   ],
   "source": [
    "df_regions.isnull().sum()"
   ]
  },
  {
   "cell_type": "code",
   "execution_count": 20,
   "id": "e7a25b21",
   "metadata": {},
   "outputs": [
    {
     "data": {
      "text/html": [
       "<div>\n",
       "<style scoped>\n",
       "    .dataframe tbody tr th:only-of-type {\n",
       "        vertical-align: middle;\n",
       "    }\n",
       "\n",
       "    .dataframe tbody tr th {\n",
       "        vertical-align: top;\n",
       "    }\n",
       "\n",
       "    .dataframe thead th {\n",
       "        text-align: right;\n",
       "    }\n",
       "</style>\n",
       "<table border=\"1\" class=\"dataframe\">\n",
       "  <thead>\n",
       "    <tr style=\"text-align: right;\">\n",
       "      <th></th>\n",
       "      <th>NOC</th>\n",
       "      <th>region</th>\n",
       "      <th>notes</th>\n",
       "    </tr>\n",
       "  </thead>\n",
       "  <tbody>\n",
       "    <tr>\n",
       "      <th>168</th>\n",
       "      <td>ROT</td>\n",
       "      <td>NaN</td>\n",
       "      <td>Refugee Olympic Team</td>\n",
       "    </tr>\n",
       "    <tr>\n",
       "      <th>208</th>\n",
       "      <td>TUV</td>\n",
       "      <td>NaN</td>\n",
       "      <td>Tuvalu</td>\n",
       "    </tr>\n",
       "    <tr>\n",
       "      <th>213</th>\n",
       "      <td>UNK</td>\n",
       "      <td>NaN</td>\n",
       "      <td>Unknown</td>\n",
       "    </tr>\n",
       "  </tbody>\n",
       "</table>\n",
       "</div>"
      ],
      "text/plain": [
       "     NOC region                 notes\n",
       "168  ROT    NaN  Refugee Olympic Team\n",
       "208  TUV    NaN                Tuvalu\n",
       "213  UNK    NaN               Unknown"
      ]
     },
     "execution_count": 20,
     "metadata": {},
     "output_type": "execute_result"
    },
    {
     "name": "stdout",
     "output_type": "stream",
     "text": [
      "In [20] used -1.5 MiB RAM in 0.14s (system mean cpu 13%, single max cpu 22%), peaked 0.0 MiB above final usage, current RAM usage now 23.0 MiB\n"
     ]
    }
   ],
   "source": [
    "df_regions[df_regions['region'].isnull()]"
   ]
  },
  {
   "cell_type": "markdown",
   "id": "f07c1f96",
   "metadata": {},
   "source": [
    "Il y a  3 des regions qui ne sont pas attribuées, ROT ( refugee olympic team)  , TUVALU ( 9 archipels qui constituent un État ) et UNK qui correspond à Unknown "
   ]
  },
  {
   "cell_type": "markdown",
   "id": "6ad09180",
   "metadata": {},
   "source": [
    "### On ajoute les iles TUVALU "
   ]
  },
  {
   "cell_type": "code",
   "execution_count": 35,
   "id": "8323a24d",
   "metadata": {},
   "outputs": [
    {
     "data": {
      "text/html": [
       "<div>\n",
       "<style scoped>\n",
       "    .dataframe tbody tr th:only-of-type {\n",
       "        vertical-align: middle;\n",
       "    }\n",
       "\n",
       "    .dataframe tbody tr th {\n",
       "        vertical-align: top;\n",
       "    }\n",
       "\n",
       "    .dataframe thead th {\n",
       "        text-align: right;\n",
       "    }\n",
       "</style>\n",
       "<table border=\"1\" class=\"dataframe\">\n",
       "  <thead>\n",
       "    <tr style=\"text-align: right;\">\n",
       "      <th></th>\n",
       "      <th>NOC</th>\n",
       "      <th>region</th>\n",
       "      <th>notes</th>\n",
       "    </tr>\n",
       "  </thead>\n",
       "  <tbody>\n",
       "    <tr>\n",
       "      <th>168</th>\n",
       "      <td>ROT</td>\n",
       "      <td>NaN</td>\n",
       "      <td>Refugee Olympic Team</td>\n",
       "    </tr>\n",
       "    <tr>\n",
       "      <th>208</th>\n",
       "      <td>TUV</td>\n",
       "      <td>NaN</td>\n",
       "      <td>Tuvalu</td>\n",
       "    </tr>\n",
       "    <tr>\n",
       "      <th>213</th>\n",
       "      <td>UNK</td>\n",
       "      <td>NaN</td>\n",
       "      <td>Unknown</td>\n",
       "    </tr>\n",
       "  </tbody>\n",
       "</table>\n",
       "</div>"
      ],
      "text/plain": [
       "     NOC region                 notes\n",
       "168  ROT    NaN  Refugee Olympic Team\n",
       "208  TUV    NaN                Tuvalu\n",
       "213  UNK    NaN               Unknown"
      ]
     },
     "execution_count": 35,
     "metadata": {},
     "output_type": "execute_result"
    },
    {
     "name": "stdout",
     "output_type": "stream",
     "text": [
      "In [35] used 5.0 MiB RAM in 0.14s (system mean cpu 15%, single max cpu 23%), peaked 0.0 MiB above final usage, current RAM usage now 34.1 MiB\n"
     ]
    }
   ],
   "source": [
    "df_regions[df_regions['region'].isnull()]"
   ]
  },
  {
   "cell_type": "code",
   "execution_count": 57,
   "id": "27f9a507",
   "metadata": {},
   "outputs": [
    {
     "data": {
      "text/plain": [
       "NOC         0\n",
       "region      1\n",
       "notes     209\n",
       "dtype: int64"
      ]
     },
     "execution_count": 57,
     "metadata": {},
     "output_type": "execute_result"
    },
    {
     "name": "stdout",
     "output_type": "stream",
     "text": [
      "In [57] used 1.1 MiB RAM in 0.14s (system mean cpu 14%, single max cpu 23%), peaked 0.0 MiB above final usage, current RAM usage now 24.2 MiB\n"
     ]
    }
   ],
   "source": [
    "df_regions=df_regions.query(\" NOC != 'ROT' and NOC != 'UNK' \")\n",
    "\n",
    "df_regions.isnull().sum()"
   ]
  },
  {
   "cell_type": "code",
   "execution_count": 58,
   "id": "4c014bd7",
   "metadata": {},
   "outputs": [
    {
     "name": "stdout",
     "output_type": "stream",
     "text": [
      "In [58] used -4.3 MiB RAM in 0.12s (system mean cpu 19%, single max cpu 33%), peaked 0.0 MiB above final usage, current RAM usage now 19.9 MiB\n"
     ]
    }
   ],
   "source": [
    "df_regions['region']=df_regions['region'].fillna('Tuvalu')"
   ]
  },
  {
   "cell_type": "code",
   "execution_count": 44,
   "id": "1ac2c341",
   "metadata": {},
   "outputs": [
    {
     "data": {
      "text/html": [
       "<div>\n",
       "<style scoped>\n",
       "    .dataframe tbody tr th:only-of-type {\n",
       "        vertical-align: middle;\n",
       "    }\n",
       "\n",
       "    .dataframe tbody tr th {\n",
       "        vertical-align: top;\n",
       "    }\n",
       "\n",
       "    .dataframe thead th {\n",
       "        text-align: right;\n",
       "    }\n",
       "</style>\n",
       "<table border=\"1\" class=\"dataframe\">\n",
       "  <thead>\n",
       "    <tr style=\"text-align: right;\">\n",
       "      <th></th>\n",
       "      <th>NOC</th>\n",
       "      <th>region</th>\n",
       "      <th>notes</th>\n",
       "    </tr>\n",
       "  </thead>\n",
       "  <tbody>\n",
       "    <tr>\n",
       "      <th>208</th>\n",
       "      <td>TUV</td>\n",
       "      <td>Tuvalu</td>\n",
       "      <td>Tuvalu</td>\n",
       "    </tr>\n",
       "  </tbody>\n",
       "</table>\n",
       "</div>"
      ],
      "text/plain": [
       "     NOC  region   notes\n",
       "208  TUV  Tuvalu  Tuvalu"
      ]
     },
     "execution_count": 44,
     "metadata": {},
     "output_type": "execute_result"
    },
    {
     "name": "stdout",
     "output_type": "stream",
     "text": [
      "In [44] used -2.0 MiB RAM in 0.14s (system mean cpu 29%, single max cpu 54%), peaked 0.0 MiB above final usage, current RAM usage now 21.6 MiB\n"
     ]
    }
   ],
   "source": [
    "df_regions[df_regions['region']=='Tuvalu']"
   ]
  },
  {
   "cell_type": "code",
   "execution_count": 62,
   "id": "4cf2a1c7",
   "metadata": {},
   "outputs": [
    {
     "name": "stdout",
     "output_type": "stream",
     "text": [
      "In [62] used -124.1 MiB RAM in 0.11s (system mean cpu 13%, single max cpu 22%), peaked 0.0 MiB above final usage, current RAM usage now 20.2 MiB\n"
     ]
    }
   ],
   "source": [
    "df_regions=df_regions.rename(columns={'region':'Country'})"
   ]
  },
  {
   "cell_type": "code",
   "execution_count": 59,
   "id": "0a454af0",
   "metadata": {},
   "outputs": [
    {
     "data": {
      "text/plain": [
       "NOC         0\n",
       "region      0\n",
       "notes     209\n",
       "dtype: int64"
      ]
     },
     "execution_count": 59,
     "metadata": {},
     "output_type": "execute_result"
    },
    {
     "name": "stdout",
     "output_type": "stream",
     "text": [
      "In [59] used 3.3 MiB RAM in 0.11s (system mean cpu 18%, single max cpu 27%), peaked 0.0 MiB above final usage, current RAM usage now 23.1 MiB\n"
     ]
    }
   ],
   "source": [
    "df_regions.isnull().sum()"
   ]
  },
  {
   "cell_type": "markdown",
   "id": "2456983e",
   "metadata": {},
   "source": [
    "### On va merge les dataframes "
   ]
  },
  {
   "cell_type": "code",
   "execution_count": 69,
   "id": "f6421c0c",
   "metadata": {},
   "outputs": [
    {
     "name": "stdout",
     "output_type": "stream",
     "text": [
      "In [69] used 27.8 MiB RAM in 0.42s (system mean cpu 30%, single max cpu 85%), peaked 0.0 MiB above final usage, current RAM usage now 230.9 MiB\n"
     ]
    }
   ],
   "source": [
    "df_complete=pd.merge(pd.merge(df_athlete,df_regions,on='NOC'),df_dictionnary,on='NOC')\n",
    "\n",
    "df_complete=df_complete.drop('Country_x',axis=1)"
   ]
  },
  {
   "cell_type": "code",
   "execution_count": 71,
   "id": "0aa8f205",
   "metadata": {},
   "outputs": [
    {
     "data": {
      "text/html": [
       "<div>\n",
       "<style scoped>\n",
       "    .dataframe tbody tr th:only-of-type {\n",
       "        vertical-align: middle;\n",
       "    }\n",
       "\n",
       "    .dataframe tbody tr th {\n",
       "        vertical-align: top;\n",
       "    }\n",
       "\n",
       "    .dataframe thead th {\n",
       "        text-align: right;\n",
       "    }\n",
       "</style>\n",
       "<table border=\"1\" class=\"dataframe\">\n",
       "  <thead>\n",
       "    <tr style=\"text-align: right;\">\n",
       "      <th></th>\n",
       "      <th>ID</th>\n",
       "      <th>Name</th>\n",
       "      <th>Sex</th>\n",
       "      <th>Age</th>\n",
       "      <th>Height</th>\n",
       "      <th>Weight</th>\n",
       "      <th>Team</th>\n",
       "      <th>NOC</th>\n",
       "      <th>Games</th>\n",
       "      <th>Year</th>\n",
       "      <th>Season</th>\n",
       "      <th>City</th>\n",
       "      <th>Sport</th>\n",
       "      <th>Event</th>\n",
       "      <th>Medal</th>\n",
       "      <th>notes</th>\n",
       "      <th>Country</th>\n",
       "      <th>Population</th>\n",
       "      <th>PIB/habitant</th>\n",
       "    </tr>\n",
       "  </thead>\n",
       "  <tbody>\n",
       "    <tr>\n",
       "      <th>0</th>\n",
       "      <td>1</td>\n",
       "      <td>A Dijiang</td>\n",
       "      <td>M</td>\n",
       "      <td>24.0</td>\n",
       "      <td>180.0</td>\n",
       "      <td>80.0</td>\n",
       "      <td>China</td>\n",
       "      <td>CHN</td>\n",
       "      <td>1992 Summer</td>\n",
       "      <td>1992</td>\n",
       "      <td>Summer</td>\n",
       "      <td>Barcelona</td>\n",
       "      <td>Basketball</td>\n",
       "      <td>Basketball Men's Basketball</td>\n",
       "      <td>NaN</td>\n",
       "      <td>NaN</td>\n",
       "      <td>China</td>\n",
       "      <td>1.371220e+09</td>\n",
       "      <td>8027.683810</td>\n",
       "    </tr>\n",
       "    <tr>\n",
       "      <th>1</th>\n",
       "      <td>2</td>\n",
       "      <td>A Lamusi</td>\n",
       "      <td>M</td>\n",
       "      <td>23.0</td>\n",
       "      <td>170.0</td>\n",
       "      <td>60.0</td>\n",
       "      <td>China</td>\n",
       "      <td>CHN</td>\n",
       "      <td>2012 Summer</td>\n",
       "      <td>2012</td>\n",
       "      <td>Summer</td>\n",
       "      <td>London</td>\n",
       "      <td>Judo</td>\n",
       "      <td>Judo Men's Extra-Lightweight</td>\n",
       "      <td>NaN</td>\n",
       "      <td>NaN</td>\n",
       "      <td>China</td>\n",
       "      <td>1.371220e+09</td>\n",
       "      <td>8027.683810</td>\n",
       "    </tr>\n",
       "    <tr>\n",
       "      <th>2</th>\n",
       "      <td>602</td>\n",
       "      <td>Abudoureheman</td>\n",
       "      <td>M</td>\n",
       "      <td>22.0</td>\n",
       "      <td>182.0</td>\n",
       "      <td>75.0</td>\n",
       "      <td>China</td>\n",
       "      <td>CHN</td>\n",
       "      <td>2000 Summer</td>\n",
       "      <td>2000</td>\n",
       "      <td>Summer</td>\n",
       "      <td>Sydney</td>\n",
       "      <td>Boxing</td>\n",
       "      <td>Boxing Men's Middleweight</td>\n",
       "      <td>NaN</td>\n",
       "      <td>NaN</td>\n",
       "      <td>China</td>\n",
       "      <td>1.371220e+09</td>\n",
       "      <td>8027.683810</td>\n",
       "    </tr>\n",
       "    <tr>\n",
       "      <th>3</th>\n",
       "      <td>1463</td>\n",
       "      <td>Ai Linuer</td>\n",
       "      <td>M</td>\n",
       "      <td>25.0</td>\n",
       "      <td>160.0</td>\n",
       "      <td>62.0</td>\n",
       "      <td>China</td>\n",
       "      <td>CHN</td>\n",
       "      <td>2004 Summer</td>\n",
       "      <td>2004</td>\n",
       "      <td>Summer</td>\n",
       "      <td>Athina</td>\n",
       "      <td>Wrestling</td>\n",
       "      <td>Wrestling Men's Lightweight, Greco-Roman</td>\n",
       "      <td>NaN</td>\n",
       "      <td>NaN</td>\n",
       "      <td>China</td>\n",
       "      <td>1.371220e+09</td>\n",
       "      <td>8027.683810</td>\n",
       "    </tr>\n",
       "    <tr>\n",
       "      <th>4</th>\n",
       "      <td>1464</td>\n",
       "      <td>Ai Yanhan</td>\n",
       "      <td>F</td>\n",
       "      <td>14.0</td>\n",
       "      <td>168.0</td>\n",
       "      <td>54.0</td>\n",
       "      <td>China</td>\n",
       "      <td>CHN</td>\n",
       "      <td>2016 Summer</td>\n",
       "      <td>2016</td>\n",
       "      <td>Summer</td>\n",
       "      <td>Rio de Janeiro</td>\n",
       "      <td>Swimming</td>\n",
       "      <td>Swimming Women's 200 metres Freestyle</td>\n",
       "      <td>NaN</td>\n",
       "      <td>NaN</td>\n",
       "      <td>China</td>\n",
       "      <td>1.371220e+09</td>\n",
       "      <td>8027.683810</td>\n",
       "    </tr>\n",
       "    <tr>\n",
       "      <th>...</th>\n",
       "      <td>...</td>\n",
       "      <td>...</td>\n",
       "      <td>...</td>\n",
       "      <td>...</td>\n",
       "      <td>...</td>\n",
       "      <td>...</td>\n",
       "      <td>...</td>\n",
       "      <td>...</td>\n",
       "      <td>...</td>\n",
       "      <td>...</td>\n",
       "      <td>...</td>\n",
       "      <td>...</td>\n",
       "      <td>...</td>\n",
       "      <td>...</td>\n",
       "      <td>...</td>\n",
       "      <td>...</td>\n",
       "      <td>...</td>\n",
       "      <td>...</td>\n",
       "      <td>...</td>\n",
       "    </tr>\n",
       "    <tr>\n",
       "      <th>245225</th>\n",
       "      <td>120575</td>\n",
       "      <td>Mamorallo Tjoka</td>\n",
       "      <td>F</td>\n",
       "      <td>23.0</td>\n",
       "      <td>150.0</td>\n",
       "      <td>56.0</td>\n",
       "      <td>Lesotho</td>\n",
       "      <td>LES</td>\n",
       "      <td>2008 Summer</td>\n",
       "      <td>2008</td>\n",
       "      <td>Summer</td>\n",
       "      <td>Beijing</td>\n",
       "      <td>Athletics</td>\n",
       "      <td>Athletics Women's Marathon</td>\n",
       "      <td>NaN</td>\n",
       "      <td>NaN</td>\n",
       "      <td>Lesotho</td>\n",
       "      <td>2.135022e+06</td>\n",
       "      <td>1066.985626</td>\n",
       "    </tr>\n",
       "    <tr>\n",
       "      <th>245226</th>\n",
       "      <td>120575</td>\n",
       "      <td>Mamorallo Tjoka</td>\n",
       "      <td>F</td>\n",
       "      <td>27.0</td>\n",
       "      <td>150.0</td>\n",
       "      <td>56.0</td>\n",
       "      <td>Lesotho</td>\n",
       "      <td>LES</td>\n",
       "      <td>2012 Summer</td>\n",
       "      <td>2012</td>\n",
       "      <td>Summer</td>\n",
       "      <td>London</td>\n",
       "      <td>Athletics</td>\n",
       "      <td>Athletics Women's Marathon</td>\n",
       "      <td>NaN</td>\n",
       "      <td>NaN</td>\n",
       "      <td>Lesotho</td>\n",
       "      <td>2.135022e+06</td>\n",
       "      <td>1066.985626</td>\n",
       "    </tr>\n",
       "    <tr>\n",
       "      <th>245227</th>\n",
       "      <td>122166</td>\n",
       "      <td>M'apotlaki Ts'elho</td>\n",
       "      <td>F</td>\n",
       "      <td>15.0</td>\n",
       "      <td>NaN</td>\n",
       "      <td>NaN</td>\n",
       "      <td>Lesotho</td>\n",
       "      <td>LES</td>\n",
       "      <td>1996 Summer</td>\n",
       "      <td>1996</td>\n",
       "      <td>Summer</td>\n",
       "      <td>Atlanta</td>\n",
       "      <td>Athletics</td>\n",
       "      <td>Athletics Women's 4 x 100 metres Relay</td>\n",
       "      <td>NaN</td>\n",
       "      <td>NaN</td>\n",
       "      <td>Lesotho</td>\n",
       "      <td>2.135022e+06</td>\n",
       "      <td>1066.985626</td>\n",
       "    </tr>\n",
       "    <tr>\n",
       "      <th>245228</th>\n",
       "      <td>122215</td>\n",
       "      <td>Lefa Tsapi</td>\n",
       "      <td>M</td>\n",
       "      <td>23.0</td>\n",
       "      <td>170.0</td>\n",
       "      <td>63.0</td>\n",
       "      <td>Lesotho</td>\n",
       "      <td>LES</td>\n",
       "      <td>1984 Summer</td>\n",
       "      <td>1984</td>\n",
       "      <td>Summer</td>\n",
       "      <td>Los Angeles</td>\n",
       "      <td>Boxing</td>\n",
       "      <td>Boxing Men's Welterweight</td>\n",
       "      <td>NaN</td>\n",
       "      <td>NaN</td>\n",
       "      <td>Lesotho</td>\n",
       "      <td>2.135022e+06</td>\n",
       "      <td>1066.985626</td>\n",
       "    </tr>\n",
       "    <tr>\n",
       "      <th>245229</th>\n",
       "      <td>122299</td>\n",
       "      <td>Mosolesa Tsie</td>\n",
       "      <td>M</td>\n",
       "      <td>20.0</td>\n",
       "      <td>175.0</td>\n",
       "      <td>75.0</td>\n",
       "      <td>Lesotho</td>\n",
       "      <td>LES</td>\n",
       "      <td>2000 Summer</td>\n",
       "      <td>2000</td>\n",
       "      <td>Summer</td>\n",
       "      <td>Sydney</td>\n",
       "      <td>Boxing</td>\n",
       "      <td>Boxing Men's Welterweight</td>\n",
       "      <td>NaN</td>\n",
       "      <td>NaN</td>\n",
       "      <td>Lesotho</td>\n",
       "      <td>2.135022e+06</td>\n",
       "      <td>1066.985626</td>\n",
       "    </tr>\n",
       "  </tbody>\n",
       "</table>\n",
       "<p>245230 rows × 19 columns</p>\n",
       "</div>"
      ],
      "text/plain": [
       "            ID                Name Sex   Age  Height  Weight     Team  NOC  \\\n",
       "0            1           A Dijiang   M  24.0   180.0    80.0    China  CHN   \n",
       "1            2            A Lamusi   M  23.0   170.0    60.0    China  CHN   \n",
       "2          602       Abudoureheman   M  22.0   182.0    75.0    China  CHN   \n",
       "3         1463           Ai Linuer   M  25.0   160.0    62.0    China  CHN   \n",
       "4         1464           Ai Yanhan   F  14.0   168.0    54.0    China  CHN   \n",
       "...        ...                 ...  ..   ...     ...     ...      ...  ...   \n",
       "245225  120575     Mamorallo Tjoka   F  23.0   150.0    56.0  Lesotho  LES   \n",
       "245226  120575     Mamorallo Tjoka   F  27.0   150.0    56.0  Lesotho  LES   \n",
       "245227  122166  M'apotlaki Ts'elho   F  15.0     NaN     NaN  Lesotho  LES   \n",
       "245228  122215          Lefa Tsapi   M  23.0   170.0    63.0  Lesotho  LES   \n",
       "245229  122299       Mosolesa Tsie   M  20.0   175.0    75.0  Lesotho  LES   \n",
       "\n",
       "              Games  Year  Season            City       Sport  \\\n",
       "0       1992 Summer  1992  Summer       Barcelona  Basketball   \n",
       "1       2012 Summer  2012  Summer          London        Judo   \n",
       "2       2000 Summer  2000  Summer          Sydney      Boxing   \n",
       "3       2004 Summer  2004  Summer          Athina   Wrestling   \n",
       "4       2016 Summer  2016  Summer  Rio de Janeiro    Swimming   \n",
       "...             ...   ...     ...             ...         ...   \n",
       "245225  2008 Summer  2008  Summer         Beijing   Athletics   \n",
       "245226  2012 Summer  2012  Summer          London   Athletics   \n",
       "245227  1996 Summer  1996  Summer         Atlanta   Athletics   \n",
       "245228  1984 Summer  1984  Summer     Los Angeles      Boxing   \n",
       "245229  2000 Summer  2000  Summer          Sydney      Boxing   \n",
       "\n",
       "                                           Event Medal notes  Country  \\\n",
       "0                    Basketball Men's Basketball   NaN   NaN    China   \n",
       "1                   Judo Men's Extra-Lightweight   NaN   NaN    China   \n",
       "2                      Boxing Men's Middleweight   NaN   NaN    China   \n",
       "3       Wrestling Men's Lightweight, Greco-Roman   NaN   NaN    China   \n",
       "4          Swimming Women's 200 metres Freestyle   NaN   NaN    China   \n",
       "...                                          ...   ...   ...      ...   \n",
       "245225                Athletics Women's Marathon   NaN   NaN  Lesotho   \n",
       "245226                Athletics Women's Marathon   NaN   NaN  Lesotho   \n",
       "245227    Athletics Women's 4 x 100 metres Relay   NaN   NaN  Lesotho   \n",
       "245228                 Boxing Men's Welterweight   NaN   NaN  Lesotho   \n",
       "245229                 Boxing Men's Welterweight   NaN   NaN  Lesotho   \n",
       "\n",
       "          Population  PIB/habitant  \n",
       "0       1.371220e+09   8027.683810  \n",
       "1       1.371220e+09   8027.683810  \n",
       "2       1.371220e+09   8027.683810  \n",
       "3       1.371220e+09   8027.683810  \n",
       "4       1.371220e+09   8027.683810  \n",
       "...              ...           ...  \n",
       "245225  2.135022e+06   1066.985626  \n",
       "245226  2.135022e+06   1066.985626  \n",
       "245227  2.135022e+06   1066.985626  \n",
       "245228  2.135022e+06   1066.985626  \n",
       "245229  2.135022e+06   1066.985626  \n",
       "\n",
       "[245230 rows x 19 columns]"
      ]
     },
     "execution_count": 71,
     "metadata": {},
     "output_type": "execute_result"
    },
    {
     "name": "stdout",
     "output_type": "stream",
     "text": [
      "In [71] used -62.9 MiB RAM in 0.33s (system mean cpu 28%, single max cpu 64%), peaked 0.0 MiB above final usage, current RAM usage now 167.6 MiB\n"
     ]
    }
   ],
   "source": [
    "df_complete=df_complete.rename(columns={'Country_y':'Country'})\n",
    "\n",
    "df_complete"
   ]
  },
  {
   "cell_type": "markdown",
   "id": "4e71187b",
   "metadata": {},
   "source": [
    "### Analyse des valeurs manquantes sur la DF complète "
   ]
  },
  {
   "cell_type": "code",
   "execution_count": 72,
   "id": "67af21f0",
   "metadata": {},
   "outputs": [
    {
     "data": {
      "text/plain": [
       "ID                   0\n",
       "Name                 0\n",
       "Sex                  0\n",
       "Age               8731\n",
       "Height           55117\n",
       "Weight           57680\n",
       "Team                 0\n",
       "NOC                  0\n",
       "Games                0\n",
       "Year                 0\n",
       "Season               0\n",
       "City                 0\n",
       "Sport                0\n",
       "Event                0\n",
       "Medal           211545\n",
       "notes           243676\n",
       "Country              0\n",
       "Population        1280\n",
       "PIB/habitant      9325\n",
       "dtype: int64"
      ]
     },
     "execution_count": 72,
     "metadata": {},
     "output_type": "execute_result"
    },
    {
     "name": "stdout",
     "output_type": "stream",
     "text": [
      "In [72] used -99.8 MiB RAM in 0.25s (system mean cpu 34%, single max cpu 67%), peaked 0.0 MiB above final usage, current RAM usage now 67.9 MiB\n"
     ]
    }
   ],
   "source": [
    "df_complete.isnull().sum()"
   ]
  },
  {
   "cell_type": "markdown",
   "id": "170fccd0",
   "metadata": {},
   "source": [
    "Déjà on a pas de valeurs manquantes sur NOC et Country "
   ]
  },
  {
   "cell_type": "code",
   "execution_count": 73,
   "id": "2124d71a",
   "metadata": {},
   "outputs": [
    {
     "name": "stdout",
     "output_type": "stream",
     "text": [
      "<class 'pandas.core.frame.DataFrame'>\n",
      "RangeIndex: 245230 entries, 0 to 245229\n",
      "Data columns (total 19 columns):\n",
      " #   Column        Non-Null Count   Dtype  \n",
      "---  ------        --------------   -----  \n",
      " 0   ID            245230 non-null  int64  \n",
      " 1   Name          245230 non-null  object \n",
      " 2   Sex           245230 non-null  object \n",
      " 3   Age           236499 non-null  float64\n",
      " 4   Height        190113 non-null  float64\n",
      " 5   Weight        187550 non-null  float64\n",
      " 6   Team          245230 non-null  object \n",
      " 7   NOC           245230 non-null  object \n",
      " 8   Games         245230 non-null  object \n",
      " 9   Year          245230 non-null  int64  \n",
      " 10  Season        245230 non-null  object \n",
      " 11  City          245230 non-null  object \n",
      " 12  Sport         245230 non-null  object \n",
      " 13  Event         245230 non-null  object \n",
      " 14  Medal         33685 non-null   object \n",
      " 15  notes         1554 non-null    object \n",
      " 16  Country       245230 non-null  object \n",
      " 17  Population    243950 non-null  float64\n",
      " 18  PIB/habitant  235905 non-null  float64\n",
      "dtypes: float64(5), int64(2), object(12)\n",
      "memory usage: 35.5+ MB\n",
      "In [73] used 8.9 MiB RAM in 0.30s (system mean cpu 19%, single max cpu 34%), peaked 0.0 MiB above final usage, current RAM usage now 76.7 MiB\n"
     ]
    }
   ],
   "source": [
    "df_complete.info()"
   ]
  },
  {
   "cell_type": "code",
   "execution_count": 75,
   "id": "430a0836",
   "metadata": {},
   "outputs": [
    {
     "name": "stdout",
     "output_type": "stream",
     "text": [
      "In [75] used -4.2 MiB RAM in 0.18s (system mean cpu 15%, single max cpu 25%), peaked 0.0 MiB above final usage, current RAM usage now 81.8 MiB\n"
     ]
    }
   ],
   "source": [
    "df_complete=df_complete[df_complete['Year']>=2000]"
   ]
  },
  {
   "cell_type": "code",
   "execution_count": null,
   "id": "cc9da135",
   "metadata": {},
   "outputs": [],
   "source": []
  }
 ],
 "metadata": {
  "kernelspec": {
   "display_name": "Python 3",
   "language": "python",
   "name": "python3"
  },
  "language_info": {
   "codemirror_mode": {
    "name": "ipython",
    "version": 3
   },
   "file_extension": ".py",
   "mimetype": "text/x-python",
   "name": "python",
   "nbconvert_exporter": "python",
   "pygments_lexer": "ipython3",
   "version": "3.8.8"
  }
 },
 "nbformat": 4,
 "nbformat_minor": 5
}
