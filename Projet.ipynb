{
 "cells": [
  {
   "cell_type": "markdown",
   "metadata": {},
   "source": [
    "## Infos ( à supprimer ensuite)"
   ]
  },
  {
   "cell_type": "markdown",
   "metadata": {},
   "source": [
    "## Variables à ajouter issues des recherches biblio ( à supprimer ensuite)"
   ]
  },
  {
   "cell_type": "markdown",
   "metadata": {},
   "source": [
    "Variable(s): \n",
    "\n",
    "- Population des pays représentés \n",
    "- Variable indiquant si le pays est communiste ou pas \n",
    "- Variable indiquant si le pays est stable ou pas \n",
    "- Variable indiquant si le pays est émergeant ou pas ( otherwise pauvre , riche à peaufiner par la suite) \n",
    "- Variable indiquant si le pays a la culture du sport ou pas. \n",
    "- Variable indiquant le PIB par habitant \n",
    "- Variable indiquant les financements alloués aux sports (olympiques ou pas)\n"
   ]
  },
  {
   "cell_type": "markdown",
   "metadata": {},
   "source": [
    "Il faut créer le train et le test avec des données 2024 , il faut les construire , il faut aussi savoir traiter le fait que cette fois ci la Russie ne sera pas disponible .\n",
    "Faire indice : pays perturbé 1 avec Russie par exemple ou bien on enlève la Russie  (contexte géopolitique simple, on tah les années où j'ai eu un pb )\n",
    "\n",
    "But c'est de prédire le nombre de médailles pour chaque pays , indicateur simple \n",
    "EXTRA POUR AVOIR 20 : Attribuer un poid aux médailles -> pour potentiellement savoir le nb d'or , argent , bronze"
   ]
  },
  {
   "cell_type": "markdown",
   "metadata": {},
   "source": [
    "Attention au COVID 19 , influence public , web scrapping sur 30 ans de tous les pays qui ont organisé les jeux \n",
    "Attention aux pays pas autorisés à concourir \n",
    "Pays en guerre qui envoient moins d'athlètes \n",
    "Ukraine \n",
    "Palestine \n",
    "Iles caiman -> doivent être rattachées à un pays \n",
    "\n",
    "JO hiver \n",
    "JO été Corrélation \n",
    "Apparition des femmes dans les JO ( échantillonnage ) \n",
    "\n",
    "Culture du sport : Comment la créer ? \n",
    "Budget alloué aux sports (investissement , infrastructures ... ) \n",
    "Nb de professionnels \n",
    "Nb de licencés \n",
    "Nb de sports olympiques disponibles à l'école "
   ]
  },
  {
   "cell_type": "markdown",
   "metadata": {},
   "source": [
    "Variable : Pays Communiste ou pas \n",
    "\n",
    "Croissance pays économique \n",
    "\n",
    "Athlète à partir de 25 ans il n'a plus le niveau : on commence à partir de 2000 , JO Sydney \n",
    "\n",
    "Indice dvp des pays à recevoir \n",
    "\n",
    "Variable pays organisateur \n",
    "\n",
    "Sport qui ont des gens avec un âge bien définie (exemple skate Japonais c'est que des jeunes <= 18 ans)\n",
    "\n",
    "Dataset coupes mondes de discipline  \n",
    "    \n",
    "Variable Note selon l'âge \n",
    "\n",
    "Athlète qui sont comptés comme participant à deux pays \n",
    "\n",
    "Variable : religion majoritaire pays \n",
    "\n",
    "Espérance de vie par pays \n",
    "Variable pays dvp ou pas \n",
    "\n",
    "\n",
    "Recupérer données JO 2018 et 2021\n",
    "\n",
    "Variable Poids par Médailles : échelloner les JO de 1 à 10 pour \n",
    "Variable Poids par année : "
   ]
  },
  {
   "cell_type": "markdown",
   "metadata": {},
   "source": [
    "# Introduction  (Business Understanding) "
   ]
  },
  {
   "cell_type": "markdown",
   "metadata": {},
   "source": [
    "## Détermination objectifs métier, analytique du projet "
   ]
  },
  {
   "cell_type": "markdown",
   "metadata": {},
   "source": [
    "## Identifier les contraintes, limites et risque du projet"
   ]
  },
  {
   "cell_type": "markdown",
   "metadata": {},
   "source": [
    "## Chargement des packages si besoin "
   ]
  },
  {
   "cell_type": "code",
   "execution_count": 20,
   "metadata": {
    "ExecuteTime": {
     "end_time": "2024-04-08T16:44:15.287989Z",
     "start_time": "2024-04-08T16:44:11.603339Z"
    }
   },
   "outputs": [
    {
     "name": "stdout",
     "output_type": "stream",
     "text": [
      "The ipython_memory_usage extension is already loaded. To reload it, use:\n",
      "  %reload_ext ipython_memory_usage\n",
      "Requirement already satisfied: ydata_profiling in /Users/nathanst/opt/anaconda3/lib/python3.9/site-packages (4.6.0)\n",
      "Requirement already satisfied: scipy<1.12,>=1.4.1 in /Users/nathanst/opt/anaconda3/lib/python3.9/site-packages (from ydata_profiling) (1.11.4)\n",
      "Requirement already satisfied: pandas!=1.4.0,<2.1,>1.1 in /Users/nathanst/opt/anaconda3/lib/python3.9/site-packages (from ydata_profiling) (1.5.0)\n",
      "Requirement already satisfied: matplotlib<=3.7.3,>=3.2 in /Users/nathanst/opt/anaconda3/lib/python3.9/site-packages (from ydata_profiling) (3.7.3)\n",
      "Requirement already satisfied: pydantic<2,>=1.8.1 in /Users/nathanst/opt/anaconda3/lib/python3.9/site-packages (from ydata_profiling) (1.10.12)\n",
      "Requirement already satisfied: PyYAML<6.1,>=5.0.0 in /Users/nathanst/opt/anaconda3/lib/python3.9/site-packages (from ydata_profiling) (6.0.1)\n",
      "Requirement already satisfied: jinja2<3.2,>=2.11.1 in /Users/nathanst/opt/anaconda3/lib/python3.9/site-packages (from ydata_profiling) (3.0.3)\n",
      "Requirement already satisfied: visions==0.7.5 in /Users/nathanst/opt/anaconda3/lib/python3.9/site-packages (from visions[type_image_path]==0.7.5->ydata_profiling) (0.7.5)\n",
      "Requirement already satisfied: numpy<1.26,>=1.16.0 in /Users/nathanst/opt/anaconda3/lib/python3.9/site-packages (from ydata_profiling) (1.25.2)\n",
      "Requirement already satisfied: htmlmin==0.1.12 in /Users/nathanst/opt/anaconda3/lib/python3.9/site-packages (from ydata_profiling) (0.1.12)\n",
      "Requirement already satisfied: phik<0.13,>=0.11.1 in /Users/nathanst/opt/anaconda3/lib/python3.9/site-packages (from ydata_profiling) (0.12.4)\n",
      "Requirement already satisfied: requests<3,>=2.24.0 in /Users/nathanst/opt/anaconda3/lib/python3.9/site-packages (from ydata_profiling) (2.31.0)\n",
      "Requirement already satisfied: tqdm<5,>=4.48.2 in /Users/nathanst/opt/anaconda3/lib/python3.9/site-packages (from ydata_profiling) (4.65.0)\n",
      "Requirement already satisfied: seaborn<0.13,>=0.10.1 in /Users/nathanst/opt/anaconda3/lib/python3.9/site-packages (from ydata_profiling) (0.12.2)\n",
      "Requirement already satisfied: multimethod<2,>=1.4 in /Users/nathanst/opt/anaconda3/lib/python3.9/site-packages (from ydata_profiling) (1.11)\n",
      "Requirement already satisfied: statsmodels<1,>=0.13.2 in /Users/nathanst/opt/anaconda3/lib/python3.9/site-packages (from ydata_profiling) (0.14.1)\n",
      "Requirement already satisfied: typeguard<5,>=4.1.2 in /Users/nathanst/opt/anaconda3/lib/python3.9/site-packages (from ydata_profiling) (4.1.5)\n",
      "Requirement already satisfied: imagehash==4.3.1 in /Users/nathanst/opt/anaconda3/lib/python3.9/site-packages (from ydata_profiling) (4.3.1)\n",
      "Requirement already satisfied: wordcloud>=1.9.1 in /Users/nathanst/opt/anaconda3/lib/python3.9/site-packages (from ydata_profiling) (1.9.3)\n",
      "Requirement already satisfied: dacite>=1.8 in /Users/nathanst/opt/anaconda3/lib/python3.9/site-packages (from ydata_profiling) (1.8.1)\n",
      "Requirement already satisfied: numba<0.59.0,>=0.56.0 in /Users/nathanst/opt/anaconda3/lib/python3.9/site-packages (from ydata_profiling) (0.58.1)\n",
      "Requirement already satisfied: PyWavelets in /Users/nathanst/opt/anaconda3/lib/python3.9/site-packages (from imagehash==4.3.1->ydata_profiling) (1.5.0)\n",
      "Requirement already satisfied: pillow in /Users/nathanst/opt/anaconda3/lib/python3.9/site-packages (from imagehash==4.3.1->ydata_profiling) (10.2.0)\n",
      "Requirement already satisfied: attrs>=19.3.0 in /Users/nathanst/opt/anaconda3/lib/python3.9/site-packages (from visions==0.7.5->visions[type_image_path]==0.7.5->ydata_profiling) (23.1.0)\n",
      "Requirement already satisfied: networkx>=2.4 in /Users/nathanst/opt/anaconda3/lib/python3.9/site-packages (from visions==0.7.5->visions[type_image_path]==0.7.5->ydata_profiling) (3.2.1)\n",
      "Requirement already satisfied: tangled-up-in-unicode>=0.0.4 in /Users/nathanst/opt/anaconda3/lib/python3.9/site-packages (from visions==0.7.5->visions[type_image_path]==0.7.5->ydata_profiling) (0.2.0)\n",
      "\u001b[33mWARNING: visions 0.7.5 does not provide the extra 'type-image-path'\u001b[0m\u001b[33m\n",
      "\u001b[0mRequirement already satisfied: MarkupSafe>=2.0 in /Users/nathanst/opt/anaconda3/lib/python3.9/site-packages (from jinja2<3.2,>=2.11.1->ydata_profiling) (2.1.1)\n",
      "Requirement already satisfied: contourpy>=1.0.1 in /Users/nathanst/opt/anaconda3/lib/python3.9/site-packages (from matplotlib<=3.7.3,>=3.2->ydata_profiling) (1.2.0)\n",
      "Requirement already satisfied: cycler>=0.10 in /Users/nathanst/opt/anaconda3/lib/python3.9/site-packages (from matplotlib<=3.7.3,>=3.2->ydata_profiling) (0.12.1)\n",
      "Requirement already satisfied: fonttools>=4.22.0 in /Users/nathanst/opt/anaconda3/lib/python3.9/site-packages (from matplotlib<=3.7.3,>=3.2->ydata_profiling) (4.46.0)\n",
      "Requirement already satisfied: kiwisolver>=1.0.1 in /Users/nathanst/opt/anaconda3/lib/python3.9/site-packages (from matplotlib<=3.7.3,>=3.2->ydata_profiling) (1.4.5)\n",
      "Requirement already satisfied: packaging>=20.0 in /Users/nathanst/opt/anaconda3/lib/python3.9/site-packages (from matplotlib<=3.7.3,>=3.2->ydata_profiling) (23.1)\n",
      "Requirement already satisfied: pyparsing>=2.3.1 in /Users/nathanst/opt/anaconda3/lib/python3.9/site-packages (from matplotlib<=3.7.3,>=3.2->ydata_profiling) (3.1.1)\n",
      "Requirement already satisfied: python-dateutil>=2.7 in /Users/nathanst/opt/anaconda3/lib/python3.9/site-packages (from matplotlib<=3.7.3,>=3.2->ydata_profiling) (2.8.2)\n",
      "Requirement already satisfied: importlib-resources>=3.2.0 in /Users/nathanst/opt/anaconda3/lib/python3.9/site-packages (from matplotlib<=3.7.3,>=3.2->ydata_profiling) (6.1.1)\n",
      "Requirement already satisfied: llvmlite<0.42,>=0.41.0dev0 in /Users/nathanst/opt/anaconda3/lib/python3.9/site-packages (from numba<0.59.0,>=0.56.0->ydata_profiling) (0.41.1)\n",
      "Requirement already satisfied: pytz>=2020.1 in /Users/nathanst/opt/anaconda3/lib/python3.9/site-packages (from pandas!=1.4.0,<2.1,>1.1->ydata_profiling) (2023.3.post1)\n",
      "Requirement already satisfied: joblib>=0.14.1 in /Users/nathanst/opt/anaconda3/lib/python3.9/site-packages (from phik<0.13,>=0.11.1->ydata_profiling) (1.3.2)\n",
      "Requirement already satisfied: typing-extensions>=4.2.0 in /Users/nathanst/opt/anaconda3/lib/python3.9/site-packages (from pydantic<2,>=1.8.1->ydata_profiling) (4.10.0)\n",
      "Requirement already satisfied: charset-normalizer<4,>=2 in /Users/nathanst/opt/anaconda3/lib/python3.9/site-packages (from requests<3,>=2.24.0->ydata_profiling) (2.0.4)\n",
      "Requirement already satisfied: idna<4,>=2.5 in /Users/nathanst/opt/anaconda3/lib/python3.9/site-packages (from requests<3,>=2.24.0->ydata_profiling) (3.4)\n",
      "Requirement already satisfied: urllib3<3,>=1.21.1 in /Users/nathanst/opt/anaconda3/lib/python3.9/site-packages (from requests<3,>=2.24.0->ydata_profiling) (1.26.18)\n",
      "Requirement already satisfied: certifi>=2017.4.17 in /Users/nathanst/opt/anaconda3/lib/python3.9/site-packages (from requests<3,>=2.24.0->ydata_profiling) (2023.7.22)\n",
      "Requirement already satisfied: patsy>=0.5.4 in /Users/nathanst/opt/anaconda3/lib/python3.9/site-packages (from statsmodels<1,>=0.13.2->ydata_profiling) (0.5.6)\n",
      "Requirement already satisfied: importlib-metadata>=3.6 in /Users/nathanst/opt/anaconda3/lib/python3.9/site-packages (from typeguard<5,>=4.1.2->ydata_profiling) (6.0.0)\n",
      "Requirement already satisfied: zipp>=0.5 in /Users/nathanst/opt/anaconda3/lib/python3.9/site-packages (from importlib-metadata>=3.6->typeguard<5,>=4.1.2->ydata_profiling) (3.11.0)\n",
      "Requirement already satisfied: six in /Users/nathanst/opt/anaconda3/lib/python3.9/site-packages (from patsy>=0.5.4->statsmodels<1,>=0.13.2->ydata_profiling) (1.16.0)\n",
      "In [20] used -5.0 MiB RAM in 2.40s (system mean cpu 32%, single max cpu 80%), peaked 5.0 MiB above final usage, current RAM usage now 461.8 MiB\n"
     ]
    }
   ],
   "source": [
    "%load_ext ipython_memory_usage \n",
    "!pip install ydata_profiling\n",
    "\n",
    "from ydata_profiling import ProfileReport\n",
    "\n",
    "import pandas as pd\n",
    "import numpy as np\n",
    "import ipython_memory_usage.ipython_memory_usage as imu\n",
    "from describe_csv import *  # charge le fichier describe_csv.py par chunk de 10 000 (10**4)\n",
    "\n",
    "import math\n",
    "%matplotlib inline\n",
    "import matplotlib.pyplot as plt\n",
    "from matplotlib.pyplot import *\n",
    "import scipy as sp\n",
    "import scipy.stats\n",
    "from pivottablejs import pivot_ui\n",
    "import seaborn as sns\n",
    "\n",
    "from sklearn.impute import SimpleImputer\n",
    "from sklearn.impute import KNNImputer\n",
    "from sklearn import metrics\n",
    "from sklearn import preprocessing\n",
    "from sklearn.ensemble import RandomForestClassifier\n",
    "from sklearn.model_selection import cross_val_score\n",
    "from sklearn.model_selection import GridSearchCV, RandomizedSearchCV\n",
    "from sklearn.model_selection import train_test_split\n",
    "\n",
    "from sklearn.pipeline import make_pipeline, make_union\n",
    "from sklearn.pipeline import Pipeline, FeatureUnion\n",
    "from sklearn.impute import SimpleImputer\n",
    "from sklearn.compose import ColumnTransformer, make_column_transformer, make_column_selector\n",
    "from sklearn.preprocessing import OneHotEncoder, StandardScaler, RobustScaler\n",
    "from sklearn.preprocessing import FunctionTransformer\n",
    "from sklearn.metrics import accuracy_score\n",
    "from sklearn.ensemble import RandomForestClassifier\n",
    "\n",
    "\n",
    "from bs4 import BeautifulSoup\n",
    "import requests\n",
    "import re\n",
    "import datetime\n",
    "\n",
    "imu.start_watching_memory() "
   ]
  },
  {
   "cell_type": "markdown",
   "metadata": {},
   "source": [
    "# CODE  "
   ]
  },
  {
   "cell_type": "markdown",
   "metadata": {},
   "source": [
    "## Bases de données disponibles "
   ]
  },
  {
   "cell_type": "code",
   "execution_count": 3,
   "metadata": {},
   "outputs": [
    {
     "name": "stdout",
     "output_type": "stream",
     "text": [
      "In [3] used 167.5 MiB RAM in 0.52s (system mean cpu 25%, single max cpu 64%), peaked 0.0 MiB above final usage, current RAM usage now 452.2 MiB\n"
     ]
    }
   ],
   "source": [
    "df_athlete=pd.read_csv('data/athlete_events.csv')\n",
    "df_region=pd.read_csv('data/noc_regions.csv')\n",
    "df_dictionnary=pd.read_csv('data/worldcities.csv', sep=';')"
   ]
  },
  {
   "cell_type": "markdown",
   "metadata": {},
   "source": [
    "#### Pays organisateurs"
   ]
  },
  {
   "cell_type": "code",
   "execution_count": 4,
   "metadata": {},
   "outputs": [
    {
     "name": "stdout",
     "output_type": "stream",
     "text": [
      "In [4] used 5.1 MiB RAM in 1.00s (system mean cpu 34%, single max cpu 100%), peaked 0.0 MiB above final usage, current RAM usage now 457.2 MiB\n"
     ]
    }
   ],
   "source": [
    "# TODO: Changer le nom des variables\n",
    "url='https://www.topendsports.com/events/summer/hosts/list.htm'\n",
    "response=requests.get(url)\n",
    "url_2='https://en.wikipedia.org/wiki/List_of_Olympic_Games_host_cities'\n",
    "\n",
    "response_2=requests.get(url_2)\n",
    "\n",
    "soup_2=BeautifulSoup(response_2.text,'html.parser')"
   ]
  },
  {
   "cell_type": "code",
   "execution_count": 5,
   "metadata": {},
   "outputs": [
    {
     "name": "stdout",
     "output_type": "stream",
     "text": [
      "In [5] used 0.0 MiB RAM in 0.12s (system mean cpu 20%, single max cpu 55%), peaked 0.0 MiB above final usage, current RAM usage now 457.2 MiB\n"
     ]
    }
   ],
   "source": [
    "# TODO: Changer le nom des variables\n",
    "\n",
    "# Récupération des éléments de la page\n",
    "L_pays=[]\n",
    "L_annees=[]\n",
    "elements=soup_2.findAll('span',class_='datasortkey')\n",
    "\n",
    "for element in elements:\n",
    "    pays=element.find('a').text\n",
    "    L_pays.append(pays)\n",
    "\n",
    "L_pays=L_pays[42:58]"
   ]
  },
  {
   "cell_type": "code",
   "execution_count": 6,
   "metadata": {},
   "outputs": [
    {
     "data": {
      "text/plain": [
       "[2000,\n",
       " 2002,\n",
       " 2004,\n",
       " 2006,\n",
       " 2008,\n",
       " 2010,\n",
       " 2012,\n",
       " 2014,\n",
       " 2016,\n",
       " 2018,\n",
       " 2020,\n",
       " 2022,\n",
       " 2024,\n",
       " 2026,\n",
       " 2028,\n",
       " 2032]"
      ]
     },
     "execution_count": 6,
     "metadata": {},
     "output_type": "execute_result"
    },
    {
     "name": "stdout",
     "output_type": "stream",
     "text": [
      "In [6] used 0.0 MiB RAM in 0.11s (system mean cpu 16%, single max cpu 32%), peaked 0.0 MiB above final usage, current RAM usage now 457.2 MiB\n"
     ]
    }
   ],
   "source": [
    "# Itération des années\n",
    "L_annees_2=[2000 + i  for i in range(0,34,2)]\n",
    "L_annees_2.pop(-2)\n",
    "\n",
    "L_annees_2"
   ]
  },
  {
   "cell_type": "code",
   "execution_count": 7,
   "metadata": {},
   "outputs": [
    {
     "data": {
      "text/html": [
       "<div>\n",
       "<style scoped>\n",
       "    .dataframe tbody tr th:only-of-type {\n",
       "        vertical-align: middle;\n",
       "    }\n",
       "\n",
       "    .dataframe tbody tr th {\n",
       "        vertical-align: top;\n",
       "    }\n",
       "\n",
       "    .dataframe thead th {\n",
       "        text-align: right;\n",
       "    }\n",
       "</style>\n",
       "<table border=\"1\" class=\"dataframe\">\n",
       "  <thead>\n",
       "    <tr style=\"text-align: right;\">\n",
       "      <th></th>\n",
       "      <th>Host_country</th>\n",
       "      <th>Year</th>\n",
       "    </tr>\n",
       "  </thead>\n",
       "  <tbody>\n",
       "    <tr>\n",
       "      <th>0</th>\n",
       "      <td>Australia</td>\n",
       "      <td>2000</td>\n",
       "    </tr>\n",
       "    <tr>\n",
       "      <th>1</th>\n",
       "      <td>United States</td>\n",
       "      <td>2002</td>\n",
       "    </tr>\n",
       "    <tr>\n",
       "      <th>2</th>\n",
       "      <td>Greece</td>\n",
       "      <td>2004</td>\n",
       "    </tr>\n",
       "    <tr>\n",
       "      <th>3</th>\n",
       "      <td>Italy</td>\n",
       "      <td>2006</td>\n",
       "    </tr>\n",
       "    <tr>\n",
       "      <th>4</th>\n",
       "      <td>China</td>\n",
       "      <td>2008</td>\n",
       "    </tr>\n",
       "    <tr>\n",
       "      <th>5</th>\n",
       "      <td>Canada</td>\n",
       "      <td>2010</td>\n",
       "    </tr>\n",
       "    <tr>\n",
       "      <th>6</th>\n",
       "      <td>United Kingdom</td>\n",
       "      <td>2012</td>\n",
       "    </tr>\n",
       "    <tr>\n",
       "      <th>7</th>\n",
       "      <td>Russia</td>\n",
       "      <td>2014</td>\n",
       "    </tr>\n",
       "    <tr>\n",
       "      <th>8</th>\n",
       "      <td>Brazil</td>\n",
       "      <td>2016</td>\n",
       "    </tr>\n",
       "    <tr>\n",
       "      <th>9</th>\n",
       "      <td>South Korea</td>\n",
       "      <td>2018</td>\n",
       "    </tr>\n",
       "    <tr>\n",
       "      <th>10</th>\n",
       "      <td>Japan</td>\n",
       "      <td>2020</td>\n",
       "    </tr>\n",
       "    <tr>\n",
       "      <th>11</th>\n",
       "      <td>China</td>\n",
       "      <td>2022</td>\n",
       "    </tr>\n",
       "    <tr>\n",
       "      <th>12</th>\n",
       "      <td>France</td>\n",
       "      <td>2024</td>\n",
       "    </tr>\n",
       "    <tr>\n",
       "      <th>13</th>\n",
       "      <td>Italy</td>\n",
       "      <td>2026</td>\n",
       "    </tr>\n",
       "    <tr>\n",
       "      <th>14</th>\n",
       "      <td>United States</td>\n",
       "      <td>2028</td>\n",
       "    </tr>\n",
       "    <tr>\n",
       "      <th>15</th>\n",
       "      <td>Australia</td>\n",
       "      <td>2032</td>\n",
       "    </tr>\n",
       "  </tbody>\n",
       "</table>\n",
       "</div>"
      ],
      "text/plain": [
       "      Host_country  Year\n",
       "0        Australia  2000\n",
       "1    United States  2002\n",
       "2           Greece  2004\n",
       "3            Italy  2006\n",
       "4            China  2008\n",
       "5           Canada  2010\n",
       "6   United Kingdom  2012\n",
       "7           Russia  2014\n",
       "8           Brazil  2016\n",
       "9      South Korea  2018\n",
       "10           Japan  2020\n",
       "11           China  2022\n",
       "12          France  2024\n",
       "13           Italy  2026\n",
       "14   United States  2028\n",
       "15       Australia  2032"
      ]
     },
     "execution_count": 7,
     "metadata": {},
     "output_type": "execute_result"
    },
    {
     "name": "stdout",
     "output_type": "stream",
     "text": [
      "In [7] used 0.2 MiB RAM in 0.12s (system mean cpu 16%, single max cpu 27%), peaked 0.0 MiB above final usage, current RAM usage now 457.4 MiB\n"
     ]
    }
   ],
   "source": [
    "# On lie les pays et les années\n",
    "\n",
    "L_pays_annee=[]\n",
    "for i in range(len(L_pays)):\n",
    "    L_pays_annee.append((L_pays[i],L_annees_2[i]))\n",
    "\n",
    "df_hote=pd.DataFrame(L_pays_annee,columns=['Host_country','Year'])\n",
    "\n",
    "df_hote"
   ]
  },
  {
   "cell_type": "markdown",
   "metadata": {},
   "source": [
    "#### Pays avec un passé communiste"
   ]
  },
  {
   "cell_type": "code",
   "execution_count": 8,
   "metadata": {},
   "outputs": [
    {
     "name": "stdout",
     "output_type": "stream",
     "text": [
      "In [8] used 0.9 MiB RAM in 0.49s (system mean cpu 18%, single max cpu 54%), peaked 0.0 MiB above final usage, current RAM usage now 458.3 MiB\n"
     ]
    }
   ],
   "source": [
    "url_soviet='https://en.wikipedia.org/wiki/Post-Soviet_states'\n",
    "response_soviet=requests.get(url_soviet)\n",
    "soup_soviet=BeautifulSoup(response_soviet.text,'html.parser')\n",
    "\n",
    "L_pays_soviet=[]\n",
    "\n",
    "pays_soviet=soup_soviet.findAll('b')\n",
    "#print(pays_soviet)\n",
    "for pays in pays_soviet:\n",
    "    b=pays.find('a')\n",
    "    if b is not None:\n",
    "        L_pays_soviet.append(b.text)\n",
    "L_pays_soviet=L_pays_soviet[:15]\n",
    "\n",
    "complete_urss_regime=lambda x : 1 if x in L_pays_soviet else 0"
   ]
  },
  {
   "cell_type": "markdown",
   "metadata": {},
   "source": [
    "#### Scrap population et GDP"
   ]
  },
  {
   "cell_type": "code",
   "execution_count": 11,
   "metadata": {},
   "outputs": [
    {
     "data": {
      "text/plain": [
       "177"
      ]
     },
     "execution_count": 11,
     "metadata": {},
     "output_type": "execute_result"
    },
    {
     "name": "stdout",
     "output_type": "stream",
     "text": [
      "In [11] used 0.8 MiB RAM in 0.82s (system mean cpu 24%, single max cpu 69%), peaked 0.0 MiB above final usage, current RAM usage now 460.0 MiB\n"
     ]
    }
   ],
   "source": [
    "url_pop_gpa='https://www.worldometers.info/gdp/gdp-by-country/'\n",
    "response_pop_gpa=requests.get(url_pop_gpa)\n",
    "soup_pop_gpa=BeautifulSoup(response_pop_gpa.text,'html.parser')\n",
    "\n",
    "L_pays=[]\n",
    "\n",
    "all_countries=soup_pop_gpa.findAll('td')\n",
    "\n",
    "for country in all_countries:\n",
    "    a=country.find('a')\n",
    "    if a is not None:\n",
    "        L_pays.append(a.text)\n",
    "len(L_pays)"
   ]
  },
  {
   "cell_type": "code",
   "execution_count": 12,
   "metadata": {},
   "outputs": [
    {
     "name": "stdout",
     "output_type": "stream",
     "text": [
      "177\n"
     ]
    },
    {
     "data": {
      "text/plain": [
       "[25462700000000,\n",
       " 17963200000000,\n",
       " 4231140000000,\n",
       " 4072190000000,\n",
       " 3385090000000,\n",
       " 3070670000000,\n",
       " 2782910000000,\n",
       " 2240420000000,\n",
       " 2139840000000,\n",
       " 2010430000000,\n",
       " 1920100000000,\n",
       " 1675420000000,\n",
       " 1665250000000,\n",
       " 1414190000000,\n",
       " 1397510000000,\n",
       " 1319100000000,\n",
       " 1108150000000,\n",
       " 991115000000,\n",
       " 905988000000,\n",
       " 807706000000,\n",
       " 688177000000,\n",
       " 632770000000,\n",
       " 585939000000,\n",
       " 579267000000,\n",
       " 578604000000,\n",
       " 529245000000,\n",
       " 522033000000,\n",
       " 507535000000,\n",
       " 495341000000,\n",
       " 477386000000,\n",
       " 476748000000,\n",
       " 471400000000,\n",
       " 466789000000,\n",
       " 460201000000,\n",
       " 408802000000,\n",
       " 406306000000,\n",
       " 405870000000,\n",
       " 404284000000,\n",
       " 395404000000,\n",
       " 388544000000,\n",
       " 376533000000,\n",
       " 359839000000,\n",
       " 343939000000,\n",
       " 301262000000,\n",
       " 301025000000,\n",
       " 290924000000,\n",
       " 280826000000,\n",
       " 264182000000,\n",
       " 251945000000,\n",
       " 247234000000,\n",
       " 242632000000,\n",
       " 237296000000,\n",
       " 220623000000,\n",
       " 219066000000,\n",
       " 191913000000,\n",
       " 184558000000,\n",
       " 178789000000,\n",
       " 160503000000,\n",
       " 134182000000,\n",
       " 126783000000,\n",
       " 115469000000,\n",
       " 115049000000,\n",
       " 114667000000,\n",
       " 113642000000,\n",
       " 113420000000,\n",
       " 106714000000,\n",
       " 95003333381,\n",
       " 89040398406,\n",
       " 82274812251,\n",
       " 80391853885,\n",
       " 78721058824,\n",
       " 76522511781,\n",
       " 75709289056,\n",
       " 74403578363,\n",
       " 72838798788,\n",
       " 72793457588,\n",
       " 71177146197,\n",
       " 70964606465,\n",
       " 70334299008,\n",
       " 70018715017,\n",
       " 68380838316,\n",
       " 63501748652,\n",
       " 62117768015,\n",
       " 59364362541,\n",
       " 58065953573,\n",
       " 51662241775,\n",
       " 47451499859,\n",
       " 46664948952,\n",
       " 45752336036,\n",
       " 45559202049,\n",
       " 44390820479,\n",
       " 44341646509,\n",
       " 43068885673,\n",
       " 41722295362,\n",
       " 41153912663,\n",
       " 40828247302,\n",
       " 38100812959,\n",
       " 32488720000,\n",
       " 31717700115,\n",
       " 30633444295,\n",
       " 29956769529,\n",
       " 29784454056,\n",
       " 28439052741,\n",
       " 27899082337,\n",
       " 27841648044,\n",
       " 27684430244,\n",
       " 24605375420,\n",
       " 24527507288,\n",
       " 21979475561,\n",
       " 21227749389,\n",
       " 21071739228,\n",
       " 20678055598,\n",
       " 20352322157,\n",
       " 20253551885,\n",
       " 19502783988,\n",
       " 19111900000,\n",
       " 18884619613,\n",
       " 18882095518,\n",
       " 18827176532,\n",
       " 17851491428,\n",
       " 17765270015,\n",
       " 17401746309,\n",
       " 17097760745,\n",
       " 16810883361,\n",
       " 16681531646,\n",
       " 15724383783,\n",
       " 15671583878,\n",
       " 15357537068,\n",
       " 14954967604,\n",
       " 14615532210,\n",
       " 14420947884,\n",
       " 13969605583,\n",
       " 13563132057,\n",
       " 13312796765,\n",
       " 13164667627,\n",
       " 12898307089,\n",
       " 12897400000,\n",
       " 12704149842,\n",
       " 12607436976,\n",
       " 11813908448,\n",
       " 10930644915,\n",
       " 10492123388,\n",
       " 10375460680,\n",
       " 8126439481,\n",
       " 6189865408,\n",
       " 6095978868,\n",
       " 5637914515,\n",
       " 4943248200,\n",
       " 4854167638,\n",
       " 4001047150,\n",
       " 3970343852,\n",
       " 3620655116,\n",
       " 3352032737,\n",
       " 3163324631,\n",
       " 3073414678,\n",
       " 2824081836,\n",
       " 2553459763,\n",
       " 2382618615,\n",
       " 2314816792,\n",
       " 2273060863,\n",
       " 2065027556,\n",
       " 1757603704,\n",
       " 1633559092,\n",
       " 1595710784,\n",
       " 1588406479,\n",
       " 1256413185,\n",
       " 1242519407,\n",
       " 983582865,\n",
       " 961563259,\n",
       " 948558503,\n",
       " 832421565,\n",
       " 612048148,\n",
       " 546680342,\n",
       " 427094119,\n",
       " 279667900,\n",
       " 223352943,\n",
       " 60349391]"
      ]
     },
     "execution_count": 12,
     "metadata": {},
     "output_type": "execute_result"
    },
    {
     "name": "stdout",
     "output_type": "stream",
     "text": [
      "In [12] used 0.0 MiB RAM in 0.12s (system mean cpu 19%, single max cpu 32%), peaked 0.0 MiB above final usage, current RAM usage now 460.0 MiB\n"
     ]
    }
   ],
   "source": [
    "all_info=soup_pop_gpa.findAll('td',attrs={'style':'font-weight: bold; text-align:right;'})\n",
    "\n",
    "numbers=[]\n",
    "for i,info in enumerate(all_info):\n",
    "    b=re.findall(r'\\d+\\b', info.text)\n",
    "    b=''.join(b)\n",
    "    numbers.append(b)\n",
    "   \n",
    "population=[]\n",
    "gpd_per_habitant=[]\n",
    "PIB_liste=[]\n",
    "for i in range(0,len(numbers),6):\n",
    "    PIB_liste.append(int(numbers[i]))\n",
    "for i in range(3,len(numbers),6):\n",
    "    population.append(int(numbers[i]))\n",
    "for i in range(4,len(numbers),6):\n",
    "    gpd_per_habitant.append(int(numbers[i]))\n",
    "\n",
    "print(len(PIB_liste))\n",
    "PIB_liste"
   ]
  },
  {
   "cell_type": "code",
   "execution_count": 13,
   "metadata": {},
   "outputs": [
    {
     "data": {
      "text/html": [
       "<div>\n",
       "<style scoped>\n",
       "    .dataframe tbody tr th:only-of-type {\n",
       "        vertical-align: middle;\n",
       "    }\n",
       "\n",
       "    .dataframe tbody tr th {\n",
       "        vertical-align: top;\n",
       "    }\n",
       "\n",
       "    .dataframe thead th {\n",
       "        text-align: right;\n",
       "    }\n",
       "</style>\n",
       "<table border=\"1\" class=\"dataframe\">\n",
       "  <thead>\n",
       "    <tr style=\"text-align: right;\">\n",
       "      <th></th>\n",
       "      <th>Country</th>\n",
       "      <th>PIB</th>\n",
       "      <th>Population</th>\n",
       "      <th>PIB/habitant</th>\n",
       "    </tr>\n",
       "  </thead>\n",
       "  <tbody>\n",
       "    <tr>\n",
       "      <th>0</th>\n",
       "      <td>United States</td>\n",
       "      <td>25462700000000</td>\n",
       "      <td>338289857</td>\n",
       "      <td>75269</td>\n",
       "    </tr>\n",
       "    <tr>\n",
       "      <th>1</th>\n",
       "      <td>China</td>\n",
       "      <td>17963200000000</td>\n",
       "      <td>1425887337</td>\n",
       "      <td>12598</td>\n",
       "    </tr>\n",
       "    <tr>\n",
       "      <th>2</th>\n",
       "      <td>Japan</td>\n",
       "      <td>4231140000000</td>\n",
       "      <td>123951692</td>\n",
       "      <td>34135</td>\n",
       "    </tr>\n",
       "    <tr>\n",
       "      <th>3</th>\n",
       "      <td>Germany</td>\n",
       "      <td>4072190000000</td>\n",
       "      <td>83369843</td>\n",
       "      <td>48845</td>\n",
       "    </tr>\n",
       "    <tr>\n",
       "      <th>4</th>\n",
       "      <td>India</td>\n",
       "      <td>3385090000000</td>\n",
       "      <td>1417173173</td>\n",
       "      <td>2389</td>\n",
       "    </tr>\n",
       "    <tr>\n",
       "      <th>...</th>\n",
       "      <td>...</td>\n",
       "      <td>...</td>\n",
       "      <td>...</td>\n",
       "      <td>...</td>\n",
       "    </tr>\n",
       "    <tr>\n",
       "      <th>172</th>\n",
       "      <td>Sao Tome &amp; Principe</td>\n",
       "      <td>546680342</td>\n",
       "      <td>227380</td>\n",
       "      <td>2404</td>\n",
       "    </tr>\n",
       "    <tr>\n",
       "      <th>173</th>\n",
       "      <td>Micronesia</td>\n",
       "      <td>427094119</td>\n",
       "      <td>539013</td>\n",
       "      <td>792</td>\n",
       "    </tr>\n",
       "    <tr>\n",
       "      <th>174</th>\n",
       "      <td>Marshall Islands</td>\n",
       "      <td>279667900</td>\n",
       "      <td>41569</td>\n",
       "      <td>6728</td>\n",
       "    </tr>\n",
       "    <tr>\n",
       "      <th>175</th>\n",
       "      <td>Kiribati</td>\n",
       "      <td>223352943</td>\n",
       "      <td>131232</td>\n",
       "      <td>1702</td>\n",
       "    </tr>\n",
       "    <tr>\n",
       "      <th>176</th>\n",
       "      <td>Tuvalu</td>\n",
       "      <td>60349391</td>\n",
       "      <td>11312</td>\n",
       "      <td>5335</td>\n",
       "    </tr>\n",
       "  </tbody>\n",
       "</table>\n",
       "<p>177 rows × 4 columns</p>\n",
       "</div>"
      ],
      "text/plain": [
       "                 Country             PIB  Population  PIB/habitant\n",
       "0          United States  25462700000000   338289857         75269\n",
       "1                  China  17963200000000  1425887337         12598\n",
       "2                  Japan   4231140000000   123951692         34135\n",
       "3                Germany   4072190000000    83369843         48845\n",
       "4                  India   3385090000000  1417173173          2389\n",
       "..                   ...             ...         ...           ...\n",
       "172  Sao Tome & Principe       546680342      227380          2404\n",
       "173           Micronesia       427094119      539013           792\n",
       "174     Marshall Islands       279667900       41569          6728\n",
       "175             Kiribati       223352943      131232          1702\n",
       "176               Tuvalu        60349391       11312          5335\n",
       "\n",
       "[177 rows x 4 columns]"
      ]
     },
     "execution_count": 13,
     "metadata": {},
     "output_type": "execute_result"
    },
    {
     "name": "stdout",
     "output_type": "stream",
     "text": [
      "In [13] used 0.1 MiB RAM in 0.11s (system mean cpu 15%, single max cpu 26%), peaked 0.0 MiB above final usage, current RAM usage now 460.1 MiB\n"
     ]
    }
   ],
   "source": [
    "# On replace les pays qui n'ont pas le même nom\n",
    "df_pop_gpd=pd.DataFrame({'Country':L_pays,'PIB':PIB_liste,'Population':population,'PIB/habitant':gpd_per_habitant})\n",
    "\n",
    "df_pop_gpd['Country']=df_pop_gpd['Country'].replace('Trinidad and Tobago','Trinidad')\n",
    "df_pop_gpd['Country']=df_pop_gpd['Country'].replace('State of Palestine','Palestine, Occupied Territories')\n",
    "df_pop_gpd['Country']=df_pop_gpd['Country'].replace('Singapore','Singapour')\n",
    "df_pop_gpd['Country']=df_pop_gpd['Country'].replace('Czech Republic (Czechia)','Czech Republic')\n",
    "df_pop_gpd['Country']=df_pop_gpd['Country'].replace(\"Côte d'Ivoire\" ,\"Cote d'Ivoire\")\n",
    "\n",
    "df_pop_gpd"
   ]
  },
  {
   "cell_type": "code",
   "execution_count": 14,
   "metadata": {},
   "outputs": [
    {
     "name": "stdout",
     "output_type": "stream",
     "text": [
      "In [14] used 0.1 MiB RAM in 0.11s (system mean cpu 15%, single max cpu 27%), peaked 0.0 MiB above final usage, current RAM usage now 460.3 MiB\n"
     ]
    }
   ],
   "source": [
    "# Pays qui manquaient sur le site scrappé, données récupérées manuellement\n",
    "df_pop_gpd=pd.concat([df_pop_gpd,pd.DataFrame([['Taiwan',762670000000,23923276,44460],\n",
    "                                               ['Cook Islands',220000000,17044,13558],\n",
    "                                               ['Eritrea',1960000000,3684000,1067],\n",
    "                                               ['Kosovo',9410000000,1760000,5340],\n",
    "                                               ['Lebanon',23130000000,5425542,4136],\n",
    "                                               ['Netherlands Antilles',3810000000,27148,11400],\n",
    "                                               ['South Sudan',12000000000,11000000,467], \n",
    "                                               ['American Samoa',871000000,43914,19673],\n",
    "                                              ['Aruba',3545000000,106445,333000],\n",
    "                                              ['Bermuda',7645000000,63532,118774],\n",
    "                                               ['British Virgin Islands',1751000000,31707,34246],\n",
    "                                               ['Virgin Islands',4440000000,105413,41974],\n",
    "                                               ['Cayman Islands',6845000000,69310,99624],\n",
    "                                               ['Cuba',633400000000,11179471,56495],\n",
    "                                               ['Guam',6123000000,173825,35904],\n",
    "                                               ['North Korea',48000000000,26070000,33719],\n",
    "                                               ['Liechtenstein',7710000000,39039,197504],\n",
    "                                               ['Monaco',8784000000,39050,240862],\n",
    "                                               ['Puerto Rico',113400000000,3260314,35208],\n",
    "                                               ['San Marino',1855000000,33642,53000],\n",
    "                                               ['Syria',8970000000,22130000,420],\n",
    "                                               ['Venezuela',92000000000,29254044,2624],\n",
    "                                               ['Virgin Islands*',4444000000,105413,41976],\n",
    "                                               ['Afghanistan',14583135237,42239000,363.73],\n",
    "                                               ['Bhutan',2539551327,782455,3560],\n",
    "                                               ['Brunei',16760000000,449000,37152],\n",
    "                                               ['Burma',62260000000,54180000,1149],\n",
    "                                               ['Cape Verde',2227000000,593000,3754],\n",
    "                                               ['Djibouti',3515000000,1121000,3136],\n",
    "                                               [\"East Timor (Timor-Leste)\",3205000000,1341000,2389],\n",
    "                                               ['Macedonia',13560000000,2058000,6591],\n",
    "                                               ['Nauru',151600000,12668,11970],\n",
    "                                               ['Palau',232000000,18055,12921],\n",
    "                                               ['Saint Kitts and Nevis',965000000,47000,20262],\n",
    "                                               ['Saint Vincent and the Grenadines',948000000,9123,9125],\n",
    "                                               ['Sao Tome and Principe',542000000,227380,2386],\n",
    "                                               ['Somalia',10042000000,17000000,592],\n",
    "                                               ['Swaziland',4791000000,1202000,3986],\n",
    "                                               ['Tonga',469000000,106858,4425],\n",
    "                                               ['Turkmenistan',56540000000,6431000,8792],\n",
    "                                               ['Yemen',21160000000,33700000,650]\n",
    "                                               ],\n",
    "                                             columns=['Country','PIB','Population','PIB/habitant'])],ignore_index=True)"
   ]
  },
  {
   "cell_type": "code",
   "execution_count": 15,
   "metadata": {},
   "outputs": [
    {
     "data": {
      "text/plain": [
       "{'United States': 25462700000000,\n",
       " 'China': 17963200000000,\n",
       " 'Japan': 4231140000000,\n",
       " 'Germany': 4072190000000,\n",
       " 'India': 3385090000000,\n",
       " 'United Kingdom': 3070670000000,\n",
       " 'France': 2782910000000,\n",
       " 'Russia': 2240420000000,\n",
       " 'Canada': 2139840000000,\n",
       " 'Italy': 2010430000000,\n",
       " 'Brazil': 1920100000000,\n",
       " 'Australia': 1675420000000,\n",
       " 'South Korea': 1665250000000,\n",
       " 'Mexico': 1414190000000,\n",
       " 'Spain': 1397510000000,\n",
       " 'Indonesia': 1319100000000,\n",
       " 'Saudi Arabia': 1108150000000,\n",
       " 'Netherlands': 991115000000,\n",
       " 'Turkey': 905988000000,\n",
       " 'Switzerland': 807706000000,\n",
       " 'Poland': 688177000000,\n",
       " 'Argentina': 632770000000,\n",
       " 'Sweden': 585939000000,\n",
       " 'Norway': 579267000000,\n",
       " 'Belgium': 578604000000,\n",
       " 'Ireland': 529245000000,\n",
       " 'Israel': 522033000000,\n",
       " 'United Arab Emirates': 507535000000,\n",
       " 'Thailand': 495341000000,\n",
       " 'Nigeria': 477386000000,\n",
       " 'Egypt': 476748000000,\n",
       " 'Austria': 471400000000,\n",
       " 'Singapour': 466789000000,\n",
       " 'Bangladesh': 460201000000,\n",
       " 'Vietnam': 408802000000,\n",
       " 'Malaysia': 406306000000,\n",
       " 'South Africa': 405870000000,\n",
       " 'Philippines': 404284000000,\n",
       " 'Denmark': 395404000000,\n",
       " 'Iran': 388544000000,\n",
       " 'Pakistan': 376533000000,\n",
       " 'Hong Kong': 359839000000,\n",
       " 'Colombia': 343939000000,\n",
       " 'Romania': 301262000000,\n",
       " 'Chile': 301025000000,\n",
       " 'Czech Republic': 290924000000,\n",
       " 'Finland': 280826000000,\n",
       " 'Iraq': 264182000000,\n",
       " 'Portugal': 251945000000,\n",
       " 'New Zealand': 247234000000,\n",
       " 'Peru': 242632000000,\n",
       " 'Qatar': 237296000000,\n",
       " 'Kazakhstan': 220623000000,\n",
       " 'Greece': 219066000000,\n",
       " 'Algeria': 191913000000,\n",
       " 'Kuwait': 184558000000,\n",
       " 'Hungary': 178789000000,\n",
       " 'Ukraine': 160503000000,\n",
       " 'Morocco': 134182000000,\n",
       " 'Ethiopia': 126783000000,\n",
       " 'Slovakia': 115469000000,\n",
       " 'Ecuador': 115049000000,\n",
       " 'Oman': 114667000000,\n",
       " 'Dominican Republic': 113642000000,\n",
       " 'Kenya': 113420000000,\n",
       " 'Angola': 106714000000,\n",
       " 'Guatemala': 95003333381,\n",
       " 'Bulgaria': 89040398406,\n",
       " 'Luxembourg': 82274812251,\n",
       " 'Uzbekistan': 80391853885,\n",
       " 'Azerbaijan': 78721058824,\n",
       " 'Panama': 76522511781,\n",
       " 'Tanzania': 75709289056,\n",
       " 'Sri Lanka': 74403578363,\n",
       " 'Ghana': 72838798788,\n",
       " 'Belarus': 72793457588,\n",
       " 'Uruguay': 71177146197,\n",
       " 'Croatia': 70964606465,\n",
       " 'Lithuania': 70334299008,\n",
       " \"Cote d'Ivoire\": 70018715017,\n",
       " 'Costa Rica': 68380838316,\n",
       " 'Serbia': 63501748652,\n",
       " 'Slovenia': 62117768015,\n",
       " 'Myanmar': 59364362541,\n",
       " 'DR Congo': 58065953573,\n",
       " 'Sudan': 51662241775,\n",
       " 'Jordan': 47451499859,\n",
       " 'Tunisia': 46664948952,\n",
       " 'Libya': 45752336036,\n",
       " 'Uganda': 45559202049,\n",
       " 'Bahrain': 44390820479,\n",
       " 'Cameroon': 44341646509,\n",
       " 'Bolivia': 43068885673,\n",
       " 'Paraguay': 41722295362,\n",
       " 'Latvia': 41153912663,\n",
       " 'Nepal': 40828247302,\n",
       " 'Estonia': 38100812959,\n",
       " 'El Salvador': 32488720000,\n",
       " 'Honduras': 31717700115,\n",
       " 'Papua New Guinea': 30633444295,\n",
       " 'Cambodia': 29956769529,\n",
       " 'Zambia': 29784454056,\n",
       " 'Cyprus': 28439052741,\n",
       " 'Trinidad': 27899082337,\n",
       " 'Iceland': 27841648044,\n",
       " 'Senegal': 27684430244,\n",
       " 'Georgia': 24605375420,\n",
       " 'Bosnia and Herzegovina': 24527507288,\n",
       " 'Macao': 21979475561,\n",
       " 'Guinea': 21227749389,\n",
       " 'Gabon': 21071739228,\n",
       " 'Zimbabwe': 20678055598,\n",
       " 'Botswana': 20352322157,\n",
       " 'Haiti': 20253551885,\n",
       " 'Armenia': 19502783988,\n",
       " 'Palestine, Occupied Territories': 19111900000,\n",
       " 'Burkina Faso': 18884619613,\n",
       " 'Albania': 18882095518,\n",
       " 'Mali': 18827176532,\n",
       " 'Mozambique': 17851491428,\n",
       " 'Malta': 17765270015,\n",
       " 'Benin': 17401746309,\n",
       " 'Jamaica': 17097760745,\n",
       " 'Mongolia': 16810883361,\n",
       " 'Brunei ': 16681531646,\n",
       " 'Laos': 15724383783,\n",
       " 'Nicaragua': 15671583878,\n",
       " 'Guyana': 15357537068,\n",
       " 'Madagascar': 14954967604,\n",
       " 'Congo': 14615532210,\n",
       " 'Moldova': 14420947884,\n",
       " 'Niger': 13969605583,\n",
       " 'North Macedonia': 13563132057,\n",
       " 'Rwanda': 13312796765,\n",
       " 'Malawi': 13164667627,\n",
       " 'Mauritius': 12898307089,\n",
       " 'Bahamas': 12897400000,\n",
       " 'Chad': 12704149842,\n",
       " 'Namibia': 12607436976,\n",
       " 'Equatorial Guinea': 11813908448,\n",
       " 'Kyrgyzstan': 10930644915,\n",
       " 'Tajikistan': 10492123388,\n",
       " 'Mauritania': 10375460680,\n",
       " 'Togo': 8126439481,\n",
       " 'Maldives': 6189865408,\n",
       " 'Montenegro': 6095978868,\n",
       " 'Barbados': 5637914515,\n",
       " 'Fiji': 4943248200,\n",
       " 'Eswatini': 4854167638,\n",
       " 'Liberia': 4001047150,\n",
       " 'Sierra Leone': 3970343852,\n",
       " 'Suriname': 3620655116,\n",
       " 'Andorra': 3352032737,\n",
       " 'Timor-Leste': 3163324631,\n",
       " 'Burundi': 3073414678,\n",
       " 'Belize': 2824081836,\n",
       " 'Lesotho': 2553459763,\n",
       " 'Central African Republic': 2382618615,\n",
       " 'Cabo Verde': 2314816792,\n",
       " 'Gambia': 2273060863,\n",
       " 'Saint Lucia': 2065027556,\n",
       " 'Antigua and Barbuda': 1757603704,\n",
       " 'Guinea-Bissau': 1633559092,\n",
       " 'Solomon Islands': 1595710784,\n",
       " 'Seychelles': 1588406479,\n",
       " 'Grenada': 1256413185,\n",
       " 'Comoros': 1242519407,\n",
       " 'Vanuatu': 983582865,\n",
       " 'Saint Kitts & Nevis': 961563259,\n",
       " 'St. Vincent & Grenadines': 948558503,\n",
       " 'Samoa': 832421565,\n",
       " 'Dominica': 612048148,\n",
       " 'Sao Tome & Principe': 546680342,\n",
       " 'Micronesia': 427094119,\n",
       " 'Marshall Islands': 279667900,\n",
       " 'Kiribati': 223352943,\n",
       " 'Tuvalu': 60349391,\n",
       " 'Taiwan': 762670000000,\n",
       " 'Cook Islands': 220000000,\n",
       " 'Eritrea': 1960000000,\n",
       " 'Kosovo': 9410000000,\n",
       " 'Lebanon': 23130000000,\n",
       " 'Netherlands Antilles': 3810000000,\n",
       " 'South Sudan': 12000000000,\n",
       " 'American Samoa': 871000000,\n",
       " 'Aruba': 3545000000,\n",
       " 'Bermuda': 7645000000,\n",
       " 'British Virgin Islands': 1751000000,\n",
       " 'Virgin Islands': 4440000000,\n",
       " 'Cayman Islands': 6845000000,\n",
       " 'Cuba': 633400000000,\n",
       " 'Guam': 6123000000,\n",
       " 'North Korea': 48000000000,\n",
       " 'Liechtenstein': 7710000000,\n",
       " 'Monaco': 8784000000,\n",
       " 'Puerto Rico': 113400000000,\n",
       " 'San Marino': 1855000000,\n",
       " 'Syria': 8970000000,\n",
       " 'Venezuela': 92000000000,\n",
       " 'Virgin Islands*': 4444000000,\n",
       " 'Afghanistan': 14583135237,\n",
       " 'Bhutan': 2539551327,\n",
       " 'Brunei': 16760000000,\n",
       " 'Burma': 62260000000,\n",
       " 'Cape Verde': 2227000000,\n",
       " 'Djibouti': 3515000000,\n",
       " 'East Timor (Timor-Leste)': 3205000000,\n",
       " 'Macedonia': 13560000000,\n",
       " 'Nauru': 151600000,\n",
       " 'Palau': 232000000,\n",
       " 'Saint Kitts and Nevis': 965000000,\n",
       " 'Saint Vincent and the Grenadines': 948000000,\n",
       " 'Sao Tome and Principe': 542000000,\n",
       " 'Somalia': 10042000000,\n",
       " 'Swaziland': 4791000000,\n",
       " 'Tonga': 469000000,\n",
       " 'Turkmenistan': 56540000000,\n",
       " 'Yemen': 21160000000}"
      ]
     },
     "execution_count": 15,
     "metadata": {},
     "output_type": "execute_result"
    },
    {
     "name": "stdout",
     "output_type": "stream",
     "text": [
      "In [15] used 0.0 MiB RAM in 0.11s (system mean cpu 12%, single max cpu 21%), peaked 0.0 MiB above final usage, current RAM usage now 460.3 MiB\n"
     ]
    }
   ],
   "source": [
    "## Dictionnaire pour remplir les valeurs NaN de Pop et PIB sans changer les valeurs de pop et PIB per habitant précédentes\n",
    "dictio_pop_gpd=dict(zip(df_pop_gpd['Country'],df_pop_gpd['PIB']))\n",
    "\n",
    "dictio_pop_gpd"
   ]
  },
  {
   "cell_type": "markdown",
   "metadata": {},
   "source": [
    "#### JO de Tokyo"
   ]
  },
  {
   "cell_type": "markdown",
   "metadata": {},
   "source": [
    "Pour les jeux de 2020 (été, Tokyo), nous avons trouvé le dataset suivant : https://www.kaggle.com/datasets/piterfm/tokyo-2020-olympics. Après téléchargement des différents datasets, nous le plaçons dans `./data/additionnal/tokyo2020`"
   ]
  },
  {
   "cell_type": "code",
   "execution_count": 63,
   "metadata": {},
   "outputs": [
    {
     "name": "stdout",
     "output_type": "stream",
     "text": [
      "In [63] used 21.7 MiB RAM in 0.15s (system mean cpu 22%, single max cpu 48%), peaked 0.0 MiB above final usage, current RAM usage now 155.4 MiB\n"
     ]
    }
   ],
   "source": [
    "# Chargement des données\n",
    "df_tokyo_athletes = pd.read_csv('data/additionnal/tokyo2020/athletes.csv')\n",
    "df_tokyo_medals_total = pd.read_csv('data/additionnal/tokyo2020/medals_total.csv')\n",
    "df_tokyo_medals = pd.read_csv('data/additionnal/tokyo2020/medals.csv')"
   ]
  },
  {
   "cell_type": "code",
   "execution_count": 64,
   "metadata": {},
   "outputs": [
    {
     "name": "stdout",
     "output_type": "stream",
     "text": [
      "In [64] used 6.8 MiB RAM in 0.14s (system mean cpu 20%, single max cpu 36%), peaked 0.0 MiB above final usage, current RAM usage now 162.2 MiB\n"
     ]
    }
   ],
   "source": [
    "# Création d'un dataframe avec les même colonnes que df_athlete\n",
    "df_complete_tokyo2020 = pd.DataFrame(columns=df_athlete.columns)\n",
    "\n",
    "# On s'assure qu'il n'y a pas de doublons\n",
    "df_tokyo_athletes.drop_duplicates(inplace=True)\n",
    "\n",
    "df_merged_bis = pd.merge(df_tokyo_athletes, df_tokyo_medals, how='left', left_on=['name', 'discipline_code'], right_on=['athlete_name', 'discipline_code'])"
   ]
  },
  {
   "cell_type": "code",
   "execution_count": null,
   "metadata": {},
   "outputs": [],
   "source": [
    "# TODO: Investiguate. Issue with medals count?\n",
    "# Etant donné qu'un athlète peut avoir plusieurs médailles, et qu'on observe de nombreux champs vides, nous récupérons les médailles de chaque athlète dont l'attribut discipline \n",
    "# est absent. Puis, nous effectuerons une jointure simple, seulement avec le nom de l'athlète, pour récupérer les médailles obtenues par ces derniers.\n",
    "# missing_disciplines = df_tokyo_athletes[df_tokyo_athletes['discipline'].isna()]['name'].to_list()\n",
    "# missing_discipines_with_medals = df_tokyo_medals[df_tokyo_medals['athlete_name'].isin(missing_disciplines)]"
   ]
  },
  {
   "cell_type": "code",
   "execution_count": 66,
   "metadata": {},
   "outputs": [
    {
     "name": "stdout",
     "output_type": "stream",
     "text": [
      "In [66] used 14.6 MiB RAM in 0.61s (system mean cpu 20%, single max cpu 54%), peaked 0.0 MiB above final usage, current RAM usage now 177.9 MiB\n"
     ]
    }
   ],
   "source": [
    "athletes_to_be_added = []\n",
    "# Itération dans df_tokyo_athletes pour ajouter dans athletes_to_be_added, qui sera ensuite ajouté au dataframe df_complete_tokyo2020\n",
    "\n",
    "for index, row in df_tokyo_athletes.iterrows():\n",
    "    athlete_name = row['name']\n",
    "    athlete_sex = str(row['gender'])[0] if type(row['gender'] != float) else np.nan\n",
    "    athlete_age = (2021 - datetime.date.fromisoformat(str(row['birth_date'])).year) if (type(row['birth_date'] == str) and str(row['birth_date']).lower() != 'nan' ) else np.nan\n",
    "    athlete_height_in_m = (int(float(row['height_m/ft'].split('/')[0]) *100)) if (type(row['height_m/ft']) != float) else np.nan\n",
    "    athlete_team = row['country']\n",
    "    athlete_noc = row['country_code']\n",
    "    athlete_games = 'Tokyo 2020'\n",
    "    athlete_year = 2020\n",
    "    athlete_season = 'Summer'\n",
    "    athlete_city = 'Tokyo'\n",
    "    athlete_discipline = row['discipline']\n",
    "    athletes_to_be_added.append({\n",
    "        'Name': athlete_name,\n",
    "        'Sex': athlete_sex, \n",
    "        'Age': athlete_age,\n",
    "        'Height': athlete_height_in_m,\n",
    "        'Team': athlete_team,\n",
    "        'NOC': athlete_noc,\n",
    "        'Games': athlete_games,\n",
    "        'Year': athlete_year,\n",
    "        'Season': athlete_season,\n",
    "        'City': athlete_city,\n",
    "        'Sport': athlete_discipline,\n",
    "    })\n",
    "\n",
    "df_complete_tokyo2020 = df_complete_tokyo2020.from_records(athletes_to_be_added)"
   ]
  },
  {
   "cell_type": "code",
   "execution_count": 67,
   "metadata": {},
   "outputs": [
    {
     "name": "stdout",
     "output_type": "stream",
     "text": [
      "In [67] used 7.1 MiB RAM in 0.14s (system mean cpu 11%, single max cpu 27%), peaked 0.0 MiB above final usage, current RAM usage now 185.0 MiB\n"
     ]
    }
   ],
   "source": [
    "# On effectue une jointure droite entre les deux dataframes, de manière à conserver seulement les athlètes avec différentes médailles dans différentes disciplines\n",
    "df_merged = pd.merge(df_complete_tokyo2020, df_tokyo_medals, left_on=['Name', 'Sport'], right_on=['athlete_name', 'discipline'], how='left')\n",
    "df_merged.drop(columns=['medal_code', 'medal_date', 'athlete_short_name',\n",
    "       'athlete_name', 'athlete_sex', 'athlete_link', 'country_code',\n",
    "       'discipline_code', 'country', 'discipline'], inplace=True)\n",
    "\n",
    "df_merged.drop_duplicates(inplace=True)\n",
    "\n",
    "df_merged['medal_type'] = df_merged['medal_type'].apply(lambda x: x.replace('Medal', '').strip() if type(x) != float else x)\n",
    "df_merged.rename(columns={'medal_type': 'Medal', 'event': 'Event'}, inplace=True)"
   ]
  },
  {
   "cell_type": "code",
   "execution_count": 80,
   "metadata": {},
   "outputs": [
    {
     "data": {
      "text/html": [
       "<div>\n",
       "<style scoped>\n",
       "    .dataframe tbody tr th:only-of-type {\n",
       "        vertical-align: middle;\n",
       "    }\n",
       "\n",
       "    .dataframe tbody tr th {\n",
       "        vertical-align: top;\n",
       "    }\n",
       "\n",
       "    .dataframe thead th {\n",
       "        text-align: right;\n",
       "    }\n",
       "</style>\n",
       "<table border=\"1\" class=\"dataframe\">\n",
       "  <thead>\n",
       "    <tr style=\"text-align: right;\">\n",
       "      <th></th>\n",
       "      <th>Name</th>\n",
       "      <th>Sex</th>\n",
       "      <th>Age</th>\n",
       "      <th>Height</th>\n",
       "      <th>Team</th>\n",
       "      <th>NOC</th>\n",
       "      <th>Games</th>\n",
       "      <th>Year</th>\n",
       "      <th>Season</th>\n",
       "      <th>City</th>\n",
       "      <th>Sport</th>\n",
       "      <th>Medal</th>\n",
       "      <th>Event</th>\n",
       "    </tr>\n",
       "  </thead>\n",
       "  <tbody>\n",
       "    <tr>\n",
       "      <th>0</th>\n",
       "      <td>AALERUD Katrine</td>\n",
       "      <td>F</td>\n",
       "      <td>27.0</td>\n",
       "      <td>NaN</td>\n",
       "      <td>Norway</td>\n",
       "      <td>NOR</td>\n",
       "      <td>Tokyo 2020</td>\n",
       "      <td>2020</td>\n",
       "      <td>Summer</td>\n",
       "      <td>Tokyo</td>\n",
       "      <td>Cycling Road</td>\n",
       "      <td>NaN</td>\n",
       "      <td>NaN</td>\n",
       "    </tr>\n",
       "    <tr>\n",
       "      <th>1</th>\n",
       "      <td>ABAD Nestor</td>\n",
       "      <td>M</td>\n",
       "      <td>28.0</td>\n",
       "      <td>165.0</td>\n",
       "      <td>Spain</td>\n",
       "      <td>ESP</td>\n",
       "      <td>Tokyo 2020</td>\n",
       "      <td>2020</td>\n",
       "      <td>Summer</td>\n",
       "      <td>Tokyo</td>\n",
       "      <td>Artistic Gymnastics</td>\n",
       "      <td>NaN</td>\n",
       "      <td>NaN</td>\n",
       "    </tr>\n",
       "    <tr>\n",
       "      <th>2</th>\n",
       "      <td>ABAGNALE Giovanni</td>\n",
       "      <td>M</td>\n",
       "      <td>26.0</td>\n",
       "      <td>198.0</td>\n",
       "      <td>Italy</td>\n",
       "      <td>ITA</td>\n",
       "      <td>Tokyo 2020</td>\n",
       "      <td>2020</td>\n",
       "      <td>Summer</td>\n",
       "      <td>Tokyo</td>\n",
       "      <td>Rowing</td>\n",
       "      <td>NaN</td>\n",
       "      <td>NaN</td>\n",
       "    </tr>\n",
       "    <tr>\n",
       "      <th>3</th>\n",
       "      <td>ABALDE Alberto</td>\n",
       "      <td>M</td>\n",
       "      <td>26.0</td>\n",
       "      <td>200.0</td>\n",
       "      <td>Spain</td>\n",
       "      <td>ESP</td>\n",
       "      <td>Tokyo 2020</td>\n",
       "      <td>2020</td>\n",
       "      <td>Summer</td>\n",
       "      <td>Tokyo</td>\n",
       "      <td>Basketball</td>\n",
       "      <td>NaN</td>\n",
       "      <td>NaN</td>\n",
       "    </tr>\n",
       "    <tr>\n",
       "      <th>4</th>\n",
       "      <td>ABALDE Tamara</td>\n",
       "      <td>F</td>\n",
       "      <td>32.0</td>\n",
       "      <td>192.0</td>\n",
       "      <td>Spain</td>\n",
       "      <td>ESP</td>\n",
       "      <td>Tokyo 2020</td>\n",
       "      <td>2020</td>\n",
       "      <td>Summer</td>\n",
       "      <td>Tokyo</td>\n",
       "      <td>Basketball</td>\n",
       "      <td>NaN</td>\n",
       "      <td>NaN</td>\n",
       "    </tr>\n",
       "    <tr>\n",
       "      <th>...</th>\n",
       "      <td>...</td>\n",
       "      <td>...</td>\n",
       "      <td>...</td>\n",
       "      <td>...</td>\n",
       "      <td>...</td>\n",
       "      <td>...</td>\n",
       "      <td>...</td>\n",
       "      <td>...</td>\n",
       "      <td>...</td>\n",
       "      <td>...</td>\n",
       "      <td>...</td>\n",
       "      <td>...</td>\n",
       "      <td>...</td>\n",
       "    </tr>\n",
       "    <tr>\n",
       "      <th>11876</th>\n",
       "      <td>ZWICKER Martin Detlef</td>\n",
       "      <td>M</td>\n",
       "      <td>34.0</td>\n",
       "      <td>176.0</td>\n",
       "      <td>Germany</td>\n",
       "      <td>GER</td>\n",
       "      <td>Tokyo 2020</td>\n",
       "      <td>2020</td>\n",
       "      <td>Summer</td>\n",
       "      <td>Tokyo</td>\n",
       "      <td>Hockey</td>\n",
       "      <td>NaN</td>\n",
       "      <td>NaN</td>\n",
       "    </tr>\n",
       "    <tr>\n",
       "      <th>11877</th>\n",
       "      <td>ZWOLINSKA Klaudia</td>\n",
       "      <td>F</td>\n",
       "      <td>23.0</td>\n",
       "      <td>NaN</td>\n",
       "      <td>Poland</td>\n",
       "      <td>POL</td>\n",
       "      <td>Tokyo 2020</td>\n",
       "      <td>2020</td>\n",
       "      <td>Summer</td>\n",
       "      <td>Tokyo</td>\n",
       "      <td>Canoe Slalom</td>\n",
       "      <td>NaN</td>\n",
       "      <td>NaN</td>\n",
       "    </tr>\n",
       "    <tr>\n",
       "      <th>11878</th>\n",
       "      <td>ZYKOVA Yulia</td>\n",
       "      <td>F</td>\n",
       "      <td>26.0</td>\n",
       "      <td>NaN</td>\n",
       "      <td>ROC</td>\n",
       "      <td>ROC</td>\n",
       "      <td>Tokyo 2020</td>\n",
       "      <td>2020</td>\n",
       "      <td>Summer</td>\n",
       "      <td>Tokyo</td>\n",
       "      <td>Shooting</td>\n",
       "      <td>Silver</td>\n",
       "      <td>50m Rifle 3 Positions Women</td>\n",
       "    </tr>\n",
       "    <tr>\n",
       "      <th>11879</th>\n",
       "      <td>ZYUZINA Ekaterina</td>\n",
       "      <td>F</td>\n",
       "      <td>25.0</td>\n",
       "      <td>NaN</td>\n",
       "      <td>ROC</td>\n",
       "      <td>ROC</td>\n",
       "      <td>Tokyo 2020</td>\n",
       "      <td>2020</td>\n",
       "      <td>Summer</td>\n",
       "      <td>Tokyo</td>\n",
       "      <td>Sailing</td>\n",
       "      <td>NaN</td>\n",
       "      <td>NaN</td>\n",
       "    </tr>\n",
       "    <tr>\n",
       "      <th>11880</th>\n",
       "      <td>ZYZANSKA Sylwia</td>\n",
       "      <td>F</td>\n",
       "      <td>24.0</td>\n",
       "      <td>NaN</td>\n",
       "      <td>Poland</td>\n",
       "      <td>POL</td>\n",
       "      <td>Tokyo 2020</td>\n",
       "      <td>2020</td>\n",
       "      <td>Summer</td>\n",
       "      <td>Tokyo</td>\n",
       "      <td>Archery</td>\n",
       "      <td>NaN</td>\n",
       "      <td>NaN</td>\n",
       "    </tr>\n",
       "  </tbody>\n",
       "</table>\n",
       "<p>11881 rows × 13 columns</p>\n",
       "</div>"
      ],
      "text/plain": [
       "                        Name Sex   Age  Height     Team  NOC       Games  \\\n",
       "0            AALERUD Katrine   F  27.0     NaN   Norway  NOR  Tokyo 2020   \n",
       "1                ABAD Nestor   M  28.0   165.0    Spain  ESP  Tokyo 2020   \n",
       "2          ABAGNALE Giovanni   M  26.0   198.0    Italy  ITA  Tokyo 2020   \n",
       "3             ABALDE Alberto   M  26.0   200.0    Spain  ESP  Tokyo 2020   \n",
       "4              ABALDE Tamara   F  32.0   192.0    Spain  ESP  Tokyo 2020   \n",
       "...                      ...  ..   ...     ...      ...  ...         ...   \n",
       "11876  ZWICKER Martin Detlef   M  34.0   176.0  Germany  GER  Tokyo 2020   \n",
       "11877      ZWOLINSKA Klaudia   F  23.0     NaN   Poland  POL  Tokyo 2020   \n",
       "11878           ZYKOVA Yulia   F  26.0     NaN      ROC  ROC  Tokyo 2020   \n",
       "11879      ZYUZINA Ekaterina   F  25.0     NaN      ROC  ROC  Tokyo 2020   \n",
       "11880        ZYZANSKA Sylwia   F  24.0     NaN   Poland  POL  Tokyo 2020   \n",
       "\n",
       "       Year  Season   City                Sport   Medal  \\\n",
       "0      2020  Summer  Tokyo         Cycling Road     NaN   \n",
       "1      2020  Summer  Tokyo  Artistic Gymnastics     NaN   \n",
       "2      2020  Summer  Tokyo               Rowing     NaN   \n",
       "3      2020  Summer  Tokyo           Basketball     NaN   \n",
       "4      2020  Summer  Tokyo           Basketball     NaN   \n",
       "...     ...     ...    ...                  ...     ...   \n",
       "11876  2020  Summer  Tokyo               Hockey     NaN   \n",
       "11877  2020  Summer  Tokyo         Canoe Slalom     NaN   \n",
       "11878  2020  Summer  Tokyo             Shooting  Silver   \n",
       "11879  2020  Summer  Tokyo              Sailing     NaN   \n",
       "11880  2020  Summer  Tokyo              Archery     NaN   \n",
       "\n",
       "                             Event  \n",
       "0                              NaN  \n",
       "1                              NaN  \n",
       "2                              NaN  \n",
       "3                              NaN  \n",
       "4                              NaN  \n",
       "...                            ...  \n",
       "11876                          NaN  \n",
       "11877                          NaN  \n",
       "11878  50m Rifle 3 Positions Women  \n",
       "11879                          NaN  \n",
       "11880                          NaN  \n",
       "\n",
       "[11881 rows x 13 columns]"
      ]
     },
     "execution_count": 80,
     "metadata": {},
     "output_type": "execute_result"
    },
    {
     "name": "stdout",
     "output_type": "stream",
     "text": [
      "In [80] used 0.1 MiB RAM in 0.12s (system mean cpu 12%, single max cpu 29%), peaked 0.0 MiB above final usage, current RAM usage now 187.3 MiB\n"
     ]
    }
   ],
   "source": [
    "# On récupère le nom des médaillés seulement, pour les retirer du dataframe final (qui ne contient pas encore les médailles obtenues par les athlètes), avant de fusionner\n",
    "# le dataframe des médaillés seulement et celui des athlètes sans médailles\n",
    "medailles_seulement = df_merged.Name.unique()\n",
    "df_complete_tokyo2020.drop(df_complete_tokyo2020[df_complete_tokyo2020['Name'].isin(medailles_seulement)].index, inplace=True)\n",
    "df_complete_tokyo2020 = pd.concat([df_complete_tokyo2020, df_merged])\n",
    "df_complete_tokyo2020"
   ]
  },
  {
   "cell_type": "code",
   "execution_count": 81,
   "metadata": {},
   "outputs": [
    {
     "name": "stdout",
     "output_type": "stream",
     "text": [
      "In [81] used 0.0 MiB RAM in 0.10s (system mean cpu 14%, single max cpu 24%), peaked 0.0 MiB above final usage, current RAM usage now 187.3 MiB\n"
     ]
    }
   ],
   "source": [
    "# On remplace les valeurs 'n' en NaN pour le sexe\n",
    "df_complete_tokyo2020['Sex'] = df_complete_tokyo2020['Sex'].apply(lambda x: np.NAN if x == 'n' else x)"
   ]
  },
  {
   "cell_type": "code",
   "execution_count": 82,
   "metadata": {},
   "outputs": [
    {
     "name": "stdout",
     "output_type": "stream",
     "text": [
      "In [82] used 76.9 MiB RAM in 0.14s (system mean cpu 18%, single max cpu 30%), peaked 0.0 MiB above final usage, current RAM usage now 264.2 MiB\n"
     ]
    }
   ],
   "source": [
    "# On merge avec df_athlete\n",
    "df_athlete = pd.concat([df_athlete,df_complete_tokyo2020 ])"
   ]
  },
  {
   "cell_type": "markdown",
   "metadata": {},
   "source": [
    "## Optimisation des datasets\n",
    "   Dans un souci d'optimisation de l'espace mémoire occupé, nous allons faire en sorte d'optimiser les différents dataframe que nous utilisons. \n",
    "Pour mener à bien ceci, nous allons des fonctions contenues dans `describe_csv.py`, en les améliorant pour automatiser le processus."
   ]
  },
  {
   "cell_type": "code",
   "execution_count": 53,
   "metadata": {},
   "outputs": [
    {
     "name": "stdout",
     "output_type": "stream",
     "text": [
      "In [53] used 0.1 MiB RAM in 0.11s (system mean cpu 46%, single max cpu 100%), peaked 0.0 MiB above final usage, current RAM usage now 492.7 MiB\n"
     ]
    }
   ],
   "source": [
    "#### Code Nathan à ajouter"
   ]
  },
  {
   "cell_type": "markdown",
   "metadata": {},
   "source": [
    "## Nettoyage"
   ]
  },
  {
   "cell_type": "code",
   "execution_count": 54,
   "metadata": {},
   "outputs": [
    {
     "name": "stdout",
     "output_type": "stream",
     "text": [
      "In [54] used 0.0 MiB RAM in 0.10s (system mean cpu 37%, single max cpu 100%), peaked 0.0 MiB above final usage, current RAM usage now 492.7 MiB\n"
     ]
    }
   ],
   "source": [
    "## Ajouter le code FLO"
   ]
  },
  {
   "cell_type": "markdown",
   "metadata": {},
   "source": [
    "### Dataframe dictionnary"
   ]
  },
  {
   "cell_type": "code",
   "execution_count": 29,
   "metadata": {},
   "outputs": [
    {
     "data": {
      "text/plain": [
       "Country          0\n",
       "NOC              0\n",
       "Population       5\n",
       "PIB/habitant    25\n",
       "dtype: int64"
      ]
     },
     "execution_count": 29,
     "metadata": {},
     "output_type": "execute_result"
    },
    {
     "name": "stdout",
     "output_type": "stream",
     "text": [
      "In [29] used 0.1 MiB RAM in 0.11s (system mean cpu 14%, single max cpu 24%), peaked 0.0 MiB above final usage, current RAM usage now 508.8 MiB\n"
     ]
    }
   ],
   "source": [
    "df_dictionnary=pd.read_csv('data/dictionary.csv')\n",
    "\n",
    "df_dictionnary=df_dictionnary.rename(columns={'GDP per Capita':'PIB/habitant','Code':'NOC'})\n",
    "\n",
    "df_dictionnary.isna().sum()"
   ]
  },
  {
   "cell_type": "markdown",
   "metadata": {},
   "source": [
    "### Dataframe région"
   ]
  },
  {
   "cell_type": "code",
   "execution_count": 30,
   "metadata": {},
   "outputs": [
    {
     "name": "stdout",
     "output_type": "stream",
     "text": [
      "In [30] used 0.0 MiB RAM in 0.10s (system mean cpu 0%, single max cpu 0%), peaked 0.0 MiB above final usage, current RAM usage now 508.8 MiB\n"
     ]
    }
   ],
   "source": [
    "df_region=df_region.rename(columns={'region':'Country'})"
   ]
  },
  {
   "cell_type": "markdown",
   "metadata": {},
   "source": [
    "Ajout des îles Tuvalu"
   ]
  },
  {
   "cell_type": "code",
   "execution_count": 31,
   "metadata": {},
   "outputs": [
    {
     "data": {
      "text/html": [
       "<div>\n",
       "<style scoped>\n",
       "    .dataframe tbody tr th:only-of-type {\n",
       "        vertical-align: middle;\n",
       "    }\n",
       "\n",
       "    .dataframe tbody tr th {\n",
       "        vertical-align: top;\n",
       "    }\n",
       "\n",
       "    .dataframe thead th {\n",
       "        text-align: right;\n",
       "    }\n",
       "</style>\n",
       "<table border=\"1\" class=\"dataframe\">\n",
       "  <thead>\n",
       "    <tr style=\"text-align: right;\">\n",
       "      <th></th>\n",
       "      <th>NOC</th>\n",
       "      <th>Country</th>\n",
       "      <th>notes</th>\n",
       "    </tr>\n",
       "  </thead>\n",
       "  <tbody>\n",
       "    <tr>\n",
       "      <th>168</th>\n",
       "      <td>ROT</td>\n",
       "      <td>NaN</td>\n",
       "      <td>Refugee Olympic Team</td>\n",
       "    </tr>\n",
       "    <tr>\n",
       "      <th>208</th>\n",
       "      <td>TUV</td>\n",
       "      <td>NaN</td>\n",
       "      <td>Tuvalu</td>\n",
       "    </tr>\n",
       "    <tr>\n",
       "      <th>213</th>\n",
       "      <td>UNK</td>\n",
       "      <td>NaN</td>\n",
       "      <td>Unknown</td>\n",
       "    </tr>\n",
       "  </tbody>\n",
       "</table>\n",
       "</div>"
      ],
      "text/plain": [
       "     NOC Country                 notes\n",
       "168  ROT     NaN  Refugee Olympic Team\n",
       "208  TUV     NaN                Tuvalu\n",
       "213  UNK     NaN               Unknown"
      ]
     },
     "execution_count": 31,
     "metadata": {},
     "output_type": "execute_result"
    },
    {
     "name": "stdout",
     "output_type": "stream",
     "text": [
      "In [31] used 0.0 MiB RAM in 0.11s (system mean cpu 20%, single max cpu 37%), peaked 0.0 MiB above final usage, current RAM usage now 508.8 MiB\n"
     ]
    }
   ],
   "source": [
    "df_region[df_region['Country'].isnull()]"
   ]
  },
  {
   "cell_type": "code",
   "execution_count": 32,
   "metadata": {},
   "outputs": [
    {
     "name": "stdout",
     "output_type": "stream",
     "text": [
      "In [32] used 0.2 MiB RAM in 0.11s (system mean cpu 17%, single max cpu 32%), peaked 0.0 MiB above final usage, current RAM usage now 509.0 MiB\n"
     ]
    }
   ],
   "source": [
    "df_region=df_region.query(\" NOC != 'ROT' and NOC != 'UNK' \")\n",
    "\n",
    "df_region['Country']=df_region['Country'].fillna('Tuvalu')"
   ]
  },
  {
   "cell_type": "code",
   "execution_count": 33,
   "metadata": {},
   "outputs": [
    {
     "data": {
      "text/html": [
       "<div>\n",
       "<style scoped>\n",
       "    .dataframe tbody tr th:only-of-type {\n",
       "        vertical-align: middle;\n",
       "    }\n",
       "\n",
       "    .dataframe tbody tr th {\n",
       "        vertical-align: top;\n",
       "    }\n",
       "\n",
       "    .dataframe thead th {\n",
       "        text-align: right;\n",
       "    }\n",
       "</style>\n",
       "<table border=\"1\" class=\"dataframe\">\n",
       "  <thead>\n",
       "    <tr style=\"text-align: right;\">\n",
       "      <th></th>\n",
       "      <th>NOC</th>\n",
       "      <th>Country</th>\n",
       "      <th>notes</th>\n",
       "    </tr>\n",
       "  </thead>\n",
       "  <tbody>\n",
       "    <tr>\n",
       "      <th>0</th>\n",
       "      <td>AFG</td>\n",
       "      <td>Afghanistan</td>\n",
       "      <td>NaN</td>\n",
       "    </tr>\n",
       "    <tr>\n",
       "      <th>1</th>\n",
       "      <td>AHO</td>\n",
       "      <td>Curacao</td>\n",
       "      <td>Netherlands Antilles</td>\n",
       "    </tr>\n",
       "    <tr>\n",
       "      <th>2</th>\n",
       "      <td>ALB</td>\n",
       "      <td>Albania</td>\n",
       "      <td>NaN</td>\n",
       "    </tr>\n",
       "    <tr>\n",
       "      <th>3</th>\n",
       "      <td>ALG</td>\n",
       "      <td>Algeria</td>\n",
       "      <td>NaN</td>\n",
       "    </tr>\n",
       "    <tr>\n",
       "      <th>4</th>\n",
       "      <td>AND</td>\n",
       "      <td>Andorra</td>\n",
       "      <td>NaN</td>\n",
       "    </tr>\n",
       "    <tr>\n",
       "      <th>...</th>\n",
       "      <td>...</td>\n",
       "      <td>...</td>\n",
       "      <td>...</td>\n",
       "    </tr>\n",
       "    <tr>\n",
       "      <th>225</th>\n",
       "      <td>YEM</td>\n",
       "      <td>Yemen</td>\n",
       "      <td>NaN</td>\n",
       "    </tr>\n",
       "    <tr>\n",
       "      <th>226</th>\n",
       "      <td>YMD</td>\n",
       "      <td>Yemen</td>\n",
       "      <td>South Yemen</td>\n",
       "    </tr>\n",
       "    <tr>\n",
       "      <th>227</th>\n",
       "      <td>YUG</td>\n",
       "      <td>Serbia</td>\n",
       "      <td>Yugoslavia</td>\n",
       "    </tr>\n",
       "    <tr>\n",
       "      <th>228</th>\n",
       "      <td>ZAM</td>\n",
       "      <td>Zambia</td>\n",
       "      <td>NaN</td>\n",
       "    </tr>\n",
       "    <tr>\n",
       "      <th>229</th>\n",
       "      <td>ZIM</td>\n",
       "      <td>Zimbabwe</td>\n",
       "      <td>NaN</td>\n",
       "    </tr>\n",
       "  </tbody>\n",
       "</table>\n",
       "<p>228 rows × 3 columns</p>\n",
       "</div>"
      ],
      "text/plain": [
       "     NOC      Country                 notes\n",
       "0    AFG  Afghanistan                   NaN\n",
       "1    AHO      Curacao  Netherlands Antilles\n",
       "2    ALB      Albania                   NaN\n",
       "3    ALG      Algeria                   NaN\n",
       "4    AND      Andorra                   NaN\n",
       "..   ...          ...                   ...\n",
       "225  YEM        Yemen                   NaN\n",
       "226  YMD        Yemen           South Yemen\n",
       "227  YUG       Serbia            Yugoslavia\n",
       "228  ZAM       Zambia                   NaN\n",
       "229  ZIM     Zimbabwe                   NaN\n",
       "\n",
       "[228 rows x 3 columns]"
      ]
     },
     "execution_count": 33,
     "metadata": {},
     "output_type": "execute_result"
    },
    {
     "name": "stdout",
     "output_type": "stream",
     "text": [
      "In [33] used 0.0 MiB RAM in 0.11s (system mean cpu 27%, single max cpu 65%), peaked 0.0 MiB above final usage, current RAM usage now 509.0 MiB\n"
     ]
    }
   ],
   "source": [
    "df_region"
   ]
  },
  {
   "cell_type": "markdown",
   "metadata": {},
   "source": [
    "## Merge des dataframes et traitement des valeurs nulles"
   ]
  },
  {
   "cell_type": "markdown",
   "metadata": {},
   "source": [
    "### Opérations sur les pays"
   ]
  },
  {
   "cell_type": "code",
   "execution_count": 34,
   "metadata": {},
   "outputs": [
    {
     "data": {
      "text/html": [
       "<div>\n",
       "<style scoped>\n",
       "    .dataframe tbody tr th:only-of-type {\n",
       "        vertical-align: middle;\n",
       "    }\n",
       "\n",
       "    .dataframe tbody tr th {\n",
       "        vertical-align: top;\n",
       "    }\n",
       "\n",
       "    .dataframe thead th {\n",
       "        text-align: right;\n",
       "    }\n",
       "</style>\n",
       "<table border=\"1\" class=\"dataframe\">\n",
       "  <thead>\n",
       "    <tr style=\"text-align: right;\">\n",
       "      <th></th>\n",
       "      <th>NOC</th>\n",
       "      <th>Country</th>\n",
       "      <th>notes</th>\n",
       "    </tr>\n",
       "  </thead>\n",
       "  <tbody>\n",
       "    <tr>\n",
       "      <th>0</th>\n",
       "      <td>AFG</td>\n",
       "      <td>Afghanistan</td>\n",
       "      <td>NaN</td>\n",
       "    </tr>\n",
       "    <tr>\n",
       "      <th>1</th>\n",
       "      <td>AHO</td>\n",
       "      <td>Curacao</td>\n",
       "      <td>Netherlands Antilles</td>\n",
       "    </tr>\n",
       "    <tr>\n",
       "      <th>2</th>\n",
       "      <td>ALB</td>\n",
       "      <td>Albania</td>\n",
       "      <td>NaN</td>\n",
       "    </tr>\n",
       "    <tr>\n",
       "      <th>3</th>\n",
       "      <td>ALG</td>\n",
       "      <td>Algeria</td>\n",
       "      <td>NaN</td>\n",
       "    </tr>\n",
       "    <tr>\n",
       "      <th>4</th>\n",
       "      <td>AND</td>\n",
       "      <td>Andorra</td>\n",
       "      <td>NaN</td>\n",
       "    </tr>\n",
       "    <tr>\n",
       "      <th>...</th>\n",
       "      <td>...</td>\n",
       "      <td>...</td>\n",
       "      <td>...</td>\n",
       "    </tr>\n",
       "    <tr>\n",
       "      <th>225</th>\n",
       "      <td>YEM</td>\n",
       "      <td>Yemen</td>\n",
       "      <td>NaN</td>\n",
       "    </tr>\n",
       "    <tr>\n",
       "      <th>226</th>\n",
       "      <td>YMD</td>\n",
       "      <td>Yemen</td>\n",
       "      <td>South Yemen</td>\n",
       "    </tr>\n",
       "    <tr>\n",
       "      <th>227</th>\n",
       "      <td>YUG</td>\n",
       "      <td>Serbia</td>\n",
       "      <td>Yugoslavia</td>\n",
       "    </tr>\n",
       "    <tr>\n",
       "      <th>228</th>\n",
       "      <td>ZAM</td>\n",
       "      <td>Zambia</td>\n",
       "      <td>NaN</td>\n",
       "    </tr>\n",
       "    <tr>\n",
       "      <th>229</th>\n",
       "      <td>ZIM</td>\n",
       "      <td>Zimbabwe</td>\n",
       "      <td>NaN</td>\n",
       "    </tr>\n",
       "  </tbody>\n",
       "</table>\n",
       "<p>228 rows × 3 columns</p>\n",
       "</div>"
      ],
      "text/plain": [
       "     NOC      Country                 notes\n",
       "0    AFG  Afghanistan                   NaN\n",
       "1    AHO      Curacao  Netherlands Antilles\n",
       "2    ALB      Albania                   NaN\n",
       "3    ALG      Algeria                   NaN\n",
       "4    AND      Andorra                   NaN\n",
       "..   ...          ...                   ...\n",
       "225  YEM        Yemen                   NaN\n",
       "226  YMD        Yemen           South Yemen\n",
       "227  YUG       Serbia            Yugoslavia\n",
       "228  ZAM       Zambia                   NaN\n",
       "229  ZIM     Zimbabwe                   NaN\n",
       "\n",
       "[228 rows x 3 columns]"
      ]
     },
     "execution_count": 34,
     "metadata": {},
     "output_type": "execute_result"
    },
    {
     "name": "stdout",
     "output_type": "stream",
     "text": [
      "In [34] used 0.0 MiB RAM in 0.11s (system mean cpu 16%, single max cpu 28%), peaked 0.0 MiB above final usage, current RAM usage now 509.0 MiB\n"
     ]
    }
   ],
   "source": [
    "df_region"
   ]
  },
  {
   "cell_type": "code",
   "execution_count": 37,
   "metadata": {},
   "outputs": [
    {
     "name": "stdout",
     "output_type": "stream",
     "text": [
      "In [37] used 20.3 MiB RAM in 0.36s (system mean cpu 26%, single max cpu 75%), peaked 0.0 MiB above final usage, current RAM usage now 750.7 MiB\n"
     ]
    }
   ],
   "source": [
    "df_complete=pd.merge(pd.merge(df_athlete,df_region,on='NOC',how='left'),df_dictionnary,on='NOC',how='left')\n",
    "\n",
    "# On prend seulement les JO d'été\n",
    "df_complete=df_complete[df_complete['Season']=='Summer']\n",
    "df_complete=df_complete[df_complete['Year'] >= 2000]"
   ]
  },
  {
   "cell_type": "code",
   "execution_count": 38,
   "metadata": {},
   "outputs": [
    {
     "name": "stdout",
     "output_type": "stream",
     "text": [
      "In [38] used 0.0 MiB RAM in 0.16s (system mean cpu 18%, single max cpu 34%), peaked 0.0 MiB above final usage, current RAM usage now 750.7 MiB\n"
     ]
    }
   ],
   "source": [
    "# Attribution des pays en fonction des NOC \n",
    "df_complete=pd.merge(df_complete,df_region,on='NOC',how='left')\n",
    "df_complete['Country']=df_complete['Country_y'].fillna(df_complete['Country_x'])\n",
    "df_complete= df_complete.drop(['Country_x', 'Country_y', 'notes_x','notes_y'], axis=1)"
   ]
  },
  {
   "cell_type": "code",
   "execution_count": 39,
   "metadata": {},
   "outputs": [
    {
     "name": "stdout",
     "output_type": "stream",
     "text": [
      "In [39] used 0.0 MiB RAM in 0.13s (system mean cpu 16%, single max cpu 26%), peaked 0.0 MiB above final usage, current RAM usage now 750.7 MiB\n"
     ]
    }
   ],
   "source": [
    "# On retire les NOC (réfugiés)\n",
    "df_complete=df_complete.query(\" NOC !='ROC' \")"
   ]
  },
  {
   "cell_type": "code",
   "execution_count": 40,
   "metadata": {},
   "outputs": [
    {
     "data": {
      "text/plain": [
       "Name                0\n",
       "Sex               312\n",
       "Age               315\n",
       "Height          14600\n",
       "Weight          23931\n",
       "Team                0\n",
       "NOC                 0\n",
       "Games               0\n",
       "Year                0\n",
       "Season              0\n",
       "City                0\n",
       "Sport             312\n",
       "Event           18556\n",
       "Medal           76013\n",
       "Population       3088\n",
       "PIB/habitant     6076\n",
       "Country           277\n",
       "dtype: int64"
      ]
     },
     "execution_count": 40,
     "metadata": {},
     "output_type": "execute_result"
    },
    {
     "name": "stdout",
     "output_type": "stream",
     "text": [
      "In [40] used 0.0 MiB RAM in 0.20s (system mean cpu 16%, single max cpu 25%), peaked 0.0 MiB above final usage, current RAM usage now 750.7 MiB\n"
     ]
    }
   ],
   "source": [
    "# Analyse des valeurs nulles \n",
    "df_complete.isna().sum()\n",
    "\n",
    "# 156 sports où on sait pas ce que c'est .... et des country (26 221) qui ne sont pas attribués non plus "
   ]
  },
  {
   "cell_type": "code",
   "execution_count": 41,
   "metadata": {},
   "outputs": [
    {
     "name": "stdout",
     "output_type": "stream",
     "text": [
      "In [41] used 0.0 MiB RAM in 0.12s (system mean cpu 17%, single max cpu 30%), peaked 0.0 MiB above final usage, current RAM usage now 750.7 MiB\n"
     ]
    }
   ],
   "source": [
    "# Attribution des \n",
    "liste_pays=df_region['Country'].tolist()\n",
    "liste_NOC=df_region['NOC'].tolist()\n",
    "\n",
    "dictio_NOC_pays=dict(zip(liste_NOC,liste_pays))\n",
    "\n",
    "dictio_NOC_pays['SGP']='Singapour'\n",
    "dictio_NOC_pays['LBN']='Liban'\n",
    "\n",
    "df_complete['Country']=df_complete['Country'].fillna(df_complete['NOC'].map(dictio_NOC_pays))\n"
   ]
  },
  {
   "cell_type": "code",
   "execution_count": 43,
   "metadata": {},
   "outputs": [
    {
     "name": "stdout",
     "output_type": "stream",
     "text": [
      "In [43] used 0.0 MiB RAM in 0.12s (system mean cpu 16%, single max cpu 27%), peaked 0.0 MiB above final usage, current RAM usage now 750.8 MiB\n"
     ]
    }
   ],
   "source": [
    "# Il y a quatre NOC qui ne correspondent à aucun pays dans notre EOR : réfugiés , ROT réfugiés aussi , LBN c'est le Liban (Lebanon en anglais )\n",
    "df_complete=df_complete.query(\" NOC !='ROT' and NOC !='EOR' \")"
   ]
  },
  {
   "cell_type": "code",
   "execution_count": 44,
   "metadata": {},
   "outputs": [
    {
     "name": "stdout",
     "output_type": "stream",
     "text": [
      "In [44] used 1.4 MiB RAM in 0.13s (system mean cpu 11%, single max cpu 18%), peaked 0.0 MiB above final usage, current RAM usage now 752.2 MiB\n"
     ]
    }
   ],
   "source": [
    "# On ajoute les pays organisateurs pour chaque ligne scrappée précédemment\n",
    "df_complete=pd.merge(df_complete,df_hote,on='Year',how='left')"
   ]
  },
  {
   "cell_type": "code",
   "execution_count": 45,
   "metadata": {},
   "outputs": [
    {
     "data": {
      "text/html": [
       "<div>\n",
       "<style scoped>\n",
       "    .dataframe tbody tr th:only-of-type {\n",
       "        vertical-align: middle;\n",
       "    }\n",
       "\n",
       "    .dataframe tbody tr th {\n",
       "        vertical-align: top;\n",
       "    }\n",
       "\n",
       "    .dataframe thead th {\n",
       "        text-align: right;\n",
       "    }\n",
       "</style>\n",
       "<table border=\"1\" class=\"dataframe\">\n",
       "  <thead>\n",
       "    <tr style=\"text-align: right;\">\n",
       "      <th></th>\n",
       "      <th>Name</th>\n",
       "      <th>Sex</th>\n",
       "      <th>Age</th>\n",
       "      <th>Height</th>\n",
       "      <th>Weight</th>\n",
       "      <th>Team</th>\n",
       "      <th>NOC</th>\n",
       "      <th>Games</th>\n",
       "      <th>Year</th>\n",
       "      <th>Season</th>\n",
       "      <th>City</th>\n",
       "      <th>Sport</th>\n",
       "      <th>Event</th>\n",
       "      <th>Medal</th>\n",
       "      <th>Population</th>\n",
       "      <th>PIB/habitant</th>\n",
       "      <th>Country</th>\n",
       "      <th>Host_country</th>\n",
       "      <th>Participation_own_country</th>\n",
       "    </tr>\n",
       "  </thead>\n",
       "  <tbody>\n",
       "    <tr>\n",
       "      <th>38</th>\n",
       "      <td>Giorgos Abalof</td>\n",
       "      <td>M</td>\n",
       "      <td>22.0</td>\n",
       "      <td>178.0</td>\n",
       "      <td>70.0</td>\n",
       "      <td>Greece</td>\n",
       "      <td>GRE</td>\n",
       "      <td>2004 Summer</td>\n",
       "      <td>2004</td>\n",
       "      <td>Summer</td>\n",
       "      <td>Athina</td>\n",
       "      <td>Fencing</td>\n",
       "      <td>Fencing Men's epee, Individual</td>\n",
       "      <td>NaN</td>\n",
       "      <td>10823732.0</td>\n",
       "      <td>18002.230578</td>\n",
       "      <td>Greece</td>\n",
       "      <td>Greece</td>\n",
       "      <td>1</td>\n",
       "    </tr>\n",
       "    <tr>\n",
       "      <th>40</th>\n",
       "      <td>Georgios Abaris</td>\n",
       "      <td>M</td>\n",
       "      <td>22.0</td>\n",
       "      <td>190.0</td>\n",
       "      <td>77.0</td>\n",
       "      <td>Greece</td>\n",
       "      <td>GRE</td>\n",
       "      <td>2004 Summer</td>\n",
       "      <td>2004</td>\n",
       "      <td>Summer</td>\n",
       "      <td>Athina</td>\n",
       "      <td>Football</td>\n",
       "      <td>Football Men's Football</td>\n",
       "      <td>NaN</td>\n",
       "      <td>10823732.0</td>\n",
       "      <td>18002.230578</td>\n",
       "      <td>Greece</td>\n",
       "      <td>Greece</td>\n",
       "      <td>1</td>\n",
       "    </tr>\n",
       "    <tr>\n",
       "      <th>49</th>\n",
       "      <td>Georgia Abatzidou</td>\n",
       "      <td>F</td>\n",
       "      <td>35.0</td>\n",
       "      <td>155.0</td>\n",
       "      <td>43.0</td>\n",
       "      <td>Greece</td>\n",
       "      <td>GRE</td>\n",
       "      <td>2004 Summer</td>\n",
       "      <td>2004</td>\n",
       "      <td>Summer</td>\n",
       "      <td>Athina</td>\n",
       "      <td>Athletics</td>\n",
       "      <td>Athletics Women's Marathon</td>\n",
       "      <td>NaN</td>\n",
       "      <td>10823732.0</td>\n",
       "      <td>18002.230578</td>\n",
       "      <td>Greece</td>\n",
       "      <td>Greece</td>\n",
       "      <td>1</td>\n",
       "    </tr>\n",
       "    <tr>\n",
       "      <th>156</th>\n",
       "      <td>Ali Abdo</td>\n",
       "      <td>M</td>\n",
       "      <td>19.0</td>\n",
       "      <td>169.0</td>\n",
       "      <td>74.0</td>\n",
       "      <td>Australia</td>\n",
       "      <td>AUS</td>\n",
       "      <td>2000 Summer</td>\n",
       "      <td>2000</td>\n",
       "      <td>Summer</td>\n",
       "      <td>Sydney</td>\n",
       "      <td>Wrestling</td>\n",
       "      <td>Wrestling Men's Welterweight, Greco-Roman</td>\n",
       "      <td>NaN</td>\n",
       "      <td>23781169.0</td>\n",
       "      <td>56310.962993</td>\n",
       "      <td>Australia</td>\n",
       "      <td>Australia</td>\n",
       "      <td>1</td>\n",
       "    </tr>\n",
       "    <tr>\n",
       "      <th>268</th>\n",
       "      <td>Diana Monteiro Abla</td>\n",
       "      <td>F</td>\n",
       "      <td>21.0</td>\n",
       "      <td>175.0</td>\n",
       "      <td>75.0</td>\n",
       "      <td>Brazil</td>\n",
       "      <td>BRA</td>\n",
       "      <td>2016 Summer</td>\n",
       "      <td>2016</td>\n",
       "      <td>Summer</td>\n",
       "      <td>Rio de Janeiro</td>\n",
       "      <td>Water Polo</td>\n",
       "      <td>Water Polo Women's Water Polo</td>\n",
       "      <td>NaN</td>\n",
       "      <td>207847528.0</td>\n",
       "      <td>8538.589975</td>\n",
       "      <td>Brazil</td>\n",
       "      <td>Brazil</td>\n",
       "      <td>1</td>\n",
       "    </tr>\n",
       "    <tr>\n",
       "      <th>...</th>\n",
       "      <td>...</td>\n",
       "      <td>...</td>\n",
       "      <td>...</td>\n",
       "      <td>...</td>\n",
       "      <td>...</td>\n",
       "      <td>...</td>\n",
       "      <td>...</td>\n",
       "      <td>...</td>\n",
       "      <td>...</td>\n",
       "      <td>...</td>\n",
       "      <td>...</td>\n",
       "      <td>...</td>\n",
       "      <td>...</td>\n",
       "      <td>...</td>\n",
       "      <td>...</td>\n",
       "      <td>...</td>\n",
       "      <td>...</td>\n",
       "      <td>...</td>\n",
       "      <td>...</td>\n",
       "    </tr>\n",
       "    <tr>\n",
       "      <th>90364</th>\n",
       "      <td>YANAGITA Yuki</td>\n",
       "      <td>M</td>\n",
       "      <td>33.0</td>\n",
       "      <td>188.0</td>\n",
       "      <td>NaN</td>\n",
       "      <td>Japan</td>\n",
       "      <td>JPN</td>\n",
       "      <td>Tokyo 2020</td>\n",
       "      <td>2020</td>\n",
       "      <td>Summer</td>\n",
       "      <td>Tokyo</td>\n",
       "      <td>Baseball/Softball</td>\n",
       "      <td>Baseball</td>\n",
       "      <td>Gold</td>\n",
       "      <td>126958472.0</td>\n",
       "      <td>32477.215145</td>\n",
       "      <td>Japan</td>\n",
       "      <td>Japan</td>\n",
       "      <td>1</td>\n",
       "    </tr>\n",
       "    <tr>\n",
       "      <th>90381</th>\n",
       "      <td>YOSHIDA Masataka</td>\n",
       "      <td>M</td>\n",
       "      <td>28.0</td>\n",
       "      <td>173.0</td>\n",
       "      <td>NaN</td>\n",
       "      <td>Japan</td>\n",
       "      <td>JPN</td>\n",
       "      <td>Tokyo 2020</td>\n",
       "      <td>2020</td>\n",
       "      <td>Summer</td>\n",
       "      <td>Tokyo</td>\n",
       "      <td>Baseball/Softball</td>\n",
       "      <td>Baseball</td>\n",
       "      <td>Gold</td>\n",
       "      <td>126958472.0</td>\n",
       "      <td>32477.215145</td>\n",
       "      <td>Japan</td>\n",
       "      <td>Japan</td>\n",
       "      <td>1</td>\n",
       "    </tr>\n",
       "    <tr>\n",
       "      <th>90382</th>\n",
       "      <td>YOSHIDA Tsukasa</td>\n",
       "      <td>F</td>\n",
       "      <td>26.0</td>\n",
       "      <td>NaN</td>\n",
       "      <td>NaN</td>\n",
       "      <td>Japan</td>\n",
       "      <td>JPN</td>\n",
       "      <td>Tokyo 2020</td>\n",
       "      <td>2020</td>\n",
       "      <td>Summer</td>\n",
       "      <td>Tokyo</td>\n",
       "      <td>Judo</td>\n",
       "      <td>Women -57 kg</td>\n",
       "      <td>Bronze</td>\n",
       "      <td>126958472.0</td>\n",
       "      <td>32477.215145</td>\n",
       "      <td>Japan</td>\n",
       "      <td>Japan</td>\n",
       "      <td>1</td>\n",
       "    </tr>\n",
       "    <tr>\n",
       "      <th>90383</th>\n",
       "      <td>YOSHIDA Tsukasa</td>\n",
       "      <td>F</td>\n",
       "      <td>26.0</td>\n",
       "      <td>NaN</td>\n",
       "      <td>NaN</td>\n",
       "      <td>Japan</td>\n",
       "      <td>JPN</td>\n",
       "      <td>Tokyo 2020</td>\n",
       "      <td>2020</td>\n",
       "      <td>Summer</td>\n",
       "      <td>Tokyo</td>\n",
       "      <td>Judo</td>\n",
       "      <td>Mixed Team</td>\n",
       "      <td>Silver</td>\n",
       "      <td>126958472.0</td>\n",
       "      <td>32477.215145</td>\n",
       "      <td>Japan</td>\n",
       "      <td>Japan</td>\n",
       "      <td>1</td>\n",
       "    </tr>\n",
       "    <tr>\n",
       "      <th>90384</th>\n",
       "      <td>YOSOZUMI Sakura</td>\n",
       "      <td>F</td>\n",
       "      <td>19.0</td>\n",
       "      <td>NaN</td>\n",
       "      <td>NaN</td>\n",
       "      <td>Japan</td>\n",
       "      <td>JPN</td>\n",
       "      <td>Tokyo 2020</td>\n",
       "      <td>2020</td>\n",
       "      <td>Summer</td>\n",
       "      <td>Tokyo</td>\n",
       "      <td>Skateboarding</td>\n",
       "      <td>Women's Park</td>\n",
       "      <td>Gold</td>\n",
       "      <td>126958472.0</td>\n",
       "      <td>32477.215145</td>\n",
       "      <td>Japan</td>\n",
       "      <td>Japan</td>\n",
       "      <td>1</td>\n",
       "    </tr>\n",
       "  </tbody>\n",
       "</table>\n",
       "<p>4544 rows × 19 columns</p>\n",
       "</div>"
      ],
      "text/plain": [
       "                      Name Sex   Age  Height  Weight       Team  NOC  \\\n",
       "38          Giorgos Abalof   M  22.0   178.0    70.0     Greece  GRE   \n",
       "40         Georgios Abaris   M  22.0   190.0    77.0     Greece  GRE   \n",
       "49       Georgia Abatzidou   F  35.0   155.0    43.0     Greece  GRE   \n",
       "156               Ali Abdo   M  19.0   169.0    74.0  Australia  AUS   \n",
       "268    Diana Monteiro Abla   F  21.0   175.0    75.0     Brazil  BRA   \n",
       "...                    ...  ..   ...     ...     ...        ...  ...   \n",
       "90364        YANAGITA Yuki   M  33.0   188.0     NaN      Japan  JPN   \n",
       "90381     YOSHIDA Masataka   M  28.0   173.0     NaN      Japan  JPN   \n",
       "90382      YOSHIDA Tsukasa   F  26.0     NaN     NaN      Japan  JPN   \n",
       "90383      YOSHIDA Tsukasa   F  26.0     NaN     NaN      Japan  JPN   \n",
       "90384      YOSOZUMI Sakura   F  19.0     NaN     NaN      Japan  JPN   \n",
       "\n",
       "             Games  Year  Season            City              Sport  \\\n",
       "38     2004 Summer  2004  Summer          Athina            Fencing   \n",
       "40     2004 Summer  2004  Summer          Athina           Football   \n",
       "49     2004 Summer  2004  Summer          Athina          Athletics   \n",
       "156    2000 Summer  2000  Summer          Sydney          Wrestling   \n",
       "268    2016 Summer  2016  Summer  Rio de Janeiro         Water Polo   \n",
       "...            ...   ...     ...             ...                ...   \n",
       "90364   Tokyo 2020  2020  Summer           Tokyo  Baseball/Softball   \n",
       "90381   Tokyo 2020  2020  Summer           Tokyo  Baseball/Softball   \n",
       "90382   Tokyo 2020  2020  Summer           Tokyo               Judo   \n",
       "90383   Tokyo 2020  2020  Summer           Tokyo               Judo   \n",
       "90384   Tokyo 2020  2020  Summer           Tokyo      Skateboarding   \n",
       "\n",
       "                                           Event   Medal   Population  \\\n",
       "38                Fencing Men's epee, Individual     NaN   10823732.0   \n",
       "40                       Football Men's Football     NaN   10823732.0   \n",
       "49                    Athletics Women's Marathon     NaN   10823732.0   \n",
       "156    Wrestling Men's Welterweight, Greco-Roman     NaN   23781169.0   \n",
       "268                Water Polo Women's Water Polo     NaN  207847528.0   \n",
       "...                                          ...     ...          ...   \n",
       "90364                                   Baseball    Gold  126958472.0   \n",
       "90381                                   Baseball    Gold  126958472.0   \n",
       "90382                               Women -57 kg  Bronze  126958472.0   \n",
       "90383                                 Mixed Team  Silver  126958472.0   \n",
       "90384                               Women's Park    Gold  126958472.0   \n",
       "\n",
       "       PIB/habitant    Country Host_country  Participation_own_country  \n",
       "38     18002.230578     Greece       Greece                          1  \n",
       "40     18002.230578     Greece       Greece                          1  \n",
       "49     18002.230578     Greece       Greece                          1  \n",
       "156    56310.962993  Australia    Australia                          1  \n",
       "268     8538.589975     Brazil       Brazil                          1  \n",
       "...             ...        ...          ...                        ...  \n",
       "90364  32477.215145      Japan        Japan                          1  \n",
       "90381  32477.215145      Japan        Japan                          1  \n",
       "90382  32477.215145      Japan        Japan                          1  \n",
       "90383  32477.215145      Japan        Japan                          1  \n",
       "90384  32477.215145      Japan        Japan                          1  \n",
       "\n",
       "[4544 rows x 19 columns]"
      ]
     },
     "execution_count": 45,
     "metadata": {},
     "output_type": "execute_result"
    },
    {
     "name": "stdout",
     "output_type": "stream",
     "text": [
      "In [45] used 0.0 MiB RAM in 0.65s (system mean cpu 30%, single max cpu 62%), peaked 0.0 MiB above final usage, current RAM usage now 752.2 MiB\n"
     ]
    }
   ],
   "source": [
    "# On ajoute une colonne booléenne (l'athlète participe aux jeux dans son propre pays)\n",
    "compare_col=lambda x : 1 if x['Country']==x['Host_country'] else 0 \n",
    "\n",
    "df_complete['Participation_own_country']=df_complete.apply(compare_col,axis=1)\n",
    "df_complete[df_complete['Participation_own_country']==1]"
   ]
  },
  {
   "cell_type": "code",
   "execution_count": 46,
   "metadata": {},
   "outputs": [
    {
     "name": "stdout",
     "output_type": "stream",
     "text": [
      "In [46] used 0.0 MiB RAM in 0.14s (system mean cpu 9%, single max cpu 20%), peaked 0.0 MiB above final usage, current RAM usage now 752.2 MiB\n"
     ]
    }
   ],
   "source": [
    "# On récupère les pays communistes scrappés précédemment\n",
    "df_complete['Soviet_past']=df_complete['Country'].apply(complete_urss_regime)"
   ]
  },
  {
   "cell_type": "code",
   "execution_count": 47,
   "metadata": {},
   "outputs": [
    {
     "name": "stdout",
     "output_type": "stream",
     "text": [
      "In [47] used 7.6 MiB RAM in 0.19s (system mean cpu 20%, single max cpu 32%), peaked 0.0 MiB above final usage, current RAM usage now 759.9 MiB\n"
     ]
    }
   ],
   "source": [
    "# On renomme les pays pour pouvoir merge avec les données scrappées \n",
    "# Changement de noms pour les pays\n",
    "\n",
    "df_complete['Country']=df_complete['Country'].replace('Puerto Rico*','Puerto Rico')\n",
    "df_complete['Country']=df_complete['Country'].replace('Hong Kong*','Hong Kong')\n",
    "df_complete['Country']=df_complete['Country'].replace('Korea, South','South Korea')\n",
    "df_complete['Country']=df_complete['Country'].replace('Korea, North','South Korea')\n",
    "df_complete['Country']=df_complete['Country'].replace('Liban','Lebanon')\n",
    "df_complete['Country']=df_complete['Country'].replace('Congo, Dem Rep','DR Congo')\n",
    "df_complete['Country']=df_complete['Country'].replace('Cayman Islands*','Cayman Islands')\n",
    "df_complete['Country']=df_complete['Country'].replace('Bermuda*','Bermuda')\n",
    "df_complete['Country']=df_complete['Country'].replace('Virgin Islands*','Virgin Islands')\n",
    "df_complete['Country']=df_complete['Country'].replace('Aruba*','Aruba')\n",
    "df_complete['Country']=df_complete['Country'].replace('American Samoa*','American Samoa')\n",
    "df_complete['Country']=df_complete['Country'].replace('Netherlands Antilles*','Netherlands Antilles')\n",
    "\n",
    "# URSS \n",
    "df_complete.loc[(df_complete['Team'] == 'Soviet Union') & (df_complete['NOC'] == 'URS'), ['Team', 'NOC']] = ['Russia', 'RUS'] # URSS période 1952-1988\n",
    "\n",
    "# Réfugiés\n",
    "df_complete.loc[(df_complete['Team'] == 'ROC') & (df_complete['NOC'] == 'ROC'), ['Team', 'NOC']] = ['Germany', 'RUS'] # JO 2020\n",
    "\n",
    "# GERMANY\n",
    "df_complete.loc[(df_complete['Team'] == 'East Germany') & (df_complete['NOC'] == 'GDR'), ['Team', 'NOC']] = ['Germany', 'GER']\n",
    "\n",
    "# CHINA\n",
    "df_complete.loc[df_complete['Team'] == \"People's Republic of China\", ['Team', 'NOC']] = ['China', 'CHN']\n",
    "\n",
    "# UNITED STATES\n",
    "df_complete.loc[df_complete['Team'] == \"United States of America\", ['Team', 'NOC']] = ['United States', 'USA']"
   ]
  },
  {
   "cell_type": "code",
   "execution_count": 48,
   "metadata": {},
   "outputs": [
    {
     "name": "stdout",
     "output_type": "stream",
     "text": [
      "In [48] used -14.6 MiB RAM in 0.92s (system mean cpu 28%, single max cpu 75%), peaked 0.0 MiB above final usage, current RAM usage now 745.3 MiB\n"
     ]
    }
   ],
   "source": [
    "# Normalisation des pays. Certains sont écrits avec des suffixes (Ex: Brazil-1, Brazil-2)\n",
    "replacement_dict = {}\n",
    "\n",
    "old_countries_to_process = df_complete.Team.unique()\n",
    "\n",
    "for i in old_countries_to_process:\n",
    "    replacement_dict[i] = re.sub(r'[\\d-]', '', i)\n",
    "\n",
    "\n",
    "final_df = df_complete.replace({\"Team\": replacement_dict})"
   ]
  },
  {
   "cell_type": "code",
   "execution_count": 51,
   "metadata": {},
   "outputs": [
    {
     "data": {
      "text/plain": [
       "Name                            0\n",
       "Sex                            18\n",
       "Age                            18\n",
       "Height                        531\n",
       "Weight                        844\n",
       "Team                            0\n",
       "NOC                             0\n",
       "Games                           0\n",
       "Year                            0\n",
       "Season                          0\n",
       "City                            0\n",
       "Sport                          18\n",
       "Event                         676\n",
       "Medal                        2599\n",
       "Population_x                 3018\n",
       "PIB/habitant_x               3018\n",
       "Country                         0\n",
       "Host_country                    0\n",
       "Participation_own_country       0\n",
       "Soviet_past                     0\n",
       "PIB                            17\n",
       "Population_y                   17\n",
       "PIB/habitant_y                 17\n",
       "dtype: int64"
      ]
     },
     "execution_count": 51,
     "metadata": {},
     "output_type": "execute_result"
    },
    {
     "name": "stdout",
     "output_type": "stream",
     "text": [
      "In [51] used 0.2 MiB RAM in 0.11s (system mean cpu 13%, single max cpu 23%), peaked 0.0 MiB above final usage, current RAM usage now 745.5 MiB\n"
     ]
    }
   ],
   "source": [
    "df_test_na_pop=df_complete[df_complete['Population'].isna()]\n",
    "\n",
    "# On merge les données de df_test_na_pop et df_complete\n",
    "df_test_na_pop=pd.merge(df_test_na_pop,df_pop_gpd,on='Country',how='left')\n",
    "df_test_na_pop.isna().sum()"
   ]
  },
  {
   "cell_type": "code",
   "execution_count": 52,
   "metadata": {},
   "outputs": [
    {
     "name": "stdout",
     "output_type": "stream",
     "text": [
      "In [52] used 8.0 MiB RAM in 0.13s (system mean cpu 13%, single max cpu 24%), peaked 0.0 MiB above final usage, current RAM usage now 753.5 MiB\n"
     ]
    }
   ],
   "source": [
    "# On nettoie les colonnes résiduelles\n",
    "df_test_na_pop=df_test_na_pop.drop(['Population_x'],axis=1)\n",
    "df_test_na_pop=df_test_na_pop.drop(['PIB/habitant_x'],axis=1)\n",
    "\n",
    "# On renomme les colonnes\n",
    "df_test_na_pop=df_test_na_pop.rename(columns={'Population_y':'Population'})\n",
    "df_test_na_pop=df_test_na_pop.rename(columns={'PIB/habitant_y':'PIB/habitant'})\n",
    "\n",
    "# On nettoie les données nulles dans la colonne Population\n",
    "df_test_na_pop=df_test_na_pop.dropna(subset='Population')\n",
    "df_complete=df_complete.dropna(subset='Population')\n",
    "\n",
    "df_complete=pd.concat([df_complete,df_test_na_pop],ignore_index=True)"
   ]
  },
  {
   "cell_type": "markdown",
   "metadata": {},
   "source": [
    "### Opérations sur le PIB"
   ]
  },
  {
   "cell_type": "code",
   "execution_count": 53,
   "metadata": {},
   "outputs": [
    {
     "name": "stdout",
     "output_type": "stream",
     "text": [
      "In [53] used 8.4 MiB RAM in 0.15s (system mean cpu 17%, single max cpu 32%), peaked 0.0 MiB above final usage, current RAM usage now 761.9 MiB\n"
     ]
    }
   ],
   "source": [
    "# Traitement des données nulles\n",
    "df_test_na_pib=df_complete[df_complete['PIB/habitant'].isna()]\n",
    "df_complete=df_complete.dropna(subset='PIB/habitant')\n",
    "\n",
    "# On merge avec les données scrappées\n",
    "df_test_na_pib=pd.merge(df_test_na_pib,df_pop_gpd,on='Country',how='left')\n",
    "\n",
    "# On drop les données résiduelles\n",
    "df_test_na_pib=df_test_na_pib.drop(['Population_x'],axis=1)\n",
    "df_test_na_pib=df_test_na_pib.drop(['PIB/habitant_x'],axis=1)\n",
    "df_test_na_pib=df_test_na_pib.drop(['PIB_x'],axis=1)\n",
    "\n",
    "# On renomme les colonnes merge\n",
    "df_test_na_pib=df_test_na_pib.rename(columns={'Population_y':'Population'})\n",
    "df_test_na_pib=df_test_na_pib.rename(columns={'PIB/habitant_y':'PIB/habitant'})\n",
    "df_test_na_pib=df_test_na_pib.rename(columns={'PIB_y':'PIB'})\n",
    "\n",
    "df_complete=pd.concat([df_complete,df_test_na_pib],ignore_index=True)"
   ]
  },
  {
   "cell_type": "code",
   "execution_count": 54,
   "metadata": {},
   "outputs": [
    {
     "name": "stdout",
     "output_type": "stream",
     "text": [
      "In [54] used 0.0 MiB RAM in 0.11s (system mean cpu 18%, single max cpu 37%), peaked 0.0 MiB above final usage, current RAM usage now 761.9 MiB\n"
     ]
    }
   ],
   "source": [
    "# Attribution du PIB aux pays manquants\n",
    "df_complete['PIB']=df_complete['PIB'].fillna(df_complete['Country'].map(dictio_pop_gpd))"
   ]
  },
  {
   "cell_type": "markdown",
   "metadata": {},
   "source": [
    "### Opérations sur les âges"
   ]
  },
  {
   "cell_type": "code",
   "execution_count": 55,
   "metadata": {},
   "outputs": [
    {
     "name": "stdout",
     "output_type": "stream",
     "text": [
      "In [55] used 0.1 MiB RAM in 0.13s (system mean cpu 20%, single max cpu 37%), peaked 0.0 MiB above final usage, current RAM usage now 762.1 MiB\n"
     ]
    }
   ],
   "source": [
    "# On attribue les âges manquants en faisant la moyenne des âges par sport\n",
    "table_sport_age=df_complete.groupby('Sport')['Age'].mean().apply(math.ceil).reset_index()\n",
    "\n",
    "liste_sport=table_sport_age['Sport'].tolist()\n",
    "liste_age=table_sport_age['Age'].tolist()\n",
    "\n",
    "dictio_age_sport=dict(zip(liste_sport,liste_age))\n",
    "\n",
    "df_complete['Age']=df_complete['Age'].fillna(df_complete['Sport'].map(dictio_age_sport))"
   ]
  },
  {
   "cell_type": "code",
   "execution_count": 56,
   "metadata": {},
   "outputs": [
    {
     "name": "stdout",
     "output_type": "stream",
     "text": [
      "In [56] used 0.0 MiB RAM in 0.13s (system mean cpu 19%, single max cpu 38%), peaked 0.0 MiB above final usage, current RAM usage now 762.1 MiB\n"
     ]
    }
   ],
   "source": [
    "# Il y a 156 personnes qui manquent car nous n'avons pas les sports \n",
    "df_complete=df_complete.dropna(subset='Age')"
   ]
  },
  {
   "cell_type": "markdown",
   "metadata": {},
   "source": [
    "### Opérations sur le sexe, le poids et les tailles"
   ]
  },
  {
   "cell_type": "code",
   "execution_count": 57,
   "metadata": {},
   "outputs": [
    {
     "name": "stdout",
     "output_type": "stream",
     "text": [
      "In [57] used 0.0 MiB RAM in 0.12s (system mean cpu 16%, single max cpu 30%), peaked 0.0 MiB above final usage, current RAM usage now 762.1 MiB\n"
     ]
    }
   ],
   "source": [
    "df_male = df_complete[df_complete['Sex'] == 'M']\n",
    "df_female = df_complete[df_complete['Sex'] == 'F']\n",
    "columns_to_impute = ['Age', 'Height', 'Weight']"
   ]
  },
  {
   "cell_type": "code",
   "execution_count": 58,
   "metadata": {},
   "outputs": [
    {
     "ename": "KeyboardInterrupt",
     "evalue": "",
     "output_type": "error",
     "traceback": [
      "\u001b[0;31m---------------------------------------------------------------------------\u001b[0m",
      "\u001b[0;31mKeyboardInterrupt\u001b[0m                         Traceback (most recent call last)",
      "Cell \u001b[0;32mIn[58], line 5\u001b[0m\n\u001b[1;32m      2\u001b[0m imputer \u001b[38;5;241m=\u001b[39m KNNImputer(n_neighbors\u001b[38;5;241m=\u001b[39m\u001b[38;5;241m5\u001b[39m)\n\u001b[1;32m      4\u001b[0m \u001b[38;5;66;03m# Imputer les valeurs manquantes pour les hommes\u001b[39;00m\n\u001b[0;32m----> 5\u001b[0m df_male[columns_to_impute] \u001b[38;5;241m=\u001b[39m \u001b[43mimputer\u001b[49m\u001b[38;5;241;43m.\u001b[39;49m\u001b[43mfit_transform\u001b[49m\u001b[43m(\u001b[49m\u001b[43mdf_male\u001b[49m\u001b[43m[\u001b[49m\u001b[43mcolumns_to_impute\u001b[49m\u001b[43m]\u001b[49m\u001b[43m)\u001b[49m\n\u001b[1;32m      7\u001b[0m \u001b[38;5;66;03m# Imputer les valeurs manquantes pour les femmes\u001b[39;00m\n\u001b[1;32m      8\u001b[0m df_female[columns_to_impute] \u001b[38;5;241m=\u001b[39m imputer\u001b[38;5;241m.\u001b[39mfit_transform(df_female[columns_to_impute])\n",
      "File \u001b[0;32m~/opt/anaconda3/lib/python3.9/site-packages/sklearn/utils/_set_output.py:157\u001b[0m, in \u001b[0;36m_wrap_method_output.<locals>.wrapped\u001b[0;34m(self, X, *args, **kwargs)\u001b[0m\n\u001b[1;32m    155\u001b[0m \u001b[38;5;129m@wraps\u001b[39m(f)\n\u001b[1;32m    156\u001b[0m \u001b[38;5;28;01mdef\u001b[39;00m \u001b[38;5;21mwrapped\u001b[39m(\u001b[38;5;28mself\u001b[39m, X, \u001b[38;5;241m*\u001b[39margs, \u001b[38;5;241m*\u001b[39m\u001b[38;5;241m*\u001b[39mkwargs):\n\u001b[0;32m--> 157\u001b[0m     data_to_wrap \u001b[38;5;241m=\u001b[39m \u001b[43mf\u001b[49m\u001b[43m(\u001b[49m\u001b[38;5;28;43mself\u001b[39;49m\u001b[43m,\u001b[49m\u001b[43m \u001b[49m\u001b[43mX\u001b[49m\u001b[43m,\u001b[49m\u001b[43m \u001b[49m\u001b[38;5;241;43m*\u001b[39;49m\u001b[43margs\u001b[49m\u001b[43m,\u001b[49m\u001b[43m \u001b[49m\u001b[38;5;241;43m*\u001b[39;49m\u001b[38;5;241;43m*\u001b[39;49m\u001b[43mkwargs\u001b[49m\u001b[43m)\u001b[49m\n\u001b[1;32m    158\u001b[0m     \u001b[38;5;28;01mif\u001b[39;00m \u001b[38;5;28misinstance\u001b[39m(data_to_wrap, \u001b[38;5;28mtuple\u001b[39m):\n\u001b[1;32m    159\u001b[0m         \u001b[38;5;66;03m# only wrap the first output for cross decomposition\u001b[39;00m\n\u001b[1;32m    160\u001b[0m         return_tuple \u001b[38;5;241m=\u001b[39m (\n\u001b[1;32m    161\u001b[0m             _wrap_data_with_container(method, data_to_wrap[\u001b[38;5;241m0\u001b[39m], X, \u001b[38;5;28mself\u001b[39m),\n\u001b[1;32m    162\u001b[0m             \u001b[38;5;241m*\u001b[39mdata_to_wrap[\u001b[38;5;241m1\u001b[39m:],\n\u001b[1;32m    163\u001b[0m         )\n",
      "File \u001b[0;32m~/opt/anaconda3/lib/python3.9/site-packages/sklearn/base.py:916\u001b[0m, in \u001b[0;36mTransformerMixin.fit_transform\u001b[0;34m(self, X, y, **fit_params)\u001b[0m\n\u001b[1;32m    912\u001b[0m \u001b[38;5;66;03m# non-optimized default implementation; override when a better\u001b[39;00m\n\u001b[1;32m    913\u001b[0m \u001b[38;5;66;03m# method is possible for a given clustering algorithm\u001b[39;00m\n\u001b[1;32m    914\u001b[0m \u001b[38;5;28;01mif\u001b[39;00m y \u001b[38;5;129;01mis\u001b[39;00m \u001b[38;5;28;01mNone\u001b[39;00m:\n\u001b[1;32m    915\u001b[0m     \u001b[38;5;66;03m# fit method of arity 1 (unsupervised transformation)\u001b[39;00m\n\u001b[0;32m--> 916\u001b[0m     \u001b[38;5;28;01mreturn\u001b[39;00m \u001b[38;5;28;43mself\u001b[39;49m\u001b[38;5;241;43m.\u001b[39;49m\u001b[43mfit\u001b[49m\u001b[43m(\u001b[49m\u001b[43mX\u001b[49m\u001b[43m,\u001b[49m\u001b[43m \u001b[49m\u001b[38;5;241;43m*\u001b[39;49m\u001b[38;5;241;43m*\u001b[39;49m\u001b[43mfit_params\u001b[49m\u001b[43m)\u001b[49m\u001b[38;5;241;43m.\u001b[39;49m\u001b[43mtransform\u001b[49m\u001b[43m(\u001b[49m\u001b[43mX\u001b[49m\u001b[43m)\u001b[49m\n\u001b[1;32m    917\u001b[0m \u001b[38;5;28;01melse\u001b[39;00m:\n\u001b[1;32m    918\u001b[0m     \u001b[38;5;66;03m# fit method of arity 2 (supervised transformation)\u001b[39;00m\n\u001b[1;32m    919\u001b[0m     \u001b[38;5;28;01mreturn\u001b[39;00m \u001b[38;5;28mself\u001b[39m\u001b[38;5;241m.\u001b[39mfit(X, y, \u001b[38;5;241m*\u001b[39m\u001b[38;5;241m*\u001b[39mfit_params)\u001b[38;5;241m.\u001b[39mtransform(X)\n",
      "File \u001b[0;32m~/opt/anaconda3/lib/python3.9/site-packages/sklearn/utils/_set_output.py:157\u001b[0m, in \u001b[0;36m_wrap_method_output.<locals>.wrapped\u001b[0;34m(self, X, *args, **kwargs)\u001b[0m\n\u001b[1;32m    155\u001b[0m \u001b[38;5;129m@wraps\u001b[39m(f)\n\u001b[1;32m    156\u001b[0m \u001b[38;5;28;01mdef\u001b[39;00m \u001b[38;5;21mwrapped\u001b[39m(\u001b[38;5;28mself\u001b[39m, X, \u001b[38;5;241m*\u001b[39margs, \u001b[38;5;241m*\u001b[39m\u001b[38;5;241m*\u001b[39mkwargs):\n\u001b[0;32m--> 157\u001b[0m     data_to_wrap \u001b[38;5;241m=\u001b[39m \u001b[43mf\u001b[49m\u001b[43m(\u001b[49m\u001b[38;5;28;43mself\u001b[39;49m\u001b[43m,\u001b[49m\u001b[43m \u001b[49m\u001b[43mX\u001b[49m\u001b[43m,\u001b[49m\u001b[43m \u001b[49m\u001b[38;5;241;43m*\u001b[39;49m\u001b[43margs\u001b[49m\u001b[43m,\u001b[49m\u001b[43m \u001b[49m\u001b[38;5;241;43m*\u001b[39;49m\u001b[38;5;241;43m*\u001b[39;49m\u001b[43mkwargs\u001b[49m\u001b[43m)\u001b[49m\n\u001b[1;32m    158\u001b[0m     \u001b[38;5;28;01mif\u001b[39;00m \u001b[38;5;28misinstance\u001b[39m(data_to_wrap, \u001b[38;5;28mtuple\u001b[39m):\n\u001b[1;32m    159\u001b[0m         \u001b[38;5;66;03m# only wrap the first output for cross decomposition\u001b[39;00m\n\u001b[1;32m    160\u001b[0m         return_tuple \u001b[38;5;241m=\u001b[39m (\n\u001b[1;32m    161\u001b[0m             _wrap_data_with_container(method, data_to_wrap[\u001b[38;5;241m0\u001b[39m], X, \u001b[38;5;28mself\u001b[39m),\n\u001b[1;32m    162\u001b[0m             \u001b[38;5;241m*\u001b[39mdata_to_wrap[\u001b[38;5;241m1\u001b[39m:],\n\u001b[1;32m    163\u001b[0m         )\n",
      "File \u001b[0;32m~/opt/anaconda3/lib/python3.9/site-packages/sklearn/impute/_knn.py:365\u001b[0m, in \u001b[0;36mKNNImputer.transform\u001b[0;34m(self, X)\u001b[0m\n\u001b[1;32m    356\u001b[0m \u001b[38;5;66;03m# process in fixed-memory chunks\u001b[39;00m\n\u001b[1;32m    357\u001b[0m gen \u001b[38;5;241m=\u001b[39m pairwise_distances_chunked(\n\u001b[1;32m    358\u001b[0m     X[row_missing_idx, :],\n\u001b[1;32m    359\u001b[0m     \u001b[38;5;28mself\u001b[39m\u001b[38;5;241m.\u001b[39m_fit_X,\n\u001b[0;32m   (...)\u001b[0m\n\u001b[1;32m    363\u001b[0m     reduce_func\u001b[38;5;241m=\u001b[39mprocess_chunk,\n\u001b[1;32m    364\u001b[0m )\n\u001b[0;32m--> 365\u001b[0m \u001b[38;5;28;01mfor\u001b[39;00m chunk \u001b[38;5;129;01min\u001b[39;00m gen:\n\u001b[1;32m    366\u001b[0m     \u001b[38;5;66;03m# process_chunk modifies X in place. No return value.\u001b[39;00m\n\u001b[1;32m    367\u001b[0m     \u001b[38;5;28;01mpass\u001b[39;00m\n\u001b[1;32m    369\u001b[0m \u001b[38;5;28;01mif\u001b[39;00m \u001b[38;5;28mself\u001b[39m\u001b[38;5;241m.\u001b[39mkeep_empty_features:\n",
      "File \u001b[0;32m~/opt/anaconda3/lib/python3.9/site-packages/sklearn/metrics/pairwise.py:2018\u001b[0m, in \u001b[0;36mpairwise_distances_chunked\u001b[0;34m(X, Y, reduce_func, metric, n_jobs, working_memory, **kwds)\u001b[0m\n\u001b[1;32m   2016\u001b[0m \u001b[38;5;28;01melse\u001b[39;00m:\n\u001b[1;32m   2017\u001b[0m     X_chunk \u001b[38;5;241m=\u001b[39m X[sl]\n\u001b[0;32m-> 2018\u001b[0m D_chunk \u001b[38;5;241m=\u001b[39m \u001b[43mpairwise_distances\u001b[49m\u001b[43m(\u001b[49m\u001b[43mX_chunk\u001b[49m\u001b[43m,\u001b[49m\u001b[43m \u001b[49m\u001b[43mY\u001b[49m\u001b[43m,\u001b[49m\u001b[43m \u001b[49m\u001b[43mmetric\u001b[49m\u001b[38;5;241;43m=\u001b[39;49m\u001b[43mmetric\u001b[49m\u001b[43m,\u001b[49m\u001b[43m \u001b[49m\u001b[43mn_jobs\u001b[49m\u001b[38;5;241;43m=\u001b[39;49m\u001b[43mn_jobs\u001b[49m\u001b[43m,\u001b[49m\u001b[43m \u001b[49m\u001b[38;5;241;43m*\u001b[39;49m\u001b[38;5;241;43m*\u001b[39;49m\u001b[43mkwds\u001b[49m\u001b[43m)\u001b[49m\n\u001b[1;32m   2019\u001b[0m \u001b[38;5;28;01mif\u001b[39;00m (X \u001b[38;5;129;01mis\u001b[39;00m Y \u001b[38;5;129;01mor\u001b[39;00m Y \u001b[38;5;129;01mis\u001b[39;00m \u001b[38;5;28;01mNone\u001b[39;00m) \u001b[38;5;129;01mand\u001b[39;00m PAIRWISE_DISTANCE_FUNCTIONS\u001b[38;5;241m.\u001b[39mget(\n\u001b[1;32m   2020\u001b[0m     metric, \u001b[38;5;28;01mNone\u001b[39;00m\n\u001b[1;32m   2021\u001b[0m ) \u001b[38;5;129;01mis\u001b[39;00m euclidean_distances:\n\u001b[1;32m   2022\u001b[0m     \u001b[38;5;66;03m# zeroing diagonal, taking care of aliases of \"euclidean\",\u001b[39;00m\n\u001b[1;32m   2023\u001b[0m     \u001b[38;5;66;03m# i.e. \"l2\"\u001b[39;00m\n\u001b[1;32m   2024\u001b[0m     D_chunk\u001b[38;5;241m.\u001b[39mflat[sl\u001b[38;5;241m.\u001b[39mstart :: _num_samples(X) \u001b[38;5;241m+\u001b[39m \u001b[38;5;241m1\u001b[39m] \u001b[38;5;241m=\u001b[39m \u001b[38;5;241m0\u001b[39m\n",
      "File \u001b[0;32m~/opt/anaconda3/lib/python3.9/site-packages/sklearn/metrics/pairwise.py:2196\u001b[0m, in \u001b[0;36mpairwise_distances\u001b[0;34m(X, Y, metric, n_jobs, force_all_finite, **kwds)\u001b[0m\n\u001b[1;32m   2193\u001b[0m         \u001b[38;5;28;01mreturn\u001b[39;00m distance\u001b[38;5;241m.\u001b[39msquareform(distance\u001b[38;5;241m.\u001b[39mpdist(X, metric\u001b[38;5;241m=\u001b[39mmetric, \u001b[38;5;241m*\u001b[39m\u001b[38;5;241m*\u001b[39mkwds))\n\u001b[1;32m   2194\u001b[0m     func \u001b[38;5;241m=\u001b[39m partial(distance\u001b[38;5;241m.\u001b[39mcdist, metric\u001b[38;5;241m=\u001b[39mmetric, \u001b[38;5;241m*\u001b[39m\u001b[38;5;241m*\u001b[39mkwds)\n\u001b[0;32m-> 2196\u001b[0m \u001b[38;5;28;01mreturn\u001b[39;00m \u001b[43m_parallel_pairwise\u001b[49m\u001b[43m(\u001b[49m\u001b[43mX\u001b[49m\u001b[43m,\u001b[49m\u001b[43m \u001b[49m\u001b[43mY\u001b[49m\u001b[43m,\u001b[49m\u001b[43m \u001b[49m\u001b[43mfunc\u001b[49m\u001b[43m,\u001b[49m\u001b[43m \u001b[49m\u001b[43mn_jobs\u001b[49m\u001b[43m,\u001b[49m\u001b[43m \u001b[49m\u001b[38;5;241;43m*\u001b[39;49m\u001b[38;5;241;43m*\u001b[39;49m\u001b[43mkwds\u001b[49m\u001b[43m)\u001b[49m\n",
      "File \u001b[0;32m~/opt/anaconda3/lib/python3.9/site-packages/sklearn/metrics/pairwise.py:1766\u001b[0m, in \u001b[0;36m_parallel_pairwise\u001b[0;34m(X, Y, func, n_jobs, **kwds)\u001b[0m\n\u001b[1;32m   1763\u001b[0m X, Y, dtype \u001b[38;5;241m=\u001b[39m _return_float_dtype(X, Y)\n\u001b[1;32m   1765\u001b[0m \u001b[38;5;28;01mif\u001b[39;00m effective_n_jobs(n_jobs) \u001b[38;5;241m==\u001b[39m \u001b[38;5;241m1\u001b[39m:\n\u001b[0;32m-> 1766\u001b[0m     \u001b[38;5;28;01mreturn\u001b[39;00m \u001b[43mfunc\u001b[49m\u001b[43m(\u001b[49m\u001b[43mX\u001b[49m\u001b[43m,\u001b[49m\u001b[43m \u001b[49m\u001b[43mY\u001b[49m\u001b[43m,\u001b[49m\u001b[43m \u001b[49m\u001b[38;5;241;43m*\u001b[39;49m\u001b[38;5;241;43m*\u001b[39;49m\u001b[43mkwds\u001b[49m\u001b[43m)\u001b[49m\n\u001b[1;32m   1768\u001b[0m \u001b[38;5;66;03m# enforce a threading backend to prevent data communication overhead\u001b[39;00m\n\u001b[1;32m   1769\u001b[0m fd \u001b[38;5;241m=\u001b[39m delayed(_dist_wrapper)\n",
      "File \u001b[0;32m~/opt/anaconda3/lib/python3.9/site-packages/sklearn/utils/_param_validation.py:214\u001b[0m, in \u001b[0;36mvalidate_params.<locals>.decorator.<locals>.wrapper\u001b[0;34m(*args, **kwargs)\u001b[0m\n\u001b[1;32m    208\u001b[0m \u001b[38;5;28;01mtry\u001b[39;00m:\n\u001b[1;32m    209\u001b[0m     \u001b[38;5;28;01mwith\u001b[39;00m config_context(\n\u001b[1;32m    210\u001b[0m         skip_parameter_validation\u001b[38;5;241m=\u001b[39m(\n\u001b[1;32m    211\u001b[0m             prefer_skip_nested_validation \u001b[38;5;129;01mor\u001b[39;00m global_skip_validation\n\u001b[1;32m    212\u001b[0m         )\n\u001b[1;32m    213\u001b[0m     ):\n\u001b[0;32m--> 214\u001b[0m         \u001b[38;5;28;01mreturn\u001b[39;00m \u001b[43mfunc\u001b[49m\u001b[43m(\u001b[49m\u001b[38;5;241;43m*\u001b[39;49m\u001b[43margs\u001b[49m\u001b[43m,\u001b[49m\u001b[43m \u001b[49m\u001b[38;5;241;43m*\u001b[39;49m\u001b[38;5;241;43m*\u001b[39;49m\u001b[43mkwargs\u001b[49m\u001b[43m)\u001b[49m\n\u001b[1;32m    215\u001b[0m \u001b[38;5;28;01mexcept\u001b[39;00m InvalidParameterError \u001b[38;5;28;01mas\u001b[39;00m e:\n\u001b[1;32m    216\u001b[0m     \u001b[38;5;66;03m# When the function is just a wrapper around an estimator, we allow\u001b[39;00m\n\u001b[1;32m    217\u001b[0m     \u001b[38;5;66;03m# the function to delegate validation to the estimator, but we replace\u001b[39;00m\n\u001b[1;32m    218\u001b[0m     \u001b[38;5;66;03m# the name of the estimator by the name of the function in the error\u001b[39;00m\n\u001b[1;32m    219\u001b[0m     \u001b[38;5;66;03m# message to avoid confusion.\u001b[39;00m\n\u001b[1;32m    220\u001b[0m     msg \u001b[38;5;241m=\u001b[39m re\u001b[38;5;241m.\u001b[39msub(\n\u001b[1;32m    221\u001b[0m         \u001b[38;5;124mr\u001b[39m\u001b[38;5;124m\"\u001b[39m\u001b[38;5;124mparameter of \u001b[39m\u001b[38;5;124m\\\u001b[39m\u001b[38;5;124mw+ must be\u001b[39m\u001b[38;5;124m\"\u001b[39m,\n\u001b[1;32m    222\u001b[0m         \u001b[38;5;124mf\u001b[39m\u001b[38;5;124m\"\u001b[39m\u001b[38;5;124mparameter of \u001b[39m\u001b[38;5;132;01m{\u001b[39;00mfunc\u001b[38;5;241m.\u001b[39m\u001b[38;5;18m__qualname__\u001b[39m\u001b[38;5;132;01m}\u001b[39;00m\u001b[38;5;124m must be\u001b[39m\u001b[38;5;124m\"\u001b[39m,\n\u001b[1;32m    223\u001b[0m         \u001b[38;5;28mstr\u001b[39m(e),\n\u001b[1;32m    224\u001b[0m     )\n",
      "File \u001b[0;32m~/opt/anaconda3/lib/python3.9/site-packages/sklearn/metrics/pairwise.py:500\u001b[0m, in \u001b[0;36mnan_euclidean_distances\u001b[0;34m(X, Y, squared, missing_values, copy)\u001b[0m\n\u001b[1;32m    498\u001b[0m YY \u001b[38;5;241m=\u001b[39m Y \u001b[38;5;241m*\u001b[39m Y\n\u001b[1;32m    499\u001b[0m distances \u001b[38;5;241m-\u001b[39m\u001b[38;5;241m=\u001b[39m np\u001b[38;5;241m.\u001b[39mdot(XX, missing_Y\u001b[38;5;241m.\u001b[39mT)\n\u001b[0;32m--> 500\u001b[0m distances \u001b[38;5;241m-\u001b[39m\u001b[38;5;241m=\u001b[39m \u001b[43mnp\u001b[49m\u001b[38;5;241;43m.\u001b[39;49m\u001b[43mdot\u001b[49m\u001b[43m(\u001b[49m\u001b[43mmissing_X\u001b[49m\u001b[43m,\u001b[49m\u001b[43m \u001b[49m\u001b[43mYY\u001b[49m\u001b[38;5;241;43m.\u001b[39;49m\u001b[43mT\u001b[49m\u001b[43m)\u001b[49m\n\u001b[1;32m    502\u001b[0m np\u001b[38;5;241m.\u001b[39mclip(distances, \u001b[38;5;241m0\u001b[39m, \u001b[38;5;28;01mNone\u001b[39;00m, out\u001b[38;5;241m=\u001b[39mdistances)\n\u001b[1;32m    504\u001b[0m \u001b[38;5;28;01mif\u001b[39;00m X \u001b[38;5;129;01mis\u001b[39;00m Y:\n\u001b[1;32m    505\u001b[0m     \u001b[38;5;66;03m# Ensure that distances between vectors and themselves are set to 0.0.\u001b[39;00m\n\u001b[1;32m    506\u001b[0m     \u001b[38;5;66;03m# This may not be the case due to floating point rounding errors.\u001b[39;00m\n",
      "\u001b[0;31mKeyboardInterrupt\u001b[0m: "
     ]
    },
    {
     "name": "stdout",
     "output_type": "stream",
     "text": [
      "In [58] used 978.2 MiB RAM in 8.02s (system mean cpu 45%, single max cpu 100%), peaked 2151.4 MiB above final usage, current RAM usage now 1740.3 MiB\n"
     ]
    }
   ],
   "source": [
    "# Créer un imputer KNN avec un nombre de voisins à considérer (k)\n",
    "imputer = KNNImputer(n_neighbors=5)\n",
    "\n",
    "# Imputer les valeurs manquantes pour les hommes\n",
    "df_male[columns_to_impute] = imputer.fit_transform(df_male[columns_to_impute])\n",
    "\n",
    "# Imputer les valeurs manquantes pour les femmes\n",
    "df_female[columns_to_impute] = imputer.fit_transform(df_female[columns_to_impute])\n",
    "\n",
    "# Fusionner les DataFrames pour obtenir le DataFrame complet\n",
    "df_complete = pd.concat([df_male, df_female])"
   ]
  },
  {
   "cell_type": "markdown",
   "metadata": {},
   "source": [
    "## Traitement des valeurs aberrantes"
   ]
  },
  {
   "cell_type": "code",
   "execution_count": null,
   "metadata": {},
   "outputs": [],
   "source": [
    "# A faire\n",
    "# TODO : Guillaume"
   ]
  },
  {
   "cell_type": "markdown",
   "metadata": {},
   "source": [
    "## Encodage des données"
   ]
  },
  {
   "cell_type": "markdown",
   "metadata": {},
   "source": [
    "Encodage des médailles"
   ]
  },
  {
   "cell_type": "code",
   "execution_count": 47,
   "metadata": {},
   "outputs": [
    {
     "name": "stdout",
     "output_type": "stream",
     "text": [
      "In [47] used -404.9 MiB RAM in 0.11s (system mean cpu 0%, single max cpu 0%), peaked 0.0 MiB above final usage, current RAM usage now 20.8 MiB\n"
     ]
    }
   ],
   "source": [
    "# Encodage du sexe\n",
    "df_complete['Sex'].replace(['F','M'],['0', '1'],inplace=True)\n",
    "\n",
    "# Encodage des médailles \n",
    "df_complete['Medal'].replace(['Gold','Silver','Bronze'],['5', '3','1'],inplace=True)\n",
    "\n",
    "# transform the medal into numeric values\n",
    "df_complete['Medal'] = df_complete.Medal.fillna('0')\n",
    "\n",
    "#JO Hivers = 0; été = 1\n",
    "df_complete['Season'].replace(['Winter','Summer'],['0', '1'],inplace=True)\n",
    "df_complete = df_complete.drop(df_complete[df_complete['Season'] == '0'].index)\n",
    "\n",
    "# Encodage de l'âge\n",
    "df_complete['Age'] = pd.cut(df_complete.Age, range(0, 80, 5), right=False)\n",
    "\n",
    "# Encodage du poids\n",
    "df_complete['Weight'] = pd.cut(df_complete.Weight, range(0, 230, 10), right=False)\n",
    "\n",
    "# Encodage de la taille\n",
    "df_complete['Height'] = pd.cut(df_complete.Height, range(0, 250, 10), right=False)\n",
    "\n",
    "# Encodage du sport \n",
    "encoder=preprocessing.OneHotEncoder(sparse_output=False)\n",
    "encoder.fit(df_complete[['Sport']])\n",
    "columns_name = encoder.get_feature_names_out(['Sport'])\n",
    "df_encoded = pd.DataFrame(encoder.transform(df_complete[['Sport']]))\n",
    "df_encoded.columns = columns_name\n",
    "df_complete= pd.concat([df_complete, df_encoded], axis=1)\n",
    "\n",
    "df_complete = df_complete.drop('Season', axis=1)"
   ]
  },
  {
   "cell_type": "code",
   "execution_count": null,
   "metadata": {},
   "outputs": [],
   "source": [
    "# TODO : Exporter le DF \n",
    "df_athlete.to_csv('dataframe_')"
   ]
  },
  {
   "cell_type": "markdown",
   "metadata": {},
   "source": [
    "### Attribution score et poids médaille (Code Noé )"
   ]
  },
  {
   "cell_type": "code",
   "execution_count": null,
   "metadata": {},
   "outputs": [],
   "source": []
  },
  {
   "cell_type": "markdown",
   "metadata": {},
   "source": [
    "### Nettoyage des colonnes inutiles pour l'analyse"
   ]
  },
  {
   "cell_type": "code",
   "execution_count": null,
   "metadata": {},
   "outputs": [],
   "source": [
    "# Drop les colonnes qui ne servent à R"
   ]
  },
  {
   "cell_type": "markdown",
   "metadata": {},
   "source": [
    "## Traitement des valeurs manquantes "
   ]
  },
  {
   "cell_type": "markdown",
   "metadata": {},
   "source": [
    "Effectivement notre base de données possède de nombreuses valeurs manquantes "
   ]
  },
  {
   "cell_type": "code",
   "execution_count": null,
   "metadata": {},
   "outputs": [],
   "source": [
    "# df.isna().sum()"
   ]
  },
  {
   "cell_type": "code",
   "execution_count": null,
   "metadata": {},
   "outputs": [],
   "source": [
    "### Première solution : Web Scrapping (code Nathan + FLO)"
   ]
  },
  {
   "cell_type": "markdown",
   "metadata": {},
   "source": [
    "# Data understanding"
   ]
  },
  {
   "cell_type": "markdown",
   "metadata": {},
   "source": [
    "## EDA (graph, pivot table ,Matrix confusion...)"
   ]
  },
  {
   "cell_type": "code",
   "execution_count": 3,
   "metadata": {},
   "outputs": [],
   "source": [
    "# TODO: Guillaume / Noé / Flo"
   ]
  },
  {
   "cell_type": "markdown",
   "metadata": {},
   "source": [
    "## Tests de corrélations/lois stats (Shapiro-Wilk, Spearman, Pearson)"
   ]
  },
  {
   "cell_type": "code",
   "execution_count": null,
   "metadata": {},
   "outputs": [],
   "source": [
    "# TODO: Noé"
   ]
  }
 ],
 "metadata": {
  "kernelspec": {
   "display_name": "Python 3",
   "language": "python",
   "name": "python3"
  },
  "language_info": {
   "codemirror_mode": {
    "name": "ipython",
    "version": 3
   },
   "file_extension": ".py",
   "mimetype": "text/x-python",
   "name": "python",
   "nbconvert_exporter": "python",
   "pygments_lexer": "ipython3",
   "version": "3.9.13"
  }
 },
 "nbformat": 4,
 "nbformat_minor": 2
}
