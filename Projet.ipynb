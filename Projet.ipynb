{
 "cells": [
  {
   "cell_type": "markdown",
   "metadata": {},
   "source": [
    "## Infos ( à supprimer ensuite)"
   ]
  },
  {
   "cell_type": "markdown",
   "metadata": {},
   "source": [
    "## Variables à ajouter issues des recherches biblio ( à supprimer ensuite)"
   ]
  },
  {
   "cell_type": "markdown",
   "metadata": {},
   "source": [
    "Variable(s): \n",
    "\n",
    "- Population des pays représentés \n",
    "- Variable indiquant si le pays est communiste ou pas \n",
    "- Variable indiquant si le pays est stable ou pas \n",
    "- Variable indiquant si le pays est émergeant ou pas ( otherwise pauvre , riche à peaufiner par la suite) \n",
    "- Variable indiquant si le pays a la culture du sport ou pas. \n",
    "- Variable indiquant le PIB par habitant \n",
    "- Variable indiquant les financements alloués aux sports (olympiques ou pas)\n"
   ]
  },
  {
   "cell_type": "markdown",
   "metadata": {},
   "source": [
    "Il faut créer le train et le test avec des données 2024 , il faut les construire , il faut aussi savoir traiter le fait que cette fois ci la Russie ne sera pas disponible .\n",
    "Faire indice : pays perturbé 1 avec Russie par exemple ou bien on enlève la Russie  (contexte géopolitique simple, on tah les années où j'ai eu un pb )\n",
    "\n",
    "But c'est de prédire le nombre de médailles pour chaque pays , indicateur simple \n",
    "EXTRA POUR AVOIR 20 : Attribuer un poid aux médailles -> pour potentiellement savoir le nb d'or , argent , bronze"
   ]
  },
  {
   "cell_type": "markdown",
   "metadata": {},
   "source": [
    "Attention au COVID 19 , influence public , web scrapping sur 30 ans de tous les pays qui ont organisé les jeux \n",
    "Attention aux pays pas autorisés à concourir \n",
    "Pays en guerre qui envoient moins d'athlètes \n",
    "Ukraine \n",
    "Palestine \n",
    "Iles caiman -> doivent être rattachées à un pays \n",
    "\n",
    "JO hiver \n",
    "JO été Corrélation \n",
    "Apparition des femmes dans les JO ( échantillonnage ) \n",
    "\n",
    "Culture du sport : Comment la créer ? \n",
    "Budget alloué aux sports (investissement , infrastructures ... ) \n",
    "Nb de professionnels \n",
    "Nb de licencés \n",
    "Nb de sports olympiques disponibles à l'école "
   ]
  },
  {
   "cell_type": "markdown",
   "metadata": {},
   "source": [
    "Variable : Pays Communiste ou pas \n",
    "\n",
    "Croissance pays économique \n",
    "\n",
    "Athlète à partir de 25 ans il n'a plus le niveau : on commence à partir de 2000 , JO Sydney \n",
    "\n",
    "Indice dvp des pays à recevoir \n",
    "\n",
    "Variable pays organisateur \n",
    "\n",
    "Sport qui ont des gens avec un âge bien définie (exemple skate Japonais c'est que des jeunes <= 18 ans)\n",
    "\n",
    "Dataset coupes mondes de discipline  \n",
    "    \n",
    "Variable Note selon l'âge \n",
    "\n",
    "Athlète qui sont comptés comme participant à deux pays \n",
    "\n",
    "Variable : religion majoritaire pays \n",
    "\n",
    "Espérance de vie par pays \n",
    "Variable pays dvp ou pas \n",
    "\n",
    "\n",
    "Recupérer données JO 2018 et 2021\n",
    "\n",
    "Variable Poids par Médailles : échelloner les JO de 1 à 10 pour \n",
    "Variable Poids par année : "
   ]
  },
  {
   "cell_type": "markdown",
   "metadata": {},
   "source": [
    "# Introduction  (Business Understanding) "
   ]
  },
  {
   "cell_type": "markdown",
   "metadata": {},
   "source": [
    "## Détermination objectifs métier , analytique du projet "
   ]
  },
  {
   "cell_type": "markdown",
   "metadata": {},
   "source": [
    "## Identifier les contraintes , limites et risque du projet"
   ]
  },
  {
   "cell_type": "markdown",
   "metadata": {},
   "source": [
    "## Chargement des packages si besoin "
   ]
  },
  {
   "cell_type": "code",
   "execution_count": 5,
   "metadata": {},
   "outputs": [
    {
     "name": "stdout",
     "output_type": "stream",
     "text": [
      "Enabling IPython Memory Usage, use %imu_start to begin, %imu_stop to end\n"
     ]
    }
   ],
   "source": [
    "%load_ext ipython_memory_usage "
   ]
  },
  {
   "cell_type": "code",
   "execution_count": 6,
   "metadata": {
    "scrolled": true
   },
   "outputs": [
    {
     "name": "stdout",
     "output_type": "stream",
     "text": [
      "Requirement already satisfied: ydata_profiling in /Library/Frameworks/Python.framework/Versions/3.9/lib/python3.9/site-packages (4.7.0)\n",
      "Requirement already satisfied: scipy<1.12,>=1.4.1 in /Library/Frameworks/Python.framework/Versions/3.9/lib/python3.9/site-packages (from ydata_profiling) (1.11.4)\n",
      "Requirement already satisfied: pandas!=1.4.0,<3,>1.1 in /Library/Frameworks/Python.framework/Versions/3.9/lib/python3.9/site-packages (from ydata_profiling) (2.2.1)\n",
      "Requirement already satisfied: matplotlib<3.9,>=3.2 in /Library/Frameworks/Python.framework/Versions/3.9/lib/python3.9/site-packages (from ydata_profiling) (3.8.3)\n",
      "Requirement already satisfied: pydantic>=2 in /Library/Frameworks/Python.framework/Versions/3.9/lib/python3.9/site-packages (from ydata_profiling) (2.6.4)\n",
      "Requirement already satisfied: PyYAML<6.1,>=5.0.0 in /Library/Frameworks/Python.framework/Versions/3.9/lib/python3.9/site-packages (from ydata_profiling) (6.0.1)\n",
      "Requirement already satisfied: jinja2<3.2,>=2.11.1 in /Library/Frameworks/Python.framework/Versions/3.9/lib/python3.9/site-packages (from ydata_profiling) (3.1.3)\n",
      "Requirement already satisfied: visions<0.7.7,>=0.7.5 in /Library/Frameworks/Python.framework/Versions/3.9/lib/python3.9/site-packages (from visions[type_image_path]<0.7.7,>=0.7.5->ydata_profiling) (0.7.6)\n",
      "Requirement already satisfied: numpy<2,>=1.16.0 in /Library/Frameworks/Python.framework/Versions/3.9/lib/python3.9/site-packages (from ydata_profiling) (1.26.4)\n",
      "Requirement already satisfied: htmlmin==0.1.12 in /Library/Frameworks/Python.framework/Versions/3.9/lib/python3.9/site-packages (from ydata_profiling) (0.1.12)\n",
      "Requirement already satisfied: phik<0.13,>=0.11.1 in /Library/Frameworks/Python.framework/Versions/3.9/lib/python3.9/site-packages (from ydata_profiling) (0.12.4)\n",
      "Requirement already satisfied: requests<3,>=2.24.0 in /Library/Frameworks/Python.framework/Versions/3.9/lib/python3.9/site-packages (from ydata_profiling) (2.31.0)\n",
      "Requirement already satisfied: tqdm<5,>=4.48.2 in /Library/Frameworks/Python.framework/Versions/3.9/lib/python3.9/site-packages (from ydata_profiling) (4.66.2)\n",
      "Requirement already satisfied: seaborn<0.13,>=0.10.1 in /Library/Frameworks/Python.framework/Versions/3.9/lib/python3.9/site-packages (from ydata_profiling) (0.12.2)\n",
      "Requirement already satisfied: multimethod<2,>=1.4 in /Library/Frameworks/Python.framework/Versions/3.9/lib/python3.9/site-packages (from ydata_profiling) (1.11.2)\n",
      "Requirement already satisfied: statsmodels<1,>=0.13.2 in /Library/Frameworks/Python.framework/Versions/3.9/lib/python3.9/site-packages (from ydata_profiling) (0.14.1)\n",
      "Requirement already satisfied: typeguard<5,>=4.1.2 in /Library/Frameworks/Python.framework/Versions/3.9/lib/python3.9/site-packages (from ydata_profiling) (4.1.5)\n",
      "Requirement already satisfied: imagehash==4.3.1 in /Library/Frameworks/Python.framework/Versions/3.9/lib/python3.9/site-packages (from ydata_profiling) (4.3.1)\n",
      "Requirement already satisfied: wordcloud>=1.9.1 in /Library/Frameworks/Python.framework/Versions/3.9/lib/python3.9/site-packages (from ydata_profiling) (1.9.3)\n",
      "Requirement already satisfied: dacite>=1.8 in /Library/Frameworks/Python.framework/Versions/3.9/lib/python3.9/site-packages (from ydata_profiling) (1.8.1)\n",
      "Requirement already satisfied: numba<1,>=0.56.0 in /Library/Frameworks/Python.framework/Versions/3.9/lib/python3.9/site-packages (from ydata_profiling) (0.59.0)\n",
      "Requirement already satisfied: PyWavelets in /Library/Frameworks/Python.framework/Versions/3.9/lib/python3.9/site-packages (from imagehash==4.3.1->ydata_profiling) (1.5.0)\n",
      "Requirement already satisfied: pillow in /Library/Frameworks/Python.framework/Versions/3.9/lib/python3.9/site-packages (from imagehash==4.3.1->ydata_profiling) (10.2.0)\n",
      "Requirement already satisfied: MarkupSafe>=2.0 in /Library/Frameworks/Python.framework/Versions/3.9/lib/python3.9/site-packages (from jinja2<3.2,>=2.11.1->ydata_profiling) (2.1.5)\n",
      "Requirement already satisfied: contourpy>=1.0.1 in /Library/Frameworks/Python.framework/Versions/3.9/lib/python3.9/site-packages (from matplotlib<3.9,>=3.2->ydata_profiling) (1.2.0)\n",
      "Requirement already satisfied: cycler>=0.10 in /Library/Frameworks/Python.framework/Versions/3.9/lib/python3.9/site-packages (from matplotlib<3.9,>=3.2->ydata_profiling) (0.12.1)\n",
      "Requirement already satisfied: fonttools>=4.22.0 in /Library/Frameworks/Python.framework/Versions/3.9/lib/python3.9/site-packages (from matplotlib<3.9,>=3.2->ydata_profiling) (4.50.0)\n",
      "Requirement already satisfied: kiwisolver>=1.3.1 in /Library/Frameworks/Python.framework/Versions/3.9/lib/python3.9/site-packages (from matplotlib<3.9,>=3.2->ydata_profiling) (1.4.5)\n",
      "Requirement already satisfied: packaging>=20.0 in /Users/florentsaunier/Library/Python/3.9/lib/python/site-packages (from matplotlib<3.9,>=3.2->ydata_profiling) (23.2)\n",
      "Requirement already satisfied: pyparsing>=2.3.1 in /Library/Frameworks/Python.framework/Versions/3.9/lib/python3.9/site-packages (from matplotlib<3.9,>=3.2->ydata_profiling) (3.1.2)\n",
      "Requirement already satisfied: python-dateutil>=2.7 in /Users/florentsaunier/Library/Python/3.9/lib/python/site-packages (from matplotlib<3.9,>=3.2->ydata_profiling) (2.8.2)\n",
      "Requirement already satisfied: importlib-resources>=3.2.0 in /Library/Frameworks/Python.framework/Versions/3.9/lib/python3.9/site-packages (from matplotlib<3.9,>=3.2->ydata_profiling) (6.3.1)\n",
      "Requirement already satisfied: llvmlite<0.43,>=0.42.0dev0 in /Library/Frameworks/Python.framework/Versions/3.9/lib/python3.9/site-packages (from numba<1,>=0.56.0->ydata_profiling) (0.42.0)\n",
      "Requirement already satisfied: pytz>=2020.1 in /Library/Frameworks/Python.framework/Versions/3.9/lib/python3.9/site-packages (from pandas!=1.4.0,<3,>1.1->ydata_profiling) (2024.1)\n",
      "Requirement already satisfied: tzdata>=2022.7 in /Library/Frameworks/Python.framework/Versions/3.9/lib/python3.9/site-packages (from pandas!=1.4.0,<3,>1.1->ydata_profiling) (2024.1)\n",
      "Requirement already satisfied: joblib>=0.14.1 in /Library/Frameworks/Python.framework/Versions/3.9/lib/python3.9/site-packages (from phik<0.13,>=0.11.1->ydata_profiling) (1.3.2)\n",
      "Requirement already satisfied: annotated-types>=0.4.0 in /Library/Frameworks/Python.framework/Versions/3.9/lib/python3.9/site-packages (from pydantic>=2->ydata_profiling) (0.6.0)\n",
      "Requirement already satisfied: pydantic-core==2.16.3 in /Library/Frameworks/Python.framework/Versions/3.9/lib/python3.9/site-packages (from pydantic>=2->ydata_profiling) (2.16.3)\n",
      "Requirement already satisfied: typing-extensions>=4.6.1 in /Users/florentsaunier/Library/Python/3.9/lib/python/site-packages (from pydantic>=2->ydata_profiling) (4.8.0)\n",
      "Requirement already satisfied: charset-normalizer<4,>=2 in /Library/Frameworks/Python.framework/Versions/3.9/lib/python3.9/site-packages (from requests<3,>=2.24.0->ydata_profiling) (3.3.2)\n",
      "Requirement already satisfied: idna<4,>=2.5 in /Library/Frameworks/Python.framework/Versions/3.9/lib/python3.9/site-packages (from requests<3,>=2.24.0->ydata_profiling) (3.6)\n",
      "Requirement already satisfied: urllib3<3,>=1.21.1 in /Library/Frameworks/Python.framework/Versions/3.9/lib/python3.9/site-packages (from requests<3,>=2.24.0->ydata_profiling) (2.2.1)\n",
      "Requirement already satisfied: certifi>=2017.4.17 in /Library/Frameworks/Python.framework/Versions/3.9/lib/python3.9/site-packages (from requests<3,>=2.24.0->ydata_profiling) (2024.2.2)\n",
      "Requirement already satisfied: patsy>=0.5.4 in /Library/Frameworks/Python.framework/Versions/3.9/lib/python3.9/site-packages (from statsmodels<1,>=0.13.2->ydata_profiling) (0.5.6)\n",
      "Requirement already satisfied: importlib-metadata>=3.6 in /Users/florentsaunier/Library/Python/3.9/lib/python/site-packages (from typeguard<5,>=4.1.2->ydata_profiling) (6.8.0)\n",
      "Requirement already satisfied: attrs>=19.3.0 in /Library/Frameworks/Python.framework/Versions/3.9/lib/python3.9/site-packages (from visions<0.7.7,>=0.7.5->visions[type_image_path]<0.7.7,>=0.7.5->ydata_profiling) (23.2.0)\n",
      "Requirement already satisfied: networkx>=2.4 in /Library/Frameworks/Python.framework/Versions/3.9/lib/python3.9/site-packages (from visions<0.7.7,>=0.7.5->visions[type_image_path]<0.7.7,>=0.7.5->ydata_profiling) (3.2.1)\n",
      "\u001b[33mWARNING: visions 0.7.6 does not provide the extra 'type-image-path'\u001b[0m\u001b[33m\n"
     ]
    },
    {
     "name": "stdout",
     "output_type": "stream",
     "text": [
      "\u001b[0mRequirement already satisfied: zipp>=0.5 in /Users/florentsaunier/Library/Python/3.9/lib/python/site-packages (from importlib-metadata>=3.6->typeguard<5,>=4.1.2->ydata_profiling) (3.17.0)\n",
      "Requirement already satisfied: six in /Users/florentsaunier/Library/Python/3.9/lib/python/site-packages (from patsy>=0.5.4->statsmodels<1,>=0.13.2->ydata_profiling) (1.16.0)\n"
     ]
    }
   ],
   "source": [
    " #!pip install ydata_profiling"
   ]
  },
  {
   "cell_type": "code",
   "execution_count": null,
   "metadata": {},
   "outputs": [],
   "source": [
    "#%imu_stop"
   ]
  },
  {
   "cell_type": "markdown",
   "metadata": {},
   "source": [
    "## Importation des librairies "
   ]
  },
  {
   "cell_type": "code",
   "execution_count": null,
   "metadata": {},
   "outputs": [],
   "source": [
    "from ydata_profiling import ProfileReport"
   ]
  },
  {
   "cell_type": "code",
   "execution_count": 8,
   "metadata": {},
   "outputs": [
    {
     "name": "stdout",
     "output_type": "stream",
     "text": [
      "In [8] used 12.5 MiB RAM in 60353.76s (system mean cpu 0%, single max cpu 0%), peaked 0.0 MiB above final usage, current RAM usage now 62.6 MiB\n"
     ]
    }
   ],
   "source": [
    "import pandas as pd\n",
    "import numpy as np\n",
    "import ipython_memory_usage.ipython_memory_usage as imu\n",
    "from describe_csv import *  # charge le fichier describe_csv.py par chunk de 10 000 (10**4)\n",
    "\n",
    "import math\n",
    "%matplotlib inline\n",
    "import matplotlib.pyplot as plt\n",
    "from matplotlib.pyplot import *\n",
    "import scipy as sp\n",
    "import scipy.stats\n",
    "from pivottablejs import pivot_ui\n",
    "import seaborn as sns\n",
    "\n",
    "from sklearn.impute import SimpleImputer\n",
    "from sklearn.impute import KNNImputer\n",
    "from sklearn import metrics\n",
    "from sklearn import preprocessing\n",
    "from sklearn.ensemble import RandomForestClassifier\n",
    "from sklearn.model_selection import cross_val_score\n",
    "from sklearn.model_selection import GridSearchCV, RandomizedSearchCV\n",
    "from sklearn.model_selection import train_test_split\n",
    "\n",
    "from sklearn.pipeline import make_pipeline, make_union\n",
    "from sklearn.pipeline import Pipeline, FeatureUnion\n",
    "from sklearn.impute import SimpleImputer\n",
    "from sklearn.compose import ColumnTransformer, make_column_transformer, make_column_selector\n",
    "from sklearn.preprocessing import OneHotEncoder, StandardScaler, RobustScaler\n",
    "from sklearn.preprocessing import FunctionTransformer\n",
    "from sklearn.metrics import accuracy_score\n",
    "from sklearn.ensemble import RandomForestClassifier\n",
    "\n",
    "imu.start_watching_memory() "
   ]
  },
  {
   "cell_type": "markdown",
   "metadata": {},
   "source": [
    "# CODE  "
   ]
  },
  {
   "cell_type": "markdown",
   "metadata": {},
   "source": [
    "## Bases de données disponibles "
   ]
  },
  {
   "cell_type": "code",
   "execution_count": null,
   "metadata": {},
   "outputs": [],
   "source": [
    "# df_athlète=\n",
    "#df_region=\n",
    "#df_dictionnary="
   ]
  },
  {
   "cell_type": "markdown",
   "metadata": {},
   "source": [
    "## Optimisation des datasets\n",
    "   Dans un souci d'optimisation de l'espace mémoire occupé, nous allons faire en sorte d'optimiser les différents dataframe que nous utilisons. \n",
    "Pour mener à bien ceci, nous allons des fonctions contenues dans `describe_csv.py`, en les améliorant pour automatiser le processus."
   ]
  },
  {
   "cell_type": "code",
   "execution_count": null,
   "metadata": {},
   "outputs": [],
   "source": [
    "#Code"
   ]
  },
  {
   "cell_type": "code",
   "execution_count": null,
   "metadata": {},
   "outputs": [],
   "source": [
    "def optimize_data_types(df):\n",
    "    \"\"\"\n",
    "    Optimize data types of columns in a pandas DataFrame.\n",
    "\n",
    "    Parameters:\n",
    "        df (pandas.DataFrame): Input DataFrame.\n",
    "\n",
    "    Returns:\n",
    "        pandas.DataFrame: DataFrame with optimized data types.\n",
    "    \"\"\"\n",
    "    optimized_df = df.copy()\n",
    "    \n",
    "    for col in optimized_df.columns:\n",
    "        col_dtype = optimized_df[col].dtype\n",
    "        \n",
    "        if col_dtype == 'object':\n",
    "            # Convert object type columns to category if unique values are less than 50% of total rows\n",
    "            if len(optimized_df[col].unique()) / len(optimized_df[col]) < 0.5:\n",
    "                optimized_df[col] = optimized_df[col].astype('category')\n",
    "        elif col_dtype == 'int64':\n",
    "            # Convert int64 to smaller integer types if possible\n",
    "            optimized_df[col] = pd.to_numeric(optimized_df[col], downcast='integer', errors='coerce')\n",
    "        elif col_dtype == 'float64':\n",
    "            # Convert float64 to smaller floating point types if possible\n",
    "            optimized_df[col] = pd.to_numeric(optimized_df[col], downcast='float', errors='coerce')\n",
    "        elif col_dtype == 'bool':\n",
    "            # Convert boolean columns to integer type\n",
    "            optimized_df[col] = optimized_df[col].astype('int8')\n",
    "\n",
    "    return optimized_df"
   ]
  },
  {
   "cell_type": "code",
   "execution_count": null,
   "metadata": {},
   "outputs": [],
   "source": [
    "#df_test['Age'] = pd.to_numeric(df_test['Age'], errors='coerce', downcast='integer')\n",
    "\n",
    "# Convert 'Height' and 'Weight' columns to int16\n",
    "#df_test['Height'] = pd.to_numeric(df_test['Height'], errors='coerce', downcast='integer')\n",
    "#df_test['Weight'] = pd.to_numeric(df_test['Weight'], errors='coerce', downcast='integer')"
   ]
  },
  {
   "cell_type": "code",
   "execution_count": null,
   "metadata": {},
   "outputs": [],
   "source": [
    "#### Code Nathan si tu veux rajouter "
   ]
  },
  {
   "cell_type": "markdown",
   "metadata": {},
   "source": [
    "### Modification des noms pays ... (Code Guillaume)"
   ]
  },
  {
   "cell_type": "code",
   "execution_count": null,
   "metadata": {},
   "outputs": [],
   "source": [
    "# Explications texte "
   ]
  },
  {
   "cell_type": "code",
   "execution_count": null,
   "metadata": {},
   "outputs": [],
   "source": [
    "#df['NOC'] = df['NOC'].replace(['Soviet Union', 'URS'], 'RUS')\n",
    "\n",
    "#df['Team'] = df['Team'].replace(['Soviet Union', 'URS'], 'Russia')\n",
    "#df['Team'] = df['Team'].replace(['East Germany'], 'Germany')"
   ]
  },
  {
   "cell_type": "code",
   "execution_count": null,
   "metadata": {},
   "outputs": [],
   "source": [
    "#df_athlete=df_athlete.query(\" NOC !='ROC' and NOC != 'UNK' \") \n",
    "#df_regions=df_regions.query(\" NOC != 'ROT' and NOC != 'UNK' \")\n"
   ]
  },
  {
   "cell_type": "markdown",
   "metadata": {},
   "source": [
    "Suppression refugiés , vous avez pas de pays lol ... et UNK c'est UNK ou encore une autre appelation de refugiés jsp plus "
   ]
  },
  {
   "cell_type": "markdown",
   "metadata": {},
   "source": [
    "### Modification noms variables "
   ]
  },
  {
   "cell_type": "code",
   "execution_count": null,
   "metadata": {},
   "outputs": [],
   "source": [
    "#df_regions=df_regions.rename(columns={'region':'Country'}) \n",
    "#df_dictionnary=df_dictionnary.rename(columns={'GDP per Capita':'PIB/habitant','Code':'NOC'})\n"
   ]
  },
  {
   "cell_type": "markdown",
   "metadata": {},
   "source": [
    "### Chargement de la base de données commune  ( On va fusionner mais faut avoir changé les petits couak des 3 df) "
   ]
  },
  {
   "cell_type": "code",
   "execution_count": null,
   "metadata": {},
   "outputs": [],
   "source": [
    "# Code "
   ]
  },
  {
   "cell_type": "code",
   "execution_count": null,
   "metadata": {},
   "outputs": [],
   "source": [
    "# df=pd.merge(pd.merge(df_athlete,df_dictionnary,on='Country'how='left'),df_region,on='Country',how='left')"
   ]
  },
  {
   "cell_type": "code",
   "execution_count": null,
   "metadata": {},
   "outputs": [],
   "source": [
    "### Attribution score et poids médaille "
   ]
  },
  {
   "cell_type": "markdown",
   "metadata": {},
   "source": [
    "## Traitement des valeurs manquantes "
   ]
  },
  {
   "cell_type": "markdown",
   "metadata": {},
   "source": [
    "Effectivement notre base de données possède de nombreuses valeurs manquantes "
   ]
  },
  {
   "cell_type": "code",
   "execution_count": null,
   "metadata": {},
   "outputs": [],
   "source": [
    "# df.isna().sum()"
   ]
  },
  {
   "cell_type": "code",
   "execution_count": null,
   "metadata": {},
   "outputs": [],
   "source": [
    "### Première solution : Web Scrapping (code Nathan + FLO)"
   ]
  },
  {
   "cell_type": "markdown",
   "metadata": {},
   "source": [
    "# Data understanding"
   ]
  },
  {
   "cell_type": "markdown",
   "metadata": {},
   "source": [
    "## EDA (graph, pivot table ,Matrix confusion...)"
   ]
  },
  {
   "cell_type": "code",
   "execution_count": 3,
   "metadata": {},
   "outputs": [],
   "source": [
    "#df=pd.read_csv('data/data_FLO_without_NaN.csv',sep=',')"
   ]
  }
 ],
 "metadata": {
  "kernelspec": {
   "display_name": "Python 3",
   "language": "python",
   "name": "python3"
  },
  "language_info": {
   "codemirror_mode": {
    "name": "ipython",
    "version": 3
   },
   "file_extension": ".py",
   "mimetype": "text/x-python",
   "name": "python",
   "nbconvert_exporter": "python",
   "pygments_lexer": "ipython3",
   "version": "3.8.8"
  }
 },
 "nbformat": 4,
 "nbformat_minor": 2
}
