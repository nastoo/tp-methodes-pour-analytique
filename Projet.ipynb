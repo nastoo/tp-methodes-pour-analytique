{
 "cells": [
  {
   "cell_type": "markdown",
   "metadata": {},
   "source": [
    "## Infos ( à supprimer ensuite)"
   ]
  },
  {
   "cell_type": "markdown",
   "metadata": {},
   "source": [
    "## Variables à ajouter issues des recherches biblio ( à supprimer ensuite)"
   ]
  },
  {
   "cell_type": "markdown",
   "metadata": {},
   "source": [
    "Variable(s): \n",
    "\n",
    "- Population des pays représentés \n",
    "- Variable indiquant si le pays est communiste ou pas \n",
    "- Variable indiquant si le pays est stable ou pas \n",
    "- Variable indiquant si le pays est émergeant ou pas ( otherwise pauvre , riche à peaufiner par la suite) \n",
    "- Variable indiquant si le pays a la culture du sport ou pas. \n",
    "- Variable indiquant le PIB par habitant \n",
    "- Variable indiquant les financements alloués aux sports (olympiques ou pas)\n"
   ]
  },
  {
   "cell_type": "markdown",
   "metadata": {},
   "source": [
    "Il faut créer le train et le test avec des données 2024 , il faut les construire , il faut aussi savoir traiter le fait que cette fois ci la Russie ne sera pas disponible .\n",
    "Faire indice : pays perturbé 1 avec Russie par exemple ou bien on enlève la Russie  (contexte géopolitique simple, on tah les années où j'ai eu un pb )\n",
    "\n",
    "But c'est de prédire le nombre de médailles pour chaque pays , indicateur simple \n",
    "EXTRA POUR AVOIR 20 : Attribuer un poid aux médailles -> pour potentiellement savoir le nb d'or , argent , bronze"
   ]
  },
  {
   "cell_type": "markdown",
   "metadata": {},
   "source": [
    "Attention au COVID 19 , influence public , web scrapping sur 30 ans de tous les pays qui ont organisé les jeux \n",
    "Attention aux pays pas autorisés à concourir \n",
    "Pays en guerre qui envoient moins d'athlètes \n",
    "Ukraine \n",
    "Palestine \n",
    "Iles caiman -> doivent être rattachées à un pays \n",
    "\n",
    "JO hiver \n",
    "JO été Corrélation \n",
    "Apparition des femmes dans les JO ( échantillonnage ) \n",
    "\n",
    "Culture du sport : Comment la créer ? \n",
    "Budget alloué aux sports (investissement , infrastructures ... ) \n",
    "Nb de professionnels \n",
    "Nb de licencés \n",
    "Nb de sports olympiques disponibles à l'école "
   ]
  },
  {
   "cell_type": "markdown",
   "metadata": {},
   "source": [
    "Variable : Pays Communiste ou pas \n",
    "\n",
    "Croissance pays économique \n",
    "\n",
    "Athlète à partir de 25 ans il n'a plus le niveau : on commence à partir de 2000 , JO Sydney \n",
    "\n",
    "Indice dvp des pays à recevoir \n",
    "\n",
    "Variable pays organisateur \n",
    "\n",
    "Sport qui ont des gens avec un âge bien définie (exemple skate Japonais c'est que des jeunes <= 18 ans)\n",
    "\n",
    "Dataset coupes mondes de discipline  \n",
    "    \n",
    "Variable Note selon l'âge \n",
    "\n",
    "Athlète qui sont comptés comme participant à deux pays \n",
    "\n",
    "Variable : religion majoritaire pays \n",
    "\n",
    "Espérance de vie par pays \n",
    "Variable pays dvp ou pas \n",
    "\n",
    "\n",
    "Recupérer données JO 2018 et 2021\n",
    "\n",
    "Variable Poids par Médailles : échelloner les JO de 1 à 10 pour \n",
    "Variable Poids par année : "
   ]
  },
  {
   "cell_type": "markdown",
   "metadata": {},
   "source": [
    "# Introduction  (Business Understanding) "
   ]
  },
  {
   "cell_type": "markdown",
   "metadata": {},
   "source": [
    "## Détermination objectifs métier , analytique du projet \n",
    "\n",
    "\n",
    "Objectifs métiers du projet :\n",
    "\n",
    "Promotion de la performance sportive : Utiliser les données des Jeux olympiques pour améliorer la performance sportive.\n",
    "\n",
    "Optimisation des ressources : Identifier les sports les plus prometteurs pour optimiser les investissements sportifs.\n",
    "\n",
    "Prédiction des tendances : Prédire les performances futures des pays et des athlètes en se basant sur les données historiques.\n",
    "\n",
    "Analyse de la participation : Analyser la participation mondiale aux Jeux olympiques pour identifier les opportunités de croissance.\n",
    "\n",
    "-------\n",
    "Objectifs analytiques du projet :\n",
    "\n",
    "Analyse des performances : Évaluer les performances des pays, des équipes et des athlètes aux Jeux olympiques.\n",
    "\n",
    "Identification des facteurs de réussite : Identifier les clés du succès dans différents sports et disciplines.\n",
    "\n",
    "Visualisation des données : Créer des visualisations interactives pour présenter les tendances et les comparaisons de manière compréhensible.\n",
    "\n",
    "Modélisation prédictive : Développer des modèles prédictifs pour estimer les performances futures."
   ]
  },
  {
   "cell_type": "markdown",
   "metadata": {},
   "source": [
    "## Identifier les contraintes , limites et risque du projet\n",
    "\n",
    "Qualité des données : Les données historiques peuvent être incomplètes ou imprécises.\n",
    "\n",
    "Variabilité des performances : Les performances sportives sont influencées par de nombreux facteurs difficiles à quantifier.\n",
    "\n",
    "Interprétation des résultats : Les résultats doivent être interprétés avec prudence en raison de la subjectivité des performances sportives.\n",
    "\n",
    "Protection des données : Respecter les règles de confidentialité et de protection des données lors de l'analyse des données.\n",
    "\n",
    "Dépendance aux technologies : Le projet dépend de technologies telles que l'analyse de données, la modélisation statistique, etc."
   ]
  },
  {
   "cell_type": "markdown",
   "metadata": {},
   "source": [
    "## Chargement des packages si besoin "
   ]
  },
  {
   "cell_type": "code",
   "execution_count": 1,
   "metadata": {
    "ExecuteTime": {
     "end_time": "2024-04-10T22:37:59.131389Z",
     "start_time": "2024-04-10T22:37:56.893654Z"
    }
   },
   "outputs": [
    {
     "name": "stdout",
     "output_type": "stream",
     "text": [
      "Enabling IPython Memory Usage, use %imu_start to begin, %imu_stop to end\n",
      "In [1] used 123.6 MiB RAM in 13.53s (system mean cpu 0%, single max cpu 0%), peaked 0.0 MiB above final usage, current RAM usage now 173.3 MiB\n"
     ]
    }
   ],
   "source": [
    "%load_ext ipython_memory_usage \n",
    "#!pip install ydata_profiling\n",
    "\n",
    "#from ydata_profiling import ProfileReport\n",
    "\n",
    "import pandas as pd\n",
    "import numpy as np\n",
    "import ipython_memory_usage.ipython_memory_usage as imu\n",
    "from describe_csv import *  # charge le fichier describe_csv.py par chunk de 10 000 (10**4)\n",
    "\n",
    "import math\n",
    "%matplotlib inline\n",
    "import matplotlib.pyplot as plt\n",
    "from matplotlib.pyplot import *\n",
    "import scipy as sp\n",
    "from scipy.stats import chi2_contingency\n",
    "from pivottablejs import pivot_ui\n",
    "import seaborn as sns\n",
    "\n",
    "from sklearn.impute import SimpleImputer\n",
    "from sklearn.impute import KNNImputer\n",
    "from sklearn import metrics\n",
    "from sklearn import preprocessing\n",
    "from sklearn.ensemble import RandomForestClassifier\n",
    "from sklearn.model_selection import cross_val_score\n",
    "from sklearn.model_selection import GridSearchCV, RandomizedSearchCV\n",
    "from sklearn.model_selection import train_test_split\n",
    "\n",
    "from sklearn.pipeline import make_pipeline, make_union\n",
    "from sklearn.pipeline import Pipeline, FeatureUnion\n",
    "from sklearn.impute import SimpleImputer\n",
    "from sklearn.compose import ColumnTransformer, make_column_transformer, make_column_selector\n",
    "from sklearn.preprocessing import OneHotEncoder, StandardScaler, RobustScaler\n",
    "from sklearn.preprocessing import FunctionTransformer\n",
    "from sklearn.metrics import accuracy_score\n",
    "from sklearn.ensemble import RandomForestClassifier\n",
    "\n",
    "from itertools import combinations\n",
    "\n",
    "from bs4 import BeautifulSoup\n",
    "import requests\n",
    "import re\n",
    "import datetime\n",
    "\n",
    "imu.start_watching_memory() "
   ]
  },
  {
   "cell_type": "markdown",
   "metadata": {},
   "source": [
    "# CODE  "
   ]
  },
  {
   "cell_type": "markdown",
   "metadata": {},
   "source": [
    "## Bases de données disponibles "
   ]
  },
  {
   "cell_type": "code",
   "execution_count": 2,
   "metadata": {
    "ExecuteTime": {
     "end_time": "2024-04-10T22:37:59.675573Z",
     "start_time": "2024-04-10T22:37:59.130932Z"
    }
   },
   "outputs": [
    {
     "name": "stdout",
     "output_type": "stream",
     "text": [
      "In [2] used 30.1 MiB RAM in 5.65s (system mean cpu 21%, single max cpu 100%), peaked 117.8 MiB above final usage, current RAM usage now 203.4 MiB\n"
     ]
    }
   ],
   "source": [
    "df_athlete=pd.read_csv('data/athlete_events.csv')\n",
    "df_region=pd.read_csv('data/noc_regions.csv')\n",
    "df_dictionnary=pd.read_csv('data/worldcities.csv', sep=';')"
   ]
  },
  {
   "cell_type": "markdown",
   "metadata": {},
   "source": [
    "#### Pays organisateurs"
   ]
  },
  {
   "cell_type": "code",
   "execution_count": 3,
   "metadata": {
    "ExecuteTime": {
     "end_time": "2024-04-10T22:38:00.994258Z",
     "start_time": "2024-04-10T22:37:59.673546Z"
    }
   },
   "outputs": [
    {
     "name": "stdout",
     "output_type": "stream",
     "text": [
      "In [3] used 43.0 MiB RAM in 2.17s (system mean cpu 24%, single max cpu 100%), peaked 0.0 MiB above final usage, current RAM usage now 246.3 MiB\n"
     ]
    }
   ],
   "source": [
    "# TODO: Changer le nom des variables\n",
    "url_host_og='https://www.topendsports.com/events/summer/hosts/list.htm'\n",
    "response=requests.get(url_host_og)\n",
    "url_host_citi='https://en.wikipedia.org/wiki/List_of_Olympic_Games_host_cities'\n",
    "\n",
    "response_2=requests.get(url_host_citi)\n",
    "\n",
    "soup_2=BeautifulSoup(response_2.text,'html.parser')"
   ]
  },
  {
   "cell_type": "code",
   "execution_count": 67,
   "metadata": {
    "ExecuteTime": {
     "end_time": "2024-04-10T22:38:01.116919Z",
     "start_time": "2024-04-10T22:38:00.995152Z"
    }
   },
   "outputs": [
    {
     "name": "stdout",
     "output_type": "stream",
     "text": [
      "In [67] used -2.7 MiB RAM in 0.12s (system mean cpu 22%, single max cpu 34%), peaked 0.0 MiB above final usage, current RAM usage now 21.8 MiB\n"
     ]
    }
   ],
   "source": [
    "# TODO: Changer le nom des variables\n",
    "\n",
    "# Récupération des éléments de la page\n",
    "L_pays_1896=[]\n",
    "L_pays_1948=[]\n",
    "L_pays_2000=[]\n",
    "L_pays=[]\n",
    "\n",
    "elements=soup_2.findAll('span',class_='datasortkey')\n",
    "\n",
    "for element in elements:\n",
    "    pays=element.find('a').text\n",
    "    L_pays.append(pays)\n",
    "L_pays_1896=L_pays[:7]\n",
    "L_pays_1948=L_pays[14:42]\n",
    "L_pays_2000=L_pays[42:58]"
   ]
  },
  {
   "cell_type": "code",
   "execution_count": 68,
   "metadata": {},
   "outputs": [
    {
     "data": {
      "text/plain": [
       "['Switzerland',\n",
       " 'United Kingdom',\n",
       " 'Norway',\n",
       " 'Finland',\n",
       " 'Italy',\n",
       " 'Australia',\n",
       " 'Sweden',\n",
       " 'United States',\n",
       " 'Italy',\n",
       " 'Austria',\n",
       " 'Japan',\n",
       " 'France',\n",
       " 'Mexico',\n",
       " 'Japan',\n",
       " 'West Germany',\n",
       " 'Austria',\n",
       " 'Canada',\n",
       " 'United States',\n",
       " 'Soviet Union',\n",
       " 'Yugoslavia',\n",
       " 'United States',\n",
       " 'Canada',\n",
       " 'South Korea',\n",
       " 'France',\n",
       " 'Spain',\n",
       " 'Norway',\n",
       " 'United States',\n",
       " 'Japan']"
      ]
     },
     "execution_count": 68,
     "metadata": {},
     "output_type": "execute_result"
    },
    {
     "name": "stdout",
     "output_type": "stream",
     "text": [
      "In [68] used 2.4 MiB RAM in 0.11s (system mean cpu 21%, single max cpu 32%), peaked 0.0 MiB above final usage, current RAM usage now 24.2 MiB\n"
     ]
    }
   ],
   "source": [
    "L_pays_1948"
   ]
  },
  {
   "cell_type": "code",
   "execution_count": 69,
   "metadata": {},
   "outputs": [
    {
     "data": {
      "text/plain": [
       "'Norway'"
      ]
     },
     "execution_count": 69,
     "metadata": {},
     "output_type": "execute_result"
    },
    {
     "name": "stdout",
     "output_type": "stream",
     "text": [
      "In [69] used -7.1 MiB RAM in 0.11s (system mean cpu 15%, single max cpu 22%), peaked 0.0 MiB above final usage, current RAM usage now 17.2 MiB\n"
     ]
    }
   ],
   "source": [
    "L_pays_1948.pop(6)\n",
    "L_pays_1948.pop(-3)"
   ]
  },
  {
   "cell_type": "code",
   "execution_count": 71,
   "metadata": {},
   "outputs": [
    {
     "data": {
      "text/plain": [
       "['Switzerland',\n",
       " 'United Kingdom',\n",
       " 'Norway',\n",
       " 'Finland',\n",
       " 'Italy',\n",
       " 'Australia',\n",
       " 'United States',\n",
       " 'Italy',\n",
       " 'Austria',\n",
       " 'Japan',\n",
       " 'France',\n",
       " 'Mexico',\n",
       " 'Japan',\n",
       " 'West Germany',\n",
       " 'Austria',\n",
       " 'Canada',\n",
       " 'United States',\n",
       " 'Soviet Union',\n",
       " 'Yugoslavia',\n",
       " 'United States',\n",
       " 'Canada',\n",
       " 'South Korea',\n",
       " 'France',\n",
       " 'Spain',\n",
       " 'United States',\n",
       " 'Japan']"
      ]
     },
     "execution_count": 71,
     "metadata": {},
     "output_type": "execute_result"
    },
    {
     "name": "stdout",
     "output_type": "stream",
     "text": [
      "In [71] used 0.2 MiB RAM in 0.11s (system mean cpu 16%, single max cpu 25%), peaked 0.0 MiB above final usage, current RAM usage now 39.9 MiB\n"
     ]
    }
   ],
   "source": [
    "L_pays_1948"
   ]
  },
  {
   "cell_type": "markdown",
   "metadata": {},
   "source": [
    "## Pays host des  années à partir de 2000 "
   ]
  },
  {
   "cell_type": "code",
   "execution_count": 16,
   "metadata": {},
   "outputs": [
    {
     "data": {
      "text/plain": [
       "[1896, 1900, 1904, 1908, 1912, 1916, 1920]"
      ]
     },
     "execution_count": 16,
     "metadata": {},
     "output_type": "execute_result"
    },
    {
     "name": "stdout",
     "output_type": "stream",
     "text": [
      "In [16] used 0.6 MiB RAM in 0.11s (system mean cpu 14%, single max cpu 22%), peaked 0.0 MiB above final usage, current RAM usage now 17.5 MiB\n"
     ]
    }
   ],
   "source": [
    "L_annees_1896=[1896 + i for i in range(0,28,4)]\n",
    "L_annees_1896"
   ]
  },
  {
   "cell_type": "code",
   "execution_count": 52,
   "metadata": {},
   "outputs": [
    {
     "data": {
      "text/plain": [
       "26"
      ]
     },
     "execution_count": 52,
     "metadata": {},
     "output_type": "execute_result"
    },
    {
     "name": "stdout",
     "output_type": "stream",
     "text": [
      "In [52] used -3.7 MiB RAM in 0.11s (system mean cpu 15%, single max cpu 25%), peaked 0.0 MiB above final usage, current RAM usage now 19.8 MiB\n"
     ]
    }
   ],
   "source": [
    "L_annees_1948=[1948+ i for i in range(0,52,2)]\n",
    "L_annees_1948"
   ]
  },
  {
   "cell_type": "code",
   "execution_count": 74,
   "metadata": {
    "ExecuteTime": {
     "end_time": "2024-04-10T22:38:01.225535Z",
     "start_time": "2024-04-10T22:38:01.116138Z"
    }
   },
   "outputs": [
    {
     "data": {
      "text/plain": [
       "[2000,\n",
       " 2002,\n",
       " 2004,\n",
       " 2006,\n",
       " 2008,\n",
       " 2010,\n",
       " 2012,\n",
       " 2014,\n",
       " 2016,\n",
       " 2018,\n",
       " 2020,\n",
       " 2022,\n",
       " 2024,\n",
       " 2026,\n",
       " 2028,\n",
       " 2032]"
      ]
     },
     "execution_count": 74,
     "metadata": {},
     "output_type": "execute_result"
    },
    {
     "name": "stdout",
     "output_type": "stream",
     "text": [
      "In [74] used -21.4 MiB RAM in 0.11s (system mean cpu 30%, single max cpu 48%), peaked 0.0 MiB above final usage, current RAM usage now 17.4 MiB\n"
     ]
    }
   ],
   "source": [
    "# Itération des années\n",
    "L_annees_2000=[2000 + i  for i in range(0,34,2)]\n",
    "L_annees_2000.pop(-2)\n",
    "\n",
    "L_annees_2000"
   ]
  },
  {
   "cell_type": "code",
   "execution_count": 76,
   "metadata": {
    "ExecuteTime": {
     "end_time": "2024-04-10T22:38:01.414792Z",
     "start_time": "2024-04-10T22:38:01.229740Z"
    }
   },
   "outputs": [
    {
     "data": {
      "text/html": [
       "<div>\n",
       "<style scoped>\n",
       "    .dataframe tbody tr th:only-of-type {\n",
       "        vertical-align: middle;\n",
       "    }\n",
       "\n",
       "    .dataframe tbody tr th {\n",
       "        vertical-align: top;\n",
       "    }\n",
       "\n",
       "    .dataframe thead th {\n",
       "        text-align: right;\n",
       "    }\n",
       "</style>\n",
       "<table border=\"1\" class=\"dataframe\">\n",
       "  <thead>\n",
       "    <tr style=\"text-align: right;\">\n",
       "      <th></th>\n",
       "      <th>Host_country</th>\n",
       "      <th>Year</th>\n",
       "    </tr>\n",
       "  </thead>\n",
       "  <tbody>\n",
       "    <tr>\n",
       "      <th>0</th>\n",
       "      <td>Switzerland</td>\n",
       "      <td>1948</td>\n",
       "    </tr>\n",
       "    <tr>\n",
       "      <th>1</th>\n",
       "      <td>United Kingdom</td>\n",
       "      <td>1950</td>\n",
       "    </tr>\n",
       "    <tr>\n",
       "      <th>2</th>\n",
       "      <td>Norway</td>\n",
       "      <td>1952</td>\n",
       "    </tr>\n",
       "    <tr>\n",
       "      <th>3</th>\n",
       "      <td>Finland</td>\n",
       "      <td>1954</td>\n",
       "    </tr>\n",
       "    <tr>\n",
       "      <th>4</th>\n",
       "      <td>Italy</td>\n",
       "      <td>1956</td>\n",
       "    </tr>\n",
       "    <tr>\n",
       "      <th>5</th>\n",
       "      <td>Australia</td>\n",
       "      <td>1958</td>\n",
       "    </tr>\n",
       "    <tr>\n",
       "      <th>6</th>\n",
       "      <td>United States</td>\n",
       "      <td>1960</td>\n",
       "    </tr>\n",
       "    <tr>\n",
       "      <th>7</th>\n",
       "      <td>Italy</td>\n",
       "      <td>1962</td>\n",
       "    </tr>\n",
       "    <tr>\n",
       "      <th>8</th>\n",
       "      <td>Austria</td>\n",
       "      <td>1964</td>\n",
       "    </tr>\n",
       "    <tr>\n",
       "      <th>9</th>\n",
       "      <td>Japan</td>\n",
       "      <td>1966</td>\n",
       "    </tr>\n",
       "    <tr>\n",
       "      <th>10</th>\n",
       "      <td>France</td>\n",
       "      <td>1968</td>\n",
       "    </tr>\n",
       "    <tr>\n",
       "      <th>11</th>\n",
       "      <td>Mexico</td>\n",
       "      <td>1970</td>\n",
       "    </tr>\n",
       "    <tr>\n",
       "      <th>12</th>\n",
       "      <td>Japan</td>\n",
       "      <td>1972</td>\n",
       "    </tr>\n",
       "    <tr>\n",
       "      <th>13</th>\n",
       "      <td>West Germany</td>\n",
       "      <td>1974</td>\n",
       "    </tr>\n",
       "    <tr>\n",
       "      <th>14</th>\n",
       "      <td>Austria</td>\n",
       "      <td>1976</td>\n",
       "    </tr>\n",
       "    <tr>\n",
       "      <th>15</th>\n",
       "      <td>Canada</td>\n",
       "      <td>1978</td>\n",
       "    </tr>\n",
       "    <tr>\n",
       "      <th>16</th>\n",
       "      <td>United States</td>\n",
       "      <td>1980</td>\n",
       "    </tr>\n",
       "    <tr>\n",
       "      <th>17</th>\n",
       "      <td>Soviet Union</td>\n",
       "      <td>1982</td>\n",
       "    </tr>\n",
       "    <tr>\n",
       "      <th>18</th>\n",
       "      <td>Yugoslavia</td>\n",
       "      <td>1984</td>\n",
       "    </tr>\n",
       "    <tr>\n",
       "      <th>19</th>\n",
       "      <td>United States</td>\n",
       "      <td>1986</td>\n",
       "    </tr>\n",
       "    <tr>\n",
       "      <th>20</th>\n",
       "      <td>Canada</td>\n",
       "      <td>1988</td>\n",
       "    </tr>\n",
       "    <tr>\n",
       "      <th>21</th>\n",
       "      <td>South Korea</td>\n",
       "      <td>1990</td>\n",
       "    </tr>\n",
       "    <tr>\n",
       "      <th>22</th>\n",
       "      <td>France</td>\n",
       "      <td>1992</td>\n",
       "    </tr>\n",
       "    <tr>\n",
       "      <th>23</th>\n",
       "      <td>Spain</td>\n",
       "      <td>1994</td>\n",
       "    </tr>\n",
       "    <tr>\n",
       "      <th>24</th>\n",
       "      <td>United States</td>\n",
       "      <td>1996</td>\n",
       "    </tr>\n",
       "    <tr>\n",
       "      <th>25</th>\n",
       "      <td>Japan</td>\n",
       "      <td>1998</td>\n",
       "    </tr>\n",
       "    <tr>\n",
       "      <th>26</th>\n",
       "      <td>Australia</td>\n",
       "      <td>2000</td>\n",
       "    </tr>\n",
       "    <tr>\n",
       "      <th>27</th>\n",
       "      <td>United States</td>\n",
       "      <td>2002</td>\n",
       "    </tr>\n",
       "    <tr>\n",
       "      <th>28</th>\n",
       "      <td>Greece</td>\n",
       "      <td>2004</td>\n",
       "    </tr>\n",
       "    <tr>\n",
       "      <th>29</th>\n",
       "      <td>Italy</td>\n",
       "      <td>2006</td>\n",
       "    </tr>\n",
       "    <tr>\n",
       "      <th>30</th>\n",
       "      <td>China</td>\n",
       "      <td>2008</td>\n",
       "    </tr>\n",
       "    <tr>\n",
       "      <th>31</th>\n",
       "      <td>Canada</td>\n",
       "      <td>2010</td>\n",
       "    </tr>\n",
       "    <tr>\n",
       "      <th>32</th>\n",
       "      <td>United Kingdom</td>\n",
       "      <td>2012</td>\n",
       "    </tr>\n",
       "    <tr>\n",
       "      <th>33</th>\n",
       "      <td>Russia</td>\n",
       "      <td>2014</td>\n",
       "    </tr>\n",
       "    <tr>\n",
       "      <th>34</th>\n",
       "      <td>Brazil</td>\n",
       "      <td>2016</td>\n",
       "    </tr>\n",
       "    <tr>\n",
       "      <th>35</th>\n",
       "      <td>South Korea</td>\n",
       "      <td>2018</td>\n",
       "    </tr>\n",
       "    <tr>\n",
       "      <th>36</th>\n",
       "      <td>Japan</td>\n",
       "      <td>2020</td>\n",
       "    </tr>\n",
       "    <tr>\n",
       "      <th>37</th>\n",
       "      <td>China</td>\n",
       "      <td>2022</td>\n",
       "    </tr>\n",
       "    <tr>\n",
       "      <th>38</th>\n",
       "      <td>France</td>\n",
       "      <td>2024</td>\n",
       "    </tr>\n",
       "    <tr>\n",
       "      <th>39</th>\n",
       "      <td>Italy</td>\n",
       "      <td>2026</td>\n",
       "    </tr>\n",
       "    <tr>\n",
       "      <th>40</th>\n",
       "      <td>United States</td>\n",
       "      <td>2028</td>\n",
       "    </tr>\n",
       "    <tr>\n",
       "      <th>41</th>\n",
       "      <td>Australia</td>\n",
       "      <td>2032</td>\n",
       "    </tr>\n",
       "  </tbody>\n",
       "</table>\n",
       "</div>"
      ],
      "text/plain": [
       "      Host_country  Year\n",
       "0      Switzerland  1948\n",
       "1   United Kingdom  1950\n",
       "2           Norway  1952\n",
       "3          Finland  1954\n",
       "4            Italy  1956\n",
       "5        Australia  1958\n",
       "6    United States  1960\n",
       "7            Italy  1962\n",
       "8          Austria  1964\n",
       "9            Japan  1966\n",
       "10          France  1968\n",
       "11          Mexico  1970\n",
       "12           Japan  1972\n",
       "13    West Germany  1974\n",
       "14         Austria  1976\n",
       "15          Canada  1978\n",
       "16   United States  1980\n",
       "17    Soviet Union  1982\n",
       "18      Yugoslavia  1984\n",
       "19   United States  1986\n",
       "20          Canada  1988\n",
       "21     South Korea  1990\n",
       "22          France  1992\n",
       "23           Spain  1994\n",
       "24   United States  1996\n",
       "25           Japan  1998\n",
       "26       Australia  2000\n",
       "27   United States  2002\n",
       "28          Greece  2004\n",
       "29           Italy  2006\n",
       "30           China  2008\n",
       "31          Canada  2010\n",
       "32  United Kingdom  2012\n",
       "33          Russia  2014\n",
       "34          Brazil  2016\n",
       "35     South Korea  2018\n",
       "36           Japan  2020\n",
       "37           China  2022\n",
       "38          France  2024\n",
       "39           Italy  2026\n",
       "40   United States  2028\n",
       "41       Australia  2032"
      ]
     },
     "execution_count": 76,
     "metadata": {},
     "output_type": "execute_result"
    },
    {
     "name": "stdout",
     "output_type": "stream",
     "text": [
      "In [76] used 9.6 MiB RAM in 0.20s (system mean cpu 41%, single max cpu 63%), peaked 0.0 MiB above final usage, current RAM usage now 28.3 MiB\n"
     ]
    }
   ],
   "source": [
    "# On lie les pays et les années\n",
    "\n",
    "L_pays_annee=[]\n",
    "for i in range(len(L_pays_1948)):\n",
    "    L_pays_annee.append((L_pays_1948[i],L_annees_1948[i]))\n",
    "\n",
    "    \n",
    "for i in range(len(L_pays_2000)):\n",
    "    L_pays_annee.append((L_pays_2000[i],L_annees_2000[i]))\n",
    "\n",
    "df_hote=pd.DataFrame(L_pays_annee,columns=['Host_country','Year'])\n",
    "\n",
    "df_hote\n",
    "#L_pays_annee"
   ]
  },
  {
   "cell_type": "markdown",
   "metadata": {},
   "source": [
    "#### Pays avec un passé communiste"
   ]
  },
  {
   "cell_type": "code",
   "execution_count": null,
   "metadata": {
    "ExecuteTime": {
     "end_time": "2024-04-10T22:38:01.999762Z",
     "start_time": "2024-04-10T22:38:01.339229Z"
    }
   },
   "outputs": [],
   "source": [
    "url_soviet='https://en.wikipedia.org/wiki/Post-Soviet_states'\n",
    "response_soviet=requests.get(url_soviet)\n",
    "soup_soviet=BeautifulSoup(response_soviet.text,'html.parser')\n",
    "\n",
    "L_pays_soviet=[]\n",
    "\n",
    "pays_soviet=soup_soviet.findAll('b')\n",
    "#print(pays_soviet)\n",
    "for pays in pays_soviet:\n",
    "    b=pays.find('a')\n",
    "    if b is not None:\n",
    "        L_pays_soviet.append(b.text)\n",
    "L_pays_soviet=L_pays_soviet[:15]\n",
    "\n",
    "complete_urss_regime=lambda x : 1 if x in L_pays_soviet else 0"
   ]
  },
  {
   "cell_type": "markdown",
   "metadata": {},
   "source": [
    "#### Scrap population et GDP"
   ]
  },
  {
   "cell_type": "code",
   "execution_count": null,
   "metadata": {
    "ExecuteTime": {
     "end_time": "2024-04-10T22:38:02.880814Z",
     "start_time": "2024-04-10T22:38:01.999444Z"
    }
   },
   "outputs": [],
   "source": [
    "url_pop_gpa='https://www.worldometers.info/gdp/gdp-by-country/'\n",
    "response_pop_gpa=requests.get(url_pop_gpa)\n",
    "soup_pop_gpa=BeautifulSoup(response_pop_gpa.text,'html.parser')\n",
    "\n",
    "L_pays=[]\n",
    "\n",
    "all_countries=soup_pop_gpa.findAll('td')\n",
    "\n",
    "for country in all_countries:\n",
    "    a=country.find('a')\n",
    "    if a is not None:\n",
    "        L_pays.append(a.text)\n",
    "len(L_pays)"
   ]
  },
  {
   "cell_type": "code",
   "execution_count": null,
   "metadata": {
    "ExecuteTime": {
     "end_time": "2024-04-10T22:38:03.005488Z",
     "start_time": "2024-04-10T22:38:02.894969Z"
    }
   },
   "outputs": [],
   "source": [
    "all_info=soup_pop_gpa.findAll('td',attrs={'style':'font-weight: bold; text-align:right;'})\n",
    "\n",
    "numbers=[]\n",
    "for i,info in enumerate(all_info):\n",
    "    b=re.findall(r'\\d+\\b', info.text)\n",
    "    b=''.join(b)\n",
    "    numbers.append(b)\n",
    "   \n",
    "population=[]\n",
    "gpd_per_habitant=[]\n",
    "PIB_liste=[]\n",
    "for i in range(0,len(numbers),6):\n",
    "    PIB_liste.append(int(numbers[i]))\n",
    "for i in range(3,len(numbers),6):\n",
    "    population.append(int(numbers[i]))\n",
    "for i in range(4,len(numbers),6):\n",
    "    gpd_per_habitant.append(int(numbers[i]))\n",
    "\n",
    "print(len(PIB_liste))\n",
    "PIB_liste"
   ]
  },
  {
   "cell_type": "code",
   "execution_count": null,
   "metadata": {
    "ExecuteTime": {
     "end_time": "2024-04-10T22:38:03.138932Z",
     "start_time": "2024-04-10T22:38:03.014171Z"
    }
   },
   "outputs": [],
   "source": [
    "# On replace les pays qui n'ont pas le même nom\n",
    "df_pop_gpd=pd.DataFrame({'Country':L_pays,'PIB':PIB_liste,'Population':population,'PIB/habitant':gpd_per_habitant})\n",
    "\n",
    "df_pop_gpd['Country']=df_pop_gpd['Country'].replace('Trinidad and Tobago','Trinidad')\n",
    "df_pop_gpd['Country']=df_pop_gpd['Country'].replace('State of Palestine','Palestine, Occupied Territories')\n",
    "df_pop_gpd['Country']=df_pop_gpd['Country'].replace('Singapore','Singapour')\n",
    "df_pop_gpd['Country']=df_pop_gpd['Country'].replace('Czech Republic (Czechia)','Czech Republic')\n",
    "df_pop_gpd['Country']=df_pop_gpd['Country'].replace(\"Côte d'Ivoire\" ,\"Cote d'Ivoire\")\n",
    "\n",
    "df_pop_gpd"
   ]
  },
  {
   "cell_type": "code",
   "execution_count": null,
   "metadata": {
    "ExecuteTime": {
     "end_time": "2024-04-10T22:38:03.239132Z",
     "start_time": "2024-04-10T22:38:03.123184Z"
    }
   },
   "outputs": [],
   "source": [
    "# Pays qui manquaient sur le site scrappé, données récupérées manuellement\n",
    "df_pop_gpd=pd.concat([df_pop_gpd,pd.DataFrame([['Taiwan',762670000000,23923276,44460],\n",
    "                                               ['Cook Islands',220000000,17044,13558],\n",
    "                                               ['Eritrea',1960000000,3684000,1067],\n",
    "                                               ['Kosovo',9410000000,1760000,5340],\n",
    "                                               ['Lebanon',23130000000,5425542,4136],\n",
    "                                               ['Netherlands Antilles',3810000000,27148,11400],\n",
    "                                               ['South Sudan',12000000000,11000000,467], \n",
    "                                               ['American Samoa',871000000,43914,19673],\n",
    "                                              ['Aruba',3545000000,106445,333000],\n",
    "                                              ['Bermuda',7645000000,63532,118774],\n",
    "                                               ['British Virgin Islands',1751000000,31707,34246],\n",
    "                                               ['Virgin Islands',4440000000,105413,41974],\n",
    "                                               ['Cayman Islands',6845000000,69310,99624],\n",
    "                                               ['Cuba',633400000000,11179471,56495],\n",
    "                                               ['Guam',6123000000,173825,35904],\n",
    "                                               ['North Korea',48000000000,26070000,33719],\n",
    "                                               ['Liechtenstein',7710000000,39039,197504],\n",
    "                                               ['Monaco',8784000000,39050,240862],\n",
    "                                               ['Puerto Rico',113400000000,3260314,35208],\n",
    "                                               ['San Marino',1855000000,33642,53000],\n",
    "                                               ['Syria',8970000000,22130000,420],\n",
    "                                               ['Venezuela',92000000000,29254044,2624],\n",
    "                                               ['Virgin Islands*',4444000000,105413,41976],\n",
    "                                               ['Afghanistan',14583135237,42239000,363.73],\n",
    "                                               ['Bhutan',2539551327,782455,3560],\n",
    "                                               ['Brunei',16760000000,449000,37152],\n",
    "                                               ['Burma',62260000000,54180000,1149],\n",
    "                                               ['Cape Verde',2227000000,593000,3754],\n",
    "                                               ['Djibouti',3515000000,1121000,3136],\n",
    "                                               [\"East Timor (Timor-Leste)\",3205000000,1341000,2389],\n",
    "                                               ['Macedonia',13560000000,2058000,6591],\n",
    "                                               ['Nauru',151600000,12668,11970],\n",
    "                                               ['Palau',232000000,18055,12921],\n",
    "                                               ['Saint Kitts and Nevis',965000000,47000,20262],\n",
    "                                               ['Saint Vincent and the Grenadines',948000000,9123,9125],\n",
    "                                               ['Sao Tome and Principe',542000000,227380,2386],\n",
    "                                               ['Somalia',10042000000,17000000,592],\n",
    "                                               ['Swaziland',4791000000,1202000,3986],\n",
    "                                               ['Tonga',469000000,106858,4425],\n",
    "                                               ['Turkmenistan',56540000000,6431000,8792],\n",
    "                                               ['Yemen',21160000000,33700000,650]\n",
    "                                               ],\n",
    "                                             columns=['Country','PIB','Population','PIB/habitant'])],ignore_index=True)"
   ]
  },
  {
   "cell_type": "code",
   "execution_count": null,
   "metadata": {
    "ExecuteTime": {
     "end_time": "2024-04-10T22:38:03.352658Z",
     "start_time": "2024-04-10T22:38:03.238639Z"
    }
   },
   "outputs": [],
   "source": [
    "## Dictionnaire pour remplir les valeurs NaN de Pop et PIB sans changer les valeurs de pop et PIB per habitant précédentes\n",
    "dictio_pop_gpd=dict(zip(df_pop_gpd['Country'],df_pop_gpd['PIB']))\n",
    "\n",
    "dictio_pop_gpd"
   ]
  },
  {
   "cell_type": "markdown",
   "metadata": {},
   "source": [
    "#### JO de Tokyo"
   ]
  },
  {
   "cell_type": "markdown",
   "metadata": {},
   "source": [
    "Pour les jeux de 2020 (été, Tokyo), nous avons trouvé le dataset suivant : https://www.kaggle.com/datasets/piterfm/tokyo-2020-olympics. Après téléchargement des différents datasets, nous le plaçons dans `./data/additionnal/tokyo2020`"
   ]
  },
  {
   "cell_type": "code",
   "execution_count": null,
   "metadata": {
    "ExecuteTime": {
     "end_time": "2024-04-10T22:38:03.500209Z",
     "start_time": "2024-04-10T22:38:03.351670Z"
    }
   },
   "outputs": [],
   "source": [
    "# Chargement des données\n",
    "df_tokyo_athletes = pd.read_csv('data/additionnal/tokyo2020/athletes.csv')\n",
    "df_tokyo_medals_total = pd.read_csv('data/additionnal/tokyo2020/medals_total.csv')\n",
    "df_tokyo_medals = pd.read_csv('data/additionnal/tokyo2020/medals.csv')"
   ]
  },
  {
   "cell_type": "code",
   "execution_count": null,
   "metadata": {
    "ExecuteTime": {
     "end_time": "2024-04-10T22:38:03.646208Z",
     "start_time": "2024-04-10T22:38:03.498683Z"
    }
   },
   "outputs": [],
   "source": [
    "# Création d'un dataframe avec les même colonnes que df_athlete\n",
    "df_complete_tokyo2020 = pd.DataFrame(columns=df_athlete.columns)\n",
    "\n",
    "# On s'assure qu'il n'y a pas de doublons\n",
    "df_tokyo_athletes.drop_duplicates(inplace=True)\n",
    "\n",
    "df_merged_bis = pd.merge(df_tokyo_athletes, df_tokyo_medals, how='left', left_on=['name', 'discipline_code'], right_on=['athlete_name', 'discipline_code'])"
   ]
  },
  {
   "cell_type": "code",
   "execution_count": null,
   "metadata": {
    "ExecuteTime": {
     "end_time": "2024-04-10T22:38:04.463349Z",
     "start_time": "2024-04-10T22:38:03.653984Z"
    }
   },
   "outputs": [],
   "source": [
    "athletes_to_be_added = []\n",
    "# Itération dans df_tokyo_athletes pour ajouter dans athletes_to_be_added, qui sera ensuite ajouté au dataframe df_complete_tokyo2020\n",
    "\n",
    "for index, row in df_tokyo_athletes.iterrows():\n",
    "    athlete_name = row['name']\n",
    "    athlete_sex = str(row['gender'])[0] if type(row['gender'] != float) else np.nan\n",
    "    athlete_age = (2021 - datetime.date.fromisoformat(str(row['birth_date'])).year) if (type(row['birth_date'] == str) and str(row['birth_date']).lower() != 'nan' ) else np.nan\n",
    "    athlete_height_in_m = (int(float(row['height_m/ft'].split('/')[0]) *100)) if (type(row['height_m/ft']) != float) else np.nan\n",
    "    athlete_team = row['country']\n",
    "    athlete_noc = row['country_code']\n",
    "    athlete_games = 'Tokyo 2020'\n",
    "    athlete_year = 2020\n",
    "    athlete_season = 'Summer'\n",
    "    athlete_city = 'Tokyo'\n",
    "    athlete_discipline = row['discipline']\n",
    "    athletes_to_be_added.append({\n",
    "        'Name': athlete_name,\n",
    "        'Sex': athlete_sex, \n",
    "        'Age': athlete_age,\n",
    "        'Height': athlete_height_in_m,\n",
    "        'Team': athlete_team,\n",
    "        'NOC': athlete_noc,\n",
    "        'Games': athlete_games,\n",
    "        'Year': athlete_year,\n",
    "        'Season': athlete_season,\n",
    "        'City': athlete_city,\n",
    "        'Sport': athlete_discipline,\n",
    "    })\n",
    "\n",
    "df_complete_tokyo2020 = df_complete_tokyo2020.from_records(athletes_to_be_added)"
   ]
  },
  {
   "cell_type": "code",
   "execution_count": null,
   "metadata": {
    "ExecuteTime": {
     "end_time": "2024-04-10T22:38:04.593269Z",
     "start_time": "2024-04-10T22:38:04.451560Z"
    }
   },
   "outputs": [],
   "source": [
    "# On effectue une jointure droite entre les deux dataframes, de manière à conserver seulement les athlètes avec différentes médailles dans différentes disciplines\n",
    "df_merged = pd.merge(df_complete_tokyo2020, df_tokyo_medals, left_on=['Name', 'Sport'], right_on=['athlete_name', 'discipline'], how='left')\n",
    "df_merged.drop(columns=['medal_code', 'medal_date', 'athlete_short_name',\n",
    "       'athlete_name', 'athlete_sex', 'athlete_link', 'country_code',\n",
    "       'discipline_code', 'country', 'discipline'], inplace=True)\n",
    "\n",
    "df_merged.drop_duplicates(inplace=True)\n",
    "\n",
    "df_merged['medal_type'] = df_merged['medal_type'].apply(lambda x: x.replace('Medal', '').strip() if type(x) != float else x)\n",
    "df_merged.rename(columns={'medal_type': 'Medal', 'event': 'Event'}, inplace=True)"
   ]
  },
  {
   "cell_type": "code",
   "execution_count": null,
   "metadata": {
    "ExecuteTime": {
     "end_time": "2024-04-10T22:38:04.735198Z",
     "start_time": "2024-04-10T22:38:04.595793Z"
    }
   },
   "outputs": [],
   "source": [
    "# On récupère le nom des médaillés seulement, pour les retirer du dataframe final (qui ne contient pas encore les médailles obtenues par les athlètes), avant de fusionner\n",
    "# le dataframe des médaillés seulement et celui des athlètes sans médailles\n",
    "medailles_seulement = df_merged.Name.unique()\n",
    "df_complete_tokyo2020.drop(df_complete_tokyo2020[df_complete_tokyo2020['Name'].isin(medailles_seulement)].index, inplace=True)\n",
    "df_complete_tokyo2020 = pd.concat([df_complete_tokyo2020, df_merged])\n",
    "df_complete_tokyo2020"
   ]
  },
  {
   "cell_type": "code",
   "execution_count": null,
   "metadata": {
    "ExecuteTime": {
     "end_time": "2024-04-10T22:38:04.840833Z",
     "start_time": "2024-04-10T22:38:04.724916Z"
    }
   },
   "outputs": [],
   "source": [
    "# On remplace les valeurs 'n' en NaN pour le sexe\n",
    "df_complete_tokyo2020['Sex'] = df_complete_tokyo2020['Sex'].apply(lambda x: np.NAN if x == 'n' else x)"
   ]
  },
  {
   "cell_type": "code",
   "execution_count": null,
   "metadata": {
    "ExecuteTime": {
     "end_time": "2024-04-10T22:38:04.994248Z",
     "start_time": "2024-04-10T22:38:04.836798Z"
    }
   },
   "outputs": [],
   "source": [
    "# On merge avec df_athlete\n",
    "df_athlete = pd.concat([df_athlete,df_complete_tokyo2020 ])"
   ]
  },
  {
   "cell_type": "markdown",
   "metadata": {},
   "source": [
    "## Optimisation des datasets\n",
    "   Dans un souci d'optimisation de l'espace mémoire occupé, nous allons faire en sorte d'optimiser les différents dataframe que nous utilisons. \n",
    "Pour mener à bien ceci, nous allons des fonctions contenues dans `describe_csv.py`, en les améliorant pour automatiser le processus."
   ]
  },
  {
   "cell_type": "code",
   "execution_count": null,
   "metadata": {
    "ExecuteTime": {
     "end_time": "2024-04-10T22:38:05.110765Z",
     "start_time": "2024-04-10T22:38:04.994975Z"
    }
   },
   "outputs": [],
   "source": [
    "#### Code Nathan à ajouter\n",
    "# Jusqu'à maintenant, nous utilisons le dataframe df_athlete. Nous allons définir différentes fonctions pour optimiser les types et ainsi optimiser l'espace mémoire occupé\n",
    "\n",
    "from pandas.api.types import is_numeric_dtype\n",
    "\n",
    "\n",
    "def define_and_use_optimal_type(df:pd.DataFrame):\n",
    "    for column in df.columns:\n",
    "        if(is_numeric_dtype(df[column]) == True):\n",
    "            # Set optimal type else do nothing\n",
    "            optimalype = optimal_type(df[column], df[column].min(), df[column].max())\n",
    "            df[column] = df[column].astype(optimalype)\n",
    "    return df"
   ]
  },
  {
   "cell_type": "markdown",
   "metadata": {},
   "source": [
    "## Nettoyage"
   ]
  },
  {
   "cell_type": "code",
   "execution_count": null,
   "metadata": {
    "ExecuteTime": {
     "end_time": "2024-04-10T22:38:05.253281Z",
     "start_time": "2024-04-10T22:38:05.103257Z"
    }
   },
   "outputs": [],
   "source": [
    "## Ajouter le code FLO"
   ]
  },
  {
   "cell_type": "markdown",
   "metadata": {},
   "source": [
    "### Dataframe dictionnary"
   ]
  },
  {
   "cell_type": "code",
   "execution_count": null,
   "metadata": {
    "ExecuteTime": {
     "end_time": "2024-04-10T22:38:05.356928Z",
     "start_time": "2024-04-10T22:38:05.210106Z"
    }
   },
   "outputs": [],
   "source": [
    "df_dictionnary=pd.read_csv('data/dictionary.csv')\n",
    "\n",
    "df_dictionnary=df_dictionnary.rename(columns={'GDP per Capita':'PIB/habitant','Code':'NOC'})\n",
    "\n",
    "df_dictionnary.isna().sum()"
   ]
  },
  {
   "cell_type": "code",
   "execution_count": null,
   "metadata": {},
   "outputs": [],
   "source": [
    "df_dictionnary['Country']=df_dictionnary['Country'].replace('Puerto Rico*','Puerto Rico')\n",
    "df_dictionnary['Country']=df_dictionnary['Country'].replace('Hong Kong*','Hong Kong')\n",
    "df_dictionnary['Country']=df_dictionnary['Country'].replace('Korea, South','South Korea')\n",
    "df_dictionnary['Country']=df_dictionnary['Country'].replace('Korea, North','North Korea')\n",
    "df_dictionnary['Country']=df_dictionnary['Country'].replace('Liban','Lebanon')\n",
    "df_dictionnary['Country']=df_dictionnary['Country'].replace('Congo, Dem Rep','DR Congo')\n",
    "df_dictionnary['Country']=df_dictionnary['Country'].replace('Cayman Islands*','Cayman Islands')\n",
    "df_dictionnary['Country']=df_dictionnary['Country'].replace('Bermuda*','Bermuda')\n",
    "df_dictionnary['Country']=df_dictionnary['Country'].replace('Virgin Islands*','Virgin Islands')\n",
    "df_dictionnary['Country']=df_dictionnary['Country'].replace('Aruba*','Aruba')\n",
    "df_dictionnary['Country']=df_dictionnary['Country'].replace('American Samoa*','American Samoa')\n",
    "df_dictionnary['Country']=df_dictionnary['Country'].replace('Netherlands Antilles*','Netherlands Antilles')"
   ]
  },
  {
   "cell_type": "markdown",
   "metadata": {},
   "source": [
    "### Dataframe région"
   ]
  },
  {
   "cell_type": "code",
   "execution_count": null,
   "metadata": {
    "ExecuteTime": {
     "end_time": "2024-04-10T22:38:05.453026Z",
     "start_time": "2024-04-10T22:38:05.324170Z"
    }
   },
   "outputs": [],
   "source": [
    "df_region=df_region.rename(columns={'region':'Country'})"
   ]
  },
  {
   "cell_type": "markdown",
   "metadata": {},
   "source": [
    "Ajout des îles Tuvalu"
   ]
  },
  {
   "cell_type": "code",
   "execution_count": null,
   "metadata": {
    "ExecuteTime": {
     "end_time": "2024-04-10T22:38:05.592674Z",
     "start_time": "2024-04-10T22:38:05.431323Z"
    }
   },
   "outputs": [],
   "source": [
    "df_region[df_region['Country'].isnull()]"
   ]
  },
  {
   "cell_type": "code",
   "execution_count": null,
   "metadata": {
    "ExecuteTime": {
     "end_time": "2024-04-10T22:38:05.655552Z",
     "start_time": "2024-04-10T22:38:05.540020Z"
    }
   },
   "outputs": [],
   "source": [
    "df_region=df_region.query(\" NOC != 'ROT' and NOC != 'UNK' \") # Penser à ajouter Singapour\n",
    "\n",
    "df_region['Country']=df_region['Country'].fillna('Tuvalu')"
   ]
  },
  {
   "cell_type": "code",
   "execution_count": null,
   "metadata": {
    "ExecuteTime": {
     "end_time": "2024-04-10T22:38:05.777547Z",
     "start_time": "2024-04-10T22:38:05.658283Z"
    }
   },
   "outputs": [],
   "source": [
    "df_region"
   ]
  },
  {
   "cell_type": "markdown",
   "metadata": {},
   "source": [
    "## Merge des dataframes et traitement des valeurs nulles"
   ]
  },
  {
   "cell_type": "markdown",
   "metadata": {},
   "source": [
    "### Opérations sur les pays"
   ]
  },
  {
   "cell_type": "code",
   "execution_count": null,
   "metadata": {
    "ExecuteTime": {
     "end_time": "2024-04-10T22:38:06.350051Z",
     "start_time": "2024-04-10T22:38:05.906575Z"
    }
   },
   "outputs": [],
   "source": [
    "df_complete=pd.merge(pd.merge(df_athlete,df_region,on='NOC',how='left'),df_dictionnary,on='NOC',how='left')\n",
    "\n",
    "# On prend seulement les JO d'été\n",
    "df_complete=df_complete[df_complete['Season']=='Summer']\n",
    "df_complete=df_complete[df_complete['Year'] >= 2000]"
   ]
  },
  {
   "cell_type": "code",
   "execution_count": null,
   "metadata": {
    "ExecuteTime": {
     "end_time": "2024-04-10T22:38:06.510214Z",
     "start_time": "2024-04-10T22:38:06.348772Z"
    }
   },
   "outputs": [],
   "source": [
    "# Attribution des pays en fonction des NOC \n",
    "df_complete=pd.merge(df_complete,df_region,on='NOC',how='left')\n",
    "df_complete['Country']=df_complete['Country_y'].fillna(df_complete['Country_x'])\n",
    "df_complete= df_complete.drop(['Country_x', 'Country_y', 'notes_x','notes_y'], axis=1)"
   ]
  },
  {
   "cell_type": "code",
   "execution_count": null,
   "metadata": {
    "ExecuteTime": {
     "end_time": "2024-04-10T22:38:06.641009Z",
     "start_time": "2024-04-10T22:38:06.509966Z"
    }
   },
   "outputs": [],
   "source": [
    "# On retire les NOC (réfugiés)\n",
    "df_complete=df_complete.query(\" NOC !='ROC' \")"
   ]
  },
  {
   "cell_type": "code",
   "execution_count": null,
   "metadata": {
    "ExecuteTime": {
     "end_time": "2024-04-10T22:38:06.845049Z",
     "start_time": "2024-04-10T22:38:06.639622Z"
    }
   },
   "outputs": [],
   "source": [
    "# Analyse des valeurs nulles \n",
    "df_complete.isna().sum()\n",
    "\n",
    "# 156 sports où on sait pas ce que c'est .... et des country (26 221) qui ne sont pas attribués non plus "
   ]
  },
  {
   "cell_type": "code",
   "execution_count": null,
   "metadata": {
    "ExecuteTime": {
     "end_time": "2024-04-10T22:38:06.970329Z",
     "start_time": "2024-04-10T22:38:06.842660Z"
    }
   },
   "outputs": [],
   "source": [
    "# Attribution des \n",
    "liste_pays=df_region['Country'].tolist()\n",
    "liste_NOC=df_region['NOC'].tolist()\n",
    "\n",
    "dictio_NOC_pays=dict(zip(liste_NOC,liste_pays))\n",
    "\n",
    "dictio_NOC_pays['SGP']='Singapour'\n",
    "dictio_NOC_pays['LBN']='Liban'\n",
    "\n",
    "df_complete['Country']=df_complete['Country'].fillna(df_complete['NOC'].map(dictio_NOC_pays))\n"
   ]
  },
  {
   "cell_type": "code",
   "execution_count": null,
   "metadata": {
    "ExecuteTime": {
     "end_time": "2024-04-10T22:38:07.105184Z",
     "start_time": "2024-04-10T22:38:06.969525Z"
    }
   },
   "outputs": [],
   "source": [
    "# Il y a quatre NOC qui ne correspondent à aucun pays dans notre EOR : réfugiés , ROT réfugiés aussi , LBN c'est le Liban (Lebanon en anglais )\n",
    "df_complete=df_complete.query(\" NOC !='ROT' and NOC !='EOR' \")"
   ]
  },
  {
   "cell_type": "code",
   "execution_count": null,
   "metadata": {
    "ExecuteTime": {
     "end_time": "2024-04-10T22:38:07.238269Z",
     "start_time": "2024-04-10T22:38:07.104137Z"
    }
   },
   "outputs": [],
   "source": [
    "# On ajoute les pays organisateurs pour chaque ligne scrappée précédemment\n",
    "df_complete=pd.merge(df_complete,df_hote,on='Year',how='left')"
   ]
  },
  {
   "cell_type": "code",
   "execution_count": null,
   "metadata": {
    "ExecuteTime": {
     "end_time": "2024-04-10T22:38:07.992127Z",
     "start_time": "2024-04-10T22:38:07.238442Z"
    }
   },
   "outputs": [],
   "source": [
    "# On ajoute une colonne booléenne (l'athlète participe aux jeux dans son propre pays)\n",
    "compare_col=lambda x : 1 if x['Country']==x['Host_country'] else 0 \n",
    "\n",
    "df_complete['Participation_own_country']=df_complete.apply(compare_col,axis=1)\n",
    "df_complete[df_complete['Participation_own_country']==1]"
   ]
  },
  {
   "cell_type": "code",
   "execution_count": null,
   "metadata": {
    "ExecuteTime": {
     "end_time": "2024-04-10T22:38:08.122404Z",
     "start_time": "2024-04-10T22:38:07.968417Z"
    }
   },
   "outputs": [],
   "source": [
    "# On récupère les pays communistes scrappés précédemment\n",
    "df_complete['Soviet_past']=df_complete['Country'].apply(complete_urss_regime)"
   ]
  },
  {
   "cell_type": "code",
   "execution_count": null,
   "metadata": {
    "ExecuteTime": {
     "end_time": "2024-04-10T22:38:08.305142Z",
     "start_time": "2024-04-10T22:38:08.116011Z"
    }
   },
   "outputs": [],
   "source": [
    "# On renomme les pays pour pouvoir merge avec les données scrappées \n",
    "# Changement de noms pour les pays\n",
    "\n",
    "df_complete['Country']=df_complete['Country'].replace('Puerto Rico*','Puerto Rico')\n",
    "df_complete['Country']=df_complete['Country'].replace('Hong Kong*','Hong Kong')\n",
    "df_complete['Country']=df_complete['Country'].replace('Korea, South','South Korea')\n",
    "df_complete['Country']=df_complete['Country'].replace('Korea, North','North Korea')\n",
    "df_complete['Country']=df_complete['Country'].replace('Liban','Lebanon')\n",
    "df_complete['Country']=df_complete['Country'].replace('Congo, Dem Rep','DR Congo')\n",
    "df_complete['Country']=df_complete['Country'].replace('Cayman Islands*','Cayman Islands')\n",
    "df_complete['Country']=df_complete['Country'].replace('Bermuda*','Bermuda')\n",
    "df_complete['Country']=df_complete['Country'].replace('Virgin Islands*','Virgin Islands')\n",
    "df_complete['Country']=df_complete['Country'].replace('Aruba*','Aruba')\n",
    "df_complete['Country']=df_complete['Country'].replace('American Samoa*','American Samoa')\n",
    "df_complete['Country']=df_complete['Country'].replace('Netherlands Antilles*','Netherlands Antilles')\n",
    "\n",
    "# URSS \n",
    "df_complete.loc[(df_complete['Team'] == 'Soviet Union') & (df_complete['NOC'] == 'URS'), ['Team', 'NOC']] = ['Russia', 'RUS'] # URSS période 1952-1988\n",
    "\n",
    "# Réfugiés\n",
    "df_complete.loc[(df_complete['Team'] == 'ROC') & (df_complete['NOC'] == 'ROC'), ['Team', 'NOC']] = ['Germany', 'RUS'] # JO 2020\n",
    "\n",
    "# GERMANY\n",
    "df_complete.loc[(df_complete['Team'] == 'East Germany') & (df_complete['NOC'] == 'GDR'), ['Team', 'NOC']] = ['Germany', 'GER']\n",
    "\n",
    "# CHINA\n",
    "df_complete.loc[df_complete['Team'] == \"People's Republic of China\", ['Team', 'NOC']] = ['China', 'CHN']\n",
    "\n",
    "# UNITED STATES\n",
    "df_complete.loc[df_complete['Team'] == \"United States of America\", ['Team', 'NOC']] = ['United States', 'USA']"
   ]
  },
  {
   "cell_type": "code",
   "execution_count": null,
   "metadata": {
    "ExecuteTime": {
     "end_time": "2024-04-10T22:38:09.528209Z",
     "start_time": "2024-04-10T22:38:08.307961Z"
    }
   },
   "outputs": [],
   "source": [
    "# Normalisation des pays. Certains sont écrits avec des suffixes (Ex: Brazil-1, Brazil-2)\n",
    "replacement_dict = {}\n",
    "\n",
    "old_countries_to_process = df_complete.Team.unique()\n",
    "\n",
    "for i in old_countries_to_process:\n",
    "    replacement_dict[i] = re.sub(r'[\\d-]', '', i)\n",
    "\n",
    "\n",
    "final_df = df_complete.replace({\"Team\": replacement_dict})"
   ]
  },
  {
   "cell_type": "code",
   "execution_count": null,
   "metadata": {
    "ExecuteTime": {
     "end_time": "2024-04-10T22:38:09.644490Z",
     "start_time": "2024-04-10T22:38:09.520662Z"
    }
   },
   "outputs": [],
   "source": [
    "df_test_na_pop=df_complete[df_complete['Population'].isna()]\n",
    "\n",
    "# On merge les données de df_test_na_pop et df_complete\n",
    "df_test_na_pop=pd.merge(df_test_na_pop,df_pop_gpd,on='Country',how='left')\n",
    "df_test_na_pop.isna().sum()"
   ]
  },
  {
   "cell_type": "code",
   "execution_count": null,
   "metadata": {
    "ExecuteTime": {
     "end_time": "2024-04-10T22:38:09.788901Z",
     "start_time": "2024-04-10T22:38:09.640793Z"
    }
   },
   "outputs": [],
   "source": [
    "# On nettoie les colonnes résiduelles\n",
    "df_test_na_pop=df_test_na_pop.drop(['Population_x'],axis=1)\n",
    "df_test_na_pop=df_test_na_pop.drop(['PIB/habitant_x'],axis=1)\n",
    "\n",
    "# On renomme les colonnes\n",
    "df_test_na_pop=df_test_na_pop.rename(columns={'Population_y':'Population'})\n",
    "df_test_na_pop=df_test_na_pop.rename(columns={'PIB/habitant_y':'PIB/habitant'})\n",
    "\n",
    "# On nettoie les données nulles dans la colonne Population\n",
    "df_test_na_pop=df_test_na_pop.dropna(subset='Population')\n",
    "df_complete=df_complete.dropna(subset='Population')\n",
    "\n",
    "df_complete=pd.concat([df_complete,df_test_na_pop],ignore_index=True)"
   ]
  },
  {
   "cell_type": "markdown",
   "metadata": {},
   "source": [
    "### Opérations sur le PIB"
   ]
  },
  {
   "cell_type": "code",
   "execution_count": null,
   "metadata": {
    "ExecuteTime": {
     "end_time": "2024-04-10T22:38:09.935637Z",
     "start_time": "2024-04-10T22:38:09.772477Z"
    }
   },
   "outputs": [],
   "source": [
    "# Traitement des données nulles\n",
    "df_test_na_pib=df_complete[df_complete['PIB/habitant'].isna()]\n",
    "df_complete=df_complete.dropna(subset='PIB/habitant')\n",
    "\n",
    "# On merge avec les données scrappées\n",
    "df_test_na_pib=pd.merge(df_test_na_pib,df_pop_gpd,on='Country',how='left')\n",
    "\n",
    "# On drop les données résiduelles\n",
    "df_test_na_pib=df_test_na_pib.drop(['Population_x'],axis=1)\n",
    "df_test_na_pib=df_test_na_pib.drop(['PIB/habitant_x'],axis=1)\n",
    "df_test_na_pib=df_test_na_pib.drop(['PIB_x'],axis=1)\n",
    "\n",
    "# On renomme les colonnes merge\n",
    "df_test_na_pib=df_test_na_pib.rename(columns={'Population_y':'Population'})\n",
    "df_test_na_pib=df_test_na_pib.rename(columns={'PIB/habitant_y':'PIB/habitant'})\n",
    "df_test_na_pib=df_test_na_pib.rename(columns={'PIB_y':'PIB'})\n",
    "\n",
    "df_complete=pd.concat([df_complete,df_test_na_pib],ignore_index=True)"
   ]
  },
  {
   "cell_type": "code",
   "execution_count": null,
   "metadata": {
    "ExecuteTime": {
     "end_time": "2024-04-10T22:38:10.048673Z",
     "start_time": "2024-04-10T22:38:09.931621Z"
    }
   },
   "outputs": [],
   "source": [
    "# Attribution du PIB aux pays manquants\n",
    "df_complete['PIB']=df_complete['PIB'].fillna(df_complete['Country'].map(dictio_pop_gpd))"
   ]
  },
  {
   "cell_type": "markdown",
   "metadata": {},
   "source": [
    "### Opérations sur les âges"
   ]
  },
  {
   "cell_type": "code",
   "execution_count": null,
   "metadata": {
    "ExecuteTime": {
     "end_time": "2024-04-10T22:38:10.184374Z",
     "start_time": "2024-04-10T22:38:10.050912Z"
    }
   },
   "outputs": [],
   "source": [
    "# On attribue les âges manquants en faisant la moyenne des âges par sport\n",
    "table_sport_age=df_complete.groupby('Sport')['Age'].mean().apply(math.ceil).reset_index()\n",
    "\n",
    "liste_sport=table_sport_age['Sport'].tolist()\n",
    "liste_age=table_sport_age['Age'].tolist()\n",
    "\n",
    "dictio_age_sport=dict(zip(liste_sport,liste_age))\n",
    "\n",
    "df_complete['Age']=df_complete['Age'].fillna(df_complete['Sport'].map(dictio_age_sport))"
   ]
  },
  {
   "cell_type": "code",
   "execution_count": null,
   "metadata": {
    "ExecuteTime": {
     "end_time": "2024-04-10T22:38:10.314478Z",
     "start_time": "2024-04-10T22:38:10.181136Z"
    }
   },
   "outputs": [],
   "source": [
    "# Il y a 156 personnes qui manquent car nous n'avons pas les sports \n",
    "df_complete=df_complete.dropna(subset='Age')"
   ]
  },
  {
   "cell_type": "markdown",
   "metadata": {},
   "source": [
    "### Opérations sur le sexe, le poids et les tailles"
   ]
  },
  {
   "cell_type": "code",
   "execution_count": null,
   "metadata": {
    "ExecuteTime": {
     "end_time": "2024-04-10T22:38:10.442981Z",
     "start_time": "2024-04-10T22:38:10.313043Z"
    }
   },
   "outputs": [],
   "source": [
    "df_male = df_complete[df_complete['Sex'] == 'M']\n",
    "df_female = df_complete[df_complete['Sex'] == 'F']\n",
    "columns_to_impute = ['Age', 'Height', 'Weight']"
   ]
  },
  {
   "cell_type": "code",
   "execution_count": null,
   "metadata": {
    "ExecuteTime": {
     "end_time": "2024-04-10T22:38:59.284625Z",
     "start_time": "2024-04-10T22:38:10.438677Z"
    }
   },
   "outputs": [],
   "source": [
    "# Créer un imputer KNN avec un nombre de voisins à considérer (k)\n",
    "imputer = KNNImputer(n_neighbors=5)\n",
    "\n",
    "# Imputer les valeurs manquantes pour les hommes\n",
    "df_male[columns_to_impute] = imputer.fit_transform(df_male[columns_to_impute])\n",
    "\n",
    "# Imputer les valeurs manquantes pour les femmes\n",
    "df_female[columns_to_impute] = imputer.fit_transform(df_female[columns_to_impute])\n",
    "\n",
    "# Fusionner les DataFrames pour obtenir le DataFrame complet\n",
    "df_complete = pd.concat([df_male, df_female])"
   ]
  },
  {
   "cell_type": "markdown",
   "metadata": {},
   "source": [
    "# Data understanding"
   ]
  },
  {
   "cell_type": "markdown",
   "metadata": {},
   "source": [
    "## EDA (graph, pivot table ,Matrix confusion...)"
   ]
  },
  {
   "cell_type": "code",
   "execution_count": null,
   "metadata": {
    "ExecuteTime": {
     "end_time": "2024-04-10T22:38:59.394719Z",
     "start_time": "2024-04-10T22:38:59.284241Z"
    }
   },
   "outputs": [],
   "source": [
    "# TODO: Guillaume / Noé / Flo"
   ]
  },
  {
   "cell_type": "markdown",
   "metadata": {},
   "source": [
    "Utilisation pandas_profiling"
   ]
  },
  {
   "cell_type": "code",
   "execution_count": null,
   "metadata": {
    "ExecuteTime": {
     "end_time": "2024-04-10T22:38:59.494924Z",
     "start_time": "2024-04-10T22:38:59.389827Z"
    }
   },
   "outputs": [],
   "source": [
    "# profile = ProfileReport(df, title='Pandas Profiling Report')\n",
    "# profile.to_file(\"report-profiling-test.html\")"
   ]
  },
  {
   "cell_type": "markdown",
   "metadata": {},
   "source": [
    "EDA via pivottablejs"
   ]
  },
  {
   "cell_type": "code",
   "execution_count": null,
   "metadata": {
    "ExecuteTime": {
     "end_time": "2024-04-10T22:38:59.604136Z",
     "start_time": "2024-04-10T22:38:59.493436Z"
    }
   },
   "outputs": [],
   "source": [
    "# pivot_ui(df)"
   ]
  },
  {
   "cell_type": "markdown",
   "metadata": {},
   "source": [
    "Prétraitement des données et création de variables catégorielles"
   ]
  },
  {
   "cell_type": "code",
   "execution_count": null,
   "metadata": {
    "ExecuteTime": {
     "end_time": "2024-04-10T22:38:59.722054Z",
     "start_time": "2024-04-10T22:38:59.604099Z"
    }
   },
   "outputs": [],
   "source": [
    "# # TRAITER AGE NULL (moyenne des ages)\n",
    "# df_complete['Age'] = df_complete['Age'].fillna(df_complete['Age'].mean())\n",
    "\n",
    "# # TRAITER HEIGHT NULL (moyenne des heights)\n",
    "# df_complete['Height'] = df_complete['Height'].fillna(df_complete.groupby('Sex')['Height'].transform('mean'))\n",
    "\n",
    "# # TRAITER WEIGHT NULL (moyenne des weights)\n",
    "# df_complete['Weight'] = df_complete['Weight'].fillna(df_complete.groupby('Sex')['Weight'].transform('mean'))\n",
    "\n",
    "# TRAITER SEASON NULL (0 si null, 1 sinon)\n",
    "# df_complete['Season'] = np.where(df_complete['Season'].isnull(), 0, 1)\n",
    "\n",
    "# TRAITER AGE GROUP\n",
    "df_complete['AgeGroup'] = pd.cut(df_complete.Age, bins=range(0, 81, 10), right=True)\n",
    "\n",
    "# TRAITER WEIGHT GROUP\n",
    "df_complete['WeightGroup'] = pd.cut(df_complete.Weight, bins=range(0, 215, 20), right=True)\n",
    "\n",
    "# TRAITER HEIGHT GROUP\n",
    "df_complete['HeightGroup'] = pd.cut(df_complete.Height, bins=range(100, 227, 20), right=True)\n"
   ]
  },
  {
   "cell_type": "code",
   "execution_count": null,
   "metadata": {
    "ExecuteTime": {
     "end_time": "2024-04-10T22:38:59.831732Z",
     "start_time": "2024-04-10T22:38:59.720864Z"
    }
   },
   "outputs": [],
   "source": [
    "attrs = ['Sex', 'AgeGroup', 'HeightGroup', 'WeightGroup'] # attrs permet de sélectionner les colonnes à afficher"
   ]
  },
  {
   "cell_type": "code",
   "execution_count": null,
   "metadata": {
    "ExecuteTime": {
     "end_time": "2024-04-10T22:39:00.890933Z",
     "start_time": "2024-04-10T22:38:59.832125Z"
    }
   },
   "outputs": [],
   "source": [
    "# Paramètres de style de Seaborn\n",
    "sns.set(style=\"whitegrid\")\n",
    "\n",
    "# Créer la figure\n",
    "figure = plt.figure(figsize=(14, 10))\n",
    "figure.suptitle('Répartition des médailles dans les Jeux Olympiques', fontsize=16)\n",
    "\n",
    "# Ajuster l'espacement entre les sous-graphiques\n",
    "plt.subplots_adjust(top=0.9, bottom=0.1, hspace=0.5, wspace=0.4)\n",
    "\n",
    "# Boucle sur les attributs pour créer les sous-graphiques\n",
    "for i, col in enumerate(attrs):\n",
    "    plt.subplot(2, 4, i+1)\n",
    "    plt.xticks(rotation=40, ha='right')  # Rotation des étiquettes sur l'axe des x\n",
    "    sns.countplot(x=col, hue='Medal', data=df_complete, palette='pastel')  # Utiliser une palette de couleurs pastel\n",
    "    plt.title('Répartition des médailles par ' + col)  # Titre du sous-graphique\n",
    "\n",
    "# Améliorer la disposition des sous-graphiques\n",
    "plt.tight_layout()\n",
    "plt.show()"
   ]
  },
  {
   "cell_type": "markdown",
   "metadata": {},
   "source": [
    "#### Analyse visuelle"
   ]
  },
  {
   "cell_type": "markdown",
   "metadata": {},
   "source": [
    "Nombre d'événements dans chaque sport au fil des années "
   ]
  },
  {
   "cell_type": "code",
   "execution_count": null,
   "metadata": {
    "ExecuteTime": {
     "end_time": "2024-04-10T22:39:01.922177Z",
     "start_time": "2024-04-10T22:39:00.773791Z"
    }
   },
   "outputs": [],
   "source": [
    "sport_year = df_complete.pivot_table(index='Sport', columns='Year', values='Event', aggfunc=lambda x: len(x.unique()))\n",
    "sport_year.fillna(0, inplace=True)\n",
    "sport_year = sport_year.reindex(sport_year.sum(axis=1).sort_values(ascending=False).index)\n",
    "\n",
    "# Affichage de la heatmap\n",
    "plt.figure(figsize=(20, 20))\n",
    "sns.heatmap(sport_year, annot=True, linewidths=0.05, cmap=\"RdYlGn\")\n",
    "plt.xlabel('Year', size=14, color=\"green\")\n",
    "plt.ylabel('Sport', size=14, color=\"green\")\n",
    "plt.title('Nombre d\\'événements dans chaque sport au fil des années', size=18, color=\"green\")\n",
    "plt.show()"
   ]
  },
  {
   "cell_type": "markdown",
   "metadata": {},
   "source": [
    "Nombre total de médailles remportées par pays et type de médaille"
   ]
  },
  {
   "cell_type": "code",
   "execution_count": null,
   "metadata": {
    "ExecuteTime": {
     "end_time": "2024-04-10T22:39:02.304897Z",
     "start_time": "2024-04-10T22:39:01.729023Z"
    }
   },
   "outputs": [],
   "source": [
    "# Filter the data to include only gold medal winners\n",
    "gold_medals = df_complete[df_complete['Medal'] == 'Gold']\n",
    "\n",
    "# Group the data by year and count the number of gold medals won each year for each country\n",
    "gold_medals_by_year_and_country = gold_medals.groupby(['Year', 'Team'])['Medal'].count().unstack()\n",
    "\n",
    "# Select the top 10 countries with the most gold medals overall\n",
    "top_10_countries = gold_medals.groupby('Team')['Medal'].count().nlargest(10).index\n",
    "\n",
    "# Plotting the curve for the evolution of gold medals over time for the top 10 countries\n",
    "plt.figure(figsize=(10, 6))  # Taille de la figure\n",
    "\n",
    "for country in top_10_countries:\n",
    "    plt.plot(gold_medals_by_year_and_country.index, gold_medals_by_year_and_country[country], \n",
    "             marker='o', markersize=6, linewidth=2, label=country)  # Courbe pour chaque pays avec la légende\n",
    "\n",
    "plt.title('Evolution des médailles en or gagnées au fil du temps (Top 10 des pays)', fontsize=16)  # Titre\n",
    "plt.xlabel('Year', fontsize=14)  # Étiquette de l'axe x\n",
    "plt.ylabel('Number of Gold Medals', fontsize=14)  # Étiquette de l'axe y\n",
    "plt.xticks(fontsize=12)  # Taille de la police des étiquettes de l'axe x\n",
    "plt.yticks(fontsize=12)  # Taille de la police des étiquettes de l'axe y\n",
    "plt.grid(True)  # Afficher la grille\n",
    "plt.legend(fontsize=10)  # Ajouter la légende\n",
    "plt.tight_layout()  # Ajuster la mise en page\n",
    "plt.show()\n"
   ]
  },
  {
   "cell_type": "markdown",
   "metadata": {},
   "source": [
    "Nombre total de médailles remportées par pays et type de médaille"
   ]
  },
  {
   "cell_type": "code",
   "execution_count": null,
   "metadata": {
    "ExecuteTime": {
     "end_time": "2024-04-10T22:39:02.698129Z",
     "start_time": "2024-04-10T22:39:02.303577Z"
    }
   },
   "outputs": [],
   "source": [
    "# Group the data by country and count the total number of medals won by each country and each type of medal\n",
    "medals_by_country = df_complete.groupby(['Team', 'Medal']).size().unstack(fill_value=0)\n",
    "\n",
    "# Select the top 10 countries with the most total medals\n",
    "top_10_countries = medals_by_country.sum(axis=1).nlargest(10).index\n",
    "\n",
    "# Select the medal types\n",
    "medal_types = ['Gold', 'Silver', 'Bronze']\n",
    "\n",
    "# Set the position of each bar on the x-axis\n",
    "x = np.arange(len(top_10_countries))\n",
    "\n",
    "# Set the width of the bars\n",
    "width = 0.2\n",
    "\n",
    "# Assign colors to each medal type\n",
    "colors = {'Gold': 'gold', 'Silver': 'silver', 'Bronze': 'peru'}\n",
    "\n",
    "# Plotting the grouped bar graph\n",
    "plt.figure(figsize=(12, 8))  # Taille de la figure\n",
    "\n",
    "for i, medal in enumerate(medal_types):\n",
    "    plt.bar(x - width + i * width, medals_by_country.loc[top_10_countries, medal], \n",
    "            width=width, label=medal, color=colors[medal])\n",
    "\n",
    "plt.title('Nombre total de médailles remportées par pays et type de médaille', fontsize=16)  # Titre\n",
    "plt.xlabel('Country', fontsize=14)  # Étiquette de l'axe x\n",
    "plt.ylabel('Total Number of Medals', fontsize=14)  # Étiquette de l'axe y\n",
    "plt.xticks(ticks=x, labels=top_10_countries, rotation=45, fontsize=12)  # Étiquettes de l'axe x\n",
    "plt.yticks(fontsize=12)  # Taille de la police des étiquettes de l'axe y\n",
    "plt.legend(fontsize=12)  # Ajouter la légende\n",
    "plt.tight_layout()  # Ajuster la mise en page\n",
    "plt.show()\n"
   ]
  },
  {
   "cell_type": "markdown",
   "metadata": {},
   "source": [
    "Ratio de l'évolution des médailles d'or par athlète au fil du temps (Top 10 des pays)\n",
    "(proportionnelement, quel pays obtient le pus de médailles)"
   ]
  },
  {
   "cell_type": "code",
   "execution_count": null,
   "metadata": {
    "ExecuteTime": {
     "end_time": "2024-04-10T22:39:03.144423Z",
     "start_time": "2024-04-10T22:39:02.685082Z"
    }
   },
   "outputs": [],
   "source": [
    "# Calculate the total number of athletes per country\n",
    "total_athletes_per_country = df_complete.groupby('Team')['Name'].nunique()\n",
    "\n",
    "# Filter the data to include only gold medal winners\n",
    "gold_medals = df_complete[df_complete['Medal'] == 'Gold']\n",
    "\n",
    "# Group the data by year and count the number of gold medals won each year for each country\n",
    "gold_medals_by_year_and_country = gold_medals.groupby(['Year', 'Team'])['Medal'].count().unstack()\n",
    "\n",
    "# Calculate the number of gold medals per athlete for each country and each year\n",
    "gold_medals_per_athlete = gold_medals_by_year_and_country.div(total_athletes_per_country, axis=1)\n",
    "\n",
    "# Select the top 10 countries with the most gold medals overall\n",
    "top_10_countries = gold_medals.groupby('Team')['Medal'].count().nlargest(10).index\n",
    "\n",
    "# Plotting the curve for the evolution of gold medals per athlete over time for the top 10 countries\n",
    "plt.figure(figsize=(10, 6))  # Taille de la figure\n",
    "\n",
    "for country in top_10_countries:\n",
    "    plt.plot(gold_medals_per_athlete.index, gold_medals_per_athlete[country], \n",
    "             marker='o', markersize=6, linewidth=2, label=country)  # Courbe pour chaque pays avec la légende\n",
    "\n",
    "plt.title('Ratio evolution des médailles en or par athlète au fil du temps (Top 10 des pays)', fontsize=16)  # Titre\n",
    "plt.xlabel('Year', fontsize=14)  # Étiquette de l'axe x\n",
    "plt.ylabel('Number of Gold Medals per Athlete', fontsize=14)  # Étiquette de l'axe y\n",
    "plt.xticks(fontsize=12)  # Taille de la police des étiquettes de l'axe x\n",
    "plt.yticks(fontsize=12)  # Taille de la police des étiquettes de l'axe y\n",
    "\n",
    "plt.grid(True)  # Afficher la grille\n",
    "plt.legend(fontsize=10)  # Ajouter la légende\n",
    "plt.tight_layout()  # Ajuster la mise en page\n",
    "plt.show()"
   ]
  },
  {
   "cell_type": "markdown",
   "metadata": {},
   "source": [
    "Plus forte évolution des médailles remportées par équipe"
   ]
  },
  {
   "cell_type": "code",
   "execution_count": null,
   "metadata": {
    "ExecuteTime": {
     "end_time": "2024-04-10T22:39:03.577246Z",
     "start_time": "2024-04-10T22:39:03.142805Z"
    }
   },
   "outputs": [],
   "source": [
    "# Filter the data to include only Summer Olympic Games between 2010 and 2020\n",
    "summer_games = df_complete[(df_complete['Season'] == 'Summer') & (df_complete['Year'] >= 2008) & (df_complete['Year'] <= 2020)]\n",
    "\n",
    "# Group the data by team and year, and calculate the total number of medals won by each team in each year\n",
    "medals_by_year = summer_games.groupby(['Team', 'Year'])['Medal'].count().unstack()\n",
    "\n",
    "# Calculate the difference in the number of medals won by each team between the first year and the last year\n",
    "medal_difference = medals_by_year.iloc[:, -1] - medals_by_year.iloc[:, 0]\n",
    "\n",
    "# Sort the teams based on the difference in the number of medals won in descending order\n",
    "sorted_teams = medal_difference.sort_values(ascending=False)\n",
    "\n",
    "# Select the top 5 teams with the largest increase in medals won\n",
    "top_5_teams = sorted_teams.index[:10]\n",
    "\n",
    "# Create a line chart showing the number of medals won by the top 5 teams in each year\n",
    "plt.figure(figsize=(12, 6))\n",
    "for team in top_5_teams:\n",
    "    plt.plot(medals_by_year.loc[team], label=team)\n",
    "plt.title('Plus forte évolution des médailles remportées par équipe', fontsize=18, color='#003f5c')\n",
    "plt.xlabel('Year', fontsize=14, fontweight='bold', color='#003f5c')\n",
    "plt.ylabel('Number of Medals', fontsize=14, fontweight='bold', color='#003f5c')\n",
    "plt.xticks(fontsize=12, color='#003f5c')\n",
    "plt.yticks(fontsize=12, color='#003f5c')\n",
    "plt.grid(axis='y', linestyle='--', alpha=0.5, color='#003f5c')\n",
    "plt.legend()\n",
    "plt.tight_layout()\n",
    "plt.show()"
   ]
  },
  {
   "cell_type": "code",
   "execution_count": null,
   "metadata": {
    "ExecuteTime": {
     "end_time": "2024-04-10T22:39:03.692931Z",
     "start_time": "2024-04-10T22:39:03.569750Z"
    }
   },
   "outputs": [],
   "source": [
    "# Retrait des variables devenues ici inutiles\n",
    "df_complete.drop(columns=['AgeGroup', 'WeightGroup', 'HeightGroup'], inplace=True)"
   ]
  },
  {
   "cell_type": "markdown",
   "metadata": {},
   "source": [
    "## Traitement des valeurs aberrantes"
   ]
  },
  {
   "cell_type": "code",
   "execution_count": null,
   "metadata": {
    "ExecuteTime": {
     "end_time": "2024-04-10T22:39:03.799646Z",
     "start_time": "2024-04-10T22:39:03.693061Z"
    }
   },
   "outputs": [],
   "source": [
    "# A faire\n",
    "# TODO : Guillaume"
   ]
  },
  {
   "cell_type": "code",
   "execution_count": null,
   "metadata": {
    "ExecuteTime": {
     "end_time": "2024-04-10T22:39:04.535330Z",
     "start_time": "2024-04-10T22:39:03.798274Z"
    }
   },
   "outputs": [],
   "source": [
    "df_complete.boxplot()"
   ]
  },
  {
   "cell_type": "code",
   "execution_count": null,
   "metadata": {
    "ExecuteTime": {
     "end_time": "2024-04-10T22:39:04.649234Z",
     "start_time": "2024-04-10T22:39:04.534987Z"
    }
   },
   "outputs": [],
   "source": [
    "# On va modifier les plus hauts outliers identifiés pour Age, Height et Weight par la valeur du 99ème quantile\n",
    "\n",
    "cols = ['Age', 'Height', 'Weight']\n",
    "low = .05\n",
    "high = .99 # Retourne les valeurs au 99ème quantile\n",
    "\n",
    "# Calcul des quantiles\n",
    "quant_df =  df_complete[cols].quantile([low, high])\n",
    "print(quant_df)\n",
    "\n",
    "# Remplacement des outliers par le 99ème quantile\n",
    "for col in cols:\n",
    "    high_val = quant_df[col].loc[high]\n",
    "    df_complete[col] = np.where(df_complete[col] > high_val, high_val, df_complete[col])\n"
   ]
  },
  {
   "cell_type": "code",
   "execution_count": null,
   "metadata": {
    "ExecuteTime": {
     "end_time": "2024-04-10T22:39:04.774523Z",
     "start_time": "2024-04-10T22:39:04.648275Z"
    }
   },
   "outputs": [],
   "source": [
    "higher = quant_df.loc[high,'Age']\n",
    "higher\n",
    "\n",
    "def func(x):\n",
    "    if x >= higher:\n",
    "        return higher\n",
    "    else:\n",
    "        return x\n",
    "\n",
    "df_complete['Age'] = df_complete['Age'].apply(func)"
   ]
  },
  {
   "cell_type": "code",
   "execution_count": null,
   "metadata": {
    "ExecuteTime": {
     "end_time": "2024-04-10T22:39:04.899451Z",
     "start_time": "2024-04-10T22:39:04.773002Z"
    }
   },
   "outputs": [],
   "source": [
    "higher = quant_df.loc[high,'Height']\n",
    "higher\n",
    "\n",
    "def func(x):\n",
    "    if x >= higher:\n",
    "        return higher\n",
    "    else:\n",
    "        return x\n",
    "\n",
    "df_complete['Height'] = df_complete['Height'].apply(func)"
   ]
  },
  {
   "cell_type": "code",
   "execution_count": null,
   "metadata": {
    "ExecuteTime": {
     "end_time": "2024-04-10T22:39:05.025723Z",
     "start_time": "2024-04-10T22:39:04.915802Z"
    }
   },
   "outputs": [],
   "source": [
    "higher = quant_df.loc[high,'Weight']\n",
    "higher\n",
    "\n",
    "def func(x):\n",
    "    if x >= higher:\n",
    "        return higher\n",
    "    else:\n",
    "        return x\n",
    "\n",
    "df_complete['Weight'] = df_complete['Weight'].apply(func)"
   ]
  },
  {
   "cell_type": "code",
   "execution_count": null,
   "metadata": {
    "ExecuteTime": {
     "end_time": "2024-04-10T22:39:05.231607Z",
     "start_time": "2024-04-10T22:39:05.024173Z"
    }
   },
   "outputs": [],
   "source": [
    "# On vérifie que pour les valeurs les plus hautes, on a bien modifié la valeur\n",
    "\n",
    "df_complete[df_complete['Age'].ge(quant_df.loc[high,'Age'])]"
   ]
  },
  {
   "cell_type": "markdown",
   "metadata": {},
   "source": [
    "df_complete[df_complete['Height'].ge(quant_df.loc[Height'])]"
   ]
  },
  {
   "cell_type": "code",
   "execution_count": null,
   "metadata": {
    "ExecuteTime": {
     "end_time": "2024-04-10T22:39:05.321389Z",
     "start_time": "2024-04-10T22:39:05.152847Z"
    }
   },
   "outputs": [],
   "source": [
    "df_complete[df_complete['Weight'].ge(quant_df.loc[high,'Weight'])]"
   ]
  },
  {
   "cell_type": "markdown",
   "metadata": {},
   "source": [
    "## Création d'un nouveau dataframe aggrégeant toutes les données"
   ]
  },
  {
   "cell_type": "code",
   "execution_count": null,
   "metadata": {
    "ExecuteTime": {
     "end_time": "2024-04-10T22:39:06.728747Z",
     "start_time": "2024-04-10T22:39:05.276913Z"
    }
   },
   "outputs": [],
   "source": [
    "# Normalisation des pays. Certains sont écrits avec des suffixes (Ex: Brazil-1, Brazil-2)\n",
    "replacement_dict = {}\n",
    "\n",
    "old_countries_to_process = df_complete.Team.unique()\n",
    "\n",
    "for i in old_countries_to_process:\n",
    "    replacement_dict[i] = re.sub(r'[\\d-]', '', i)\n",
    "\n",
    "df_complete = df_complete.replace({\"Team\": replacement_dict})\n",
    "df_complete.drop_duplicates(subset=['Event', 'Team', 'Year', 'Medal'], inplace=True)\n",
    "participation_own_country_soviet = df_complete[['Year','Team', 'Participation_own_country', 'Soviet_past']].drop_duplicates()\n",
    "\n",
    "df_complete['Medal'] = df_complete['Medal'].replace(np.nan, 0)\n",
    "df_complete['Medal'] = df_complete['Medal'].apply(lambda x: 0 if x==0 else 1)\n",
    "\n",
    "medals_per_year = df_complete.groupby(['Team', 'Year']).agg({'Medal': 'sum'}).reset_index()\n",
    "concat = medals_per_year.merge(participation_own_country_soviet, how='inner', on=['Team', 'Year'])\n",
    "\n",
    "# Vérif\n",
    "concat[concat['Team'] == \"France\"]"
   ]
  },
  {
   "cell_type": "markdown",
   "metadata": {},
   "source": [
    "## Encodage des données"
   ]
  },
  {
   "cell_type": "markdown",
   "metadata": {},
   "source": [
    "Encodage des médailles"
   ]
  },
  {
   "cell_type": "code",
   "execution_count": null,
   "metadata": {
    "ExecuteTime": {
     "end_time": "2024-04-10T22:39:06.810773Z",
     "start_time": "2024-04-10T22:39:06.651284Z"
    }
   },
   "outputs": [],
   "source": [
    "# df_complete = pd.read_csv('data/testetstest.csv')"
   ]
  },
  {
   "cell_type": "code",
   "execution_count": null,
   "metadata": {
    "ExecuteTime": {
     "end_time": "2024-04-10T22:39:06.895289Z",
     "start_time": "2024-04-10T22:39:06.758288Z"
    }
   },
   "outputs": [],
   "source": [
    "# Encodage du sexe\n",
    "df_complete['Sex'].replace(['F','M'],['0', '1'],inplace=True)\n",
    "\n",
    "# transform the medal into numeric values\n",
    "df_complete['Medal'] = df_complete.Medal.fillna('0')\n",
    "\n",
    "#JO Hivers = 0; été = 1\n",
    "df_complete['Season'].replace(['Winter','Summer'],['0', '1'],inplace=True)\n",
    "df_complete = df_complete.drop(df_complete[df_complete['Season'] == '0'].index)\n",
    "\n",
    "# On retire les valeurs nulles de Soviet_past\n",
    "df_complete['Soviet_past'].fillna(0, inplace=True)"
   ]
  },
  {
   "cell_type": "code",
   "execution_count": null,
   "metadata": {
    "ExecuteTime": {
     "end_time": "2024-04-10T22:39:07.051595Z",
     "start_time": "2024-04-10T22:39:06.883260Z"
    }
   },
   "outputs": [],
   "source": [
    "# Encodage du sport\n",
    "encoder = preprocessing.OneHotEncoder(sparse_output=False)\n",
    "encoder.fit(df_complete[['Sport']])\n",
    "columns_name = encoder.get_feature_names_out(['Sport'])\n",
    "df_encoded = pd.DataFrame(encoder.transform(df_complete[['Sport']]))\n",
    "df_encoded.columns = columns_name\n",
    "\n",
    "# Reset index of df_encoded\n",
    "df_encoded.reset_index(drop=True, inplace=True)\n",
    "\n",
    "# # Concatenate df_complete and df_encoded\n",
    "df_complete = pd.concat([df_complete, df_encoded], axis=1)\n",
    "\n",
    "df_complete = df_complete.drop('Season', axis=1)"
   ]
  },
  {
   "cell_type": "markdown",
   "metadata": {},
   "source": [
    "## Problème run matrice de corrélation "
   ]
  },
  {
   "cell_type": "code",
   "execution_count": null,
   "metadata": {
    "ExecuteTime": {
     "end_time": "2024-04-10T22:39:08.112076Z",
     "start_time": "2024-04-10T22:39:07.052940Z"
    }
   },
   "outputs": [],
   "source": [
    "# Corrélogramme\n",
    "#correlation_matrix = df_complete.corr()\n",
    "#plt.figure(figsize=(10, 8))\n",
    "\n",
    "# Plot the heatmap\n",
    "#sns.heatmap(correlation_matrix, fmt=\".2f\", cmap='coolwarm', linewidths=0.5)"
   ]
  },
  {
   "cell_type": "markdown",
   "metadata": {},
   "source": [
    "On n'observe pas de forte corrélation entre les différents attributs (NOE à compléter)"
   ]
  },
  {
   "cell_type": "code",
   "execution_count": null,
   "metadata": {
    "ExecuteTime": {
     "end_time": "2024-04-10T22:39:08.218191Z",
     "start_time": "2024-04-10T22:39:08.104468Z"
    }
   },
   "outputs": [],
   "source": [
    "# Encodage de l'âge\n",
    "df_complete['Age'] = pd.cut(df_complete.Age, range(0, 80, 5), right=False)\n",
    "\n",
    "# Encodage du poids\n",
    "df_complete['Weight'] = pd.cut(df_complete.Weight, range(0, 230, 10), right=False)\n",
    "\n",
    "# Encodage de la taille\n",
    "df_complete['Height'] = pd.cut(df_complete.Height, range(0, 250, 10), right=False)"
   ]
  },
  {
   "cell_type": "code",
   "execution_count": null,
   "metadata": {
    "ExecuteTime": {
     "end_time": "2024-04-10T22:39:08.436714Z",
     "start_time": "2024-04-10T22:39:08.219679Z"
    }
   },
   "outputs": [],
   "source": [
    "# PIB Groups\n",
    "# Calculer les quantiles\n",
    "quantiles = [0.20, 0.40, 0.60, 0.80]\n",
    "\n",
    "# Créer les intervalles pour les groupes en utilisant les quantiles\n",
    "bins = df_complete['PIB'].quantile(quantiles)\n",
    "\n",
    "# Ajouter les bornes extrêmes\n",
    "bins = [float('-inf')] + list(bins) + [float('inf')]\n",
    "\n",
    "# Assigner les groupes en utilisant pd.cut() avec les intervalles définis\n",
    "df_complete['PIB_groups'] = pd.cut(df_complete['PIB'], bins=bins, labels=[1, 2, 3, 4, 5], right=False)\n",
    "\n",
    "# Retrait des variables inutiles\n",
    "df_complete.drop(columns=['PIB'], inplace=True)\n",
    "df_complete"
   ]
  },
  {
   "cell_type": "code",
   "execution_count": null,
   "metadata": {
    "ExecuteTime": {
     "end_time": "2024-04-10T22:39:19.025362Z",
     "start_time": "2024-04-10T22:39:08.369503Z"
    }
   },
   "outputs": [],
   "source": [
    "categorical_vars = df_complete.select_dtypes(include=['object', 'category'])\n",
    "\n",
    "p_values = {}\n",
    "for var1, var2 in combinations(categorical_vars.columns, 2):\n",
    "    contingency_table = pd.crosstab(categorical_vars[var1], categorical_vars[var2])\n",
    "    chi2, p, dof, expected = chi2_contingency(contingency_table)\n",
    "    p_values[(var1, var2)] = p\n",
    "\n",
    "\n",
    "dependent_vars = {var_pair: p_value for var_pair, p_value in p_values.items() if p_value < 0.05}\n",
    "dependent_vars"
   ]
  },
  {
   "cell_type": "markdown",
   "metadata": {},
   "source": [
    "### Nettoyage des colonnes inutiles pour l'analyse"
   ]
  },
  {
   "cell_type": "code",
   "execution_count": null,
   "metadata": {
    "ExecuteTime": {
     "end_time": "2024-04-10T22:39:19.140624Z",
     "start_time": "2024-04-10T22:39:19.021812Z"
    }
   },
   "outputs": [],
   "source": [
    "# Drop les colonnes qui ne servent à R\n",
    "# df_complete.drop(columns=['Team', 'Name', 'Games', 'City', 'Event', 'Sport', 'Host_country', 'Country'], inplace=True)"
   ]
  },
  {
   "cell_type": "code",
   "execution_count": null,
   "metadata": {
    "ExecuteTime": {
     "end_time": "2024-04-10T22:39:19.352958Z",
     "start_time": "2024-04-10T22:39:19.129567Z"
    }
   },
   "outputs": [],
   "source": [
    "df_complete"
   ]
  },
  {
   "cell_type": "code",
   "execution_count": null,
   "metadata": {
    "ExecuteTime": {
     "end_time": "2024-04-10T22:39:20.874715Z",
     "start_time": "2024-04-10T22:39:19.270113Z"
    }
   },
   "outputs": [],
   "source": [
    "# Export du dataframe\n",
    "df_complete.to_csv('data/df_complete.csv', index=False)"
   ]
  },
  {
   "cell_type": "code",
   "execution_count": null,
   "metadata": {
    "ExecuteTime": {
     "end_time": "2024-04-10T22:39:21.041831Z",
     "start_time": "2024-04-10T22:39:20.873503Z"
    }
   },
   "outputs": [],
   "source": [
    "df_complete.head()"
   ]
  },
  {
   "cell_type": "markdown",
   "metadata": {},
   "source": [
    "## Traitement des valeurs manquantes"
   ]
  },
  {
   "cell_type": "markdown",
   "metadata": {},
   "source": [
    "Effectivement notre base de données possède de nombreuses valeurs manquantes"
   ]
  },
  {
   "cell_type": "code",
   "execution_count": null,
   "metadata": {
    "ExecuteTime": {
     "end_time": "2024-04-10T22:39:21.106618Z",
     "start_time": "2024-04-10T22:39:20.996231Z"
    }
   },
   "outputs": [],
   "source": [
    "# df.isna().sum()"
   ]
  },
  {
   "cell_type": "code",
   "execution_count": null,
   "metadata": {
    "ExecuteTime": {
     "end_time": "2024-04-10T22:39:21.224802Z",
     "start_time": "2024-04-10T22:39:21.104796Z"
    }
   },
   "outputs": [],
   "source": [
    "### Première solution : Web Scrapping (code Nathan + FLO)"
   ]
  },
  {
   "cell_type": "markdown",
   "metadata": {},
   "source": [
    "## Tests de corrélations/lois stats (Shapiro-Wilk, Spearman, Pearson)"
   ]
  },
  {
   "cell_type": "code",
   "execution_count": null,
   "metadata": {
    "ExecuteTime": {
     "end_time": "2024-04-10T22:39:21.317312Z",
     "start_time": "2024-04-10T22:39:21.211621Z"
    }
   },
   "outputs": [],
   "source": [
    "# TODO: Noé"
   ]
  },
  {
   "cell_type": "markdown",
   "metadata": {},
   "source": [
    "## Aggrégation des données par Team/Année/Event pour pouvoir calculer les médailles"
   ]
  },
  {
   "cell_type": "code",
   "execution_count": null,
   "metadata": {
    "ExecuteTime": {
     "end_time": "2024-04-10T22:39:21.505922Z",
     "start_time": "2024-04-10T22:39:21.328946Z"
    }
   },
   "outputs": [],
   "source": [
    "# TODO: Nathan: Essayer d'appliquer le code\n",
    "# Voir plus haut"
   ]
  },
  {
   "cell_type": "code",
   "execution_count": null,
   "metadata": {},
   "outputs": [],
   "source": [
    "## Partie Flo "
   ]
  },
  {
   "cell_type": "code",
   "execution_count": null,
   "metadata": {},
   "outputs": [],
   "source": [
    "df_complete=df_complete.dropna(subset='Name')"
   ]
  },
  {
   "cell_type": "code",
   "execution_count": null,
   "metadata": {},
   "outputs": [],
   "source": [
    "df_complete"
   ]
  },
  {
   "cell_type": "code",
   "execution_count": null,
   "metadata": {},
   "outputs": [],
   "source": [
    "df_world=pd.read_csv('data/additionnal/world-data-2023.csv',sep=',')"
   ]
  },
  {
   "cell_type": "code",
   "execution_count": null,
   "metadata": {},
   "outputs": [],
   "source": [
    "df_world=df_world.drop('Population',axis=1)\n",
    "df_world=df_world.drop('Abbreviation',axis=1)\n",
    "df_world=df_world.drop('Official language',axis=1)\n",
    "df_world=df_world.drop('Physicians per thousand',axis=1)\n",
    "df_world=df_world.drop('Capital/Major City',axis=1)\n",
    "df_world=df_world.drop('Density\\n(P/Km2)',axis=1)\n",
    "df_world=df_world.drop('Agricultural Land( %)',axis=1)\n",
    "df_world=df_world.drop('Land Area(Km2)',axis=1)\n",
    "df_world=df_world.drop('Calling Code',axis=1)\n",
    "df_world=df_world.drop('Currency-Code',axis=1)\n",
    "df_world=df_world.drop('CPI Change (%)',axis=1)\n",
    "df_world=df_world.drop('CPI',axis=1)\n",
    "df_world=df_world.drop('Forested Area (%)',axis=1)\n",
    "df_world=df_world.drop('GDP',axis=1)\n",
    "df_world=df_world.drop('Largest city',axis=1)\n",
    "df_world=df_world.drop('Maternal mortality ratio',axis=1)\n",
    "df_world=df_world.drop('Tax revenue (%)',axis=1)\n",
    "df_world=df_world.drop('Total tax rate',axis=1)\n",
    "df_world=df_world.drop('Latitude',axis=1)\n",
    "df_world=df_world.drop('Longitude',axis=1)"
   ]
  },
  {
   "cell_type": "code",
   "execution_count": null,
   "metadata": {},
   "outputs": [],
   "source": [
    "df_world"
   ]
  },
  {
   "cell_type": "code",
   "execution_count": null,
   "metadata": {},
   "outputs": [],
   "source": [
    "df_complete.nunique().head(20)"
   ]
  },
  {
   "cell_type": "code",
   "execution_count": null,
   "metadata": {},
   "outputs": [],
   "source": [
    "df_complete['NOC'].value_counts()"
   ]
  },
  {
   "cell_type": "code",
   "execution_count": null,
   "metadata": {},
   "outputs": [],
   "source": [
    "df_world.isna().sum()"
   ]
  },
  {
   "cell_type": "code",
   "execution_count": null,
   "metadata": {},
   "outputs": [],
   "source": [
    "#df_test=pd.merge(df_complete,df_world,on='Country',how='left')"
   ]
  },
  {
   "cell_type": "code",
   "execution_count": null,
   "metadata": {},
   "outputs": [],
   "source": []
  },
  {
   "cell_type": "markdown",
   "metadata": {},
   "source": [
    "## Code à rajouter dans le main"
   ]
  },
  {
   "cell_type": "markdown",
   "metadata": {},
   "source": [
    "## On va chercher les GDP des pays de l'API wolrd Bank depuis tah l'époque"
   ]
  },
  {
   "cell_type": "code",
   "execution_count": null,
   "metadata": {},
   "outputs": [],
   "source": [
    "#pip install wbgapi"
   ]
  },
  {
   "cell_type": "code",
   "execution_count": null,
   "metadata": {},
   "outputs": [],
   "source": [
    "import wbgapi as wb "
   ]
  },
  {
   "cell_type": "code",
   "execution_count": null,
   "metadata": {},
   "outputs": [],
   "source": [
    "s=wb.search('GDP current') "
   ]
  },
  {
   "cell_type": "code",
   "execution_count": null,
   "metadata": {},
   "outputs": [],
   "source": [
    "gdp=wb.data.DataFrame('NY.GDP.MKTP.CD').transpose()"
   ]
  },
  {
   "cell_type": "code",
   "execution_count": null,
   "metadata": {},
   "outputs": [],
   "source": [
    "df_gdp=pd.DataFrame(gdp)"
   ]
  },
  {
   "cell_type": "code",
   "execution_count": null,
   "metadata": {},
   "outputs": [],
   "source": [
    "df_gdp = df_gdp.transpose()\n",
    "df_gdp .columns = [col.strip('YR') for col in df_gdp.columns]\n",
    "#df_gdp = df_gdp.transpose()"
   ]
  },
  {
   "cell_type": "code",
   "execution_count": null,
   "metadata": {},
   "outputs": [],
   "source": [
    "## Faut transformer cette base de données "
   ]
  },
  {
   "cell_type": "code",
   "execution_count": null,
   "metadata": {},
   "outputs": [],
   "source": [
    "df_gdp=df_gdp.reset_index(names='NOC')"
   ]
  },
  {
   "cell_type": "code",
   "execution_count": null,
   "metadata": {},
   "outputs": [],
   "source": [
    "df_gdp"
   ]
  },
  {
   "cell_type": "code",
   "execution_count": null,
   "metadata": {},
   "outputs": [],
   "source": [
    "## à chercher fct melt "
   ]
  },
  {
   "cell_type": "code",
   "execution_count": null,
   "metadata": {},
   "outputs": [],
   "source": [
    "years_cols=[col for col in df_gdp.columns if col.isdigit()]"
   ]
  },
  {
   "cell_type": "code",
   "execution_count": null,
   "metadata": {},
   "outputs": [],
   "source": [
    "df_melted_gdp = pd.melt(df_gdp, id_vars=['NOC'], value_vars=years_cols, var_name='Year', value_name='GDP')\n",
    "\n",
    "# Convertir la colonne Year en type int\n",
    "df_melted_gdp['Year'] = df_melted_gdp['Year'].astype(int)"
   ]
  },
  {
   "cell_type": "code",
   "execution_count": null,
   "metadata": {},
   "outputs": [],
   "source": [
    "df_melted_gdp"
   ]
  },
  {
   "cell_type": "markdown",
   "metadata": {},
   "source": [
    "## Merge avec base données dictionnary "
   ]
  },
  {
   "cell_type": "code",
   "execution_count": null,
   "metadata": {},
   "outputs": [],
   "source": [
    "df_dictionnary=df_dictionnary.drop('PIB/habitant',axis=1)\n",
    "df_dictionnary=df_dictionnary.drop('Population',axis=1)"
   ]
  },
  {
   "cell_type": "code",
   "execution_count": null,
   "metadata": {},
   "outputs": [],
   "source": [
    "df_dictionnary"
   ]
  },
  {
   "cell_type": "markdown",
   "metadata": {},
   "source": [
    "### base données utile pour alimenter en data notre modèle"
   ]
  },
  {
   "cell_type": "code",
   "execution_count": null,
   "metadata": {},
   "outputs": [],
   "source": [
    "df_hist_gdp=pd.merge(df_melted_gdp,df_dictionnary,on='NOC',how='left')"
   ]
  },
  {
   "cell_type": "code",
   "execution_count": null,
   "metadata": {},
   "outputs": [],
   "source": [
    "df_hist_gdp"
   ]
  },
  {
   "cell_type": "markdown",
   "metadata": {},
   "source": [
    "## On va chercher la population des pays dans l'API World Bank depuis tah l'époque"
   ]
  },
  {
   "cell_type": "code",
   "execution_count": null,
   "metadata": {},
   "outputs": [],
   "source": [
    "search_pop=wb.search('population total') "
   ]
  },
  {
   "cell_type": "code",
   "execution_count": null,
   "metadata": {},
   "outputs": [],
   "source": [
    "print(search_pop)"
   ]
  },
  {
   "cell_type": "code",
   "execution_count": null,
   "metadata": {},
   "outputs": [],
   "source": [
    "population=wb.data.DataFrame('SP.POP.TOTL').transpose()"
   ]
  },
  {
   "cell_type": "code",
   "execution_count": null,
   "metadata": {},
   "outputs": [],
   "source": [
    "print(population)"
   ]
  },
  {
   "cell_type": "code",
   "execution_count": null,
   "metadata": {},
   "outputs": [],
   "source": [
    "df_population=pd.DataFrame(population)\n",
    "df_population = df_population.transpose()\n",
    "df_population.columns = [col.strip('YR') for col in df_population.columns]\n",
    "#df_gdp = df_gdp.transpose()\n"
   ]
  },
  {
   "cell_type": "code",
   "execution_count": null,
   "metadata": {},
   "outputs": [],
   "source": [
    "df_population"
   ]
  },
  {
   "cell_type": "code",
   "execution_count": null,
   "metadata": {},
   "outputs": [],
   "source": [
    "df_population=df_population.reset_index(names='NOC')"
   ]
  },
  {
   "cell_type": "code",
   "execution_count": null,
   "metadata": {},
   "outputs": [],
   "source": [
    "df_population"
   ]
  },
  {
   "cell_type": "code",
   "execution_count": null,
   "metadata": {},
   "outputs": [],
   "source": [
    "years_cols=[col for col in df_population.columns if col.isdigit()]\n",
    "df_melted_population = pd.melt(df_population, id_vars=['NOC'], value_vars=years_cols, \n",
    "                               var_name='Year', value_name='Population')\n",
    "\n",
    "# Convertir la colonne Year en type int\n",
    "df_melted_population['Year'] = df_melted_population['Year'].astype(int)"
   ]
  },
  {
   "cell_type": "code",
   "execution_count": null,
   "metadata": {},
   "outputs": [],
   "source": [
    "df_melted_population"
   ]
  },
  {
   "cell_type": "markdown",
   "metadata": {},
   "source": [
    "### Base de données utile pour l'apport en data de notre modèle"
   ]
  },
  {
   "cell_type": "code",
   "execution_count": null,
   "metadata": {},
   "outputs": [],
   "source": [
    "df_hist_pop=pd.merge(df_melted_population,df_dictionnary,on='NOC',how='left')\n",
    "\n"
   ]
  },
  {
   "cell_type": "markdown",
   "metadata": {},
   "source": [
    "## À voir comment on gère les problèmes avec les merge de dataframe "
   ]
  },
  {
   "cell_type": "code",
   "execution_count": null,
   "metadata": {},
   "outputs": [],
   "source": [
    "#test=pd.merge(df_hist_gdp,df_hist_pop,on='Year')\n",
    "\n",
    "#test"
   ]
  },
  {
   "cell_type": "code",
   "execution_count": null,
   "metadata": {},
   "outputs": [],
   "source": []
  }
 ],
 "metadata": {
  "kernelspec": {
   "display_name": "Python 3",
   "language": "python",
   "name": "python3"
  },
  "language_info": {
   "codemirror_mode": {
    "name": "ipython",
    "version": 3
   },
   "file_extension": ".py",
   "mimetype": "text/x-python",
   "name": "python",
   "nbconvert_exporter": "python",
   "pygments_lexer": "ipython3",
   "version": "3.8.8"
  }
 },
 "nbformat": 4,
 "nbformat_minor": 2
}
