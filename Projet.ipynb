{
 "cells": [
  {
   "cell_type": "markdown",
   "metadata": {},
   "source": [
    "## Infos ( à supprimer ensuite)"
   ]
  },
  {
   "cell_type": "markdown",
   "metadata": {},
   "source": [
    "## Variables à ajouter issues des recherches biblio ( à supprimer ensuite)"
   ]
  },
  {
   "cell_type": "markdown",
   "metadata": {},
   "source": [
    "Variable(s): \n",
    "\n",
    "- Population des pays représentés \n",
    "- Variable indiquant si le pays est communiste ou pas \n",
    "- Variable indiquant si le pays est stable ou pas \n",
    "- Variable indiquant si le pays est émergeant ou pas ( otherwise pauvre , riche à peaufiner par la suite) \n",
    "- Variable indiquant si le pays a la culture du sport ou pas. \n",
    "- Variable indiquant le PIB par habitant \n",
    "- Variable indiquant les financements alloués aux sports (olympiques ou pas)\n"
   ]
  },
  {
   "cell_type": "markdown",
   "metadata": {},
   "source": [
    "Il faut créer le train et le test avec des données 2024 , il faut les construire , il faut aussi savoir traiter le fait que cette fois ci la Russie ne sera pas disponible .\n",
    "Faire indice : pays perturbé 1 avec Russie par exemple ou bien on enlève la Russie  (contexte géopolitique simple, on tah les années où j'ai eu un pb )\n",
    "\n",
    "But c'est de prédire le nombre de médailles pour chaque pays , indicateur simple \n",
    "EXTRA POUR AVOIR 20 : Attribuer un poid aux médailles -> pour potentiellement savoir le nb d'or , argent , bronze"
   ]
  },
  {
   "cell_type": "markdown",
   "metadata": {},
   "source": [
    "Attention au COVID 19 , influence public , web scrapping sur 30 ans de tous les pays qui ont organisé les jeux \n",
    "Attention aux pays pas autorisés à concourir \n",
    "Pays en guerre qui envoient moins d'athlètes \n",
    "Ukraine \n",
    "Palestine \n",
    "Iles caiman -> doivent être rattachées à un pays \n",
    "\n",
    "JO hiver \n",
    "JO été Corrélation \n",
    "Apparition des femmes dans les JO ( échantillonnage ) \n",
    "\n",
    "Culture du sport : Comment la créer ? \n",
    "Budget alloué aux sports (investissement , infrastructures ... ) \n",
    "Nb de professionnels \n",
    "Nb de licencés \n",
    "Nb de sports olympiques disponibles à l'école "
   ]
  },
  {
   "cell_type": "markdown",
   "metadata": {},
   "source": [
    "Variable : Pays Communiste ou pas \n",
    "\n",
    "Croissance pays économique \n",
    "\n",
    "Athlète à partir de 25 ans il n'a plus le niveau : on commence à partir de 2000 , JO Sydney \n",
    "\n",
    "Indice dvp des pays à recevoir \n",
    "\n",
    "Variable pays organisateur \n",
    "\n",
    "Sport qui ont des gens avec un âge bien définie (exemple skate Japonais c'est que des jeunes <= 18 ans)\n",
    "\n",
    "Dataset coupes mondes de discipline  \n",
    "    \n",
    "Variable Note selon l'âge \n",
    "\n",
    "Athlète qui sont comptés comme participant à deux pays \n",
    "\n",
    "Variable : religion majoritaire pays \n",
    "\n",
    "Espérance de vie par pays \n",
    "Variable pays dvp ou pas \n",
    "\n",
    "\n",
    "Recupérer données JO 2018 et 2021\n",
    "\n",
    "Variable Poids par Médailles : échelloner les JO de 1 à 10 pour \n",
    "Variable Poids par année : "
   ]
  },
  {
   "cell_type": "markdown",
   "metadata": {},
   "source": [
    "# Introduction  (Business Understanding) "
   ]
  },
  {
   "cell_type": "markdown",
   "metadata": {},
   "source": [
    "## Détermination objectifs métier , analytique du projet \n",
    "\n",
    "\n",
    "Objectifs métiers du projet :\n",
    "\n",
    "Promotion de la performance sportive : Utiliser les données des Jeux olympiques pour améliorer la performance sportive.\n",
    "\n",
    "Optimisation des ressources : Identifier les sports les plus prometteurs pour optimiser les investissements sportifs.\n",
    "\n",
    "Prédiction des tendances : Prédire les performances futures des pays et des athlètes en se basant sur les données historiques.\n",
    "\n",
    "Analyse de la participation : Analyser la participation mondiale aux Jeux olympiques pour identifier les opportunités de croissance.\n",
    "\n",
    "-------\n",
    "Objectifs analytiques du projet :\n",
    "\n",
    "Analyse des performances : Évaluer les performances des pays, des équipes et des athlètes aux Jeux olympiques.\n",
    "\n",
    "Identification des facteurs de réussite : Identifier les clés du succès dans différents sports et disciplines.\n",
    "\n",
    "Visualisation des données : Créer des visualisations interactives pour présenter les tendances et les comparaisons de manière compréhensible.\n",
    "\n",
    "Modélisation prédictive : Développer des modèles prédictifs pour estimer les performances futures."
   ]
  },
  {
   "cell_type": "markdown",
   "metadata": {},
   "source": [
    "## Identifier les contraintes , limites et risque du projet\n",
    "\n",
    "Qualité des données : Les données historiques peuvent être incomplètes ou imprécises.\n",
    "\n",
    "Variabilité des performances : Les performances sportives sont influencées par de nombreux facteurs difficiles à quantifier.\n",
    "\n",
    "Interprétation des résultats : Les résultats doivent être interprétés avec prudence en raison de la subjectivité des performances sportives.\n",
    "\n",
    "Protection des données : Respecter les règles de confidentialité et de protection des données lors de l'analyse des données.\n",
    "\n",
    "Dépendance aux technologies : Le projet dépend de technologies telles que l'analyse de données, la modélisation statistique, etc."
   ]
  },
  {
   "cell_type": "markdown",
   "metadata": {},
   "source": [
    "## Chargement des packages si besoin "
   ]
  },
  {
   "cell_type": "code",
   "execution_count": 1,
   "metadata": {
    "ExecuteTime": {
     "end_time": "2024-04-08T16:44:15.287989Z",
     "start_time": "2024-04-08T16:44:11.603339Z"
    }
   },
   "outputs": [
    {
     "name": "stdout",
     "output_type": "stream",
     "text": [
      "Enabling IPython Memory Usage, use %imu_start to begin, %imu_stop to end\n",
      "Requirement already satisfied: ydata_profiling in /Users/nathanst/opt/anaconda3/lib/python3.9/site-packages (4.6.0)\n",
      "Requirement already satisfied: scipy<1.12,>=1.4.1 in /Users/nathanst/opt/anaconda3/lib/python3.9/site-packages (from ydata_profiling) (1.11.4)\n",
      "Requirement already satisfied: pandas!=1.4.0,<2.1,>1.1 in /Users/nathanst/opt/anaconda3/lib/python3.9/site-packages (from ydata_profiling) (1.5.0)\n",
      "Requirement already satisfied: matplotlib<=3.7.3,>=3.2 in /Users/nathanst/opt/anaconda3/lib/python3.9/site-packages (from ydata_profiling) (3.7.3)\n",
      "Requirement already satisfied: pydantic<2,>=1.8.1 in /Users/nathanst/opt/anaconda3/lib/python3.9/site-packages (from ydata_profiling) (1.10.12)\n",
      "Requirement already satisfied: PyYAML<6.1,>=5.0.0 in /Users/nathanst/opt/anaconda3/lib/python3.9/site-packages (from ydata_profiling) (6.0.1)\n",
      "Requirement already satisfied: jinja2<3.2,>=2.11.1 in /Users/nathanst/opt/anaconda3/lib/python3.9/site-packages (from ydata_profiling) (3.0.3)\n",
      "Requirement already satisfied: visions==0.7.5 in /Users/nathanst/opt/anaconda3/lib/python3.9/site-packages (from visions[type_image_path]==0.7.5->ydata_profiling) (0.7.5)\n",
      "Requirement already satisfied: numpy<1.26,>=1.16.0 in /Users/nathanst/opt/anaconda3/lib/python3.9/site-packages (from ydata_profiling) (1.25.2)\n",
      "Requirement already satisfied: htmlmin==0.1.12 in /Users/nathanst/opt/anaconda3/lib/python3.9/site-packages (from ydata_profiling) (0.1.12)\n",
      "Requirement already satisfied: phik<0.13,>=0.11.1 in /Users/nathanst/opt/anaconda3/lib/python3.9/site-packages (from ydata_profiling) (0.12.4)\n",
      "Requirement already satisfied: requests<3,>=2.24.0 in /Users/nathanst/opt/anaconda3/lib/python3.9/site-packages (from ydata_profiling) (2.31.0)\n",
      "Requirement already satisfied: tqdm<5,>=4.48.2 in /Users/nathanst/opt/anaconda3/lib/python3.9/site-packages (from ydata_profiling) (4.65.0)\n",
      "Requirement already satisfied: seaborn<0.13,>=0.10.1 in /Users/nathanst/opt/anaconda3/lib/python3.9/site-packages (from ydata_profiling) (0.12.2)\n",
      "Requirement already satisfied: multimethod<2,>=1.4 in /Users/nathanst/opt/anaconda3/lib/python3.9/site-packages (from ydata_profiling) (1.11)\n",
      "Requirement already satisfied: statsmodels<1,>=0.13.2 in /Users/nathanst/opt/anaconda3/lib/python3.9/site-packages (from ydata_profiling) (0.14.1)\n",
      "Requirement already satisfied: typeguard<5,>=4.1.2 in /Users/nathanst/opt/anaconda3/lib/python3.9/site-packages (from ydata_profiling) (4.1.5)\n",
      "Requirement already satisfied: imagehash==4.3.1 in /Users/nathanst/opt/anaconda3/lib/python3.9/site-packages (from ydata_profiling) (4.3.1)\n",
      "Requirement already satisfied: wordcloud>=1.9.1 in /Users/nathanst/opt/anaconda3/lib/python3.9/site-packages (from ydata_profiling) (1.9.3)\n",
      "Requirement already satisfied: dacite>=1.8 in /Users/nathanst/opt/anaconda3/lib/python3.9/site-packages (from ydata_profiling) (1.8.1)\n",
      "Requirement already satisfied: numba<0.59.0,>=0.56.0 in /Users/nathanst/opt/anaconda3/lib/python3.9/site-packages (from ydata_profiling) (0.58.1)\n",
      "Requirement already satisfied: PyWavelets in /Users/nathanst/opt/anaconda3/lib/python3.9/site-packages (from imagehash==4.3.1->ydata_profiling) (1.5.0)\n",
      "Requirement already satisfied: pillow in /Users/nathanst/opt/anaconda3/lib/python3.9/site-packages (from imagehash==4.3.1->ydata_profiling) (10.2.0)\n",
      "Requirement already satisfied: attrs>=19.3.0 in /Users/nathanst/opt/anaconda3/lib/python3.9/site-packages (from visions==0.7.5->visions[type_image_path]==0.7.5->ydata_profiling) (23.1.0)\n",
      "Requirement already satisfied: networkx>=2.4 in /Users/nathanst/opt/anaconda3/lib/python3.9/site-packages (from visions==0.7.5->visions[type_image_path]==0.7.5->ydata_profiling) (3.2.1)\n",
      "Requirement already satisfied: tangled-up-in-unicode>=0.0.4 in /Users/nathanst/opt/anaconda3/lib/python3.9/site-packages (from visions==0.7.5->visions[type_image_path]==0.7.5->ydata_profiling) (0.2.0)\n",
      "\u001b[33mWARNING: visions 0.7.5 does not provide the extra 'type-image-path'\u001b[0m\u001b[33m\n",
      "\u001b[0mRequirement already satisfied: MarkupSafe>=2.0 in /Users/nathanst/opt/anaconda3/lib/python3.9/site-packages (from jinja2<3.2,>=2.11.1->ydata_profiling) (2.1.1)\n",
      "Requirement already satisfied: contourpy>=1.0.1 in /Users/nathanst/opt/anaconda3/lib/python3.9/site-packages (from matplotlib<=3.7.3,>=3.2->ydata_profiling) (1.2.0)\n",
      "Requirement already satisfied: cycler>=0.10 in /Users/nathanst/opt/anaconda3/lib/python3.9/site-packages (from matplotlib<=3.7.3,>=3.2->ydata_profiling) (0.12.1)\n",
      "Requirement already satisfied: fonttools>=4.22.0 in /Users/nathanst/opt/anaconda3/lib/python3.9/site-packages (from matplotlib<=3.7.3,>=3.2->ydata_profiling) (4.46.0)\n",
      "Requirement already satisfied: kiwisolver>=1.0.1 in /Users/nathanst/opt/anaconda3/lib/python3.9/site-packages (from matplotlib<=3.7.3,>=3.2->ydata_profiling) (1.4.5)\n",
      "Requirement already satisfied: packaging>=20.0 in /Users/nathanst/opt/anaconda3/lib/python3.9/site-packages (from matplotlib<=3.7.3,>=3.2->ydata_profiling) (23.1)\n",
      "Requirement already satisfied: pyparsing>=2.3.1 in /Users/nathanst/opt/anaconda3/lib/python3.9/site-packages (from matplotlib<=3.7.3,>=3.2->ydata_profiling) (3.1.1)\n",
      "Requirement already satisfied: python-dateutil>=2.7 in /Users/nathanst/opt/anaconda3/lib/python3.9/site-packages (from matplotlib<=3.7.3,>=3.2->ydata_profiling) (2.8.2)\n",
      "Requirement already satisfied: importlib-resources>=3.2.0 in /Users/nathanst/opt/anaconda3/lib/python3.9/site-packages (from matplotlib<=3.7.3,>=3.2->ydata_profiling) (6.1.1)\n",
      "Requirement already satisfied: llvmlite<0.42,>=0.41.0dev0 in /Users/nathanst/opt/anaconda3/lib/python3.9/site-packages (from numba<0.59.0,>=0.56.0->ydata_profiling) (0.41.1)\n",
      "Requirement already satisfied: pytz>=2020.1 in /Users/nathanst/opt/anaconda3/lib/python3.9/site-packages (from pandas!=1.4.0,<2.1,>1.1->ydata_profiling) (2023.3.post1)\n",
      "Requirement already satisfied: joblib>=0.14.1 in /Users/nathanst/opt/anaconda3/lib/python3.9/site-packages (from phik<0.13,>=0.11.1->ydata_profiling) (1.3.2)\n",
      "Requirement already satisfied: typing-extensions>=4.2.0 in /Users/nathanst/opt/anaconda3/lib/python3.9/site-packages (from pydantic<2,>=1.8.1->ydata_profiling) (4.10.0)\n",
      "Requirement already satisfied: charset-normalizer<4,>=2 in /Users/nathanst/opt/anaconda3/lib/python3.9/site-packages (from requests<3,>=2.24.0->ydata_profiling) (2.0.4)\n",
      "Requirement already satisfied: idna<4,>=2.5 in /Users/nathanst/opt/anaconda3/lib/python3.9/site-packages (from requests<3,>=2.24.0->ydata_profiling) (3.4)\n",
      "Requirement already satisfied: urllib3<3,>=1.21.1 in /Users/nathanst/opt/anaconda3/lib/python3.9/site-packages (from requests<3,>=2.24.0->ydata_profiling) (1.26.18)\n",
      "Requirement already satisfied: certifi>=2017.4.17 in /Users/nathanst/opt/anaconda3/lib/python3.9/site-packages (from requests<3,>=2.24.0->ydata_profiling) (2023.7.22)\n",
      "Requirement already satisfied: patsy>=0.5.4 in /Users/nathanst/opt/anaconda3/lib/python3.9/site-packages (from statsmodels<1,>=0.13.2->ydata_profiling) (0.5.6)\n",
      "Requirement already satisfied: importlib-metadata>=3.6 in /Users/nathanst/opt/anaconda3/lib/python3.9/site-packages (from typeguard<5,>=4.1.2->ydata_profiling) (6.0.0)\n",
      "Requirement already satisfied: zipp>=0.5 in /Users/nathanst/opt/anaconda3/lib/python3.9/site-packages (from importlib-metadata>=3.6->typeguard<5,>=4.1.2->ydata_profiling) (3.11.0)\n"
     ]
    },
    {
     "name": "stdout",
     "output_type": "stream",
     "text": [
      "Requirement already satisfied: six in /Users/nathanst/opt/anaconda3/lib/python3.9/site-packages (from patsy>=0.5.4->statsmodels<1,>=0.13.2->ydata_profiling) (1.16.0)\n",
      "In [1] used 205.0 MiB RAM in 5.14s (system mean cpu 0%, single max cpu 0%), peaked 0.0 MiB above final usage, current RAM usage now 272.0 MiB\n"
     ]
    }
   ],
   "source": [
    "%load_ext ipython_memory_usage \n",
    "!pip install ydata_profiling\n",
    "\n",
    "from ydata_profiling import ProfileReport\n",
    "\n",
    "import pandas as pd\n",
    "import numpy as np\n",
    "import ipython_memory_usage.ipython_memory_usage as imu\n",
    "from describe_csv import *  # charge le fichier describe_csv.py par chunk de 10 000 (10**4)\n",
    "\n",
    "import math\n",
    "%matplotlib inline\n",
    "import matplotlib.pyplot as plt\n",
    "from matplotlib.pyplot import *\n",
    "import scipy as sp\n",
    "import scipy.stats\n",
    "from pivottablejs import pivot_ui\n",
    "import seaborn as sns\n",
    "\n",
    "from sklearn.impute import SimpleImputer\n",
    "from sklearn.impute import KNNImputer\n",
    "from sklearn import metrics\n",
    "from sklearn import preprocessing\n",
    "from sklearn.ensemble import RandomForestClassifier\n",
    "from sklearn.model_selection import cross_val_score\n",
    "from sklearn.model_selection import GridSearchCV, RandomizedSearchCV\n",
    "from sklearn.model_selection import train_test_split\n",
    "\n",
    "from sklearn.pipeline import make_pipeline, make_union\n",
    "from sklearn.pipeline import Pipeline, FeatureUnion\n",
    "from sklearn.impute import SimpleImputer\n",
    "from sklearn.compose import ColumnTransformer, make_column_transformer, make_column_selector\n",
    "from sklearn.preprocessing import OneHotEncoder, StandardScaler, RobustScaler\n",
    "from sklearn.preprocessing import FunctionTransformer\n",
    "from sklearn.metrics import accuracy_score\n",
    "from sklearn.ensemble import RandomForestClassifier\n",
    "\n",
    "\n",
    "from bs4 import BeautifulSoup\n",
    "import requests\n",
    "import re\n",
    "import datetime\n",
    "\n",
    "imu.start_watching_memory() "
   ]
  },
  {
   "cell_type": "markdown",
   "metadata": {},
   "source": [
    "# CODE  "
   ]
  },
  {
   "cell_type": "markdown",
   "metadata": {},
   "source": [
    "## Bases de données disponibles "
   ]
  },
  {
   "cell_type": "code",
   "execution_count": 2,
   "metadata": {},
   "outputs": [
    {
     "name": "stdout",
     "output_type": "stream",
     "text": [
      "In [2] used 167.9 MiB RAM in 0.51s (system mean cpu 32%, single max cpu 80%), peaked 0.0 MiB above final usage, current RAM usage now 439.9 MiB\n"
     ]
    }
   ],
   "source": [
    "df_athlete=pd.read_csv('data/athlete_events.csv')\n",
    "df_region=pd.read_csv('data/noc_regions.csv')\n",
    "df_dictionnary=pd.read_csv('data/worldcities.csv', sep=';')"
   ]
  },
  {
   "cell_type": "markdown",
   "metadata": {},
   "source": [
    "#### Pays organisateurs"
   ]
  },
  {
   "cell_type": "code",
   "execution_count": 3,
   "metadata": {},
   "outputs": [
    {
     "name": "stdout",
     "output_type": "stream",
     "text": [
      "In [3] used 4.6 MiB RAM in 1.56s (system mean cpu 11%, single max cpu 100%), peaked 0.0 MiB above final usage, current RAM usage now 444.5 MiB\n"
     ]
    }
   ],
   "source": [
    "# TODO: Changer le nom des variables\n",
    "url='https://www.topendsports.com/events/summer/hosts/list.htm'\n",
    "response=requests.get(url)\n",
    "url_2='https://en.wikipedia.org/wiki/List_of_Olympic_Games_host_cities'\n",
    "\n",
    "response_2=requests.get(url_2)\n",
    "\n",
    "soup_2=BeautifulSoup(response_2.text,'html.parser')"
   ]
  },
  {
   "cell_type": "code",
   "execution_count": 4,
   "metadata": {},
   "outputs": [
    {
     "name": "stdout",
     "output_type": "stream",
     "text": [
      "In [4] used 0.0 MiB RAM in 0.12s (system mean cpu 31%, single max cpu 100%), peaked 0.0 MiB above final usage, current RAM usage now 444.5 MiB\n"
     ]
    }
   ],
   "source": [
    "# TODO: Changer le nom des variables\n",
    "\n",
    "# Récupération des éléments de la page\n",
    "L_pays=[]\n",
    "L_annees=[]\n",
    "elements=soup_2.findAll('span',class_='datasortkey')\n",
    "\n",
    "for element in elements:\n",
    "    pays=element.find('a').text\n",
    "    L_pays.append(pays)\n",
    "\n",
    "L_pays=L_pays[42:58]"
   ]
  },
  {
   "cell_type": "code",
   "execution_count": 5,
   "metadata": {},
   "outputs": [
    {
     "data": {
      "text/plain": [
       "[2000,\n",
       " 2002,\n",
       " 2004,\n",
       " 2006,\n",
       " 2008,\n",
       " 2010,\n",
       " 2012,\n",
       " 2014,\n",
       " 2016,\n",
       " 2018,\n",
       " 2020,\n",
       " 2022,\n",
       " 2024,\n",
       " 2026,\n",
       " 2028,\n",
       " 2032]"
      ]
     },
     "execution_count": 5,
     "metadata": {},
     "output_type": "execute_result"
    },
    {
     "name": "stdout",
     "output_type": "stream",
     "text": [
      "In [5] used 0.0 MiB RAM in 0.10s (system mean cpu 25%, single max cpu 100%), peaked 0.0 MiB above final usage, current RAM usage now 444.5 MiB\n"
     ]
    }
   ],
   "source": [
    "# Itération des années\n",
    "L_annees_2=[2000 + i  for i in range(0,34,2)]\n",
    "L_annees_2.pop(-2)\n",
    "\n",
    "L_annees_2"
   ]
  },
  {
   "cell_type": "code",
   "execution_count": 6,
   "metadata": {},
   "outputs": [
    {
     "data": {
      "text/html": [
       "<div>\n",
       "<style scoped>\n",
       "    .dataframe tbody tr th:only-of-type {\n",
       "        vertical-align: middle;\n",
       "    }\n",
       "\n",
       "    .dataframe tbody tr th {\n",
       "        vertical-align: top;\n",
       "    }\n",
       "\n",
       "    .dataframe thead th {\n",
       "        text-align: right;\n",
       "    }\n",
       "</style>\n",
       "<table border=\"1\" class=\"dataframe\">\n",
       "  <thead>\n",
       "    <tr style=\"text-align: right;\">\n",
       "      <th></th>\n",
       "      <th>Host_country</th>\n",
       "      <th>Year</th>\n",
       "    </tr>\n",
       "  </thead>\n",
       "  <tbody>\n",
       "    <tr>\n",
       "      <th>0</th>\n",
       "      <td>Australia</td>\n",
       "      <td>2000</td>\n",
       "    </tr>\n",
       "    <tr>\n",
       "      <th>1</th>\n",
       "      <td>United States</td>\n",
       "      <td>2002</td>\n",
       "    </tr>\n",
       "    <tr>\n",
       "      <th>2</th>\n",
       "      <td>Greece</td>\n",
       "      <td>2004</td>\n",
       "    </tr>\n",
       "    <tr>\n",
       "      <th>3</th>\n",
       "      <td>Italy</td>\n",
       "      <td>2006</td>\n",
       "    </tr>\n",
       "    <tr>\n",
       "      <th>4</th>\n",
       "      <td>China</td>\n",
       "      <td>2008</td>\n",
       "    </tr>\n",
       "    <tr>\n",
       "      <th>5</th>\n",
       "      <td>Canada</td>\n",
       "      <td>2010</td>\n",
       "    </tr>\n",
       "    <tr>\n",
       "      <th>6</th>\n",
       "      <td>United Kingdom</td>\n",
       "      <td>2012</td>\n",
       "    </tr>\n",
       "    <tr>\n",
       "      <th>7</th>\n",
       "      <td>Russia</td>\n",
       "      <td>2014</td>\n",
       "    </tr>\n",
       "    <tr>\n",
       "      <th>8</th>\n",
       "      <td>Brazil</td>\n",
       "      <td>2016</td>\n",
       "    </tr>\n",
       "    <tr>\n",
       "      <th>9</th>\n",
       "      <td>South Korea</td>\n",
       "      <td>2018</td>\n",
       "    </tr>\n",
       "    <tr>\n",
       "      <th>10</th>\n",
       "      <td>Japan</td>\n",
       "      <td>2020</td>\n",
       "    </tr>\n",
       "    <tr>\n",
       "      <th>11</th>\n",
       "      <td>China</td>\n",
       "      <td>2022</td>\n",
       "    </tr>\n",
       "    <tr>\n",
       "      <th>12</th>\n",
       "      <td>France</td>\n",
       "      <td>2024</td>\n",
       "    </tr>\n",
       "    <tr>\n",
       "      <th>13</th>\n",
       "      <td>Italy</td>\n",
       "      <td>2026</td>\n",
       "    </tr>\n",
       "    <tr>\n",
       "      <th>14</th>\n",
       "      <td>United States</td>\n",
       "      <td>2028</td>\n",
       "    </tr>\n",
       "    <tr>\n",
       "      <th>15</th>\n",
       "      <td>Australia</td>\n",
       "      <td>2032</td>\n",
       "    </tr>\n",
       "  </tbody>\n",
       "</table>\n",
       "</div>"
      ],
      "text/plain": [
       "      Host_country  Year\n",
       "0        Australia  2000\n",
       "1    United States  2002\n",
       "2           Greece  2004\n",
       "3            Italy  2006\n",
       "4            China  2008\n",
       "5           Canada  2010\n",
       "6   United Kingdom  2012\n",
       "7           Russia  2014\n",
       "8           Brazil  2016\n",
       "9      South Korea  2018\n",
       "10           Japan  2020\n",
       "11           China  2022\n",
       "12          France  2024\n",
       "13           Italy  2026\n",
       "14   United States  2028\n",
       "15       Australia  2032"
      ]
     },
     "execution_count": 6,
     "metadata": {},
     "output_type": "execute_result"
    },
    {
     "name": "stdout",
     "output_type": "stream",
     "text": [
      "In [6] used 0.2 MiB RAM in 0.11s (system mean cpu 21%, single max cpu 100%), peaked 0.0 MiB above final usage, current RAM usage now 444.7 MiB\n"
     ]
    }
   ],
   "source": [
    "# On lie les pays et les années\n",
    "\n",
    "L_pays_annee=[]\n",
    "for i in range(len(L_pays)):\n",
    "    L_pays_annee.append((L_pays[i],L_annees_2[i]))\n",
    "\n",
    "df_hote=pd.DataFrame(L_pays_annee,columns=['Host_country','Year'])\n",
    "\n",
    "df_hote"
   ]
  },
  {
   "cell_type": "markdown",
   "metadata": {},
   "source": [
    "#### Pays avec un passé communiste"
   ]
  },
  {
   "cell_type": "code",
   "execution_count": 7,
   "metadata": {},
   "outputs": [
    {
     "name": "stdout",
     "output_type": "stream",
     "text": [
      "In [7] used 1.7 MiB RAM in 0.57s (system mean cpu 12%, single max cpu 100%), peaked 0.0 MiB above final usage, current RAM usage now 446.5 MiB\n"
     ]
    }
   ],
   "source": [
    "url_soviet='https://en.wikipedia.org/wiki/Post-Soviet_states'\n",
    "response_soviet=requests.get(url_soviet)\n",
    "soup_soviet=BeautifulSoup(response_soviet.text,'html.parser')\n",
    "\n",
    "L_pays_soviet=[]\n",
    "\n",
    "pays_soviet=soup_soviet.findAll('b')\n",
    "#print(pays_soviet)\n",
    "for pays in pays_soviet:\n",
    "    b=pays.find('a')\n",
    "    if b is not None:\n",
    "        L_pays_soviet.append(b.text)\n",
    "L_pays_soviet=L_pays_soviet[:15]\n",
    "\n",
    "complete_urss_regime=lambda x : 1 if x in L_pays_soviet else 0"
   ]
  },
  {
   "cell_type": "markdown",
   "metadata": {},
   "source": [
    "#### Scrap population et GDP"
   ]
  },
  {
   "cell_type": "code",
   "execution_count": 8,
   "metadata": {},
   "outputs": [
    {
     "data": {
      "text/plain": [
       "177"
      ]
     },
     "execution_count": 8,
     "metadata": {},
     "output_type": "execute_result"
    },
    {
     "name": "stdout",
     "output_type": "stream",
     "text": [
      "In [8] used 0.8 MiB RAM in 0.82s (system mean cpu 15%, single max cpu 100%), peaked 0.0 MiB above final usage, current RAM usage now 447.3 MiB\n"
     ]
    }
   ],
   "source": [
    "url_pop_gpa='https://www.worldometers.info/gdp/gdp-by-country/'\n",
    "response_pop_gpa=requests.get(url_pop_gpa)\n",
    "soup_pop_gpa=BeautifulSoup(response_pop_gpa.text,'html.parser')\n",
    "\n",
    "L_pays=[]\n",
    "\n",
    "all_countries=soup_pop_gpa.findAll('td')\n",
    "\n",
    "for country in all_countries:\n",
    "    a=country.find('a')\n",
    "    if a is not None:\n",
    "        L_pays.append(a.text)\n",
    "len(L_pays)"
   ]
  },
  {
   "cell_type": "code",
   "execution_count": 9,
   "metadata": {},
   "outputs": [
    {
     "name": "stdout",
     "output_type": "stream",
     "text": [
      "177\n"
     ]
    },
    {
     "data": {
      "text/plain": [
       "[25462700000000,\n",
       " 17963200000000,\n",
       " 4231140000000,\n",
       " 4072190000000,\n",
       " 3385090000000,\n",
       " 3070670000000,\n",
       " 2782910000000,\n",
       " 2240420000000,\n",
       " 2139840000000,\n",
       " 2010430000000,\n",
       " 1920100000000,\n",
       " 1675420000000,\n",
       " 1665250000000,\n",
       " 1414190000000,\n",
       " 1397510000000,\n",
       " 1319100000000,\n",
       " 1108150000000,\n",
       " 991115000000,\n",
       " 905988000000,\n",
       " 807706000000,\n",
       " 688177000000,\n",
       " 632770000000,\n",
       " 585939000000,\n",
       " 579267000000,\n",
       " 578604000000,\n",
       " 529245000000,\n",
       " 522033000000,\n",
       " 507535000000,\n",
       " 495341000000,\n",
       " 477386000000,\n",
       " 476748000000,\n",
       " 471400000000,\n",
       " 466789000000,\n",
       " 460201000000,\n",
       " 408802000000,\n",
       " 406306000000,\n",
       " 405870000000,\n",
       " 404284000000,\n",
       " 395404000000,\n",
       " 388544000000,\n",
       " 376533000000,\n",
       " 359839000000,\n",
       " 343939000000,\n",
       " 301262000000,\n",
       " 301025000000,\n",
       " 290924000000,\n",
       " 280826000000,\n",
       " 264182000000,\n",
       " 251945000000,\n",
       " 247234000000,\n",
       " 242632000000,\n",
       " 237296000000,\n",
       " 220623000000,\n",
       " 219066000000,\n",
       " 191913000000,\n",
       " 184558000000,\n",
       " 178789000000,\n",
       " 160503000000,\n",
       " 134182000000,\n",
       " 126783000000,\n",
       " 115469000000,\n",
       " 115049000000,\n",
       " 114667000000,\n",
       " 113642000000,\n",
       " 113420000000,\n",
       " 106714000000,\n",
       " 95003333381,\n",
       " 89040398406,\n",
       " 82274812251,\n",
       " 80391853885,\n",
       " 78721058824,\n",
       " 76522511781,\n",
       " 75709289056,\n",
       " 74403578363,\n",
       " 72838798788,\n",
       " 72793457588,\n",
       " 71177146197,\n",
       " 70964606465,\n",
       " 70334299008,\n",
       " 70018715017,\n",
       " 68380838316,\n",
       " 63501748652,\n",
       " 62117768015,\n",
       " 59364362541,\n",
       " 58065953573,\n",
       " 51662241775,\n",
       " 47451499859,\n",
       " 46664948952,\n",
       " 45752336036,\n",
       " 45559202049,\n",
       " 44390820479,\n",
       " 44341646509,\n",
       " 43068885673,\n",
       " 41722295362,\n",
       " 41153912663,\n",
       " 40828247302,\n",
       " 38100812959,\n",
       " 32488720000,\n",
       " 31717700115,\n",
       " 30633444295,\n",
       " 29956769529,\n",
       " 29784454056,\n",
       " 28439052741,\n",
       " 27899082337,\n",
       " 27841648044,\n",
       " 27684430244,\n",
       " 24605375420,\n",
       " 24527507288,\n",
       " 21979475561,\n",
       " 21227749389,\n",
       " 21071739228,\n",
       " 20678055598,\n",
       " 20352322157,\n",
       " 20253551885,\n",
       " 19502783988,\n",
       " 19111900000,\n",
       " 18884619613,\n",
       " 18882095518,\n",
       " 18827176532,\n",
       " 17851491428,\n",
       " 17765270015,\n",
       " 17401746309,\n",
       " 17097760745,\n",
       " 16810883361,\n",
       " 16681531646,\n",
       " 15724383783,\n",
       " 15671583878,\n",
       " 15357537068,\n",
       " 14954967604,\n",
       " 14615532210,\n",
       " 14420947884,\n",
       " 13969605583,\n",
       " 13563132057,\n",
       " 13312796765,\n",
       " 13164667627,\n",
       " 12898307089,\n",
       " 12897400000,\n",
       " 12704149842,\n",
       " 12607436976,\n",
       " 11813908448,\n",
       " 10930644915,\n",
       " 10492123388,\n",
       " 10375460680,\n",
       " 8126439481,\n",
       " 6189865408,\n",
       " 6095978868,\n",
       " 5637914515,\n",
       " 4943248200,\n",
       " 4854167638,\n",
       " 4001047150,\n",
       " 3970343852,\n",
       " 3620655116,\n",
       " 3352032737,\n",
       " 3163324631,\n",
       " 3073414678,\n",
       " 2824081836,\n",
       " 2553459763,\n",
       " 2382618615,\n",
       " 2314816792,\n",
       " 2273060863,\n",
       " 2065027556,\n",
       " 1757603704,\n",
       " 1633559092,\n",
       " 1595710784,\n",
       " 1588406479,\n",
       " 1256413185,\n",
       " 1242519407,\n",
       " 983582865,\n",
       " 961563259,\n",
       " 948558503,\n",
       " 832421565,\n",
       " 612048148,\n",
       " 546680342,\n",
       " 427094119,\n",
       " 279667900,\n",
       " 223352943,\n",
       " 60349391]"
      ]
     },
     "execution_count": 9,
     "metadata": {},
     "output_type": "execute_result"
    },
    {
     "name": "stdout",
     "output_type": "stream",
     "text": [
      "In [9] used 0.0 MiB RAM in 0.12s (system mean cpu 17%, single max cpu 100%), peaked 0.0 MiB above final usage, current RAM usage now 447.3 MiB\n"
     ]
    }
   ],
   "source": [
    "all_info=soup_pop_gpa.findAll('td',attrs={'style':'font-weight: bold; text-align:right;'})\n",
    "\n",
    "numbers=[]\n",
    "for i,info in enumerate(all_info):\n",
    "    b=re.findall(r'\\d+\\b', info.text)\n",
    "    b=''.join(b)\n",
    "    numbers.append(b)\n",
    "   \n",
    "population=[]\n",
    "gpd_per_habitant=[]\n",
    "PIB_liste=[]\n",
    "for i in range(0,len(numbers),6):\n",
    "    PIB_liste.append(int(numbers[i]))\n",
    "for i in range(3,len(numbers),6):\n",
    "    population.append(int(numbers[i]))\n",
    "for i in range(4,len(numbers),6):\n",
    "    gpd_per_habitant.append(int(numbers[i]))\n",
    "\n",
    "print(len(PIB_liste))\n",
    "PIB_liste"
   ]
  },
  {
   "cell_type": "code",
   "execution_count": 10,
   "metadata": {},
   "outputs": [
    {
     "data": {
      "text/html": [
       "<div>\n",
       "<style scoped>\n",
       "    .dataframe tbody tr th:only-of-type {\n",
       "        vertical-align: middle;\n",
       "    }\n",
       "\n",
       "    .dataframe tbody tr th {\n",
       "        vertical-align: top;\n",
       "    }\n",
       "\n",
       "    .dataframe thead th {\n",
       "        text-align: right;\n",
       "    }\n",
       "</style>\n",
       "<table border=\"1\" class=\"dataframe\">\n",
       "  <thead>\n",
       "    <tr style=\"text-align: right;\">\n",
       "      <th></th>\n",
       "      <th>Country</th>\n",
       "      <th>PIB</th>\n",
       "      <th>Population</th>\n",
       "      <th>PIB/habitant</th>\n",
       "    </tr>\n",
       "  </thead>\n",
       "  <tbody>\n",
       "    <tr>\n",
       "      <th>0</th>\n",
       "      <td>United States</td>\n",
       "      <td>25462700000000</td>\n",
       "      <td>338289857</td>\n",
       "      <td>75269</td>\n",
       "    </tr>\n",
       "    <tr>\n",
       "      <th>1</th>\n",
       "      <td>China</td>\n",
       "      <td>17963200000000</td>\n",
       "      <td>1425887337</td>\n",
       "      <td>12598</td>\n",
       "    </tr>\n",
       "    <tr>\n",
       "      <th>2</th>\n",
       "      <td>Japan</td>\n",
       "      <td>4231140000000</td>\n",
       "      <td>123951692</td>\n",
       "      <td>34135</td>\n",
       "    </tr>\n",
       "    <tr>\n",
       "      <th>3</th>\n",
       "      <td>Germany</td>\n",
       "      <td>4072190000000</td>\n",
       "      <td>83369843</td>\n",
       "      <td>48845</td>\n",
       "    </tr>\n",
       "    <tr>\n",
       "      <th>4</th>\n",
       "      <td>India</td>\n",
       "      <td>3385090000000</td>\n",
       "      <td>1417173173</td>\n",
       "      <td>2389</td>\n",
       "    </tr>\n",
       "    <tr>\n",
       "      <th>...</th>\n",
       "      <td>...</td>\n",
       "      <td>...</td>\n",
       "      <td>...</td>\n",
       "      <td>...</td>\n",
       "    </tr>\n",
       "    <tr>\n",
       "      <th>172</th>\n",
       "      <td>Sao Tome &amp; Principe</td>\n",
       "      <td>546680342</td>\n",
       "      <td>227380</td>\n",
       "      <td>2404</td>\n",
       "    </tr>\n",
       "    <tr>\n",
       "      <th>173</th>\n",
       "      <td>Micronesia</td>\n",
       "      <td>427094119</td>\n",
       "      <td>539013</td>\n",
       "      <td>792</td>\n",
       "    </tr>\n",
       "    <tr>\n",
       "      <th>174</th>\n",
       "      <td>Marshall Islands</td>\n",
       "      <td>279667900</td>\n",
       "      <td>41569</td>\n",
       "      <td>6728</td>\n",
       "    </tr>\n",
       "    <tr>\n",
       "      <th>175</th>\n",
       "      <td>Kiribati</td>\n",
       "      <td>223352943</td>\n",
       "      <td>131232</td>\n",
       "      <td>1702</td>\n",
       "    </tr>\n",
       "    <tr>\n",
       "      <th>176</th>\n",
       "      <td>Tuvalu</td>\n",
       "      <td>60349391</td>\n",
       "      <td>11312</td>\n",
       "      <td>5335</td>\n",
       "    </tr>\n",
       "  </tbody>\n",
       "</table>\n",
       "<p>177 rows × 4 columns</p>\n",
       "</div>"
      ],
      "text/plain": [
       "                 Country             PIB  Population  PIB/habitant\n",
       "0          United States  25462700000000   338289857         75269\n",
       "1                  China  17963200000000  1425887337         12598\n",
       "2                  Japan   4231140000000   123951692         34135\n",
       "3                Germany   4072190000000    83369843         48845\n",
       "4                  India   3385090000000  1417173173          2389\n",
       "..                   ...             ...         ...           ...\n",
       "172  Sao Tome & Principe       546680342      227380          2404\n",
       "173           Micronesia       427094119      539013           792\n",
       "174     Marshall Islands       279667900       41569          6728\n",
       "175             Kiribati       223352943      131232          1702\n",
       "176               Tuvalu        60349391       11312          5335\n",
       "\n",
       "[177 rows x 4 columns]"
      ]
     },
     "execution_count": 10,
     "metadata": {},
     "output_type": "execute_result"
    },
    {
     "name": "stdout",
     "output_type": "stream",
     "text": [
      "In [10] used 0.2 MiB RAM in 0.11s (system mean cpu 17%, single max cpu 100%), peaked 0.0 MiB above final usage, current RAM usage now 447.5 MiB\n"
     ]
    }
   ],
   "source": [
    "# On replace les pays qui n'ont pas le même nom\n",
    "df_pop_gpd=pd.DataFrame({'Country':L_pays,'PIB':PIB_liste,'Population':population,'PIB/habitant':gpd_per_habitant})\n",
    "\n",
    "df_pop_gpd['Country']=df_pop_gpd['Country'].replace('Trinidad and Tobago','Trinidad')\n",
    "df_pop_gpd['Country']=df_pop_gpd['Country'].replace('State of Palestine','Palestine, Occupied Territories')\n",
    "df_pop_gpd['Country']=df_pop_gpd['Country'].replace('Singapore','Singapour')\n",
    "df_pop_gpd['Country']=df_pop_gpd['Country'].replace('Czech Republic (Czechia)','Czech Republic')\n",
    "df_pop_gpd['Country']=df_pop_gpd['Country'].replace(\"Côte d'Ivoire\" ,\"Cote d'Ivoire\")\n",
    "\n",
    "df_pop_gpd"
   ]
  },
  {
   "cell_type": "code",
   "execution_count": 11,
   "metadata": {},
   "outputs": [
    {
     "name": "stdout",
     "output_type": "stream",
     "text": [
      "In [11] used 0.1 MiB RAM in 0.11s (system mean cpu 17%, single max cpu 100%), peaked 0.0 MiB above final usage, current RAM usage now 447.6 MiB\n"
     ]
    }
   ],
   "source": [
    "# Pays qui manquaient sur le site scrappé, données récupérées manuellement\n",
    "df_pop_gpd=pd.concat([df_pop_gpd,pd.DataFrame([['Taiwan',762670000000,23923276,44460],\n",
    "                                               ['Cook Islands',220000000,17044,13558],\n",
    "                                               ['Eritrea',1960000000,3684000,1067],\n",
    "                                               ['Kosovo',9410000000,1760000,5340],\n",
    "                                               ['Lebanon',23130000000,5425542,4136],\n",
    "                                               ['Netherlands Antilles',3810000000,27148,11400],\n",
    "                                               ['South Sudan',12000000000,11000000,467], \n",
    "                                               ['American Samoa',871000000,43914,19673],\n",
    "                                              ['Aruba',3545000000,106445,333000],\n",
    "                                              ['Bermuda',7645000000,63532,118774],\n",
    "                                               ['British Virgin Islands',1751000000,31707,34246],\n",
    "                                               ['Virgin Islands',4440000000,105413,41974],\n",
    "                                               ['Cayman Islands',6845000000,69310,99624],\n",
    "                                               ['Cuba',633400000000,11179471,56495],\n",
    "                                               ['Guam',6123000000,173825,35904],\n",
    "                                               ['North Korea',48000000000,26070000,33719],\n",
    "                                               ['Liechtenstein',7710000000,39039,197504],\n",
    "                                               ['Monaco',8784000000,39050,240862],\n",
    "                                               ['Puerto Rico',113400000000,3260314,35208],\n",
    "                                               ['San Marino',1855000000,33642,53000],\n",
    "                                               ['Syria',8970000000,22130000,420],\n",
    "                                               ['Venezuela',92000000000,29254044,2624],\n",
    "                                               ['Virgin Islands*',4444000000,105413,41976],\n",
    "                                               ['Afghanistan',14583135237,42239000,363.73],\n",
    "                                               ['Bhutan',2539551327,782455,3560],\n",
    "                                               ['Brunei',16760000000,449000,37152],\n",
    "                                               ['Burma',62260000000,54180000,1149],\n",
    "                                               ['Cape Verde',2227000000,593000,3754],\n",
    "                                               ['Djibouti',3515000000,1121000,3136],\n",
    "                                               [\"East Timor (Timor-Leste)\",3205000000,1341000,2389],\n",
    "                                               ['Macedonia',13560000000,2058000,6591],\n",
    "                                               ['Nauru',151600000,12668,11970],\n",
    "                                               ['Palau',232000000,18055,12921],\n",
    "                                               ['Saint Kitts and Nevis',965000000,47000,20262],\n",
    "                                               ['Saint Vincent and the Grenadines',948000000,9123,9125],\n",
    "                                               ['Sao Tome and Principe',542000000,227380,2386],\n",
    "                                               ['Somalia',10042000000,17000000,592],\n",
    "                                               ['Swaziland',4791000000,1202000,3986],\n",
    "                                               ['Tonga',469000000,106858,4425],\n",
    "                                               ['Turkmenistan',56540000000,6431000,8792],\n",
    "                                               ['Yemen',21160000000,33700000,650]\n",
    "                                               ],\n",
    "                                             columns=['Country','PIB','Population','PIB/habitant'])],ignore_index=True)"
   ]
  },
  {
   "cell_type": "code",
   "execution_count": 12,
   "metadata": {},
   "outputs": [
    {
     "data": {
      "text/plain": [
       "{'United States': 25462700000000,\n",
       " 'China': 17963200000000,\n",
       " 'Japan': 4231140000000,\n",
       " 'Germany': 4072190000000,\n",
       " 'India': 3385090000000,\n",
       " 'United Kingdom': 3070670000000,\n",
       " 'France': 2782910000000,\n",
       " 'Russia': 2240420000000,\n",
       " 'Canada': 2139840000000,\n",
       " 'Italy': 2010430000000,\n",
       " 'Brazil': 1920100000000,\n",
       " 'Australia': 1675420000000,\n",
       " 'South Korea': 1665250000000,\n",
       " 'Mexico': 1414190000000,\n",
       " 'Spain': 1397510000000,\n",
       " 'Indonesia': 1319100000000,\n",
       " 'Saudi Arabia': 1108150000000,\n",
       " 'Netherlands': 991115000000,\n",
       " 'Turkey': 905988000000,\n",
       " 'Switzerland': 807706000000,\n",
       " 'Poland': 688177000000,\n",
       " 'Argentina': 632770000000,\n",
       " 'Sweden': 585939000000,\n",
       " 'Norway': 579267000000,\n",
       " 'Belgium': 578604000000,\n",
       " 'Ireland': 529245000000,\n",
       " 'Israel': 522033000000,\n",
       " 'United Arab Emirates': 507535000000,\n",
       " 'Thailand': 495341000000,\n",
       " 'Nigeria': 477386000000,\n",
       " 'Egypt': 476748000000,\n",
       " 'Austria': 471400000000,\n",
       " 'Singapour': 466789000000,\n",
       " 'Bangladesh': 460201000000,\n",
       " 'Vietnam': 408802000000,\n",
       " 'Malaysia': 406306000000,\n",
       " 'South Africa': 405870000000,\n",
       " 'Philippines': 404284000000,\n",
       " 'Denmark': 395404000000,\n",
       " 'Iran': 388544000000,\n",
       " 'Pakistan': 376533000000,\n",
       " 'Hong Kong': 359839000000,\n",
       " 'Colombia': 343939000000,\n",
       " 'Romania': 301262000000,\n",
       " 'Chile': 301025000000,\n",
       " 'Czech Republic': 290924000000,\n",
       " 'Finland': 280826000000,\n",
       " 'Iraq': 264182000000,\n",
       " 'Portugal': 251945000000,\n",
       " 'New Zealand': 247234000000,\n",
       " 'Peru': 242632000000,\n",
       " 'Qatar': 237296000000,\n",
       " 'Kazakhstan': 220623000000,\n",
       " 'Greece': 219066000000,\n",
       " 'Algeria': 191913000000,\n",
       " 'Kuwait': 184558000000,\n",
       " 'Hungary': 178789000000,\n",
       " 'Ukraine': 160503000000,\n",
       " 'Morocco': 134182000000,\n",
       " 'Ethiopia': 126783000000,\n",
       " 'Slovakia': 115469000000,\n",
       " 'Ecuador': 115049000000,\n",
       " 'Oman': 114667000000,\n",
       " 'Dominican Republic': 113642000000,\n",
       " 'Kenya': 113420000000,\n",
       " 'Angola': 106714000000,\n",
       " 'Guatemala': 95003333381,\n",
       " 'Bulgaria': 89040398406,\n",
       " 'Luxembourg': 82274812251,\n",
       " 'Uzbekistan': 80391853885,\n",
       " 'Azerbaijan': 78721058824,\n",
       " 'Panama': 76522511781,\n",
       " 'Tanzania': 75709289056,\n",
       " 'Sri Lanka': 74403578363,\n",
       " 'Ghana': 72838798788,\n",
       " 'Belarus': 72793457588,\n",
       " 'Uruguay': 71177146197,\n",
       " 'Croatia': 70964606465,\n",
       " 'Lithuania': 70334299008,\n",
       " \"Cote d'Ivoire\": 70018715017,\n",
       " 'Costa Rica': 68380838316,\n",
       " 'Serbia': 63501748652,\n",
       " 'Slovenia': 62117768015,\n",
       " 'Myanmar': 59364362541,\n",
       " 'DR Congo': 58065953573,\n",
       " 'Sudan': 51662241775,\n",
       " 'Jordan': 47451499859,\n",
       " 'Tunisia': 46664948952,\n",
       " 'Libya': 45752336036,\n",
       " 'Uganda': 45559202049,\n",
       " 'Bahrain': 44390820479,\n",
       " 'Cameroon': 44341646509,\n",
       " 'Bolivia': 43068885673,\n",
       " 'Paraguay': 41722295362,\n",
       " 'Latvia': 41153912663,\n",
       " 'Nepal': 40828247302,\n",
       " 'Estonia': 38100812959,\n",
       " 'El Salvador': 32488720000,\n",
       " 'Honduras': 31717700115,\n",
       " 'Papua New Guinea': 30633444295,\n",
       " 'Cambodia': 29956769529,\n",
       " 'Zambia': 29784454056,\n",
       " 'Cyprus': 28439052741,\n",
       " 'Trinidad': 27899082337,\n",
       " 'Iceland': 27841648044,\n",
       " 'Senegal': 27684430244,\n",
       " 'Georgia': 24605375420,\n",
       " 'Bosnia and Herzegovina': 24527507288,\n",
       " 'Macao': 21979475561,\n",
       " 'Guinea': 21227749389,\n",
       " 'Gabon': 21071739228,\n",
       " 'Zimbabwe': 20678055598,\n",
       " 'Botswana': 20352322157,\n",
       " 'Haiti': 20253551885,\n",
       " 'Armenia': 19502783988,\n",
       " 'Palestine, Occupied Territories': 19111900000,\n",
       " 'Burkina Faso': 18884619613,\n",
       " 'Albania': 18882095518,\n",
       " 'Mali': 18827176532,\n",
       " 'Mozambique': 17851491428,\n",
       " 'Malta': 17765270015,\n",
       " 'Benin': 17401746309,\n",
       " 'Jamaica': 17097760745,\n",
       " 'Mongolia': 16810883361,\n",
       " 'Brunei ': 16681531646,\n",
       " 'Laos': 15724383783,\n",
       " 'Nicaragua': 15671583878,\n",
       " 'Guyana': 15357537068,\n",
       " 'Madagascar': 14954967604,\n",
       " 'Congo': 14615532210,\n",
       " 'Moldova': 14420947884,\n",
       " 'Niger': 13969605583,\n",
       " 'North Macedonia': 13563132057,\n",
       " 'Rwanda': 13312796765,\n",
       " 'Malawi': 13164667627,\n",
       " 'Mauritius': 12898307089,\n",
       " 'Bahamas': 12897400000,\n",
       " 'Chad': 12704149842,\n",
       " 'Namibia': 12607436976,\n",
       " 'Equatorial Guinea': 11813908448,\n",
       " 'Kyrgyzstan': 10930644915,\n",
       " 'Tajikistan': 10492123388,\n",
       " 'Mauritania': 10375460680,\n",
       " 'Togo': 8126439481,\n",
       " 'Maldives': 6189865408,\n",
       " 'Montenegro': 6095978868,\n",
       " 'Barbados': 5637914515,\n",
       " 'Fiji': 4943248200,\n",
       " 'Eswatini': 4854167638,\n",
       " 'Liberia': 4001047150,\n",
       " 'Sierra Leone': 3970343852,\n",
       " 'Suriname': 3620655116,\n",
       " 'Andorra': 3352032737,\n",
       " 'Timor-Leste': 3163324631,\n",
       " 'Burundi': 3073414678,\n",
       " 'Belize': 2824081836,\n",
       " 'Lesotho': 2553459763,\n",
       " 'Central African Republic': 2382618615,\n",
       " 'Cabo Verde': 2314816792,\n",
       " 'Gambia': 2273060863,\n",
       " 'Saint Lucia': 2065027556,\n",
       " 'Antigua and Barbuda': 1757603704,\n",
       " 'Guinea-Bissau': 1633559092,\n",
       " 'Solomon Islands': 1595710784,\n",
       " 'Seychelles': 1588406479,\n",
       " 'Grenada': 1256413185,\n",
       " 'Comoros': 1242519407,\n",
       " 'Vanuatu': 983582865,\n",
       " 'Saint Kitts & Nevis': 961563259,\n",
       " 'St. Vincent & Grenadines': 948558503,\n",
       " 'Samoa': 832421565,\n",
       " 'Dominica': 612048148,\n",
       " 'Sao Tome & Principe': 546680342,\n",
       " 'Micronesia': 427094119,\n",
       " 'Marshall Islands': 279667900,\n",
       " 'Kiribati': 223352943,\n",
       " 'Tuvalu': 60349391,\n",
       " 'Taiwan': 762670000000,\n",
       " 'Cook Islands': 220000000,\n",
       " 'Eritrea': 1960000000,\n",
       " 'Kosovo': 9410000000,\n",
       " 'Lebanon': 23130000000,\n",
       " 'Netherlands Antilles': 3810000000,\n",
       " 'South Sudan': 12000000000,\n",
       " 'American Samoa': 871000000,\n",
       " 'Aruba': 3545000000,\n",
       " 'Bermuda': 7645000000,\n",
       " 'British Virgin Islands': 1751000000,\n",
       " 'Virgin Islands': 4440000000,\n",
       " 'Cayman Islands': 6845000000,\n",
       " 'Cuba': 633400000000,\n",
       " 'Guam': 6123000000,\n",
       " 'North Korea': 48000000000,\n",
       " 'Liechtenstein': 7710000000,\n",
       " 'Monaco': 8784000000,\n",
       " 'Puerto Rico': 113400000000,\n",
       " 'San Marino': 1855000000,\n",
       " 'Syria': 8970000000,\n",
       " 'Venezuela': 92000000000,\n",
       " 'Virgin Islands*': 4444000000,\n",
       " 'Afghanistan': 14583135237,\n",
       " 'Bhutan': 2539551327,\n",
       " 'Brunei': 16760000000,\n",
       " 'Burma': 62260000000,\n",
       " 'Cape Verde': 2227000000,\n",
       " 'Djibouti': 3515000000,\n",
       " 'East Timor (Timor-Leste)': 3205000000,\n",
       " 'Macedonia': 13560000000,\n",
       " 'Nauru': 151600000,\n",
       " 'Palau': 232000000,\n",
       " 'Saint Kitts and Nevis': 965000000,\n",
       " 'Saint Vincent and the Grenadines': 948000000,\n",
       " 'Sao Tome and Principe': 542000000,\n",
       " 'Somalia': 10042000000,\n",
       " 'Swaziland': 4791000000,\n",
       " 'Tonga': 469000000,\n",
       " 'Turkmenistan': 56540000000,\n",
       " 'Yemen': 21160000000}"
      ]
     },
     "execution_count": 12,
     "metadata": {},
     "output_type": "execute_result"
    },
    {
     "name": "stdout",
     "output_type": "stream",
     "text": [
      "In [12] used 0.0 MiB RAM in 0.11s (system mean cpu 18%, single max cpu 100%), peaked 0.0 MiB above final usage, current RAM usage now 447.6 MiB\n"
     ]
    }
   ],
   "source": [
    "## Dictionnaire pour remplir les valeurs NaN de Pop et PIB sans changer les valeurs de pop et PIB per habitant précédentes\n",
    "dictio_pop_gpd=dict(zip(df_pop_gpd['Country'],df_pop_gpd['PIB']))\n",
    "\n",
    "dictio_pop_gpd"
   ]
  },
  {
   "cell_type": "markdown",
   "metadata": {},
   "source": [
    "#### JO de Tokyo"
   ]
  },
  {
   "cell_type": "markdown",
   "metadata": {},
   "source": [
    "Pour les jeux de 2020 (été, Tokyo), nous avons trouvé le dataset suivant : https://www.kaggle.com/datasets/piterfm/tokyo-2020-olympics. Après téléchargement des différents datasets, nous le plaçons dans `./data/additionnal/tokyo2020`"
   ]
  },
  {
   "cell_type": "code",
   "execution_count": 13,
   "metadata": {},
   "outputs": [
    {
     "name": "stdout",
     "output_type": "stream",
     "text": [
      "In [13] used 5.1 MiB RAM in 0.14s (system mean cpu 22%, single max cpu 100%), peaked 0.0 MiB above final usage, current RAM usage now 452.6 MiB\n"
     ]
    }
   ],
   "source": [
    "# Chargement des données\n",
    "df_tokyo_athletes = pd.read_csv('data/additionnal/tokyo2020/athletes.csv')\n",
    "df_tokyo_medals_total = pd.read_csv('data/additionnal/tokyo2020/medals_total.csv')\n",
    "df_tokyo_medals = pd.read_csv('data/additionnal/tokyo2020/medals.csv')"
   ]
  },
  {
   "cell_type": "code",
   "execution_count": 14,
   "metadata": {},
   "outputs": [
    {
     "name": "stdout",
     "output_type": "stream",
     "text": [
      "In [14] used 4.9 MiB RAM in 0.15s (system mean cpu 22%, single max cpu 100%), peaked 0.0 MiB above final usage, current RAM usage now 457.6 MiB\n"
     ]
    }
   ],
   "source": [
    "# Création d'un dataframe avec les même colonnes que df_athlete\n",
    "df_complete_tokyo2020 = pd.DataFrame(columns=df_athlete.columns)\n",
    "\n",
    "# On s'assure qu'il n'y a pas de doublons\n",
    "df_tokyo_athletes.drop_duplicates(inplace=True)\n",
    "\n",
    "df_merged_bis = pd.merge(df_tokyo_athletes, df_tokyo_medals, how='left', left_on=['name', 'discipline_code'], right_on=['athlete_name', 'discipline_code'])"
   ]
  },
  {
   "cell_type": "code",
   "execution_count": 15,
   "metadata": {},
   "outputs": [
    {
     "name": "stdout",
     "output_type": "stream",
     "text": [
      "In [15] used 6.6 MiB RAM in 0.61s (system mean cpu 20%, single max cpu 100%), peaked 0.0 MiB above final usage, current RAM usage now 464.1 MiB\n"
     ]
    }
   ],
   "source": [
    "athletes_to_be_added = []\n",
    "# Itération dans df_tokyo_athletes pour ajouter dans athletes_to_be_added, qui sera ensuite ajouté au dataframe df_complete_tokyo2020\n",
    "\n",
    "for index, row in df_tokyo_athletes.iterrows():\n",
    "    athlete_name = row['name']\n",
    "    athlete_sex = str(row['gender'])[0] if type(row['gender'] != float) else np.nan\n",
    "    athlete_age = (2021 - datetime.date.fromisoformat(str(row['birth_date'])).year) if (type(row['birth_date'] == str) and str(row['birth_date']).lower() != 'nan' ) else np.nan\n",
    "    athlete_height_in_m = (int(float(row['height_m/ft'].split('/')[0]) *100)) if (type(row['height_m/ft']) != float) else np.nan\n",
    "    athlete_team = row['country']\n",
    "    athlete_noc = row['country_code']\n",
    "    athlete_games = 'Tokyo 2020'\n",
    "    athlete_year = 2020\n",
    "    athlete_season = 'Summer'\n",
    "    athlete_city = 'Tokyo'\n",
    "    athlete_discipline = row['discipline']\n",
    "    athletes_to_be_added.append({\n",
    "        'Name': athlete_name,\n",
    "        'Sex': athlete_sex, \n",
    "        'Age': athlete_age,\n",
    "        'Height': athlete_height_in_m,\n",
    "        'Team': athlete_team,\n",
    "        'NOC': athlete_noc,\n",
    "        'Games': athlete_games,\n",
    "        'Year': athlete_year,\n",
    "        'Season': athlete_season,\n",
    "        'City': athlete_city,\n",
    "        'Sport': athlete_discipline,\n",
    "    })\n",
    "\n",
    "df_complete_tokyo2020 = df_complete_tokyo2020.from_records(athletes_to_be_added)"
   ]
  },
  {
   "cell_type": "code",
   "execution_count": 16,
   "metadata": {},
   "outputs": [
    {
     "name": "stdout",
     "output_type": "stream",
     "text": [
      "In [16] used 2.0 MiB RAM in 0.14s (system mean cpu 15%, single max cpu 100%), peaked 0.0 MiB above final usage, current RAM usage now 466.1 MiB\n"
     ]
    }
   ],
   "source": [
    "# On effectue une jointure droite entre les deux dataframes, de manière à conserver seulement les athlètes avec différentes médailles dans différentes disciplines\n",
    "df_merged = pd.merge(df_complete_tokyo2020, df_tokyo_medals, left_on=['Name', 'Sport'], right_on=['athlete_name', 'discipline'], how='left')\n",
    "df_merged.drop(columns=['medal_code', 'medal_date', 'athlete_short_name',\n",
    "       'athlete_name', 'athlete_sex', 'athlete_link', 'country_code',\n",
    "       'discipline_code', 'country', 'discipline'], inplace=True)\n",
    "\n",
    "df_merged.drop_duplicates(inplace=True)\n",
    "\n",
    "df_merged['medal_type'] = df_merged['medal_type'].apply(lambda x: x.replace('Medal', '').strip() if type(x) != float else x)\n",
    "df_merged.rename(columns={'medal_type': 'Medal', 'event': 'Event'}, inplace=True)"
   ]
  },
  {
   "cell_type": "code",
   "execution_count": 17,
   "metadata": {},
   "outputs": [
    {
     "data": {
      "text/html": [
       "<div>\n",
       "<style scoped>\n",
       "    .dataframe tbody tr th:only-of-type {\n",
       "        vertical-align: middle;\n",
       "    }\n",
       "\n",
       "    .dataframe tbody tr th {\n",
       "        vertical-align: top;\n",
       "    }\n",
       "\n",
       "    .dataframe thead th {\n",
       "        text-align: right;\n",
       "    }\n",
       "</style>\n",
       "<table border=\"1\" class=\"dataframe\">\n",
       "  <thead>\n",
       "    <tr style=\"text-align: right;\">\n",
       "      <th></th>\n",
       "      <th>Name</th>\n",
       "      <th>Sex</th>\n",
       "      <th>Age</th>\n",
       "      <th>Height</th>\n",
       "      <th>Team</th>\n",
       "      <th>NOC</th>\n",
       "      <th>Games</th>\n",
       "      <th>Year</th>\n",
       "      <th>Season</th>\n",
       "      <th>City</th>\n",
       "      <th>Sport</th>\n",
       "      <th>Medal</th>\n",
       "      <th>Event</th>\n",
       "    </tr>\n",
       "  </thead>\n",
       "  <tbody>\n",
       "    <tr>\n",
       "      <th>0</th>\n",
       "      <td>AALERUD Katrine</td>\n",
       "      <td>F</td>\n",
       "      <td>27.0</td>\n",
       "      <td>NaN</td>\n",
       "      <td>Norway</td>\n",
       "      <td>NOR</td>\n",
       "      <td>Tokyo 2020</td>\n",
       "      <td>2020</td>\n",
       "      <td>Summer</td>\n",
       "      <td>Tokyo</td>\n",
       "      <td>Cycling Road</td>\n",
       "      <td>NaN</td>\n",
       "      <td>NaN</td>\n",
       "    </tr>\n",
       "    <tr>\n",
       "      <th>1</th>\n",
       "      <td>ABAD Nestor</td>\n",
       "      <td>M</td>\n",
       "      <td>28.0</td>\n",
       "      <td>165.0</td>\n",
       "      <td>Spain</td>\n",
       "      <td>ESP</td>\n",
       "      <td>Tokyo 2020</td>\n",
       "      <td>2020</td>\n",
       "      <td>Summer</td>\n",
       "      <td>Tokyo</td>\n",
       "      <td>Artistic Gymnastics</td>\n",
       "      <td>NaN</td>\n",
       "      <td>NaN</td>\n",
       "    </tr>\n",
       "    <tr>\n",
       "      <th>2</th>\n",
       "      <td>ABAGNALE Giovanni</td>\n",
       "      <td>M</td>\n",
       "      <td>26.0</td>\n",
       "      <td>198.0</td>\n",
       "      <td>Italy</td>\n",
       "      <td>ITA</td>\n",
       "      <td>Tokyo 2020</td>\n",
       "      <td>2020</td>\n",
       "      <td>Summer</td>\n",
       "      <td>Tokyo</td>\n",
       "      <td>Rowing</td>\n",
       "      <td>NaN</td>\n",
       "      <td>NaN</td>\n",
       "    </tr>\n",
       "    <tr>\n",
       "      <th>3</th>\n",
       "      <td>ABALDE Alberto</td>\n",
       "      <td>M</td>\n",
       "      <td>26.0</td>\n",
       "      <td>200.0</td>\n",
       "      <td>Spain</td>\n",
       "      <td>ESP</td>\n",
       "      <td>Tokyo 2020</td>\n",
       "      <td>2020</td>\n",
       "      <td>Summer</td>\n",
       "      <td>Tokyo</td>\n",
       "      <td>Basketball</td>\n",
       "      <td>NaN</td>\n",
       "      <td>NaN</td>\n",
       "    </tr>\n",
       "    <tr>\n",
       "      <th>4</th>\n",
       "      <td>ABALDE Tamara</td>\n",
       "      <td>F</td>\n",
       "      <td>32.0</td>\n",
       "      <td>192.0</td>\n",
       "      <td>Spain</td>\n",
       "      <td>ESP</td>\n",
       "      <td>Tokyo 2020</td>\n",
       "      <td>2020</td>\n",
       "      <td>Summer</td>\n",
       "      <td>Tokyo</td>\n",
       "      <td>Basketball</td>\n",
       "      <td>NaN</td>\n",
       "      <td>NaN</td>\n",
       "    </tr>\n",
       "    <tr>\n",
       "      <th>...</th>\n",
       "      <td>...</td>\n",
       "      <td>...</td>\n",
       "      <td>...</td>\n",
       "      <td>...</td>\n",
       "      <td>...</td>\n",
       "      <td>...</td>\n",
       "      <td>...</td>\n",
       "      <td>...</td>\n",
       "      <td>...</td>\n",
       "      <td>...</td>\n",
       "      <td>...</td>\n",
       "      <td>...</td>\n",
       "      <td>...</td>\n",
       "    </tr>\n",
       "    <tr>\n",
       "      <th>11876</th>\n",
       "      <td>ZWICKER Martin Detlef</td>\n",
       "      <td>M</td>\n",
       "      <td>34.0</td>\n",
       "      <td>176.0</td>\n",
       "      <td>Germany</td>\n",
       "      <td>GER</td>\n",
       "      <td>Tokyo 2020</td>\n",
       "      <td>2020</td>\n",
       "      <td>Summer</td>\n",
       "      <td>Tokyo</td>\n",
       "      <td>Hockey</td>\n",
       "      <td>NaN</td>\n",
       "      <td>NaN</td>\n",
       "    </tr>\n",
       "    <tr>\n",
       "      <th>11877</th>\n",
       "      <td>ZWOLINSKA Klaudia</td>\n",
       "      <td>F</td>\n",
       "      <td>23.0</td>\n",
       "      <td>NaN</td>\n",
       "      <td>Poland</td>\n",
       "      <td>POL</td>\n",
       "      <td>Tokyo 2020</td>\n",
       "      <td>2020</td>\n",
       "      <td>Summer</td>\n",
       "      <td>Tokyo</td>\n",
       "      <td>Canoe Slalom</td>\n",
       "      <td>NaN</td>\n",
       "      <td>NaN</td>\n",
       "    </tr>\n",
       "    <tr>\n",
       "      <th>11878</th>\n",
       "      <td>ZYKOVA Yulia</td>\n",
       "      <td>F</td>\n",
       "      <td>26.0</td>\n",
       "      <td>NaN</td>\n",
       "      <td>ROC</td>\n",
       "      <td>ROC</td>\n",
       "      <td>Tokyo 2020</td>\n",
       "      <td>2020</td>\n",
       "      <td>Summer</td>\n",
       "      <td>Tokyo</td>\n",
       "      <td>Shooting</td>\n",
       "      <td>Silver</td>\n",
       "      <td>50m Rifle 3 Positions Women</td>\n",
       "    </tr>\n",
       "    <tr>\n",
       "      <th>11879</th>\n",
       "      <td>ZYUZINA Ekaterina</td>\n",
       "      <td>F</td>\n",
       "      <td>25.0</td>\n",
       "      <td>NaN</td>\n",
       "      <td>ROC</td>\n",
       "      <td>ROC</td>\n",
       "      <td>Tokyo 2020</td>\n",
       "      <td>2020</td>\n",
       "      <td>Summer</td>\n",
       "      <td>Tokyo</td>\n",
       "      <td>Sailing</td>\n",
       "      <td>NaN</td>\n",
       "      <td>NaN</td>\n",
       "    </tr>\n",
       "    <tr>\n",
       "      <th>11880</th>\n",
       "      <td>ZYZANSKA Sylwia</td>\n",
       "      <td>F</td>\n",
       "      <td>24.0</td>\n",
       "      <td>NaN</td>\n",
       "      <td>Poland</td>\n",
       "      <td>POL</td>\n",
       "      <td>Tokyo 2020</td>\n",
       "      <td>2020</td>\n",
       "      <td>Summer</td>\n",
       "      <td>Tokyo</td>\n",
       "      <td>Archery</td>\n",
       "      <td>NaN</td>\n",
       "      <td>NaN</td>\n",
       "    </tr>\n",
       "  </tbody>\n",
       "</table>\n",
       "<p>11881 rows × 13 columns</p>\n",
       "</div>"
      ],
      "text/plain": [
       "                        Name Sex   Age  Height     Team  NOC       Games  \\\n",
       "0            AALERUD Katrine   F  27.0     NaN   Norway  NOR  Tokyo 2020   \n",
       "1                ABAD Nestor   M  28.0   165.0    Spain  ESP  Tokyo 2020   \n",
       "2          ABAGNALE Giovanni   M  26.0   198.0    Italy  ITA  Tokyo 2020   \n",
       "3             ABALDE Alberto   M  26.0   200.0    Spain  ESP  Tokyo 2020   \n",
       "4              ABALDE Tamara   F  32.0   192.0    Spain  ESP  Tokyo 2020   \n",
       "...                      ...  ..   ...     ...      ...  ...         ...   \n",
       "11876  ZWICKER Martin Detlef   M  34.0   176.0  Germany  GER  Tokyo 2020   \n",
       "11877      ZWOLINSKA Klaudia   F  23.0     NaN   Poland  POL  Tokyo 2020   \n",
       "11878           ZYKOVA Yulia   F  26.0     NaN      ROC  ROC  Tokyo 2020   \n",
       "11879      ZYUZINA Ekaterina   F  25.0     NaN      ROC  ROC  Tokyo 2020   \n",
       "11880        ZYZANSKA Sylwia   F  24.0     NaN   Poland  POL  Tokyo 2020   \n",
       "\n",
       "       Year  Season   City                Sport   Medal  \\\n",
       "0      2020  Summer  Tokyo         Cycling Road     NaN   \n",
       "1      2020  Summer  Tokyo  Artistic Gymnastics     NaN   \n",
       "2      2020  Summer  Tokyo               Rowing     NaN   \n",
       "3      2020  Summer  Tokyo           Basketball     NaN   \n",
       "4      2020  Summer  Tokyo           Basketball     NaN   \n",
       "...     ...     ...    ...                  ...     ...   \n",
       "11876  2020  Summer  Tokyo               Hockey     NaN   \n",
       "11877  2020  Summer  Tokyo         Canoe Slalom     NaN   \n",
       "11878  2020  Summer  Tokyo             Shooting  Silver   \n",
       "11879  2020  Summer  Tokyo              Sailing     NaN   \n",
       "11880  2020  Summer  Tokyo              Archery     NaN   \n",
       "\n",
       "                             Event  \n",
       "0                              NaN  \n",
       "1                              NaN  \n",
       "2                              NaN  \n",
       "3                              NaN  \n",
       "4                              NaN  \n",
       "...                            ...  \n",
       "11876                          NaN  \n",
       "11877                          NaN  \n",
       "11878  50m Rifle 3 Positions Women  \n",
       "11879                          NaN  \n",
       "11880                          NaN  \n",
       "\n",
       "[11881 rows x 13 columns]"
      ]
     },
     "execution_count": 17,
     "metadata": {},
     "output_type": "execute_result"
    },
    {
     "name": "stdout",
     "output_type": "stream",
     "text": [
      "In [17] used 0.1 MiB RAM in 0.12s (system mean cpu 16%, single max cpu 100%), peaked 0.0 MiB above final usage, current RAM usage now 466.2 MiB\n"
     ]
    }
   ],
   "source": [
    "# On récupère le nom des médaillés seulement, pour les retirer du dataframe final (qui ne contient pas encore les médailles obtenues par les athlètes), avant de fusionner\n",
    "# le dataframe des médaillés seulement et celui des athlètes sans médailles\n",
    "medailles_seulement = df_merged.Name.unique()\n",
    "df_complete_tokyo2020.drop(df_complete_tokyo2020[df_complete_tokyo2020['Name'].isin(medailles_seulement)].index, inplace=True)\n",
    "df_complete_tokyo2020 = pd.concat([df_complete_tokyo2020, df_merged])\n",
    "df_complete_tokyo2020"
   ]
  },
  {
   "cell_type": "code",
   "execution_count": 18,
   "metadata": {},
   "outputs": [
    {
     "name": "stdout",
     "output_type": "stream",
     "text": [
      "In [18] used 0.0 MiB RAM in 0.11s (system mean cpu 11%, single max cpu 100%), peaked 0.0 MiB above final usage, current RAM usage now 466.2 MiB\n"
     ]
    }
   ],
   "source": [
    "# On remplace les valeurs 'n' en NaN pour le sexe\n",
    "df_complete_tokyo2020['Sex'] = df_complete_tokyo2020['Sex'].apply(lambda x: np.NAN if x == 'n' else x)"
   ]
  },
  {
   "cell_type": "code",
   "execution_count": 19,
   "metadata": {},
   "outputs": [
    {
     "name": "stdout",
     "output_type": "stream",
     "text": [
      "In [19] used 42.0 MiB RAM in 0.15s (system mean cpu 14%, single max cpu 100%), peaked 0.0 MiB above final usage, current RAM usage now 508.2 MiB\n"
     ]
    }
   ],
   "source": [
    "# On merge avec df_athlete\n",
    "df_athlete = pd.concat([df_athlete,df_complete_tokyo2020 ])"
   ]
  },
  {
   "cell_type": "markdown",
   "metadata": {},
   "source": [
    "## Optimisation des datasets\n",
    "   Dans un souci d'optimisation de l'espace mémoire occupé, nous allons faire en sorte d'optimiser les différents dataframe que nous utilisons. \n",
    "Pour mener à bien ceci, nous allons des fonctions contenues dans `describe_csv.py`, en les améliorant pour automatiser le processus."
   ]
  },
  {
   "cell_type": "code",
   "execution_count": 20,
   "metadata": {},
   "outputs": [
    {
     "name": "stdout",
     "output_type": "stream",
     "text": [
      "In [20] used -0.1 MiB RAM in 0.11s (system mean cpu 14%, single max cpu 100%), peaked 0.1 MiB above final usage, current RAM usage now 508.2 MiB\n"
     ]
    }
   ],
   "source": [
    "#### Code Nathan à ajouter\n",
    "# Jusqu'à maintenant, nous utilisons le dataframe df_athlete. Nous allons définir différentes fonctions pour optimiser les types et ainsi optimiser l'espace mémoire occupé\n",
    "\n",
    "from pandas.api.types import is_numeric_dtype\n",
    "\n",
    "\n",
    "def define_and_use_optimal_type(df:pd.DataFrame):\n",
    "    for column in df.columns:\n",
    "        if(is_numeric_dtype(df[column]) == True):\n",
    "            # Set optimal type else do nothing\n",
    "            optimalype = optimal_type(df[column], df[column].min(), df[column].max())\n",
    "            df[column] = df[column].astype(optimalype)\n",
    "    return df"
   ]
  },
  {
   "cell_type": "markdown",
   "metadata": {},
   "source": [
    "## Nettoyage"
   ]
  },
  {
   "cell_type": "code",
   "execution_count": 21,
   "metadata": {},
   "outputs": [
    {
     "name": "stdout",
     "output_type": "stream",
     "text": [
      "In [21] used 0.0 MiB RAM in 0.11s (system mean cpu 39%, single max cpu 100%), peaked 0.0 MiB above final usage, current RAM usage now 508.2 MiB\n"
     ]
    }
   ],
   "source": [
    "## Ajouter le code FLO"
   ]
  },
  {
   "cell_type": "markdown",
   "metadata": {},
   "source": [
    "### Dataframe dictionnary"
   ]
  },
  {
   "cell_type": "code",
   "execution_count": 22,
   "metadata": {},
   "outputs": [
    {
     "data": {
      "text/plain": [
       "Country          0\n",
       "NOC              0\n",
       "Population       5\n",
       "PIB/habitant    25\n",
       "dtype: int64"
      ]
     },
     "execution_count": 22,
     "metadata": {},
     "output_type": "execute_result"
    },
    {
     "name": "stdout",
     "output_type": "stream",
     "text": [
      "In [22] used 0.1 MiB RAM in 0.11s (system mean cpu 24%, single max cpu 100%), peaked 0.0 MiB above final usage, current RAM usage now 508.3 MiB\n"
     ]
    }
   ],
   "source": [
    "df_dictionnary=pd.read_csv('data/dictionary.csv')\n",
    "\n",
    "df_dictionnary=df_dictionnary.rename(columns={'GDP per Capita':'PIB/habitant','Code':'NOC'})\n",
    "\n",
    "df_dictionnary.isna().sum()"
   ]
  },
  {
   "cell_type": "markdown",
   "metadata": {},
   "source": [
    "### Dataframe région"
   ]
  },
  {
   "cell_type": "code",
   "execution_count": 23,
   "metadata": {},
   "outputs": [
    {
     "name": "stdout",
     "output_type": "stream",
     "text": [
      "In [23] used 0.0 MiB RAM in 0.10s (system mean cpu 14%, single max cpu 100%), peaked 0.0 MiB above final usage, current RAM usage now 508.3 MiB\n"
     ]
    }
   ],
   "source": [
    "df_region=df_region.rename(columns={'region':'Country'})"
   ]
  },
  {
   "cell_type": "markdown",
   "metadata": {},
   "source": [
    "Ajout des îles Tuvalu"
   ]
  },
  {
   "cell_type": "code",
   "execution_count": 24,
   "metadata": {},
   "outputs": [
    {
     "data": {
      "text/html": [
       "<div>\n",
       "<style scoped>\n",
       "    .dataframe tbody tr th:only-of-type {\n",
       "        vertical-align: middle;\n",
       "    }\n",
       "\n",
       "    .dataframe tbody tr th {\n",
       "        vertical-align: top;\n",
       "    }\n",
       "\n",
       "    .dataframe thead th {\n",
       "        text-align: right;\n",
       "    }\n",
       "</style>\n",
       "<table border=\"1\" class=\"dataframe\">\n",
       "  <thead>\n",
       "    <tr style=\"text-align: right;\">\n",
       "      <th></th>\n",
       "      <th>NOC</th>\n",
       "      <th>Country</th>\n",
       "      <th>notes</th>\n",
       "    </tr>\n",
       "  </thead>\n",
       "  <tbody>\n",
       "    <tr>\n",
       "      <th>168</th>\n",
       "      <td>ROT</td>\n",
       "      <td>NaN</td>\n",
       "      <td>Refugee Olympic Team</td>\n",
       "    </tr>\n",
       "    <tr>\n",
       "      <th>208</th>\n",
       "      <td>TUV</td>\n",
       "      <td>NaN</td>\n",
       "      <td>Tuvalu</td>\n",
       "    </tr>\n",
       "    <tr>\n",
       "      <th>213</th>\n",
       "      <td>UNK</td>\n",
       "      <td>NaN</td>\n",
       "      <td>Unknown</td>\n",
       "    </tr>\n",
       "  </tbody>\n",
       "</table>\n",
       "</div>"
      ],
      "text/plain": [
       "     NOC Country                 notes\n",
       "168  ROT     NaN  Refugee Olympic Team\n",
       "208  TUV     NaN                Tuvalu\n",
       "213  UNK     NaN               Unknown"
      ]
     },
     "execution_count": 24,
     "metadata": {},
     "output_type": "execute_result"
    },
    {
     "name": "stdout",
     "output_type": "stream",
     "text": [
      "In [24] used -0.0 MiB RAM in 0.11s (system mean cpu 16%, single max cpu 100%), peaked 0.0 MiB above final usage, current RAM usage now 508.3 MiB\n"
     ]
    }
   ],
   "source": [
    "df_region[df_region['Country'].isnull()]"
   ]
  },
  {
   "cell_type": "code",
   "execution_count": 25,
   "metadata": {},
   "outputs": [
    {
     "name": "stdout",
     "output_type": "stream",
     "text": [
      "In [25] used 0.1 MiB RAM in 0.11s (system mean cpu 12%, single max cpu 100%), peaked 0.0 MiB above final usage, current RAM usage now 508.4 MiB\n"
     ]
    }
   ],
   "source": [
    "df_region=df_region.query(\" NOC != 'ROT' and NOC != 'UNK' \")\n",
    "\n",
    "df_region['Country']=df_region['Country'].fillna('Tuvalu')"
   ]
  },
  {
   "cell_type": "code",
   "execution_count": 26,
   "metadata": {},
   "outputs": [
    {
     "data": {
      "text/html": [
       "<div>\n",
       "<style scoped>\n",
       "    .dataframe tbody tr th:only-of-type {\n",
       "        vertical-align: middle;\n",
       "    }\n",
       "\n",
       "    .dataframe tbody tr th {\n",
       "        vertical-align: top;\n",
       "    }\n",
       "\n",
       "    .dataframe thead th {\n",
       "        text-align: right;\n",
       "    }\n",
       "</style>\n",
       "<table border=\"1\" class=\"dataframe\">\n",
       "  <thead>\n",
       "    <tr style=\"text-align: right;\">\n",
       "      <th></th>\n",
       "      <th>NOC</th>\n",
       "      <th>Country</th>\n",
       "      <th>notes</th>\n",
       "    </tr>\n",
       "  </thead>\n",
       "  <tbody>\n",
       "    <tr>\n",
       "      <th>0</th>\n",
       "      <td>AFG</td>\n",
       "      <td>Afghanistan</td>\n",
       "      <td>NaN</td>\n",
       "    </tr>\n",
       "    <tr>\n",
       "      <th>1</th>\n",
       "      <td>AHO</td>\n",
       "      <td>Curacao</td>\n",
       "      <td>Netherlands Antilles</td>\n",
       "    </tr>\n",
       "    <tr>\n",
       "      <th>2</th>\n",
       "      <td>ALB</td>\n",
       "      <td>Albania</td>\n",
       "      <td>NaN</td>\n",
       "    </tr>\n",
       "    <tr>\n",
       "      <th>3</th>\n",
       "      <td>ALG</td>\n",
       "      <td>Algeria</td>\n",
       "      <td>NaN</td>\n",
       "    </tr>\n",
       "    <tr>\n",
       "      <th>4</th>\n",
       "      <td>AND</td>\n",
       "      <td>Andorra</td>\n",
       "      <td>NaN</td>\n",
       "    </tr>\n",
       "    <tr>\n",
       "      <th>...</th>\n",
       "      <td>...</td>\n",
       "      <td>...</td>\n",
       "      <td>...</td>\n",
       "    </tr>\n",
       "    <tr>\n",
       "      <th>225</th>\n",
       "      <td>YEM</td>\n",
       "      <td>Yemen</td>\n",
       "      <td>NaN</td>\n",
       "    </tr>\n",
       "    <tr>\n",
       "      <th>226</th>\n",
       "      <td>YMD</td>\n",
       "      <td>Yemen</td>\n",
       "      <td>South Yemen</td>\n",
       "    </tr>\n",
       "    <tr>\n",
       "      <th>227</th>\n",
       "      <td>YUG</td>\n",
       "      <td>Serbia</td>\n",
       "      <td>Yugoslavia</td>\n",
       "    </tr>\n",
       "    <tr>\n",
       "      <th>228</th>\n",
       "      <td>ZAM</td>\n",
       "      <td>Zambia</td>\n",
       "      <td>NaN</td>\n",
       "    </tr>\n",
       "    <tr>\n",
       "      <th>229</th>\n",
       "      <td>ZIM</td>\n",
       "      <td>Zimbabwe</td>\n",
       "      <td>NaN</td>\n",
       "    </tr>\n",
       "  </tbody>\n",
       "</table>\n",
       "<p>228 rows × 3 columns</p>\n",
       "</div>"
      ],
      "text/plain": [
       "     NOC      Country                 notes\n",
       "0    AFG  Afghanistan                   NaN\n",
       "1    AHO      Curacao  Netherlands Antilles\n",
       "2    ALB      Albania                   NaN\n",
       "3    ALG      Algeria                   NaN\n",
       "4    AND      Andorra                   NaN\n",
       "..   ...          ...                   ...\n",
       "225  YEM        Yemen                   NaN\n",
       "226  YMD        Yemen           South Yemen\n",
       "227  YUG       Serbia            Yugoslavia\n",
       "228  ZAM       Zambia                   NaN\n",
       "229  ZIM     Zimbabwe                   NaN\n",
       "\n",
       "[228 rows x 3 columns]"
      ]
     },
     "execution_count": 26,
     "metadata": {},
     "output_type": "execute_result"
    },
    {
     "name": "stdout",
     "output_type": "stream",
     "text": [
      "In [26] used 0.0 MiB RAM in 0.11s (system mean cpu 13%, single max cpu 100%), peaked 0.0 MiB above final usage, current RAM usage now 508.4 MiB\n"
     ]
    }
   ],
   "source": [
    "df_region"
   ]
  },
  {
   "cell_type": "markdown",
   "metadata": {},
   "source": [
    "## Merge des dataframes et traitement des valeurs nulles"
   ]
  },
  {
   "cell_type": "markdown",
   "metadata": {},
   "source": [
    "### Opérations sur les pays"
   ]
  },
  {
   "cell_type": "code",
   "execution_count": 27,
   "metadata": {},
   "outputs": [
    {
     "data": {
      "text/html": [
       "<div>\n",
       "<style scoped>\n",
       "    .dataframe tbody tr th:only-of-type {\n",
       "        vertical-align: middle;\n",
       "    }\n",
       "\n",
       "    .dataframe tbody tr th {\n",
       "        vertical-align: top;\n",
       "    }\n",
       "\n",
       "    .dataframe thead th {\n",
       "        text-align: right;\n",
       "    }\n",
       "</style>\n",
       "<table border=\"1\" class=\"dataframe\">\n",
       "  <thead>\n",
       "    <tr style=\"text-align: right;\">\n",
       "      <th></th>\n",
       "      <th>NOC</th>\n",
       "      <th>Country</th>\n",
       "      <th>notes</th>\n",
       "    </tr>\n",
       "  </thead>\n",
       "  <tbody>\n",
       "    <tr>\n",
       "      <th>0</th>\n",
       "      <td>AFG</td>\n",
       "      <td>Afghanistan</td>\n",
       "      <td>NaN</td>\n",
       "    </tr>\n",
       "    <tr>\n",
       "      <th>1</th>\n",
       "      <td>AHO</td>\n",
       "      <td>Curacao</td>\n",
       "      <td>Netherlands Antilles</td>\n",
       "    </tr>\n",
       "    <tr>\n",
       "      <th>2</th>\n",
       "      <td>ALB</td>\n",
       "      <td>Albania</td>\n",
       "      <td>NaN</td>\n",
       "    </tr>\n",
       "    <tr>\n",
       "      <th>3</th>\n",
       "      <td>ALG</td>\n",
       "      <td>Algeria</td>\n",
       "      <td>NaN</td>\n",
       "    </tr>\n",
       "    <tr>\n",
       "      <th>4</th>\n",
       "      <td>AND</td>\n",
       "      <td>Andorra</td>\n",
       "      <td>NaN</td>\n",
       "    </tr>\n",
       "    <tr>\n",
       "      <th>...</th>\n",
       "      <td>...</td>\n",
       "      <td>...</td>\n",
       "      <td>...</td>\n",
       "    </tr>\n",
       "    <tr>\n",
       "      <th>225</th>\n",
       "      <td>YEM</td>\n",
       "      <td>Yemen</td>\n",
       "      <td>NaN</td>\n",
       "    </tr>\n",
       "    <tr>\n",
       "      <th>226</th>\n",
       "      <td>YMD</td>\n",
       "      <td>Yemen</td>\n",
       "      <td>South Yemen</td>\n",
       "    </tr>\n",
       "    <tr>\n",
       "      <th>227</th>\n",
       "      <td>YUG</td>\n",
       "      <td>Serbia</td>\n",
       "      <td>Yugoslavia</td>\n",
       "    </tr>\n",
       "    <tr>\n",
       "      <th>228</th>\n",
       "      <td>ZAM</td>\n",
       "      <td>Zambia</td>\n",
       "      <td>NaN</td>\n",
       "    </tr>\n",
       "    <tr>\n",
       "      <th>229</th>\n",
       "      <td>ZIM</td>\n",
       "      <td>Zimbabwe</td>\n",
       "      <td>NaN</td>\n",
       "    </tr>\n",
       "  </tbody>\n",
       "</table>\n",
       "<p>228 rows × 3 columns</p>\n",
       "</div>"
      ],
      "text/plain": [
       "     NOC      Country                 notes\n",
       "0    AFG  Afghanistan                   NaN\n",
       "1    AHO      Curacao  Netherlands Antilles\n",
       "2    ALB      Albania                   NaN\n",
       "3    ALG      Algeria                   NaN\n",
       "4    AND      Andorra                   NaN\n",
       "..   ...          ...                   ...\n",
       "225  YEM        Yemen                   NaN\n",
       "226  YMD        Yemen           South Yemen\n",
       "227  YUG       Serbia            Yugoslavia\n",
       "228  ZAM       Zambia                   NaN\n",
       "229  ZIM     Zimbabwe                   NaN\n",
       "\n",
       "[228 rows x 3 columns]"
      ]
     },
     "execution_count": 27,
     "metadata": {},
     "output_type": "execute_result"
    },
    {
     "name": "stdout",
     "output_type": "stream",
     "text": [
      "In [27] used 0.0 MiB RAM in 0.11s (system mean cpu 13%, single max cpu 100%), peaked 0.0 MiB above final usage, current RAM usage now 508.5 MiB\n"
     ]
    }
   ],
   "source": [
    "df_region"
   ]
  },
  {
   "cell_type": "code",
   "execution_count": 28,
   "metadata": {},
   "outputs": [
    {
     "name": "stdout",
     "output_type": "stream",
     "text": [
      "In [28] used 163.3 MiB RAM in 0.41s (system mean cpu 18%, single max cpu 100%), peaked 0.0 MiB above final usage, current RAM usage now 671.7 MiB\n"
     ]
    }
   ],
   "source": [
    "df_complete=pd.merge(pd.merge(df_athlete,df_region,on='NOC',how='left'),df_dictionnary,on='NOC',how='left')\n",
    "\n",
    "# On prend seulement les JO d'été\n",
    "df_complete=df_complete[df_complete['Season']=='Summer']\n",
    "df_complete=df_complete[df_complete['Year'] >= 2000]"
   ]
  },
  {
   "cell_type": "code",
   "execution_count": 29,
   "metadata": {},
   "outputs": [
    {
     "name": "stdout",
     "output_type": "stream",
     "text": [
      "In [29] used 0.0 MiB RAM in 0.16s (system mean cpu 10%, single max cpu 100%), peaked 0.0 MiB above final usage, current RAM usage now 671.7 MiB\n"
     ]
    }
   ],
   "source": [
    "# Attribution des pays en fonction des NOC \n",
    "df_complete=pd.merge(df_complete,df_region,on='NOC',how='left')\n",
    "df_complete['Country']=df_complete['Country_y'].fillna(df_complete['Country_x'])\n",
    "df_complete= df_complete.drop(['Country_x', 'Country_y', 'notes_x','notes_y'], axis=1)"
   ]
  },
  {
   "cell_type": "code",
   "execution_count": 30,
   "metadata": {},
   "outputs": [
    {
     "name": "stdout",
     "output_type": "stream",
     "text": [
      "In [30] used 7.7 MiB RAM in 0.13s (system mean cpu 9%, single max cpu 100%), peaked 0.0 MiB above final usage, current RAM usage now 679.4 MiB\n"
     ]
    }
   ],
   "source": [
    "# On retire les NOC (réfugiés)\n",
    "df_complete=df_complete.query(\" NOC !='ROC' \")"
   ]
  },
  {
   "cell_type": "code",
   "execution_count": 31,
   "metadata": {},
   "outputs": [
    {
     "data": {
      "text/plain": [
       "Name                0\n",
       "Sex               312\n",
       "Age               315\n",
       "Height          14603\n",
       "Weight          23938\n",
       "Team                0\n",
       "NOC                 0\n",
       "Games               0\n",
       "Year                0\n",
       "Season              0\n",
       "City                0\n",
       "Sport             312\n",
       "Event           18563\n",
       "Medal           76020\n",
       "Population       3088\n",
       "PIB/habitant     6076\n",
       "Country           277\n",
       "dtype: int64"
      ]
     },
     "execution_count": 31,
     "metadata": {},
     "output_type": "execute_result"
    },
    {
     "name": "stdout",
     "output_type": "stream",
     "text": [
      "In [31] used 0.0 MiB RAM in 0.20s (system mean cpu 3%, single max cpu 100%), peaked 0.0 MiB above final usage, current RAM usage now 679.4 MiB\n"
     ]
    }
   ],
   "source": [
    "# Analyse des valeurs nulles \n",
    "df_complete.isna().sum()\n",
    "\n",
    "# 156 sports où on sait pas ce que c'est .... et des country (26 221) qui ne sont pas attribués non plus "
   ]
  },
  {
   "cell_type": "code",
   "execution_count": 32,
   "metadata": {},
   "outputs": [
    {
     "name": "stdout",
     "output_type": "stream",
     "text": [
      "In [32] used -0.0 MiB RAM in 0.12s (system mean cpu 3%, single max cpu 56%), peaked 0.0 MiB above final usage, current RAM usage now 679.4 MiB\n"
     ]
    }
   ],
   "source": [
    "# Attribution des \n",
    "liste_pays=df_region['Country'].tolist()\n",
    "liste_NOC=df_region['NOC'].tolist()\n",
    "\n",
    "dictio_NOC_pays=dict(zip(liste_NOC,liste_pays))\n",
    "\n",
    "dictio_NOC_pays['SGP']='Singapour'\n",
    "dictio_NOC_pays['LBN']='Liban'\n",
    "\n",
    "df_complete['Country']=df_complete['Country'].fillna(df_complete['NOC'].map(dictio_NOC_pays))\n"
   ]
  },
  {
   "cell_type": "code",
   "execution_count": 33,
   "metadata": {},
   "outputs": [
    {
     "name": "stdout",
     "output_type": "stream",
     "text": [
      "In [33] used 0.0 MiB RAM in 0.13s (system mean cpu 5%, single max cpu 100%), peaked 0.0 MiB above final usage, current RAM usage now 679.4 MiB\n"
     ]
    }
   ],
   "source": [
    "# Il y a quatre NOC qui ne correspondent à aucun pays dans notre EOR : réfugiés , ROT réfugiés aussi , LBN c'est le Liban (Lebanon en anglais )\n",
    "df_complete=df_complete.query(\" NOC !='ROT' and NOC !='EOR' \")"
   ]
  },
  {
   "cell_type": "code",
   "execution_count": 34,
   "metadata": {},
   "outputs": [
    {
     "name": "stdout",
     "output_type": "stream",
     "text": [
      "In [34] used 7.6 MiB RAM in 0.13s (system mean cpu 14%, single max cpu 100%), peaked 0.0 MiB above final usage, current RAM usage now 687.1 MiB\n"
     ]
    }
   ],
   "source": [
    "# On ajoute les pays organisateurs pour chaque ligne scrappée précédemment\n",
    "df_complete=pd.merge(df_complete,df_hote,on='Year',how='left')"
   ]
  },
  {
   "cell_type": "code",
   "execution_count": 35,
   "metadata": {},
   "outputs": [
    {
     "data": {
      "text/html": [
       "<div>\n",
       "<style scoped>\n",
       "    .dataframe tbody tr th:only-of-type {\n",
       "        vertical-align: middle;\n",
       "    }\n",
       "\n",
       "    .dataframe tbody tr th {\n",
       "        vertical-align: top;\n",
       "    }\n",
       "\n",
       "    .dataframe thead th {\n",
       "        text-align: right;\n",
       "    }\n",
       "</style>\n",
       "<table border=\"1\" class=\"dataframe\">\n",
       "  <thead>\n",
       "    <tr style=\"text-align: right;\">\n",
       "      <th></th>\n",
       "      <th>Name</th>\n",
       "      <th>Sex</th>\n",
       "      <th>Age</th>\n",
       "      <th>Height</th>\n",
       "      <th>Weight</th>\n",
       "      <th>Team</th>\n",
       "      <th>NOC</th>\n",
       "      <th>Games</th>\n",
       "      <th>Year</th>\n",
       "      <th>Season</th>\n",
       "      <th>City</th>\n",
       "      <th>Sport</th>\n",
       "      <th>Event</th>\n",
       "      <th>Medal</th>\n",
       "      <th>Population</th>\n",
       "      <th>PIB/habitant</th>\n",
       "      <th>Country</th>\n",
       "      <th>Host_country</th>\n",
       "      <th>Participation_own_country</th>\n",
       "    </tr>\n",
       "  </thead>\n",
       "  <tbody>\n",
       "    <tr>\n",
       "      <th>38</th>\n",
       "      <td>Giorgos Abalof</td>\n",
       "      <td>M</td>\n",
       "      <td>22.0</td>\n",
       "      <td>178.0</td>\n",
       "      <td>70.0</td>\n",
       "      <td>Greece</td>\n",
       "      <td>GRE</td>\n",
       "      <td>2004 Summer</td>\n",
       "      <td>2004</td>\n",
       "      <td>Summer</td>\n",
       "      <td>Athina</td>\n",
       "      <td>Fencing</td>\n",
       "      <td>Fencing Men's epee, Individual</td>\n",
       "      <td>NaN</td>\n",
       "      <td>10823732.0</td>\n",
       "      <td>18002.230578</td>\n",
       "      <td>Greece</td>\n",
       "      <td>Greece</td>\n",
       "      <td>1</td>\n",
       "    </tr>\n",
       "    <tr>\n",
       "      <th>40</th>\n",
       "      <td>Georgios Abaris</td>\n",
       "      <td>M</td>\n",
       "      <td>22.0</td>\n",
       "      <td>190.0</td>\n",
       "      <td>77.0</td>\n",
       "      <td>Greece</td>\n",
       "      <td>GRE</td>\n",
       "      <td>2004 Summer</td>\n",
       "      <td>2004</td>\n",
       "      <td>Summer</td>\n",
       "      <td>Athina</td>\n",
       "      <td>Football</td>\n",
       "      <td>Football Men's Football</td>\n",
       "      <td>NaN</td>\n",
       "      <td>10823732.0</td>\n",
       "      <td>18002.230578</td>\n",
       "      <td>Greece</td>\n",
       "      <td>Greece</td>\n",
       "      <td>1</td>\n",
       "    </tr>\n",
       "    <tr>\n",
       "      <th>49</th>\n",
       "      <td>Georgia Abatzidou</td>\n",
       "      <td>F</td>\n",
       "      <td>35.0</td>\n",
       "      <td>155.0</td>\n",
       "      <td>43.0</td>\n",
       "      <td>Greece</td>\n",
       "      <td>GRE</td>\n",
       "      <td>2004 Summer</td>\n",
       "      <td>2004</td>\n",
       "      <td>Summer</td>\n",
       "      <td>Athina</td>\n",
       "      <td>Athletics</td>\n",
       "      <td>Athletics Women's Marathon</td>\n",
       "      <td>NaN</td>\n",
       "      <td>10823732.0</td>\n",
       "      <td>18002.230578</td>\n",
       "      <td>Greece</td>\n",
       "      <td>Greece</td>\n",
       "      <td>1</td>\n",
       "    </tr>\n",
       "    <tr>\n",
       "      <th>156</th>\n",
       "      <td>Ali Abdo</td>\n",
       "      <td>M</td>\n",
       "      <td>19.0</td>\n",
       "      <td>169.0</td>\n",
       "      <td>74.0</td>\n",
       "      <td>Australia</td>\n",
       "      <td>AUS</td>\n",
       "      <td>2000 Summer</td>\n",
       "      <td>2000</td>\n",
       "      <td>Summer</td>\n",
       "      <td>Sydney</td>\n",
       "      <td>Wrestling</td>\n",
       "      <td>Wrestling Men's Welterweight, Greco-Roman</td>\n",
       "      <td>NaN</td>\n",
       "      <td>23781169.0</td>\n",
       "      <td>56310.962993</td>\n",
       "      <td>Australia</td>\n",
       "      <td>Australia</td>\n",
       "      <td>1</td>\n",
       "    </tr>\n",
       "    <tr>\n",
       "      <th>268</th>\n",
       "      <td>Diana Monteiro Abla</td>\n",
       "      <td>F</td>\n",
       "      <td>21.0</td>\n",
       "      <td>175.0</td>\n",
       "      <td>75.0</td>\n",
       "      <td>Brazil</td>\n",
       "      <td>BRA</td>\n",
       "      <td>2016 Summer</td>\n",
       "      <td>2016</td>\n",
       "      <td>Summer</td>\n",
       "      <td>Rio de Janeiro</td>\n",
       "      <td>Water Polo</td>\n",
       "      <td>Water Polo Women's Water Polo</td>\n",
       "      <td>NaN</td>\n",
       "      <td>207847528.0</td>\n",
       "      <td>8538.589975</td>\n",
       "      <td>Brazil</td>\n",
       "      <td>Brazil</td>\n",
       "      <td>1</td>\n",
       "    </tr>\n",
       "    <tr>\n",
       "      <th>...</th>\n",
       "      <td>...</td>\n",
       "      <td>...</td>\n",
       "      <td>...</td>\n",
       "      <td>...</td>\n",
       "      <td>...</td>\n",
       "      <td>...</td>\n",
       "      <td>...</td>\n",
       "      <td>...</td>\n",
       "      <td>...</td>\n",
       "      <td>...</td>\n",
       "      <td>...</td>\n",
       "      <td>...</td>\n",
       "      <td>...</td>\n",
       "      <td>...</td>\n",
       "      <td>...</td>\n",
       "      <td>...</td>\n",
       "      <td>...</td>\n",
       "      <td>...</td>\n",
       "      <td>...</td>\n",
       "    </tr>\n",
       "    <tr>\n",
       "      <th>90220</th>\n",
       "      <td>YOSHINO Tatsuki</td>\n",
       "      <td>M</td>\n",
       "      <td>27.0</td>\n",
       "      <td>NaN</td>\n",
       "      <td>NaN</td>\n",
       "      <td>Japan</td>\n",
       "      <td>JPN</td>\n",
       "      <td>Tokyo 2020</td>\n",
       "      <td>2020</td>\n",
       "      <td>Summer</td>\n",
       "      <td>Tokyo</td>\n",
       "      <td>Handball</td>\n",
       "      <td>NaN</td>\n",
       "      <td>NaN</td>\n",
       "      <td>126958472.0</td>\n",
       "      <td>32477.215145</td>\n",
       "      <td>Japan</td>\n",
       "      <td>Japan</td>\n",
       "      <td>1</td>\n",
       "    </tr>\n",
       "    <tr>\n",
       "      <th>90221</th>\n",
       "      <td>YOSHIOKA Dai</td>\n",
       "      <td>M</td>\n",
       "      <td>36.0</td>\n",
       "      <td>NaN</td>\n",
       "      <td>NaN</td>\n",
       "      <td>Japan</td>\n",
       "      <td>JPN</td>\n",
       "      <td>Tokyo 2020</td>\n",
       "      <td>2020</td>\n",
       "      <td>Summer</td>\n",
       "      <td>Tokyo</td>\n",
       "      <td>Shooting</td>\n",
       "      <td>NaN</td>\n",
       "      <td>NaN</td>\n",
       "      <td>126958472.0</td>\n",
       "      <td>32477.215145</td>\n",
       "      <td>Japan</td>\n",
       "      <td>Japan</td>\n",
       "      <td>1</td>\n",
       "    </tr>\n",
       "    <tr>\n",
       "      <th>90222</th>\n",
       "      <td>YOSHIOKA Miho</td>\n",
       "      <td>F</td>\n",
       "      <td>31.0</td>\n",
       "      <td>177.0</td>\n",
       "      <td>NaN</td>\n",
       "      <td>Japan</td>\n",
       "      <td>JPN</td>\n",
       "      <td>Tokyo 2020</td>\n",
       "      <td>2020</td>\n",
       "      <td>Summer</td>\n",
       "      <td>Tokyo</td>\n",
       "      <td>Sailing</td>\n",
       "      <td>NaN</td>\n",
       "      <td>NaN</td>\n",
       "      <td>126958472.0</td>\n",
       "      <td>32477.215145</td>\n",
       "      <td>Japan</td>\n",
       "      <td>Japan</td>\n",
       "      <td>1</td>\n",
       "    </tr>\n",
       "    <tr>\n",
       "      <th>90223</th>\n",
       "      <td>YOSOZUMI Sakura</td>\n",
       "      <td>F</td>\n",
       "      <td>19.0</td>\n",
       "      <td>NaN</td>\n",
       "      <td>NaN</td>\n",
       "      <td>Japan</td>\n",
       "      <td>JPN</td>\n",
       "      <td>Tokyo 2020</td>\n",
       "      <td>2020</td>\n",
       "      <td>Summer</td>\n",
       "      <td>Tokyo</td>\n",
       "      <td>Skateboarding</td>\n",
       "      <td>Women's Park</td>\n",
       "      <td>Gold</td>\n",
       "      <td>126958472.0</td>\n",
       "      <td>32477.215145</td>\n",
       "      <td>Japan</td>\n",
       "      <td>Japan</td>\n",
       "      <td>1</td>\n",
       "    </tr>\n",
       "    <tr>\n",
       "      <th>90320</th>\n",
       "      <td>ZENDANA Hirotaka</td>\n",
       "      <td>M</td>\n",
       "      <td>28.0</td>\n",
       "      <td>NaN</td>\n",
       "      <td>NaN</td>\n",
       "      <td>Japan</td>\n",
       "      <td>JPN</td>\n",
       "      <td>Tokyo 2020</td>\n",
       "      <td>2020</td>\n",
       "      <td>Summer</td>\n",
       "      <td>Tokyo</td>\n",
       "      <td>Hockey</td>\n",
       "      <td>NaN</td>\n",
       "      <td>NaN</td>\n",
       "      <td>126958472.0</td>\n",
       "      <td>32477.215145</td>\n",
       "      <td>Japan</td>\n",
       "      <td>Japan</td>\n",
       "      <td>1</td>\n",
       "    </tr>\n",
       "  </tbody>\n",
       "</table>\n",
       "<p>4545 rows × 19 columns</p>\n",
       "</div>"
      ],
      "text/plain": [
       "                      Name Sex   Age  Height  Weight       Team  NOC  \\\n",
       "38          Giorgos Abalof   M  22.0   178.0    70.0     Greece  GRE   \n",
       "40         Georgios Abaris   M  22.0   190.0    77.0     Greece  GRE   \n",
       "49       Georgia Abatzidou   F  35.0   155.0    43.0     Greece  GRE   \n",
       "156               Ali Abdo   M  19.0   169.0    74.0  Australia  AUS   \n",
       "268    Diana Monteiro Abla   F  21.0   175.0    75.0     Brazil  BRA   \n",
       "...                    ...  ..   ...     ...     ...        ...  ...   \n",
       "90220      YOSHINO Tatsuki   M  27.0     NaN     NaN      Japan  JPN   \n",
       "90221         YOSHIOKA Dai   M  36.0     NaN     NaN      Japan  JPN   \n",
       "90222        YOSHIOKA Miho   F  31.0   177.0     NaN      Japan  JPN   \n",
       "90223      YOSOZUMI Sakura   F  19.0     NaN     NaN      Japan  JPN   \n",
       "90320     ZENDANA Hirotaka   M  28.0     NaN     NaN      Japan  JPN   \n",
       "\n",
       "             Games  Year  Season            City          Sport  \\\n",
       "38     2004 Summer  2004  Summer          Athina        Fencing   \n",
       "40     2004 Summer  2004  Summer          Athina       Football   \n",
       "49     2004 Summer  2004  Summer          Athina      Athletics   \n",
       "156    2000 Summer  2000  Summer          Sydney      Wrestling   \n",
       "268    2016 Summer  2016  Summer  Rio de Janeiro     Water Polo   \n",
       "...            ...   ...     ...             ...            ...   \n",
       "90220   Tokyo 2020  2020  Summer           Tokyo       Handball   \n",
       "90221   Tokyo 2020  2020  Summer           Tokyo       Shooting   \n",
       "90222   Tokyo 2020  2020  Summer           Tokyo        Sailing   \n",
       "90223   Tokyo 2020  2020  Summer           Tokyo  Skateboarding   \n",
       "90320   Tokyo 2020  2020  Summer           Tokyo         Hockey   \n",
       "\n",
       "                                           Event Medal   Population  \\\n",
       "38                Fencing Men's epee, Individual   NaN   10823732.0   \n",
       "40                       Football Men's Football   NaN   10823732.0   \n",
       "49                    Athletics Women's Marathon   NaN   10823732.0   \n",
       "156    Wrestling Men's Welterweight, Greco-Roman   NaN   23781169.0   \n",
       "268                Water Polo Women's Water Polo   NaN  207847528.0   \n",
       "...                                          ...   ...          ...   \n",
       "90220                                        NaN   NaN  126958472.0   \n",
       "90221                                        NaN   NaN  126958472.0   \n",
       "90222                                        NaN   NaN  126958472.0   \n",
       "90223                               Women's Park  Gold  126958472.0   \n",
       "90320                                        NaN   NaN  126958472.0   \n",
       "\n",
       "       PIB/habitant    Country Host_country  Participation_own_country  \n",
       "38     18002.230578     Greece       Greece                          1  \n",
       "40     18002.230578     Greece       Greece                          1  \n",
       "49     18002.230578     Greece       Greece                          1  \n",
       "156    56310.962993  Australia    Australia                          1  \n",
       "268     8538.589975     Brazil       Brazil                          1  \n",
       "...             ...        ...          ...                        ...  \n",
       "90220  32477.215145      Japan        Japan                          1  \n",
       "90221  32477.215145      Japan        Japan                          1  \n",
       "90222  32477.215145      Japan        Japan                          1  \n",
       "90223  32477.215145      Japan        Japan                          1  \n",
       "90320  32477.215145      Japan        Japan                          1  \n",
       "\n",
       "[4545 rows x 19 columns]"
      ]
     },
     "execution_count": 35,
     "metadata": {},
     "output_type": "execute_result"
    },
    {
     "name": "stdout",
     "output_type": "stream",
     "text": [
      "In [35] used 19.8 MiB RAM in 0.66s (system mean cpu 10%, single max cpu 100%), peaked 0.0 MiB above final usage, current RAM usage now 706.9 MiB\n"
     ]
    }
   ],
   "source": [
    "# On ajoute une colonne booléenne (l'athlète participe aux jeux dans son propre pays)\n",
    "compare_col=lambda x : 1 if x['Country']==x['Host_country'] else 0 \n",
    "\n",
    "df_complete['Participation_own_country']=df_complete.apply(compare_col,axis=1)\n",
    "df_complete[df_complete['Participation_own_country']==1]"
   ]
  },
  {
   "cell_type": "code",
   "execution_count": 36,
   "metadata": {},
   "outputs": [
    {
     "name": "stdout",
     "output_type": "stream",
     "text": [
      "In [36] used 0.0 MiB RAM in 0.14s (system mean cpu 8%, single max cpu 100%), peaked 0.0 MiB above final usage, current RAM usage now 706.9 MiB\n"
     ]
    }
   ],
   "source": [
    "# On récupère les pays communistes scrappés précédemment\n",
    "df_complete['Soviet_past']=df_complete['Country'].apply(complete_urss_regime)"
   ]
  },
  {
   "cell_type": "code",
   "execution_count": 37,
   "metadata": {},
   "outputs": [
    {
     "name": "stdout",
     "output_type": "stream",
     "text": [
      "In [37] used -0.0 MiB RAM in 0.19s (system mean cpu 19%, single max cpu 100%), peaked 0.0 MiB above final usage, current RAM usage now 706.9 MiB\n"
     ]
    }
   ],
   "source": [
    "# On renomme les pays pour pouvoir merge avec les données scrappées \n",
    "# Changement de noms pour les pays\n",
    "\n",
    "df_complete['Country']=df_complete['Country'].replace('Puerto Rico*','Puerto Rico')\n",
    "df_complete['Country']=df_complete['Country'].replace('Hong Kong*','Hong Kong')\n",
    "df_complete['Country']=df_complete['Country'].replace('Korea, South','South Korea')\n",
    "df_complete['Country']=df_complete['Country'].replace('Korea, North','South Korea')\n",
    "df_complete['Country']=df_complete['Country'].replace('Liban','Lebanon')\n",
    "df_complete['Country']=df_complete['Country'].replace('Congo, Dem Rep','DR Congo')\n",
    "df_complete['Country']=df_complete['Country'].replace('Cayman Islands*','Cayman Islands')\n",
    "df_complete['Country']=df_complete['Country'].replace('Bermuda*','Bermuda')\n",
    "df_complete['Country']=df_complete['Country'].replace('Virgin Islands*','Virgin Islands')\n",
    "df_complete['Country']=df_complete['Country'].replace('Aruba*','Aruba')\n",
    "df_complete['Country']=df_complete['Country'].replace('American Samoa*','American Samoa')\n",
    "df_complete['Country']=df_complete['Country'].replace('Netherlands Antilles*','Netherlands Antilles')\n",
    "\n",
    "# URSS \n",
    "df_complete.loc[(df_complete['Team'] == 'Soviet Union') & (df_complete['NOC'] == 'URS'), ['Team', 'NOC']] = ['Russia', 'RUS'] # URSS période 1952-1988\n",
    "\n",
    "# Réfugiés\n",
    "df_complete.loc[(df_complete['Team'] == 'ROC') & (df_complete['NOC'] == 'ROC'), ['Team', 'NOC']] = ['Germany', 'RUS'] # JO 2020\n",
    "\n",
    "# GERMANY\n",
    "df_complete.loc[(df_complete['Team'] == 'East Germany') & (df_complete['NOC'] == 'GDR'), ['Team', 'NOC']] = ['Germany', 'GER']\n",
    "\n",
    "# CHINA\n",
    "df_complete.loc[df_complete['Team'] == \"People's Republic of China\", ['Team', 'NOC']] = ['China', 'CHN']\n",
    "\n",
    "# UNITED STATES\n",
    "df_complete.loc[df_complete['Team'] == \"United States of America\", ['Team', 'NOC']] = ['United States', 'USA']"
   ]
  },
  {
   "cell_type": "code",
   "execution_count": 38,
   "metadata": {},
   "outputs": [
    {
     "name": "stdout",
     "output_type": "stream",
     "text": [
      "In [38] used 0.0 MiB RAM in 0.90s (system mean cpu 10%, single max cpu 100%), peaked 0.0 MiB above final usage, current RAM usage now 706.9 MiB\n"
     ]
    }
   ],
   "source": [
    "# Normalisation des pays. Certains sont écrits avec des suffixes (Ex: Brazil-1, Brazil-2)\n",
    "replacement_dict = {}\n",
    "\n",
    "old_countries_to_process = df_complete.Team.unique()\n",
    "\n",
    "for i in old_countries_to_process:\n",
    "    replacement_dict[i] = re.sub(r'[\\d-]', '', i)\n",
    "\n",
    "\n",
    "final_df = df_complete.replace({\"Team\": replacement_dict})"
   ]
  },
  {
   "cell_type": "code",
   "execution_count": 39,
   "metadata": {},
   "outputs": [
    {
     "data": {
      "text/plain": [
       "Name                            0\n",
       "Sex                            18\n",
       "Age                            18\n",
       "Height                        531\n",
       "Weight                        844\n",
       "Team                            0\n",
       "NOC                             0\n",
       "Games                           0\n",
       "Year                            0\n",
       "Season                          0\n",
       "City                            0\n",
       "Sport                          18\n",
       "Event                         676\n",
       "Medal                        2599\n",
       "Population_x                 3018\n",
       "PIB/habitant_x               3018\n",
       "Country                         0\n",
       "Host_country                    0\n",
       "Participation_own_country       0\n",
       "Soviet_past                     0\n",
       "PIB                            17\n",
       "Population_y                   17\n",
       "PIB/habitant_y                 17\n",
       "dtype: int64"
      ]
     },
     "execution_count": 39,
     "metadata": {},
     "output_type": "execute_result"
    },
    {
     "name": "stdout",
     "output_type": "stream",
     "text": [
      "In [39] used 0.1 MiB RAM in 0.12s (system mean cpu 14%, single max cpu 100%), peaked 0.0 MiB above final usage, current RAM usage now 707.0 MiB\n"
     ]
    }
   ],
   "source": [
    "df_test_na_pop=df_complete[df_complete['Population'].isna()]\n",
    "\n",
    "# On merge les données de df_test_na_pop et df_complete\n",
    "df_test_na_pop=pd.merge(df_test_na_pop,df_pop_gpd,on='Country',how='left')\n",
    "df_test_na_pop.isna().sum()"
   ]
  },
  {
   "cell_type": "code",
   "execution_count": 40,
   "metadata": {},
   "outputs": [
    {
     "name": "stdout",
     "output_type": "stream",
     "text": [
      "In [40] used 0.1 MiB RAM in 0.13s (system mean cpu 11%, single max cpu 100%), peaked 0.0 MiB above final usage, current RAM usage now 707.2 MiB\n"
     ]
    }
   ],
   "source": [
    "# On nettoie les colonnes résiduelles\n",
    "df_test_na_pop=df_test_na_pop.drop(['Population_x'],axis=1)\n",
    "df_test_na_pop=df_test_na_pop.drop(['PIB/habitant_x'],axis=1)\n",
    "\n",
    "# On renomme les colonnes\n",
    "df_test_na_pop=df_test_na_pop.rename(columns={'Population_y':'Population'})\n",
    "df_test_na_pop=df_test_na_pop.rename(columns={'PIB/habitant_y':'PIB/habitant'})\n",
    "\n",
    "# On nettoie les données nulles dans la colonne Population\n",
    "df_test_na_pop=df_test_na_pop.dropna(subset='Population')\n",
    "df_complete=df_complete.dropna(subset='Population')\n",
    "\n",
    "df_complete=pd.concat([df_complete,df_test_na_pop],ignore_index=True)"
   ]
  },
  {
   "cell_type": "markdown",
   "metadata": {},
   "source": [
    "### Opérations sur le PIB"
   ]
  },
  {
   "cell_type": "code",
   "execution_count": 41,
   "metadata": {},
   "outputs": [
    {
     "name": "stdout",
     "output_type": "stream",
     "text": [
      "In [41] used 1.1 MiB RAM in 0.15s (system mean cpu 7%, single max cpu 100%), peaked 0.0 MiB above final usage, current RAM usage now 708.3 MiB\n"
     ]
    }
   ],
   "source": [
    "# Traitement des données nulles\n",
    "df_test_na_pib=df_complete[df_complete['PIB/habitant'].isna()]\n",
    "df_complete=df_complete.dropna(subset='PIB/habitant')\n",
    "\n",
    "# On merge avec les données scrappées\n",
    "df_test_na_pib=pd.merge(df_test_na_pib,df_pop_gpd,on='Country',how='left')\n",
    "\n",
    "# On drop les données résiduelles\n",
    "df_test_na_pib=df_test_na_pib.drop(['Population_x'],axis=1)\n",
    "df_test_na_pib=df_test_na_pib.drop(['PIB/habitant_x'],axis=1)\n",
    "df_test_na_pib=df_test_na_pib.drop(['PIB_x'],axis=1)\n",
    "\n",
    "# On renomme les colonnes merge\n",
    "df_test_na_pib=df_test_na_pib.rename(columns={'Population_y':'Population'})\n",
    "df_test_na_pib=df_test_na_pib.rename(columns={'PIB/habitant_y':'PIB/habitant'})\n",
    "df_test_na_pib=df_test_na_pib.rename(columns={'PIB_y':'PIB'})\n",
    "\n",
    "df_complete=pd.concat([df_complete,df_test_na_pib],ignore_index=True)"
   ]
  },
  {
   "cell_type": "code",
   "execution_count": 42,
   "metadata": {},
   "outputs": [
    {
     "name": "stdout",
     "output_type": "stream",
     "text": [
      "In [42] used 0.0 MiB RAM in 0.11s (system mean cpu 10%, single max cpu 100%), peaked 0.0 MiB above final usage, current RAM usage now 708.3 MiB\n"
     ]
    }
   ],
   "source": [
    "# Attribution du PIB aux pays manquants\n",
    "df_complete['PIB']=df_complete['PIB'].fillna(df_complete['Country'].map(dictio_pop_gpd))"
   ]
  },
  {
   "cell_type": "markdown",
   "metadata": {},
   "source": [
    "### Opérations sur les âges"
   ]
  },
  {
   "cell_type": "code",
   "execution_count": 43,
   "metadata": {},
   "outputs": [
    {
     "name": "stdout",
     "output_type": "stream",
     "text": [
      "In [43] used 0.2 MiB RAM in 0.13s (system mean cpu 9%, single max cpu 67%), peaked 0.0 MiB above final usage, current RAM usage now 708.5 MiB\n"
     ]
    }
   ],
   "source": [
    "# On attribue les âges manquants en faisant la moyenne des âges par sport\n",
    "table_sport_age=df_complete.groupby('Sport')['Age'].mean().apply(math.ceil).reset_index()\n",
    "\n",
    "liste_sport=table_sport_age['Sport'].tolist()\n",
    "liste_age=table_sport_age['Age'].tolist()\n",
    "\n",
    "dictio_age_sport=dict(zip(liste_sport,liste_age))\n",
    "\n",
    "df_complete['Age']=df_complete['Age'].fillna(df_complete['Sport'].map(dictio_age_sport))"
   ]
  },
  {
   "cell_type": "code",
   "execution_count": 44,
   "metadata": {},
   "outputs": [
    {
     "name": "stdout",
     "output_type": "stream",
     "text": [
      "In [44] used 0.0 MiB RAM in 0.13s (system mean cpu 10%, single max cpu 100%), peaked 0.0 MiB above final usage, current RAM usage now 708.5 MiB\n"
     ]
    }
   ],
   "source": [
    "# Il y a 156 personnes qui manquent car nous n'avons pas les sports \n",
    "df_complete=df_complete.dropna(subset='Age')"
   ]
  },
  {
   "cell_type": "markdown",
   "metadata": {},
   "source": [
    "### Opérations sur le sexe, le poids et les tailles"
   ]
  },
  {
   "cell_type": "code",
   "execution_count": 45,
   "metadata": {},
   "outputs": [
    {
     "name": "stdout",
     "output_type": "stream",
     "text": [
      "In [45] used 0.0 MiB RAM in 0.12s (system mean cpu 14%, single max cpu 100%), peaked 0.0 MiB above final usage, current RAM usage now 708.5 MiB\n"
     ]
    }
   ],
   "source": [
    "df_male = df_complete[df_complete['Sex'] == 'M']\n",
    "df_female = df_complete[df_complete['Sex'] == 'F']\n",
    "columns_to_impute = ['Age', 'Height', 'Weight']"
   ]
  },
  {
   "cell_type": "code",
   "execution_count": 46,
   "metadata": {},
   "outputs": [
    {
     "name": "stderr",
     "output_type": "stream",
     "text": [
      "/var/folders/38/1vcxjcxx0z75mdh8whh4pw6r0000gn/T/ipykernel_2440/3237411982.py:5: SettingWithCopyWarning: \n",
      "A value is trying to be set on a copy of a slice from a DataFrame.\n",
      "Try using .loc[row_indexer,col_indexer] = value instead\n",
      "\n",
      "See the caveats in the documentation: https://pandas.pydata.org/pandas-docs/stable/user_guide/indexing.html#returning-a-view-versus-a-copy\n",
      "  df_male[columns_to_impute] = imputer.fit_transform(df_male[columns_to_impute])\n"
     ]
    },
    {
     "name": "stdout",
     "output_type": "stream",
     "text": [
      "In [46] used 292.8 MiB RAM in 47.78s (system mean cpu 6%, single max cpu 100%), peaked 3201.9 MiB above final usage, current RAM usage now 1001.3 MiB\n"
     ]
    },
    {
     "name": "stderr",
     "output_type": "stream",
     "text": [
      "/var/folders/38/1vcxjcxx0z75mdh8whh4pw6r0000gn/T/ipykernel_2440/3237411982.py:8: SettingWithCopyWarning: \n",
      "A value is trying to be set on a copy of a slice from a DataFrame.\n",
      "Try using .loc[row_indexer,col_indexer] = value instead\n",
      "\n",
      "See the caveats in the documentation: https://pandas.pydata.org/pandas-docs/stable/user_guide/indexing.html#returning-a-view-versus-a-copy\n",
      "  df_female[columns_to_impute] = imputer.fit_transform(df_female[columns_to_impute])\n"
     ]
    }
   ],
   "source": [
    "# Créer un imputer KNN avec un nombre de voisins à considérer (k)\n",
    "imputer = KNNImputer(n_neighbors=5)\n",
    "\n",
    "# Imputer les valeurs manquantes pour les hommes\n",
    "df_male[columns_to_impute] = imputer.fit_transform(df_male[columns_to_impute])\n",
    "\n",
    "# Imputer les valeurs manquantes pour les femmes\n",
    "df_female[columns_to_impute] = imputer.fit_transform(df_female[columns_to_impute])\n",
    "\n",
    "# Fusionner les DataFrames pour obtenir le DataFrame complet\n",
    "df_complete = pd.concat([df_male, df_female])"
   ]
  },
  {
   "cell_type": "markdown",
   "metadata": {},
   "source": [
    "## Traitement des valeurs aberrantes"
   ]
  },
  {
   "cell_type": "code",
   "execution_count": 47,
   "metadata": {},
   "outputs": [
    {
     "name": "stdout",
     "output_type": "stream",
     "text": [
      "In [47] used 0.0 MiB RAM in 0.10s (system mean cpu 6%, single max cpu 100%), peaked 0.0 MiB above final usage, current RAM usage now 1001.4 MiB\n"
     ]
    }
   ],
   "source": [
    "# A faire\n",
    "# TODO : Guillaume"
   ]
  },
  {
   "cell_type": "code",
   "execution_count": 48,
   "metadata": {},
   "outputs": [
    {
     "data": {
      "text/plain": [
       "<Axes: >"
      ]
     },
     "execution_count": 48,
     "metadata": {},
     "output_type": "execute_result"
    },
    {
     "data": {
      "image/png": "[encoded data removed]",
      "text/plain": [
       "<Figure size 640x480 with 1 Axes>"
      ]
     },
     "metadata": {},
     "output_type": "display_data"
    },
    {
     "name": "stdout",
     "output_type": "stream",
     "text": [
      "In [48] used 1.6 MiB RAM in 0.72s (system mean cpu 7%, single max cpu 100%), peaked 0.0 MiB above final usage, current RAM usage now 1003.0 MiB\n"
     ]
    }
   ],
   "source": [
    "df_complete.boxplot()"
   ]
  },
  {
   "cell_type": "code",
   "execution_count": 49,
   "metadata": {},
   "outputs": [
    {
     "name": "stdout",
     "output_type": "stream",
     "text": [
      "       Age  Height  Weight\n",
      "0.05  18.0    2.08    51.0\n",
      "0.99  44.0  202.00   117.0\n",
      "In [49] used 11.7 MiB RAM in 0.13s (system mean cpu 8%, single max cpu 100%), peaked 0.0 MiB above final usage, current RAM usage now 1014.7 MiB\n"
     ]
    }
   ],
   "source": [
    "# On va modifier les plus hauts outliers identifiés pour Age, Height et Weight par la valeur du 99ème quantile\n",
    "\n",
    "cols = ['Age', 'Height', 'Weight']\n",
    "low = .05\n",
    "high = .99 # Retourne les valeurs au 99ème quantile\n",
    "\n",
    "# Calcul des quantiles\n",
    "quant_df =  df_complete[cols].quantile([low, high])\n",
    "print(quant_df)\n",
    "\n",
    "# Remplacement des outliers par le 99ème quantile\n",
    "for col in cols:\n",
    "    high_val = quant_df[col].loc[high]\n",
    "    df_complete[col] = np.where(df_complete[col] > high_val, high_val, df_complete[col])\n"
   ]
  },
  {
   "cell_type": "code",
   "execution_count": 50,
   "metadata": {},
   "outputs": [
    {
     "name": "stdout",
     "output_type": "stream",
     "text": [
      "In [50] used 0.1 MiB RAM in 0.12s (system mean cpu 7%, single max cpu 100%), peaked 0.0 MiB above final usage, current RAM usage now 1014.8 MiB\n"
     ]
    }
   ],
   "source": [
    "higher = quant_df.loc[high,'Age']\n",
    "higher\n",
    "\n",
    "def func(x):\n",
    "    if x >= higher:\n",
    "        return higher\n",
    "    else:\n",
    "        return x\n",
    "\n",
    "df_complete['Age'] = df_complete['Age'].apply(func)"
   ]
  },
  {
   "cell_type": "code",
   "execution_count": 51,
   "metadata": {},
   "outputs": [
    {
     "name": "stdout",
     "output_type": "stream",
     "text": [
      "In [51] used 0.0 MiB RAM in 0.12s (system mean cpu 6%, single max cpu 100%), peaked 0.0 MiB above final usage, current RAM usage now 1014.8 MiB\n"
     ]
    }
   ],
   "source": [
    "higher = quant_df.loc[high,'Height']\n",
    "higher\n",
    "\n",
    "def func(x):\n",
    "    if x >= higher:\n",
    "        return higher\n",
    "    else:\n",
    "        return x\n",
    "\n",
    "df_complete['Height'] = df_complete['Height'].apply(func)"
   ]
  },
  {
   "cell_type": "code",
   "execution_count": 52,
   "metadata": {},
   "outputs": [
    {
     "name": "stdout",
     "output_type": "stream",
     "text": [
      "In [52] used 0.0 MiB RAM in 0.12s (system mean cpu 7%, single max cpu 100%), peaked 0.0 MiB above final usage, current RAM usage now 1014.8 MiB\n"
     ]
    }
   ],
   "source": [
    "higher = quant_df.loc[high,'Weight']\n",
    "higher\n",
    "\n",
    "def func(x):\n",
    "    if x >= higher:\n",
    "        return higher\n",
    "    else:\n",
    "        return x\n",
    "\n",
    "df_complete['Weight'] = df_complete['Weight'].apply(func)"
   ]
  },
  {
   "cell_type": "code",
   "execution_count": 53,
   "metadata": {},
   "outputs": [
    {
     "data": {
      "text/html": [
       "<div>\n",
       "<style scoped>\n",
       "    .dataframe tbody tr th:only-of-type {\n",
       "        vertical-align: middle;\n",
       "    }\n",
       "\n",
       "    .dataframe tbody tr th {\n",
       "        vertical-align: top;\n",
       "    }\n",
       "\n",
       "    .dataframe thead th {\n",
       "        text-align: right;\n",
       "    }\n",
       "</style>\n",
       "<table border=\"1\" class=\"dataframe\">\n",
       "  <thead>\n",
       "    <tr style=\"text-align: right;\">\n",
       "      <th></th>\n",
       "      <th>Name</th>\n",
       "      <th>Sex</th>\n",
       "      <th>Age</th>\n",
       "      <th>Height</th>\n",
       "      <th>Weight</th>\n",
       "      <th>Team</th>\n",
       "      <th>NOC</th>\n",
       "      <th>Games</th>\n",
       "      <th>Year</th>\n",
       "      <th>Season</th>\n",
       "      <th>...</th>\n",
       "      <th>Sport</th>\n",
       "      <th>Event</th>\n",
       "      <th>Medal</th>\n",
       "      <th>Population</th>\n",
       "      <th>PIB/habitant</th>\n",
       "      <th>Country</th>\n",
       "      <th>Host_country</th>\n",
       "      <th>Participation_own_country</th>\n",
       "      <th>Soviet_past</th>\n",
       "      <th>PIB</th>\n",
       "    </tr>\n",
       "  </thead>\n",
       "  <tbody>\n",
       "    <tr>\n",
       "      <th>71</th>\n",
       "      <td>William \"Bill\" Abbott Jr.</td>\n",
       "      <td>M</td>\n",
       "      <td>44.0</td>\n",
       "      <td>172.0</td>\n",
       "      <td>80.0</td>\n",
       "      <td>Canada</td>\n",
       "      <td>CAN</td>\n",
       "      <td>2000 Summer</td>\n",
       "      <td>2000</td>\n",
       "      <td>Summer</td>\n",
       "      <td>...</td>\n",
       "      <td>Sailing</td>\n",
       "      <td>Sailing Mixed Three Person Keelboat</td>\n",
       "      <td>NaN</td>\n",
       "      <td>35851774.0</td>\n",
       "      <td>43248.529909</td>\n",
       "      <td>Canada</td>\n",
       "      <td>Australia</td>\n",
       "      <td>0</td>\n",
       "      <td>0</td>\n",
       "      <td>2.139840e+12</td>\n",
       "    </tr>\n",
       "    <tr>\n",
       "      <th>846</th>\n",
       "      <td>Teruyoshi Akiyama</td>\n",
       "      <td>M</td>\n",
       "      <td>44.0</td>\n",
       "      <td>168.0</td>\n",
       "      <td>65.0</td>\n",
       "      <td>Japan</td>\n",
       "      <td>JPN</td>\n",
       "      <td>2016 Summer</td>\n",
       "      <td>2016</td>\n",
       "      <td>Summer</td>\n",
       "      <td>...</td>\n",
       "      <td>Shooting</td>\n",
       "      <td>Shooting Men's Rapid-Fire Pistol, 25 metres</td>\n",
       "      <td>NaN</td>\n",
       "      <td>126958472.0</td>\n",
       "      <td>32477.215145</td>\n",
       "      <td>Japan</td>\n",
       "      <td>Brazil</td>\n",
       "      <td>0</td>\n",
       "      <td>0</td>\n",
       "      <td>4.231140e+12</td>\n",
       "    </tr>\n",
       "    <tr>\n",
       "      <th>907</th>\n",
       "      <td>Nasser Salih Nasser Abdullah Al-Attiya</td>\n",
       "      <td>M</td>\n",
       "      <td>44.0</td>\n",
       "      <td>178.0</td>\n",
       "      <td>82.0</td>\n",
       "      <td>Qatar</td>\n",
       "      <td>QAT</td>\n",
       "      <td>2016 Summer</td>\n",
       "      <td>2016</td>\n",
       "      <td>Summer</td>\n",
       "      <td>...</td>\n",
       "      <td>Shooting</td>\n",
       "      <td>Shooting Men's Skeet</td>\n",
       "      <td>NaN</td>\n",
       "      <td>2235355.0</td>\n",
       "      <td>73653.394435</td>\n",
       "      <td>Qatar</td>\n",
       "      <td>Brazil</td>\n",
       "      <td>0</td>\n",
       "      <td>0</td>\n",
       "      <td>2.372960e+11</td>\n",
       "    </tr>\n",
       "    <tr>\n",
       "      <th>931</th>\n",
       "      <td>Dadallah Noor Mohamed Al-Bulushi</td>\n",
       "      <td>M</td>\n",
       "      <td>44.0</td>\n",
       "      <td>172.0</td>\n",
       "      <td>86.0</td>\n",
       "      <td>Oman</td>\n",
       "      <td>OMA</td>\n",
       "      <td>2008 Summer</td>\n",
       "      <td>2008</td>\n",
       "      <td>Summer</td>\n",
       "      <td>...</td>\n",
       "      <td>Shooting</td>\n",
       "      <td>Shooting Men's Small-Bore Rifle, Prone, 50 metres</td>\n",
       "      <td>NaN</td>\n",
       "      <td>4490541.0</td>\n",
       "      <td>15550.676251</td>\n",
       "      <td>Oman</td>\n",
       "      <td>China</td>\n",
       "      <td>0</td>\n",
       "      <td>0</td>\n",
       "      <td>1.146670e+11</td>\n",
       "    </tr>\n",
       "    <tr>\n",
       "      <th>940</th>\n",
       "      <td>Fehaid Al-Deehani</td>\n",
       "      <td>M</td>\n",
       "      <td>44.0</td>\n",
       "      <td>178.0</td>\n",
       "      <td>95.0</td>\n",
       "      <td>Kuwait</td>\n",
       "      <td>KUW</td>\n",
       "      <td>2012 Summer</td>\n",
       "      <td>2012</td>\n",
       "      <td>Summer</td>\n",
       "      <td>...</td>\n",
       "      <td>Shooting</td>\n",
       "      <td>Shooting Men's Trap</td>\n",
       "      <td>Bronze</td>\n",
       "      <td>3892115.0</td>\n",
       "      <td>29300.575575</td>\n",
       "      <td>Kuwait</td>\n",
       "      <td>United Kingdom</td>\n",
       "      <td>0</td>\n",
       "      <td>0</td>\n",
       "      <td>1.845580e+11</td>\n",
       "    </tr>\n",
       "    <tr>\n",
       "      <th>...</th>\n",
       "      <td>...</td>\n",
       "      <td>...</td>\n",
       "      <td>...</td>\n",
       "      <td>...</td>\n",
       "      <td>...</td>\n",
       "      <td>...</td>\n",
       "      <td>...</td>\n",
       "      <td>...</td>\n",
       "      <td>...</td>\n",
       "      <td>...</td>\n",
       "      <td>...</td>\n",
       "      <td>...</td>\n",
       "      <td>...</td>\n",
       "      <td>...</td>\n",
       "      <td>...</td>\n",
       "      <td>...</td>\n",
       "      <td>...</td>\n",
       "      <td>...</td>\n",
       "      <td>...</td>\n",
       "      <td>...</td>\n",
       "      <td>...</td>\n",
       "    </tr>\n",
       "    <tr>\n",
       "      <th>86112</th>\n",
       "      <td>Jasna ekari (Brajkovi-)</td>\n",
       "      <td>F</td>\n",
       "      <td>44.0</td>\n",
       "      <td>175.0</td>\n",
       "      <td>70.0</td>\n",
       "      <td>Serbia</td>\n",
       "      <td>SRB</td>\n",
       "      <td>2012 Summer</td>\n",
       "      <td>2012</td>\n",
       "      <td>Summer</td>\n",
       "      <td>...</td>\n",
       "      <td>Shooting</td>\n",
       "      <td>Shooting Women's Sporting Pistol, 25 metres</td>\n",
       "      <td>NaN</td>\n",
       "      <td>7221365.0</td>\n",
       "      <td>8794.000000</td>\n",
       "      <td>Serbia</td>\n",
       "      <td>United Kingdom</td>\n",
       "      <td>0</td>\n",
       "      <td>0</td>\n",
       "      <td>6.350175e+10</td>\n",
       "    </tr>\n",
       "    <tr>\n",
       "      <th>86702</th>\n",
       "      <td>CHOW Felice Aisha</td>\n",
       "      <td>F</td>\n",
       "      <td>44.0</td>\n",
       "      <td>168.0</td>\n",
       "      <td>57.6</td>\n",
       "      <td>Trinidad and Tobago</td>\n",
       "      <td>TTO</td>\n",
       "      <td>Tokyo 2020</td>\n",
       "      <td>2020</td>\n",
       "      <td>Summer</td>\n",
       "      <td>...</td>\n",
       "      <td>Rowing</td>\n",
       "      <td>NaN</td>\n",
       "      <td>NaN</td>\n",
       "      <td>1531044.0</td>\n",
       "      <td>18222.000000</td>\n",
       "      <td>Trinidad</td>\n",
       "      <td>Japan</td>\n",
       "      <td>0</td>\n",
       "      <td>0</td>\n",
       "      <td>2.789908e+10</td>\n",
       "    </tr>\n",
       "    <tr>\n",
       "      <th>87113</th>\n",
       "      <td>CHOW Felice Aisha</td>\n",
       "      <td>F</td>\n",
       "      <td>44.0</td>\n",
       "      <td>168.0</td>\n",
       "      <td>57.6</td>\n",
       "      <td>Trinidad and Tobago</td>\n",
       "      <td>TTO</td>\n",
       "      <td>Tokyo 2020</td>\n",
       "      <td>2020</td>\n",
       "      <td>Summer</td>\n",
       "      <td>...</td>\n",
       "      <td>Rowing</td>\n",
       "      <td>NaN</td>\n",
       "      <td>NaN</td>\n",
       "      <td>1531044.0</td>\n",
       "      <td>18222.000000</td>\n",
       "      <td>Trinidad</td>\n",
       "      <td>Japan</td>\n",
       "      <td>0</td>\n",
       "      <td>0</td>\n",
       "      <td>2.789908e+10</td>\n",
       "    </tr>\n",
       "    <tr>\n",
       "      <th>89128</th>\n",
       "      <td>Park Yong-Hui</td>\n",
       "      <td>F</td>\n",
       "      <td>44.0</td>\n",
       "      <td>160.0</td>\n",
       "      <td>63.0</td>\n",
       "      <td>North Korea</td>\n",
       "      <td>PRK</td>\n",
       "      <td>2016 Summer</td>\n",
       "      <td>2016</td>\n",
       "      <td>Summer</td>\n",
       "      <td>...</td>\n",
       "      <td>Shooting</td>\n",
       "      <td>Shooting Women's Trap</td>\n",
       "      <td>NaN</td>\n",
       "      <td>51815810.0</td>\n",
       "      <td>32138.000000</td>\n",
       "      <td>South Korea</td>\n",
       "      <td>Brazil</td>\n",
       "      <td>0</td>\n",
       "      <td>0</td>\n",
       "      <td>1.665250e+12</td>\n",
       "    </tr>\n",
       "    <tr>\n",
       "      <th>89129</th>\n",
       "      <td>Christine Patton</td>\n",
       "      <td>F</td>\n",
       "      <td>44.0</td>\n",
       "      <td>163.0</td>\n",
       "      <td>64.0</td>\n",
       "      <td>Bermuda</td>\n",
       "      <td>BER</td>\n",
       "      <td>2004 Summer</td>\n",
       "      <td>2004</td>\n",
       "      <td>Summer</td>\n",
       "      <td>...</td>\n",
       "      <td>Sailing</td>\n",
       "      <td>Sailing Women's Three Person Keelboat</td>\n",
       "      <td>NaN</td>\n",
       "      <td>63532.0</td>\n",
       "      <td>118774.000000</td>\n",
       "      <td>Bermuda</td>\n",
       "      <td>Greece</td>\n",
       "      <td>0</td>\n",
       "      <td>0</td>\n",
       "      <td>7.645000e+09</td>\n",
       "    </tr>\n",
       "  </tbody>\n",
       "</table>\n",
       "<p>939 rows × 21 columns</p>\n",
       "</div>"
      ],
      "text/plain": [
       "                                         Name Sex   Age  Height  Weight  \\\n",
       "71                  William \"Bill\" Abbott Jr.   M  44.0   172.0    80.0   \n",
       "846                         Teruyoshi Akiyama   M  44.0   168.0    65.0   \n",
       "907    Nasser Salih Nasser Abdullah Al-Attiya   M  44.0   178.0    82.0   \n",
       "931          Dadallah Noor Mohamed Al-Bulushi   M  44.0   172.0    86.0   \n",
       "940                         Fehaid Al-Deehani   M  44.0   178.0    95.0   \n",
       "...                                       ...  ..   ...     ...     ...   \n",
       "86112                 Jasna ekari (Brajkovi-)   F  44.0   175.0    70.0   \n",
       "86702                       CHOW Felice Aisha   F  44.0   168.0    57.6   \n",
       "87113                       CHOW Felice Aisha   F  44.0   168.0    57.6   \n",
       "89128                           Park Yong-Hui   F  44.0   160.0    63.0   \n",
       "89129                        Christine Patton   F  44.0   163.0    64.0   \n",
       "\n",
       "                      Team  NOC        Games  Year  Season  ...     Sport  \\\n",
       "71                  Canada  CAN  2000 Summer  2000  Summer  ...   Sailing   \n",
       "846                  Japan  JPN  2016 Summer  2016  Summer  ...  Shooting   \n",
       "907                  Qatar  QAT  2016 Summer  2016  Summer  ...  Shooting   \n",
       "931                   Oman  OMA  2008 Summer  2008  Summer  ...  Shooting   \n",
       "940                 Kuwait  KUW  2012 Summer  2012  Summer  ...  Shooting   \n",
       "...                    ...  ...          ...   ...     ...  ...       ...   \n",
       "86112               Serbia  SRB  2012 Summer  2012  Summer  ...  Shooting   \n",
       "86702  Trinidad and Tobago  TTO   Tokyo 2020  2020  Summer  ...    Rowing   \n",
       "87113  Trinidad and Tobago  TTO   Tokyo 2020  2020  Summer  ...    Rowing   \n",
       "89128          North Korea  PRK  2016 Summer  2016  Summer  ...  Shooting   \n",
       "89129              Bermuda  BER  2004 Summer  2004  Summer  ...   Sailing   \n",
       "\n",
       "                                                   Event   Medal   Population  \\\n",
       "71                   Sailing Mixed Three Person Keelboat     NaN   35851774.0   \n",
       "846          Shooting Men's Rapid-Fire Pistol, 25 metres     NaN  126958472.0   \n",
       "907                                 Shooting Men's Skeet     NaN    2235355.0   \n",
       "931    Shooting Men's Small-Bore Rifle, Prone, 50 metres     NaN    4490541.0   \n",
       "940                                  Shooting Men's Trap  Bronze    3892115.0   \n",
       "...                                                  ...     ...          ...   \n",
       "86112        Shooting Women's Sporting Pistol, 25 metres     NaN    7221365.0   \n",
       "86702                                                NaN     NaN    1531044.0   \n",
       "87113                                                NaN     NaN    1531044.0   \n",
       "89128                              Shooting Women's Trap     NaN   51815810.0   \n",
       "89129              Sailing Women's Three Person Keelboat     NaN      63532.0   \n",
       "\n",
       "        PIB/habitant      Country    Host_country Participation_own_country  \\\n",
       "71      43248.529909       Canada       Australia                         0   \n",
       "846     32477.215145        Japan          Brazil                         0   \n",
       "907     73653.394435        Qatar          Brazil                         0   \n",
       "931     15550.676251         Oman           China                         0   \n",
       "940     29300.575575       Kuwait  United Kingdom                         0   \n",
       "...              ...          ...             ...                       ...   \n",
       "86112    8794.000000       Serbia  United Kingdom                         0   \n",
       "86702   18222.000000     Trinidad           Japan                         0   \n",
       "87113   18222.000000     Trinidad           Japan                         0   \n",
       "89128   32138.000000  South Korea          Brazil                         0   \n",
       "89129  118774.000000      Bermuda          Greece                         0   \n",
       "\n",
       "       Soviet_past           PIB  \n",
       "71               0  2.139840e+12  \n",
       "846              0  4.231140e+12  \n",
       "907              0  2.372960e+11  \n",
       "931              0  1.146670e+11  \n",
       "940              0  1.845580e+11  \n",
       "...            ...           ...  \n",
       "86112            0  6.350175e+10  \n",
       "86702            0  2.789908e+10  \n",
       "87113            0  2.789908e+10  \n",
       "89128            0  1.665250e+12  \n",
       "89129            0  7.645000e+09  \n",
       "\n",
       "[939 rows x 21 columns]"
      ]
     },
     "execution_count": 53,
     "metadata": {},
     "output_type": "execute_result"
    },
    {
     "name": "stdout",
     "output_type": "stream",
     "text": [
      "In [53] used 1.1 MiB RAM in 0.12s (system mean cpu 7%, single max cpu 100%), peaked 0.0 MiB above final usage, current RAM usage now 1016.0 MiB\n"
     ]
    }
   ],
   "source": [
    "# On vérifie que pour les valeurs les plus hautes, on a bien modifié la valeur\n",
    "\n",
    "df_complete[df_complete['Age'].ge(quant_df.loc[high,'Age'])]"
   ]
  },
  {
   "cell_type": "markdown",
   "metadata": {},
   "source": [
    "df_complete[df_complete['Height'].ge(quant_df.loc[Height'])]"
   ]
  },
  {
   "cell_type": "code",
   "execution_count": 54,
   "metadata": {},
   "outputs": [
    {
     "data": {
      "text/html": [
       "<div>\n",
       "<style scoped>\n",
       "    .dataframe tbody tr th:only-of-type {\n",
       "        vertical-align: middle;\n",
       "    }\n",
       "\n",
       "    .dataframe tbody tr th {\n",
       "        vertical-align: top;\n",
       "    }\n",
       "\n",
       "    .dataframe thead th {\n",
       "        text-align: right;\n",
       "    }\n",
       "</style>\n",
       "<table border=\"1\" class=\"dataframe\">\n",
       "  <thead>\n",
       "    <tr style=\"text-align: right;\">\n",
       "      <th></th>\n",
       "      <th>Name</th>\n",
       "      <th>Sex</th>\n",
       "      <th>Age</th>\n",
       "      <th>Height</th>\n",
       "      <th>Weight</th>\n",
       "      <th>Team</th>\n",
       "      <th>NOC</th>\n",
       "      <th>Games</th>\n",
       "      <th>Year</th>\n",
       "      <th>Season</th>\n",
       "      <th>...</th>\n",
       "      <th>Sport</th>\n",
       "      <th>Event</th>\n",
       "      <th>Medal</th>\n",
       "      <th>Population</th>\n",
       "      <th>PIB/habitant</th>\n",
       "      <th>Country</th>\n",
       "      <th>Host_country</th>\n",
       "      <th>Participation_own_country</th>\n",
       "      <th>Soviet_past</th>\n",
       "      <th>PIB</th>\n",
       "    </tr>\n",
       "  </thead>\n",
       "  <tbody>\n",
       "    <tr>\n",
       "      <th>3</th>\n",
       "      <td>Timo Antero Aaltonen</td>\n",
       "      <td>M</td>\n",
       "      <td>31.0</td>\n",
       "      <td>189.0</td>\n",
       "      <td>117.0</td>\n",
       "      <td>Finland</td>\n",
       "      <td>FIN</td>\n",
       "      <td>2000 Summer</td>\n",
       "      <td>2000</td>\n",
       "      <td>Summer</td>\n",
       "      <td>...</td>\n",
       "      <td>Athletics</td>\n",
       "      <td>Athletics Men's Shot Put</td>\n",
       "      <td>NaN</td>\n",
       "      <td>5482013.0</td>\n",
       "      <td>42311.036231</td>\n",
       "      <td>Finland</td>\n",
       "      <td>Australia</td>\n",
       "      <td>0</td>\n",
       "      <td>0</td>\n",
       "      <td>2.808260e+11</td>\n",
       "    </tr>\n",
       "    <tr>\n",
       "      <th>105</th>\n",
       "      <td>Yasser Abdel Rahman Sakr</td>\n",
       "      <td>M</td>\n",
       "      <td>30.0</td>\n",
       "      <td>180.0</td>\n",
       "      <td>117.0</td>\n",
       "      <td>Egypt</td>\n",
       "      <td>EGY</td>\n",
       "      <td>2008 Summer</td>\n",
       "      <td>2008</td>\n",
       "      <td>Summer</td>\n",
       "      <td>...</td>\n",
       "      <td>Wrestling</td>\n",
       "      <td>Wrestling Men's Super-Heavyweight, Greco-Roman</td>\n",
       "      <td>NaN</td>\n",
       "      <td>91508084.0</td>\n",
       "      <td>3614.746766</td>\n",
       "      <td>Egypt</td>\n",
       "      <td>China</td>\n",
       "      <td>0</td>\n",
       "      <td>0</td>\n",
       "      <td>4.767480e+11</td>\n",
       "    </tr>\n",
       "    <tr>\n",
       "      <th>181</th>\n",
       "      <td>Muminzhon Abdullayev</td>\n",
       "      <td>M</td>\n",
       "      <td>22.0</td>\n",
       "      <td>190.0</td>\n",
       "      <td>117.0</td>\n",
       "      <td>Uzbekistan</td>\n",
       "      <td>UZB</td>\n",
       "      <td>2012 Summer</td>\n",
       "      <td>2012</td>\n",
       "      <td>Summer</td>\n",
       "      <td>...</td>\n",
       "      <td>Wrestling</td>\n",
       "      <td>Wrestling Men's Super-Heavyweight, Greco-Roman</td>\n",
       "      <td>NaN</td>\n",
       "      <td>31299500.0</td>\n",
       "      <td>2132.070368</td>\n",
       "      <td>Uzbekistan</td>\n",
       "      <td>United Kingdom</td>\n",
       "      <td>0</td>\n",
       "      <td>1</td>\n",
       "      <td>8.039185e+10</td>\n",
       "    </tr>\n",
       "    <tr>\n",
       "      <th>182</th>\n",
       "      <td>Muminzhon Abdullayev</td>\n",
       "      <td>M</td>\n",
       "      <td>26.0</td>\n",
       "      <td>190.0</td>\n",
       "      <td>117.0</td>\n",
       "      <td>Uzbekistan</td>\n",
       "      <td>UZB</td>\n",
       "      <td>2016 Summer</td>\n",
       "      <td>2016</td>\n",
       "      <td>Summer</td>\n",
       "      <td>...</td>\n",
       "      <td>Wrestling</td>\n",
       "      <td>Wrestling Men's Super-Heavyweight, Greco-Roman</td>\n",
       "      <td>NaN</td>\n",
       "      <td>31299500.0</td>\n",
       "      <td>2132.070368</td>\n",
       "      <td>Uzbekistan</td>\n",
       "      <td>Brazil</td>\n",
       "      <td>0</td>\n",
       "      <td>1</td>\n",
       "      <td>8.039185e+10</td>\n",
       "    </tr>\n",
       "    <tr>\n",
       "      <th>202</th>\n",
       "      <td>Mukhamadmurod Abdurakhmonov</td>\n",
       "      <td>M</td>\n",
       "      <td>29.0</td>\n",
       "      <td>192.0</td>\n",
       "      <td>117.0</td>\n",
       "      <td>Tajikistan</td>\n",
       "      <td>TJK</td>\n",
       "      <td>2016 Summer</td>\n",
       "      <td>2016</td>\n",
       "      <td>Summer</td>\n",
       "      <td>...</td>\n",
       "      <td>Judo</td>\n",
       "      <td>Judo Men's Heavyweight</td>\n",
       "      <td>NaN</td>\n",
       "      <td>8481855.0</td>\n",
       "      <td>925.911888</td>\n",
       "      <td>Tajikistan</td>\n",
       "      <td>Brazil</td>\n",
       "      <td>0</td>\n",
       "      <td>1</td>\n",
       "      <td>1.049212e+10</td>\n",
       "    </tr>\n",
       "    <tr>\n",
       "      <th>...</th>\n",
       "      <td>...</td>\n",
       "      <td>...</td>\n",
       "      <td>...</td>\n",
       "      <td>...</td>\n",
       "      <td>...</td>\n",
       "      <td>...</td>\n",
       "      <td>...</td>\n",
       "      <td>...</td>\n",
       "      <td>...</td>\n",
       "      <td>...</td>\n",
       "      <td>...</td>\n",
       "      <td>...</td>\n",
       "      <td>...</td>\n",
       "      <td>...</td>\n",
       "      <td>...</td>\n",
       "      <td>...</td>\n",
       "      <td>...</td>\n",
       "      <td>...</td>\n",
       "      <td>...</td>\n",
       "      <td>...</td>\n",
       "      <td>...</td>\n",
       "    </tr>\n",
       "    <tr>\n",
       "      <th>85464</th>\n",
       "      <td>Lee Hsiao-Hung</td>\n",
       "      <td>F</td>\n",
       "      <td>21.0</td>\n",
       "      <td>183.0</td>\n",
       "      <td>117.0</td>\n",
       "      <td>Chinese Taipei</td>\n",
       "      <td>TPE</td>\n",
       "      <td>2000 Summer</td>\n",
       "      <td>2000</td>\n",
       "      <td>Summer</td>\n",
       "      <td>...</td>\n",
       "      <td>Judo</td>\n",
       "      <td>Judo Women's Heavyweight</td>\n",
       "      <td>NaN</td>\n",
       "      <td>23923276.0</td>\n",
       "      <td>44460.000000</td>\n",
       "      <td>Taiwan</td>\n",
       "      <td>Australia</td>\n",
       "      <td>0</td>\n",
       "      <td>0</td>\n",
       "      <td>7.626700e+11</td>\n",
       "    </tr>\n",
       "    <tr>\n",
       "      <th>85465</th>\n",
       "      <td>Lee Hsiao-Hung</td>\n",
       "      <td>F</td>\n",
       "      <td>25.0</td>\n",
       "      <td>183.0</td>\n",
       "      <td>117.0</td>\n",
       "      <td>Chinese Taipei</td>\n",
       "      <td>TPE</td>\n",
       "      <td>2004 Summer</td>\n",
       "      <td>2004</td>\n",
       "      <td>Summer</td>\n",
       "      <td>...</td>\n",
       "      <td>Judo</td>\n",
       "      <td>Judo Women's Heavyweight</td>\n",
       "      <td>NaN</td>\n",
       "      <td>23923276.0</td>\n",
       "      <td>44460.000000</td>\n",
       "      <td>Taiwan</td>\n",
       "      <td>Greece</td>\n",
       "      <td>0</td>\n",
       "      <td>0</td>\n",
       "      <td>7.626700e+11</td>\n",
       "    </tr>\n",
       "    <tr>\n",
       "      <th>85496</th>\n",
       "      <td>Li Wen-Hua (-Tsai-Yi)</td>\n",
       "      <td>F</td>\n",
       "      <td>22.0</td>\n",
       "      <td>180.0</td>\n",
       "      <td>117.0</td>\n",
       "      <td>Chinese Taipei</td>\n",
       "      <td>TPE</td>\n",
       "      <td>2012 Summer</td>\n",
       "      <td>2012</td>\n",
       "      <td>Summer</td>\n",
       "      <td>...</td>\n",
       "      <td>Athletics</td>\n",
       "      <td>Athletics Women's Discus Throw</td>\n",
       "      <td>NaN</td>\n",
       "      <td>23923276.0</td>\n",
       "      <td>44460.000000</td>\n",
       "      <td>Taiwan</td>\n",
       "      <td>United Kingdom</td>\n",
       "      <td>0</td>\n",
       "      <td>0</td>\n",
       "      <td>7.626700e+11</td>\n",
       "    </tr>\n",
       "    <tr>\n",
       "      <th>87671</th>\n",
       "      <td>Giovanna Jos Blanco Bazon</td>\n",
       "      <td>F</td>\n",
       "      <td>21.0</td>\n",
       "      <td>175.0</td>\n",
       "      <td>117.0</td>\n",
       "      <td>Venezuela</td>\n",
       "      <td>VEN</td>\n",
       "      <td>2004 Summer</td>\n",
       "      <td>2004</td>\n",
       "      <td>Summer</td>\n",
       "      <td>...</td>\n",
       "      <td>Judo</td>\n",
       "      <td>Judo Women's Heavyweight</td>\n",
       "      <td>NaN</td>\n",
       "      <td>29254044.0</td>\n",
       "      <td>2624.000000</td>\n",
       "      <td>Venezuela</td>\n",
       "      <td>Greece</td>\n",
       "      <td>0</td>\n",
       "      <td>0</td>\n",
       "      <td>9.200000e+10</td>\n",
       "    </tr>\n",
       "    <tr>\n",
       "      <th>87672</th>\n",
       "      <td>Giovanna Jos Blanco Bazon</td>\n",
       "      <td>F</td>\n",
       "      <td>29.0</td>\n",
       "      <td>175.0</td>\n",
       "      <td>117.0</td>\n",
       "      <td>Venezuela</td>\n",
       "      <td>VEN</td>\n",
       "      <td>2012 Summer</td>\n",
       "      <td>2012</td>\n",
       "      <td>Summer</td>\n",
       "      <td>...</td>\n",
       "      <td>Judo</td>\n",
       "      <td>Judo Women's Heavyweight</td>\n",
       "      <td>NaN</td>\n",
       "      <td>29254044.0</td>\n",
       "      <td>2624.000000</td>\n",
       "      <td>Venezuela</td>\n",
       "      <td>United Kingdom</td>\n",
       "      <td>0</td>\n",
       "      <td>0</td>\n",
       "      <td>9.200000e+10</td>\n",
       "    </tr>\n",
       "  </tbody>\n",
       "</table>\n",
       "<p>906 rows × 21 columns</p>\n",
       "</div>"
      ],
      "text/plain": [
       "                              Name Sex   Age  Height  Weight            Team  \\\n",
       "3             Timo Antero Aaltonen   M  31.0   189.0   117.0         Finland   \n",
       "105       Yasser Abdel Rahman Sakr   M  30.0   180.0   117.0           Egypt   \n",
       "181           Muminzhon Abdullayev   M  22.0   190.0   117.0      Uzbekistan   \n",
       "182           Muminzhon Abdullayev   M  26.0   190.0   117.0      Uzbekistan   \n",
       "202    Mukhamadmurod Abdurakhmonov   M  29.0   192.0   117.0      Tajikistan   \n",
       "...                            ...  ..   ...     ...     ...             ...   \n",
       "85464               Lee Hsiao-Hung   F  21.0   183.0   117.0  Chinese Taipei   \n",
       "85465               Lee Hsiao-Hung   F  25.0   183.0   117.0  Chinese Taipei   \n",
       "85496        Li Wen-Hua (-Tsai-Yi)   F  22.0   180.0   117.0  Chinese Taipei   \n",
       "87671    Giovanna Jos Blanco Bazon   F  21.0   175.0   117.0       Venezuela   \n",
       "87672    Giovanna Jos Blanco Bazon   F  29.0   175.0   117.0       Venezuela   \n",
       "\n",
       "       NOC        Games  Year  Season  ...      Sport  \\\n",
       "3      FIN  2000 Summer  2000  Summer  ...  Athletics   \n",
       "105    EGY  2008 Summer  2008  Summer  ...  Wrestling   \n",
       "181    UZB  2012 Summer  2012  Summer  ...  Wrestling   \n",
       "182    UZB  2016 Summer  2016  Summer  ...  Wrestling   \n",
       "202    TJK  2016 Summer  2016  Summer  ...       Judo   \n",
       "...    ...          ...   ...     ...  ...        ...   \n",
       "85464  TPE  2000 Summer  2000  Summer  ...       Judo   \n",
       "85465  TPE  2004 Summer  2004  Summer  ...       Judo   \n",
       "85496  TPE  2012 Summer  2012  Summer  ...  Athletics   \n",
       "87671  VEN  2004 Summer  2004  Summer  ...       Judo   \n",
       "87672  VEN  2012 Summer  2012  Summer  ...       Judo   \n",
       "\n",
       "                                                Event Medal  Population  \\\n",
       "3                            Athletics Men's Shot Put   NaN   5482013.0   \n",
       "105    Wrestling Men's Super-Heavyweight, Greco-Roman   NaN  91508084.0   \n",
       "181    Wrestling Men's Super-Heavyweight, Greco-Roman   NaN  31299500.0   \n",
       "182    Wrestling Men's Super-Heavyweight, Greco-Roman   NaN  31299500.0   \n",
       "202                            Judo Men's Heavyweight   NaN   8481855.0   \n",
       "...                                               ...   ...         ...   \n",
       "85464                        Judo Women's Heavyweight   NaN  23923276.0   \n",
       "85465                        Judo Women's Heavyweight   NaN  23923276.0   \n",
       "85496                  Athletics Women's Discus Throw   NaN  23923276.0   \n",
       "87671                        Judo Women's Heavyweight   NaN  29254044.0   \n",
       "87672                        Judo Women's Heavyweight   NaN  29254044.0   \n",
       "\n",
       "       PIB/habitant     Country    Host_country Participation_own_country  \\\n",
       "3      42311.036231     Finland       Australia                         0   \n",
       "105     3614.746766       Egypt           China                         0   \n",
       "181     2132.070368  Uzbekistan  United Kingdom                         0   \n",
       "182     2132.070368  Uzbekistan          Brazil                         0   \n",
       "202      925.911888  Tajikistan          Brazil                         0   \n",
       "...             ...         ...             ...                       ...   \n",
       "85464  44460.000000      Taiwan       Australia                         0   \n",
       "85465  44460.000000      Taiwan          Greece                         0   \n",
       "85496  44460.000000      Taiwan  United Kingdom                         0   \n",
       "87671   2624.000000   Venezuela          Greece                         0   \n",
       "87672   2624.000000   Venezuela  United Kingdom                         0   \n",
       "\n",
       "       Soviet_past           PIB  \n",
       "3                0  2.808260e+11  \n",
       "105              0  4.767480e+11  \n",
       "181              1  8.039185e+10  \n",
       "182              1  8.039185e+10  \n",
       "202              1  1.049212e+10  \n",
       "...            ...           ...  \n",
       "85464            0  7.626700e+11  \n",
       "85465            0  7.626700e+11  \n",
       "85496            0  7.626700e+11  \n",
       "87671            0  9.200000e+10  \n",
       "87672            0  9.200000e+10  \n",
       "\n",
       "[906 rows x 21 columns]"
      ]
     },
     "execution_count": 54,
     "metadata": {},
     "output_type": "execute_result"
    },
    {
     "name": "stdout",
     "output_type": "stream",
     "text": [
      "In [54] used -0.1 MiB RAM in 0.12s (system mean cpu 16%, single max cpu 100%), peaked 0.1 MiB above final usage, current RAM usage now 1015.9 MiB\n"
     ]
    }
   ],
   "source": [
    "df_complete[df_complete['Weight'].ge(quant_df.loc[high,'Weight'])]"
   ]
  },
  {
   "cell_type": "markdown",
   "metadata": {},
   "source": [
    "## Encodage des données"
   ]
  },
  {
   "cell_type": "markdown",
   "metadata": {},
   "source": [
    "Encodage des médailles"
   ]
  },
  {
   "cell_type": "code",
   "execution_count": 55,
   "metadata": {},
   "outputs": [
    {
     "name": "stdout",
     "output_type": "stream",
     "text": [
      "In [55] used 45.2 MiB RAM in 0.29s (system mean cpu 19%, single max cpu 100%), peaked 0.0 MiB above final usage, current RAM usage now 1061.1 MiB\n"
     ]
    }
   ],
   "source": [
    "# Encodage du sexe\n",
    "df_complete['Sex'].replace(['F','M'],['0', '1'],inplace=True)\n",
    "\n",
    "# Encodage des médailles \n",
    "df_complete['Medal'].replace(['Gold','Silver','Bronze'],['5', '3','1'],inplace=True)\n",
    "\n",
    "# transform the medal into numeric values\n",
    "df_complete['Medal'] = df_complete.Medal.fillna('0')\n",
    "\n",
    "#JO Hivers = 0; été = 1\n",
    "df_complete['Season'].replace(['Winter','Summer'],['0', '1'],inplace=True)\n",
    "df_complete = df_complete.drop(df_complete[df_complete['Season'] == '0'].index)\n",
    "\n",
    "# Encodage de l'âge\n",
    "df_complete['Age'] = pd.cut(df_complete.Age, range(0, 80, 5), right=False)\n",
    "\n",
    "# Encodage du poids\n",
    "df_complete['Weight'] = pd.cut(df_complete.Weight, range(0, 230, 10), right=False)\n",
    "\n",
    "# Encodage de la taille\n",
    "df_complete['Height'] = pd.cut(df_complete.Height, range(0, 250, 10), right=False)\n",
    "\n",
    "# Encodage du sport \n",
    "encoder=preprocessing.OneHotEncoder(sparse_output=False)\n",
    "encoder.fit(df_complete[['Sport']])\n",
    "columns_name = encoder.get_feature_names_out(['Sport'])\n",
    "df_encoded = pd.DataFrame(encoder.transform(df_complete[['Sport']]))\n",
    "df_encoded.columns = columns_name\n",
    "df_complete= pd.concat([df_complete, df_encoded], axis=1)\n",
    "\n",
    "df_complete = df_complete.drop('Season', axis=1)"
   ]
  },
  {
   "cell_type": "code",
   "execution_count": 56,
   "metadata": {},
   "outputs": [
    {
     "name": "stdout",
     "output_type": "stream",
     "text": [
      "In [56] used 0.9 MiB RAM in 2.66s (system mean cpu 18%, single max cpu 100%), peaked 0.0 MiB above final usage, current RAM usage now 1062.0 MiB\n"
     ]
    }
   ],
   "source": [
    "# Export du dataframe\n",
    "df_complete.to_csv('data/df_complete.csv', index=False)"
   ]
  },
  {
   "cell_type": "markdown",
   "metadata": {},
   "source": [
    "### Attribution score et poids médaille (Code Noé )"
   ]
  },
  {
   "cell_type": "code",
   "execution_count": 57,
   "metadata": {},
   "outputs": [
    {
     "name": "stdout",
     "output_type": "stream",
     "text": [
      "In [57] used 0.0 MiB RAM in 0.10s (system mean cpu 16%, single max cpu 100%), peaked 0.0 MiB above final usage, current RAM usage now 1062.0 MiB\n"
     ]
    }
   ],
   "source": [
    "# TODO: retirer ? "
   ]
  },
  {
   "cell_type": "markdown",
   "metadata": {},
   "source": [
    "### Nettoyage des colonnes inutiles pour l'analyse"
   ]
  },
  {
   "cell_type": "code",
   "execution_count": 58,
   "metadata": {},
   "outputs": [
    {
     "name": "stdout",
     "output_type": "stream",
     "text": [
      "In [58] used 0.0 MiB RAM in 0.11s (system mean cpu 11%, single max cpu 100%), peaked 0.0 MiB above final usage, current RAM usage now 1062.0 MiB\n"
     ]
    }
   ],
   "source": [
    "# Drop les colonnes qui ne servent à R"
   ]
  },
  {
   "cell_type": "markdown",
   "metadata": {},
   "source": [
    "## Traitement des valeurs manquantes "
   ]
  },
  {
   "cell_type": "markdown",
   "metadata": {},
   "source": [
    "Effectivement notre base de données possède de nombreuses valeurs manquantes "
   ]
  },
  {
   "cell_type": "code",
   "execution_count": 59,
   "metadata": {},
   "outputs": [
    {
     "name": "stdout",
     "output_type": "stream",
     "text": [
      "In [59] used 0.0 MiB RAM in 0.10s (system mean cpu 10%, single max cpu 100%), peaked 0.0 MiB above final usage, current RAM usage now 1062.0 MiB\n"
     ]
    }
   ],
   "source": [
    "# df.isna().sum()"
   ]
  },
  {
   "cell_type": "code",
   "execution_count": 60,
   "metadata": {},
   "outputs": [
    {
     "name": "stdout",
     "output_type": "stream",
     "text": [
      "In [60] used 0.0 MiB RAM in 0.11s (system mean cpu 12%, single max cpu 100%), peaked 0.0 MiB above final usage, current RAM usage now 1062.1 MiB\n"
     ]
    }
   ],
   "source": [
    "### Première solution : Web Scrapping (code Nathan + FLO)"
   ]
  },
  {
   "cell_type": "markdown",
   "metadata": {},
   "source": [
    "# Data understanding"
   ]
  },
  {
   "cell_type": "markdown",
   "metadata": {},
   "source": [
    "## EDA (graph, pivot table ,Matrix confusion...)"
   ]
  },
  {
   "cell_type": "code",
   "execution_count": 61,
   "metadata": {},
   "outputs": [
    {
     "name": "stdout",
     "output_type": "stream",
     "text": [
      "In [61] used -0.1 MiB RAM in 0.11s (system mean cpu 31%, single max cpu 100%), peaked 0.1 MiB above final usage, current RAM usage now 1062.0 MiB\n"
     ]
    }
   ],
   "source": [
    "# TODO: Guillaume / Noé / Flo"
   ]
  },
  {
   "cell_type": "markdown",
   "metadata": {},
   "source": [
    "Utilisation pandas_profiling"
   ]
  },
  {
   "cell_type": "code",
   "execution_count": 62,
   "metadata": {},
   "outputs": [
    {
     "name": "stdout",
     "output_type": "stream",
     "text": [
      "In [62] used -0.1 MiB RAM in 0.11s (system mean cpu 13%, single max cpu 100%), peaked 0.1 MiB above final usage, current RAM usage now 1062.0 MiB\n"
     ]
    }
   ],
   "source": [
    "# profile = ProfileReport(df, title='Pandas Profiling Report')\n",
    "# profile.to_file(\"report-profiling-test.html\")"
   ]
  },
  {
   "cell_type": "markdown",
   "metadata": {},
   "source": [
    "EDA via pivottablejs"
   ]
  },
  {
   "cell_type": "code",
   "execution_count": 63,
   "metadata": {},
   "outputs": [
    {
     "name": "stdout",
     "output_type": "stream",
     "text": [
      "In [63] used 0.0 MiB RAM in 0.10s (system mean cpu 11%, single max cpu 100%), peaked 0.0 MiB above final usage, current RAM usage now 1062.0 MiB\n"
     ]
    }
   ],
   "source": [
    "# pivot_ui(df)"
   ]
  },
  {
   "cell_type": "markdown",
   "metadata": {},
   "source": [
    "Prétraitement des données et création de variables catégorielles"
   ]
  },
  {
   "cell_type": "code",
   "execution_count": 64,
   "metadata": {},
   "outputs": [
    {
     "ename": "KeyError",
     "evalue": "'Season'",
     "output_type": "error",
     "traceback": [
      "\u001b[0;31m---------------------------------------------------------------------------\u001b[0m",
      "\u001b[0;31mKeyError\u001b[0m                                  Traceback (most recent call last)",
      "File \u001b[0;32m~/opt/anaconda3/lib/python3.9/site-packages/pandas/core/indexes/base.py:3800\u001b[0m, in \u001b[0;36mIndex.get_loc\u001b[0;34m(self, key, method, tolerance)\u001b[0m\n\u001b[1;32m   3799\u001b[0m \u001b[38;5;28;01mtry\u001b[39;00m:\n\u001b[0;32m-> 3800\u001b[0m     \u001b[38;5;28;01mreturn\u001b[39;00m \u001b[38;5;28;43mself\u001b[39;49m\u001b[38;5;241;43m.\u001b[39;49m\u001b[43m_engine\u001b[49m\u001b[38;5;241;43m.\u001b[39;49m\u001b[43mget_loc\u001b[49m\u001b[43m(\u001b[49m\u001b[43mcasted_key\u001b[49m\u001b[43m)\u001b[49m\n\u001b[1;32m   3801\u001b[0m \u001b[38;5;28;01mexcept\u001b[39;00m \u001b[38;5;167;01mKeyError\u001b[39;00m \u001b[38;5;28;01mas\u001b[39;00m err:\n",
      "File \u001b[0;32m~/opt/anaconda3/lib/python3.9/site-packages/pandas/_libs/index.pyx:138\u001b[0m, in \u001b[0;36mpandas._libs.index.IndexEngine.get_loc\u001b[0;34m()\u001b[0m\n",
      "File \u001b[0;32m~/opt/anaconda3/lib/python3.9/site-packages/pandas/_libs/index.pyx:165\u001b[0m, in \u001b[0;36mpandas._libs.index.IndexEngine.get_loc\u001b[0;34m()\u001b[0m\n",
      "File \u001b[0;32mpandas/_libs/hashtable_class_helper.pxi:5745\u001b[0m, in \u001b[0;36mpandas._libs.hashtable.PyObjectHashTable.get_item\u001b[0;34m()\u001b[0m\n",
      "File \u001b[0;32mpandas/_libs/hashtable_class_helper.pxi:5753\u001b[0m, in \u001b[0;36mpandas._libs.hashtable.PyObjectHashTable.get_item\u001b[0;34m()\u001b[0m\n",
      "\u001b[0;31mKeyError\u001b[0m: 'Season'",
      "\nThe above exception was the direct cause of the following exception:\n",
      "\u001b[0;31mKeyError\u001b[0m                                  Traceback (most recent call last)",
      "Cell \u001b[0;32mIn[64], line 11\u001b[0m\n\u001b[1;32m      1\u001b[0m \u001b[38;5;66;03m# # TRAITER AGE NULL (moyenne des ages)\u001b[39;00m\n\u001b[1;32m      2\u001b[0m \u001b[38;5;66;03m# df_complete['Age'] = df_complete['Age'].fillna(df_complete['Age'].mean())\u001b[39;00m\n\u001b[1;32m      3\u001b[0m \n\u001b[0;32m   (...)\u001b[0m\n\u001b[1;32m      9\u001b[0m \n\u001b[1;32m     10\u001b[0m \u001b[38;5;66;03m# TRAITER SEASON NULL (0 si null, 1 sinon)\u001b[39;00m\n\u001b[0;32m---> 11\u001b[0m df_complete[\u001b[38;5;124m'\u001b[39m\u001b[38;5;124mSeason\u001b[39m\u001b[38;5;124m'\u001b[39m] \u001b[38;5;241m=\u001b[39m np\u001b[38;5;241m.\u001b[39mwhere(\u001b[43mdf_complete\u001b[49m\u001b[43m[\u001b[49m\u001b[38;5;124;43m'\u001b[39;49m\u001b[38;5;124;43mSeason\u001b[39;49m\u001b[38;5;124;43m'\u001b[39;49m\u001b[43m]\u001b[49m\u001b[38;5;241m.\u001b[39misnull(), \u001b[38;5;241m0\u001b[39m, \u001b[38;5;241m1\u001b[39m)\n\u001b[1;32m     13\u001b[0m \u001b[38;5;66;03m# TRAITER AGE GROUP\u001b[39;00m\n\u001b[1;32m     14\u001b[0m df_complete[\u001b[38;5;124m'\u001b[39m\u001b[38;5;124mAgeGroup\u001b[39m\u001b[38;5;124m'\u001b[39m] \u001b[38;5;241m=\u001b[39m pd\u001b[38;5;241m.\u001b[39mcut(df_complete\u001b[38;5;241m.\u001b[39mAge, bins\u001b[38;5;241m=\u001b[39m\u001b[38;5;28mrange\u001b[39m(\u001b[38;5;241m0\u001b[39m, \u001b[38;5;241m81\u001b[39m, \u001b[38;5;241m10\u001b[39m), right\u001b[38;5;241m=\u001b[39m\u001b[38;5;28;01mTrue\u001b[39;00m)\n",
      "File \u001b[0;32m~/opt/anaconda3/lib/python3.9/site-packages/pandas/core/frame.py:3805\u001b[0m, in \u001b[0;36mDataFrame.__getitem__\u001b[0;34m(self, key)\u001b[0m\n\u001b[1;32m   3803\u001b[0m \u001b[38;5;28;01mif\u001b[39;00m \u001b[38;5;28mself\u001b[39m\u001b[38;5;241m.\u001b[39mcolumns\u001b[38;5;241m.\u001b[39mnlevels \u001b[38;5;241m>\u001b[39m \u001b[38;5;241m1\u001b[39m:\n\u001b[1;32m   3804\u001b[0m     \u001b[38;5;28;01mreturn\u001b[39;00m \u001b[38;5;28mself\u001b[39m\u001b[38;5;241m.\u001b[39m_getitem_multilevel(key)\n\u001b[0;32m-> 3805\u001b[0m indexer \u001b[38;5;241m=\u001b[39m \u001b[38;5;28;43mself\u001b[39;49m\u001b[38;5;241;43m.\u001b[39;49m\u001b[43mcolumns\u001b[49m\u001b[38;5;241;43m.\u001b[39;49m\u001b[43mget_loc\u001b[49m\u001b[43m(\u001b[49m\u001b[43mkey\u001b[49m\u001b[43m)\u001b[49m\n\u001b[1;32m   3806\u001b[0m \u001b[38;5;28;01mif\u001b[39;00m is_integer(indexer):\n\u001b[1;32m   3807\u001b[0m     indexer \u001b[38;5;241m=\u001b[39m [indexer]\n",
      "File \u001b[0;32m~/opt/anaconda3/lib/python3.9/site-packages/pandas/core/indexes/base.py:3802\u001b[0m, in \u001b[0;36mIndex.get_loc\u001b[0;34m(self, key, method, tolerance)\u001b[0m\n\u001b[1;32m   3800\u001b[0m     \u001b[38;5;28;01mreturn\u001b[39;00m \u001b[38;5;28mself\u001b[39m\u001b[38;5;241m.\u001b[39m_engine\u001b[38;5;241m.\u001b[39mget_loc(casted_key)\n\u001b[1;32m   3801\u001b[0m \u001b[38;5;28;01mexcept\u001b[39;00m \u001b[38;5;167;01mKeyError\u001b[39;00m \u001b[38;5;28;01mas\u001b[39;00m err:\n\u001b[0;32m-> 3802\u001b[0m     \u001b[38;5;28;01mraise\u001b[39;00m \u001b[38;5;167;01mKeyError\u001b[39;00m(key) \u001b[38;5;28;01mfrom\u001b[39;00m \u001b[38;5;21;01merr\u001b[39;00m\n\u001b[1;32m   3803\u001b[0m \u001b[38;5;28;01mexcept\u001b[39;00m \u001b[38;5;167;01mTypeError\u001b[39;00m:\n\u001b[1;32m   3804\u001b[0m     \u001b[38;5;66;03m# If we have a listlike key, _check_indexing_error will raise\u001b[39;00m\n\u001b[1;32m   3805\u001b[0m     \u001b[38;5;66;03m#  InvalidIndexError. Otherwise we fall through and re-raise\u001b[39;00m\n\u001b[1;32m   3806\u001b[0m     \u001b[38;5;66;03m#  the TypeError.\u001b[39;00m\n\u001b[1;32m   3807\u001b[0m     \u001b[38;5;28mself\u001b[39m\u001b[38;5;241m.\u001b[39m_check_indexing_error(key)\n",
      "\u001b[0;31mKeyError\u001b[0m: 'Season'"
     ]
    },
    {
     "name": "stdout",
     "output_type": "stream",
     "text": [
      "In [64] used 19.5 MiB RAM in 1.94s (system mean cpu 16%, single max cpu 100%), peaked 0.0 MiB above final usage, current RAM usage now 1081.5 MiB\n"
     ]
    }
   ],
   "source": [
    "# # TRAITER AGE NULL (moyenne des ages)\n",
    "# df_complete['Age'] = df_complete['Age'].fillna(df_complete['Age'].mean())\n",
    "\n",
    "# # TRAITER HEIGHT NULL (moyenne des heights)\n",
    "# df_complete['Height'] = df_complete['Height'].fillna(df_complete.groupby('Sex')['Height'].transform('mean'))\n",
    "\n",
    "# # TRAITER WEIGHT NULL (moyenne des weights)\n",
    "# df_complete['Weight'] = df_complete['Weight'].fillna(df_complete.groupby('Sex')['Weight'].transform('mean'))\n",
    "\n",
    "# TRAITER SEASON NULL (0 si null, 1 sinon)\n",
    "df_complete['Season'] = np.where(df_complete['Season'].isnull(), 0, 1)\n",
    "\n",
    "# TRAITER AGE GROUP\n",
    "df_complete['AgeGroup'] = pd.cut(df_complete.Age, bins=range(0, 81, 10), right=True)\n",
    "\n",
    "# TRAITER WEIGHT GROUP\n",
    "df_complete['WeightGroup'] = pd.cut(df_complete.Weight, bins=range(0, 215, 20), right=True)\n",
    "\n",
    "# TRAITER HEIGHT GROUP\n",
    "df_complete['HeightGroup'] = pd.cut(df_complete.Height, bins=range(100, 227, 20), right=True)\n"
   ]
  },
  {
   "cell_type": "code",
   "execution_count": null,
   "metadata": {},
   "outputs": [],
   "source": [
    "attrs = ['Sex', 'AgeGroup', 'HeightGroup', 'WeightGroup'] # attrs permet de sélectionner les colonnes à afficher"
   ]
  },
  {
   "cell_type": "code",
   "execution_count": null,
   "metadata": {},
   "outputs": [],
   "source": [
    "# Paramètres de style de Seaborn\n",
    "sns.set(style=\"whitegrid\")\n",
    "\n",
    "# Créer la figure\n",
    "figure = plt.figure(figsize=(14, 10))\n",
    "figure.suptitle('Répartition des médailles dans les Jeux Olympiques', fontsize=16)\n",
    "\n",
    "# Ajuster l'espacement entre les sous-graphiques\n",
    "plt.subplots_adjust(top=0.9, bottom=0.1, hspace=0.5, wspace=0.4)\n",
    "\n",
    "# Boucle sur les attributs pour créer les sous-graphiques\n",
    "for i, col in enumerate(attrs):\n",
    "    plt.subplot(2, 4, i+1)\n",
    "    plt.xticks(rotation=40, ha='right')  # Rotation des étiquettes sur l'axe des x\n",
    "    sns.countplot(x=col, hue='Medal', data=df_complete, palette='pastel')  # Utiliser une palette de couleurs pastel\n",
    "    plt.title('Répartition des médailles par ' + col)  # Titre du sous-graphique\n",
    "\n",
    "# Améliorer la disposition des sous-graphiques\n",
    "plt.tight_layout()\n",
    "plt.show()"
   ]
  },
  {
   "cell_type": "markdown",
   "metadata": {},
   "source": [
    "#### Analyse visuelle"
   ]
  },
  {
   "cell_type": "markdown",
   "metadata": {},
   "source": [
    "Nombre d'événements dans chaque sport au fil des années "
   ]
  },
  {
   "cell_type": "code",
   "execution_count": null,
   "metadata": {},
   "outputs": [],
   "source": [
    "sport_year = df_complete.pivot_table(index='Sport', columns='Year', values='Event', aggfunc=lambda x: len(x.unique()))\n",
    "sport_year.fillna(0, inplace=True)\n",
    "sport_year = sport_year.reindex(sport_year.sum(axis=1).sort_values(ascending=False).index)\n",
    "\n",
    "# Affichage de la heatmap\n",
    "plt.figure(figsize=(20, 20))\n",
    "sns.heatmap(sport_year, annot=True, linewidths=0.05, cmap=\"RdYlGn\")\n",
    "plt.xlabel('Year', size=14, color=\"green\")\n",
    "plt.ylabel('Sport', size=14, color=\"green\")\n",
    "plt.title('Nombre d\\'événements dans chaque sport au fil des années', size=18, color=\"green\")\n",
    "plt.show()"
   ]
  },
  {
   "cell_type": "markdown",
   "metadata": {},
   "source": [
    "Nombre total de médailles remportées par pays et type de médaille"
   ]
  },
  {
   "cell_type": "code",
   "execution_count": null,
   "metadata": {},
   "outputs": [],
   "source": [
    "# Filter the data to include only gold medal winners\n",
    "gold_medals = df_complete[df_complete['Medal'] == 'Gold']\n",
    "\n",
    "# Group the data by year and count the number of gold medals won each year for each country\n",
    "gold_medals_by_year_and_country = gold_medals.groupby(['Year', 'Team'])['Medal'].count().unstack()\n",
    "\n",
    "# Select the top 10 countries with the most gold medals overall\n",
    "top_10_countries = gold_medals.groupby('Team')['Medal'].count().nlargest(10).index\n",
    "\n",
    "# Plotting the curve for the evolution of gold medals over time for the top 10 countries\n",
    "plt.figure(figsize=(10, 6))  # Taille de la figure\n",
    "\n",
    "for country in top_10_countries:\n",
    "    plt.plot(gold_medals_by_year_and_country.index, gold_medals_by_year_and_country[country], \n",
    "             marker='o', markersize=6, linewidth=2, label=country)  # Courbe pour chaque pays avec la légende\n",
    "\n",
    "plt.title('Evolution des médailles en or gagnées au fil du temps (Top 10 des pays)', fontsize=16)  # Titre\n",
    "plt.xlabel('Year', fontsize=14)  # Étiquette de l'axe x\n",
    "plt.ylabel('Number of Gold Medals', fontsize=14)  # Étiquette de l'axe y\n",
    "plt.xticks(fontsize=12)  # Taille de la police des étiquettes de l'axe x\n",
    "plt.yticks(fontsize=12)  # Taille de la police des étiquettes de l'axe y\n",
    "plt.grid(True)  # Afficher la grille\n",
    "plt.legend(fontsize=10)  # Ajouter la légende\n",
    "plt.tight_layout()  # Ajuster la mise en page\n",
    "plt.show()\n"
   ]
  },
  {
   "cell_type": "markdown",
   "metadata": {},
   "source": [
    "Nombre total de médailles remportées par pays et type de médaille"
   ]
  },
  {
   "cell_type": "code",
   "execution_count": null,
   "metadata": {},
   "outputs": [],
   "source": [
    "# Group the data by country and count the total number of medals won by each country and each type of medal\n",
    "medals_by_country = df_complete.groupby(['Team', 'Medal']).size().unstack(fill_value=0)\n",
    "\n",
    "# Select the top 10 countries with the most total medals\n",
    "top_10_countries = medals_by_country.sum(axis=1).nlargest(10).index\n",
    "\n",
    "# Select the medal types\n",
    "medal_types = ['Gold', 'Silver', 'Bronze']\n",
    "\n",
    "# Set the position of each bar on the x-axis\n",
    "x = np.arange(len(top_10_countries))\n",
    "\n",
    "# Set the width of the bars\n",
    "width = 0.2\n",
    "\n",
    "# Assign colors to each medal type\n",
    "colors = {'Gold': 'gold', 'Silver': 'silver', 'Bronze': 'peru'}\n",
    "\n",
    "# Plotting the grouped bar graph\n",
    "plt.figure(figsize=(12, 8))  # Taille de la figure\n",
    "\n",
    "for i, medal in enumerate(medal_types):\n",
    "    plt.bar(x - width + i * width, medals_by_country.loc[top_10_countries, medal], \n",
    "            width=width, label=medal, color=colors[medal])\n",
    "\n",
    "plt.title('Nombre total de médailles remportées par pays et type de médaille', fontsize=16)  # Titre\n",
    "plt.xlabel('Country', fontsize=14)  # Étiquette de l'axe x\n",
    "plt.ylabel('Total Number of Medals', fontsize=14)  # Étiquette de l'axe y\n",
    "plt.xticks(ticks=x, labels=top_10_countries, rotation=45, fontsize=12)  # Étiquettes de l'axe x\n",
    "plt.yticks(fontsize=12)  # Taille de la police des étiquettes de l'axe y\n",
    "plt.legend(fontsize=12)  # Ajouter la légende\n",
    "plt.tight_layout()  # Ajuster la mise en page\n",
    "plt.show()\n"
   ]
  },
  {
   "cell_type": "markdown",
   "metadata": {},
   "source": [
    "Ratio de l'évolution des médailles d'or par athlète au fil du temps (Top 10 des pays)\n",
    "(proportionnelement, quel pays obtient le pus de médailles)"
   ]
  },
  {
   "cell_type": "code",
   "execution_count": null,
   "metadata": {},
   "outputs": [],
   "source": [
    "# Calculate the total number of athletes per country\n",
    "total_athletes_per_country = df_complete.groupby('Team')['Name'].nunique()\n",
    "\n",
    "# Filter the data to include only gold medal winners\n",
    "gold_medals = df_complete[df_complete['Medal'] == 'Gold']\n",
    "\n",
    "# Group the data by year and count the number of gold medals won each year for each country\n",
    "gold_medals_by_year_and_country = gold_medals.groupby(['Year', 'Team'])['Medal'].count().unstack()\n",
    "\n",
    "# Calculate the number of gold medals per athlete for each country and each year\n",
    "gold_medals_per_athlete = gold_medals_by_year_and_country.div(total_athletes_per_country, axis=1)\n",
    "\n",
    "# Select the top 10 countries with the most gold medals overall\n",
    "top_10_countries = gold_medals.groupby('Team')['Medal'].count().nlargest(10).index\n",
    "\n",
    "# Plotting the curve for the evolution of gold medals per athlete over time for the top 10 countries\n",
    "plt.figure(figsize=(10, 6))  # Taille de la figure\n",
    "\n",
    "for country in top_10_countries:\n",
    "    plt.plot(gold_medals_per_athlete.index, gold_medals_per_athlete[country], \n",
    "             marker='o', markersize=6, linewidth=2, label=country)  # Courbe pour chaque pays avec la légende\n",
    "\n",
    "plt.title('Ratio evolution des médailles en or par athlète au fil du temps (Top 10 des pays)', fontsize=16)  # Titre\n",
    "plt.xlabel('Year', fontsize=14)  # Étiquette de l'axe x\n",
    "plt.ylabel('Number of Gold Medals per Athlete', fontsize=14)  # Étiquette de l'axe y\n",
    "plt.xticks(fontsize=12)  # Taille de la police des étiquettes de l'axe x\n",
    "plt.yticks(fontsize=12)  # Taille de la police des étiquettes de l'axe y\n",
    "\n",
    "plt.grid(True)  # Afficher la grille\n",
    "plt.legend(fontsize=10)  # Ajouter la légende\n",
    "plt.tight_layout()  # Ajuster la mise en page\n",
    "plt.show()"
   ]
  },
  {
   "cell_type": "markdown",
   "metadata": {},
   "source": [
    "Plus forte évolution des médailles remportées par équipe"
   ]
  },
  {
   "cell_type": "code",
   "execution_count": null,
   "metadata": {},
   "outputs": [],
   "source": [
    "# Filter the data to include only Summer Olympic Games between 2010 and 2020\n",
    "summer_games = df_complete[(df_complete['Season'] == 'Summer') & (df_complete['Year'] >= 2008) & (df_complete['Year'] <= 2020)]\n",
    "\n",
    "# Group the data by team and year, and calculate the total number of medals won by each team in each year\n",
    "medals_by_year = summer_games.groupby(['Team', 'Year'])['Medal'].count().unstack()\n",
    "\n",
    "# Calculate the difference in the number of medals won by each team between the first year and the last year\n",
    "medal_difference = medals_by_year.iloc[:, -1] - medals_by_year.iloc[:, 0]\n",
    "\n",
    "# Sort the teams based on the difference in the number of medals won in descending order\n",
    "sorted_teams = medal_difference.sort_values(ascending=False)\n",
    "\n",
    "# Select the top 5 teams with the largest increase in medals won\n",
    "top_5_teams = sorted_teams.index[:10]\n",
    "\n",
    "# Create a line chart showing the number of medals won by the top 5 teams in each year\n",
    "plt.figure(figsize=(12, 6))\n",
    "for team in top_5_teams:\n",
    "    plt.plot(medals_by_year.loc[team], label=team)\n",
    "plt.title('Plus forte évolution des médailles remportées par équipe', fontsize=18, color='#003f5c')\n",
    "plt.xlabel('Year', fontsize=14, fontweight='bold', color='#003f5c')\n",
    "plt.ylabel('Number of Medals', fontsize=14, fontweight='bold', color='#003f5c')\n",
    "plt.xticks(fontsize=12, color='#003f5c')\n",
    "plt.yticks(fontsize=12, color='#003f5c')\n",
    "plt.grid(axis='y', linestyle='--', alpha=0.5, color='#003f5c')\n",
    "plt.legend()\n",
    "plt.tight_layout()\n",
    "plt.show()"
   ]
  },
  {
   "cell_type": "markdown",
   "metadata": {},
   "source": [
    "## Tests de corrélations/lois stats (Shapiro-Wilk, Spearman, Pearson)"
   ]
  },
  {
   "cell_type": "code",
   "execution_count": null,
   "metadata": {},
   "outputs": [
    {
     "name": "stdout",
     "output_type": "stream",
     "text": [
      "In [171] used 0.0 MiB RAM in 0.11s (system mean cpu 29%, single max cpu 67%), peaked 0.0 MiB above final usage, current RAM usage now 713.3 MiB\n"
     ]
    }
   ],
   "source": [
    "# TODO: Noé"
   ]
  },
  {
   "cell_type": "markdown",
   "metadata": {},
   "source": [
    "## Aggrégation des données par Team/Année/Event pour pouvoir calculer les médailles"
   ]
  },
  {
   "cell_type": "code",
   "execution_count": null,
   "metadata": {},
   "outputs": [],
   "source": [
    "# TODO: Nathan: Essayer d'appliquer le code"
   ]
  },
  {
   "cell_type": "code",
   "execution_count": null,
   "metadata": {},
   "outputs": [],
   "source": []
  }
 ],
 "metadata": {
  "kernelspec": {
   "display_name": "Python 3",
   "language": "python",
   "name": "python3"
  },
  "language_info": {
   "codemirror_mode": {
    "name": "ipython",
    "version": 3
   },
   "file_extension": ".py",
   "mimetype": "text/x-python",
   "name": "python",
   "nbconvert_exporter": "python",
   "pygments_lexer": "ipython3",
   "version": "3.9.13"
  }
 },
 "nbformat": 4,
 "nbformat_minor": 2
}
