{
 "cells": [
  {
   "cell_type": "markdown",
   "metadata": {},
   "source": [
    "## Infos ( à supprimer ensuite)"
   ]
  },
  {
   "cell_type": "markdown",
   "metadata": {},
   "source": [
    "## Variables à ajouter issues des recherches biblio ( à supprimer ensuite)"
   ]
  },
  {
   "cell_type": "markdown",
   "metadata": {},
   "source": [
    "Variable(s): \n",
    "\n",
    "- Population des pays représentés \n",
    "- Variable indiquant si le pays est communiste ou pas \n",
    "- Variable indiquant si le pays est stable ou pas \n",
    "- Variable indiquant si le pays est émergeant ou pas ( otherwise pauvre , riche à peaufiner par la suite) \n",
    "- Variable indiquant si le pays a la culture du sport ou pas. \n",
    "- Variable indiquant le PIB par habitant \n",
    "- Variable indiquant les financements alloués aux sports (olympiques ou pas)\n"
   ]
  },
  {
   "cell_type": "markdown",
   "metadata": {},
   "source": [
    "Il faut créer le train et le test avec des données 2024 , il faut les construire , il faut aussi savoir traiter le fait que cette fois ci la Russie ne sera pas disponible .\n",
    "Faire indice : pays perturbé 1 avec Russie par exemple ou bien on enlève la Russie  (contexte géopolitique simple, on tah les années où j'ai eu un pb )\n",
    "\n",
    "But c'est de prédire le nombre de médailles pour chaque pays , indicateur simple \n",
    "EXTRA POUR AVOIR 20 : Attribuer un poid aux médailles -> pour potentiellement savoir le nb d'or , argent , bronze"
   ]
  },
  {
   "cell_type": "markdown",
   "metadata": {},
   "source": [
    "Attention au COVID 19 , influence public , web scrapping sur 30 ans de tous les pays qui ont organisé les jeux \n",
    "Attention aux pays pas autorisés à concourir \n",
    "Pays en guerre qui envoient moins d'athlètes \n",
    "Ukraine \n",
    "Palestine \n",
    "Iles caiman -> doivent être rattachées à un pays \n",
    "\n",
    "JO hiver \n",
    "JO été Corrélation \n",
    "Apparition des femmes dans les JO ( échantillonnage ) \n",
    "\n",
    "Culture du sport : Comment la créer ? \n",
    "Budget alloué aux sports (investissement , infrastructures ... ) \n",
    "Nb de professionnels \n",
    "Nb de licencés \n",
    "Nb de sports olympiques disponibles à l'école "
   ]
  },
  {
   "cell_type": "markdown",
   "metadata": {},
   "source": [
    "Variable : Pays Communiste ou pas \n",
    "\n",
    "Croissance pays économique \n",
    "\n",
    "Athlète à partir de 25 ans il n'a plus le niveau : on commence à partir de 2000 , JO Sydney \n",
    "\n",
    "Indice dvp des pays à recevoir \n",
    "\n",
    "Variable pays organisateur \n",
    "\n",
    "Sport qui ont des gens avec un âge bien définie (exemple skate Japonais c'est que des jeunes <= 18 ans)\n",
    "\n",
    "Dataset coupes mondes de discipline  \n",
    "    \n",
    "Variable Note selon l'âge \n",
    "\n",
    "Athlète qui sont comptés comme participant à deux pays \n",
    "\n",
    "Variable : religion majoritaire pays \n",
    "\n",
    "Espérance de vie par pays \n",
    "Variable pays dvp ou pas \n",
    "\n",
    "\n",
    "Recupérer données JO 2018 et 2021\n",
    "\n",
    "Variable Poids par Médailles : échelloner les JO de 1 à 10 pour \n",
    "Variable Poids par année : "
   ]
  },
  {
   "cell_type": "markdown",
   "metadata": {},
   "source": [
    "# Introduction  (Business Understanding) "
   ]
  },
  {
   "cell_type": "markdown",
   "metadata": {},
   "source": [
    "## Détermination objectifs métier , analytique du projet "
   ]
  },
  {
   "cell_type": "markdown",
   "metadata": {},
   "source": [
    "## Identifier les contraintes , limites et risque du projet"
   ]
  },
  {
   "cell_type": "markdown",
   "metadata": {},
   "source": [
    "## Chargement des packages si besoin "
   ]
  },
  {
   "cell_type": "code",
   "execution_count": 5,
   "metadata": {},
   "outputs": [
    {
     "name": "stdout",
     "output_type": "stream",
     "text": [
      "Enabling IPython Memory Usage, use %imu_start to begin, %imu_stop to end\n"
     ]
    }
   ],
   "source": [
    "%load_ext ipython_memory_usage "
   ]
  },
  {
   "cell_type": "code",
   "execution_count": null,
   "metadata": {},
   "outputs": [],
   "source": [
    "#%imu_stop"
   ]
  },
  {
   "cell_type": "markdown",
   "metadata": {},
   "source": [
    "## Importation des librairies "
   ]
  },
  {
   "cell_type": "code",
   "execution_count": 1,
   "metadata": {},
   "outputs": [],
   "source": [
    "import pandas as pd \n",
    "import numpy as np "
   ]
  },
  {
   "cell_type": "markdown",
   "metadata": {},
   "source": [
    "# CODE  "
   ]
  },
  {
   "cell_type": "markdown",
   "metadata": {},
   "source": [
    "### Chargement de la base de données commune "
   ]
  },
  {
   "cell_type": "code",
   "execution_count": null,
   "metadata": {},
   "outputs": [],
   "source": [
    "# Code "
   ]
  },
  {
   "cell_type": "code",
   "execution_count": 3,
   "metadata": {},
   "outputs": [],
   "source": [
    "df=pd.read_csv('data/data_FLO_without_NaN.csv',sep=',')"
   ]
  },
  {
   "cell_type": "code",
   "execution_count": 4,
   "metadata": {},
   "outputs": [
    {
     "data": {
      "text/html": [
       "<div>\n",
       "<style scoped>\n",
       "    .dataframe tbody tr th:only-of-type {\n",
       "        vertical-align: middle;\n",
       "    }\n",
       "\n",
       "    .dataframe tbody tr th {\n",
       "        vertical-align: top;\n",
       "    }\n",
       "\n",
       "    .dataframe thead th {\n",
       "        text-align: right;\n",
       "    }\n",
       "</style>\n",
       "<table border=\"1\" class=\"dataframe\">\n",
       "  <thead>\n",
       "    <tr style=\"text-align: right;\">\n",
       "      <th></th>\n",
       "      <th>Name</th>\n",
       "      <th>Sex</th>\n",
       "      <th>Age</th>\n",
       "      <th>Height</th>\n",
       "      <th>Team</th>\n",
       "      <th>NOC</th>\n",
       "      <th>Games</th>\n",
       "      <th>Year</th>\n",
       "      <th>Season</th>\n",
       "      <th>City</th>\n",
       "      <th>...</th>\n",
       "      <th>Weight</th>\n",
       "      <th>Country_org</th>\n",
       "      <th>Population</th>\n",
       "      <th>PIB/habitant</th>\n",
       "      <th>Score_medaille</th>\n",
       "      <th>Country</th>\n",
       "      <th>Host_country</th>\n",
       "      <th>Participation_own_country</th>\n",
       "      <th>Soviet_past</th>\n",
       "      <th>PIB</th>\n",
       "    </tr>\n",
       "  </thead>\n",
       "  <tbody>\n",
       "    <tr>\n",
       "      <th>0</th>\n",
       "      <td>AALERUD Katrine</td>\n",
       "      <td>F</td>\n",
       "      <td>27.0</td>\n",
       "      <td>175.0</td>\n",
       "      <td>Norway</td>\n",
       "      <td>NOR</td>\n",
       "      <td>Tokyo 2020</td>\n",
       "      <td>2020</td>\n",
       "      <td>Summer</td>\n",
       "      <td>Tokyo</td>\n",
       "      <td>...</td>\n",
       "      <td>74.0</td>\n",
       "      <td>Japan</td>\n",
       "      <td>5195921.0</td>\n",
       "      <td>74400.369777</td>\n",
       "      <td>0</td>\n",
       "      <td>Norway</td>\n",
       "      <td>Japan</td>\n",
       "      <td>0</td>\n",
       "      <td>0</td>\n",
       "      <td>5.792670e+11</td>\n",
       "    </tr>\n",
       "    <tr>\n",
       "      <th>1</th>\n",
       "      <td>ABAD Nestor</td>\n",
       "      <td>M</td>\n",
       "      <td>28.0</td>\n",
       "      <td>165.0</td>\n",
       "      <td>Spain</td>\n",
       "      <td>ESP</td>\n",
       "      <td>Tokyo 2020</td>\n",
       "      <td>2020</td>\n",
       "      <td>Summer</td>\n",
       "      <td>Tokyo</td>\n",
       "      <td>...</td>\n",
       "      <td>71.0</td>\n",
       "      <td>Japan</td>\n",
       "      <td>46418269.0</td>\n",
       "      <td>25831.582305</td>\n",
       "      <td>0</td>\n",
       "      <td>Spain</td>\n",
       "      <td>Japan</td>\n",
       "      <td>0</td>\n",
       "      <td>0</td>\n",
       "      <td>1.397510e+12</td>\n",
       "    </tr>\n",
       "    <tr>\n",
       "      <th>2</th>\n",
       "      <td>ABAGNALE Giovanni</td>\n",
       "      <td>M</td>\n",
       "      <td>26.0</td>\n",
       "      <td>198.0</td>\n",
       "      <td>Italy</td>\n",
       "      <td>ITA</td>\n",
       "      <td>Tokyo 2020</td>\n",
       "      <td>2020</td>\n",
       "      <td>Summer</td>\n",
       "      <td>Tokyo</td>\n",
       "      <td>...</td>\n",
       "      <td>81.0</td>\n",
       "      <td>Japan</td>\n",
       "      <td>60802085.0</td>\n",
       "      <td>29957.804315</td>\n",
       "      <td>0</td>\n",
       "      <td>Italy</td>\n",
       "      <td>Japan</td>\n",
       "      <td>0</td>\n",
       "      <td>0</td>\n",
       "      <td>2.010430e+12</td>\n",
       "    </tr>\n",
       "    <tr>\n",
       "      <th>3</th>\n",
       "      <td>ABALDE Alberto</td>\n",
       "      <td>M</td>\n",
       "      <td>26.0</td>\n",
       "      <td>200.0</td>\n",
       "      <td>Spain</td>\n",
       "      <td>ESP</td>\n",
       "      <td>Tokyo 2020</td>\n",
       "      <td>2020</td>\n",
       "      <td>Summer</td>\n",
       "      <td>Tokyo</td>\n",
       "      <td>...</td>\n",
       "      <td>88.0</td>\n",
       "      <td>Japan</td>\n",
       "      <td>46418269.0</td>\n",
       "      <td>25831.582305</td>\n",
       "      <td>0</td>\n",
       "      <td>Spain</td>\n",
       "      <td>Japan</td>\n",
       "      <td>0</td>\n",
       "      <td>0</td>\n",
       "      <td>1.397510e+12</td>\n",
       "    </tr>\n",
       "    <tr>\n",
       "      <th>4</th>\n",
       "      <td>ABALDE Tamara</td>\n",
       "      <td>F</td>\n",
       "      <td>32.0</td>\n",
       "      <td>192.0</td>\n",
       "      <td>Spain</td>\n",
       "      <td>ESP</td>\n",
       "      <td>Tokyo 2020</td>\n",
       "      <td>2020</td>\n",
       "      <td>Summer</td>\n",
       "      <td>Tokyo</td>\n",
       "      <td>...</td>\n",
       "      <td>88.0</td>\n",
       "      <td>Japan</td>\n",
       "      <td>46418269.0</td>\n",
       "      <td>25831.582305</td>\n",
       "      <td>0</td>\n",
       "      <td>Spain</td>\n",
       "      <td>Japan</td>\n",
       "      <td>0</td>\n",
       "      <td>0</td>\n",
       "      <td>1.397510e+12</td>\n",
       "    </tr>\n",
       "    <tr>\n",
       "      <th>...</th>\n",
       "      <td>...</td>\n",
       "      <td>...</td>\n",
       "      <td>...</td>\n",
       "      <td>...</td>\n",
       "      <td>...</td>\n",
       "      <td>...</td>\n",
       "      <td>...</td>\n",
       "      <td>...</td>\n",
       "      <td>...</td>\n",
       "      <td>...</td>\n",
       "      <td>...</td>\n",
       "      <td>...</td>\n",
       "      <td>...</td>\n",
       "      <td>...</td>\n",
       "      <td>...</td>\n",
       "      <td>...</td>\n",
       "      <td>...</td>\n",
       "      <td>...</td>\n",
       "      <td>...</td>\n",
       "      <td>...</td>\n",
       "      <td>...</td>\n",
       "    </tr>\n",
       "    <tr>\n",
       "      <th>78768</th>\n",
       "      <td>Hamzeh Zarini</td>\n",
       "      <td>M</td>\n",
       "      <td>30.0</td>\n",
       "      <td>198.0</td>\n",
       "      <td>Iran</td>\n",
       "      <td>IRI</td>\n",
       "      <td>2016 Summer</td>\n",
       "      <td>2016</td>\n",
       "      <td>Summer</td>\n",
       "      <td>Rio de Janeiro</td>\n",
       "      <td>...</td>\n",
       "      <td>91.0</td>\n",
       "      <td>Brazil</td>\n",
       "      <td>88550570.0</td>\n",
       "      <td>4388.000000</td>\n",
       "      <td>0</td>\n",
       "      <td>Iran</td>\n",
       "      <td>Brazil</td>\n",
       "      <td>0</td>\n",
       "      <td>0</td>\n",
       "      <td>3.885440e+11</td>\n",
       "    </tr>\n",
       "    <tr>\n",
       "      <th>78769</th>\n",
       "      <td>Parviz Zeidvand</td>\n",
       "      <td>M</td>\n",
       "      <td>20.0</td>\n",
       "      <td>172.0</td>\n",
       "      <td>Iran</td>\n",
       "      <td>IRI</td>\n",
       "      <td>2000 Summer</td>\n",
       "      <td>2000</td>\n",
       "      <td>Summer</td>\n",
       "      <td>Sydney</td>\n",
       "      <td>...</td>\n",
       "      <td>66.0</td>\n",
       "      <td>Australia</td>\n",
       "      <td>88550570.0</td>\n",
       "      <td>4388.000000</td>\n",
       "      <td>0</td>\n",
       "      <td>Iran</td>\n",
       "      <td>Australia</td>\n",
       "      <td>0</td>\n",
       "      <td>0</td>\n",
       "      <td>3.885440e+11</td>\n",
       "    </tr>\n",
       "    <tr>\n",
       "      <th>78770</th>\n",
       "      <td>Parviz Zeidvand</td>\n",
       "      <td>M</td>\n",
       "      <td>23.0</td>\n",
       "      <td>172.0</td>\n",
       "      <td>Iran</td>\n",
       "      <td>IRI</td>\n",
       "      <td>2004 Summer</td>\n",
       "      <td>2004</td>\n",
       "      <td>Summer</td>\n",
       "      <td>Athina</td>\n",
       "      <td>...</td>\n",
       "      <td>66.0</td>\n",
       "      <td>Greece</td>\n",
       "      <td>88550570.0</td>\n",
       "      <td>4388.000000</td>\n",
       "      <td>0</td>\n",
       "      <td>Iran</td>\n",
       "      <td>Greece</td>\n",
       "      <td>0</td>\n",
       "      <td>0</td>\n",
       "      <td>3.885440e+11</td>\n",
       "    </tr>\n",
       "    <tr>\n",
       "      <th>78771</th>\n",
       "      <td>Raya Zin Aldden</td>\n",
       "      <td>F</td>\n",
       "      <td>24.0</td>\n",
       "      <td>176.0</td>\n",
       "      <td>Syria</td>\n",
       "      <td>SYR</td>\n",
       "      <td>2012 Summer</td>\n",
       "      <td>2012</td>\n",
       "      <td>Summer</td>\n",
       "      <td>London</td>\n",
       "      <td>...</td>\n",
       "      <td>65.0</td>\n",
       "      <td>Great Britain</td>\n",
       "      <td>22130000.0</td>\n",
       "      <td>420.000000</td>\n",
       "      <td>0</td>\n",
       "      <td>Syria</td>\n",
       "      <td>United Kingdom</td>\n",
       "      <td>0</td>\n",
       "      <td>0</td>\n",
       "      <td>8.970000e+09</td>\n",
       "    </tr>\n",
       "    <tr>\n",
       "      <th>78772</th>\n",
       "      <td>Hamid Reza Zooravand</td>\n",
       "      <td>M</td>\n",
       "      <td>26.0</td>\n",
       "      <td>176.0</td>\n",
       "      <td>Iran</td>\n",
       "      <td>IRI</td>\n",
       "      <td>2016 Summer</td>\n",
       "      <td>2016</td>\n",
       "      <td>Summer</td>\n",
       "      <td>Rio de Janeiro</td>\n",
       "      <td>...</td>\n",
       "      <td>66.0</td>\n",
       "      <td>Brazil</td>\n",
       "      <td>88550570.0</td>\n",
       "      <td>4388.000000</td>\n",
       "      <td>0</td>\n",
       "      <td>Iran</td>\n",
       "      <td>Brazil</td>\n",
       "      <td>0</td>\n",
       "      <td>0</td>\n",
       "      <td>3.885440e+11</td>\n",
       "    </tr>\n",
       "  </tbody>\n",
       "</table>\n",
       "<p>78773 rows × 24 columns</p>\n",
       "</div>"
      ],
      "text/plain": [
       "                       Name Sex   Age  Height    Team  NOC        Games  Year  \\\n",
       "0           AALERUD Katrine   F  27.0   175.0  Norway  NOR   Tokyo 2020  2020   \n",
       "1               ABAD Nestor   M  28.0   165.0   Spain  ESP   Tokyo 2020  2020   \n",
       "2         ABAGNALE Giovanni   M  26.0   198.0   Italy  ITA   Tokyo 2020  2020   \n",
       "3            ABALDE Alberto   M  26.0   200.0   Spain  ESP   Tokyo 2020  2020   \n",
       "4             ABALDE Tamara   F  32.0   192.0   Spain  ESP   Tokyo 2020  2020   \n",
       "...                     ...  ..   ...     ...     ...  ...          ...   ...   \n",
       "78768         Hamzeh Zarini   M  30.0   198.0    Iran  IRI  2016 Summer  2016   \n",
       "78769       Parviz Zeidvand   M  20.0   172.0    Iran  IRI  2000 Summer  2000   \n",
       "78770       Parviz Zeidvand   M  23.0   172.0    Iran  IRI  2004 Summer  2004   \n",
       "78771       Raya Zin Aldden   F  24.0   176.0   Syria  SYR  2012 Summer  2012   \n",
       "78772  Hamid Reza Zooravand   M  26.0   176.0    Iran  IRI  2016 Summer  2016   \n",
       "\n",
       "       Season            City  ... Weight    Country_org  Population  \\\n",
       "0      Summer           Tokyo  ...   74.0          Japan   5195921.0   \n",
       "1      Summer           Tokyo  ...   71.0          Japan  46418269.0   \n",
       "2      Summer           Tokyo  ...   81.0          Japan  60802085.0   \n",
       "3      Summer           Tokyo  ...   88.0          Japan  46418269.0   \n",
       "4      Summer           Tokyo  ...   88.0          Japan  46418269.0   \n",
       "...       ...             ...  ...    ...            ...         ...   \n",
       "78768  Summer  Rio de Janeiro  ...   91.0         Brazil  88550570.0   \n",
       "78769  Summer          Sydney  ...   66.0      Australia  88550570.0   \n",
       "78770  Summer          Athina  ...   66.0         Greece  88550570.0   \n",
       "78771  Summer          London  ...   65.0  Great Britain  22130000.0   \n",
       "78772  Summer  Rio de Janeiro  ...   66.0         Brazil  88550570.0   \n",
       "\n",
       "       PIB/habitant  Score_medaille Country    Host_country  \\\n",
       "0      74400.369777               0  Norway           Japan   \n",
       "1      25831.582305               0   Spain           Japan   \n",
       "2      29957.804315               0   Italy           Japan   \n",
       "3      25831.582305               0   Spain           Japan   \n",
       "4      25831.582305               0   Spain           Japan   \n",
       "...             ...             ...     ...             ...   \n",
       "78768   4388.000000               0    Iran          Brazil   \n",
       "78769   4388.000000               0    Iran       Australia   \n",
       "78770   4388.000000               0    Iran          Greece   \n",
       "78771    420.000000               0   Syria  United Kingdom   \n",
       "78772   4388.000000               0    Iran          Brazil   \n",
       "\n",
       "       Participation_own_country  Soviet_past           PIB  \n",
       "0                              0            0  5.792670e+11  \n",
       "1                              0            0  1.397510e+12  \n",
       "2                              0            0  2.010430e+12  \n",
       "3                              0            0  1.397510e+12  \n",
       "4                              0            0  1.397510e+12  \n",
       "...                          ...          ...           ...  \n",
       "78768                          0            0  3.885440e+11  \n",
       "78769                          0            0  3.885440e+11  \n",
       "78770                          0            0  3.885440e+11  \n",
       "78771                          0            0  8.970000e+09  \n",
       "78772                          0            0  3.885440e+11  \n",
       "\n",
       "[78773 rows x 24 columns]"
      ]
     },
     "execution_count": 4,
     "metadata": {},
     "output_type": "execute_result"
    }
   ],
   "source": [
    "df"
   ]
  },
  {
   "cell_type": "markdown",
   "metadata": {},
   "source": [
    "# Data understanding"
   ]
  },
  {
   "cell_type": "markdown",
   "metadata": {},
   "source": [
    "### Etude des types optimaux (Importer code  Nathan ) "
   ]
  },
  {
   "cell_type": "code",
   "execution_count": null,
   "metadata": {},
   "outputs": [],
   "source": [
    "# Code à rajouter "
   ]
  },
  {
   "cell_type": "markdown",
   "metadata": {},
   "source": [
    "### Chargement et analyse de la mémoire (Importer code Nathan "
   ]
  },
  {
   "cell_type": "code",
   "execution_count": null,
   "metadata": {},
   "outputs": [],
   "source": [
    "# Code à rajouter "
   ]
  },
  {
   "cell_type": "markdown",
   "metadata": {},
   "source": [
    "### Modification des noms pays ... (Code Guillaume)"
   ]
  },
  {
   "cell_type": "code",
   "execution_count": null,
   "metadata": {},
   "outputs": [],
   "source": [
    "# code à rajouter "
   ]
  },
  {
   "cell_type": "markdown",
   "metadata": {},
   "source": [
    "## EDA (graph, pivot table ,Matrix confusion...)"
   ]
  }
 ],
 "metadata": {
  "kernelspec": {
   "display_name": "Python 3",
   "language": "python",
   "name": "python3"
  },
  "language_info": {
   "codemirror_mode": {
    "name": "ipython",
    "version": 3
   },
   "file_extension": ".py",
   "mimetype": "text/x-python",
   "name": "python",
   "nbconvert_exporter": "python",
   "pygments_lexer": "ipython3",
   "version": "3.8.8"
  }
 },
 "nbformat": 4,
 "nbformat_minor": 2
}
