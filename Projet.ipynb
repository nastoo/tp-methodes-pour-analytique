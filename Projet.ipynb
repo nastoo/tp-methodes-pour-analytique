{
 "cells": [
  {
   "cell_type": "markdown",
   "metadata": {},
   "source": [
    "## Infos ( à supprimer ensuite)"
   ]
  },
  {
   "cell_type": "markdown",
   "metadata": {},
   "source": [
    "## Variables à ajouter issues des recherches biblio ( à supprimer ensuite)"
   ]
  },
  {
   "cell_type": "markdown",
   "metadata": {},
   "source": [
    "Variable(s): \n",
    "\n",
    "- Population des pays représentés \n",
    "- Variable indiquant si le pays est communiste ou pas \n",
    "- Variable indiquant si le pays est stable ou pas \n",
    "- Variable indiquant si le pays est émergeant ou pas ( otherwise pauvre , riche à peaufiner par la suite) \n",
    "- Variable indiquant si le pays a la culture du sport ou pas. \n",
    "- Variable indiquant le PIB par habitant \n",
    "- Variable indiquant les financements alloués aux sports (olympiques ou pas)\n"
   ]
  },
  {
   "cell_type": "markdown",
   "metadata": {},
   "source": [
    "Il faut créer le train et le test avec des données 2024 , il faut les construire , il faut aussi savoir traiter le fait que cette fois ci la Russie ne sera pas disponible .\n",
    "Faire indice : pays perturbé 1 avec Russie par exemple ou bien on enlève la Russie  (contexte géopolitique simple, on tah les années où j'ai eu un pb )\n",
    "\n",
    "But c'est de prédire le nombre de médailles pour chaque pays , indicateur simple \n",
    "EXTRA POUR AVOIR 20 : Attribuer un poid aux médailles -> pour potentiellement savoir le nb d'or , argent , bronze"
   ]
  },
  {
   "cell_type": "markdown",
   "metadata": {},
   "source": [
    "Attention au COVID 19 , influence public , web scrapping sur 30 ans de tous les pays qui ont organisé les jeux \n",
    "Attention aux pays pas autorisés à concourir \n",
    "Pays en guerre qui envoient moins d'athlètes \n",
    "Ukraine \n",
    "Palestine \n",
    "Iles caiman -> doivent être rattachées à un pays \n",
    "\n",
    "JO hiver \n",
    "JO été Corrélation \n",
    "Apparition des femmes dans les JO ( échantillonnage ) \n",
    "\n",
    "Culture du sport : Comment la créer ? \n",
    "Budget alloué aux sports (investissement , infrastructures ... ) \n",
    "Nb de professionnels \n",
    "Nb de licencés \n",
    "Nb de sports olympiques disponibles à l'école "
   ]
  },
  {
   "cell_type": "markdown",
   "metadata": {},
   "source": [
    "Variable : Pays Communiste ou pas \n",
    "\n",
    "Croissance pays économique \n",
    "\n",
    "Athlète à partir de 25 ans il n'a plus le niveau : on commence à partir de 2000 , JO Sydney \n",
    "\n",
    "Indice dvp des pays à recevoir \n",
    "\n",
    "Variable pays organisateur \n",
    "\n",
    "Sport qui ont des gens avec un âge bien définie (exemple skate Japonais c'est que des jeunes <= 18 ans)\n",
    "\n",
    "Dataset coupes mondes de discipline  \n",
    "    \n",
    "Variable Note selon l'âge \n",
    "\n",
    "Athlète qui sont comptés comme participant à deux pays \n",
    "\n",
    "Variable : religion majoritaire pays \n",
    "\n",
    "Espérance de vie par pays \n",
    "Variable pays dvp ou pas \n",
    "\n",
    "\n",
    "Recupérer données JO 2018 et 2021\n",
    "\n",
    "Variable Poids par Médailles : échelloner les JO de 1 à 10 pour \n",
    "Variable Poids par année : "
   ]
  },
  {
   "cell_type": "markdown",
   "metadata": {},
   "source": [
    "# Introduction  (Business Understanding) "
   ]
  },
  {
   "cell_type": "markdown",
   "metadata": {},
   "source": [
    "## Détermination objectifs métier , analytique du projet \n",
    "\n",
    "\n",
    "Objectifs métiers du projet :\n",
    "\n",
    "Promotion de la performance sportive : Utiliser les données des Jeux olympiques pour améliorer la performance sportive.\n",
    "\n",
    "Optimisation des ressources : Identifier les sports les plus prometteurs pour optimiser les investissements sportifs.\n",
    "\n",
    "Prédiction des tendances : Prédire les performances futures des pays et des athlètes en se basant sur les données historiques.\n",
    "\n",
    "Analyse de la participation : Analyser la participation mondiale aux Jeux olympiques pour identifier les opportunités de croissance.\n",
    "\n",
    "-------\n",
    "Objectifs analytiques du projet :\n",
    "\n",
    "Analyse des performances : Évaluer les performances des pays, des équipes et des athlètes aux Jeux olympiques.\n",
    "\n",
    "Identification des facteurs de réussite : Identifier les clés du succès dans différents sports et disciplines.\n",
    "\n",
    "Visualisation des données : Créer des visualisations interactives pour présenter les tendances et les comparaisons de manière compréhensible.\n",
    "\n",
    "Modélisation prédictive : Développer des modèles prédictifs pour estimer les performances futures."
   ]
  },
  {
   "cell_type": "markdown",
   "metadata": {},
   "source": [
    "## Identifier les contraintes , limites et risque du projet\n",
    "\n",
    "Qualité des données : Les données historiques peuvent être incomplètes ou imprécises.\n",
    "\n",
    "Variabilité des performances : Les performances sportives sont influencées par de nombreux facteurs difficiles à quantifier.\n",
    "\n",
    "Interprétation des résultats : Les résultats doivent être interprétés avec prudence en raison de la subjectivité des performances sportives.\n",
    "\n",
    "Protection des données : Respecter les règles de confidentialité et de protection des données lors de l'analyse des données.\n",
    "\n",
    "Dépendance aux technologies : Le projet dépend de technologies telles que l'analyse de données, la modélisation statistique, etc."
   ]
  },
  {
   "cell_type": "markdown",
   "metadata": {},
   "source": [
    "## Chargement des packages si besoin "
   ]
  },
  {
   "cell_type": "code",
   "execution_count": 1,
   "metadata": {
    "ExecuteTime": {
     "end_time": "2024-04-10T22:37:59.131389Z",
     "start_time": "2024-04-10T22:37:56.893654Z"
    }
   },
   "outputs": [
    {
     "name": "stdout",
     "output_type": "stream",
     "text": [
      "Enabling IPython Memory Usage, use %imu_start to begin, %imu_stop to end\n",
      "In [1] used 35.0 MiB RAM in 37.70s (system mean cpu 0%, single max cpu 0%), peaked 0.0 MiB above final usage, current RAM usage now 84.9 MiB\n"
     ]
    }
   ],
   "source": [
    "%load_ext ipython_memory_usage \n",
    "#!pip install ydata_profiling\n",
    "\n",
    "#from ydata_profiling import ProfileReport\n",
    "\n",
    "import pandas as pd\n",
    "import numpy as np\n",
    "import ipython_memory_usage.ipython_memory_usage as imu\n",
    "from describe_csv import *  # charge le fichier describe_csv.py par chunk de 10 000 (10**4)\n",
    "\n",
    "import math\n",
    "%matplotlib inline\n",
    "import matplotlib.pyplot as plt\n",
    "from matplotlib.pyplot import *\n",
    "import scipy as sp\n",
    "from scipy.stats import chi2_contingency\n",
    "from pivottablejs import pivot_ui\n",
    "import seaborn as sns\n",
    "\n",
    "from sklearn.impute import SimpleImputer\n",
    "from sklearn.impute import KNNImputer\n",
    "from sklearn import metrics\n",
    "from sklearn import preprocessing\n",
    "from sklearn.ensemble import RandomForestClassifier\n",
    "from sklearn.model_selection import cross_val_score\n",
    "from sklearn.model_selection import GridSearchCV, RandomizedSearchCV\n",
    "from sklearn.model_selection import train_test_split\n",
    "\n",
    "from sklearn.pipeline import make_pipeline, make_union\n",
    "from sklearn.pipeline import Pipeline, FeatureUnion\n",
    "from sklearn.impute import SimpleImputer\n",
    "from sklearn.compose import ColumnTransformer, make_column_transformer, make_column_selector\n",
    "from sklearn.preprocessing import OneHotEncoder, StandardScaler, RobustScaler\n",
    "from sklearn.preprocessing import FunctionTransformer\n",
    "from sklearn.metrics import accuracy_score\n",
    "from sklearn.ensemble import RandomForestClassifier\n",
    "\n",
    "from itertools import combinations\n",
    "\n",
    "from bs4 import BeautifulSoup\n",
    "import requests\n",
    "import re\n",
    "import datetime\n",
    "\n",
    "imu.start_watching_memory() "
   ]
  },
  {
   "cell_type": "markdown",
   "metadata": {},
   "source": [
    "# CODE  "
   ]
  },
  {
   "cell_type": "markdown",
   "metadata": {},
   "source": [
    "## Bases de données disponibles "
   ]
  },
  {
   "cell_type": "code",
   "execution_count": 2,
   "metadata": {
    "ExecuteTime": {
     "end_time": "2024-04-10T22:37:59.675573Z",
     "start_time": "2024-04-10T22:37:59.130932Z"
    }
   },
   "outputs": [
    {
     "name": "stdout",
     "output_type": "stream",
     "text": [
      "In [2] used 66.9 MiB RAM in 16.41s (system mean cpu 30%, single max cpu 91%), peaked 31.7 MiB above final usage, current RAM usage now 151.9 MiB\n"
     ]
    }
   ],
   "source": [
    "df_athlete=pd.read_csv('data/athlete_events.csv')\n",
    "df_region=pd.read_csv('data/noc_regions.csv')\n",
    "df_dictionnary=pd.read_csv('data/worldcities.csv', sep=';')"
   ]
  },
  {
   "cell_type": "markdown",
   "metadata": {},
   "source": [
    "## Partie Web Scrapping  (Code à prendre) "
   ]
  },
  {
   "cell_type": "markdown",
   "metadata": {},
   "source": [
    "### Pays organisateurs à partir des années 1948 ( Fin de la guerre) "
   ]
  },
  {
   "cell_type": "code",
   "execution_count": 3,
   "metadata": {
    "ExecuteTime": {
     "end_time": "2024-04-10T22:38:00.994258Z",
     "start_time": "2024-04-10T22:37:59.673546Z"
    }
   },
   "outputs": [
    {
     "name": "stdout",
     "output_type": "stream",
     "text": [
      "In [3] used 72.6 MiB RAM in 1.75s (system mean cpu 17%, single max cpu 100%), peaked 0.0 MiB above final usage, current RAM usage now 224.5 MiB\n"
     ]
    }
   ],
   "source": [
    "# TODO: Changer le nom des variables\n",
    "url_host_og='https://www.topendsports.com/events/summer/hosts/list.htm'\n",
    "response=requests.get(url_host_og)\n",
    "url_host_citi='https://en.wikipedia.org/wiki/List_of_Olympic_Games_host_cities'\n",
    "\n",
    "response_2=requests.get(url_host_citi)\n",
    "\n",
    "soup_2=BeautifulSoup(response_2.text,'html.parser')"
   ]
  },
  {
   "cell_type": "code",
   "execution_count": 4,
   "metadata": {
    "ExecuteTime": {
     "end_time": "2024-04-10T22:38:01.116919Z",
     "start_time": "2024-04-10T22:38:00.995152Z"
    }
   },
   "outputs": [
    {
     "name": "stdout",
     "output_type": "stream",
     "text": [
      "In [4] used 0.3 MiB RAM in 0.12s (system mean cpu 19%, single max cpu 100%), peaked 0.0 MiB above final usage, current RAM usage now 224.8 MiB\n"
     ]
    }
   ],
   "source": [
    "\n",
    "\n",
    "# Récupération des éléments de la page\n",
    "L_pays_1896=[]\n",
    "L_pays_1948=[]\n",
    "L_pays_2000=[]\n",
    "L_pays=[]\n",
    "\n",
    "elements=soup_2.findAll('span',class_='datasortkey')\n",
    "\n",
    "for element in elements:\n",
    "    pays=element.find('a').text\n",
    "    L_pays.append(pays)\n",
    "L_pays_1896=L_pays[:7]\n",
    "L_pays_1948=L_pays[14:42]\n",
    "L_pays_2000=L_pays[42:58]"
   ]
  },
  {
   "cell_type": "markdown",
   "metadata": {},
   "source": [
    "On enlève la Norvège qui a organisé la même année en 1992 des jeux d'hiver tandis qu'en Espagne se sont déroulés les jeux d'été.\n",
    "Puis la Suède qui a organisé des jeux d'été la même année 1956 que l'Australie , c'est un choix de notre part pour la construction de notre variable. "
   ]
  },
  {
   "cell_type": "code",
   "execution_count": 5,
   "metadata": {},
   "outputs": [
    {
     "data": {
      "text/plain": [
       "'Norway'"
      ]
     },
     "execution_count": 5,
     "metadata": {},
     "output_type": "execute_result"
    },
    {
     "name": "stdout",
     "output_type": "stream",
     "text": [
      "In [5] used -10.7 MiB RAM in 0.10s (system mean cpu 29%, single max cpu 100%), peaked 0.0 MiB above final usage, current RAM usage now 214.1 MiB\n"
     ]
    }
   ],
   "source": [
    "L_pays_1948.pop(6)\n",
    "L_pays_1948.pop(-3)"
   ]
  },
  {
   "cell_type": "code",
   "execution_count": null,
   "metadata": {},
   "outputs": [],
   "source": []
  },
  {
   "cell_type": "code",
   "execution_count": 6,
   "metadata": {},
   "outputs": [
    {
     "name": "stdout",
     "output_type": "stream",
     "text": [
      "In [6] used -4.2 MiB RAM in 0.11s (system mean cpu 24%, single max cpu 100%), peaked 4.2 MiB above final usage, current RAM usage now 209.9 MiB\n"
     ]
    }
   ],
   "source": [
    "L_annees_1948=[1948+ i for i in range(0,52,2)]\n"
   ]
  },
  {
   "cell_type": "code",
   "execution_count": 7,
   "metadata": {
    "ExecuteTime": {
     "end_time": "2024-04-10T22:38:01.225535Z",
     "start_time": "2024-04-10T22:38:01.116138Z"
    }
   },
   "outputs": [
    {
     "data": {
      "text/plain": [
       "2030"
      ]
     },
     "execution_count": 7,
     "metadata": {},
     "output_type": "execute_result"
    },
    {
     "name": "stdout",
     "output_type": "stream",
     "text": [
      "In [7] used 0.0 MiB RAM in 0.10s (system mean cpu 31%, single max cpu 100%), peaked 0.0 MiB above final usage, current RAM usage now 209.9 MiB\n"
     ]
    }
   ],
   "source": [
    "# Itération des années\n",
    "L_annees_2000=[2000 + i  for i in range(0,34,2)]\n",
    "L_annees_2000.pop(-2)\n",
    "\n"
   ]
  },
  {
   "cell_type": "code",
   "execution_count": 8,
   "metadata": {
    "ExecuteTime": {
     "end_time": "2024-04-10T22:38:01.414792Z",
     "start_time": "2024-04-10T22:38:01.229740Z"
    }
   },
   "outputs": [
    {
     "name": "stdout",
     "output_type": "stream",
     "text": [
      "In [8] used -32.8 MiB RAM in 0.11s (system mean cpu 19%, single max cpu 100%), peaked 32.8 MiB above final usage, current RAM usage now 177.2 MiB\n"
     ]
    }
   ],
   "source": [
    "# On lie les pays et les années\n",
    "\n",
    "L_pays_annee=[]\n",
    "for i in range(len(L_pays_1948)):\n",
    "    L_pays_annee.append((L_pays_1948[i],L_annees_1948[i]))\n",
    "\n",
    "for i in range(len(L_pays_2000)):\n",
    "    L_pays_annee.append((L_pays_2000[i],L_annees_2000[i]))\n",
    "\n"
   ]
  },
  {
   "cell_type": "markdown",
   "metadata": {},
   "source": [
    "### Base de données des pays hôtes "
   ]
  },
  {
   "cell_type": "code",
   "execution_count": 9,
   "metadata": {},
   "outputs": [
    {
     "data": {
      "text/html": [
       "<div>\n",
       "<style scoped>\n",
       "    .dataframe tbody tr th:only-of-type {\n",
       "        vertical-align: middle;\n",
       "    }\n",
       "\n",
       "    .dataframe tbody tr th {\n",
       "        vertical-align: top;\n",
       "    }\n",
       "\n",
       "    .dataframe thead th {\n",
       "        text-align: right;\n",
       "    }\n",
       "</style>\n",
       "<table border=\"1\" class=\"dataframe\">\n",
       "  <thead>\n",
       "    <tr style=\"text-align: right;\">\n",
       "      <th></th>\n",
       "      <th>Host_country</th>\n",
       "      <th>Year</th>\n",
       "    </tr>\n",
       "  </thead>\n",
       "  <tbody>\n",
       "    <tr>\n",
       "      <th>0</th>\n",
       "      <td>Switzerland</td>\n",
       "      <td>1948</td>\n",
       "    </tr>\n",
       "    <tr>\n",
       "      <th>1</th>\n",
       "      <td>United Kingdom</td>\n",
       "      <td>1950</td>\n",
       "    </tr>\n",
       "    <tr>\n",
       "      <th>2</th>\n",
       "      <td>Norway</td>\n",
       "      <td>1952</td>\n",
       "    </tr>\n",
       "    <tr>\n",
       "      <th>3</th>\n",
       "      <td>Finland</td>\n",
       "      <td>1954</td>\n",
       "    </tr>\n",
       "    <tr>\n",
       "      <th>4</th>\n",
       "      <td>Italy</td>\n",
       "      <td>1956</td>\n",
       "    </tr>\n",
       "    <tr>\n",
       "      <th>5</th>\n",
       "      <td>Australia</td>\n",
       "      <td>1958</td>\n",
       "    </tr>\n",
       "    <tr>\n",
       "      <th>6</th>\n",
       "      <td>United States</td>\n",
       "      <td>1960</td>\n",
       "    </tr>\n",
       "    <tr>\n",
       "      <th>7</th>\n",
       "      <td>Italy</td>\n",
       "      <td>1962</td>\n",
       "    </tr>\n",
       "    <tr>\n",
       "      <th>8</th>\n",
       "      <td>Austria</td>\n",
       "      <td>1964</td>\n",
       "    </tr>\n",
       "    <tr>\n",
       "      <th>9</th>\n",
       "      <td>Japan</td>\n",
       "      <td>1966</td>\n",
       "    </tr>\n",
       "    <tr>\n",
       "      <th>10</th>\n",
       "      <td>France</td>\n",
       "      <td>1968</td>\n",
       "    </tr>\n",
       "    <tr>\n",
       "      <th>11</th>\n",
       "      <td>Mexico</td>\n",
       "      <td>1970</td>\n",
       "    </tr>\n",
       "    <tr>\n",
       "      <th>12</th>\n",
       "      <td>Japan</td>\n",
       "      <td>1972</td>\n",
       "    </tr>\n",
       "    <tr>\n",
       "      <th>13</th>\n",
       "      <td>West Germany</td>\n",
       "      <td>1974</td>\n",
       "    </tr>\n",
       "    <tr>\n",
       "      <th>14</th>\n",
       "      <td>Austria</td>\n",
       "      <td>1976</td>\n",
       "    </tr>\n",
       "    <tr>\n",
       "      <th>15</th>\n",
       "      <td>Canada</td>\n",
       "      <td>1978</td>\n",
       "    </tr>\n",
       "    <tr>\n",
       "      <th>16</th>\n",
       "      <td>United States</td>\n",
       "      <td>1980</td>\n",
       "    </tr>\n",
       "    <tr>\n",
       "      <th>17</th>\n",
       "      <td>Soviet Union</td>\n",
       "      <td>1982</td>\n",
       "    </tr>\n",
       "    <tr>\n",
       "      <th>18</th>\n",
       "      <td>Yugoslavia</td>\n",
       "      <td>1984</td>\n",
       "    </tr>\n",
       "    <tr>\n",
       "      <th>19</th>\n",
       "      <td>United States</td>\n",
       "      <td>1986</td>\n",
       "    </tr>\n",
       "    <tr>\n",
       "      <th>20</th>\n",
       "      <td>Canada</td>\n",
       "      <td>1988</td>\n",
       "    </tr>\n",
       "    <tr>\n",
       "      <th>21</th>\n",
       "      <td>South Korea</td>\n",
       "      <td>1990</td>\n",
       "    </tr>\n",
       "    <tr>\n",
       "      <th>22</th>\n",
       "      <td>France</td>\n",
       "      <td>1992</td>\n",
       "    </tr>\n",
       "    <tr>\n",
       "      <th>23</th>\n",
       "      <td>Spain</td>\n",
       "      <td>1994</td>\n",
       "    </tr>\n",
       "    <tr>\n",
       "      <th>24</th>\n",
       "      <td>United States</td>\n",
       "      <td>1996</td>\n",
       "    </tr>\n",
       "    <tr>\n",
       "      <th>25</th>\n",
       "      <td>Japan</td>\n",
       "      <td>1998</td>\n",
       "    </tr>\n",
       "    <tr>\n",
       "      <th>26</th>\n",
       "      <td>Australia</td>\n",
       "      <td>2000</td>\n",
       "    </tr>\n",
       "    <tr>\n",
       "      <th>27</th>\n",
       "      <td>United States</td>\n",
       "      <td>2002</td>\n",
       "    </tr>\n",
       "    <tr>\n",
       "      <th>28</th>\n",
       "      <td>Greece</td>\n",
       "      <td>2004</td>\n",
       "    </tr>\n",
       "    <tr>\n",
       "      <th>29</th>\n",
       "      <td>Italy</td>\n",
       "      <td>2006</td>\n",
       "    </tr>\n",
       "    <tr>\n",
       "      <th>30</th>\n",
       "      <td>China</td>\n",
       "      <td>2008</td>\n",
       "    </tr>\n",
       "    <tr>\n",
       "      <th>31</th>\n",
       "      <td>Canada</td>\n",
       "      <td>2010</td>\n",
       "    </tr>\n",
       "    <tr>\n",
       "      <th>32</th>\n",
       "      <td>United Kingdom</td>\n",
       "      <td>2012</td>\n",
       "    </tr>\n",
       "    <tr>\n",
       "      <th>33</th>\n",
       "      <td>Russia</td>\n",
       "      <td>2014</td>\n",
       "    </tr>\n",
       "    <tr>\n",
       "      <th>34</th>\n",
       "      <td>Brazil</td>\n",
       "      <td>2016</td>\n",
       "    </tr>\n",
       "    <tr>\n",
       "      <th>35</th>\n",
       "      <td>South Korea</td>\n",
       "      <td>2018</td>\n",
       "    </tr>\n",
       "    <tr>\n",
       "      <th>36</th>\n",
       "      <td>Japan</td>\n",
       "      <td>2020</td>\n",
       "    </tr>\n",
       "    <tr>\n",
       "      <th>37</th>\n",
       "      <td>China</td>\n",
       "      <td>2022</td>\n",
       "    </tr>\n",
       "    <tr>\n",
       "      <th>38</th>\n",
       "      <td>France</td>\n",
       "      <td>2024</td>\n",
       "    </tr>\n",
       "    <tr>\n",
       "      <th>39</th>\n",
       "      <td>Italy</td>\n",
       "      <td>2026</td>\n",
       "    </tr>\n",
       "    <tr>\n",
       "      <th>40</th>\n",
       "      <td>United States</td>\n",
       "      <td>2028</td>\n",
       "    </tr>\n",
       "    <tr>\n",
       "      <th>41</th>\n",
       "      <td>Australia</td>\n",
       "      <td>2032</td>\n",
       "    </tr>\n",
       "  </tbody>\n",
       "</table>\n",
       "</div>"
      ],
      "text/plain": [
       "      Host_country  Year\n",
       "0      Switzerland  1948\n",
       "1   United Kingdom  1950\n",
       "2           Norway  1952\n",
       "3          Finland  1954\n",
       "4            Italy  1956\n",
       "5        Australia  1958\n",
       "6    United States  1960\n",
       "7            Italy  1962\n",
       "8          Austria  1964\n",
       "9            Japan  1966\n",
       "10          France  1968\n",
       "11          Mexico  1970\n",
       "12           Japan  1972\n",
       "13    West Germany  1974\n",
       "14         Austria  1976\n",
       "15          Canada  1978\n",
       "16   United States  1980\n",
       "17    Soviet Union  1982\n",
       "18      Yugoslavia  1984\n",
       "19   United States  1986\n",
       "20          Canada  1988\n",
       "21     South Korea  1990\n",
       "22          France  1992\n",
       "23           Spain  1994\n",
       "24   United States  1996\n",
       "25           Japan  1998\n",
       "26       Australia  2000\n",
       "27   United States  2002\n",
       "28          Greece  2004\n",
       "29           Italy  2006\n",
       "30           China  2008\n",
       "31          Canada  2010\n",
       "32  United Kingdom  2012\n",
       "33          Russia  2014\n",
       "34          Brazil  2016\n",
       "35     South Korea  2018\n",
       "36           Japan  2020\n",
       "37           China  2022\n",
       "38          France  2024\n",
       "39           Italy  2026\n",
       "40   United States  2028\n",
       "41       Australia  2032"
      ]
     },
     "execution_count": 9,
     "metadata": {},
     "output_type": "execute_result"
    },
    {
     "name": "stdout",
     "output_type": "stream",
     "text": [
      "In [9] used 1.2 MiB RAM in 0.12s (system mean cpu 29%, single max cpu 67%), peaked 0.0 MiB above final usage, current RAM usage now 178.4 MiB\n"
     ]
    }
   ],
   "source": [
    "df_hote=pd.DataFrame(L_pays_annee,columns=['Host_country','Year'])\n",
    "\n",
    "df_hote"
   ]
  },
  {
   "cell_type": "markdown",
   "metadata": {},
   "source": [
    "## Web Scrapping : Pays avec un passé communiste"
   ]
  },
  {
   "cell_type": "code",
   "execution_count": 10,
   "metadata": {
    "ExecuteTime": {
     "end_time": "2024-04-10T22:38:01.999762Z",
     "start_time": "2024-04-10T22:38:01.339229Z"
    }
   },
   "outputs": [
    {
     "name": "stdout",
     "output_type": "stream",
     "text": [
      "In [10] used -12.9 MiB RAM in 0.42s (system mean cpu 21%, single max cpu 100%), peaked 13.0 MiB above final usage, current RAM usage now 165.4 MiB\n"
     ]
    }
   ],
   "source": [
    "url_soviet='https://en.wikipedia.org/wiki/Post-Soviet_states'\n",
    "response_soviet=requests.get(url_soviet)\n",
    "soup_soviet=BeautifulSoup(response_soviet.text,'html.parser')\n",
    "\n",
    "L_pays_soviet=[]\n",
    "\n",
    "pays_soviet=soup_soviet.findAll('b')\n",
    "#print(pays_soviet)\n",
    "for pays in pays_soviet:\n",
    "    b=pays.find('a')\n",
    "    if b is not None:\n",
    "        L_pays_soviet.append(b.text)\n",
    "L_pays_soviet=L_pays_soviet[:15]\n",
    "\n",
    "complete_urss_regime=lambda x : 1 if x in L_pays_soviet else 0"
   ]
  },
  {
   "cell_type": "markdown",
   "metadata": {},
   "source": [
    "#### Scrap population et GDP"
   ]
  },
  {
   "cell_type": "code",
   "execution_count": 11,
   "metadata": {
    "ExecuteTime": {
     "end_time": "2024-04-10T22:38:02.880814Z",
     "start_time": "2024-04-10T22:38:01.999444Z"
    }
   },
   "outputs": [
    {
     "data": {
      "text/plain": [
       "177"
      ]
     },
     "execution_count": 11,
     "metadata": {},
     "output_type": "execute_result"
    },
    {
     "name": "stdout",
     "output_type": "stream",
     "text": [
      "In [11] used -0.8 MiB RAM in 0.98s (system mean cpu 24%, single max cpu 100%), peaked 0.8 MiB above final usage, current RAM usage now 164.6 MiB\n"
     ]
    }
   ],
   "source": [
    "url_pop_gpa='https://www.worldometers.info/gdp/gdp-by-country/'\n",
    "response_pop_gpa=requests.get(url_pop_gpa)\n",
    "soup_pop_gpa=BeautifulSoup(response_pop_gpa.text,'html.parser')\n",
    "\n",
    "L_pays=[]\n",
    "\n",
    "all_countries=soup_pop_gpa.findAll('td')\n",
    "\n",
    "for country in all_countries:\n",
    "    a=country.find('a')\n",
    "    if a is not None:\n",
    "        L_pays.append(a.text)\n",
    "len(L_pays)"
   ]
  },
  {
   "cell_type": "code",
   "execution_count": 12,
   "metadata": {
    "ExecuteTime": {
     "end_time": "2024-04-10T22:38:03.005488Z",
     "start_time": "2024-04-10T22:38:02.894969Z"
    }
   },
   "outputs": [
    {
     "name": "stdout",
     "output_type": "stream",
     "text": [
      "177\n"
     ]
    },
    {
     "data": {
      "text/plain": [
       "[25462700000000,\n",
       " 17963200000000,\n",
       " 4231140000000,\n",
       " 4072190000000,\n",
       " 3385090000000,\n",
       " 3070670000000,\n",
       " 2782910000000,\n",
       " 2240420000000,\n",
       " 2139840000000,\n",
       " 2010430000000,\n",
       " 1920100000000,\n",
       " 1675420000000,\n",
       " 1665250000000,\n",
       " 1414190000000,\n",
       " 1397510000000,\n",
       " 1319100000000,\n",
       " 1108150000000,\n",
       " 991115000000,\n",
       " 905988000000,\n",
       " 807706000000,\n",
       " 688177000000,\n",
       " 632770000000,\n",
       " 585939000000,\n",
       " 579267000000,\n",
       " 578604000000,\n",
       " 529245000000,\n",
       " 522033000000,\n",
       " 507535000000,\n",
       " 495341000000,\n",
       " 477386000000,\n",
       " 476748000000,\n",
       " 471400000000,\n",
       " 466789000000,\n",
       " 460201000000,\n",
       " 408802000000,\n",
       " 406306000000,\n",
       " 405870000000,\n",
       " 404284000000,\n",
       " 395404000000,\n",
       " 388544000000,\n",
       " 376533000000,\n",
       " 359839000000,\n",
       " 343939000000,\n",
       " 301262000000,\n",
       " 301025000000,\n",
       " 290924000000,\n",
       " 280826000000,\n",
       " 264182000000,\n",
       " 251945000000,\n",
       " 247234000000,\n",
       " 242632000000,\n",
       " 237296000000,\n",
       " 220623000000,\n",
       " 219066000000,\n",
       " 191913000000,\n",
       " 184558000000,\n",
       " 178789000000,\n",
       " 160503000000,\n",
       " 134182000000,\n",
       " 126783000000,\n",
       " 115469000000,\n",
       " 115049000000,\n",
       " 114667000000,\n",
       " 113642000000,\n",
       " 113420000000,\n",
       " 106714000000,\n",
       " 95003333381,\n",
       " 89040398406,\n",
       " 82274812251,\n",
       " 80391853885,\n",
       " 78721058824,\n",
       " 76522511781,\n",
       " 75709289056,\n",
       " 74403578363,\n",
       " 72838798788,\n",
       " 72793457588,\n",
       " 71177146197,\n",
       " 70964606465,\n",
       " 70334299008,\n",
       " 70018715017,\n",
       " 68380838316,\n",
       " 63501748652,\n",
       " 62117768015,\n",
       " 59364362541,\n",
       " 58065953573,\n",
       " 51662241775,\n",
       " 47451499859,\n",
       " 46664948952,\n",
       " 45752336036,\n",
       " 45559202049,\n",
       " 44390820479,\n",
       " 44341646509,\n",
       " 43068885673,\n",
       " 41722295362,\n",
       " 41153912663,\n",
       " 40828247302,\n",
       " 38100812959,\n",
       " 32488720000,\n",
       " 31717700115,\n",
       " 30633444295,\n",
       " 29956769529,\n",
       " 29784454056,\n",
       " 28439052741,\n",
       " 27899082337,\n",
       " 27841648044,\n",
       " 27684430244,\n",
       " 24605375420,\n",
       " 24527507288,\n",
       " 21979475561,\n",
       " 21227749389,\n",
       " 21071739228,\n",
       " 20678055598,\n",
       " 20352322157,\n",
       " 20253551885,\n",
       " 19502783988,\n",
       " 19111900000,\n",
       " 18884619613,\n",
       " 18882095518,\n",
       " 18827176532,\n",
       " 17851491428,\n",
       " 17765270015,\n",
       " 17401746309,\n",
       " 17097760745,\n",
       " 16810883361,\n",
       " 16681531646,\n",
       " 15724383783,\n",
       " 15671583878,\n",
       " 15357537068,\n",
       " 14954967604,\n",
       " 14615532210,\n",
       " 14420947884,\n",
       " 13969605583,\n",
       " 13563132057,\n",
       " 13312796765,\n",
       " 13164667627,\n",
       " 12898307089,\n",
       " 12897400000,\n",
       " 12704149842,\n",
       " 12607436976,\n",
       " 11813908448,\n",
       " 10930644915,\n",
       " 10492123388,\n",
       " 10375460680,\n",
       " 8126439481,\n",
       " 6189865408,\n",
       " 6095978868,\n",
       " 5637914515,\n",
       " 4943248200,\n",
       " 4854167638,\n",
       " 4001047150,\n",
       " 3970343852,\n",
       " 3620655116,\n",
       " 3352032737,\n",
       " 3163324631,\n",
       " 3073414678,\n",
       " 2824081836,\n",
       " 2553459763,\n",
       " 2382618615,\n",
       " 2314816792,\n",
       " 2273060863,\n",
       " 2065027556,\n",
       " 1757603704,\n",
       " 1633559092,\n",
       " 1595710784,\n",
       " 1588406479,\n",
       " 1256413185,\n",
       " 1242519407,\n",
       " 983582865,\n",
       " 961563259,\n",
       " 948558503,\n",
       " 832421565,\n",
       " 612048148,\n",
       " 546680342,\n",
       " 427094119,\n",
       " 279667900,\n",
       " 223352943,\n",
       " 60349391]"
      ]
     },
     "execution_count": 12,
     "metadata": {},
     "output_type": "execute_result"
    },
    {
     "name": "stdout",
     "output_type": "stream",
     "text": [
      "In [12] used -5.2 MiB RAM in 0.12s (system mean cpu 49%, single max cpu 100%), peaked 5.2 MiB above final usage, current RAM usage now 159.5 MiB\n"
     ]
    }
   ],
   "source": [
    "all_info=soup_pop_gpa.findAll('td',attrs={'style':'font-weight: bold; text-align:right;'})\n",
    "\n",
    "numbers=[]\n",
    "for i,info in enumerate(all_info):\n",
    "    b=re.findall(r'\\d+\\b', info.text)\n",
    "    b=''.join(b)\n",
    "    numbers.append(b)\n",
    "   \n",
    "population=[]\n",
    "gpd_per_habitant=[]\n",
    "PIB_liste=[]\n",
    "for i in range(0,len(numbers),6):\n",
    "    PIB_liste.append(int(numbers[i]))\n",
    "for i in range(3,len(numbers),6):\n",
    "    population.append(int(numbers[i]))\n",
    "for i in range(4,len(numbers),6):\n",
    "    gpd_per_habitant.append(int(numbers[i]))\n",
    "\n",
    "print(len(PIB_liste))\n",
    "PIB_liste"
   ]
  },
  {
   "cell_type": "code",
   "execution_count": 13,
   "metadata": {
    "ExecuteTime": {
     "end_time": "2024-04-10T22:38:03.138932Z",
     "start_time": "2024-04-10T22:38:03.014171Z"
    }
   },
   "outputs": [
    {
     "data": {
      "text/html": [
       "<div>\n",
       "<style scoped>\n",
       "    .dataframe tbody tr th:only-of-type {\n",
       "        vertical-align: middle;\n",
       "    }\n",
       "\n",
       "    .dataframe tbody tr th {\n",
       "        vertical-align: top;\n",
       "    }\n",
       "\n",
       "    .dataframe thead th {\n",
       "        text-align: right;\n",
       "    }\n",
       "</style>\n",
       "<table border=\"1\" class=\"dataframe\">\n",
       "  <thead>\n",
       "    <tr style=\"text-align: right;\">\n",
       "      <th></th>\n",
       "      <th>Country</th>\n",
       "      <th>PIB</th>\n",
       "      <th>Population</th>\n",
       "      <th>PIB/habitant</th>\n",
       "    </tr>\n",
       "  </thead>\n",
       "  <tbody>\n",
       "    <tr>\n",
       "      <th>0</th>\n",
       "      <td>United States</td>\n",
       "      <td>25462700000000</td>\n",
       "      <td>338289857</td>\n",
       "      <td>75269</td>\n",
       "    </tr>\n",
       "    <tr>\n",
       "      <th>1</th>\n",
       "      <td>China</td>\n",
       "      <td>17963200000000</td>\n",
       "      <td>1425887337</td>\n",
       "      <td>12598</td>\n",
       "    </tr>\n",
       "    <tr>\n",
       "      <th>2</th>\n",
       "      <td>Japan</td>\n",
       "      <td>4231140000000</td>\n",
       "      <td>123951692</td>\n",
       "      <td>34135</td>\n",
       "    </tr>\n",
       "    <tr>\n",
       "      <th>3</th>\n",
       "      <td>Germany</td>\n",
       "      <td>4072190000000</td>\n",
       "      <td>83369843</td>\n",
       "      <td>48845</td>\n",
       "    </tr>\n",
       "    <tr>\n",
       "      <th>4</th>\n",
       "      <td>India</td>\n",
       "      <td>3385090000000</td>\n",
       "      <td>1417173173</td>\n",
       "      <td>2389</td>\n",
       "    </tr>\n",
       "    <tr>\n",
       "      <th>...</th>\n",
       "      <td>...</td>\n",
       "      <td>...</td>\n",
       "      <td>...</td>\n",
       "      <td>...</td>\n",
       "    </tr>\n",
       "    <tr>\n",
       "      <th>172</th>\n",
       "      <td>Sao Tome &amp; Principe</td>\n",
       "      <td>546680342</td>\n",
       "      <td>227380</td>\n",
       "      <td>2404</td>\n",
       "    </tr>\n",
       "    <tr>\n",
       "      <th>173</th>\n",
       "      <td>Micronesia</td>\n",
       "      <td>427094119</td>\n",
       "      <td>539013</td>\n",
       "      <td>792</td>\n",
       "    </tr>\n",
       "    <tr>\n",
       "      <th>174</th>\n",
       "      <td>Marshall Islands</td>\n",
       "      <td>279667900</td>\n",
       "      <td>41569</td>\n",
       "      <td>6728</td>\n",
       "    </tr>\n",
       "    <tr>\n",
       "      <th>175</th>\n",
       "      <td>Kiribati</td>\n",
       "      <td>223352943</td>\n",
       "      <td>131232</td>\n",
       "      <td>1702</td>\n",
       "    </tr>\n",
       "    <tr>\n",
       "      <th>176</th>\n",
       "      <td>Tuvalu</td>\n",
       "      <td>60349391</td>\n",
       "      <td>11312</td>\n",
       "      <td>5335</td>\n",
       "    </tr>\n",
       "  </tbody>\n",
       "</table>\n",
       "<p>177 rows × 4 columns</p>\n",
       "</div>"
      ],
      "text/plain": [
       "                 Country             PIB  Population  PIB/habitant\n",
       "0          United States  25462700000000   338289857         75269\n",
       "1                  China  17963200000000  1425887337         12598\n",
       "2                  Japan   4231140000000   123951692         34135\n",
       "3                Germany   4072190000000    83369843         48845\n",
       "4                  India   3385090000000  1417173173          2389\n",
       "..                   ...             ...         ...           ...\n",
       "172  Sao Tome & Principe       546680342      227380          2404\n",
       "173           Micronesia       427094119      539013           792\n",
       "174     Marshall Islands       279667900       41569          6728\n",
       "175             Kiribati       223352943      131232          1702\n",
       "176               Tuvalu        60349391       11312          5335\n",
       "\n",
       "[177 rows x 4 columns]"
      ]
     },
     "execution_count": 13,
     "metadata": {},
     "output_type": "execute_result"
    },
    {
     "name": "stdout",
     "output_type": "stream",
     "text": [
      "In [13] used -4.6 MiB RAM in 0.12s (system mean cpu 37%, single max cpu 100%), peaked 0.5 MiB above final usage, current RAM usage now 154.9 MiB\n"
     ]
    }
   ],
   "source": [
    "# On replace les pays qui n'ont pas le même nom\n",
    "df_pop_gpd=pd.DataFrame({'Country':L_pays,'PIB':PIB_liste,'Population':population,'PIB/habitant':gpd_per_habitant})\n",
    "\n",
    "df_pop_gpd['Country']=df_pop_gpd['Country'].replace('Trinidad and Tobago','Trinidad')\n",
    "df_pop_gpd['Country']=df_pop_gpd['Country'].replace('State of Palestine','Palestine, Occupied Territories')\n",
    "df_pop_gpd['Country']=df_pop_gpd['Country'].replace('Singapore','Singapour')\n",
    "df_pop_gpd['Country']=df_pop_gpd['Country'].replace('Czech Republic (Czechia)','Czech Republic')\n",
    "df_pop_gpd['Country']=df_pop_gpd['Country'].replace(\"Côte d'Ivoire\" ,\"Cote d'Ivoire\")\n",
    "\n",
    "df_pop_gpd"
   ]
  },
  {
   "cell_type": "code",
   "execution_count": 14,
   "metadata": {
    "ExecuteTime": {
     "end_time": "2024-04-10T22:38:03.239132Z",
     "start_time": "2024-04-10T22:38:03.123184Z"
    }
   },
   "outputs": [
    {
     "name": "stdout",
     "output_type": "stream",
     "text": [
      "In [14] used -1.4 MiB RAM in 0.11s (system mean cpu 23%, single max cpu 100%), peaked 0.0 MiB above final usage, current RAM usage now 153.4 MiB\n"
     ]
    }
   ],
   "source": [
    "# Pays qui manquaient sur le site scrappé, données récupérées manuellement\n",
    "df_pop_gpd=pd.concat([df_pop_gpd,pd.DataFrame([['Taiwan',762670000000,23923276,44460],\n",
    "                                               ['Cook Islands',220000000,17044,13558],\n",
    "                                               ['Eritrea',1960000000,3684000,1067],\n",
    "                                               ['Kosovo',9410000000,1760000,5340],\n",
    "                                               ['Lebanon',23130000000,5425542,4136],\n",
    "                                               ['Netherlands Antilles',3810000000,27148,11400],\n",
    "                                               ['South Sudan',12000000000,11000000,467], \n",
    "                                               ['American Samoa',871000000,43914,19673],\n",
    "                                              ['Aruba',3545000000,106445,333000],\n",
    "                                              ['Bermuda',7645000000,63532,118774],\n",
    "                                               ['British Virgin Islands',1751000000,31707,34246],\n",
    "                                               ['Virgin Islands',4440000000,105413,41974],\n",
    "                                               ['Cayman Islands',6845000000,69310,99624],\n",
    "                                               ['Cuba',633400000000,11179471,56495],\n",
    "                                               ['Guam',6123000000,173825,35904],\n",
    "                                               ['North Korea',48000000000,26070000,33719],\n",
    "                                               ['Liechtenstein',7710000000,39039,197504],\n",
    "                                               ['Monaco',8784000000,39050,240862],\n",
    "                                               ['Puerto Rico',113400000000,3260314,35208],\n",
    "                                               ['San Marino',1855000000,33642,53000],\n",
    "                                               ['Syria',8970000000,22130000,420],\n",
    "                                               ['Venezuela',92000000000,29254044,2624],\n",
    "                                               ['Virgin Islands*',4444000000,105413,41976],\n",
    "                                               ['Afghanistan',14583135237,42239000,363.73],\n",
    "                                               ['Bhutan',2539551327,782455,3560],\n",
    "                                               ['Brunei',16760000000,449000,37152],\n",
    "                                               ['Burma',62260000000,54180000,1149],\n",
    "                                               ['Cape Verde',2227000000,593000,3754],\n",
    "                                               ['Djibouti',3515000000,1121000,3136],\n",
    "                                               [\"East Timor (Timor-Leste)\",3205000000,1341000,2389],\n",
    "                                               ['Macedonia',13560000000,2058000,6591],\n",
    "                                               ['Nauru',151600000,12668,11970],\n",
    "                                               ['Palau',232000000,18055,12921],\n",
    "                                               ['Saint Kitts and Nevis',965000000,47000,20262],\n",
    "                                               ['Saint Vincent and the Grenadines',948000000,9123,9125],\n",
    "                                               ['Sao Tome and Principe',542000000,227380,2386],\n",
    "                                               ['Somalia',10042000000,17000000,592],\n",
    "                                               ['Swaziland',4791000000,1202000,3986],\n",
    "                                               ['Tonga',469000000,106858,4425],\n",
    "                                               ['Turkmenistan',56540000000,6431000,8792],\n",
    "                                               ['Yemen',21160000000,33700000,650]\n",
    "                                               ],\n",
    "                                             columns=['Country','PIB','Population','PIB/habitant'])],ignore_index=True)"
   ]
  },
  {
   "cell_type": "code",
   "execution_count": 15,
   "metadata": {
    "ExecuteTime": {
     "end_time": "2024-04-10T22:38:03.352658Z",
     "start_time": "2024-04-10T22:38:03.238639Z"
    }
   },
   "outputs": [
    {
     "data": {
      "text/plain": [
       "{'United States': 25462700000000,\n",
       " 'China': 17963200000000,\n",
       " 'Japan': 4231140000000,\n",
       " 'Germany': 4072190000000,\n",
       " 'India': 3385090000000,\n",
       " 'United Kingdom': 3070670000000,\n",
       " 'France': 2782910000000,\n",
       " 'Russia': 2240420000000,\n",
       " 'Canada': 2139840000000,\n",
       " 'Italy': 2010430000000,\n",
       " 'Brazil': 1920100000000,\n",
       " 'Australia': 1675420000000,\n",
       " 'South Korea': 1665250000000,\n",
       " 'Mexico': 1414190000000,\n",
       " 'Spain': 1397510000000,\n",
       " 'Indonesia': 1319100000000,\n",
       " 'Saudi Arabia': 1108150000000,\n",
       " 'Netherlands': 991115000000,\n",
       " 'Turkey': 905988000000,\n",
       " 'Switzerland': 807706000000,\n",
       " 'Poland': 688177000000,\n",
       " 'Argentina': 632770000000,\n",
       " 'Sweden': 585939000000,\n",
       " 'Norway': 579267000000,\n",
       " 'Belgium': 578604000000,\n",
       " 'Ireland': 529245000000,\n",
       " 'Israel': 522033000000,\n",
       " 'United Arab Emirates': 507535000000,\n",
       " 'Thailand': 495341000000,\n",
       " 'Nigeria': 477386000000,\n",
       " 'Egypt': 476748000000,\n",
       " 'Austria': 471400000000,\n",
       " 'Singapour': 466789000000,\n",
       " 'Bangladesh': 460201000000,\n",
       " 'Vietnam': 408802000000,\n",
       " 'Malaysia': 406306000000,\n",
       " 'South Africa': 405870000000,\n",
       " 'Philippines': 404284000000,\n",
       " 'Denmark': 395404000000,\n",
       " 'Iran': 388544000000,\n",
       " 'Pakistan': 376533000000,\n",
       " 'Hong Kong': 359839000000,\n",
       " 'Colombia': 343939000000,\n",
       " 'Romania': 301262000000,\n",
       " 'Chile': 301025000000,\n",
       " 'Czech Republic': 290924000000,\n",
       " 'Finland': 280826000000,\n",
       " 'Iraq': 264182000000,\n",
       " 'Portugal': 251945000000,\n",
       " 'New Zealand': 247234000000,\n",
       " 'Peru': 242632000000,\n",
       " 'Qatar': 237296000000,\n",
       " 'Kazakhstan': 220623000000,\n",
       " 'Greece': 219066000000,\n",
       " 'Algeria': 191913000000,\n",
       " 'Kuwait': 184558000000,\n",
       " 'Hungary': 178789000000,\n",
       " 'Ukraine': 160503000000,\n",
       " 'Morocco': 134182000000,\n",
       " 'Ethiopia': 126783000000,\n",
       " 'Slovakia': 115469000000,\n",
       " 'Ecuador': 115049000000,\n",
       " 'Oman': 114667000000,\n",
       " 'Dominican Republic': 113642000000,\n",
       " 'Kenya': 113420000000,\n",
       " 'Angola': 106714000000,\n",
       " 'Guatemala': 95003333381,\n",
       " 'Bulgaria': 89040398406,\n",
       " 'Luxembourg': 82274812251,\n",
       " 'Uzbekistan': 80391853885,\n",
       " 'Azerbaijan': 78721058824,\n",
       " 'Panama': 76522511781,\n",
       " 'Tanzania': 75709289056,\n",
       " 'Sri Lanka': 74403578363,\n",
       " 'Ghana': 72838798788,\n",
       " 'Belarus': 72793457588,\n",
       " 'Uruguay': 71177146197,\n",
       " 'Croatia': 70964606465,\n",
       " 'Lithuania': 70334299008,\n",
       " \"Cote d'Ivoire\": 70018715017,\n",
       " 'Costa Rica': 68380838316,\n",
       " 'Serbia': 63501748652,\n",
       " 'Slovenia': 62117768015,\n",
       " 'Myanmar': 59364362541,\n",
       " 'DR Congo': 58065953573,\n",
       " 'Sudan': 51662241775,\n",
       " 'Jordan': 47451499859,\n",
       " 'Tunisia': 46664948952,\n",
       " 'Libya': 45752336036,\n",
       " 'Uganda': 45559202049,\n",
       " 'Bahrain': 44390820479,\n",
       " 'Cameroon': 44341646509,\n",
       " 'Bolivia': 43068885673,\n",
       " 'Paraguay': 41722295362,\n",
       " 'Latvia': 41153912663,\n",
       " 'Nepal': 40828247302,\n",
       " 'Estonia': 38100812959,\n",
       " 'El Salvador': 32488720000,\n",
       " 'Honduras': 31717700115,\n",
       " 'Papua New Guinea': 30633444295,\n",
       " 'Cambodia': 29956769529,\n",
       " 'Zambia': 29784454056,\n",
       " 'Cyprus': 28439052741,\n",
       " 'Trinidad': 27899082337,\n",
       " 'Iceland': 27841648044,\n",
       " 'Senegal': 27684430244,\n",
       " 'Georgia': 24605375420,\n",
       " 'Bosnia and Herzegovina': 24527507288,\n",
       " 'Macao': 21979475561,\n",
       " 'Guinea': 21227749389,\n",
       " 'Gabon': 21071739228,\n",
       " 'Zimbabwe': 20678055598,\n",
       " 'Botswana': 20352322157,\n",
       " 'Haiti': 20253551885,\n",
       " 'Armenia': 19502783988,\n",
       " 'Palestine, Occupied Territories': 19111900000,\n",
       " 'Burkina Faso': 18884619613,\n",
       " 'Albania': 18882095518,\n",
       " 'Mali': 18827176532,\n",
       " 'Mozambique': 17851491428,\n",
       " 'Malta': 17765270015,\n",
       " 'Benin': 17401746309,\n",
       " 'Jamaica': 17097760745,\n",
       " 'Mongolia': 16810883361,\n",
       " 'Brunei ': 16681531646,\n",
       " 'Laos': 15724383783,\n",
       " 'Nicaragua': 15671583878,\n",
       " 'Guyana': 15357537068,\n",
       " 'Madagascar': 14954967604,\n",
       " 'Congo': 14615532210,\n",
       " 'Moldova': 14420947884,\n",
       " 'Niger': 13969605583,\n",
       " 'North Macedonia': 13563132057,\n",
       " 'Rwanda': 13312796765,\n",
       " 'Malawi': 13164667627,\n",
       " 'Mauritius': 12898307089,\n",
       " 'Bahamas': 12897400000,\n",
       " 'Chad': 12704149842,\n",
       " 'Namibia': 12607436976,\n",
       " 'Equatorial Guinea': 11813908448,\n",
       " 'Kyrgyzstan': 10930644915,\n",
       " 'Tajikistan': 10492123388,\n",
       " 'Mauritania': 10375460680,\n",
       " 'Togo': 8126439481,\n",
       " 'Maldives': 6189865408,\n",
       " 'Montenegro': 6095978868,\n",
       " 'Barbados': 5637914515,\n",
       " 'Fiji': 4943248200,\n",
       " 'Eswatini': 4854167638,\n",
       " 'Liberia': 4001047150,\n",
       " 'Sierra Leone': 3970343852,\n",
       " 'Suriname': 3620655116,\n",
       " 'Andorra': 3352032737,\n",
       " 'Timor-Leste': 3163324631,\n",
       " 'Burundi': 3073414678,\n",
       " 'Belize': 2824081836,\n",
       " 'Lesotho': 2553459763,\n",
       " 'Central African Republic': 2382618615,\n",
       " 'Cabo Verde': 2314816792,\n",
       " 'Gambia': 2273060863,\n",
       " 'Saint Lucia': 2065027556,\n",
       " 'Antigua and Barbuda': 1757603704,\n",
       " 'Guinea-Bissau': 1633559092,\n",
       " 'Solomon Islands': 1595710784,\n",
       " 'Seychelles': 1588406479,\n",
       " 'Grenada': 1256413185,\n",
       " 'Comoros': 1242519407,\n",
       " 'Vanuatu': 983582865,\n",
       " 'Saint Kitts & Nevis': 961563259,\n",
       " 'St. Vincent & Grenadines': 948558503,\n",
       " 'Samoa': 832421565,\n",
       " 'Dominica': 612048148,\n",
       " 'Sao Tome & Principe': 546680342,\n",
       " 'Micronesia': 427094119,\n",
       " 'Marshall Islands': 279667900,\n",
       " 'Kiribati': 223352943,\n",
       " 'Tuvalu': 60349391,\n",
       " 'Taiwan': 762670000000,\n",
       " 'Cook Islands': 220000000,\n",
       " 'Eritrea': 1960000000,\n",
       " 'Kosovo': 9410000000,\n",
       " 'Lebanon': 23130000000,\n",
       " 'Netherlands Antilles': 3810000000,\n",
       " 'South Sudan': 12000000000,\n",
       " 'American Samoa': 871000000,\n",
       " 'Aruba': 3545000000,\n",
       " 'Bermuda': 7645000000,\n",
       " 'British Virgin Islands': 1751000000,\n",
       " 'Virgin Islands': 4440000000,\n",
       " 'Cayman Islands': 6845000000,\n",
       " 'Cuba': 633400000000,\n",
       " 'Guam': 6123000000,\n",
       " 'North Korea': 48000000000,\n",
       " 'Liechtenstein': 7710000000,\n",
       " 'Monaco': 8784000000,\n",
       " 'Puerto Rico': 113400000000,\n",
       " 'San Marino': 1855000000,\n",
       " 'Syria': 8970000000,\n",
       " 'Venezuela': 92000000000,\n",
       " 'Virgin Islands*': 4444000000,\n",
       " 'Afghanistan': 14583135237,\n",
       " 'Bhutan': 2539551327,\n",
       " 'Brunei': 16760000000,\n",
       " 'Burma': 62260000000,\n",
       " 'Cape Verde': 2227000000,\n",
       " 'Djibouti': 3515000000,\n",
       " 'East Timor (Timor-Leste)': 3205000000,\n",
       " 'Macedonia': 13560000000,\n",
       " 'Nauru': 151600000,\n",
       " 'Palau': 232000000,\n",
       " 'Saint Kitts and Nevis': 965000000,\n",
       " 'Saint Vincent and the Grenadines': 948000000,\n",
       " 'Sao Tome and Principe': 542000000,\n",
       " 'Somalia': 10042000000,\n",
       " 'Swaziland': 4791000000,\n",
       " 'Tonga': 469000000,\n",
       " 'Turkmenistan': 56540000000,\n",
       " 'Yemen': 21160000000}"
      ]
     },
     "execution_count": 15,
     "metadata": {},
     "output_type": "execute_result"
    },
    {
     "name": "stdout",
     "output_type": "stream",
     "text": [
      "In [15] used 0.1 MiB RAM in 0.12s (system mean cpu 27%, single max cpu 100%), peaked 0.0 MiB above final usage, current RAM usage now 153.5 MiB\n"
     ]
    }
   ],
   "source": [
    "## Dictionnaire pour remplir les valeurs NaN de Pop et PIB sans changer les valeurs de pop et PIB per habitant précédentes\n",
    "dictio_pop_gpd=dict(zip(df_pop_gpd['Country'],df_pop_gpd['PIB']))\n",
    "\n",
    "dictio_pop_gpd"
   ]
  },
  {
   "cell_type": "markdown",
   "metadata": {},
   "source": [
    "#### JO de Tokyo"
   ]
  },
  {
   "cell_type": "markdown",
   "metadata": {},
   "source": [
    "Pour les jeux de 2020 (été, Tokyo), nous avons trouvé le dataset suivant : https://www.kaggle.com/datasets/piterfm/tokyo-2020-olympics. Après téléchargement des différents datasets, nous le plaçons dans `./data/additionnal/tokyo2020`"
   ]
  },
  {
   "cell_type": "code",
   "execution_count": 16,
   "metadata": {
    "ExecuteTime": {
     "end_time": "2024-04-10T22:38:03.500209Z",
     "start_time": "2024-04-10T22:38:03.351670Z"
    }
   },
   "outputs": [
    {
     "name": "stdout",
     "output_type": "stream",
     "text": [
      "In [16] used -49.9 MiB RAM in 2.15s (system mean cpu 21%, single max cpu 100%), peaked 49.9 MiB above final usage, current RAM usage now 103.7 MiB\n"
     ]
    }
   ],
   "source": [
    "# Chargement des données\n",
    "df_tokyo_athletes = pd.read_csv('data/additionnal/tokyo2020/athletes.csv')\n",
    "df_tokyo_medals_total = pd.read_csv('data/additionnal/tokyo2020/medals_total.csv')\n",
    "df_tokyo_medals = pd.read_csv('data/additionnal/tokyo2020/medals.csv')"
   ]
  },
  {
   "cell_type": "code",
   "execution_count": 17,
   "metadata": {
    "ExecuteTime": {
     "end_time": "2024-04-10T22:38:03.646208Z",
     "start_time": "2024-04-10T22:38:03.498683Z"
    }
   },
   "outputs": [
    {
     "name": "stdout",
     "output_type": "stream",
     "text": [
      "In [17] used -5.3 MiB RAM in 0.17s (system mean cpu 34%, single max cpu 100%), peaked 0.0 MiB above final usage, current RAM usage now 98.4 MiB\n"
     ]
    }
   ],
   "source": [
    "# Création d'un dataframe avec les même colonnes que df_athlete\n",
    "df_complete_tokyo2020 = pd.DataFrame(columns=df_athlete.columns)\n",
    "\n",
    "# On s'assure qu'il n'y a pas de doublons\n",
    "df_tokyo_athletes.drop_duplicates(inplace=True)\n",
    "\n",
    "df_merged_bis = pd.merge(df_tokyo_athletes, df_tokyo_medals, how='left', left_on=['name', 'discipline_code'], right_on=['athlete_name', 'discipline_code'])"
   ]
  },
  {
   "cell_type": "code",
   "execution_count": 18,
   "metadata": {
    "ExecuteTime": {
     "end_time": "2024-04-10T22:38:04.463349Z",
     "start_time": "2024-04-10T22:38:03.653984Z"
    }
   },
   "outputs": [
    {
     "name": "stdout",
     "output_type": "stream",
     "text": [
      "In [18] used 87.9 MiB RAM in 0.72s (system mean cpu 7%, single max cpu 100%), peaked 0.0 MiB above final usage, current RAM usage now 186.3 MiB\n"
     ]
    }
   ],
   "source": [
    "athletes_to_be_added = []\n",
    "# Itération dans df_tokyo_athletes pour ajouter dans athletes_to_be_added, qui sera ensuite ajouté au dataframe df_complete_tokyo2020\n",
    "\n",
    "for index, row in df_tokyo_athletes.iterrows():\n",
    "    athlete_name = row['name']\n",
    "    athlete_sex = str(row['gender'])[0] if type(row['gender'] != float) else np.nan\n",
    "    athlete_age = (2021 - datetime.date.fromisoformat(str(row['birth_date'])).year) if (type(row['birth_date'] == str) and str(row['birth_date']).lower() != 'nan' ) else np.nan\n",
    "    athlete_height_in_m = (int(float(row['height_m/ft'].split('/')[0]) *100)) if (type(row['height_m/ft']) != float) else np.nan\n",
    "    athlete_team = row['country']\n",
    "    athlete_noc = row['country_code']\n",
    "    athlete_games = 'Tokyo 2020'\n",
    "    athlete_year = 2020\n",
    "    athlete_season = 'Summer'\n",
    "    athlete_city = 'Tokyo'\n",
    "    athlete_discipline = row['discipline']\n",
    "    athletes_to_be_added.append({\n",
    "        'Name': athlete_name,\n",
    "        'Sex': athlete_sex, \n",
    "        'Age': athlete_age,\n",
    "        'Height': athlete_height_in_m,\n",
    "        'Team': athlete_team,\n",
    "        'NOC': athlete_noc,\n",
    "        'Games': athlete_games,\n",
    "        'Year': athlete_year,\n",
    "        'Season': athlete_season,\n",
    "        'City': athlete_city,\n",
    "        'Sport': athlete_discipline,\n",
    "    })\n",
    "\n",
    "df_complete_tokyo2020 = df_complete_tokyo2020.from_records(athletes_to_be_added)"
   ]
  },
  {
   "cell_type": "code",
   "execution_count": 19,
   "metadata": {
    "ExecuteTime": {
     "end_time": "2024-04-10T22:38:04.593269Z",
     "start_time": "2024-04-10T22:38:04.451560Z"
    }
   },
   "outputs": [
    {
     "name": "stdout",
     "output_type": "stream",
     "text": [
      "In [19] used 4.5 MiB RAM in 0.14s (system mean cpu 33%, single max cpu 100%), peaked 0.0 MiB above final usage, current RAM usage now 190.8 MiB\n"
     ]
    }
   ],
   "source": [
    "# On effectue une jointure droite entre les deux dataframes, de manière à conserver seulement les athlètes avec différentes médailles dans différentes disciplines\n",
    "df_merged = pd.merge(df_complete_tokyo2020, df_tokyo_medals, left_on=['Name', 'Sport'], right_on=['athlete_name', 'discipline'], how='left')\n",
    "df_merged.drop(columns=['medal_code', 'medal_date', 'athlete_short_name',\n",
    "       'athlete_name', 'athlete_sex', 'athlete_link', 'country_code',\n",
    "       'discipline_code', 'country', 'discipline'], inplace=True)\n",
    "\n",
    "df_merged.drop_duplicates(inplace=True)\n",
    "\n",
    "df_merged['medal_type'] = df_merged['medal_type'].apply(lambda x: x.replace('Medal', '').strip() if type(x) != float else x)\n",
    "df_merged.rename(columns={'medal_type': 'Medal', 'event': 'Event'}, inplace=True)"
   ]
  },
  {
   "cell_type": "code",
   "execution_count": 20,
   "metadata": {
    "ExecuteTime": {
     "end_time": "2024-04-10T22:38:04.735198Z",
     "start_time": "2024-04-10T22:38:04.595793Z"
    }
   },
   "outputs": [
    {
     "data": {
      "text/html": [
       "<div>\n",
       "<style scoped>\n",
       "    .dataframe tbody tr th:only-of-type {\n",
       "        vertical-align: middle;\n",
       "    }\n",
       "\n",
       "    .dataframe tbody tr th {\n",
       "        vertical-align: top;\n",
       "    }\n",
       "\n",
       "    .dataframe thead th {\n",
       "        text-align: right;\n",
       "    }\n",
       "</style>\n",
       "<table border=\"1\" class=\"dataframe\">\n",
       "  <thead>\n",
       "    <tr style=\"text-align: right;\">\n",
       "      <th></th>\n",
       "      <th>Name</th>\n",
       "      <th>Sex</th>\n",
       "      <th>Age</th>\n",
       "      <th>Height</th>\n",
       "      <th>Team</th>\n",
       "      <th>NOC</th>\n",
       "      <th>Games</th>\n",
       "      <th>Year</th>\n",
       "      <th>Season</th>\n",
       "      <th>City</th>\n",
       "      <th>Sport</th>\n",
       "      <th>Medal</th>\n",
       "      <th>Event</th>\n",
       "    </tr>\n",
       "  </thead>\n",
       "  <tbody>\n",
       "    <tr>\n",
       "      <th>0</th>\n",
       "      <td>AALERUD Katrine</td>\n",
       "      <td>F</td>\n",
       "      <td>27.0</td>\n",
       "      <td>NaN</td>\n",
       "      <td>Norway</td>\n",
       "      <td>NOR</td>\n",
       "      <td>Tokyo 2020</td>\n",
       "      <td>2020</td>\n",
       "      <td>Summer</td>\n",
       "      <td>Tokyo</td>\n",
       "      <td>Cycling Road</td>\n",
       "      <td>NaN</td>\n",
       "      <td>NaN</td>\n",
       "    </tr>\n",
       "    <tr>\n",
       "      <th>1</th>\n",
       "      <td>ABAD Nestor</td>\n",
       "      <td>M</td>\n",
       "      <td>28.0</td>\n",
       "      <td>165.0</td>\n",
       "      <td>Spain</td>\n",
       "      <td>ESP</td>\n",
       "      <td>Tokyo 2020</td>\n",
       "      <td>2020</td>\n",
       "      <td>Summer</td>\n",
       "      <td>Tokyo</td>\n",
       "      <td>Artistic Gymnastics</td>\n",
       "      <td>NaN</td>\n",
       "      <td>NaN</td>\n",
       "    </tr>\n",
       "    <tr>\n",
       "      <th>2</th>\n",
       "      <td>ABAGNALE Giovanni</td>\n",
       "      <td>M</td>\n",
       "      <td>26.0</td>\n",
       "      <td>198.0</td>\n",
       "      <td>Italy</td>\n",
       "      <td>ITA</td>\n",
       "      <td>Tokyo 2020</td>\n",
       "      <td>2020</td>\n",
       "      <td>Summer</td>\n",
       "      <td>Tokyo</td>\n",
       "      <td>Rowing</td>\n",
       "      <td>NaN</td>\n",
       "      <td>NaN</td>\n",
       "    </tr>\n",
       "    <tr>\n",
       "      <th>3</th>\n",
       "      <td>ABALDE Alberto</td>\n",
       "      <td>M</td>\n",
       "      <td>26.0</td>\n",
       "      <td>200.0</td>\n",
       "      <td>Spain</td>\n",
       "      <td>ESP</td>\n",
       "      <td>Tokyo 2020</td>\n",
       "      <td>2020</td>\n",
       "      <td>Summer</td>\n",
       "      <td>Tokyo</td>\n",
       "      <td>Basketball</td>\n",
       "      <td>NaN</td>\n",
       "      <td>NaN</td>\n",
       "    </tr>\n",
       "    <tr>\n",
       "      <th>4</th>\n",
       "      <td>ABALDE Tamara</td>\n",
       "      <td>F</td>\n",
       "      <td>32.0</td>\n",
       "      <td>192.0</td>\n",
       "      <td>Spain</td>\n",
       "      <td>ESP</td>\n",
       "      <td>Tokyo 2020</td>\n",
       "      <td>2020</td>\n",
       "      <td>Summer</td>\n",
       "      <td>Tokyo</td>\n",
       "      <td>Basketball</td>\n",
       "      <td>NaN</td>\n",
       "      <td>NaN</td>\n",
       "    </tr>\n",
       "    <tr>\n",
       "      <th>...</th>\n",
       "      <td>...</td>\n",
       "      <td>...</td>\n",
       "      <td>...</td>\n",
       "      <td>...</td>\n",
       "      <td>...</td>\n",
       "      <td>...</td>\n",
       "      <td>...</td>\n",
       "      <td>...</td>\n",
       "      <td>...</td>\n",
       "      <td>...</td>\n",
       "      <td>...</td>\n",
       "      <td>...</td>\n",
       "      <td>...</td>\n",
       "    </tr>\n",
       "    <tr>\n",
       "      <th>11876</th>\n",
       "      <td>ZWICKER Martin Detlef</td>\n",
       "      <td>M</td>\n",
       "      <td>34.0</td>\n",
       "      <td>176.0</td>\n",
       "      <td>Germany</td>\n",
       "      <td>GER</td>\n",
       "      <td>Tokyo 2020</td>\n",
       "      <td>2020</td>\n",
       "      <td>Summer</td>\n",
       "      <td>Tokyo</td>\n",
       "      <td>Hockey</td>\n",
       "      <td>NaN</td>\n",
       "      <td>NaN</td>\n",
       "    </tr>\n",
       "    <tr>\n",
       "      <th>11877</th>\n",
       "      <td>ZWOLINSKA Klaudia</td>\n",
       "      <td>F</td>\n",
       "      <td>23.0</td>\n",
       "      <td>NaN</td>\n",
       "      <td>Poland</td>\n",
       "      <td>POL</td>\n",
       "      <td>Tokyo 2020</td>\n",
       "      <td>2020</td>\n",
       "      <td>Summer</td>\n",
       "      <td>Tokyo</td>\n",
       "      <td>Canoe Slalom</td>\n",
       "      <td>NaN</td>\n",
       "      <td>NaN</td>\n",
       "    </tr>\n",
       "    <tr>\n",
       "      <th>11878</th>\n",
       "      <td>ZYKOVA Yulia</td>\n",
       "      <td>F</td>\n",
       "      <td>26.0</td>\n",
       "      <td>NaN</td>\n",
       "      <td>ROC</td>\n",
       "      <td>ROC</td>\n",
       "      <td>Tokyo 2020</td>\n",
       "      <td>2020</td>\n",
       "      <td>Summer</td>\n",
       "      <td>Tokyo</td>\n",
       "      <td>Shooting</td>\n",
       "      <td>Silver</td>\n",
       "      <td>50m Rifle 3 Positions Women</td>\n",
       "    </tr>\n",
       "    <tr>\n",
       "      <th>11879</th>\n",
       "      <td>ZYUZINA Ekaterina</td>\n",
       "      <td>F</td>\n",
       "      <td>25.0</td>\n",
       "      <td>NaN</td>\n",
       "      <td>ROC</td>\n",
       "      <td>ROC</td>\n",
       "      <td>Tokyo 2020</td>\n",
       "      <td>2020</td>\n",
       "      <td>Summer</td>\n",
       "      <td>Tokyo</td>\n",
       "      <td>Sailing</td>\n",
       "      <td>NaN</td>\n",
       "      <td>NaN</td>\n",
       "    </tr>\n",
       "    <tr>\n",
       "      <th>11880</th>\n",
       "      <td>ZYZANSKA Sylwia</td>\n",
       "      <td>F</td>\n",
       "      <td>24.0</td>\n",
       "      <td>NaN</td>\n",
       "      <td>Poland</td>\n",
       "      <td>POL</td>\n",
       "      <td>Tokyo 2020</td>\n",
       "      <td>2020</td>\n",
       "      <td>Summer</td>\n",
       "      <td>Tokyo</td>\n",
       "      <td>Archery</td>\n",
       "      <td>NaN</td>\n",
       "      <td>NaN</td>\n",
       "    </tr>\n",
       "  </tbody>\n",
       "</table>\n",
       "<p>11881 rows × 13 columns</p>\n",
       "</div>"
      ],
      "text/plain": [
       "                        Name Sex   Age  Height     Team  NOC       Games  \\\n",
       "0            AALERUD Katrine   F  27.0     NaN   Norway  NOR  Tokyo 2020   \n",
       "1                ABAD Nestor   M  28.0   165.0    Spain  ESP  Tokyo 2020   \n",
       "2          ABAGNALE Giovanni   M  26.0   198.0    Italy  ITA  Tokyo 2020   \n",
       "3             ABALDE Alberto   M  26.0   200.0    Spain  ESP  Tokyo 2020   \n",
       "4              ABALDE Tamara   F  32.0   192.0    Spain  ESP  Tokyo 2020   \n",
       "...                      ...  ..   ...     ...      ...  ...         ...   \n",
       "11876  ZWICKER Martin Detlef   M  34.0   176.0  Germany  GER  Tokyo 2020   \n",
       "11877      ZWOLINSKA Klaudia   F  23.0     NaN   Poland  POL  Tokyo 2020   \n",
       "11878           ZYKOVA Yulia   F  26.0     NaN      ROC  ROC  Tokyo 2020   \n",
       "11879      ZYUZINA Ekaterina   F  25.0     NaN      ROC  ROC  Tokyo 2020   \n",
       "11880        ZYZANSKA Sylwia   F  24.0     NaN   Poland  POL  Tokyo 2020   \n",
       "\n",
       "       Year  Season   City                Sport   Medal  \\\n",
       "0      2020  Summer  Tokyo         Cycling Road     NaN   \n",
       "1      2020  Summer  Tokyo  Artistic Gymnastics     NaN   \n",
       "2      2020  Summer  Tokyo               Rowing     NaN   \n",
       "3      2020  Summer  Tokyo           Basketball     NaN   \n",
       "4      2020  Summer  Tokyo           Basketball     NaN   \n",
       "...     ...     ...    ...                  ...     ...   \n",
       "11876  2020  Summer  Tokyo               Hockey     NaN   \n",
       "11877  2020  Summer  Tokyo         Canoe Slalom     NaN   \n",
       "11878  2020  Summer  Tokyo             Shooting  Silver   \n",
       "11879  2020  Summer  Tokyo              Sailing     NaN   \n",
       "11880  2020  Summer  Tokyo              Archery     NaN   \n",
       "\n",
       "                             Event  \n",
       "0                              NaN  \n",
       "1                              NaN  \n",
       "2                              NaN  \n",
       "3                              NaN  \n",
       "4                              NaN  \n",
       "...                            ...  \n",
       "11876                          NaN  \n",
       "11877                          NaN  \n",
       "11878  50m Rifle 3 Positions Women  \n",
       "11879                          NaN  \n",
       "11880                          NaN  \n",
       "\n",
       "[11881 rows x 13 columns]"
      ]
     },
     "execution_count": 20,
     "metadata": {},
     "output_type": "execute_result"
    },
    {
     "name": "stdout",
     "output_type": "stream",
     "text": [
      "In [20] used -0.0 MiB RAM in 0.13s (system mean cpu 35%, single max cpu 100%), peaked 0.0 MiB above final usage, current RAM usage now 190.8 MiB\n"
     ]
    }
   ],
   "source": [
    "# On récupère le nom des médaillés seulement, pour les retirer du dataframe final (qui ne contient pas encore les médailles obtenues par les athlètes), avant de fusionner\n",
    "# le dataframe des médaillés seulement et celui des athlètes sans médailles\n",
    "medailles_seulement = df_merged.Name.unique()\n",
    "df_complete_tokyo2020.drop(df_complete_tokyo2020[df_complete_tokyo2020['Name'].isin(medailles_seulement)].index, inplace=True)\n",
    "df_complete_tokyo2020 = pd.concat([df_complete_tokyo2020, df_merged])\n",
    "df_complete_tokyo2020"
   ]
  },
  {
   "cell_type": "code",
   "execution_count": 21,
   "metadata": {
    "ExecuteTime": {
     "end_time": "2024-04-10T22:38:04.840833Z",
     "start_time": "2024-04-10T22:38:04.724916Z"
    }
   },
   "outputs": [
    {
     "name": "stdout",
     "output_type": "stream",
     "text": [
      "In [21] used -0.8 MiB RAM in 0.11s (system mean cpu 41%, single max cpu 100%), peaked 0.8 MiB above final usage, current RAM usage now 189.9 MiB\n"
     ]
    }
   ],
   "source": [
    "# On remplace les valeurs 'n' en NaN pour le sexe\n",
    "df_complete_tokyo2020['Sex'] = df_complete_tokyo2020['Sex'].apply(lambda x: np.NAN if x == 'n' else x)"
   ]
  },
  {
   "cell_type": "code",
   "execution_count": 22,
   "metadata": {
    "ExecuteTime": {
     "end_time": "2024-04-10T22:38:04.994248Z",
     "start_time": "2024-04-10T22:38:04.836798Z"
    }
   },
   "outputs": [
    {
     "name": "stdout",
     "output_type": "stream",
     "text": [
      "In [22] used 86.7 MiB RAM in 0.20s (system mean cpu 32%, single max cpu 100%), peaked 0.0 MiB above final usage, current RAM usage now 276.6 MiB\n"
     ]
    }
   ],
   "source": [
    "# On merge avec df_athlete\n",
    "df_athlete = pd.concat([df_athlete,df_complete_tokyo2020 ])"
   ]
  },
  {
   "cell_type": "markdown",
   "metadata": {},
   "source": [
    "## Optimisation des datasets\n",
    "   Dans un souci d'optimisation de l'espace mémoire occupé, nous allons faire en sorte d'optimiser les différents dataframe que nous utilisons. \n",
    "Pour mener à bien ceci, nous allons des fonctions contenues dans `describe_csv.py`, en les améliorant pour automatiser le processus."
   ]
  },
  {
   "cell_type": "code",
   "execution_count": 23,
   "metadata": {
    "ExecuteTime": {
     "end_time": "2024-04-10T22:38:05.110765Z",
     "start_time": "2024-04-10T22:38:04.994975Z"
    }
   },
   "outputs": [
    {
     "name": "stdout",
     "output_type": "stream",
     "text": [
      "In [23] used 0.4 MiB RAM in 0.11s (system mean cpu 10%, single max cpu 60%), peaked 0.0 MiB above final usage, current RAM usage now 277.0 MiB\n"
     ]
    }
   ],
   "source": [
    "#### Code Nathan à ajouter\n",
    "# Jusqu'à maintenant, nous utilisons le dataframe df_athlete. Nous allons définir différentes fonctions pour optimiser les types et ainsi optimiser l'espace mémoire occupé\n",
    "\n",
    "from pandas.api.types import is_numeric_dtype\n",
    "\n",
    "\n",
    "def define_and_use_optimal_type(df:pd.DataFrame):\n",
    "    for column in df.columns:\n",
    "        if(is_numeric_dtype(df[column]) == True):\n",
    "            # Set optimal type else do nothing\n",
    "            optimalype = optimal_type(df[column], df[column].min(), df[column].max())\n",
    "            df[column] = df[column].astype(optimalype)\n",
    "    return df"
   ]
  },
  {
   "cell_type": "markdown",
   "metadata": {},
   "source": [
    "## Nettoyage"
   ]
  },
  {
   "cell_type": "code",
   "execution_count": 24,
   "metadata": {
    "ExecuteTime": {
     "end_time": "2024-04-10T22:38:05.253281Z",
     "start_time": "2024-04-10T22:38:05.103257Z"
    }
   },
   "outputs": [
    {
     "name": "stdout",
     "output_type": "stream",
     "text": [
      "In [24] used 0.0 MiB RAM in 0.11s (system mean cpu 16%, single max cpu 67%), peaked 0.0 MiB above final usage, current RAM usage now 277.0 MiB\n"
     ]
    }
   ],
   "source": [
    "## Ajouter le code FLO"
   ]
  },
  {
   "cell_type": "markdown",
   "metadata": {},
   "source": [
    "### Dataframe dictionnary"
   ]
  },
  {
   "cell_type": "code",
   "execution_count": 25,
   "metadata": {
    "ExecuteTime": {
     "end_time": "2024-04-10T22:38:05.356928Z",
     "start_time": "2024-04-10T22:38:05.210106Z"
    }
   },
   "outputs": [
    {
     "data": {
      "text/plain": [
       "Country          0\n",
       "NOC              0\n",
       "Population       5\n",
       "PIB/habitant    25\n",
       "dtype: int64"
      ]
     },
     "execution_count": 25,
     "metadata": {},
     "output_type": "execute_result"
    },
    {
     "name": "stdout",
     "output_type": "stream",
     "text": [
      "In [25] used 1.4 MiB RAM in 0.65s (system mean cpu 27%, single max cpu 100%), peaked 0.0 MiB above final usage, current RAM usage now 278.4 MiB\n"
     ]
    }
   ],
   "source": [
    "df_dictionnary=pd.read_csv('data/dictionary.csv')\n",
    "\n",
    "df_dictionnary=df_dictionnary.rename(columns={'GDP per Capita':'PIB/habitant','Code':'NOC'})\n",
    "\n",
    "df_dictionnary.isna().sum()"
   ]
  },
  {
   "cell_type": "code",
   "execution_count": 26,
   "metadata": {},
   "outputs": [
    {
     "name": "stdout",
     "output_type": "stream",
     "text": [
      "In [26] used 0.1 MiB RAM in 0.11s (system mean cpu 25%, single max cpu 100%), peaked 0.0 MiB above final usage, current RAM usage now 278.5 MiB\n"
     ]
    }
   ],
   "source": [
    "df_dictionnary['Country']=df_dictionnary['Country'].replace('Puerto Rico*','Puerto Rico')\n",
    "df_dictionnary['Country']=df_dictionnary['Country'].replace('Hong Kong*','Hong Kong')\n",
    "df_dictionnary['Country']=df_dictionnary['Country'].replace('Korea, South','South Korea')\n",
    "df_dictionnary['Country']=df_dictionnary['Country'].replace('Korea, North','North Korea')\n",
    "df_dictionnary['Country']=df_dictionnary['Country'].replace('Liban','Lebanon')\n",
    "df_dictionnary['Country']=df_dictionnary['Country'].replace('Congo, Dem Rep','DR Congo')\n",
    "df_dictionnary['Country']=df_dictionnary['Country'].replace('Cayman Islands*','Cayman Islands')\n",
    "df_dictionnary['Country']=df_dictionnary['Country'].replace('Bermuda*','Bermuda')\n",
    "df_dictionnary['Country']=df_dictionnary['Country'].replace('Virgin Islands*','Virgin Islands')\n",
    "df_dictionnary['Country']=df_dictionnary['Country'].replace('Aruba*','Aruba')\n",
    "df_dictionnary['Country']=df_dictionnary['Country'].replace('American Samoa*','American Samoa')\n",
    "df_dictionnary['Country']=df_dictionnary['Country'].replace('Netherlands Antilles*','Netherlands Antilles')"
   ]
  },
  {
   "cell_type": "markdown",
   "metadata": {},
   "source": [
    "### Dataframe région"
   ]
  },
  {
   "cell_type": "code",
   "execution_count": 27,
   "metadata": {
    "ExecuteTime": {
     "end_time": "2024-04-10T22:38:05.453026Z",
     "start_time": "2024-04-10T22:38:05.324170Z"
    }
   },
   "outputs": [
    {
     "name": "stdout",
     "output_type": "stream",
     "text": [
      "In [27] used 0.1 MiB RAM in 0.10s (system mean cpu 34%, single max cpu 100%), peaked 0.0 MiB above final usage, current RAM usage now 278.6 MiB\n"
     ]
    }
   ],
   "source": [
    "df_region=df_region.rename(columns={'region':'Country'})"
   ]
  },
  {
   "cell_type": "markdown",
   "metadata": {},
   "source": [
    "Ajout des îles Tuvalu"
   ]
  },
  {
   "cell_type": "code",
   "execution_count": 28,
   "metadata": {
    "ExecuteTime": {
     "end_time": "2024-04-10T22:38:05.592674Z",
     "start_time": "2024-04-10T22:38:05.431323Z"
    }
   },
   "outputs": [
    {
     "data": {
      "text/html": [
       "<div>\n",
       "<style scoped>\n",
       "    .dataframe tbody tr th:only-of-type {\n",
       "        vertical-align: middle;\n",
       "    }\n",
       "\n",
       "    .dataframe tbody tr th {\n",
       "        vertical-align: top;\n",
       "    }\n",
       "\n",
       "    .dataframe thead th {\n",
       "        text-align: right;\n",
       "    }\n",
       "</style>\n",
       "<table border=\"1\" class=\"dataframe\">\n",
       "  <thead>\n",
       "    <tr style=\"text-align: right;\">\n",
       "      <th></th>\n",
       "      <th>NOC</th>\n",
       "      <th>Country</th>\n",
       "      <th>notes</th>\n",
       "    </tr>\n",
       "  </thead>\n",
       "  <tbody>\n",
       "    <tr>\n",
       "      <th>168</th>\n",
       "      <td>ROT</td>\n",
       "      <td>NaN</td>\n",
       "      <td>Refugee Olympic Team</td>\n",
       "    </tr>\n",
       "    <tr>\n",
       "      <th>208</th>\n",
       "      <td>TUV</td>\n",
       "      <td>NaN</td>\n",
       "      <td>Tuvalu</td>\n",
       "    </tr>\n",
       "    <tr>\n",
       "      <th>213</th>\n",
       "      <td>UNK</td>\n",
       "      <td>NaN</td>\n",
       "      <td>Unknown</td>\n",
       "    </tr>\n",
       "  </tbody>\n",
       "</table>\n",
       "</div>"
      ],
      "text/plain": [
       "     NOC Country                 notes\n",
       "168  ROT     NaN  Refugee Olympic Team\n",
       "208  TUV     NaN                Tuvalu\n",
       "213  UNK     NaN               Unknown"
      ]
     },
     "execution_count": 28,
     "metadata": {},
     "output_type": "execute_result"
    },
    {
     "name": "stdout",
     "output_type": "stream",
     "text": [
      "In [28] used -0.3 MiB RAM in 0.11s (system mean cpu 32%, single max cpu 100%), peaked 0.3 MiB above final usage, current RAM usage now 278.3 MiB\n"
     ]
    }
   ],
   "source": [
    "df_region[df_region['Country'].isnull()]"
   ]
  },
  {
   "cell_type": "code",
   "execution_count": 29,
   "metadata": {
    "ExecuteTime": {
     "end_time": "2024-04-10T22:38:05.655552Z",
     "start_time": "2024-04-10T22:38:05.540020Z"
    }
   },
   "outputs": [
    {
     "name": "stdout",
     "output_type": "stream",
     "text": [
      "In [29] used 0.4 MiB RAM in 0.12s (system mean cpu 34%, single max cpu 100%), peaked 0.0 MiB above final usage, current RAM usage now 278.7 MiB\n"
     ]
    }
   ],
   "source": [
    "df_region=df_region.query(\" NOC != 'ROT' and NOC != 'UNK' \") # Penser à ajouter Singapour\n",
    "\n",
    "df_region['Country']=df_region['Country'].fillna('Tuvalu')"
   ]
  },
  {
   "cell_type": "code",
   "execution_count": 30,
   "metadata": {
    "ExecuteTime": {
     "end_time": "2024-04-10T22:38:05.777547Z",
     "start_time": "2024-04-10T22:38:05.658283Z"
    }
   },
   "outputs": [
    {
     "data": {
      "text/html": [
       "<div>\n",
       "<style scoped>\n",
       "    .dataframe tbody tr th:only-of-type {\n",
       "        vertical-align: middle;\n",
       "    }\n",
       "\n",
       "    .dataframe tbody tr th {\n",
       "        vertical-align: top;\n",
       "    }\n",
       "\n",
       "    .dataframe thead th {\n",
       "        text-align: right;\n",
       "    }\n",
       "</style>\n",
       "<table border=\"1\" class=\"dataframe\">\n",
       "  <thead>\n",
       "    <tr style=\"text-align: right;\">\n",
       "      <th></th>\n",
       "      <th>NOC</th>\n",
       "      <th>Country</th>\n",
       "      <th>notes</th>\n",
       "    </tr>\n",
       "  </thead>\n",
       "  <tbody>\n",
       "    <tr>\n",
       "      <th>0</th>\n",
       "      <td>AFG</td>\n",
       "      <td>Afghanistan</td>\n",
       "      <td>NaN</td>\n",
       "    </tr>\n",
       "    <tr>\n",
       "      <th>1</th>\n",
       "      <td>AHO</td>\n",
       "      <td>Curacao</td>\n",
       "      <td>Netherlands Antilles</td>\n",
       "    </tr>\n",
       "    <tr>\n",
       "      <th>2</th>\n",
       "      <td>ALB</td>\n",
       "      <td>Albania</td>\n",
       "      <td>NaN</td>\n",
       "    </tr>\n",
       "    <tr>\n",
       "      <th>3</th>\n",
       "      <td>ALG</td>\n",
       "      <td>Algeria</td>\n",
       "      <td>NaN</td>\n",
       "    </tr>\n",
       "    <tr>\n",
       "      <th>4</th>\n",
       "      <td>AND</td>\n",
       "      <td>Andorra</td>\n",
       "      <td>NaN</td>\n",
       "    </tr>\n",
       "    <tr>\n",
       "      <th>...</th>\n",
       "      <td>...</td>\n",
       "      <td>...</td>\n",
       "      <td>...</td>\n",
       "    </tr>\n",
       "    <tr>\n",
       "      <th>225</th>\n",
       "      <td>YEM</td>\n",
       "      <td>Yemen</td>\n",
       "      <td>NaN</td>\n",
       "    </tr>\n",
       "    <tr>\n",
       "      <th>226</th>\n",
       "      <td>YMD</td>\n",
       "      <td>Yemen</td>\n",
       "      <td>South Yemen</td>\n",
       "    </tr>\n",
       "    <tr>\n",
       "      <th>227</th>\n",
       "      <td>YUG</td>\n",
       "      <td>Serbia</td>\n",
       "      <td>Yugoslavia</td>\n",
       "    </tr>\n",
       "    <tr>\n",
       "      <th>228</th>\n",
       "      <td>ZAM</td>\n",
       "      <td>Zambia</td>\n",
       "      <td>NaN</td>\n",
       "    </tr>\n",
       "    <tr>\n",
       "      <th>229</th>\n",
       "      <td>ZIM</td>\n",
       "      <td>Zimbabwe</td>\n",
       "      <td>NaN</td>\n",
       "    </tr>\n",
       "  </tbody>\n",
       "</table>\n",
       "<p>228 rows × 3 columns</p>\n",
       "</div>"
      ],
      "text/plain": [
       "     NOC      Country                 notes\n",
       "0    AFG  Afghanistan                   NaN\n",
       "1    AHO      Curacao  Netherlands Antilles\n",
       "2    ALB      Albania                   NaN\n",
       "3    ALG      Algeria                   NaN\n",
       "4    AND      Andorra                   NaN\n",
       "..   ...          ...                   ...\n",
       "225  YEM        Yemen                   NaN\n",
       "226  YMD        Yemen           South Yemen\n",
       "227  YUG       Serbia            Yugoslavia\n",
       "228  ZAM       Zambia                   NaN\n",
       "229  ZIM     Zimbabwe                   NaN\n",
       "\n",
       "[228 rows x 3 columns]"
      ]
     },
     "execution_count": 30,
     "metadata": {},
     "output_type": "execute_result"
    },
    {
     "name": "stdout",
     "output_type": "stream",
     "text": [
      "In [30] used 0.1 MiB RAM in 0.12s (system mean cpu 37%, single max cpu 100%), peaked 0.0 MiB above final usage, current RAM usage now 278.8 MiB\n"
     ]
    }
   ],
   "source": [
    "df_region"
   ]
  },
  {
   "cell_type": "markdown",
   "metadata": {},
   "source": [
    "## Merge des dataframes et traitement des valeurs nulles"
   ]
  },
  {
   "cell_type": "markdown",
   "metadata": {},
   "source": [
    "### Opérations sur les pays"
   ]
  },
  {
   "cell_type": "code",
   "execution_count": 31,
   "metadata": {
    "ExecuteTime": {
     "end_time": "2024-04-10T22:38:06.350051Z",
     "start_time": "2024-04-10T22:38:05.906575Z"
    }
   },
   "outputs": [
    {
     "name": "stdout",
     "output_type": "stream",
     "text": [
      "In [31] used 77.6 MiB RAM in 0.37s (system mean cpu 34%, single max cpu 100%), peaked 0.0 MiB above final usage, current RAM usage now 356.4 MiB\n"
     ]
    }
   ],
   "source": [
    "df_complete=pd.merge(pd.merge(df_athlete,df_region,on='NOC',how='left'),df_dictionnary,on='NOC',how='left')\n",
    "\n",
    "# On prend seulement les JO d'été\n",
    "df_complete=df_complete[df_complete['Season']=='Summer']\n",
    "df_complete=df_complete[df_complete['Year'] >= 2000]"
   ]
  },
  {
   "cell_type": "code",
   "execution_count": 32,
   "metadata": {
    "ExecuteTime": {
     "end_time": "2024-04-10T22:38:06.510214Z",
     "start_time": "2024-04-10T22:38:06.348772Z"
    }
   },
   "outputs": [
    {
     "name": "stdout",
     "output_type": "stream",
     "text": [
      "In [32] used 3.0 MiB RAM in 0.14s (system mean cpu 13%, single max cpu 100%), peaked 0.0 MiB above final usage, current RAM usage now 359.4 MiB\n"
     ]
    }
   ],
   "source": [
    "# Attribution des pays en fonction des NOC \n",
    "df_complete=pd.merge(df_complete,df_region,on='NOC',how='left')\n",
    "df_complete['Country']=df_complete['Country_y'].fillna(df_complete['Country_x'])\n",
    "df_complete= df_complete.drop(['Country_x', 'Country_y', 'notes_x','notes_y'], axis=1)"
   ]
  },
  {
   "cell_type": "code",
   "execution_count": 33,
   "metadata": {
    "ExecuteTime": {
     "end_time": "2024-04-10T22:38:06.641009Z",
     "start_time": "2024-04-10T22:38:06.509966Z"
    }
   },
   "outputs": [
    {
     "name": "stdout",
     "output_type": "stream",
     "text": [
      "In [33] used 1.0 MiB RAM in 0.13s (system mean cpu 28%, single max cpu 100%), peaked 0.0 MiB above final usage, current RAM usage now 360.4 MiB\n"
     ]
    }
   ],
   "source": [
    "# On retire les NOC (réfugiés)\n",
    "df_complete=df_complete.query(\" NOC !='ROC' \")"
   ]
  },
  {
   "cell_type": "code",
   "execution_count": 34,
   "metadata": {
    "ExecuteTime": {
     "end_time": "2024-04-10T22:38:06.845049Z",
     "start_time": "2024-04-10T22:38:06.639622Z"
    }
   },
   "outputs": [
    {
     "data": {
      "text/plain": [
       "Name                0\n",
       "Sex               312\n",
       "Age               315\n",
       "Height          14603\n",
       "Weight          23938\n",
       "Team                0\n",
       "NOC                 0\n",
       "Games               0\n",
       "Year                0\n",
       "Season              0\n",
       "City                0\n",
       "Sport             312\n",
       "Event           18563\n",
       "Medal           76020\n",
       "Population       3088\n",
       "PIB/habitant     6076\n",
       "Country           277\n",
       "dtype: int64"
      ]
     },
     "execution_count": 34,
     "metadata": {},
     "output_type": "execute_result"
    },
    {
     "name": "stdout",
     "output_type": "stream",
     "text": [
      "In [34] used 0.8 MiB RAM in 0.15s (system mean cpu 38%, single max cpu 100%), peaked 0.0 MiB above final usage, current RAM usage now 361.2 MiB\n"
     ]
    }
   ],
   "source": [
    "# Analyse des valeurs nulles \n",
    "df_complete.isna().sum()\n",
    "\n",
    "# 156 sports où on sait pas ce que c'est .... et des country (26 221) qui ne sont pas attribués non plus "
   ]
  },
  {
   "cell_type": "code",
   "execution_count": 35,
   "metadata": {
    "ExecuteTime": {
     "end_time": "2024-04-10T22:38:06.970329Z",
     "start_time": "2024-04-10T22:38:06.842660Z"
    }
   },
   "outputs": [
    {
     "name": "stdout",
     "output_type": "stream",
     "text": [
      "In [35] used -7.5 MiB RAM in 0.12s (system mean cpu 33%, single max cpu 100%), peaked 7.5 MiB above final usage, current RAM usage now 353.6 MiB\n"
     ]
    }
   ],
   "source": [
    "# Attribution des \n",
    "liste_pays=df_region['Country'].tolist()\n",
    "liste_NOC=df_region['NOC'].tolist()\n",
    "\n",
    "dictio_NOC_pays=dict(zip(liste_NOC,liste_pays))\n",
    "\n",
    "dictio_NOC_pays['SGP']='Singapour'\n",
    "dictio_NOC_pays['LBN']='Liban'\n",
    "\n",
    "df_complete['Country']=df_complete['Country'].fillna(df_complete['NOC'].map(dictio_NOC_pays))\n"
   ]
  },
  {
   "cell_type": "code",
   "execution_count": 36,
   "metadata": {
    "ExecuteTime": {
     "end_time": "2024-04-10T22:38:07.105184Z",
     "start_time": "2024-04-10T22:38:06.969525Z"
    }
   },
   "outputs": [
    {
     "name": "stdout",
     "output_type": "stream",
     "text": [
      "In [36] used 2.7 MiB RAM in 0.14s (system mean cpu 48%, single max cpu 100%), peaked 0.0 MiB above final usage, current RAM usage now 356.3 MiB\n"
     ]
    }
   ],
   "source": [
    "# Il y a quatre NOC qui ne correspondent à aucun pays dans notre EOR : réfugiés , ROT réfugiés aussi , LBN c'est le Liban (Lebanon en anglais )\n",
    "df_complete=df_complete.query(\" NOC !='ROT' and NOC !='EOR' \")"
   ]
  },
  {
   "cell_type": "code",
   "execution_count": 37,
   "metadata": {
    "ExecuteTime": {
     "end_time": "2024-04-10T22:38:07.238269Z",
     "start_time": "2024-04-10T22:38:07.104137Z"
    }
   },
   "outputs": [
    {
     "name": "stdout",
     "output_type": "stream",
     "text": [
      "In [37] used -5.1 MiB RAM in 0.13s (system mean cpu 24%, single max cpu 100%), peaked 0.0 MiB above final usage, current RAM usage now 351.2 MiB\n"
     ]
    }
   ],
   "source": [
    "# On ajoute les pays organisateurs pour chaque ligne scrappée précédemment\n",
    "df_complete=pd.merge(df_complete,df_hote,on='Year',how='left')"
   ]
  },
  {
   "cell_type": "code",
   "execution_count": 38,
   "metadata": {
    "ExecuteTime": {
     "end_time": "2024-04-10T22:38:07.992127Z",
     "start_time": "2024-04-10T22:38:07.238442Z"
    }
   },
   "outputs": [
    {
     "data": {
      "text/html": [
       "<div>\n",
       "<style scoped>\n",
       "    .dataframe tbody tr th:only-of-type {\n",
       "        vertical-align: middle;\n",
       "    }\n",
       "\n",
       "    .dataframe tbody tr th {\n",
       "        vertical-align: top;\n",
       "    }\n",
       "\n",
       "    .dataframe thead th {\n",
       "        text-align: right;\n",
       "    }\n",
       "</style>\n",
       "<table border=\"1\" class=\"dataframe\">\n",
       "  <thead>\n",
       "    <tr style=\"text-align: right;\">\n",
       "      <th></th>\n",
       "      <th>Name</th>\n",
       "      <th>Sex</th>\n",
       "      <th>Age</th>\n",
       "      <th>Height</th>\n",
       "      <th>Weight</th>\n",
       "      <th>Team</th>\n",
       "      <th>NOC</th>\n",
       "      <th>Games</th>\n",
       "      <th>Year</th>\n",
       "      <th>Season</th>\n",
       "      <th>City</th>\n",
       "      <th>Sport</th>\n",
       "      <th>Event</th>\n",
       "      <th>Medal</th>\n",
       "      <th>Population</th>\n",
       "      <th>PIB/habitant</th>\n",
       "      <th>Country</th>\n",
       "      <th>Host_country</th>\n",
       "      <th>Participation_own_country</th>\n",
       "    </tr>\n",
       "  </thead>\n",
       "  <tbody>\n",
       "    <tr>\n",
       "      <th>38</th>\n",
       "      <td>Giorgos Abalof</td>\n",
       "      <td>M</td>\n",
       "      <td>22.0</td>\n",
       "      <td>178.0</td>\n",
       "      <td>70.0</td>\n",
       "      <td>Greece</td>\n",
       "      <td>GRE</td>\n",
       "      <td>2004 Summer</td>\n",
       "      <td>2004</td>\n",
       "      <td>Summer</td>\n",
       "      <td>Athina</td>\n",
       "      <td>Fencing</td>\n",
       "      <td>Fencing Men's epee, Individual</td>\n",
       "      <td>NaN</td>\n",
       "      <td>10823732.0</td>\n",
       "      <td>18002.230578</td>\n",
       "      <td>Greece</td>\n",
       "      <td>Greece</td>\n",
       "      <td>1</td>\n",
       "    </tr>\n",
       "    <tr>\n",
       "      <th>40</th>\n",
       "      <td>Georgios Abaris</td>\n",
       "      <td>M</td>\n",
       "      <td>22.0</td>\n",
       "      <td>190.0</td>\n",
       "      <td>77.0</td>\n",
       "      <td>Greece</td>\n",
       "      <td>GRE</td>\n",
       "      <td>2004 Summer</td>\n",
       "      <td>2004</td>\n",
       "      <td>Summer</td>\n",
       "      <td>Athina</td>\n",
       "      <td>Football</td>\n",
       "      <td>Football Men's Football</td>\n",
       "      <td>NaN</td>\n",
       "      <td>10823732.0</td>\n",
       "      <td>18002.230578</td>\n",
       "      <td>Greece</td>\n",
       "      <td>Greece</td>\n",
       "      <td>1</td>\n",
       "    </tr>\n",
       "    <tr>\n",
       "      <th>49</th>\n",
       "      <td>Georgia Abatzidou</td>\n",
       "      <td>F</td>\n",
       "      <td>35.0</td>\n",
       "      <td>155.0</td>\n",
       "      <td>43.0</td>\n",
       "      <td>Greece</td>\n",
       "      <td>GRE</td>\n",
       "      <td>2004 Summer</td>\n",
       "      <td>2004</td>\n",
       "      <td>Summer</td>\n",
       "      <td>Athina</td>\n",
       "      <td>Athletics</td>\n",
       "      <td>Athletics Women's Marathon</td>\n",
       "      <td>NaN</td>\n",
       "      <td>10823732.0</td>\n",
       "      <td>18002.230578</td>\n",
       "      <td>Greece</td>\n",
       "      <td>Greece</td>\n",
       "      <td>1</td>\n",
       "    </tr>\n",
       "    <tr>\n",
       "      <th>156</th>\n",
       "      <td>Ali Abdo</td>\n",
       "      <td>M</td>\n",
       "      <td>19.0</td>\n",
       "      <td>169.0</td>\n",
       "      <td>74.0</td>\n",
       "      <td>Australia</td>\n",
       "      <td>AUS</td>\n",
       "      <td>2000 Summer</td>\n",
       "      <td>2000</td>\n",
       "      <td>Summer</td>\n",
       "      <td>Sydney</td>\n",
       "      <td>Wrestling</td>\n",
       "      <td>Wrestling Men's Welterweight, Greco-Roman</td>\n",
       "      <td>NaN</td>\n",
       "      <td>23781169.0</td>\n",
       "      <td>56310.962993</td>\n",
       "      <td>Australia</td>\n",
       "      <td>Australia</td>\n",
       "      <td>1</td>\n",
       "    </tr>\n",
       "    <tr>\n",
       "      <th>268</th>\n",
       "      <td>Diana Monteiro Abla</td>\n",
       "      <td>F</td>\n",
       "      <td>21.0</td>\n",
       "      <td>175.0</td>\n",
       "      <td>75.0</td>\n",
       "      <td>Brazil</td>\n",
       "      <td>BRA</td>\n",
       "      <td>2016 Summer</td>\n",
       "      <td>2016</td>\n",
       "      <td>Summer</td>\n",
       "      <td>Rio de Janeiro</td>\n",
       "      <td>Water Polo</td>\n",
       "      <td>Water Polo Women's Water Polo</td>\n",
       "      <td>NaN</td>\n",
       "      <td>207847528.0</td>\n",
       "      <td>8538.589975</td>\n",
       "      <td>Brazil</td>\n",
       "      <td>Brazil</td>\n",
       "      <td>1</td>\n",
       "    </tr>\n",
       "    <tr>\n",
       "      <th>...</th>\n",
       "      <td>...</td>\n",
       "      <td>...</td>\n",
       "      <td>...</td>\n",
       "      <td>...</td>\n",
       "      <td>...</td>\n",
       "      <td>...</td>\n",
       "      <td>...</td>\n",
       "      <td>...</td>\n",
       "      <td>...</td>\n",
       "      <td>...</td>\n",
       "      <td>...</td>\n",
       "      <td>...</td>\n",
       "      <td>...</td>\n",
       "      <td>...</td>\n",
       "      <td>...</td>\n",
       "      <td>...</td>\n",
       "      <td>...</td>\n",
       "      <td>...</td>\n",
       "      <td>...</td>\n",
       "    </tr>\n",
       "    <tr>\n",
       "      <th>90220</th>\n",
       "      <td>YOSHINO Tatsuki</td>\n",
       "      <td>M</td>\n",
       "      <td>27.0</td>\n",
       "      <td>NaN</td>\n",
       "      <td>NaN</td>\n",
       "      <td>Japan</td>\n",
       "      <td>JPN</td>\n",
       "      <td>Tokyo 2020</td>\n",
       "      <td>2020</td>\n",
       "      <td>Summer</td>\n",
       "      <td>Tokyo</td>\n",
       "      <td>Handball</td>\n",
       "      <td>NaN</td>\n",
       "      <td>NaN</td>\n",
       "      <td>126958472.0</td>\n",
       "      <td>32477.215145</td>\n",
       "      <td>Japan</td>\n",
       "      <td>Japan</td>\n",
       "      <td>1</td>\n",
       "    </tr>\n",
       "    <tr>\n",
       "      <th>90221</th>\n",
       "      <td>YOSHIOKA Dai</td>\n",
       "      <td>M</td>\n",
       "      <td>36.0</td>\n",
       "      <td>NaN</td>\n",
       "      <td>NaN</td>\n",
       "      <td>Japan</td>\n",
       "      <td>JPN</td>\n",
       "      <td>Tokyo 2020</td>\n",
       "      <td>2020</td>\n",
       "      <td>Summer</td>\n",
       "      <td>Tokyo</td>\n",
       "      <td>Shooting</td>\n",
       "      <td>NaN</td>\n",
       "      <td>NaN</td>\n",
       "      <td>126958472.0</td>\n",
       "      <td>32477.215145</td>\n",
       "      <td>Japan</td>\n",
       "      <td>Japan</td>\n",
       "      <td>1</td>\n",
       "    </tr>\n",
       "    <tr>\n",
       "      <th>90222</th>\n",
       "      <td>YOSHIOKA Miho</td>\n",
       "      <td>F</td>\n",
       "      <td>31.0</td>\n",
       "      <td>177.0</td>\n",
       "      <td>NaN</td>\n",
       "      <td>Japan</td>\n",
       "      <td>JPN</td>\n",
       "      <td>Tokyo 2020</td>\n",
       "      <td>2020</td>\n",
       "      <td>Summer</td>\n",
       "      <td>Tokyo</td>\n",
       "      <td>Sailing</td>\n",
       "      <td>NaN</td>\n",
       "      <td>NaN</td>\n",
       "      <td>126958472.0</td>\n",
       "      <td>32477.215145</td>\n",
       "      <td>Japan</td>\n",
       "      <td>Japan</td>\n",
       "      <td>1</td>\n",
       "    </tr>\n",
       "    <tr>\n",
       "      <th>90223</th>\n",
       "      <td>YOSOZUMI Sakura</td>\n",
       "      <td>F</td>\n",
       "      <td>19.0</td>\n",
       "      <td>NaN</td>\n",
       "      <td>NaN</td>\n",
       "      <td>Japan</td>\n",
       "      <td>JPN</td>\n",
       "      <td>Tokyo 2020</td>\n",
       "      <td>2020</td>\n",
       "      <td>Summer</td>\n",
       "      <td>Tokyo</td>\n",
       "      <td>Skateboarding</td>\n",
       "      <td>Women's Park</td>\n",
       "      <td>Gold</td>\n",
       "      <td>126958472.0</td>\n",
       "      <td>32477.215145</td>\n",
       "      <td>Japan</td>\n",
       "      <td>Japan</td>\n",
       "      <td>1</td>\n",
       "    </tr>\n",
       "    <tr>\n",
       "      <th>90320</th>\n",
       "      <td>ZENDANA Hirotaka</td>\n",
       "      <td>M</td>\n",
       "      <td>28.0</td>\n",
       "      <td>NaN</td>\n",
       "      <td>NaN</td>\n",
       "      <td>Japan</td>\n",
       "      <td>JPN</td>\n",
       "      <td>Tokyo 2020</td>\n",
       "      <td>2020</td>\n",
       "      <td>Summer</td>\n",
       "      <td>Tokyo</td>\n",
       "      <td>Hockey</td>\n",
       "      <td>NaN</td>\n",
       "      <td>NaN</td>\n",
       "      <td>126958472.0</td>\n",
       "      <td>32477.215145</td>\n",
       "      <td>Japan</td>\n",
       "      <td>Japan</td>\n",
       "      <td>1</td>\n",
       "    </tr>\n",
       "  </tbody>\n",
       "</table>\n",
       "<p>4545 rows × 19 columns</p>\n",
       "</div>"
      ],
      "text/plain": [
       "                      Name Sex   Age  Height  Weight       Team  NOC  \\\n",
       "38          Giorgos Abalof   M  22.0   178.0    70.0     Greece  GRE   \n",
       "40         Georgios Abaris   M  22.0   190.0    77.0     Greece  GRE   \n",
       "49       Georgia Abatzidou   F  35.0   155.0    43.0     Greece  GRE   \n",
       "156               Ali Abdo   M  19.0   169.0    74.0  Australia  AUS   \n",
       "268    Diana Monteiro Abla   F  21.0   175.0    75.0     Brazil  BRA   \n",
       "...                    ...  ..   ...     ...     ...        ...  ...   \n",
       "90220      YOSHINO Tatsuki   M  27.0     NaN     NaN      Japan  JPN   \n",
       "90221         YOSHIOKA Dai   M  36.0     NaN     NaN      Japan  JPN   \n",
       "90222        YOSHIOKA Miho   F  31.0   177.0     NaN      Japan  JPN   \n",
       "90223      YOSOZUMI Sakura   F  19.0     NaN     NaN      Japan  JPN   \n",
       "90320     ZENDANA Hirotaka   M  28.0     NaN     NaN      Japan  JPN   \n",
       "\n",
       "             Games  Year  Season            City          Sport  \\\n",
       "38     2004 Summer  2004  Summer          Athina        Fencing   \n",
       "40     2004 Summer  2004  Summer          Athina       Football   \n",
       "49     2004 Summer  2004  Summer          Athina      Athletics   \n",
       "156    2000 Summer  2000  Summer          Sydney      Wrestling   \n",
       "268    2016 Summer  2016  Summer  Rio de Janeiro     Water Polo   \n",
       "...            ...   ...     ...             ...            ...   \n",
       "90220   Tokyo 2020  2020  Summer           Tokyo       Handball   \n",
       "90221   Tokyo 2020  2020  Summer           Tokyo       Shooting   \n",
       "90222   Tokyo 2020  2020  Summer           Tokyo        Sailing   \n",
       "90223   Tokyo 2020  2020  Summer           Tokyo  Skateboarding   \n",
       "90320   Tokyo 2020  2020  Summer           Tokyo         Hockey   \n",
       "\n",
       "                                           Event Medal   Population  \\\n",
       "38                Fencing Men's epee, Individual   NaN   10823732.0   \n",
       "40                       Football Men's Football   NaN   10823732.0   \n",
       "49                    Athletics Women's Marathon   NaN   10823732.0   \n",
       "156    Wrestling Men's Welterweight, Greco-Roman   NaN   23781169.0   \n",
       "268                Water Polo Women's Water Polo   NaN  207847528.0   \n",
       "...                                          ...   ...          ...   \n",
       "90220                                        NaN   NaN  126958472.0   \n",
       "90221                                        NaN   NaN  126958472.0   \n",
       "90222                                        NaN   NaN  126958472.0   \n",
       "90223                               Women's Park  Gold  126958472.0   \n",
       "90320                                        NaN   NaN  126958472.0   \n",
       "\n",
       "       PIB/habitant    Country Host_country  Participation_own_country  \n",
       "38     18002.230578     Greece       Greece                          1  \n",
       "40     18002.230578     Greece       Greece                          1  \n",
       "49     18002.230578     Greece       Greece                          1  \n",
       "156    56310.962993  Australia    Australia                          1  \n",
       "268     8538.589975     Brazil       Brazil                          1  \n",
       "...             ...        ...          ...                        ...  \n",
       "90220  32477.215145      Japan        Japan                          1  \n",
       "90221  32477.215145      Japan        Japan                          1  \n",
       "90222  32477.215145      Japan        Japan                          1  \n",
       "90223  32477.215145      Japan        Japan                          1  \n",
       "90320  32477.215145      Japan        Japan                          1  \n",
       "\n",
       "[4545 rows x 19 columns]"
      ]
     },
     "execution_count": 38,
     "metadata": {},
     "output_type": "execute_result"
    },
    {
     "name": "stdout",
     "output_type": "stream",
     "text": [
      "In [38] used 6.2 MiB RAM in 0.63s (system mean cpu 24%, single max cpu 100%), peaked 7.1 MiB above final usage, current RAM usage now 357.4 MiB\n"
     ]
    }
   ],
   "source": [
    "# On ajoute une colonne booléenne (l'athlète participe aux jeux dans son propre pays)\n",
    "compare_col=lambda x : 1 if x['Country']==x['Host_country'] else 0 \n",
    "\n",
    "df_complete['Participation_own_country']=df_complete.apply(compare_col,axis=1)\n",
    "df_complete[df_complete['Participation_own_country']==1]"
   ]
  },
  {
   "cell_type": "code",
   "execution_count": 39,
   "metadata": {
    "ExecuteTime": {
     "end_time": "2024-04-10T22:38:08.122404Z",
     "start_time": "2024-04-10T22:38:07.968417Z"
    }
   },
   "outputs": [
    {
     "name": "stdout",
     "output_type": "stream",
     "text": [
      "In [39] used -69.4 MiB RAM in 0.15s (system mean cpu 41%, single max cpu 100%), peaked 69.4 MiB above final usage, current RAM usage now 288.0 MiB\n"
     ]
    }
   ],
   "source": [
    "# On récupère les pays communistes scrappés précédemment\n",
    "df_complete['Soviet_past']=df_complete['Country'].apply(complete_urss_regime)"
   ]
  },
  {
   "cell_type": "code",
   "execution_count": 40,
   "metadata": {
    "ExecuteTime": {
     "end_time": "2024-04-10T22:38:08.305142Z",
     "start_time": "2024-04-10T22:38:08.116011Z"
    }
   },
   "outputs": [
    {
     "name": "stdout",
     "output_type": "stream",
     "text": [
      "In [40] used 0.3 MiB RAM in 0.25s (system mean cpu 45%, single max cpu 100%), peaked 0.0 MiB above final usage, current RAM usage now 288.4 MiB\n"
     ]
    }
   ],
   "source": [
    "# On renomme les pays pour pouvoir merge avec les données scrappées \n",
    "# Changement de noms pour les pays\n",
    "\n",
    "df_complete['Country']=df_complete['Country'].replace('Puerto Rico*','Puerto Rico')\n",
    "df_complete['Country']=df_complete['Country'].replace('Hong Kong*','Hong Kong')\n",
    "df_complete['Country']=df_complete['Country'].replace('Korea, South','South Korea')\n",
    "df_complete['Country']=df_complete['Country'].replace('Korea, North','North Korea')\n",
    "df_complete['Country']=df_complete['Country'].replace('Liban','Lebanon')\n",
    "df_complete['Country']=df_complete['Country'].replace('Congo, Dem Rep','DR Congo')\n",
    "df_complete['Country']=df_complete['Country'].replace('Cayman Islands*','Cayman Islands')\n",
    "df_complete['Country']=df_complete['Country'].replace('Bermuda*','Bermuda')\n",
    "df_complete['Country']=df_complete['Country'].replace('Virgin Islands*','Virgin Islands')\n",
    "df_complete['Country']=df_complete['Country'].replace('Aruba*','Aruba')\n",
    "df_complete['Country']=df_complete['Country'].replace('American Samoa*','American Samoa')\n",
    "df_complete['Country']=df_complete['Country'].replace('Netherlands Antilles*','Netherlands Antilles')\n",
    "\n",
    "# URSS \n",
    "df_complete.loc[(df_complete['Team'] == 'Soviet Union') & (df_complete['NOC'] == 'URS'), ['Team', 'NOC']] = ['Russia', 'RUS'] # URSS période 1952-1988\n",
    "\n",
    "# Réfugiés\n",
    "df_complete.loc[(df_complete['Team'] == 'ROC') & (df_complete['NOC'] == 'ROC'), ['Team', 'NOC']] = ['Germany', 'RUS'] # JO 2020\n",
    "\n",
    "# GERMANY\n",
    "df_complete.loc[(df_complete['Team'] == 'East Germany') & (df_complete['NOC'] == 'GDR'), ['Team', 'NOC']] = ['Germany', 'GER']\n",
    "\n",
    "# CHINA\n",
    "df_complete.loc[df_complete['Team'] == \"People's Republic of China\", ['Team', 'NOC']] = ['China', 'CHN']\n",
    "\n",
    "# UNITED STATES\n",
    "df_complete.loc[df_complete['Team'] == \"United States of America\", ['Team', 'NOC']] = ['United States', 'USA']"
   ]
  },
  {
   "cell_type": "code",
   "execution_count": 41,
   "metadata": {
    "ExecuteTime": {
     "end_time": "2024-04-10T22:38:09.528209Z",
     "start_time": "2024-04-10T22:38:08.307961Z"
    }
   },
   "outputs": [
    {
     "name": "stdout",
     "output_type": "stream",
     "text": [
      "In [41] used 3.8 MiB RAM in 1.04s (system mean cpu 38%, single max cpu 100%), peaked 0.1 MiB above final usage, current RAM usage now 292.2 MiB\n"
     ]
    }
   ],
   "source": [
    "# Normalisation des pays. Certains sont écrits avec des suffixes (Ex: Brazil-1, Brazil-2)\n",
    "replacement_dict = {}\n",
    "\n",
    "old_countries_to_process = df_complete.Team.unique()\n",
    "\n",
    "for i in old_countries_to_process:\n",
    "    replacement_dict[i] = re.sub(r'[\\d-]', '', i)\n",
    "\n",
    "\n",
    "final_df = df_complete.replace({\"Team\": replacement_dict})"
   ]
  },
  {
   "cell_type": "code",
   "execution_count": 42,
   "metadata": {
    "ExecuteTime": {
     "end_time": "2024-04-10T22:38:09.644490Z",
     "start_time": "2024-04-10T22:38:09.520662Z"
    }
   },
   "outputs": [
    {
     "data": {
      "text/plain": [
       "Name                            0\n",
       "Sex                            18\n",
       "Age                            18\n",
       "Height                        531\n",
       "Weight                        844\n",
       "Team                            0\n",
       "NOC                             0\n",
       "Games                           0\n",
       "Year                            0\n",
       "Season                          0\n",
       "City                            0\n",
       "Sport                          18\n",
       "Event                         676\n",
       "Medal                        2599\n",
       "Population_x                 3018\n",
       "PIB/habitant_x               3018\n",
       "Country                         0\n",
       "Host_country                    0\n",
       "Participation_own_country       0\n",
       "Soviet_past                     0\n",
       "PIB                            17\n",
       "Population_y                   17\n",
       "PIB/habitant_y                 17\n",
       "dtype: int64"
      ]
     },
     "execution_count": 42,
     "metadata": {},
     "output_type": "execute_result"
    },
    {
     "name": "stdout",
     "output_type": "stream",
     "text": [
      "In [42] used 0.8 MiB RAM in 0.12s (system mean cpu 37%, single max cpu 100%), peaked 0.0 MiB above final usage, current RAM usage now 293.0 MiB\n"
     ]
    }
   ],
   "source": [
    "df_test_na_pop=df_complete[df_complete['Population'].isna()]\n",
    "\n",
    "# On merge les données de df_test_na_pop et df_complete\n",
    "df_test_na_pop=pd.merge(df_test_na_pop,df_pop_gpd,on='Country',how='left')\n",
    "df_test_na_pop.isna().sum()"
   ]
  },
  {
   "cell_type": "code",
   "execution_count": 43,
   "metadata": {
    "ExecuteTime": {
     "end_time": "2024-04-10T22:38:09.788901Z",
     "start_time": "2024-04-10T22:38:09.640793Z"
    }
   },
   "outputs": [
    {
     "name": "stdout",
     "output_type": "stream",
     "text": [
      "In [43] used -28.2 MiB RAM in 0.14s (system mean cpu 20%, single max cpu 67%), peaked 28.2 MiB above final usage, current RAM usage now 264.8 MiB\n"
     ]
    }
   ],
   "source": [
    "# On nettoie les colonnes résiduelles\n",
    "df_test_na_pop=df_test_na_pop.drop(['Population_x'],axis=1)\n",
    "df_test_na_pop=df_test_na_pop.drop(['PIB/habitant_x'],axis=1)\n",
    "\n",
    "# On renomme les colonnes\n",
    "df_test_na_pop=df_test_na_pop.rename(columns={'Population_y':'Population'})\n",
    "df_test_na_pop=df_test_na_pop.rename(columns={'PIB/habitant_y':'PIB/habitant'})\n",
    "\n",
    "# On nettoie les données nulles dans la colonne Population\n",
    "df_test_na_pop=df_test_na_pop.dropna(subset='Population')\n",
    "df_complete=df_complete.dropna(subset='Population')\n",
    "\n",
    "df_complete=pd.concat([df_complete,df_test_na_pop],ignore_index=True)"
   ]
  },
  {
   "cell_type": "markdown",
   "metadata": {},
   "source": [
    "### Opérations sur le PIB"
   ]
  },
  {
   "cell_type": "code",
   "execution_count": 44,
   "metadata": {
    "ExecuteTime": {
     "end_time": "2024-04-10T22:38:09.935637Z",
     "start_time": "2024-04-10T22:38:09.772477Z"
    }
   },
   "outputs": [
    {
     "name": "stdout",
     "output_type": "stream",
     "text": [
      "In [44] used 1.3 MiB RAM in 0.14s (system mean cpu 15%, single max cpu 100%), peaked 0.0 MiB above final usage, current RAM usage now 266.1 MiB\n"
     ]
    }
   ],
   "source": [
    "# Traitement des données nulles\n",
    "df_test_na_pib=df_complete[df_complete['PIB/habitant'].isna()]\n",
    "df_complete=df_complete.dropna(subset='PIB/habitant')\n",
    "\n",
    "# On merge avec les données scrappées\n",
    "df_test_na_pib=pd.merge(df_test_na_pib,df_pop_gpd,on='Country',how='left')\n",
    "\n",
    "# On drop les données résiduelles\n",
    "df_test_na_pib=df_test_na_pib.drop(['Population_x'],axis=1)\n",
    "df_test_na_pib=df_test_na_pib.drop(['PIB/habitant_x'],axis=1)\n",
    "df_test_na_pib=df_test_na_pib.drop(['PIB_x'],axis=1)\n",
    "\n",
    "# On renomme les colonnes merge\n",
    "df_test_na_pib=df_test_na_pib.rename(columns={'Population_y':'Population'})\n",
    "df_test_na_pib=df_test_na_pib.rename(columns={'PIB/habitant_y':'PIB/habitant'})\n",
    "df_test_na_pib=df_test_na_pib.rename(columns={'PIB_y':'PIB'})\n",
    "\n",
    "df_complete=pd.concat([df_complete,df_test_na_pib],ignore_index=True)"
   ]
  },
  {
   "cell_type": "code",
   "execution_count": 45,
   "metadata": {
    "ExecuteTime": {
     "end_time": "2024-04-10T22:38:10.048673Z",
     "start_time": "2024-04-10T22:38:09.931621Z"
    }
   },
   "outputs": [
    {
     "name": "stdout",
     "output_type": "stream",
     "text": [
      "In [45] used 0.1 MiB RAM in 0.12s (system mean cpu 16%, single max cpu 100%), peaked 0.0 MiB above final usage, current RAM usage now 266.2 MiB\n"
     ]
    }
   ],
   "source": [
    "# Attribution du PIB aux pays manquants\n",
    "df_complete['PIB']=df_complete['PIB'].fillna(df_complete['Country'].map(dictio_pop_gpd))"
   ]
  },
  {
   "cell_type": "markdown",
   "metadata": {},
   "source": [
    "### Opérations sur les âges"
   ]
  },
  {
   "cell_type": "code",
   "execution_count": 46,
   "metadata": {
    "ExecuteTime": {
     "end_time": "2024-04-10T22:38:10.184374Z",
     "start_time": "2024-04-10T22:38:10.050912Z"
    }
   },
   "outputs": [
    {
     "name": "stdout",
     "output_type": "stream",
     "text": [
      "In [46] used 0.7 MiB RAM in 0.14s (system mean cpu 16%, single max cpu 100%), peaked 0.0 MiB above final usage, current RAM usage now 266.9 MiB\n"
     ]
    }
   ],
   "source": [
    "# On attribue les âges manquants en faisant la moyenne des âges par sport\n",
    "table_sport_age=df_complete.groupby('Sport')['Age'].mean().apply(math.ceil).reset_index()\n",
    "\n",
    "liste_sport=table_sport_age['Sport'].tolist()\n",
    "liste_age=table_sport_age['Age'].tolist()\n",
    "\n",
    "dictio_age_sport=dict(zip(liste_sport,liste_age))\n",
    "\n",
    "df_complete['Age']=df_complete['Age'].fillna(df_complete['Sport'].map(dictio_age_sport))"
   ]
  },
  {
   "cell_type": "code",
   "execution_count": 47,
   "metadata": {
    "ExecuteTime": {
     "end_time": "2024-04-10T22:38:10.314478Z",
     "start_time": "2024-04-10T22:38:10.181136Z"
    }
   },
   "outputs": [
    {
     "name": "stdout",
     "output_type": "stream",
     "text": [
      "In [47] used 2.6 MiB RAM in 0.14s (system mean cpu 12%, single max cpu 100%), peaked 0.0 MiB above final usage, current RAM usage now 269.5 MiB\n"
     ]
    }
   ],
   "source": [
    "# Il y a 156 personnes qui manquent car nous n'avons pas les sports \n",
    "df_complete=df_complete.dropna(subset='Age')"
   ]
  },
  {
   "cell_type": "markdown",
   "metadata": {},
   "source": [
    "### Opérations sur le sexe, le poids et les tailles"
   ]
  },
  {
   "cell_type": "code",
   "execution_count": 48,
   "metadata": {
    "ExecuteTime": {
     "end_time": "2024-04-10T22:38:10.442981Z",
     "start_time": "2024-04-10T22:38:10.313043Z"
    }
   },
   "outputs": [
    {
     "name": "stdout",
     "output_type": "stream",
     "text": [
      "In [48] used 0.2 MiB RAM in 0.14s (system mean cpu 13%, single max cpu 100%), peaked 0.0 MiB above final usage, current RAM usage now 269.7 MiB\n"
     ]
    }
   ],
   "source": [
    "df_male = df_complete[df_complete['Sex'] == 'M']\n",
    "df_female = df_complete[df_complete['Sex'] == 'F']\n",
    "columns_to_impute = ['Age', 'Height', 'Weight']"
   ]
  },
  {
   "cell_type": "code",
   "execution_count": 49,
   "metadata": {
    "ExecuteTime": {
     "end_time": "2024-04-10T22:38:59.284625Z",
     "start_time": "2024-04-10T22:38:10.438677Z"
    }
   },
   "outputs": [
    {
     "name": "stderr",
     "output_type": "stream",
     "text": [
      "<ipython-input-49-9b37ba378b04>:5: SettingWithCopyWarning: \n",
      "A value is trying to be set on a copy of a slice from a DataFrame.\n",
      "Try using .loc[row_indexer,col_indexer] = value instead\n",
      "\n",
      "See the caveats in the documentation: https://pandas.pydata.org/pandas-docs/stable/user_guide/indexing.html#returning-a-view-versus-a-copy\n",
      "  df_male[columns_to_impute] = imputer.fit_transform(df_male[columns_to_impute])\n",
      "<ipython-input-49-9b37ba378b04>:8: SettingWithCopyWarning: \n",
      "A value is trying to be set on a copy of a slice from a DataFrame.\n",
      "Try using .loc[row_indexer,col_indexer] = value instead\n",
      "\n",
      "See the caveats in the documentation: https://pandas.pydata.org/pandas-docs/stable/user_guide/indexing.html#returning-a-view-versus-a-copy\n",
      "  df_female[columns_to_impute] = imputer.fit_transform(df_female[columns_to_impute])\n"
     ]
    },
    {
     "name": "stdout",
     "output_type": "stream",
     "text": [
      "In [49] used -48.7 MiB RAM in 72.52s (system mean cpu 13%, single max cpu 100%), peaked 2086.5 MiB above final usage, current RAM usage now 221.0 MiB\n"
     ]
    }
   ],
   "source": [
    "# Créer un imputer KNN avec un nombre de voisins à considérer (k)\n",
    "imputer = KNNImputer(n_neighbors=5)\n",
    "\n",
    "# Imputer les valeurs manquantes pour les hommes\n",
    "df_male[columns_to_impute] = imputer.fit_transform(df_male[columns_to_impute])\n",
    "\n",
    "# Imputer les valeurs manquantes pour les femmes\n",
    "df_female[columns_to_impute] = imputer.fit_transform(df_female[columns_to_impute])\n",
    "\n",
    "# Fusionner les DataFrames pour obtenir le DataFrame complet\n",
    "df_complete = pd.concat([df_male, df_female])"
   ]
  },
  {
   "cell_type": "markdown",
   "metadata": {},
   "source": [
    "# Data understanding"
   ]
  },
  {
   "cell_type": "markdown",
   "metadata": {},
   "source": [
    "## EDA (graph, pivot table ,Matrix confusion...)"
   ]
  },
  {
   "cell_type": "code",
   "execution_count": 50,
   "metadata": {
    "ExecuteTime": {
     "end_time": "2024-04-10T22:38:59.394719Z",
     "start_time": "2024-04-10T22:38:59.284241Z"
    }
   },
   "outputs": [
    {
     "name": "stdout",
     "output_type": "stream",
     "text": [
      "In [50] used 3.7 MiB RAM in 0.11s (system mean cpu 23%, single max cpu 54%), peaked 0.0 MiB above final usage, current RAM usage now 224.7 MiB\n"
     ]
    }
   ],
   "source": [
    "# TODO: Guillaume / Noé / Flo"
   ]
  },
  {
   "cell_type": "markdown",
   "metadata": {},
   "source": [
    "Utilisation pandas_profiling"
   ]
  },
  {
   "cell_type": "code",
   "execution_count": 51,
   "metadata": {
    "ExecuteTime": {
     "end_time": "2024-04-10T22:38:59.494924Z",
     "start_time": "2024-04-10T22:38:59.389827Z"
    }
   },
   "outputs": [
    {
     "name": "stdout",
     "output_type": "stream",
     "text": [
      "In [51] used 0.3 MiB RAM in 0.10s (system mean cpu 0%, single max cpu 0%), peaked 0.0 MiB above final usage, current RAM usage now 225.0 MiB\n"
     ]
    }
   ],
   "source": [
    "# profile = ProfileReport(df, title='Pandas Profiling Report')\n",
    "# profile.to_file(\"report-profiling-test.html\")"
   ]
  },
  {
   "cell_type": "markdown",
   "metadata": {},
   "source": [
    "EDA via pivottablejs"
   ]
  },
  {
   "cell_type": "code",
   "execution_count": 52,
   "metadata": {
    "ExecuteTime": {
     "end_time": "2024-04-10T22:38:59.604136Z",
     "start_time": "2024-04-10T22:38:59.493436Z"
    }
   },
   "outputs": [
    {
     "name": "stdout",
     "output_type": "stream",
     "text": [
      "In [52] used 1.5 MiB RAM in 0.11s (system mean cpu 40%, single max cpu 64%), peaked 0.0 MiB above final usage, current RAM usage now 226.5 MiB\n"
     ]
    }
   ],
   "source": [
    "# pivot_ui(df)"
   ]
  },
  {
   "cell_type": "markdown",
   "metadata": {},
   "source": [
    "Prétraitement des données et création de variables catégorielles"
   ]
  },
  {
   "cell_type": "code",
   "execution_count": 53,
   "metadata": {
    "ExecuteTime": {
     "end_time": "2024-04-10T22:38:59.722054Z",
     "start_time": "2024-04-10T22:38:59.604099Z"
    }
   },
   "outputs": [
    {
     "name": "stdout",
     "output_type": "stream",
     "text": [
      "In [53] used 5.2 MiB RAM in 0.15s (system mean cpu 27%, single max cpu 54%), peaked 0.0 MiB above final usage, current RAM usage now 231.7 MiB\n"
     ]
    }
   ],
   "source": [
    "# # TRAITER AGE NULL (moyenne des ages)\n",
    "# df_complete['Age'] = df_complete['Age'].fillna(df_complete['Age'].mean())\n",
    "\n",
    "# # TRAITER HEIGHT NULL (moyenne des heights)\n",
    "# df_complete['Height'] = df_complete['Height'].fillna(df_complete.groupby('Sex')['Height'].transform('mean'))\n",
    "\n",
    "# # TRAITER WEIGHT NULL (moyenne des weights)\n",
    "# df_complete['Weight'] = df_complete['Weight'].fillna(df_complete.groupby('Sex')['Weight'].transform('mean'))\n",
    "\n",
    "# TRAITER SEASON NULL (0 si null, 1 sinon)\n",
    "# df_complete['Season'] = np.where(df_complete['Season'].isnull(), 0, 1)\n",
    "\n",
    "# TRAITER AGE GROUP\n",
    "df_complete['AgeGroup'] = pd.cut(df_complete.Age, bins=range(0, 81, 10), right=True)\n",
    "\n",
    "# TRAITER WEIGHT GROUP\n",
    "df_complete['WeightGroup'] = pd.cut(df_complete.Weight, bins=range(0, 215, 20), right=True)\n",
    "\n",
    "# TRAITER HEIGHT GROUP\n",
    "df_complete['HeightGroup'] = pd.cut(df_complete.Height, bins=range(100, 227, 20), right=True)\n"
   ]
  },
  {
   "cell_type": "code",
   "execution_count": 54,
   "metadata": {
    "ExecuteTime": {
     "end_time": "2024-04-10T22:38:59.831732Z",
     "start_time": "2024-04-10T22:38:59.720864Z"
    }
   },
   "outputs": [
    {
     "name": "stdout",
     "output_type": "stream",
     "text": [
      "In [54] used 0.1 MiB RAM in 0.11s (system mean cpu 33%, single max cpu 75%), peaked 0.0 MiB above final usage, current RAM usage now 231.7 MiB\n"
     ]
    }
   ],
   "source": [
    "attrs = ['Sex', 'AgeGroup', 'HeightGroup', 'WeightGroup'] # attrs permet de sélectionner les colonnes à afficher"
   ]
  },
  {
   "cell_type": "code",
   "execution_count": 55,
   "metadata": {
    "ExecuteTime": {
     "end_time": "2024-04-10T22:39:00.890933Z",
     "start_time": "2024-04-10T22:38:59.832125Z"
    }
   },
   "outputs": [
    {
     "data": {
      "image/png": "[encoded data removed]",
      "text/plain": [
       "<Figure size 1008x720 with 4 Axes>"
      ]
     },
     "metadata": {},
     "output_type": "display_data"
    },
    {
     "name": "stdout",
     "output_type": "stream",
     "text": [
      "In [55] used 63.3 MiB RAM in 1.38s (system mean cpu 32%, single max cpu 100%), peaked 0.0 MiB above final usage, current RAM usage now 295.1 MiB\n"
     ]
    }
   ],
   "source": [
    "# Paramètres de style de Seaborn\n",
    "sns.set(style=\"whitegrid\")\n",
    "\n",
    "# Créer la figure\n",
    "figure = plt.figure(figsize=(14, 10))\n",
    "figure.suptitle('Répartition des médailles dans les Jeux Olympiques', fontsize=16)\n",
    "\n",
    "# Ajuster l'espacement entre les sous-graphiques\n",
    "plt.subplots_adjust(top=0.9, bottom=0.1, hspace=0.5, wspace=0.4)\n",
    "\n",
    "# Boucle sur les attributs pour créer les sous-graphiques\n",
    "for i, col in enumerate(attrs):\n",
    "    plt.subplot(2, 4, i+1)\n",
    "    plt.xticks(rotation=40, ha='right')  # Rotation des étiquettes sur l'axe des x\n",
    "    sns.countplot(x=col, hue='Medal', data=df_complete, palette='pastel')  # Utiliser une palette de couleurs pastel\n",
    "    plt.title('Répartition des médailles par ' + col)  # Titre du sous-graphique\n",
    "\n",
    "# Améliorer la disposition des sous-graphiques\n",
    "plt.tight_layout()\n",
    "plt.show()"
   ]
  },
  {
   "cell_type": "markdown",
   "metadata": {},
   "source": [
    "#### Analyse visuelle"
   ]
  },
  {
   "cell_type": "markdown",
   "metadata": {},
   "source": [
    "Nombre d'événements dans chaque sport au fil des années "
   ]
  },
  {
   "cell_type": "code",
   "execution_count": 56,
   "metadata": {
    "ExecuteTime": {
     "end_time": "2024-04-10T22:39:01.922177Z",
     "start_time": "2024-04-10T22:39:00.773791Z"
    }
   },
   "outputs": [
    {
     "data": {
      "image/png": "[encoded data removed]",
      "text/plain": [
       "<Figure size 1440x1440 with 2 Axes>"
      ]
     },
     "metadata": {},
     "output_type": "display_data"
    },
    {
     "name": "stdout",
     "output_type": "stream",
     "text": [
      "In [56] used -116.8 MiB RAM in 0.78s (system mean cpu 26%, single max cpu 100%), peaked 127.4 MiB above final usage, current RAM usage now 178.2 MiB\n"
     ]
    }
   ],
   "source": [
    "sport_year = df_complete.pivot_table(index='Sport', columns='Year', values='Event', aggfunc=lambda x: len(x.unique()))\n",
    "sport_year.fillna(0, inplace=True)\n",
    "sport_year = sport_year.reindex(sport_year.sum(axis=1).sort_values(ascending=False).index)\n",
    "\n",
    "# Affichage de la heatmap\n",
    "plt.figure(figsize=(20, 20))\n",
    "sns.heatmap(sport_year, annot=True, linewidths=0.05, cmap=\"RdYlGn\")\n",
    "plt.xlabel('Year', size=14, color=\"green\")\n",
    "plt.ylabel('Sport', size=14, color=\"green\")\n",
    "plt.title('Nombre d\\'événements dans chaque sport au fil des années', size=18, color=\"green\")\n",
    "plt.show()"
   ]
  },
  {
   "cell_type": "markdown",
   "metadata": {},
   "source": [
    "Nombre total de médailles remportées par pays et type de médaille"
   ]
  },
  {
   "cell_type": "code",
   "execution_count": 57,
   "metadata": {
    "ExecuteTime": {
     "end_time": "2024-04-10T22:39:02.304897Z",
     "start_time": "2024-04-10T22:39:01.729023Z"
    }
   },
   "outputs": [
    {
     "data": {
      "image/png": "[encoded data removed]",
      "text/plain": [
       "<Figure size 720x432 with 1 Axes>"
      ]
     },
     "metadata": {},
     "output_type": "display_data"
    },
    {
     "name": "stdout",
     "output_type": "stream",
     "text": [
      "In [57] used 3.5 MiB RAM in 0.36s (system mean cpu 44%, single max cpu 100%), peaked 0.0 MiB above final usage, current RAM usage now 181.7 MiB\n"
     ]
    }
   ],
   "source": [
    "# Filter the data to include only gold medal winners\n",
    "gold_medals = df_complete[df_complete['Medal'] == 'Gold']\n",
    "\n",
    "# Group the data by year and count the number of gold medals won each year for each country\n",
    "gold_medals_by_year_and_country = gold_medals.groupby(['Year', 'Team'])['Medal'].count().unstack()\n",
    "\n",
    "# Select the top 10 countries with the most gold medals overall\n",
    "top_10_countries = gold_medals.groupby('Team')['Medal'].count().nlargest(10).index\n",
    "\n",
    "# Plotting the curve for the evolution of gold medals over time for the top 10 countries\n",
    "plt.figure(figsize=(10, 6))  # Taille de la figure\n",
    "\n",
    "for country in top_10_countries:\n",
    "    plt.plot(gold_medals_by_year_and_country.index, gold_medals_by_year_and_country[country], \n",
    "             marker='o', markersize=6, linewidth=2, label=country)  # Courbe pour chaque pays avec la légende\n",
    "\n",
    "plt.title('Evolution des médailles en or gagnées au fil du temps (Top 10 des pays)', fontsize=16)  # Titre\n",
    "plt.xlabel('Year', fontsize=14)  # Étiquette de l'axe x\n",
    "plt.ylabel('Number of Gold Medals', fontsize=14)  # Étiquette de l'axe y\n",
    "plt.xticks(fontsize=12)  # Taille de la police des étiquettes de l'axe x\n",
    "plt.yticks(fontsize=12)  # Taille de la police des étiquettes de l'axe y\n",
    "plt.grid(True)  # Afficher la grille\n",
    "plt.legend(fontsize=10)  # Ajouter la légende\n",
    "plt.tight_layout()  # Ajuster la mise en page\n",
    "plt.show()\n"
   ]
  },
  {
   "cell_type": "markdown",
   "metadata": {},
   "source": [
    "Nombre total de médailles remportées par pays et type de médaille"
   ]
  },
  {
   "cell_type": "code",
   "execution_count": 58,
   "metadata": {
    "ExecuteTime": {
     "end_time": "2024-04-10T22:39:02.698129Z",
     "start_time": "2024-04-10T22:39:02.303577Z"
    }
   },
   "outputs": [
    {
     "data": {
      "image/png": "[encoded data removed]",
      "text/plain": [
       "<Figure size 864x576 with 1 Axes>"
      ]
     },
     "metadata": {},
     "output_type": "display_data"
    },
    {
     "name": "stdout",
     "output_type": "stream",
     "text": [
      "In [58] used 4.4 MiB RAM in 0.31s (system mean cpu 33%, single max cpu 100%), peaked 0.0 MiB above final usage, current RAM usage now 186.1 MiB\n"
     ]
    }
   ],
   "source": [
    "# Group the data by country and count the total number of medals won by each country and each type of medal\n",
    "medals_by_country = df_complete.groupby(['Team', 'Medal']).size().unstack(fill_value=0)\n",
    "\n",
    "# Select the top 10 countries with the most total medals\n",
    "top_10_countries = medals_by_country.sum(axis=1).nlargest(10).index\n",
    "\n",
    "# Select the medal types\n",
    "medal_types = ['Gold', 'Silver', 'Bronze']\n",
    "\n",
    "# Set the position of each bar on the x-axis\n",
    "x = np.arange(len(top_10_countries))\n",
    "\n",
    "# Set the width of the bars\n",
    "width = 0.2\n",
    "\n",
    "# Assign colors to each medal type\n",
    "colors = {'Gold': 'gold', 'Silver': 'silver', 'Bronze': 'peru'}\n",
    "\n",
    "# Plotting the grouped bar graph\n",
    "plt.figure(figsize=(12, 8))  # Taille de la figure\n",
    "\n",
    "for i, medal in enumerate(medal_types):\n",
    "    plt.bar(x - width + i * width, medals_by_country.loc[top_10_countries, medal], \n",
    "            width=width, label=medal, color=colors[medal])\n",
    "\n",
    "plt.title('Nombre total de médailles remportées par pays et type de médaille', fontsize=16)  # Titre\n",
    "plt.xlabel('Country', fontsize=14)  # Étiquette de l'axe x\n",
    "plt.ylabel('Total Number of Medals', fontsize=14)  # Étiquette de l'axe y\n",
    "plt.xticks(ticks=x, labels=top_10_countries, rotation=45, fontsize=12)  # Étiquettes de l'axe x\n",
    "plt.yticks(fontsize=12)  # Taille de la police des étiquettes de l'axe y\n",
    "plt.legend(fontsize=12)  # Ajouter la légende\n",
    "plt.tight_layout()  # Ajuster la mise en page\n",
    "plt.show()\n"
   ]
  },
  {
   "cell_type": "markdown",
   "metadata": {},
   "source": [
    "Ratio de l'évolution des médailles d'or par athlète au fil du temps (Top 10 des pays)\n",
    "(proportionnelement, quel pays obtient le pus de médailles)"
   ]
  },
  {
   "cell_type": "code",
   "execution_count": 59,
   "metadata": {
    "ExecuteTime": {
     "end_time": "2024-04-10T22:39:03.144423Z",
     "start_time": "2024-04-10T22:39:02.685082Z"
    }
   },
   "outputs": [
    {
     "data": {
      "image/png": "[encoded data removed]",
      "text/plain": [
       "<Figure size 720x432 with 1 Axes>"
      ]
     },
     "metadata": {},
     "output_type": "display_data"
    },
    {
     "name": "stdout",
     "output_type": "stream",
     "text": [
      "In [59] used 85.4 MiB RAM in 0.53s (system mean cpu 16%, single max cpu 100%), peaked 0.0 MiB above final usage, current RAM usage now 271.5 MiB\n"
     ]
    }
   ],
   "source": [
    "# Calculate the total number of athletes per country\n",
    "total_athletes_per_country = df_complete.groupby('Team')['Name'].nunique()\n",
    "\n",
    "# Filter the data to include only gold medal winners\n",
    "gold_medals = df_complete[df_complete['Medal'] == 'Gold']\n",
    "\n",
    "# Group the data by year and count the number of gold medals won each year for each country\n",
    "gold_medals_by_year_and_country = gold_medals.groupby(['Year', 'Team'])['Medal'].count().unstack()\n",
    "\n",
    "# Calculate the number of gold medals per athlete for each country and each year\n",
    "gold_medals_per_athlete = gold_medals_by_year_and_country.div(total_athletes_per_country, axis=1)\n",
    "\n",
    "# Select the top 10 countries with the most gold medals overall\n",
    "top_10_countries = gold_medals.groupby('Team')['Medal'].count().nlargest(10).index\n",
    "\n",
    "# Plotting the curve for the evolution of gold medals per athlete over time for the top 10 countries\n",
    "plt.figure(figsize=(10, 6))  # Taille de la figure\n",
    "\n",
    "for country in top_10_countries:\n",
    "    plt.plot(gold_medals_per_athlete.index, gold_medals_per_athlete[country], \n",
    "             marker='o', markersize=6, linewidth=2, label=country)  # Courbe pour chaque pays avec la légende\n",
    "\n",
    "plt.title('Ratio evolution des médailles en or par athlète au fil du temps (Top 10 des pays)', fontsize=16)  # Titre\n",
    "plt.xlabel('Year', fontsize=14)  # Étiquette de l'axe x\n",
    "plt.ylabel('Number of Gold Medals per Athlete', fontsize=14)  # Étiquette de l'axe y\n",
    "plt.xticks(fontsize=12)  # Taille de la police des étiquettes de l'axe x\n",
    "plt.yticks(fontsize=12)  # Taille de la police des étiquettes de l'axe y\n",
    "\n",
    "plt.grid(True)  # Afficher la grille\n",
    "plt.legend(fontsize=10)  # Ajouter la légende\n",
    "plt.tight_layout()  # Ajuster la mise en page\n",
    "plt.show()"
   ]
  },
  {
   "cell_type": "markdown",
   "metadata": {},
   "source": [
    "Plus forte évolution des médailles remportées par équipe"
   ]
  },
  {
   "cell_type": "code",
   "execution_count": 60,
   "metadata": {
    "ExecuteTime": {
     "end_time": "2024-04-10T22:39:03.577246Z",
     "start_time": "2024-04-10T22:39:03.142805Z"
    }
   },
   "outputs": [
    {
     "data": {
      "image/png": "[encoded data removed]",
      "text/plain": [
       "<Figure size 864x432 with 1 Axes>"
      ]
     },
     "metadata": {},
     "output_type": "display_data"
    },
    {
     "name": "stdout",
     "output_type": "stream",
     "text": [
      "In [60] used 0.6 MiB RAM in 0.36s (system mean cpu 21%, single max cpu 100%), peaked 0.0 MiB above final usage, current RAM usage now 272.1 MiB\n"
     ]
    }
   ],
   "source": [
    "# Filter the data to include only Summer Olympic Games between 2010 and 2020\n",
    "summer_games = df_complete[(df_complete['Season'] == 'Summer') & (df_complete['Year'] >= 2008) & (df_complete['Year'] <= 2020)]\n",
    "\n",
    "# Group the data by team and year, and calculate the total number of medals won by each team in each year\n",
    "medals_by_year = summer_games.groupby(['Team', 'Year'])['Medal'].count().unstack()\n",
    "\n",
    "# Calculate the difference in the number of medals won by each team between the first year and the last year\n",
    "medal_difference = medals_by_year.iloc[:, -1] - medals_by_year.iloc[:, 0]\n",
    "\n",
    "# Sort the teams based on the difference in the number of medals won in descending order\n",
    "sorted_teams = medal_difference.sort_values(ascending=False)\n",
    "\n",
    "# Select the top 5 teams with the largest increase in medals won\n",
    "top_5_teams = sorted_teams.index[:10]\n",
    "\n",
    "# Create a line chart showing the number of medals won by the top 5 teams in each year\n",
    "plt.figure(figsize=(12, 6))\n",
    "for team in top_5_teams:\n",
    "    plt.plot(medals_by_year.loc[team], label=team)\n",
    "plt.title('Plus forte évolution des médailles remportées par équipe', fontsize=18, color='#003f5c')\n",
    "plt.xlabel('Year', fontsize=14, fontweight='bold', color='#003f5c')\n",
    "plt.ylabel('Number of Medals', fontsize=14, fontweight='bold', color='#003f5c')\n",
    "plt.xticks(fontsize=12, color='#003f5c')\n",
    "plt.yticks(fontsize=12, color='#003f5c')\n",
    "plt.grid(axis='y', linestyle='--', alpha=0.5, color='#003f5c')\n",
    "plt.legend()\n",
    "plt.tight_layout()\n",
    "plt.show()"
   ]
  },
  {
   "cell_type": "code",
   "execution_count": 61,
   "metadata": {
    "ExecuteTime": {
     "end_time": "2024-04-10T22:39:03.692931Z",
     "start_time": "2024-04-10T22:39:03.569750Z"
    }
   },
   "outputs": [
    {
     "name": "stdout",
     "output_type": "stream",
     "text": [
      "In [61] used 0.0 MiB RAM in 0.12s (system mean cpu 13%, single max cpu 100%), peaked 0.0 MiB above final usage, current RAM usage now 272.2 MiB\n"
     ]
    }
   ],
   "source": [
    "# Retrait des variables devenues ici inutiles\n",
    "df_complete.drop(columns=['AgeGroup', 'WeightGroup', 'HeightGroup'], inplace=True)"
   ]
  },
  {
   "cell_type": "markdown",
   "metadata": {},
   "source": [
    "## Traitement des valeurs aberrantes"
   ]
  },
  {
   "cell_type": "code",
   "execution_count": 62,
   "metadata": {
    "ExecuteTime": {
     "end_time": "2024-04-10T22:39:03.799646Z",
     "start_time": "2024-04-10T22:39:03.693061Z"
    }
   },
   "outputs": [
    {
     "name": "stdout",
     "output_type": "stream",
     "text": [
      "In [62] used 0.0 MiB RAM in 0.11s (system mean cpu 13%, single max cpu 100%), peaked 0.0 MiB above final usage, current RAM usage now 272.2 MiB\n"
     ]
    }
   ],
   "source": [
    "# A faire\n",
    "# TODO : Guillaume"
   ]
  },
  {
   "cell_type": "code",
   "execution_count": 63,
   "metadata": {
    "ExecuteTime": {
     "end_time": "2024-04-10T22:39:04.535330Z",
     "start_time": "2024-04-10T22:39:03.798274Z"
    }
   },
   "outputs": [
    {
     "data": {
      "text/plain": [
       "<Axes: >"
      ]
     },
     "execution_count": 63,
     "metadata": {},
     "output_type": "execute_result"
    },
    {
     "data": {
      "image/png": "[encoded data removed]",
      "text/plain": [
       "<Figure size 432x288 with 1 Axes>"
      ]
     },
     "metadata": {},
     "output_type": "display_data"
    },
    {
     "name": "stdout",
     "output_type": "stream",
     "text": [
      "In [63] used 30.8 MiB RAM in 0.74s (system mean cpu 10%, single max cpu 100%), peaked 0.0 MiB above final usage, current RAM usage now 303.1 MiB\n"
     ]
    }
   ],
   "source": [
    "df_complete.boxplot()"
   ]
  },
  {
   "cell_type": "code",
   "execution_count": 64,
   "metadata": {
    "ExecuteTime": {
     "end_time": "2024-04-10T22:39:04.649234Z",
     "start_time": "2024-04-10T22:39:04.534987Z"
    }
   },
   "outputs": [
    {
     "name": "stdout",
     "output_type": "stream",
     "text": [
      "       Age  Height  Weight\n",
      "0.05  18.0    2.08    51.0\n",
      "0.99  44.0  202.00   117.0\n",
      "In [64] used 0.1 MiB RAM in 0.11s (system mean cpu 13%, single max cpu 100%), peaked 0.0 MiB above final usage, current RAM usage now 303.1 MiB\n"
     ]
    }
   ],
   "source": [
    "# On va modifier les plus hauts outliers identifiés pour Age, Height et Weight par la valeur du 99ème quantile\n",
    "\n",
    "cols = ['Age', 'Height', 'Weight']\n",
    "low = .05\n",
    "high = .99 # Retourne les valeurs au 99ème quantile\n",
    "\n",
    "# Calcul des quantiles\n",
    "quant_df =  df_complete[cols].quantile([low, high])\n",
    "print(quant_df)\n",
    "\n",
    "# Remplacement des outliers par le 99ème quantile\n",
    "for col in cols:\n",
    "    high_val = quant_df[col].loc[high]\n",
    "    df_complete[col] = np.where(df_complete[col] > high_val, high_val, df_complete[col])\n"
   ]
  },
  {
   "cell_type": "code",
   "execution_count": 65,
   "metadata": {
    "ExecuteTime": {
     "end_time": "2024-04-10T22:39:04.774523Z",
     "start_time": "2024-04-10T22:39:04.648275Z"
    }
   },
   "outputs": [
    {
     "name": "stdout",
     "output_type": "stream",
     "text": [
      "In [65] used 0.0 MiB RAM in 0.13s (system mean cpu 14%, single max cpu 100%), peaked 0.0 MiB above final usage, current RAM usage now 303.2 MiB\n"
     ]
    }
   ],
   "source": [
    "higher = quant_df.loc[high,'Age']\n",
    "higher\n",
    "\n",
    "def func(x):\n",
    "    if x >= higher:\n",
    "        return higher\n",
    "    else:\n",
    "        return x\n",
    "\n",
    "df_complete['Age'] = df_complete['Age'].apply(func)"
   ]
  },
  {
   "cell_type": "code",
   "execution_count": 66,
   "metadata": {
    "ExecuteTime": {
     "end_time": "2024-04-10T22:39:04.899451Z",
     "start_time": "2024-04-10T22:39:04.773002Z"
    }
   },
   "outputs": [
    {
     "name": "stdout",
     "output_type": "stream",
     "text": [
      "In [66] used 0.0 MiB RAM in 0.12s (system mean cpu 14%, single max cpu 75%), peaked 0.0 MiB above final usage, current RAM usage now 303.2 MiB\n"
     ]
    }
   ],
   "source": [
    "higher = quant_df.loc[high,'Height']\n",
    "higher\n",
    "\n",
    "def func(x):\n",
    "    if x >= higher:\n",
    "        return higher\n",
    "    else:\n",
    "        return x\n",
    "\n",
    "df_complete['Height'] = df_complete['Height'].apply(func)"
   ]
  },
  {
   "cell_type": "code",
   "execution_count": 67,
   "metadata": {
    "ExecuteTime": {
     "end_time": "2024-04-10T22:39:05.025723Z",
     "start_time": "2024-04-10T22:39:04.915802Z"
    }
   },
   "outputs": [
    {
     "name": "stdout",
     "output_type": "stream",
     "text": [
      "In [67] used 0.7 MiB RAM in 0.13s (system mean cpu 15%, single max cpu 100%), peaked 0.0 MiB above final usage, current RAM usage now 303.9 MiB\n"
     ]
    }
   ],
   "source": [
    "higher = quant_df.loc[high,'Weight']\n",
    "higher\n",
    "\n",
    "def func(x):\n",
    "    if x >= higher:\n",
    "        return higher\n",
    "    else:\n",
    "        return x\n",
    "\n",
    "df_complete['Weight'] = df_complete['Weight'].apply(func)"
   ]
  },
  {
   "cell_type": "code",
   "execution_count": 68,
   "metadata": {
    "ExecuteTime": {
     "end_time": "2024-04-10T22:39:05.231607Z",
     "start_time": "2024-04-10T22:39:05.024173Z"
    }
   },
   "outputs": [
    {
     "data": {
      "text/html": [
       "<div>\n",
       "<style scoped>\n",
       "    .dataframe tbody tr th:only-of-type {\n",
       "        vertical-align: middle;\n",
       "    }\n",
       "\n",
       "    .dataframe tbody tr th {\n",
       "        vertical-align: top;\n",
       "    }\n",
       "\n",
       "    .dataframe thead th {\n",
       "        text-align: right;\n",
       "    }\n",
       "</style>\n",
       "<table border=\"1\" class=\"dataframe\">\n",
       "  <thead>\n",
       "    <tr style=\"text-align: right;\">\n",
       "      <th></th>\n",
       "      <th>Name</th>\n",
       "      <th>Sex</th>\n",
       "      <th>Age</th>\n",
       "      <th>Height</th>\n",
       "      <th>Weight</th>\n",
       "      <th>Team</th>\n",
       "      <th>NOC</th>\n",
       "      <th>Games</th>\n",
       "      <th>Year</th>\n",
       "      <th>Season</th>\n",
       "      <th>...</th>\n",
       "      <th>Sport</th>\n",
       "      <th>Event</th>\n",
       "      <th>Medal</th>\n",
       "      <th>Population</th>\n",
       "      <th>PIB/habitant</th>\n",
       "      <th>Country</th>\n",
       "      <th>Host_country</th>\n",
       "      <th>Participation_own_country</th>\n",
       "      <th>Soviet_past</th>\n",
       "      <th>PIB</th>\n",
       "    </tr>\n",
       "  </thead>\n",
       "  <tbody>\n",
       "    <tr>\n",
       "      <th>71</th>\n",
       "      <td>William \"Bill\" Abbott Jr.</td>\n",
       "      <td>M</td>\n",
       "      <td>44.0</td>\n",
       "      <td>172.0</td>\n",
       "      <td>80.0</td>\n",
       "      <td>Canada</td>\n",
       "      <td>CAN</td>\n",
       "      <td>2000 Summer</td>\n",
       "      <td>2000</td>\n",
       "      <td>Summer</td>\n",
       "      <td>...</td>\n",
       "      <td>Sailing</td>\n",
       "      <td>Sailing Mixed Three Person Keelboat</td>\n",
       "      <td>NaN</td>\n",
       "      <td>35851774.0</td>\n",
       "      <td>43248.529909</td>\n",
       "      <td>Canada</td>\n",
       "      <td>Australia</td>\n",
       "      <td>0</td>\n",
       "      <td>0</td>\n",
       "      <td>2.139840e+12</td>\n",
       "    </tr>\n",
       "    <tr>\n",
       "      <th>846</th>\n",
       "      <td>Teruyoshi Akiyama</td>\n",
       "      <td>M</td>\n",
       "      <td>44.0</td>\n",
       "      <td>168.0</td>\n",
       "      <td>65.0</td>\n",
       "      <td>Japan</td>\n",
       "      <td>JPN</td>\n",
       "      <td>2016 Summer</td>\n",
       "      <td>2016</td>\n",
       "      <td>Summer</td>\n",
       "      <td>...</td>\n",
       "      <td>Shooting</td>\n",
       "      <td>Shooting Men's Rapid-Fire Pistol, 25 metres</td>\n",
       "      <td>NaN</td>\n",
       "      <td>126958472.0</td>\n",
       "      <td>32477.215145</td>\n",
       "      <td>Japan</td>\n",
       "      <td>Brazil</td>\n",
       "      <td>0</td>\n",
       "      <td>0</td>\n",
       "      <td>4.231140e+12</td>\n",
       "    </tr>\n",
       "    <tr>\n",
       "      <th>907</th>\n",
       "      <td>Nasser Salih Nasser Abdullah Al-Attiya</td>\n",
       "      <td>M</td>\n",
       "      <td>44.0</td>\n",
       "      <td>178.0</td>\n",
       "      <td>82.0</td>\n",
       "      <td>Qatar</td>\n",
       "      <td>QAT</td>\n",
       "      <td>2016 Summer</td>\n",
       "      <td>2016</td>\n",
       "      <td>Summer</td>\n",
       "      <td>...</td>\n",
       "      <td>Shooting</td>\n",
       "      <td>Shooting Men's Skeet</td>\n",
       "      <td>NaN</td>\n",
       "      <td>2235355.0</td>\n",
       "      <td>73653.394435</td>\n",
       "      <td>Qatar</td>\n",
       "      <td>Brazil</td>\n",
       "      <td>0</td>\n",
       "      <td>0</td>\n",
       "      <td>2.372960e+11</td>\n",
       "    </tr>\n",
       "    <tr>\n",
       "      <th>931</th>\n",
       "      <td>Dadallah Noor Mohamed Al-Bulushi</td>\n",
       "      <td>M</td>\n",
       "      <td>44.0</td>\n",
       "      <td>172.0</td>\n",
       "      <td>86.0</td>\n",
       "      <td>Oman</td>\n",
       "      <td>OMA</td>\n",
       "      <td>2008 Summer</td>\n",
       "      <td>2008</td>\n",
       "      <td>Summer</td>\n",
       "      <td>...</td>\n",
       "      <td>Shooting</td>\n",
       "      <td>Shooting Men's Small-Bore Rifle, Prone, 50 metres</td>\n",
       "      <td>NaN</td>\n",
       "      <td>4490541.0</td>\n",
       "      <td>15550.676251</td>\n",
       "      <td>Oman</td>\n",
       "      <td>China</td>\n",
       "      <td>0</td>\n",
       "      <td>0</td>\n",
       "      <td>1.146670e+11</td>\n",
       "    </tr>\n",
       "    <tr>\n",
       "      <th>940</th>\n",
       "      <td>Fehaid Al-Deehani</td>\n",
       "      <td>M</td>\n",
       "      <td>44.0</td>\n",
       "      <td>178.0</td>\n",
       "      <td>95.0</td>\n",
       "      <td>Kuwait</td>\n",
       "      <td>KUW</td>\n",
       "      <td>2012 Summer</td>\n",
       "      <td>2012</td>\n",
       "      <td>Summer</td>\n",
       "      <td>...</td>\n",
       "      <td>Shooting</td>\n",
       "      <td>Shooting Men's Trap</td>\n",
       "      <td>Bronze</td>\n",
       "      <td>3892115.0</td>\n",
       "      <td>29300.575575</td>\n",
       "      <td>Kuwait</td>\n",
       "      <td>United Kingdom</td>\n",
       "      <td>0</td>\n",
       "      <td>0</td>\n",
       "      <td>1.845580e+11</td>\n",
       "    </tr>\n",
       "    <tr>\n",
       "      <th>...</th>\n",
       "      <td>...</td>\n",
       "      <td>...</td>\n",
       "      <td>...</td>\n",
       "      <td>...</td>\n",
       "      <td>...</td>\n",
       "      <td>...</td>\n",
       "      <td>...</td>\n",
       "      <td>...</td>\n",
       "      <td>...</td>\n",
       "      <td>...</td>\n",
       "      <td>...</td>\n",
       "      <td>...</td>\n",
       "      <td>...</td>\n",
       "      <td>...</td>\n",
       "      <td>...</td>\n",
       "      <td>...</td>\n",
       "      <td>...</td>\n",
       "      <td>...</td>\n",
       "      <td>...</td>\n",
       "      <td>...</td>\n",
       "      <td>...</td>\n",
       "    </tr>\n",
       "    <tr>\n",
       "      <th>86112</th>\n",
       "      <td>Jasna ekari (Brajkovi-)</td>\n",
       "      <td>F</td>\n",
       "      <td>44.0</td>\n",
       "      <td>175.0</td>\n",
       "      <td>70.0</td>\n",
       "      <td>Serbia</td>\n",
       "      <td>SRB</td>\n",
       "      <td>2012 Summer</td>\n",
       "      <td>2012</td>\n",
       "      <td>Summer</td>\n",
       "      <td>...</td>\n",
       "      <td>Shooting</td>\n",
       "      <td>Shooting Women's Sporting Pistol, 25 metres</td>\n",
       "      <td>NaN</td>\n",
       "      <td>7221365.0</td>\n",
       "      <td>8794.000000</td>\n",
       "      <td>Serbia</td>\n",
       "      <td>United Kingdom</td>\n",
       "      <td>0</td>\n",
       "      <td>0</td>\n",
       "      <td>6.350175e+10</td>\n",
       "    </tr>\n",
       "    <tr>\n",
       "      <th>86702</th>\n",
       "      <td>CHOW Felice Aisha</td>\n",
       "      <td>F</td>\n",
       "      <td>44.0</td>\n",
       "      <td>168.0</td>\n",
       "      <td>57.6</td>\n",
       "      <td>Trinidad and Tobago</td>\n",
       "      <td>TTO</td>\n",
       "      <td>Tokyo 2020</td>\n",
       "      <td>2020</td>\n",
       "      <td>Summer</td>\n",
       "      <td>...</td>\n",
       "      <td>Rowing</td>\n",
       "      <td>NaN</td>\n",
       "      <td>NaN</td>\n",
       "      <td>1531044.0</td>\n",
       "      <td>18222.000000</td>\n",
       "      <td>Trinidad</td>\n",
       "      <td>Japan</td>\n",
       "      <td>0</td>\n",
       "      <td>0</td>\n",
       "      <td>2.789908e+10</td>\n",
       "    </tr>\n",
       "    <tr>\n",
       "      <th>87113</th>\n",
       "      <td>CHOW Felice Aisha</td>\n",
       "      <td>F</td>\n",
       "      <td>44.0</td>\n",
       "      <td>168.0</td>\n",
       "      <td>57.6</td>\n",
       "      <td>Trinidad and Tobago</td>\n",
       "      <td>TTO</td>\n",
       "      <td>Tokyo 2020</td>\n",
       "      <td>2020</td>\n",
       "      <td>Summer</td>\n",
       "      <td>...</td>\n",
       "      <td>Rowing</td>\n",
       "      <td>NaN</td>\n",
       "      <td>NaN</td>\n",
       "      <td>1531044.0</td>\n",
       "      <td>18222.000000</td>\n",
       "      <td>Trinidad</td>\n",
       "      <td>Japan</td>\n",
       "      <td>0</td>\n",
       "      <td>0</td>\n",
       "      <td>2.789908e+10</td>\n",
       "    </tr>\n",
       "    <tr>\n",
       "      <th>89128</th>\n",
       "      <td>Park Yong-Hui</td>\n",
       "      <td>F</td>\n",
       "      <td>44.0</td>\n",
       "      <td>160.0</td>\n",
       "      <td>63.0</td>\n",
       "      <td>North Korea</td>\n",
       "      <td>PRK</td>\n",
       "      <td>2016 Summer</td>\n",
       "      <td>2016</td>\n",
       "      <td>Summer</td>\n",
       "      <td>...</td>\n",
       "      <td>Shooting</td>\n",
       "      <td>Shooting Women's Trap</td>\n",
       "      <td>NaN</td>\n",
       "      <td>26070000.0</td>\n",
       "      <td>33719.000000</td>\n",
       "      <td>North Korea</td>\n",
       "      <td>Brazil</td>\n",
       "      <td>0</td>\n",
       "      <td>0</td>\n",
       "      <td>4.800000e+10</td>\n",
       "    </tr>\n",
       "    <tr>\n",
       "      <th>89129</th>\n",
       "      <td>Christine Patton</td>\n",
       "      <td>F</td>\n",
       "      <td>44.0</td>\n",
       "      <td>163.0</td>\n",
       "      <td>64.0</td>\n",
       "      <td>Bermuda</td>\n",
       "      <td>BER</td>\n",
       "      <td>2004 Summer</td>\n",
       "      <td>2004</td>\n",
       "      <td>Summer</td>\n",
       "      <td>...</td>\n",
       "      <td>Sailing</td>\n",
       "      <td>Sailing Women's Three Person Keelboat</td>\n",
       "      <td>NaN</td>\n",
       "      <td>63532.0</td>\n",
       "      <td>118774.000000</td>\n",
       "      <td>Bermuda</td>\n",
       "      <td>Greece</td>\n",
       "      <td>0</td>\n",
       "      <td>0</td>\n",
       "      <td>7.645000e+09</td>\n",
       "    </tr>\n",
       "  </tbody>\n",
       "</table>\n",
       "<p>939 rows × 21 columns</p>\n",
       "</div>"
      ],
      "text/plain": [
       "                                         Name Sex   Age  Height  Weight  \\\n",
       "71                  William \"Bill\" Abbott Jr.   M  44.0   172.0    80.0   \n",
       "846                         Teruyoshi Akiyama   M  44.0   168.0    65.0   \n",
       "907    Nasser Salih Nasser Abdullah Al-Attiya   M  44.0   178.0    82.0   \n",
       "931          Dadallah Noor Mohamed Al-Bulushi   M  44.0   172.0    86.0   \n",
       "940                         Fehaid Al-Deehani   M  44.0   178.0    95.0   \n",
       "...                                       ...  ..   ...     ...     ...   \n",
       "86112                 Jasna ekari (Brajkovi-)   F  44.0   175.0    70.0   \n",
       "86702                       CHOW Felice Aisha   F  44.0   168.0    57.6   \n",
       "87113                       CHOW Felice Aisha   F  44.0   168.0    57.6   \n",
       "89128                           Park Yong-Hui   F  44.0   160.0    63.0   \n",
       "89129                        Christine Patton   F  44.0   163.0    64.0   \n",
       "\n",
       "                      Team  NOC        Games  Year  Season  ...     Sport  \\\n",
       "71                  Canada  CAN  2000 Summer  2000  Summer  ...   Sailing   \n",
       "846                  Japan  JPN  2016 Summer  2016  Summer  ...  Shooting   \n",
       "907                  Qatar  QAT  2016 Summer  2016  Summer  ...  Shooting   \n",
       "931                   Oman  OMA  2008 Summer  2008  Summer  ...  Shooting   \n",
       "940                 Kuwait  KUW  2012 Summer  2012  Summer  ...  Shooting   \n",
       "...                    ...  ...          ...   ...     ...  ...       ...   \n",
       "86112               Serbia  SRB  2012 Summer  2012  Summer  ...  Shooting   \n",
       "86702  Trinidad and Tobago  TTO   Tokyo 2020  2020  Summer  ...    Rowing   \n",
       "87113  Trinidad and Tobago  TTO   Tokyo 2020  2020  Summer  ...    Rowing   \n",
       "89128          North Korea  PRK  2016 Summer  2016  Summer  ...  Shooting   \n",
       "89129              Bermuda  BER  2004 Summer  2004  Summer  ...   Sailing   \n",
       "\n",
       "                                                   Event   Medal   Population  \\\n",
       "71                   Sailing Mixed Three Person Keelboat     NaN   35851774.0   \n",
       "846          Shooting Men's Rapid-Fire Pistol, 25 metres     NaN  126958472.0   \n",
       "907                                 Shooting Men's Skeet     NaN    2235355.0   \n",
       "931    Shooting Men's Small-Bore Rifle, Prone, 50 metres     NaN    4490541.0   \n",
       "940                                  Shooting Men's Trap  Bronze    3892115.0   \n",
       "...                                                  ...     ...          ...   \n",
       "86112        Shooting Women's Sporting Pistol, 25 metres     NaN    7221365.0   \n",
       "86702                                                NaN     NaN    1531044.0   \n",
       "87113                                                NaN     NaN    1531044.0   \n",
       "89128                              Shooting Women's Trap     NaN   26070000.0   \n",
       "89129              Sailing Women's Three Person Keelboat     NaN      63532.0   \n",
       "\n",
       "        PIB/habitant      Country    Host_country Participation_own_country  \\\n",
       "71      43248.529909       Canada       Australia                         0   \n",
       "846     32477.215145        Japan          Brazil                         0   \n",
       "907     73653.394435        Qatar          Brazil                         0   \n",
       "931     15550.676251         Oman           China                         0   \n",
       "940     29300.575575       Kuwait  United Kingdom                         0   \n",
       "...              ...          ...             ...                       ...   \n",
       "86112    8794.000000       Serbia  United Kingdom                         0   \n",
       "86702   18222.000000     Trinidad           Japan                         0   \n",
       "87113   18222.000000     Trinidad           Japan                         0   \n",
       "89128   33719.000000  North Korea          Brazil                         0   \n",
       "89129  118774.000000      Bermuda          Greece                         0   \n",
       "\n",
       "       Soviet_past           PIB  \n",
       "71               0  2.139840e+12  \n",
       "846              0  4.231140e+12  \n",
       "907              0  2.372960e+11  \n",
       "931              0  1.146670e+11  \n",
       "940              0  1.845580e+11  \n",
       "...            ...           ...  \n",
       "86112            0  6.350175e+10  \n",
       "86702            0  2.789908e+10  \n",
       "87113            0  2.789908e+10  \n",
       "89128            0  4.800000e+10  \n",
       "89129            0  7.645000e+09  \n",
       "\n",
       "[939 rows x 21 columns]"
      ]
     },
     "execution_count": 68,
     "metadata": {},
     "output_type": "execute_result"
    },
    {
     "name": "stdout",
     "output_type": "stream",
     "text": [
      "In [68] used 0.4 MiB RAM in 0.13s (system mean cpu 21%, single max cpu 100%), peaked 0.0 MiB above final usage, current RAM usage now 304.4 MiB\n"
     ]
    }
   ],
   "source": [
    "# On vérifie que pour les valeurs les plus hautes, on a bien modifié la valeur\n",
    "\n",
    "df_complete[df_complete['Age'].ge(quant_df.loc[high,'Age'])]"
   ]
  },
  {
   "cell_type": "markdown",
   "metadata": {},
   "source": [
    "df_complete[df_complete['Height'].ge(quant_df.loc[Height'])]"
   ]
  },
  {
   "cell_type": "code",
   "execution_count": 69,
   "metadata": {
    "ExecuteTime": {
     "end_time": "2024-04-10T22:39:05.321389Z",
     "start_time": "2024-04-10T22:39:05.152847Z"
    }
   },
   "outputs": [
    {
     "data": {
      "text/html": [
       "<div>\n",
       "<style scoped>\n",
       "    .dataframe tbody tr th:only-of-type {\n",
       "        vertical-align: middle;\n",
       "    }\n",
       "\n",
       "    .dataframe tbody tr th {\n",
       "        vertical-align: top;\n",
       "    }\n",
       "\n",
       "    .dataframe thead th {\n",
       "        text-align: right;\n",
       "    }\n",
       "</style>\n",
       "<table border=\"1\" class=\"dataframe\">\n",
       "  <thead>\n",
       "    <tr style=\"text-align: right;\">\n",
       "      <th></th>\n",
       "      <th>Name</th>\n",
       "      <th>Sex</th>\n",
       "      <th>Age</th>\n",
       "      <th>Height</th>\n",
       "      <th>Weight</th>\n",
       "      <th>Team</th>\n",
       "      <th>NOC</th>\n",
       "      <th>Games</th>\n",
       "      <th>Year</th>\n",
       "      <th>Season</th>\n",
       "      <th>...</th>\n",
       "      <th>Sport</th>\n",
       "      <th>Event</th>\n",
       "      <th>Medal</th>\n",
       "      <th>Population</th>\n",
       "      <th>PIB/habitant</th>\n",
       "      <th>Country</th>\n",
       "      <th>Host_country</th>\n",
       "      <th>Participation_own_country</th>\n",
       "      <th>Soviet_past</th>\n",
       "      <th>PIB</th>\n",
       "    </tr>\n",
       "  </thead>\n",
       "  <tbody>\n",
       "    <tr>\n",
       "      <th>3</th>\n",
       "      <td>Timo Antero Aaltonen</td>\n",
       "      <td>M</td>\n",
       "      <td>31.0</td>\n",
       "      <td>189.0</td>\n",
       "      <td>117.0</td>\n",
       "      <td>Finland</td>\n",
       "      <td>FIN</td>\n",
       "      <td>2000 Summer</td>\n",
       "      <td>2000</td>\n",
       "      <td>Summer</td>\n",
       "      <td>...</td>\n",
       "      <td>Athletics</td>\n",
       "      <td>Athletics Men's Shot Put</td>\n",
       "      <td>NaN</td>\n",
       "      <td>5482013.0</td>\n",
       "      <td>42311.036231</td>\n",
       "      <td>Finland</td>\n",
       "      <td>Australia</td>\n",
       "      <td>0</td>\n",
       "      <td>0</td>\n",
       "      <td>2.808260e+11</td>\n",
       "    </tr>\n",
       "    <tr>\n",
       "      <th>105</th>\n",
       "      <td>Yasser Abdel Rahman Sakr</td>\n",
       "      <td>M</td>\n",
       "      <td>30.0</td>\n",
       "      <td>180.0</td>\n",
       "      <td>117.0</td>\n",
       "      <td>Egypt</td>\n",
       "      <td>EGY</td>\n",
       "      <td>2008 Summer</td>\n",
       "      <td>2008</td>\n",
       "      <td>Summer</td>\n",
       "      <td>...</td>\n",
       "      <td>Wrestling</td>\n",
       "      <td>Wrestling Men's Super-Heavyweight, Greco-Roman</td>\n",
       "      <td>NaN</td>\n",
       "      <td>91508084.0</td>\n",
       "      <td>3614.746766</td>\n",
       "      <td>Egypt</td>\n",
       "      <td>China</td>\n",
       "      <td>0</td>\n",
       "      <td>0</td>\n",
       "      <td>4.767480e+11</td>\n",
       "    </tr>\n",
       "    <tr>\n",
       "      <th>181</th>\n",
       "      <td>Muminzhon Abdullayev</td>\n",
       "      <td>M</td>\n",
       "      <td>22.0</td>\n",
       "      <td>190.0</td>\n",
       "      <td>117.0</td>\n",
       "      <td>Uzbekistan</td>\n",
       "      <td>UZB</td>\n",
       "      <td>2012 Summer</td>\n",
       "      <td>2012</td>\n",
       "      <td>Summer</td>\n",
       "      <td>...</td>\n",
       "      <td>Wrestling</td>\n",
       "      <td>Wrestling Men's Super-Heavyweight, Greco-Roman</td>\n",
       "      <td>NaN</td>\n",
       "      <td>31299500.0</td>\n",
       "      <td>2132.070368</td>\n",
       "      <td>Uzbekistan</td>\n",
       "      <td>United Kingdom</td>\n",
       "      <td>0</td>\n",
       "      <td>1</td>\n",
       "      <td>8.039185e+10</td>\n",
       "    </tr>\n",
       "    <tr>\n",
       "      <th>182</th>\n",
       "      <td>Muminzhon Abdullayev</td>\n",
       "      <td>M</td>\n",
       "      <td>26.0</td>\n",
       "      <td>190.0</td>\n",
       "      <td>117.0</td>\n",
       "      <td>Uzbekistan</td>\n",
       "      <td>UZB</td>\n",
       "      <td>2016 Summer</td>\n",
       "      <td>2016</td>\n",
       "      <td>Summer</td>\n",
       "      <td>...</td>\n",
       "      <td>Wrestling</td>\n",
       "      <td>Wrestling Men's Super-Heavyweight, Greco-Roman</td>\n",
       "      <td>NaN</td>\n",
       "      <td>31299500.0</td>\n",
       "      <td>2132.070368</td>\n",
       "      <td>Uzbekistan</td>\n",
       "      <td>Brazil</td>\n",
       "      <td>0</td>\n",
       "      <td>1</td>\n",
       "      <td>8.039185e+10</td>\n",
       "    </tr>\n",
       "    <tr>\n",
       "      <th>202</th>\n",
       "      <td>Mukhamadmurod Abdurakhmonov</td>\n",
       "      <td>M</td>\n",
       "      <td>29.0</td>\n",
       "      <td>192.0</td>\n",
       "      <td>117.0</td>\n",
       "      <td>Tajikistan</td>\n",
       "      <td>TJK</td>\n",
       "      <td>2016 Summer</td>\n",
       "      <td>2016</td>\n",
       "      <td>Summer</td>\n",
       "      <td>...</td>\n",
       "      <td>Judo</td>\n",
       "      <td>Judo Men's Heavyweight</td>\n",
       "      <td>NaN</td>\n",
       "      <td>8481855.0</td>\n",
       "      <td>925.911888</td>\n",
       "      <td>Tajikistan</td>\n",
       "      <td>Brazil</td>\n",
       "      <td>0</td>\n",
       "      <td>1</td>\n",
       "      <td>1.049212e+10</td>\n",
       "    </tr>\n",
       "    <tr>\n",
       "      <th>...</th>\n",
       "      <td>...</td>\n",
       "      <td>...</td>\n",
       "      <td>...</td>\n",
       "      <td>...</td>\n",
       "      <td>...</td>\n",
       "      <td>...</td>\n",
       "      <td>...</td>\n",
       "      <td>...</td>\n",
       "      <td>...</td>\n",
       "      <td>...</td>\n",
       "      <td>...</td>\n",
       "      <td>...</td>\n",
       "      <td>...</td>\n",
       "      <td>...</td>\n",
       "      <td>...</td>\n",
       "      <td>...</td>\n",
       "      <td>...</td>\n",
       "      <td>...</td>\n",
       "      <td>...</td>\n",
       "      <td>...</td>\n",
       "      <td>...</td>\n",
       "    </tr>\n",
       "    <tr>\n",
       "      <th>85464</th>\n",
       "      <td>Lee Hsiao-Hung</td>\n",
       "      <td>F</td>\n",
       "      <td>21.0</td>\n",
       "      <td>183.0</td>\n",
       "      <td>117.0</td>\n",
       "      <td>Chinese Taipei</td>\n",
       "      <td>TPE</td>\n",
       "      <td>2000 Summer</td>\n",
       "      <td>2000</td>\n",
       "      <td>Summer</td>\n",
       "      <td>...</td>\n",
       "      <td>Judo</td>\n",
       "      <td>Judo Women's Heavyweight</td>\n",
       "      <td>NaN</td>\n",
       "      <td>23923276.0</td>\n",
       "      <td>44460.000000</td>\n",
       "      <td>Taiwan</td>\n",
       "      <td>Australia</td>\n",
       "      <td>0</td>\n",
       "      <td>0</td>\n",
       "      <td>7.626700e+11</td>\n",
       "    </tr>\n",
       "    <tr>\n",
       "      <th>85465</th>\n",
       "      <td>Lee Hsiao-Hung</td>\n",
       "      <td>F</td>\n",
       "      <td>25.0</td>\n",
       "      <td>183.0</td>\n",
       "      <td>117.0</td>\n",
       "      <td>Chinese Taipei</td>\n",
       "      <td>TPE</td>\n",
       "      <td>2004 Summer</td>\n",
       "      <td>2004</td>\n",
       "      <td>Summer</td>\n",
       "      <td>...</td>\n",
       "      <td>Judo</td>\n",
       "      <td>Judo Women's Heavyweight</td>\n",
       "      <td>NaN</td>\n",
       "      <td>23923276.0</td>\n",
       "      <td>44460.000000</td>\n",
       "      <td>Taiwan</td>\n",
       "      <td>Greece</td>\n",
       "      <td>0</td>\n",
       "      <td>0</td>\n",
       "      <td>7.626700e+11</td>\n",
       "    </tr>\n",
       "    <tr>\n",
       "      <th>85496</th>\n",
       "      <td>Li Wen-Hua (-Tsai-Yi)</td>\n",
       "      <td>F</td>\n",
       "      <td>22.0</td>\n",
       "      <td>180.0</td>\n",
       "      <td>117.0</td>\n",
       "      <td>Chinese Taipei</td>\n",
       "      <td>TPE</td>\n",
       "      <td>2012 Summer</td>\n",
       "      <td>2012</td>\n",
       "      <td>Summer</td>\n",
       "      <td>...</td>\n",
       "      <td>Athletics</td>\n",
       "      <td>Athletics Women's Discus Throw</td>\n",
       "      <td>NaN</td>\n",
       "      <td>23923276.0</td>\n",
       "      <td>44460.000000</td>\n",
       "      <td>Taiwan</td>\n",
       "      <td>United Kingdom</td>\n",
       "      <td>0</td>\n",
       "      <td>0</td>\n",
       "      <td>7.626700e+11</td>\n",
       "    </tr>\n",
       "    <tr>\n",
       "      <th>87671</th>\n",
       "      <td>Giovanna Jos Blanco Bazon</td>\n",
       "      <td>F</td>\n",
       "      <td>21.0</td>\n",
       "      <td>175.0</td>\n",
       "      <td>117.0</td>\n",
       "      <td>Venezuela</td>\n",
       "      <td>VEN</td>\n",
       "      <td>2004 Summer</td>\n",
       "      <td>2004</td>\n",
       "      <td>Summer</td>\n",
       "      <td>...</td>\n",
       "      <td>Judo</td>\n",
       "      <td>Judo Women's Heavyweight</td>\n",
       "      <td>NaN</td>\n",
       "      <td>29254044.0</td>\n",
       "      <td>2624.000000</td>\n",
       "      <td>Venezuela</td>\n",
       "      <td>Greece</td>\n",
       "      <td>0</td>\n",
       "      <td>0</td>\n",
       "      <td>9.200000e+10</td>\n",
       "    </tr>\n",
       "    <tr>\n",
       "      <th>87672</th>\n",
       "      <td>Giovanna Jos Blanco Bazon</td>\n",
       "      <td>F</td>\n",
       "      <td>29.0</td>\n",
       "      <td>175.0</td>\n",
       "      <td>117.0</td>\n",
       "      <td>Venezuela</td>\n",
       "      <td>VEN</td>\n",
       "      <td>2012 Summer</td>\n",
       "      <td>2012</td>\n",
       "      <td>Summer</td>\n",
       "      <td>...</td>\n",
       "      <td>Judo</td>\n",
       "      <td>Judo Women's Heavyweight</td>\n",
       "      <td>NaN</td>\n",
       "      <td>29254044.0</td>\n",
       "      <td>2624.000000</td>\n",
       "      <td>Venezuela</td>\n",
       "      <td>United Kingdom</td>\n",
       "      <td>0</td>\n",
       "      <td>0</td>\n",
       "      <td>9.200000e+10</td>\n",
       "    </tr>\n",
       "  </tbody>\n",
       "</table>\n",
       "<p>906 rows × 21 columns</p>\n",
       "</div>"
      ],
      "text/plain": [
       "                              Name Sex   Age  Height  Weight            Team  \\\n",
       "3             Timo Antero Aaltonen   M  31.0   189.0   117.0         Finland   \n",
       "105       Yasser Abdel Rahman Sakr   M  30.0   180.0   117.0           Egypt   \n",
       "181           Muminzhon Abdullayev   M  22.0   190.0   117.0      Uzbekistan   \n",
       "182           Muminzhon Abdullayev   M  26.0   190.0   117.0      Uzbekistan   \n",
       "202    Mukhamadmurod Abdurakhmonov   M  29.0   192.0   117.0      Tajikistan   \n",
       "...                            ...  ..   ...     ...     ...             ...   \n",
       "85464               Lee Hsiao-Hung   F  21.0   183.0   117.0  Chinese Taipei   \n",
       "85465               Lee Hsiao-Hung   F  25.0   183.0   117.0  Chinese Taipei   \n",
       "85496        Li Wen-Hua (-Tsai-Yi)   F  22.0   180.0   117.0  Chinese Taipei   \n",
       "87671    Giovanna Jos Blanco Bazon   F  21.0   175.0   117.0       Venezuela   \n",
       "87672    Giovanna Jos Blanco Bazon   F  29.0   175.0   117.0       Venezuela   \n",
       "\n",
       "       NOC        Games  Year  Season  ...      Sport  \\\n",
       "3      FIN  2000 Summer  2000  Summer  ...  Athletics   \n",
       "105    EGY  2008 Summer  2008  Summer  ...  Wrestling   \n",
       "181    UZB  2012 Summer  2012  Summer  ...  Wrestling   \n",
       "182    UZB  2016 Summer  2016  Summer  ...  Wrestling   \n",
       "202    TJK  2016 Summer  2016  Summer  ...       Judo   \n",
       "...    ...          ...   ...     ...  ...        ...   \n",
       "85464  TPE  2000 Summer  2000  Summer  ...       Judo   \n",
       "85465  TPE  2004 Summer  2004  Summer  ...       Judo   \n",
       "85496  TPE  2012 Summer  2012  Summer  ...  Athletics   \n",
       "87671  VEN  2004 Summer  2004  Summer  ...       Judo   \n",
       "87672  VEN  2012 Summer  2012  Summer  ...       Judo   \n",
       "\n",
       "                                                Event Medal  Population  \\\n",
       "3                            Athletics Men's Shot Put   NaN   5482013.0   \n",
       "105    Wrestling Men's Super-Heavyweight, Greco-Roman   NaN  91508084.0   \n",
       "181    Wrestling Men's Super-Heavyweight, Greco-Roman   NaN  31299500.0   \n",
       "182    Wrestling Men's Super-Heavyweight, Greco-Roman   NaN  31299500.0   \n",
       "202                            Judo Men's Heavyweight   NaN   8481855.0   \n",
       "...                                               ...   ...         ...   \n",
       "85464                        Judo Women's Heavyweight   NaN  23923276.0   \n",
       "85465                        Judo Women's Heavyweight   NaN  23923276.0   \n",
       "85496                  Athletics Women's Discus Throw   NaN  23923276.0   \n",
       "87671                        Judo Women's Heavyweight   NaN  29254044.0   \n",
       "87672                        Judo Women's Heavyweight   NaN  29254044.0   \n",
       "\n",
       "       PIB/habitant     Country    Host_country Participation_own_country  \\\n",
       "3      42311.036231     Finland       Australia                         0   \n",
       "105     3614.746766       Egypt           China                         0   \n",
       "181     2132.070368  Uzbekistan  United Kingdom                         0   \n",
       "182     2132.070368  Uzbekistan          Brazil                         0   \n",
       "202      925.911888  Tajikistan          Brazil                         0   \n",
       "...             ...         ...             ...                       ...   \n",
       "85464  44460.000000      Taiwan       Australia                         0   \n",
       "85465  44460.000000      Taiwan          Greece                         0   \n",
       "85496  44460.000000      Taiwan  United Kingdom                         0   \n",
       "87671   2624.000000   Venezuela          Greece                         0   \n",
       "87672   2624.000000   Venezuela  United Kingdom                         0   \n",
       "\n",
       "       Soviet_past           PIB  \n",
       "3                0  2.808260e+11  \n",
       "105              0  4.767480e+11  \n",
       "181              1  8.039185e+10  \n",
       "182              1  8.039185e+10  \n",
       "202              1  1.049212e+10  \n",
       "...            ...           ...  \n",
       "85464            0  7.626700e+11  \n",
       "85465            0  7.626700e+11  \n",
       "85496            0  7.626700e+11  \n",
       "87671            0  9.200000e+10  \n",
       "87672            0  9.200000e+10  \n",
       "\n",
       "[906 rows x 21 columns]"
      ]
     },
     "execution_count": 69,
     "metadata": {},
     "output_type": "execute_result"
    },
    {
     "name": "stdout",
     "output_type": "stream",
     "text": [
      "In [69] used 0.5 MiB RAM in 0.13s (system mean cpu 27%, single max cpu 100%), peaked 0.0 MiB above final usage, current RAM usage now 304.9 MiB\n"
     ]
    }
   ],
   "source": [
    "df_complete[df_complete['Weight'].ge(quant_df.loc[high,'Weight'])]"
   ]
  },
  {
   "cell_type": "markdown",
   "metadata": {},
   "source": [
    "## Création d'un nouveau dataframe aggrégeant toutes les données"
   ]
  },
  {
   "cell_type": "code",
   "execution_count": 70,
   "metadata": {
    "ExecuteTime": {
     "end_time": "2024-04-10T22:39:06.728747Z",
     "start_time": "2024-04-10T22:39:05.276913Z"
    }
   },
   "outputs": [
    {
     "data": {
      "text/html": [
       "<div>\n",
       "<style scoped>\n",
       "    .dataframe tbody tr th:only-of-type {\n",
       "        vertical-align: middle;\n",
       "    }\n",
       "\n",
       "    .dataframe tbody tr th {\n",
       "        vertical-align: top;\n",
       "    }\n",
       "\n",
       "    .dataframe thead th {\n",
       "        text-align: right;\n",
       "    }\n",
       "</style>\n",
       "<table border=\"1\" class=\"dataframe\">\n",
       "  <thead>\n",
       "    <tr style=\"text-align: right;\">\n",
       "      <th></th>\n",
       "      <th>Team</th>\n",
       "      <th>Year</th>\n",
       "      <th>Medal</th>\n",
       "      <th>Participation_own_country</th>\n",
       "      <th>Soviet_past</th>\n",
       "    </tr>\n",
       "  </thead>\n",
       "  <tbody>\n",
       "    <tr>\n",
       "      <th>410</th>\n",
       "      <td>France</td>\n",
       "      <td>2000</td>\n",
       "      <td>38</td>\n",
       "      <td>0</td>\n",
       "      <td>0</td>\n",
       "    </tr>\n",
       "    <tr>\n",
       "      <th>411</th>\n",
       "      <td>France</td>\n",
       "      <td>2004</td>\n",
       "      <td>33</td>\n",
       "      <td>0</td>\n",
       "      <td>0</td>\n",
       "    </tr>\n",
       "    <tr>\n",
       "      <th>412</th>\n",
       "      <td>France</td>\n",
       "      <td>2008</td>\n",
       "      <td>41</td>\n",
       "      <td>0</td>\n",
       "      <td>0</td>\n",
       "    </tr>\n",
       "    <tr>\n",
       "      <th>413</th>\n",
       "      <td>France</td>\n",
       "      <td>2012</td>\n",
       "      <td>35</td>\n",
       "      <td>0</td>\n",
       "      <td>0</td>\n",
       "    </tr>\n",
       "    <tr>\n",
       "      <th>414</th>\n",
       "      <td>France</td>\n",
       "      <td>2016</td>\n",
       "      <td>42</td>\n",
       "      <td>0</td>\n",
       "      <td>0</td>\n",
       "    </tr>\n",
       "    <tr>\n",
       "      <th>415</th>\n",
       "      <td>France</td>\n",
       "      <td>2020</td>\n",
       "      <td>32</td>\n",
       "      <td>0</td>\n",
       "      <td>0</td>\n",
       "    </tr>\n",
       "  </tbody>\n",
       "</table>\n",
       "</div>"
      ],
      "text/plain": [
       "       Team  Year  Medal  Participation_own_country  Soviet_past\n",
       "410  France  2000     38                          0            0\n",
       "411  France  2004     33                          0            0\n",
       "412  France  2008     41                          0            0\n",
       "413  France  2012     35                          0            0\n",
       "414  France  2016     42                          0            0\n",
       "415  France  2020     32                          0            0"
      ]
     },
     "execution_count": 70,
     "metadata": {},
     "output_type": "execute_result"
    },
    {
     "name": "stdout",
     "output_type": "stream",
     "text": [
      "In [70] used 30.0 MiB RAM in 0.93s (system mean cpu 33%, single max cpu 100%), peaked 0.0 MiB above final usage, current RAM usage now 334.9 MiB\n"
     ]
    }
   ],
   "source": [
    "# Normalisation des pays. Certains sont écrits avec des suffixes (Ex: Brazil-1, Brazil-2)\n",
    "replacement_dict = {}\n",
    "\n",
    "old_countries_to_process = df_complete.Team.unique()\n",
    "\n",
    "for i in old_countries_to_process:\n",
    "    replacement_dict[i] = re.sub(r'[\\d-]', '', i)\n",
    "\n",
    "df_complete = df_complete.replace({\"Team\": replacement_dict})\n",
    "df_complete.drop_duplicates(subset=['Event', 'Team', 'Year', 'Medal'], inplace=True)\n",
    "participation_own_country_soviet = df_complete[['Year','Team', 'Participation_own_country', 'Soviet_past']].drop_duplicates()\n",
    "\n",
    "df_complete['Medal'] = df_complete['Medal'].replace(np.nan, 0)\n",
    "df_complete['Medal'] = df_complete['Medal'].apply(lambda x: 0 if x==0 else 1)\n",
    "\n",
    "medals_per_year = df_complete.groupby(['Team', 'Year']).agg({'Medal': 'sum'}).reset_index()\n",
    "concat = medals_per_year.merge(participation_own_country_soviet, how='inner', on=['Team', 'Year'])\n",
    "\n",
    "# Vérif\n",
    "concat[concat['Team'] == \"France\"]"
   ]
  },
  {
   "cell_type": "markdown",
   "metadata": {},
   "source": [
    "## Encodage des données"
   ]
  },
  {
   "cell_type": "markdown",
   "metadata": {},
   "source": [
    "Encodage des médailles"
   ]
  },
  {
   "cell_type": "code",
   "execution_count": 71,
   "metadata": {
    "ExecuteTime": {
     "end_time": "2024-04-10T22:39:06.810773Z",
     "start_time": "2024-04-10T22:39:06.651284Z"
    }
   },
   "outputs": [
    {
     "name": "stdout",
     "output_type": "stream",
     "text": [
      "In [71] used 0.0 MiB RAM in 0.11s (system mean cpu 36%, single max cpu 75%), peaked 0.0 MiB above final usage, current RAM usage now 334.9 MiB\n"
     ]
    }
   ],
   "source": [
    "# df_complete = pd.read_csv('data/testetstest.csv')"
   ]
  },
  {
   "cell_type": "code",
   "execution_count": 72,
   "metadata": {
    "ExecuteTime": {
     "end_time": "2024-04-10T22:39:06.895289Z",
     "start_time": "2024-04-10T22:39:06.758288Z"
    }
   },
   "outputs": [
    {
     "name": "stdout",
     "output_type": "stream",
     "text": [
      "In [72] used 0.8 MiB RAM in 0.14s (system mean cpu 34%, single max cpu 80%), peaked 0.0 MiB above final usage, current RAM usage now 335.7 MiB\n"
     ]
    }
   ],
   "source": [
    "# Encodage du sexe\n",
    "df_complete['Sex'].replace(['F','M'],['0', '1'],inplace=True)\n",
    "\n",
    "# transform the medal into numeric values\n",
    "df_complete['Medal'] = df_complete.Medal.fillna('0')\n",
    "\n",
    "#JO Hivers = 0; été = 1\n",
    "df_complete['Season'].replace(['Winter','Summer'],['0', '1'],inplace=True)\n",
    "df_complete = df_complete.drop(df_complete[df_complete['Season'] == '0'].index)\n",
    "\n",
    "# On retire les valeurs nulles de Soviet_past\n",
    "df_complete['Soviet_past'].fillna(0, inplace=True)"
   ]
  },
  {
   "cell_type": "code",
   "execution_count": 73,
   "metadata": {
    "ExecuteTime": {
     "end_time": "2024-04-10T22:39:07.051595Z",
     "start_time": "2024-04-10T22:39:06.883260Z"
    }
   },
   "outputs": [
    {
     "name": "stdout",
     "output_type": "stream",
     "text": [
      "In [73] used 64.0 MiB RAM in 0.18s (system mean cpu 29%, single max cpu 100%), peaked 0.0 MiB above final usage, current RAM usage now 399.7 MiB\n"
     ]
    }
   ],
   "source": [
    "# Encodage du sport\n",
    "encoder = preprocessing.OneHotEncoder(sparse_output=False)\n",
    "encoder.fit(df_complete[['Sport']])\n",
    "columns_name = encoder.get_feature_names_out(['Sport'])\n",
    "df_encoded = pd.DataFrame(encoder.transform(df_complete[['Sport']]))\n",
    "df_encoded.columns = columns_name\n",
    "\n",
    "# Reset index of df_encoded\n",
    "df_encoded.reset_index(drop=True, inplace=True)\n",
    "\n",
    "# # Concatenate df_complete and df_encoded\n",
    "df_complete = pd.concat([df_complete, df_encoded], axis=1)\n",
    "\n",
    "df_complete = df_complete.drop('Season', axis=1)"
   ]
  },
  {
   "cell_type": "markdown",
   "metadata": {},
   "source": [
    "## Problème run matrice de corrélation "
   ]
  },
  {
   "cell_type": "code",
   "execution_count": 74,
   "metadata": {
    "ExecuteTime": {
     "end_time": "2024-04-10T22:39:08.112076Z",
     "start_time": "2024-04-10T22:39:07.052940Z"
    }
   },
   "outputs": [
    {
     "name": "stdout",
     "output_type": "stream",
     "text": [
      "In [74] used 0.0 MiB RAM in 0.11s (system mean cpu 25%, single max cpu 100%), peaked 0.0 MiB above final usage, current RAM usage now 399.7 MiB\n"
     ]
    }
   ],
   "source": [
    "# Corrélogramme\n",
    "#correlation_matrix = df_complete.corr()\n",
    "#plt.figure(figsize=(10, 8))\n",
    "\n",
    "# Plot the heatmap\n",
    "#sns.heatmap(correlation_matrix, fmt=\".2f\", cmap='coolwarm', linewidths=0.5)"
   ]
  },
  {
   "cell_type": "markdown",
   "metadata": {},
   "source": [
    "On n'observe pas de forte corrélation entre les différents attributs (NOE à compléter)"
   ]
  },
  {
   "cell_type": "code",
   "execution_count": 75,
   "metadata": {
    "ExecuteTime": {
     "end_time": "2024-04-10T22:39:08.218191Z",
     "start_time": "2024-04-10T22:39:08.104468Z"
    }
   },
   "outputs": [
    {
     "name": "stdout",
     "output_type": "stream",
     "text": [
      "In [75] used 0.1 MiB RAM in 0.13s (system mean cpu 22%, single max cpu 100%), peaked 0.0 MiB above final usage, current RAM usage now 399.8 MiB\n"
     ]
    }
   ],
   "source": [
    "# Encodage de l'âge\n",
    "df_complete['Age'] = pd.cut(df_complete.Age, range(0, 80, 5), right=False)\n",
    "\n",
    "# Encodage du poids\n",
    "df_complete['Weight'] = pd.cut(df_complete.Weight, range(0, 230, 10), right=False)\n",
    "\n",
    "# Encodage de la taille\n",
    "df_complete['Height'] = pd.cut(df_complete.Height, range(0, 250, 10), right=False)"
   ]
  },
  {
   "cell_type": "code",
   "execution_count": 76,
   "metadata": {
    "ExecuteTime": {
     "end_time": "2024-04-10T22:39:08.436714Z",
     "start_time": "2024-04-10T22:39:08.219679Z"
    }
   },
   "outputs": [
    {
     "data": {
      "text/html": [
       "<div>\n",
       "<style scoped>\n",
       "    .dataframe tbody tr th:only-of-type {\n",
       "        vertical-align: middle;\n",
       "    }\n",
       "\n",
       "    .dataframe tbody tr th {\n",
       "        vertical-align: top;\n",
       "    }\n",
       "\n",
       "    .dataframe thead th {\n",
       "        text-align: right;\n",
       "    }\n",
       "</style>\n",
       "<table border=\"1\" class=\"dataframe\">\n",
       "  <thead>\n",
       "    <tr style=\"text-align: right;\">\n",
       "      <th></th>\n",
       "      <th>Name</th>\n",
       "      <th>Sex</th>\n",
       "      <th>Age</th>\n",
       "      <th>Height</th>\n",
       "      <th>Weight</th>\n",
       "      <th>Team</th>\n",
       "      <th>NOC</th>\n",
       "      <th>Games</th>\n",
       "      <th>Year</th>\n",
       "      <th>City</th>\n",
       "      <th>...</th>\n",
       "      <th>Sport_Taekwondo</th>\n",
       "      <th>Sport_Tennis</th>\n",
       "      <th>Sport_Trampoline Gymnastics</th>\n",
       "      <th>Sport_Trampolining</th>\n",
       "      <th>Sport_Triathlon</th>\n",
       "      <th>Sport_Volleyball</th>\n",
       "      <th>Sport_Water Polo</th>\n",
       "      <th>Sport_Weightlifting</th>\n",
       "      <th>Sport_Wrestling</th>\n",
       "      <th>PIB_groups</th>\n",
       "    </tr>\n",
       "  </thead>\n",
       "  <tbody>\n",
       "    <tr>\n",
       "      <th>0</th>\n",
       "      <td>A Lamusi</td>\n",
       "      <td>1</td>\n",
       "      <td>[20.0, 25.0)</td>\n",
       "      <td>[170.0, 180.0)</td>\n",
       "      <td>[60.0, 70.0)</td>\n",
       "      <td>China</td>\n",
       "      <td>CHN</td>\n",
       "      <td>2012 Summer</td>\n",
       "      <td>2012.0</td>\n",
       "      <td>London</td>\n",
       "      <td>...</td>\n",
       "      <td>0.0</td>\n",
       "      <td>0.0</td>\n",
       "      <td>0.0</td>\n",
       "      <td>0.0</td>\n",
       "      <td>0.0</td>\n",
       "      <td>0.0</td>\n",
       "      <td>0.0</td>\n",
       "      <td>0.0</td>\n",
       "      <td>0.0</td>\n",
       "      <td>5</td>\n",
       "    </tr>\n",
       "    <tr>\n",
       "      <th>1</th>\n",
       "      <td>Jyri Tapani Aalto</td>\n",
       "      <td>1</td>\n",
       "      <td>[30.0, 35.0)</td>\n",
       "      <td>[170.0, 180.0)</td>\n",
       "      <td>[70.0, 80.0)</td>\n",
       "      <td>Finland</td>\n",
       "      <td>FIN</td>\n",
       "      <td>2000 Summer</td>\n",
       "      <td>2000.0</td>\n",
       "      <td>Sydney</td>\n",
       "      <td>...</td>\n",
       "      <td>0.0</td>\n",
       "      <td>0.0</td>\n",
       "      <td>0.0</td>\n",
       "      <td>0.0</td>\n",
       "      <td>0.0</td>\n",
       "      <td>0.0</td>\n",
       "      <td>0.0</td>\n",
       "      <td>0.0</td>\n",
       "      <td>0.0</td>\n",
       "      <td>2</td>\n",
       "    </tr>\n",
       "    <tr>\n",
       "      <th>3</th>\n",
       "      <td>Timo Antero Aaltonen</td>\n",
       "      <td>1</td>\n",
       "      <td>[30.0, 35.0)</td>\n",
       "      <td>[180.0, 190.0)</td>\n",
       "      <td>[110.0, 120.0)</td>\n",
       "      <td>Finland</td>\n",
       "      <td>FIN</td>\n",
       "      <td>2000 Summer</td>\n",
       "      <td>2000.0</td>\n",
       "      <td>Sydney</td>\n",
       "      <td>...</td>\n",
       "      <td>0.0</td>\n",
       "      <td>0.0</td>\n",
       "      <td>0.0</td>\n",
       "      <td>0.0</td>\n",
       "      <td>0.0</td>\n",
       "      <td>0.0</td>\n",
       "      <td>0.0</td>\n",
       "      <td>0.0</td>\n",
       "      <td>1.0</td>\n",
       "      <td>2</td>\n",
       "    </tr>\n",
       "    <tr>\n",
       "      <th>5</th>\n",
       "      <td>Fritz Aanes</td>\n",
       "      <td>1</td>\n",
       "      <td>[20.0, 25.0)</td>\n",
       "      <td>[180.0, 190.0)</td>\n",
       "      <td>[80.0, 90.0)</td>\n",
       "      <td>Norway</td>\n",
       "      <td>NOR</td>\n",
       "      <td>2000 Summer</td>\n",
       "      <td>2000.0</td>\n",
       "      <td>Sydney</td>\n",
       "      <td>...</td>\n",
       "      <td>0.0</td>\n",
       "      <td>0.0</td>\n",
       "      <td>0.0</td>\n",
       "      <td>0.0</td>\n",
       "      <td>0.0</td>\n",
       "      <td>0.0</td>\n",
       "      <td>0.0</td>\n",
       "      <td>0.0</td>\n",
       "      <td>0.0</td>\n",
       "      <td>3</td>\n",
       "    </tr>\n",
       "    <tr>\n",
       "      <th>6</th>\n",
       "      <td>Fritz Aanes</td>\n",
       "      <td>1</td>\n",
       "      <td>[25.0, 30.0)</td>\n",
       "      <td>[180.0, 190.0)</td>\n",
       "      <td>[80.0, 90.0)</td>\n",
       "      <td>Norway</td>\n",
       "      <td>NOR</td>\n",
       "      <td>2004 Summer</td>\n",
       "      <td>2004.0</td>\n",
       "      <td>Athina</td>\n",
       "      <td>...</td>\n",
       "      <td>0.0</td>\n",
       "      <td>0.0</td>\n",
       "      <td>0.0</td>\n",
       "      <td>0.0</td>\n",
       "      <td>0.0</td>\n",
       "      <td>0.0</td>\n",
       "      <td>0.0</td>\n",
       "      <td>0.0</td>\n",
       "      <td>0.0</td>\n",
       "      <td>3</td>\n",
       "    </tr>\n",
       "    <tr>\n",
       "      <th>...</th>\n",
       "      <td>...</td>\n",
       "      <td>...</td>\n",
       "      <td>...</td>\n",
       "      <td>...</td>\n",
       "      <td>...</td>\n",
       "      <td>...</td>\n",
       "      <td>...</td>\n",
       "      <td>...</td>\n",
       "      <td>...</td>\n",
       "      <td>...</td>\n",
       "      <td>...</td>\n",
       "      <td>...</td>\n",
       "      <td>...</td>\n",
       "      <td>...</td>\n",
       "      <td>...</td>\n",
       "      <td>...</td>\n",
       "      <td>...</td>\n",
       "      <td>...</td>\n",
       "      <td>...</td>\n",
       "      <td>...</td>\n",
       "      <td>...</td>\n",
       "    </tr>\n",
       "    <tr>\n",
       "      <th>37969</th>\n",
       "      <td>NaN</td>\n",
       "      <td>NaN</td>\n",
       "      <td>NaN</td>\n",
       "      <td>NaN</td>\n",
       "      <td>NaN</td>\n",
       "      <td>NaN</td>\n",
       "      <td>NaN</td>\n",
       "      <td>NaN</td>\n",
       "      <td>NaN</td>\n",
       "      <td>NaN</td>\n",
       "      <td>...</td>\n",
       "      <td>0.0</td>\n",
       "      <td>0.0</td>\n",
       "      <td>0.0</td>\n",
       "      <td>0.0</td>\n",
       "      <td>0.0</td>\n",
       "      <td>0.0</td>\n",
       "      <td>0.0</td>\n",
       "      <td>0.0</td>\n",
       "      <td>0.0</td>\n",
       "      <td>NaN</td>\n",
       "    </tr>\n",
       "    <tr>\n",
       "      <th>37970</th>\n",
       "      <td>NaN</td>\n",
       "      <td>NaN</td>\n",
       "      <td>NaN</td>\n",
       "      <td>NaN</td>\n",
       "      <td>NaN</td>\n",
       "      <td>NaN</td>\n",
       "      <td>NaN</td>\n",
       "      <td>NaN</td>\n",
       "      <td>NaN</td>\n",
       "      <td>NaN</td>\n",
       "      <td>...</td>\n",
       "      <td>0.0</td>\n",
       "      <td>0.0</td>\n",
       "      <td>0.0</td>\n",
       "      <td>0.0</td>\n",
       "      <td>0.0</td>\n",
       "      <td>0.0</td>\n",
       "      <td>0.0</td>\n",
       "      <td>0.0</td>\n",
       "      <td>0.0</td>\n",
       "      <td>NaN</td>\n",
       "    </tr>\n",
       "    <tr>\n",
       "      <th>37971</th>\n",
       "      <td>NaN</td>\n",
       "      <td>NaN</td>\n",
       "      <td>NaN</td>\n",
       "      <td>NaN</td>\n",
       "      <td>NaN</td>\n",
       "      <td>NaN</td>\n",
       "      <td>NaN</td>\n",
       "      <td>NaN</td>\n",
       "      <td>NaN</td>\n",
       "      <td>NaN</td>\n",
       "      <td>...</td>\n",
       "      <td>0.0</td>\n",
       "      <td>0.0</td>\n",
       "      <td>0.0</td>\n",
       "      <td>0.0</td>\n",
       "      <td>1.0</td>\n",
       "      <td>0.0</td>\n",
       "      <td>0.0</td>\n",
       "      <td>0.0</td>\n",
       "      <td>0.0</td>\n",
       "      <td>NaN</td>\n",
       "    </tr>\n",
       "    <tr>\n",
       "      <th>37972</th>\n",
       "      <td>NaN</td>\n",
       "      <td>NaN</td>\n",
       "      <td>NaN</td>\n",
       "      <td>NaN</td>\n",
       "      <td>NaN</td>\n",
       "      <td>NaN</td>\n",
       "      <td>NaN</td>\n",
       "      <td>NaN</td>\n",
       "      <td>NaN</td>\n",
       "      <td>NaN</td>\n",
       "      <td>...</td>\n",
       "      <td>0.0</td>\n",
       "      <td>0.0</td>\n",
       "      <td>0.0</td>\n",
       "      <td>0.0</td>\n",
       "      <td>0.0</td>\n",
       "      <td>0.0</td>\n",
       "      <td>0.0</td>\n",
       "      <td>0.0</td>\n",
       "      <td>0.0</td>\n",
       "      <td>NaN</td>\n",
       "    </tr>\n",
       "    <tr>\n",
       "      <th>37975</th>\n",
       "      <td>NaN</td>\n",
       "      <td>NaN</td>\n",
       "      <td>NaN</td>\n",
       "      <td>NaN</td>\n",
       "      <td>NaN</td>\n",
       "      <td>NaN</td>\n",
       "      <td>NaN</td>\n",
       "      <td>NaN</td>\n",
       "      <td>NaN</td>\n",
       "      <td>NaN</td>\n",
       "      <td>...</td>\n",
       "      <td>0.0</td>\n",
       "      <td>0.0</td>\n",
       "      <td>0.0</td>\n",
       "      <td>0.0</td>\n",
       "      <td>0.0</td>\n",
       "      <td>0.0</td>\n",
       "      <td>0.0</td>\n",
       "      <td>0.0</td>\n",
       "      <td>0.0</td>\n",
       "      <td>NaN</td>\n",
       "    </tr>\n",
       "  </tbody>\n",
       "</table>\n",
       "<p>52228 rows × 74 columns</p>\n",
       "</div>"
      ],
      "text/plain": [
       "                       Name  Sex           Age          Height  \\\n",
       "0                  A Lamusi    1  [20.0, 25.0)  [170.0, 180.0)   \n",
       "1         Jyri Tapani Aalto    1  [30.0, 35.0)  [170.0, 180.0)   \n",
       "3      Timo Antero Aaltonen    1  [30.0, 35.0)  [180.0, 190.0)   \n",
       "5               Fritz Aanes    1  [20.0, 25.0)  [180.0, 190.0)   \n",
       "6               Fritz Aanes    1  [25.0, 30.0)  [180.0, 190.0)   \n",
       "...                     ...  ...           ...             ...   \n",
       "37969                   NaN  NaN           NaN             NaN   \n",
       "37970                   NaN  NaN           NaN             NaN   \n",
       "37971                   NaN  NaN           NaN             NaN   \n",
       "37972                   NaN  NaN           NaN             NaN   \n",
       "37975                   NaN  NaN           NaN             NaN   \n",
       "\n",
       "               Weight     Team  NOC        Games    Year    City  ...  \\\n",
       "0        [60.0, 70.0)    China  CHN  2012 Summer  2012.0  London  ...   \n",
       "1        [70.0, 80.0)  Finland  FIN  2000 Summer  2000.0  Sydney  ...   \n",
       "3      [110.0, 120.0)  Finland  FIN  2000 Summer  2000.0  Sydney  ...   \n",
       "5        [80.0, 90.0)   Norway  NOR  2000 Summer  2000.0  Sydney  ...   \n",
       "6        [80.0, 90.0)   Norway  NOR  2004 Summer  2004.0  Athina  ...   \n",
       "...               ...      ...  ...          ...     ...     ...  ...   \n",
       "37969             NaN      NaN  NaN          NaN     NaN     NaN  ...   \n",
       "37970             NaN      NaN  NaN          NaN     NaN     NaN  ...   \n",
       "37971             NaN      NaN  NaN          NaN     NaN     NaN  ...   \n",
       "37972             NaN      NaN  NaN          NaN     NaN     NaN  ...   \n",
       "37975             NaN      NaN  NaN          NaN     NaN     NaN  ...   \n",
       "\n",
       "      Sport_Taekwondo Sport_Tennis  Sport_Trampoline Gymnastics  \\\n",
       "0                 0.0          0.0                          0.0   \n",
       "1                 0.0          0.0                          0.0   \n",
       "3                 0.0          0.0                          0.0   \n",
       "5                 0.0          0.0                          0.0   \n",
       "6                 0.0          0.0                          0.0   \n",
       "...               ...          ...                          ...   \n",
       "37969             0.0          0.0                          0.0   \n",
       "37970             0.0          0.0                          0.0   \n",
       "37971             0.0          0.0                          0.0   \n",
       "37972             0.0          0.0                          0.0   \n",
       "37975             0.0          0.0                          0.0   \n",
       "\n",
       "       Sport_Trampolining  Sport_Triathlon Sport_Volleyball Sport_Water Polo  \\\n",
       "0                     0.0              0.0              0.0              0.0   \n",
       "1                     0.0              0.0              0.0              0.0   \n",
       "3                     0.0              0.0              0.0              0.0   \n",
       "5                     0.0              0.0              0.0              0.0   \n",
       "6                     0.0              0.0              0.0              0.0   \n",
       "...                   ...              ...              ...              ...   \n",
       "37969                 0.0              0.0              0.0              0.0   \n",
       "37970                 0.0              0.0              0.0              0.0   \n",
       "37971                 0.0              1.0              0.0              0.0   \n",
       "37972                 0.0              0.0              0.0              0.0   \n",
       "37975                 0.0              0.0              0.0              0.0   \n",
       "\n",
       "       Sport_Weightlifting  Sport_Wrestling  PIB_groups  \n",
       "0                      0.0              0.0           5  \n",
       "1                      0.0              0.0           2  \n",
       "3                      0.0              1.0           2  \n",
       "5                      0.0              0.0           3  \n",
       "6                      0.0              0.0           3  \n",
       "...                    ...              ...         ...  \n",
       "37969                  0.0              0.0         NaN  \n",
       "37970                  0.0              0.0         NaN  \n",
       "37971                  0.0              0.0         NaN  \n",
       "37972                  0.0              0.0         NaN  \n",
       "37975                  0.0              0.0         NaN  \n",
       "\n",
       "[52228 rows x 74 columns]"
      ]
     },
     "execution_count": 76,
     "metadata": {},
     "output_type": "execute_result"
    },
    {
     "name": "stdout",
     "output_type": "stream",
     "text": [
      "In [76] used 2.8 MiB RAM in 0.18s (system mean cpu 25%, single max cpu 100%), peaked 0.0 MiB above final usage, current RAM usage now 402.6 MiB\n"
     ]
    }
   ],
   "source": [
    "# PIB Groups\n",
    "# Calculer les quantiles\n",
    "quantiles = [0.20, 0.40, 0.60, 0.80]\n",
    "\n",
    "# Créer les intervalles pour les groupes en utilisant les quantiles\n",
    "bins = df_complete['PIB'].quantile(quantiles)\n",
    "\n",
    "# Ajouter les bornes extrêmes\n",
    "bins = [float('-inf')] + list(bins) + [float('inf')]\n",
    "\n",
    "# Assigner les groupes en utilisant pd.cut() avec les intervalles définis\n",
    "df_complete['PIB_groups'] = pd.cut(df_complete['PIB'], bins=bins, labels=[1, 2, 3, 4, 5], right=False)\n",
    "\n",
    "# Retrait des variables inutiles\n",
    "df_complete.drop(columns=['PIB'], inplace=True)\n",
    "df_complete"
   ]
  },
  {
   "cell_type": "code",
   "execution_count": 77,
   "metadata": {
    "ExecuteTime": {
     "end_time": "2024-04-10T22:39:19.025362Z",
     "start_time": "2024-04-10T22:39:08.369503Z"
    }
   },
   "outputs": [
    {
     "data": {
      "text/plain": [
       "{('Name', 'Sex'): 0.0,\n",
       " ('Name', 'Age'): 0.0,\n",
       " ('Name', 'Height'): 0.0,\n",
       " ('Name', 'Weight'): 0.0,\n",
       " ('Name', 'Team'): 0.0,\n",
       " ('Name', 'NOC'): 0.0,\n",
       " ('Name', 'Games'): 0.0,\n",
       " ('Name', 'City'): 0.0,\n",
       " ('Name', 'Sport'): 0.0,\n",
       " ('Name', 'Event'): 0.0,\n",
       " ('Name', 'Country'): 0.0,\n",
       " ('Name', 'Host_country'): 0.0,\n",
       " ('Name', 'PIB_groups'): 0.0,\n",
       " ('Sex', 'Age'): 3.3059907537698903e-215,\n",
       " ('Sex', 'Height'): 0.0,\n",
       " ('Sex', 'Weight'): 0.0,\n",
       " ('Sex', 'Team'): 7.572776324345402e-76,\n",
       " ('Sex', 'NOC'): 1.0981788095311411e-83,\n",
       " ('Sex', 'Games'): 2.01374028769177e-19,\n",
       " ('Sex', 'City'): 2.013740287691755e-19,\n",
       " ('Sex', 'Sport'): 0.0,\n",
       " ('Sex', 'Event'): 0.0,\n",
       " ('Sex', 'Country'): 1.1313774559663546e-83,\n",
       " ('Sex', 'Host_country'): 2.013740287691755e-19,\n",
       " ('Sex', 'PIB_groups'): 3.087285606536315e-22,\n",
       " ('Age', 'Height'): 0.0,\n",
       " ('Age', 'Weight'): 0.0,\n",
       " ('Age', 'Team'): 0.0,\n",
       " ('Age', 'NOC'): 5.258103251608439e-260,\n",
       " ('Age', 'Games'): 4.8238070520170125e-36,\n",
       " ('Age', 'City'): 4.823807052016945e-36,\n",
       " ('Age', 'Sport'): 0.0,\n",
       " ('Age', 'Event'): 0.0,\n",
       " ('Age', 'Country'): 1.7839029917121547e-260,\n",
       " ('Age', 'Host_country'): 4.8238070520170125e-36,\n",
       " ('Age', 'PIB_groups'): 4.4982177905844167e-32,\n",
       " ('Height', 'Weight'): 0.0,\n",
       " ('Height', 'Team'): 0.0,\n",
       " ('Height', 'NOC'): 0.0,\n",
       " ('Height', 'Games'): 0.0,\n",
       " ('Height', 'City'): 0.0,\n",
       " ('Height', 'Sport'): 0.0,\n",
       " ('Height', 'Event'): 0.0,\n",
       " ('Height', 'Country'): 0.0,\n",
       " ('Height', 'Host_country'): 0.0,\n",
       " ('Height', 'PIB_groups'): 1.5487965460219475e-12,\n",
       " ('Weight', 'Team'): 0.0,\n",
       " ('Weight', 'NOC'): 0.0,\n",
       " ('Weight', 'Games'): 9.57461940031894e-51,\n",
       " ('Weight', 'City'): 9.57461940031894e-51,\n",
       " ('Weight', 'Sport'): 0.0,\n",
       " ('Weight', 'Event'): 0.0,\n",
       " ('Weight', 'Country'): 0.0,\n",
       " ('Weight', 'Host_country'): 9.574619400318666e-51,\n",
       " ('Weight', 'PIB_groups'): 9.059943698297723e-20,\n",
       " ('Team', 'NOC'): 0.0,\n",
       " ('Team', 'Games'): 6.69338322266194e-247,\n",
       " ('Team', 'City'): 6.69338322266194e-247,\n",
       " ('Team', 'Sport'): 0.0,\n",
       " ('Team', 'Event'): 0.0,\n",
       " ('Team', 'Country'): 0.0,\n",
       " ('Team', 'Host_country'): 6.69338322266194e-247,\n",
       " ('Team', 'PIB_groups'): 0.0,\n",
       " ('NOC', 'Games'): 4.259221174758885e-53,\n",
       " ('NOC', 'City'): 4.259221174758883e-53,\n",
       " ('NOC', 'Sport'): 0.0,\n",
       " ('NOC', 'Event'): 2.204174836700942e-11,\n",
       " ('NOC', 'Country'): 0.0,\n",
       " ('NOC', 'Host_country'): 4.259221174758885e-53,\n",
       " ('NOC', 'PIB_groups'): 0.0,\n",
       " ('Games', 'City'): 0.0,\n",
       " ('Games', 'Sport'): 0.0,\n",
       " ('Games', 'Event'): 0.0,\n",
       " ('Games', 'Country'): 4.902626847525721e-29,\n",
       " ('Games', 'Host_country'): 0.0,\n",
       " ('Games', 'PIB_groups'): 1.282046042191905e-31,\n",
       " ('City', 'Sport'): 0.0,\n",
       " ('City', 'Event'): 0.0,\n",
       " ('City', 'Country'): 4.902626847525725e-29,\n",
       " ('City', 'Host_country'): 0.0,\n",
       " ('City', 'PIB_groups'): 1.282046042191905e-31,\n",
       " ('Sport', 'Event'): 0.0,\n",
       " ('Sport', 'Country'): 0.0,\n",
       " ('Sport', 'Host_country'): 0.0,\n",
       " ('Sport', 'PIB_groups'): 0.0,\n",
       " ('Event', 'Country'): 5.550999840778521e-13,\n",
       " ('Event', 'Host_country'): 0.0,\n",
       " ('Event', 'PIB_groups'): 0.0,\n",
       " ('Country', 'Host_country'): 4.902626847525721e-29,\n",
       " ('Country', 'PIB_groups'): 0.0,\n",
       " ('Host_country', 'PIB_groups'): 1.2820460421919048e-31}"
      ]
     },
     "execution_count": 77,
     "metadata": {},
     "output_type": "execute_result"
    },
    {
     "name": "stdout",
     "output_type": "stream",
     "text": [
      "In [77] used 621.1 MiB RAM in 10.08s (system mean cpu 13%, single max cpu 100%), peaked 61.1 MiB above final usage, current RAM usage now 1023.7 MiB\n"
     ]
    }
   ],
   "source": [
    "categorical_vars = df_complete.select_dtypes(include=['object', 'category'])\n",
    "\n",
    "p_values = {}\n",
    "for var1, var2 in combinations(categorical_vars.columns, 2):\n",
    "    contingency_table = pd.crosstab(categorical_vars[var1], categorical_vars[var2])\n",
    "    chi2, p, dof, expected = chi2_contingency(contingency_table)\n",
    "    p_values[(var1, var2)] = p\n",
    "\n",
    "\n",
    "dependent_vars = {var_pair: p_value for var_pair, p_value in p_values.items() if p_value < 0.05}\n",
    "dependent_vars"
   ]
  },
  {
   "cell_type": "markdown",
   "metadata": {},
   "source": [
    "### Nettoyage des colonnes inutiles pour l'analyse"
   ]
  },
  {
   "cell_type": "code",
   "execution_count": 78,
   "metadata": {
    "ExecuteTime": {
     "end_time": "2024-04-10T22:39:19.140624Z",
     "start_time": "2024-04-10T22:39:19.021812Z"
    }
   },
   "outputs": [
    {
     "name": "stdout",
     "output_type": "stream",
     "text": [
      "In [78] used 0.3 MiB RAM in 0.11s (system mean cpu 27%, single max cpu 67%), peaked 0.0 MiB above final usage, current RAM usage now 1024.0 MiB\n"
     ]
    }
   ],
   "source": [
    "# Drop les colonnes qui ne servent à R\n",
    "# df_complete.drop(columns=['Team', 'Name', 'Games', 'City', 'Event', 'Sport', 'Host_country', 'Country'], inplace=True)"
   ]
  },
  {
   "cell_type": "code",
   "execution_count": 79,
   "metadata": {
    "ExecuteTime": {
     "end_time": "2024-04-10T22:39:19.352958Z",
     "start_time": "2024-04-10T22:39:19.129567Z"
    }
   },
   "outputs": [
    {
     "data": {
      "text/html": [
       "<div>\n",
       "<style scoped>\n",
       "    .dataframe tbody tr th:only-of-type {\n",
       "        vertical-align: middle;\n",
       "    }\n",
       "\n",
       "    .dataframe tbody tr th {\n",
       "        vertical-align: top;\n",
       "    }\n",
       "\n",
       "    .dataframe thead th {\n",
       "        text-align: right;\n",
       "    }\n",
       "</style>\n",
       "<table border=\"1\" class=\"dataframe\">\n",
       "  <thead>\n",
       "    <tr style=\"text-align: right;\">\n",
       "      <th></th>\n",
       "      <th>Name</th>\n",
       "      <th>Sex</th>\n",
       "      <th>Age</th>\n",
       "      <th>Height</th>\n",
       "      <th>Weight</th>\n",
       "      <th>Team</th>\n",
       "      <th>NOC</th>\n",
       "      <th>Games</th>\n",
       "      <th>Year</th>\n",
       "      <th>City</th>\n",
       "      <th>...</th>\n",
       "      <th>Sport_Taekwondo</th>\n",
       "      <th>Sport_Tennis</th>\n",
       "      <th>Sport_Trampoline Gymnastics</th>\n",
       "      <th>Sport_Trampolining</th>\n",
       "      <th>Sport_Triathlon</th>\n",
       "      <th>Sport_Volleyball</th>\n",
       "      <th>Sport_Water Polo</th>\n",
       "      <th>Sport_Weightlifting</th>\n",
       "      <th>Sport_Wrestling</th>\n",
       "      <th>PIB_groups</th>\n",
       "    </tr>\n",
       "  </thead>\n",
       "  <tbody>\n",
       "    <tr>\n",
       "      <th>0</th>\n",
       "      <td>A Lamusi</td>\n",
       "      <td>1</td>\n",
       "      <td>[20.0, 25.0)</td>\n",
       "      <td>[170.0, 180.0)</td>\n",
       "      <td>[60.0, 70.0)</td>\n",
       "      <td>China</td>\n",
       "      <td>CHN</td>\n",
       "      <td>2012 Summer</td>\n",
       "      <td>2012.0</td>\n",
       "      <td>London</td>\n",
       "      <td>...</td>\n",
       "      <td>0.0</td>\n",
       "      <td>0.0</td>\n",
       "      <td>0.0</td>\n",
       "      <td>0.0</td>\n",
       "      <td>0.0</td>\n",
       "      <td>0.0</td>\n",
       "      <td>0.0</td>\n",
       "      <td>0.0</td>\n",
       "      <td>0.0</td>\n",
       "      <td>5</td>\n",
       "    </tr>\n",
       "    <tr>\n",
       "      <th>1</th>\n",
       "      <td>Jyri Tapani Aalto</td>\n",
       "      <td>1</td>\n",
       "      <td>[30.0, 35.0)</td>\n",
       "      <td>[170.0, 180.0)</td>\n",
       "      <td>[70.0, 80.0)</td>\n",
       "      <td>Finland</td>\n",
       "      <td>FIN</td>\n",
       "      <td>2000 Summer</td>\n",
       "      <td>2000.0</td>\n",
       "      <td>Sydney</td>\n",
       "      <td>...</td>\n",
       "      <td>0.0</td>\n",
       "      <td>0.0</td>\n",
       "      <td>0.0</td>\n",
       "      <td>0.0</td>\n",
       "      <td>0.0</td>\n",
       "      <td>0.0</td>\n",
       "      <td>0.0</td>\n",
       "      <td>0.0</td>\n",
       "      <td>0.0</td>\n",
       "      <td>2</td>\n",
       "    </tr>\n",
       "    <tr>\n",
       "      <th>3</th>\n",
       "      <td>Timo Antero Aaltonen</td>\n",
       "      <td>1</td>\n",
       "      <td>[30.0, 35.0)</td>\n",
       "      <td>[180.0, 190.0)</td>\n",
       "      <td>[110.0, 120.0)</td>\n",
       "      <td>Finland</td>\n",
       "      <td>FIN</td>\n",
       "      <td>2000 Summer</td>\n",
       "      <td>2000.0</td>\n",
       "      <td>Sydney</td>\n",
       "      <td>...</td>\n",
       "      <td>0.0</td>\n",
       "      <td>0.0</td>\n",
       "      <td>0.0</td>\n",
       "      <td>0.0</td>\n",
       "      <td>0.0</td>\n",
       "      <td>0.0</td>\n",
       "      <td>0.0</td>\n",
       "      <td>0.0</td>\n",
       "      <td>1.0</td>\n",
       "      <td>2</td>\n",
       "    </tr>\n",
       "    <tr>\n",
       "      <th>5</th>\n",
       "      <td>Fritz Aanes</td>\n",
       "      <td>1</td>\n",
       "      <td>[20.0, 25.0)</td>\n",
       "      <td>[180.0, 190.0)</td>\n",
       "      <td>[80.0, 90.0)</td>\n",
       "      <td>Norway</td>\n",
       "      <td>NOR</td>\n",
       "      <td>2000 Summer</td>\n",
       "      <td>2000.0</td>\n",
       "      <td>Sydney</td>\n",
       "      <td>...</td>\n",
       "      <td>0.0</td>\n",
       "      <td>0.0</td>\n",
       "      <td>0.0</td>\n",
       "      <td>0.0</td>\n",
       "      <td>0.0</td>\n",
       "      <td>0.0</td>\n",
       "      <td>0.0</td>\n",
       "      <td>0.0</td>\n",
       "      <td>0.0</td>\n",
       "      <td>3</td>\n",
       "    </tr>\n",
       "    <tr>\n",
       "      <th>6</th>\n",
       "      <td>Fritz Aanes</td>\n",
       "      <td>1</td>\n",
       "      <td>[25.0, 30.0)</td>\n",
       "      <td>[180.0, 190.0)</td>\n",
       "      <td>[80.0, 90.0)</td>\n",
       "      <td>Norway</td>\n",
       "      <td>NOR</td>\n",
       "      <td>2004 Summer</td>\n",
       "      <td>2004.0</td>\n",
       "      <td>Athina</td>\n",
       "      <td>...</td>\n",
       "      <td>0.0</td>\n",
       "      <td>0.0</td>\n",
       "      <td>0.0</td>\n",
       "      <td>0.0</td>\n",
       "      <td>0.0</td>\n",
       "      <td>0.0</td>\n",
       "      <td>0.0</td>\n",
       "      <td>0.0</td>\n",
       "      <td>0.0</td>\n",
       "      <td>3</td>\n",
       "    </tr>\n",
       "    <tr>\n",
       "      <th>...</th>\n",
       "      <td>...</td>\n",
       "      <td>...</td>\n",
       "      <td>...</td>\n",
       "      <td>...</td>\n",
       "      <td>...</td>\n",
       "      <td>...</td>\n",
       "      <td>...</td>\n",
       "      <td>...</td>\n",
       "      <td>...</td>\n",
       "      <td>...</td>\n",
       "      <td>...</td>\n",
       "      <td>...</td>\n",
       "      <td>...</td>\n",
       "      <td>...</td>\n",
       "      <td>...</td>\n",
       "      <td>...</td>\n",
       "      <td>...</td>\n",
       "      <td>...</td>\n",
       "      <td>...</td>\n",
       "      <td>...</td>\n",
       "      <td>...</td>\n",
       "    </tr>\n",
       "    <tr>\n",
       "      <th>37969</th>\n",
       "      <td>NaN</td>\n",
       "      <td>NaN</td>\n",
       "      <td>NaN</td>\n",
       "      <td>NaN</td>\n",
       "      <td>NaN</td>\n",
       "      <td>NaN</td>\n",
       "      <td>NaN</td>\n",
       "      <td>NaN</td>\n",
       "      <td>NaN</td>\n",
       "      <td>NaN</td>\n",
       "      <td>...</td>\n",
       "      <td>0.0</td>\n",
       "      <td>0.0</td>\n",
       "      <td>0.0</td>\n",
       "      <td>0.0</td>\n",
       "      <td>0.0</td>\n",
       "      <td>0.0</td>\n",
       "      <td>0.0</td>\n",
       "      <td>0.0</td>\n",
       "      <td>0.0</td>\n",
       "      <td>NaN</td>\n",
       "    </tr>\n",
       "    <tr>\n",
       "      <th>37970</th>\n",
       "      <td>NaN</td>\n",
       "      <td>NaN</td>\n",
       "      <td>NaN</td>\n",
       "      <td>NaN</td>\n",
       "      <td>NaN</td>\n",
       "      <td>NaN</td>\n",
       "      <td>NaN</td>\n",
       "      <td>NaN</td>\n",
       "      <td>NaN</td>\n",
       "      <td>NaN</td>\n",
       "      <td>...</td>\n",
       "      <td>0.0</td>\n",
       "      <td>0.0</td>\n",
       "      <td>0.0</td>\n",
       "      <td>0.0</td>\n",
       "      <td>0.0</td>\n",
       "      <td>0.0</td>\n",
       "      <td>0.0</td>\n",
       "      <td>0.0</td>\n",
       "      <td>0.0</td>\n",
       "      <td>NaN</td>\n",
       "    </tr>\n",
       "    <tr>\n",
       "      <th>37971</th>\n",
       "      <td>NaN</td>\n",
       "      <td>NaN</td>\n",
       "      <td>NaN</td>\n",
       "      <td>NaN</td>\n",
       "      <td>NaN</td>\n",
       "      <td>NaN</td>\n",
       "      <td>NaN</td>\n",
       "      <td>NaN</td>\n",
       "      <td>NaN</td>\n",
       "      <td>NaN</td>\n",
       "      <td>...</td>\n",
       "      <td>0.0</td>\n",
       "      <td>0.0</td>\n",
       "      <td>0.0</td>\n",
       "      <td>0.0</td>\n",
       "      <td>1.0</td>\n",
       "      <td>0.0</td>\n",
       "      <td>0.0</td>\n",
       "      <td>0.0</td>\n",
       "      <td>0.0</td>\n",
       "      <td>NaN</td>\n",
       "    </tr>\n",
       "    <tr>\n",
       "      <th>37972</th>\n",
       "      <td>NaN</td>\n",
       "      <td>NaN</td>\n",
       "      <td>NaN</td>\n",
       "      <td>NaN</td>\n",
       "      <td>NaN</td>\n",
       "      <td>NaN</td>\n",
       "      <td>NaN</td>\n",
       "      <td>NaN</td>\n",
       "      <td>NaN</td>\n",
       "      <td>NaN</td>\n",
       "      <td>...</td>\n",
       "      <td>0.0</td>\n",
       "      <td>0.0</td>\n",
       "      <td>0.0</td>\n",
       "      <td>0.0</td>\n",
       "      <td>0.0</td>\n",
       "      <td>0.0</td>\n",
       "      <td>0.0</td>\n",
       "      <td>0.0</td>\n",
       "      <td>0.0</td>\n",
       "      <td>NaN</td>\n",
       "    </tr>\n",
       "    <tr>\n",
       "      <th>37975</th>\n",
       "      <td>NaN</td>\n",
       "      <td>NaN</td>\n",
       "      <td>NaN</td>\n",
       "      <td>NaN</td>\n",
       "      <td>NaN</td>\n",
       "      <td>NaN</td>\n",
       "      <td>NaN</td>\n",
       "      <td>NaN</td>\n",
       "      <td>NaN</td>\n",
       "      <td>NaN</td>\n",
       "      <td>...</td>\n",
       "      <td>0.0</td>\n",
       "      <td>0.0</td>\n",
       "      <td>0.0</td>\n",
       "      <td>0.0</td>\n",
       "      <td>0.0</td>\n",
       "      <td>0.0</td>\n",
       "      <td>0.0</td>\n",
       "      <td>0.0</td>\n",
       "      <td>0.0</td>\n",
       "      <td>NaN</td>\n",
       "    </tr>\n",
       "  </tbody>\n",
       "</table>\n",
       "<p>52228 rows × 74 columns</p>\n",
       "</div>"
      ],
      "text/plain": [
       "                       Name  Sex           Age          Height  \\\n",
       "0                  A Lamusi    1  [20.0, 25.0)  [170.0, 180.0)   \n",
       "1         Jyri Tapani Aalto    1  [30.0, 35.0)  [170.0, 180.0)   \n",
       "3      Timo Antero Aaltonen    1  [30.0, 35.0)  [180.0, 190.0)   \n",
       "5               Fritz Aanes    1  [20.0, 25.0)  [180.0, 190.0)   \n",
       "6               Fritz Aanes    1  [25.0, 30.0)  [180.0, 190.0)   \n",
       "...                     ...  ...           ...             ...   \n",
       "37969                   NaN  NaN           NaN             NaN   \n",
       "37970                   NaN  NaN           NaN             NaN   \n",
       "37971                   NaN  NaN           NaN             NaN   \n",
       "37972                   NaN  NaN           NaN             NaN   \n",
       "37975                   NaN  NaN           NaN             NaN   \n",
       "\n",
       "               Weight     Team  NOC        Games    Year    City  ...  \\\n",
       "0        [60.0, 70.0)    China  CHN  2012 Summer  2012.0  London  ...   \n",
       "1        [70.0, 80.0)  Finland  FIN  2000 Summer  2000.0  Sydney  ...   \n",
       "3      [110.0, 120.0)  Finland  FIN  2000 Summer  2000.0  Sydney  ...   \n",
       "5        [80.0, 90.0)   Norway  NOR  2000 Summer  2000.0  Sydney  ...   \n",
       "6        [80.0, 90.0)   Norway  NOR  2004 Summer  2004.0  Athina  ...   \n",
       "...               ...      ...  ...          ...     ...     ...  ...   \n",
       "37969             NaN      NaN  NaN          NaN     NaN     NaN  ...   \n",
       "37970             NaN      NaN  NaN          NaN     NaN     NaN  ...   \n",
       "37971             NaN      NaN  NaN          NaN     NaN     NaN  ...   \n",
       "37972             NaN      NaN  NaN          NaN     NaN     NaN  ...   \n",
       "37975             NaN      NaN  NaN          NaN     NaN     NaN  ...   \n",
       "\n",
       "      Sport_Taekwondo Sport_Tennis  Sport_Trampoline Gymnastics  \\\n",
       "0                 0.0          0.0                          0.0   \n",
       "1                 0.0          0.0                          0.0   \n",
       "3                 0.0          0.0                          0.0   \n",
       "5                 0.0          0.0                          0.0   \n",
       "6                 0.0          0.0                          0.0   \n",
       "...               ...          ...                          ...   \n",
       "37969             0.0          0.0                          0.0   \n",
       "37970             0.0          0.0                          0.0   \n",
       "37971             0.0          0.0                          0.0   \n",
       "37972             0.0          0.0                          0.0   \n",
       "37975             0.0          0.0                          0.0   \n",
       "\n",
       "       Sport_Trampolining  Sport_Triathlon Sport_Volleyball Sport_Water Polo  \\\n",
       "0                     0.0              0.0              0.0              0.0   \n",
       "1                     0.0              0.0              0.0              0.0   \n",
       "3                     0.0              0.0              0.0              0.0   \n",
       "5                     0.0              0.0              0.0              0.0   \n",
       "6                     0.0              0.0              0.0              0.0   \n",
       "...                   ...              ...              ...              ...   \n",
       "37969                 0.0              0.0              0.0              0.0   \n",
       "37970                 0.0              0.0              0.0              0.0   \n",
       "37971                 0.0              1.0              0.0              0.0   \n",
       "37972                 0.0              0.0              0.0              0.0   \n",
       "37975                 0.0              0.0              0.0              0.0   \n",
       "\n",
       "       Sport_Weightlifting  Sport_Wrestling  PIB_groups  \n",
       "0                      0.0              0.0           5  \n",
       "1                      0.0              0.0           2  \n",
       "3                      0.0              1.0           2  \n",
       "5                      0.0              0.0           3  \n",
       "6                      0.0              0.0           3  \n",
       "...                    ...              ...         ...  \n",
       "37969                  0.0              0.0         NaN  \n",
       "37970                  0.0              0.0         NaN  \n",
       "37971                  0.0              0.0         NaN  \n",
       "37972                  0.0              0.0         NaN  \n",
       "37975                  0.0              0.0         NaN  \n",
       "\n",
       "[52228 rows x 74 columns]"
      ]
     },
     "execution_count": 79,
     "metadata": {},
     "output_type": "execute_result"
    },
    {
     "name": "stdout",
     "output_type": "stream",
     "text": [
      "In [79] used 23.3 MiB RAM in 0.18s (system mean cpu 36%, single max cpu 100%), peaked 0.0 MiB above final usage, current RAM usage now 1047.3 MiB\n"
     ]
    }
   ],
   "source": [
    "df_complete"
   ]
  },
  {
   "cell_type": "code",
   "execution_count": 80,
   "metadata": {
    "ExecuteTime": {
     "end_time": "2024-04-10T22:39:20.874715Z",
     "start_time": "2024-04-10T22:39:19.270113Z"
    }
   },
   "outputs": [
    {
     "name": "stdout",
     "output_type": "stream",
     "text": [
      "In [80] used -83.3 MiB RAM in 10.53s (system mean cpu 19%, single max cpu 100%), peaked 84.0 MiB above final usage, current RAM usage now 964.0 MiB\n"
     ]
    }
   ],
   "source": [
    "# Export du dataframe\n",
    "df_complete.to_csv('data/df_complete.csv', index=False)"
   ]
  },
  {
   "cell_type": "code",
   "execution_count": 81,
   "metadata": {
    "ExecuteTime": {
     "end_time": "2024-04-10T22:39:21.041831Z",
     "start_time": "2024-04-10T22:39:20.873503Z"
    }
   },
   "outputs": [
    {
     "data": {
      "text/html": [
       "<div>\n",
       "<style scoped>\n",
       "    .dataframe tbody tr th:only-of-type {\n",
       "        vertical-align: middle;\n",
       "    }\n",
       "\n",
       "    .dataframe tbody tr th {\n",
       "        vertical-align: top;\n",
       "    }\n",
       "\n",
       "    .dataframe thead th {\n",
       "        text-align: right;\n",
       "    }\n",
       "</style>\n",
       "<table border=\"1\" class=\"dataframe\">\n",
       "  <thead>\n",
       "    <tr style=\"text-align: right;\">\n",
       "      <th></th>\n",
       "      <th>Name</th>\n",
       "      <th>Sex</th>\n",
       "      <th>Age</th>\n",
       "      <th>Height</th>\n",
       "      <th>Weight</th>\n",
       "      <th>Team</th>\n",
       "      <th>NOC</th>\n",
       "      <th>Games</th>\n",
       "      <th>Year</th>\n",
       "      <th>City</th>\n",
       "      <th>...</th>\n",
       "      <th>Sport_Taekwondo</th>\n",
       "      <th>Sport_Tennis</th>\n",
       "      <th>Sport_Trampoline Gymnastics</th>\n",
       "      <th>Sport_Trampolining</th>\n",
       "      <th>Sport_Triathlon</th>\n",
       "      <th>Sport_Volleyball</th>\n",
       "      <th>Sport_Water Polo</th>\n",
       "      <th>Sport_Weightlifting</th>\n",
       "      <th>Sport_Wrestling</th>\n",
       "      <th>PIB_groups</th>\n",
       "    </tr>\n",
       "  </thead>\n",
       "  <tbody>\n",
       "    <tr>\n",
       "      <th>0</th>\n",
       "      <td>A Lamusi</td>\n",
       "      <td>1</td>\n",
       "      <td>[20, 25)</td>\n",
       "      <td>[170, 180)</td>\n",
       "      <td>[60, 70)</td>\n",
       "      <td>China</td>\n",
       "      <td>CHN</td>\n",
       "      <td>2012 Summer</td>\n",
       "      <td>2012.0</td>\n",
       "      <td>London</td>\n",
       "      <td>...</td>\n",
       "      <td>0.0</td>\n",
       "      <td>0.0</td>\n",
       "      <td>0.0</td>\n",
       "      <td>0.0</td>\n",
       "      <td>0.0</td>\n",
       "      <td>0.0</td>\n",
       "      <td>0.0</td>\n",
       "      <td>0.0</td>\n",
       "      <td>0.0</td>\n",
       "      <td>5</td>\n",
       "    </tr>\n",
       "    <tr>\n",
       "      <th>1</th>\n",
       "      <td>Jyri Tapani Aalto</td>\n",
       "      <td>1</td>\n",
       "      <td>[30, 35)</td>\n",
       "      <td>[170, 180)</td>\n",
       "      <td>[70, 80)</td>\n",
       "      <td>Finland</td>\n",
       "      <td>FIN</td>\n",
       "      <td>2000 Summer</td>\n",
       "      <td>2000.0</td>\n",
       "      <td>Sydney</td>\n",
       "      <td>...</td>\n",
       "      <td>0.0</td>\n",
       "      <td>0.0</td>\n",
       "      <td>0.0</td>\n",
       "      <td>0.0</td>\n",
       "      <td>0.0</td>\n",
       "      <td>0.0</td>\n",
       "      <td>0.0</td>\n",
       "      <td>0.0</td>\n",
       "      <td>0.0</td>\n",
       "      <td>2</td>\n",
       "    </tr>\n",
       "    <tr>\n",
       "      <th>3</th>\n",
       "      <td>Timo Antero Aaltonen</td>\n",
       "      <td>1</td>\n",
       "      <td>[30, 35)</td>\n",
       "      <td>[180, 190)</td>\n",
       "      <td>[110, 120)</td>\n",
       "      <td>Finland</td>\n",
       "      <td>FIN</td>\n",
       "      <td>2000 Summer</td>\n",
       "      <td>2000.0</td>\n",
       "      <td>Sydney</td>\n",
       "      <td>...</td>\n",
       "      <td>0.0</td>\n",
       "      <td>0.0</td>\n",
       "      <td>0.0</td>\n",
       "      <td>0.0</td>\n",
       "      <td>0.0</td>\n",
       "      <td>0.0</td>\n",
       "      <td>0.0</td>\n",
       "      <td>0.0</td>\n",
       "      <td>1.0</td>\n",
       "      <td>2</td>\n",
       "    </tr>\n",
       "    <tr>\n",
       "      <th>5</th>\n",
       "      <td>Fritz Aanes</td>\n",
       "      <td>1</td>\n",
       "      <td>[20, 25)</td>\n",
       "      <td>[180, 190)</td>\n",
       "      <td>[80, 90)</td>\n",
       "      <td>Norway</td>\n",
       "      <td>NOR</td>\n",
       "      <td>2000 Summer</td>\n",
       "      <td>2000.0</td>\n",
       "      <td>Sydney</td>\n",
       "      <td>...</td>\n",
       "      <td>0.0</td>\n",
       "      <td>0.0</td>\n",
       "      <td>0.0</td>\n",
       "      <td>0.0</td>\n",
       "      <td>0.0</td>\n",
       "      <td>0.0</td>\n",
       "      <td>0.0</td>\n",
       "      <td>0.0</td>\n",
       "      <td>0.0</td>\n",
       "      <td>3</td>\n",
       "    </tr>\n",
       "    <tr>\n",
       "      <th>6</th>\n",
       "      <td>Fritz Aanes</td>\n",
       "      <td>1</td>\n",
       "      <td>[25, 30)</td>\n",
       "      <td>[180, 190)</td>\n",
       "      <td>[80, 90)</td>\n",
       "      <td>Norway</td>\n",
       "      <td>NOR</td>\n",
       "      <td>2004 Summer</td>\n",
       "      <td>2004.0</td>\n",
       "      <td>Athina</td>\n",
       "      <td>...</td>\n",
       "      <td>0.0</td>\n",
       "      <td>0.0</td>\n",
       "      <td>0.0</td>\n",
       "      <td>0.0</td>\n",
       "      <td>0.0</td>\n",
       "      <td>0.0</td>\n",
       "      <td>0.0</td>\n",
       "      <td>0.0</td>\n",
       "      <td>0.0</td>\n",
       "      <td>3</td>\n",
       "    </tr>\n",
       "  </tbody>\n",
       "</table>\n",
       "<p>5 rows × 74 columns</p>\n",
       "</div>"
      ],
      "text/plain": [
       "                   Name Sex       Age      Height      Weight     Team  NOC  \\\n",
       "0              A Lamusi   1  [20, 25)  [170, 180)    [60, 70)    China  CHN   \n",
       "1     Jyri Tapani Aalto   1  [30, 35)  [170, 180)    [70, 80)  Finland  FIN   \n",
       "3  Timo Antero Aaltonen   1  [30, 35)  [180, 190)  [110, 120)  Finland  FIN   \n",
       "5           Fritz Aanes   1  [20, 25)  [180, 190)    [80, 90)   Norway  NOR   \n",
       "6           Fritz Aanes   1  [25, 30)  [180, 190)    [80, 90)   Norway  NOR   \n",
       "\n",
       "         Games    Year    City  ... Sport_Taekwondo Sport_Tennis  \\\n",
       "0  2012 Summer  2012.0  London  ...             0.0          0.0   \n",
       "1  2000 Summer  2000.0  Sydney  ...             0.0          0.0   \n",
       "3  2000 Summer  2000.0  Sydney  ...             0.0          0.0   \n",
       "5  2000 Summer  2000.0  Sydney  ...             0.0          0.0   \n",
       "6  2004 Summer  2004.0  Athina  ...             0.0          0.0   \n",
       "\n",
       "   Sport_Trampoline Gymnastics  Sport_Trampolining  Sport_Triathlon  \\\n",
       "0                          0.0                 0.0              0.0   \n",
       "1                          0.0                 0.0              0.0   \n",
       "3                          0.0                 0.0              0.0   \n",
       "5                          0.0                 0.0              0.0   \n",
       "6                          0.0                 0.0              0.0   \n",
       "\n",
       "  Sport_Volleyball Sport_Water Polo  Sport_Weightlifting  Sport_Wrestling  \\\n",
       "0              0.0              0.0                  0.0              0.0   \n",
       "1              0.0              0.0                  0.0              0.0   \n",
       "3              0.0              0.0                  0.0              1.0   \n",
       "5              0.0              0.0                  0.0              0.0   \n",
       "6              0.0              0.0                  0.0              0.0   \n",
       "\n",
       "   PIB_groups  \n",
       "0           5  \n",
       "1           2  \n",
       "3           2  \n",
       "5           3  \n",
       "6           3  \n",
       "\n",
       "[5 rows x 74 columns]"
      ]
     },
     "execution_count": 81,
     "metadata": {},
     "output_type": "execute_result"
    },
    {
     "name": "stdout",
     "output_type": "stream",
     "text": [
      "In [81] used 0.0 MiB RAM in 0.12s (system mean cpu 19%, single max cpu 100%), peaked 0.0 MiB above final usage, current RAM usage now 964.0 MiB\n"
     ]
    }
   ],
   "source": [
    "df_complete.head()"
   ]
  },
  {
   "cell_type": "markdown",
   "metadata": {},
   "source": [
    "## Traitement des valeurs manquantes"
   ]
  },
  {
   "cell_type": "markdown",
   "metadata": {},
   "source": [
    "Effectivement notre base de données possède de nombreuses valeurs manquantes"
   ]
  },
  {
   "cell_type": "code",
   "execution_count": 82,
   "metadata": {
    "ExecuteTime": {
     "end_time": "2024-04-10T22:39:21.106618Z",
     "start_time": "2024-04-10T22:39:20.996231Z"
    }
   },
   "outputs": [
    {
     "name": "stdout",
     "output_type": "stream",
     "text": [
      "In [82] used -17.9 MiB RAM in 0.11s (system mean cpu 31%, single max cpu 100%), peaked 0.0 MiB above final usage, current RAM usage now 946.1 MiB\n"
     ]
    }
   ],
   "source": [
    "# df.isna().sum()"
   ]
  },
  {
   "cell_type": "code",
   "execution_count": 83,
   "metadata": {
    "ExecuteTime": {
     "end_time": "2024-04-10T22:39:21.224802Z",
     "start_time": "2024-04-10T22:39:21.104796Z"
    }
   },
   "outputs": [
    {
     "name": "stdout",
     "output_type": "stream",
     "text": [
      "In [83] used -33.6 MiB RAM in 0.11s (system mean cpu 28%, single max cpu 75%), peaked 33.6 MiB above final usage, current RAM usage now 912.5 MiB\n"
     ]
    }
   ],
   "source": [
    "### Première solution : Web Scrapping (code Nathan + FLO)"
   ]
  },
  {
   "cell_type": "markdown",
   "metadata": {},
   "source": [
    "## Tests de corrélations/lois stats (Shapiro-Wilk, Spearman, Pearson)"
   ]
  },
  {
   "cell_type": "code",
   "execution_count": 84,
   "metadata": {
    "ExecuteTime": {
     "end_time": "2024-04-10T22:39:21.317312Z",
     "start_time": "2024-04-10T22:39:21.211621Z"
    }
   },
   "outputs": [
    {
     "name": "stdout",
     "output_type": "stream",
     "text": [
      "In [84] used 0.0 MiB RAM in 0.10s (system mean cpu 30%, single max cpu 67%), peaked 0.0 MiB above final usage, current RAM usage now 912.6 MiB\n"
     ]
    }
   ],
   "source": [
    "# TODO: Noé"
   ]
  },
  {
   "cell_type": "markdown",
   "metadata": {},
   "source": [
    "## Aggrégation des données par Team/Année/Event pour pouvoir calculer les médailles"
   ]
  },
  {
   "cell_type": "code",
   "execution_count": 85,
   "metadata": {
    "ExecuteTime": {
     "end_time": "2024-04-10T22:39:21.505922Z",
     "start_time": "2024-04-10T22:39:21.328946Z"
    }
   },
   "outputs": [
    {
     "name": "stdout",
     "output_type": "stream",
     "text": [
      "In [85] used -32.6 MiB RAM in 0.11s (system mean cpu 39%, single max cpu 100%), peaked 32.6 MiB above final usage, current RAM usage now 879.9 MiB\n"
     ]
    }
   ],
   "source": [
    "# TODO: Nathan: Essayer d'appliquer le code\n",
    "# Voir plus haut"
   ]
  },
  {
   "cell_type": "code",
   "execution_count": 86,
   "metadata": {},
   "outputs": [
    {
     "name": "stdout",
     "output_type": "stream",
     "text": [
      "In [86] used -26.5 MiB RAM in 0.11s (system mean cpu 42%, single max cpu 100%), peaked 0.0 MiB above final usage, current RAM usage now 853.5 MiB\n"
     ]
    }
   ],
   "source": [
    "## Partie Flo "
   ]
  },
  {
   "cell_type": "code",
   "execution_count": 87,
   "metadata": {},
   "outputs": [
    {
     "name": "stdout",
     "output_type": "stream",
     "text": [
      "In [87] used 18.7 MiB RAM in 0.14s (system mean cpu 32%, single max cpu 100%), peaked 0.0 MiB above final usage, current RAM usage now 872.2 MiB\n"
     ]
    }
   ],
   "source": [
    "df_complete=df_complete.dropna(subset='Name')"
   ]
  },
  {
   "cell_type": "code",
   "execution_count": 88,
   "metadata": {},
   "outputs": [
    {
     "data": {
      "text/html": [
       "<div>\n",
       "<style scoped>\n",
       "    .dataframe tbody tr th:only-of-type {\n",
       "        vertical-align: middle;\n",
       "    }\n",
       "\n",
       "    .dataframe tbody tr th {\n",
       "        vertical-align: top;\n",
       "    }\n",
       "\n",
       "    .dataframe thead th {\n",
       "        text-align: right;\n",
       "    }\n",
       "</style>\n",
       "<table border=\"1\" class=\"dataframe\">\n",
       "  <thead>\n",
       "    <tr style=\"text-align: right;\">\n",
       "      <th></th>\n",
       "      <th>Name</th>\n",
       "      <th>Sex</th>\n",
       "      <th>Age</th>\n",
       "      <th>Height</th>\n",
       "      <th>Weight</th>\n",
       "      <th>Team</th>\n",
       "      <th>NOC</th>\n",
       "      <th>Games</th>\n",
       "      <th>Year</th>\n",
       "      <th>City</th>\n",
       "      <th>...</th>\n",
       "      <th>Sport_Taekwondo</th>\n",
       "      <th>Sport_Tennis</th>\n",
       "      <th>Sport_Trampoline Gymnastics</th>\n",
       "      <th>Sport_Trampolining</th>\n",
       "      <th>Sport_Triathlon</th>\n",
       "      <th>Sport_Volleyball</th>\n",
       "      <th>Sport_Water Polo</th>\n",
       "      <th>Sport_Weightlifting</th>\n",
       "      <th>Sport_Wrestling</th>\n",
       "      <th>PIB_groups</th>\n",
       "    </tr>\n",
       "  </thead>\n",
       "  <tbody>\n",
       "    <tr>\n",
       "      <th>0</th>\n",
       "      <td>A Lamusi</td>\n",
       "      <td>1</td>\n",
       "      <td>[20, 25)</td>\n",
       "      <td>[170, 180)</td>\n",
       "      <td>[60, 70)</td>\n",
       "      <td>China</td>\n",
       "      <td>CHN</td>\n",
       "      <td>2012 Summer</td>\n",
       "      <td>2012.0</td>\n",
       "      <td>London</td>\n",
       "      <td>...</td>\n",
       "      <td>0.0</td>\n",
       "      <td>0.0</td>\n",
       "      <td>0.0</td>\n",
       "      <td>0.0</td>\n",
       "      <td>0.0</td>\n",
       "      <td>0.0</td>\n",
       "      <td>0.0</td>\n",
       "      <td>0.0</td>\n",
       "      <td>0.0</td>\n",
       "      <td>5</td>\n",
       "    </tr>\n",
       "    <tr>\n",
       "      <th>1</th>\n",
       "      <td>Jyri Tapani Aalto</td>\n",
       "      <td>1</td>\n",
       "      <td>[30, 35)</td>\n",
       "      <td>[170, 180)</td>\n",
       "      <td>[70, 80)</td>\n",
       "      <td>Finland</td>\n",
       "      <td>FIN</td>\n",
       "      <td>2000 Summer</td>\n",
       "      <td>2000.0</td>\n",
       "      <td>Sydney</td>\n",
       "      <td>...</td>\n",
       "      <td>0.0</td>\n",
       "      <td>0.0</td>\n",
       "      <td>0.0</td>\n",
       "      <td>0.0</td>\n",
       "      <td>0.0</td>\n",
       "      <td>0.0</td>\n",
       "      <td>0.0</td>\n",
       "      <td>0.0</td>\n",
       "      <td>0.0</td>\n",
       "      <td>2</td>\n",
       "    </tr>\n",
       "    <tr>\n",
       "      <th>3</th>\n",
       "      <td>Timo Antero Aaltonen</td>\n",
       "      <td>1</td>\n",
       "      <td>[30, 35)</td>\n",
       "      <td>[180, 190)</td>\n",
       "      <td>[110, 120)</td>\n",
       "      <td>Finland</td>\n",
       "      <td>FIN</td>\n",
       "      <td>2000 Summer</td>\n",
       "      <td>2000.0</td>\n",
       "      <td>Sydney</td>\n",
       "      <td>...</td>\n",
       "      <td>0.0</td>\n",
       "      <td>0.0</td>\n",
       "      <td>0.0</td>\n",
       "      <td>0.0</td>\n",
       "      <td>0.0</td>\n",
       "      <td>0.0</td>\n",
       "      <td>0.0</td>\n",
       "      <td>0.0</td>\n",
       "      <td>1.0</td>\n",
       "      <td>2</td>\n",
       "    </tr>\n",
       "    <tr>\n",
       "      <th>5</th>\n",
       "      <td>Fritz Aanes</td>\n",
       "      <td>1</td>\n",
       "      <td>[20, 25)</td>\n",
       "      <td>[180, 190)</td>\n",
       "      <td>[80, 90)</td>\n",
       "      <td>Norway</td>\n",
       "      <td>NOR</td>\n",
       "      <td>2000 Summer</td>\n",
       "      <td>2000.0</td>\n",
       "      <td>Sydney</td>\n",
       "      <td>...</td>\n",
       "      <td>0.0</td>\n",
       "      <td>0.0</td>\n",
       "      <td>0.0</td>\n",
       "      <td>0.0</td>\n",
       "      <td>0.0</td>\n",
       "      <td>0.0</td>\n",
       "      <td>0.0</td>\n",
       "      <td>0.0</td>\n",
       "      <td>0.0</td>\n",
       "      <td>3</td>\n",
       "    </tr>\n",
       "    <tr>\n",
       "      <th>6</th>\n",
       "      <td>Fritz Aanes</td>\n",
       "      <td>1</td>\n",
       "      <td>[25, 30)</td>\n",
       "      <td>[180, 190)</td>\n",
       "      <td>[80, 90)</td>\n",
       "      <td>Norway</td>\n",
       "      <td>NOR</td>\n",
       "      <td>2004 Summer</td>\n",
       "      <td>2004.0</td>\n",
       "      <td>Athina</td>\n",
       "      <td>...</td>\n",
       "      <td>0.0</td>\n",
       "      <td>0.0</td>\n",
       "      <td>0.0</td>\n",
       "      <td>0.0</td>\n",
       "      <td>0.0</td>\n",
       "      <td>0.0</td>\n",
       "      <td>0.0</td>\n",
       "      <td>0.0</td>\n",
       "      <td>0.0</td>\n",
       "      <td>3</td>\n",
       "    </tr>\n",
       "    <tr>\n",
       "      <th>...</th>\n",
       "      <td>...</td>\n",
       "      <td>...</td>\n",
       "      <td>...</td>\n",
       "      <td>...</td>\n",
       "      <td>...</td>\n",
       "      <td>...</td>\n",
       "      <td>...</td>\n",
       "      <td>...</td>\n",
       "      <td>...</td>\n",
       "      <td>...</td>\n",
       "      <td>...</td>\n",
       "      <td>...</td>\n",
       "      <td>...</td>\n",
       "      <td>...</td>\n",
       "      <td>...</td>\n",
       "      <td>...</td>\n",
       "      <td>...</td>\n",
       "      <td>...</td>\n",
       "      <td>...</td>\n",
       "      <td>...</td>\n",
       "      <td>...</td>\n",
       "    </tr>\n",
       "    <tr>\n",
       "      <th>90114</th>\n",
       "      <td>DUFFY Flora</td>\n",
       "      <td>0</td>\n",
       "      <td>[30, 35)</td>\n",
       "      <td>[160, 170)</td>\n",
       "      <td>[50, 60)</td>\n",
       "      <td>Bermuda</td>\n",
       "      <td>BER</td>\n",
       "      <td>Tokyo 2020</td>\n",
       "      <td>2020.0</td>\n",
       "      <td>Tokyo</td>\n",
       "      <td>...</td>\n",
       "      <td>NaN</td>\n",
       "      <td>NaN</td>\n",
       "      <td>NaN</td>\n",
       "      <td>NaN</td>\n",
       "      <td>NaN</td>\n",
       "      <td>NaN</td>\n",
       "      <td>NaN</td>\n",
       "      <td>NaN</td>\n",
       "      <td>NaN</td>\n",
       "      <td>1</td>\n",
       "    </tr>\n",
       "    <tr>\n",
       "      <th>90127</th>\n",
       "      <td>ORTIZ Idalys</td>\n",
       "      <td>0</td>\n",
       "      <td>[30, 35)</td>\n",
       "      <td>[160, 170)</td>\n",
       "      <td>[60, 70)</td>\n",
       "      <td>Cuba</td>\n",
       "      <td>CUB</td>\n",
       "      <td>Tokyo 2020</td>\n",
       "      <td>2020.0</td>\n",
       "      <td>Tokyo</td>\n",
       "      <td>...</td>\n",
       "      <td>NaN</td>\n",
       "      <td>NaN</td>\n",
       "      <td>NaN</td>\n",
       "      <td>NaN</td>\n",
       "      <td>NaN</td>\n",
       "      <td>NaN</td>\n",
       "      <td>NaN</td>\n",
       "      <td>NaN</td>\n",
       "      <td>NaN</td>\n",
       "      <td>3</td>\n",
       "    </tr>\n",
       "    <tr>\n",
       "      <th>90128</th>\n",
       "      <td>PEREZ Yaime</td>\n",
       "      <td>0</td>\n",
       "      <td>[30, 35)</td>\n",
       "      <td>[90, 100)</td>\n",
       "      <td>[60, 70)</td>\n",
       "      <td>Cuba</td>\n",
       "      <td>CUB</td>\n",
       "      <td>Tokyo 2020</td>\n",
       "      <td>2020.0</td>\n",
       "      <td>Tokyo</td>\n",
       "      <td>...</td>\n",
       "      <td>NaN</td>\n",
       "      <td>NaN</td>\n",
       "      <td>NaN</td>\n",
       "      <td>NaN</td>\n",
       "      <td>NaN</td>\n",
       "      <td>NaN</td>\n",
       "      <td>NaN</td>\n",
       "      <td>NaN</td>\n",
       "      <td>NaN</td>\n",
       "      <td>3</td>\n",
       "    </tr>\n",
       "    <tr>\n",
       "      <th>90129</th>\n",
       "      <td>PERILLI Alessandra</td>\n",
       "      <td>0</td>\n",
       "      <td>[30, 35)</td>\n",
       "      <td>[160, 170)</td>\n",
       "      <td>[50, 60)</td>\n",
       "      <td>San Marino</td>\n",
       "      <td>SMR</td>\n",
       "      <td>Tokyo 2020</td>\n",
       "      <td>2020.0</td>\n",
       "      <td>Tokyo</td>\n",
       "      <td>...</td>\n",
       "      <td>NaN</td>\n",
       "      <td>NaN</td>\n",
       "      <td>NaN</td>\n",
       "      <td>NaN</td>\n",
       "      <td>NaN</td>\n",
       "      <td>NaN</td>\n",
       "      <td>NaN</td>\n",
       "      <td>NaN</td>\n",
       "      <td>NaN</td>\n",
       "      <td>1</td>\n",
       "    </tr>\n",
       "    <tr>\n",
       "      <th>90132</th>\n",
       "      <td>ROJAS Yulimar</td>\n",
       "      <td>0</td>\n",
       "      <td>[25, 30)</td>\n",
       "      <td>[170, 180)</td>\n",
       "      <td>[50, 60)</td>\n",
       "      <td>Venezuela</td>\n",
       "      <td>VEN</td>\n",
       "      <td>Tokyo 2020</td>\n",
       "      <td>2020.0</td>\n",
       "      <td>Tokyo</td>\n",
       "      <td>...</td>\n",
       "      <td>NaN</td>\n",
       "      <td>NaN</td>\n",
       "      <td>NaN</td>\n",
       "      <td>NaN</td>\n",
       "      <td>NaN</td>\n",
       "      <td>NaN</td>\n",
       "      <td>NaN</td>\n",
       "      <td>NaN</td>\n",
       "      <td>NaN</td>\n",
       "      <td>2</td>\n",
       "    </tr>\n",
       "  </tbody>\n",
       "</table>\n",
       "<p>37976 rows × 74 columns</p>\n",
       "</div>"
      ],
      "text/plain": [
       "                       Name Sex       Age      Height      Weight        Team  \\\n",
       "0                  A Lamusi   1  [20, 25)  [170, 180)    [60, 70)       China   \n",
       "1         Jyri Tapani Aalto   1  [30, 35)  [170, 180)    [70, 80)     Finland   \n",
       "3      Timo Antero Aaltonen   1  [30, 35)  [180, 190)  [110, 120)     Finland   \n",
       "5               Fritz Aanes   1  [20, 25)  [180, 190)    [80, 90)      Norway   \n",
       "6               Fritz Aanes   1  [25, 30)  [180, 190)    [80, 90)      Norway   \n",
       "...                     ...  ..       ...         ...         ...         ...   \n",
       "90114           DUFFY Flora   0  [30, 35)  [160, 170)    [50, 60)     Bermuda   \n",
       "90127          ORTIZ Idalys   0  [30, 35)  [160, 170)    [60, 70)        Cuba   \n",
       "90128           PEREZ Yaime   0  [30, 35)   [90, 100)    [60, 70)        Cuba   \n",
       "90129    PERILLI Alessandra   0  [30, 35)  [160, 170)    [50, 60)  San Marino   \n",
       "90132         ROJAS Yulimar   0  [25, 30)  [170, 180)    [50, 60)   Venezuela   \n",
       "\n",
       "       NOC        Games    Year    City  ... Sport_Taekwondo Sport_Tennis  \\\n",
       "0      CHN  2012 Summer  2012.0  London  ...             0.0          0.0   \n",
       "1      FIN  2000 Summer  2000.0  Sydney  ...             0.0          0.0   \n",
       "3      FIN  2000 Summer  2000.0  Sydney  ...             0.0          0.0   \n",
       "5      NOR  2000 Summer  2000.0  Sydney  ...             0.0          0.0   \n",
       "6      NOR  2004 Summer  2004.0  Athina  ...             0.0          0.0   \n",
       "...    ...          ...     ...     ...  ...             ...          ...   \n",
       "90114  BER   Tokyo 2020  2020.0   Tokyo  ...             NaN          NaN   \n",
       "90127  CUB   Tokyo 2020  2020.0   Tokyo  ...             NaN          NaN   \n",
       "90128  CUB   Tokyo 2020  2020.0   Tokyo  ...             NaN          NaN   \n",
       "90129  SMR   Tokyo 2020  2020.0   Tokyo  ...             NaN          NaN   \n",
       "90132  VEN   Tokyo 2020  2020.0   Tokyo  ...             NaN          NaN   \n",
       "\n",
       "       Sport_Trampoline Gymnastics  Sport_Trampolining  Sport_Triathlon  \\\n",
       "0                              0.0                 0.0              0.0   \n",
       "1                              0.0                 0.0              0.0   \n",
       "3                              0.0                 0.0              0.0   \n",
       "5                              0.0                 0.0              0.0   \n",
       "6                              0.0                 0.0              0.0   \n",
       "...                            ...                 ...              ...   \n",
       "90114                          NaN                 NaN              NaN   \n",
       "90127                          NaN                 NaN              NaN   \n",
       "90128                          NaN                 NaN              NaN   \n",
       "90129                          NaN                 NaN              NaN   \n",
       "90132                          NaN                 NaN              NaN   \n",
       "\n",
       "      Sport_Volleyball Sport_Water Polo  Sport_Weightlifting  Sport_Wrestling  \\\n",
       "0                  0.0              0.0                  0.0              0.0   \n",
       "1                  0.0              0.0                  0.0              0.0   \n",
       "3                  0.0              0.0                  0.0              1.0   \n",
       "5                  0.0              0.0                  0.0              0.0   \n",
       "6                  0.0              0.0                  0.0              0.0   \n",
       "...                ...              ...                  ...              ...   \n",
       "90114              NaN              NaN                  NaN              NaN   \n",
       "90127              NaN              NaN                  NaN              NaN   \n",
       "90128              NaN              NaN                  NaN              NaN   \n",
       "90129              NaN              NaN                  NaN              NaN   \n",
       "90132              NaN              NaN                  NaN              NaN   \n",
       "\n",
       "       PIB_groups  \n",
       "0               5  \n",
       "1               2  \n",
       "3               2  \n",
       "5               3  \n",
       "6               3  \n",
       "...           ...  \n",
       "90114           1  \n",
       "90127           3  \n",
       "90128           3  \n",
       "90129           1  \n",
       "90132           2  \n",
       "\n",
       "[37976 rows x 74 columns]"
      ]
     },
     "execution_count": 88,
     "metadata": {},
     "output_type": "execute_result"
    },
    {
     "name": "stdout",
     "output_type": "stream",
     "text": [
      "In [88] used 3.2 MiB RAM in 0.17s (system mean cpu 28%, single max cpu 100%), peaked 0.0 MiB above final usage, current RAM usage now 875.4 MiB\n"
     ]
    }
   ],
   "source": [
    "df_complete"
   ]
  },
  {
   "cell_type": "code",
   "execution_count": 89,
   "metadata": {},
   "outputs": [
    {
     "name": "stdout",
     "output_type": "stream",
     "text": [
      "In [89] used 0.5 MiB RAM in 0.72s (system mean cpu 14%, single max cpu 100%), peaked 0.0 MiB above final usage, current RAM usage now 875.9 MiB\n"
     ]
    }
   ],
   "source": [
    "df_world=pd.read_csv('data/additionnal/world-data-2023.csv',sep=',')"
   ]
  },
  {
   "cell_type": "code",
   "execution_count": 90,
   "metadata": {},
   "outputs": [
    {
     "name": "stdout",
     "output_type": "stream",
     "text": [
      "In [90] used 0.2 MiB RAM in 0.13s (system mean cpu 24%, single max cpu 100%), peaked 0.0 MiB above final usage, current RAM usage now 876.1 MiB\n"
     ]
    }
   ],
   "source": [
    "df_world=df_world.drop('Population',axis=1)\n",
    "df_world=df_world.drop('Abbreviation',axis=1)\n",
    "df_world=df_world.drop('Official language',axis=1)\n",
    "df_world=df_world.drop('Physicians per thousand',axis=1)\n",
    "df_world=df_world.drop('Capital/Major City',axis=1)\n",
    "df_world=df_world.drop('Density\\n(P/Km2)',axis=1)\n",
    "df_world=df_world.drop('Agricultural Land( %)',axis=1)\n",
    "df_world=df_world.drop('Land Area(Km2)',axis=1)\n",
    "df_world=df_world.drop('Calling Code',axis=1)\n",
    "df_world=df_world.drop('Currency-Code',axis=1)\n",
    "df_world=df_world.drop('CPI Change (%)',axis=1)\n",
    "df_world=df_world.drop('CPI',axis=1)\n",
    "df_world=df_world.drop('Forested Area (%)',axis=1)\n",
    "df_world=df_world.drop('GDP',axis=1)\n",
    "df_world=df_world.drop('Largest city',axis=1)\n",
    "df_world=df_world.drop('Maternal mortality ratio',axis=1)\n",
    "df_world=df_world.drop('Tax revenue (%)',axis=1)\n",
    "df_world=df_world.drop('Total tax rate',axis=1)\n",
    "df_world=df_world.drop('Latitude',axis=1)\n",
    "df_world=df_world.drop('Longitude',axis=1)"
   ]
  },
  {
   "cell_type": "code",
   "execution_count": 91,
   "metadata": {},
   "outputs": [
    {
     "data": {
      "text/html": [
       "<div>\n",
       "<style scoped>\n",
       "    .dataframe tbody tr th:only-of-type {\n",
       "        vertical-align: middle;\n",
       "    }\n",
       "\n",
       "    .dataframe tbody tr th {\n",
       "        vertical-align: top;\n",
       "    }\n",
       "\n",
       "    .dataframe thead th {\n",
       "        text-align: right;\n",
       "    }\n",
       "</style>\n",
       "<table border=\"1\" class=\"dataframe\">\n",
       "  <thead>\n",
       "    <tr style=\"text-align: right;\">\n",
       "      <th></th>\n",
       "      <th>Country</th>\n",
       "      <th>Armed Forces size</th>\n",
       "      <th>Birth Rate</th>\n",
       "      <th>Co2-Emissions</th>\n",
       "      <th>Fertility Rate</th>\n",
       "      <th>Gasoline Price</th>\n",
       "      <th>Gross primary education enrollment (%)</th>\n",
       "      <th>Gross tertiary education enrollment (%)</th>\n",
       "      <th>Infant mortality</th>\n",
       "      <th>Life expectancy</th>\n",
       "      <th>Minimum wage</th>\n",
       "      <th>Out of pocket health expenditure</th>\n",
       "      <th>Population: Labor force participation (%)</th>\n",
       "      <th>Unemployment rate</th>\n",
       "      <th>Urban_population</th>\n",
       "    </tr>\n",
       "  </thead>\n",
       "  <tbody>\n",
       "    <tr>\n",
       "      <th>0</th>\n",
       "      <td>Afghanistan</td>\n",
       "      <td>323,000</td>\n",
       "      <td>32.49</td>\n",
       "      <td>8,672</td>\n",
       "      <td>4.47</td>\n",
       "      <td>$0.70</td>\n",
       "      <td>104.00%</td>\n",
       "      <td>9.70%</td>\n",
       "      <td>47.9</td>\n",
       "      <td>64.5</td>\n",
       "      <td>$0.43</td>\n",
       "      <td>78.40%</td>\n",
       "      <td>48.90%</td>\n",
       "      <td>11.12%</td>\n",
       "      <td>9,797,273</td>\n",
       "    </tr>\n",
       "    <tr>\n",
       "      <th>1</th>\n",
       "      <td>Albania</td>\n",
       "      <td>9,000</td>\n",
       "      <td>11.78</td>\n",
       "      <td>4,536</td>\n",
       "      <td>1.62</td>\n",
       "      <td>$1.36</td>\n",
       "      <td>107.00%</td>\n",
       "      <td>55.00%</td>\n",
       "      <td>7.8</td>\n",
       "      <td>78.5</td>\n",
       "      <td>$1.12</td>\n",
       "      <td>56.90%</td>\n",
       "      <td>55.70%</td>\n",
       "      <td>12.33%</td>\n",
       "      <td>1,747,593</td>\n",
       "    </tr>\n",
       "    <tr>\n",
       "      <th>2</th>\n",
       "      <td>Algeria</td>\n",
       "      <td>317,000</td>\n",
       "      <td>24.28</td>\n",
       "      <td>150,006</td>\n",
       "      <td>3.02</td>\n",
       "      <td>$0.28</td>\n",
       "      <td>109.90%</td>\n",
       "      <td>51.40%</td>\n",
       "      <td>20.1</td>\n",
       "      <td>76.7</td>\n",
       "      <td>$0.95</td>\n",
       "      <td>28.10%</td>\n",
       "      <td>41.20%</td>\n",
       "      <td>11.70%</td>\n",
       "      <td>31,510,100</td>\n",
       "    </tr>\n",
       "    <tr>\n",
       "      <th>3</th>\n",
       "      <td>Andorra</td>\n",
       "      <td>NaN</td>\n",
       "      <td>7.20</td>\n",
       "      <td>469</td>\n",
       "      <td>1.27</td>\n",
       "      <td>$1.51</td>\n",
       "      <td>106.40%</td>\n",
       "      <td>NaN</td>\n",
       "      <td>2.7</td>\n",
       "      <td>NaN</td>\n",
       "      <td>$6.63</td>\n",
       "      <td>36.40%</td>\n",
       "      <td>NaN</td>\n",
       "      <td>NaN</td>\n",
       "      <td>67,873</td>\n",
       "    </tr>\n",
       "    <tr>\n",
       "      <th>4</th>\n",
       "      <td>Angola</td>\n",
       "      <td>117,000</td>\n",
       "      <td>40.73</td>\n",
       "      <td>34,693</td>\n",
       "      <td>5.52</td>\n",
       "      <td>$0.97</td>\n",
       "      <td>113.50%</td>\n",
       "      <td>9.30%</td>\n",
       "      <td>51.6</td>\n",
       "      <td>60.8</td>\n",
       "      <td>$0.71</td>\n",
       "      <td>33.40%</td>\n",
       "      <td>77.50%</td>\n",
       "      <td>6.89%</td>\n",
       "      <td>21,061,025</td>\n",
       "    </tr>\n",
       "    <tr>\n",
       "      <th>...</th>\n",
       "      <td>...</td>\n",
       "      <td>...</td>\n",
       "      <td>...</td>\n",
       "      <td>...</td>\n",
       "      <td>...</td>\n",
       "      <td>...</td>\n",
       "      <td>...</td>\n",
       "      <td>...</td>\n",
       "      <td>...</td>\n",
       "      <td>...</td>\n",
       "      <td>...</td>\n",
       "      <td>...</td>\n",
       "      <td>...</td>\n",
       "      <td>...</td>\n",
       "      <td>...</td>\n",
       "    </tr>\n",
       "    <tr>\n",
       "      <th>190</th>\n",
       "      <td>Venezuela</td>\n",
       "      <td>343,000</td>\n",
       "      <td>17.88</td>\n",
       "      <td>164,175</td>\n",
       "      <td>2.27</td>\n",
       "      <td>$0.00</td>\n",
       "      <td>97.20%</td>\n",
       "      <td>79.30%</td>\n",
       "      <td>21.4</td>\n",
       "      <td>72.1</td>\n",
       "      <td>$0.01</td>\n",
       "      <td>45.80%</td>\n",
       "      <td>59.70%</td>\n",
       "      <td>8.80%</td>\n",
       "      <td>25,162,368</td>\n",
       "    </tr>\n",
       "    <tr>\n",
       "      <th>191</th>\n",
       "      <td>Vietnam</td>\n",
       "      <td>522,000</td>\n",
       "      <td>16.75</td>\n",
       "      <td>192,668</td>\n",
       "      <td>2.05</td>\n",
       "      <td>$0.80</td>\n",
       "      <td>110.60%</td>\n",
       "      <td>28.50%</td>\n",
       "      <td>16.5</td>\n",
       "      <td>75.3</td>\n",
       "      <td>$0.73</td>\n",
       "      <td>43.50%</td>\n",
       "      <td>77.40%</td>\n",
       "      <td>2.01%</td>\n",
       "      <td>35,332,140</td>\n",
       "    </tr>\n",
       "    <tr>\n",
       "      <th>192</th>\n",
       "      <td>Yemen</td>\n",
       "      <td>40,000</td>\n",
       "      <td>30.45</td>\n",
       "      <td>10,609</td>\n",
       "      <td>3.79</td>\n",
       "      <td>$0.92</td>\n",
       "      <td>93.60%</td>\n",
       "      <td>10.20%</td>\n",
       "      <td>42.9</td>\n",
       "      <td>66.1</td>\n",
       "      <td>NaN</td>\n",
       "      <td>81.00%</td>\n",
       "      <td>38.00%</td>\n",
       "      <td>12.91%</td>\n",
       "      <td>10,869,523</td>\n",
       "    </tr>\n",
       "    <tr>\n",
       "      <th>193</th>\n",
       "      <td>Zambia</td>\n",
       "      <td>16,000</td>\n",
       "      <td>36.19</td>\n",
       "      <td>5,141</td>\n",
       "      <td>4.63</td>\n",
       "      <td>$1.40</td>\n",
       "      <td>98.70%</td>\n",
       "      <td>4.10%</td>\n",
       "      <td>40.4</td>\n",
       "      <td>63.5</td>\n",
       "      <td>$0.24</td>\n",
       "      <td>27.50%</td>\n",
       "      <td>74.60%</td>\n",
       "      <td>11.43%</td>\n",
       "      <td>7,871,713</td>\n",
       "    </tr>\n",
       "    <tr>\n",
       "      <th>194</th>\n",
       "      <td>Zimbabwe</td>\n",
       "      <td>51,000</td>\n",
       "      <td>30.68</td>\n",
       "      <td>10,983</td>\n",
       "      <td>3.62</td>\n",
       "      <td>$1.34</td>\n",
       "      <td>109.90%</td>\n",
       "      <td>10.00%</td>\n",
       "      <td>33.9</td>\n",
       "      <td>61.2</td>\n",
       "      <td>NaN</td>\n",
       "      <td>25.80%</td>\n",
       "      <td>83.10%</td>\n",
       "      <td>4.95%</td>\n",
       "      <td>4,717,305</td>\n",
       "    </tr>\n",
       "  </tbody>\n",
       "</table>\n",
       "<p>195 rows × 15 columns</p>\n",
       "</div>"
      ],
      "text/plain": [
       "         Country Armed Forces size  Birth Rate Co2-Emissions  Fertility Rate  \\\n",
       "0    Afghanistan           323,000       32.49         8,672            4.47   \n",
       "1        Albania             9,000       11.78         4,536            1.62   \n",
       "2        Algeria           317,000       24.28       150,006            3.02   \n",
       "3        Andorra               NaN        7.20           469            1.27   \n",
       "4         Angola           117,000       40.73        34,693            5.52   \n",
       "..           ...               ...         ...           ...             ...   \n",
       "190    Venezuela           343,000       17.88       164,175            2.27   \n",
       "191      Vietnam           522,000       16.75       192,668            2.05   \n",
       "192        Yemen            40,000       30.45        10,609            3.79   \n",
       "193       Zambia            16,000       36.19         5,141            4.63   \n",
       "194     Zimbabwe            51,000       30.68        10,983            3.62   \n",
       "\n",
       "    Gasoline Price Gross primary education enrollment (%)  \\\n",
       "0           $0.70                                 104.00%   \n",
       "1           $1.36                                 107.00%   \n",
       "2           $0.28                                 109.90%   \n",
       "3           $1.51                                 106.40%   \n",
       "4           $0.97                                 113.50%   \n",
       "..             ...                                    ...   \n",
       "190         $0.00                                  97.20%   \n",
       "191         $0.80                                 110.60%   \n",
       "192         $0.92                                  93.60%   \n",
       "193         $1.40                                  98.70%   \n",
       "194         $1.34                                 109.90%   \n",
       "\n",
       "    Gross tertiary education enrollment (%)  Infant mortality  \\\n",
       "0                                     9.70%              47.9   \n",
       "1                                    55.00%               7.8   \n",
       "2                                    51.40%              20.1   \n",
       "3                                       NaN               2.7   \n",
       "4                                     9.30%              51.6   \n",
       "..                                      ...               ...   \n",
       "190                                  79.30%              21.4   \n",
       "191                                  28.50%              16.5   \n",
       "192                                  10.20%              42.9   \n",
       "193                                   4.10%              40.4   \n",
       "194                                  10.00%              33.9   \n",
       "\n",
       "     Life expectancy Minimum wage Out of pocket health expenditure  \\\n",
       "0               64.5       $0.43                            78.40%   \n",
       "1               78.5       $1.12                            56.90%   \n",
       "2               76.7       $0.95                            28.10%   \n",
       "3                NaN       $6.63                            36.40%   \n",
       "4               60.8       $0.71                            33.40%   \n",
       "..               ...          ...                              ...   \n",
       "190             72.1       $0.01                            45.80%   \n",
       "191             75.3       $0.73                            43.50%   \n",
       "192             66.1          NaN                           81.00%   \n",
       "193             63.5       $0.24                            27.50%   \n",
       "194             61.2          NaN                           25.80%   \n",
       "\n",
       "    Population: Labor force participation (%) Unemployment rate  \\\n",
       "0                                      48.90%            11.12%   \n",
       "1                                      55.70%            12.33%   \n",
       "2                                      41.20%            11.70%   \n",
       "3                                         NaN               NaN   \n",
       "4                                      77.50%             6.89%   \n",
       "..                                        ...               ...   \n",
       "190                                    59.70%             8.80%   \n",
       "191                                    77.40%             2.01%   \n",
       "192                                    38.00%            12.91%   \n",
       "193                                    74.60%            11.43%   \n",
       "194                                    83.10%             4.95%   \n",
       "\n",
       "    Urban_population  \n",
       "0          9,797,273  \n",
       "1          1,747,593  \n",
       "2         31,510,100  \n",
       "3             67,873  \n",
       "4         21,061,025  \n",
       "..               ...  \n",
       "190       25,162,368  \n",
       "191       35,332,140  \n",
       "192       10,869,523  \n",
       "193        7,871,713  \n",
       "194        4,717,305  \n",
       "\n",
       "[195 rows x 15 columns]"
      ]
     },
     "execution_count": 91,
     "metadata": {},
     "output_type": "execute_result"
    },
    {
     "name": "stdout",
     "output_type": "stream",
     "text": [
      "In [91] used 0.0 MiB RAM in 0.14s (system mean cpu 29%, single max cpu 100%), peaked 0.0 MiB above final usage, current RAM usage now 876.1 MiB\n"
     ]
    }
   ],
   "source": [
    "df_world"
   ]
  },
  {
   "cell_type": "code",
   "execution_count": 92,
   "metadata": {},
   "outputs": [
    {
     "data": {
      "text/plain": [
       "Name                         23834\n",
       "Sex                              2\n",
       "Age                              7\n",
       "Height                          16\n",
       "Weight                          10\n",
       "Team                           262\n",
       "NOC                            209\n",
       "Games                            6\n",
       "Year                             6\n",
       "City                             6\n",
       "Sport                           54\n",
       "Event                          635\n",
       "Medal                            2\n",
       "Population                     209\n",
       "PIB/habitant                   209\n",
       "Country                        207\n",
       "Host_country                     6\n",
       "Participation_own_country        2\n",
       "Soviet_past                      2\n",
       "Sport_3x3 Basketball             2\n",
       "dtype: int64"
      ]
     },
     "execution_count": 92,
     "metadata": {},
     "output_type": "execute_result"
    },
    {
     "name": "stdout",
     "output_type": "stream",
     "text": [
      "In [92] used 1.0 MiB RAM in 0.19s (system mean cpu 24%, single max cpu 100%), peaked 0.0 MiB above final usage, current RAM usage now 877.2 MiB\n"
     ]
    }
   ],
   "source": [
    "df_complete.nunique().head(20)"
   ]
  },
  {
   "cell_type": "code",
   "execution_count": 93,
   "metadata": {},
   "outputs": [
    {
     "data": {
      "text/plain": [
       "NOC\n",
       "USA    1675\n",
       "CHN    1309\n",
       "RUS    1299\n",
       "AUS    1242\n",
       "GER    1225\n",
       "       ... \n",
       "BRU      10\n",
       "TLS       9\n",
       "TUV       8\n",
       "SSD       4\n",
       "LBN       1\n",
       "Name: count, Length: 209, dtype: int64"
      ]
     },
     "execution_count": 93,
     "metadata": {},
     "output_type": "execute_result"
    },
    {
     "name": "stdout",
     "output_type": "stream",
     "text": [
      "In [93] used 0.1 MiB RAM in 0.11s (system mean cpu 20%, single max cpu 100%), peaked 0.0 MiB above final usage, current RAM usage now 877.2 MiB\n"
     ]
    }
   ],
   "source": [
    "df_complete['NOC'].value_counts()"
   ]
  },
  {
   "cell_type": "code",
   "execution_count": 94,
   "metadata": {},
   "outputs": [
    {
     "data": {
      "text/plain": [
       "Country                                       0\n",
       "Armed Forces size                            24\n",
       "Birth Rate                                    6\n",
       "Co2-Emissions                                 7\n",
       "Fertility Rate                                7\n",
       "Gasoline Price                               20\n",
       "Gross primary education enrollment (%)        7\n",
       "Gross tertiary education enrollment (%)      12\n",
       "Infant mortality                              6\n",
       "Life expectancy                               8\n",
       "Minimum wage                                 45\n",
       "Out of pocket health expenditure              7\n",
       "Population: Labor force participation (%)    19\n",
       "Unemployment rate                            19\n",
       "Urban_population                              5\n",
       "dtype: int64"
      ]
     },
     "execution_count": 94,
     "metadata": {},
     "output_type": "execute_result"
    },
    {
     "name": "stdout",
     "output_type": "stream",
     "text": [
      "In [94] used 0.0 MiB RAM in 0.11s (system mean cpu 30%, single max cpu 100%), peaked 0.0 MiB above final usage, current RAM usage now 877.2 MiB\n"
     ]
    }
   ],
   "source": [
    "df_world.isna().sum()"
   ]
  },
  {
   "cell_type": "code",
   "execution_count": 95,
   "metadata": {},
   "outputs": [
    {
     "name": "stdout",
     "output_type": "stream",
     "text": [
      "In [95] used 0.0 MiB RAM in 0.10s (system mean cpu 26%, single max cpu 100%), peaked 0.0 MiB above final usage, current RAM usage now 877.3 MiB\n"
     ]
    }
   ],
   "source": [
    "#df_test=pd.merge(df_complete,df_world,on='Country',how='left')"
   ]
  },
  {
   "cell_type": "code",
   "execution_count": null,
   "metadata": {},
   "outputs": [],
   "source": []
  },
  {
   "cell_type": "markdown",
   "metadata": {},
   "source": [
    "## Code à rajouter dans le main"
   ]
  },
  {
   "cell_type": "markdown",
   "metadata": {},
   "source": [
    "## On va chercher les GDP des pays de l'API wolrd Bank depuis tah l'époque"
   ]
  },
  {
   "cell_type": "code",
   "execution_count": 96,
   "metadata": {},
   "outputs": [
    {
     "name": "stdout",
     "output_type": "stream",
     "text": [
      "In [96] used -92.0 MiB RAM in 0.10s (system mean cpu 25%, single max cpu 100%), peaked 92.0 MiB above final usage, current RAM usage now 785.3 MiB\n"
     ]
    }
   ],
   "source": [
    "#pip install wbgapi"
   ]
  },
  {
   "cell_type": "code",
   "execution_count": 97,
   "metadata": {},
   "outputs": [
    {
     "name": "stdout",
     "output_type": "stream",
     "text": [
      "In [97] used -223.2 MiB RAM in 0.20s (system mean cpu 23%, single max cpu 100%), peaked 148.5 MiB above final usage, current RAM usage now 562.1 MiB\n"
     ]
    }
   ],
   "source": [
    "import wbgapi as wb "
   ]
  },
  {
   "cell_type": "code",
   "execution_count": 98,
   "metadata": {},
   "outputs": [
    {
     "name": "stdout",
     "output_type": "stream",
     "text": [
      "In [98] used -31.6 MiB RAM in 0.49s (system mean cpu 15%, single max cpu 100%), peaked 31.6 MiB above final usage, current RAM usage now 530.5 MiB\n"
     ]
    }
   ],
   "source": [
    "s=wb.search('GDP current') "
   ]
  },
  {
   "cell_type": "code",
   "execution_count": 99,
   "metadata": {},
   "outputs": [
    {
     "name": "stdout",
     "output_type": "stream",
     "text": [
      "In [99] used -351.0 MiB RAM in 7.72s (system mean cpu 15%, single max cpu 100%), peaked 351.5 MiB above final usage, current RAM usage now 179.5 MiB\n"
     ]
    }
   ],
   "source": [
    "gdp=wb.data.DataFrame('NY.GDP.MKTP.CD').transpose()"
   ]
  },
  {
   "cell_type": "code",
   "execution_count": 100,
   "metadata": {},
   "outputs": [
    {
     "name": "stdout",
     "output_type": "stream",
     "text": [
      "In [100] used 0.4 MiB RAM in 0.10s (system mean cpu 7%, single max cpu 100%), peaked 0.0 MiB above final usage, current RAM usage now 179.9 MiB\n"
     ]
    }
   ],
   "source": [
    "df_gdp=pd.DataFrame(gdp)"
   ]
  },
  {
   "cell_type": "code",
   "execution_count": 101,
   "metadata": {},
   "outputs": [
    {
     "name": "stdout",
     "output_type": "stream",
     "text": [
      "In [101] used 0.1 MiB RAM in 0.11s (system mean cpu 11%, single max cpu 100%), peaked 0.0 MiB above final usage, current RAM usage now 180.1 MiB\n"
     ]
    }
   ],
   "source": [
    "df_gdp = df_gdp.transpose()\n",
    "df_gdp .columns = [col.strip('YR') for col in df_gdp.columns]\n",
    "#df_gdp = df_gdp.transpose()"
   ]
  },
  {
   "cell_type": "code",
   "execution_count": 102,
   "metadata": {},
   "outputs": [
    {
     "name": "stdout",
     "output_type": "stream",
     "text": [
      "In [102] used 0.0 MiB RAM in 0.11s (system mean cpu 10%, single max cpu 100%), peaked 0.0 MiB above final usage, current RAM usage now 180.1 MiB\n"
     ]
    }
   ],
   "source": [
    "## Faut transformer cette base de données "
   ]
  },
  {
   "cell_type": "code",
   "execution_count": 103,
   "metadata": {},
   "outputs": [
    {
     "name": "stdout",
     "output_type": "stream",
     "text": [
      "In [103] used 0.0 MiB RAM in 0.11s (system mean cpu 9%, single max cpu 100%), peaked 0.0 MiB above final usage, current RAM usage now 180.1 MiB\n"
     ]
    }
   ],
   "source": [
    "df_gdp=df_gdp.reset_index(names='NOC')"
   ]
  },
  {
   "cell_type": "code",
   "execution_count": 104,
   "metadata": {},
   "outputs": [
    {
     "data": {
      "text/html": [
       "<div>\n",
       "<style scoped>\n",
       "    .dataframe tbody tr th:only-of-type {\n",
       "        vertical-align: middle;\n",
       "    }\n",
       "\n",
       "    .dataframe tbody tr th {\n",
       "        vertical-align: top;\n",
       "    }\n",
       "\n",
       "    .dataframe thead th {\n",
       "        text-align: right;\n",
       "    }\n",
       "</style>\n",
       "<table border=\"1\" class=\"dataframe\">\n",
       "  <thead>\n",
       "    <tr style=\"text-align: right;\">\n",
       "      <th></th>\n",
       "      <th>NOC</th>\n",
       "      <th>1960</th>\n",
       "      <th>1961</th>\n",
       "      <th>1962</th>\n",
       "      <th>1963</th>\n",
       "      <th>1964</th>\n",
       "      <th>1965</th>\n",
       "      <th>1966</th>\n",
       "      <th>1967</th>\n",
       "      <th>1968</th>\n",
       "      <th>...</th>\n",
       "      <th>2014</th>\n",
       "      <th>2015</th>\n",
       "      <th>2016</th>\n",
       "      <th>2017</th>\n",
       "      <th>2018</th>\n",
       "      <th>2019</th>\n",
       "      <th>2020</th>\n",
       "      <th>2021</th>\n",
       "      <th>2022</th>\n",
       "      <th>2023</th>\n",
       "    </tr>\n",
       "  </thead>\n",
       "  <tbody>\n",
       "    <tr>\n",
       "      <th>0</th>\n",
       "      <td>ABW</td>\n",
       "      <td>NaN</td>\n",
       "      <td>NaN</td>\n",
       "      <td>NaN</td>\n",
       "      <td>NaN</td>\n",
       "      <td>NaN</td>\n",
       "      <td>NaN</td>\n",
       "      <td>NaN</td>\n",
       "      <td>NaN</td>\n",
       "      <td>NaN</td>\n",
       "      <td>...</td>\n",
       "      <td>2.790850e+09</td>\n",
       "      <td>2.962907e+09</td>\n",
       "      <td>2.983635e+09</td>\n",
       "      <td>3.092429e+09</td>\n",
       "      <td>3.276184e+09</td>\n",
       "      <td>3.395799e+09</td>\n",
       "      <td>2.558906e+09</td>\n",
       "      <td>3.103184e+09</td>\n",
       "      <td>3.544708e+09</td>\n",
       "      <td>NaN</td>\n",
       "    </tr>\n",
       "    <tr>\n",
       "      <th>1</th>\n",
       "      <td>AFE</td>\n",
       "      <td>1.847810e+10</td>\n",
       "      <td>1.936631e+10</td>\n",
       "      <td>2.050647e+10</td>\n",
       "      <td>2.224273e+10</td>\n",
       "      <td>2.429433e+10</td>\n",
       "      <td>2.661956e+10</td>\n",
       "      <td>2.873279e+10</td>\n",
       "      <td>3.159296e+10</td>\n",
       "      <td>3.421651e+10</td>\n",
       "      <td>...</td>\n",
       "      <td>1.006992e+12</td>\n",
       "      <td>9.325135e+11</td>\n",
       "      <td>8.900514e+11</td>\n",
       "      <td>1.028394e+12</td>\n",
       "      <td>1.012521e+12</td>\n",
       "      <td>1.006191e+12</td>\n",
       "      <td>9.288802e+11</td>\n",
       "      <td>1.086531e+12</td>\n",
       "      <td>1.185138e+12</td>\n",
       "      <td>NaN</td>\n",
       "    </tr>\n",
       "    <tr>\n",
       "      <th>2</th>\n",
       "      <td>AFG</td>\n",
       "      <td>5.377778e+08</td>\n",
       "      <td>5.488889e+08</td>\n",
       "      <td>5.466667e+08</td>\n",
       "      <td>7.511112e+08</td>\n",
       "      <td>8.000000e+08</td>\n",
       "      <td>1.006667e+09</td>\n",
       "      <td>1.400000e+09</td>\n",
       "      <td>1.673333e+09</td>\n",
       "      <td>1.373333e+09</td>\n",
       "      <td>...</td>\n",
       "      <td>2.049713e+10</td>\n",
       "      <td>1.913422e+10</td>\n",
       "      <td>1.811657e+10</td>\n",
       "      <td>1.875346e+10</td>\n",
       "      <td>1.805322e+10</td>\n",
       "      <td>1.879944e+10</td>\n",
       "      <td>1.995593e+10</td>\n",
       "      <td>1.426650e+10</td>\n",
       "      <td>NaN</td>\n",
       "      <td>NaN</td>\n",
       "    </tr>\n",
       "    <tr>\n",
       "      <th>3</th>\n",
       "      <td>AFW</td>\n",
       "      <td>1.041165e+10</td>\n",
       "      <td>1.113592e+10</td>\n",
       "      <td>1.195171e+10</td>\n",
       "      <td>1.268581e+10</td>\n",
       "      <td>1.384900e+10</td>\n",
       "      <td>1.487476e+10</td>\n",
       "      <td>1.584558e+10</td>\n",
       "      <td>1.442849e+10</td>\n",
       "      <td>1.488050e+10</td>\n",
       "      <td>...</td>\n",
       "      <td>8.945050e+11</td>\n",
       "      <td>7.692632e+11</td>\n",
       "      <td>6.921149e+11</td>\n",
       "      <td>6.856303e+11</td>\n",
       "      <td>7.681582e+11</td>\n",
       "      <td>8.234056e+11</td>\n",
       "      <td>7.869624e+11</td>\n",
       "      <td>8.449275e+11</td>\n",
       "      <td>8.753937e+11</td>\n",
       "      <td>NaN</td>\n",
       "    </tr>\n",
       "    <tr>\n",
       "      <th>4</th>\n",
       "      <td>AGO</td>\n",
       "      <td>NaN</td>\n",
       "      <td>NaN</td>\n",
       "      <td>NaN</td>\n",
       "      <td>NaN</td>\n",
       "      <td>NaN</td>\n",
       "      <td>NaN</td>\n",
       "      <td>NaN</td>\n",
       "      <td>NaN</td>\n",
       "      <td>NaN</td>\n",
       "      <td>...</td>\n",
       "      <td>1.359668e+11</td>\n",
       "      <td>9.049642e+10</td>\n",
       "      <td>5.276162e+10</td>\n",
       "      <td>7.369016e+10</td>\n",
       "      <td>7.945069e+10</td>\n",
       "      <td>7.089796e+10</td>\n",
       "      <td>4.850156e+10</td>\n",
       "      <td>6.650513e+10</td>\n",
       "      <td>1.067828e+11</td>\n",
       "      <td>NaN</td>\n",
       "    </tr>\n",
       "    <tr>\n",
       "      <th>...</th>\n",
       "      <td>...</td>\n",
       "      <td>...</td>\n",
       "      <td>...</td>\n",
       "      <td>...</td>\n",
       "      <td>...</td>\n",
       "      <td>...</td>\n",
       "      <td>...</td>\n",
       "      <td>...</td>\n",
       "      <td>...</td>\n",
       "      <td>...</td>\n",
       "      <td>...</td>\n",
       "      <td>...</td>\n",
       "      <td>...</td>\n",
       "      <td>...</td>\n",
       "      <td>...</td>\n",
       "      <td>...</td>\n",
       "      <td>...</td>\n",
       "      <td>...</td>\n",
       "      <td>...</td>\n",
       "      <td>...</td>\n",
       "      <td>...</td>\n",
       "    </tr>\n",
       "    <tr>\n",
       "      <th>261</th>\n",
       "      <td>XKX</td>\n",
       "      <td>NaN</td>\n",
       "      <td>NaN</td>\n",
       "      <td>NaN</td>\n",
       "      <td>NaN</td>\n",
       "      <td>NaN</td>\n",
       "      <td>NaN</td>\n",
       "      <td>NaN</td>\n",
       "      <td>NaN</td>\n",
       "      <td>NaN</td>\n",
       "      <td>...</td>\n",
       "      <td>7.074395e+09</td>\n",
       "      <td>6.295848e+09</td>\n",
       "      <td>6.682677e+09</td>\n",
       "      <td>7.180765e+09</td>\n",
       "      <td>7.878760e+09</td>\n",
       "      <td>7.899738e+09</td>\n",
       "      <td>7.717145e+09</td>\n",
       "      <td>9.412034e+09</td>\n",
       "      <td>9.409474e+09</td>\n",
       "      <td>NaN</td>\n",
       "    </tr>\n",
       "    <tr>\n",
       "      <th>262</th>\n",
       "      <td>YEM</td>\n",
       "      <td>NaN</td>\n",
       "      <td>NaN</td>\n",
       "      <td>NaN</td>\n",
       "      <td>NaN</td>\n",
       "      <td>NaN</td>\n",
       "      <td>NaN</td>\n",
       "      <td>NaN</td>\n",
       "      <td>NaN</td>\n",
       "      <td>NaN</td>\n",
       "      <td>...</td>\n",
       "      <td>4.322859e+10</td>\n",
       "      <td>4.244449e+10</td>\n",
       "      <td>3.131782e+10</td>\n",
       "      <td>2.684223e+10</td>\n",
       "      <td>2.160616e+10</td>\n",
       "      <td>NaN</td>\n",
       "      <td>NaN</td>\n",
       "      <td>NaN</td>\n",
       "      <td>NaN</td>\n",
       "      <td>NaN</td>\n",
       "    </tr>\n",
       "    <tr>\n",
       "      <th>263</th>\n",
       "      <td>ZAF</td>\n",
       "      <td>8.748597e+09</td>\n",
       "      <td>9.225996e+09</td>\n",
       "      <td>9.813996e+09</td>\n",
       "      <td>1.085420e+10</td>\n",
       "      <td>1.195600e+10</td>\n",
       "      <td>1.306899e+10</td>\n",
       "      <td>1.421139e+10</td>\n",
       "      <td>1.582139e+10</td>\n",
       "      <td>1.712479e+10</td>\n",
       "      <td>...</td>\n",
       "      <td>3.811989e+11</td>\n",
       "      <td>3.467098e+11</td>\n",
       "      <td>3.235855e+11</td>\n",
       "      <td>3.814488e+11</td>\n",
       "      <td>4.052607e+11</td>\n",
       "      <td>3.893300e+11</td>\n",
       "      <td>3.382914e+11</td>\n",
       "      <td>4.201178e+11</td>\n",
       "      <td>4.052709e+11</td>\n",
       "      <td>NaN</td>\n",
       "    </tr>\n",
       "    <tr>\n",
       "      <th>264</th>\n",
       "      <td>ZMB</td>\n",
       "      <td>7.130000e+08</td>\n",
       "      <td>6.962857e+08</td>\n",
       "      <td>6.931429e+08</td>\n",
       "      <td>7.187143e+08</td>\n",
       "      <td>8.394286e+08</td>\n",
       "      <td>1.082857e+09</td>\n",
       "      <td>1.264286e+09</td>\n",
       "      <td>1.368000e+09</td>\n",
       "      <td>1.605857e+09</td>\n",
       "      <td>...</td>\n",
       "      <td>2.714102e+10</td>\n",
       "      <td>2.125122e+10</td>\n",
       "      <td>2.095841e+10</td>\n",
       "      <td>2.587360e+10</td>\n",
       "      <td>2.631151e+10</td>\n",
       "      <td>2.330867e+10</td>\n",
       "      <td>1.811064e+10</td>\n",
       "      <td>2.209642e+10</td>\n",
       "      <td>2.916378e+10</td>\n",
       "      <td>NaN</td>\n",
       "    </tr>\n",
       "    <tr>\n",
       "      <th>265</th>\n",
       "      <td>ZWE</td>\n",
       "      <td>1.052990e+09</td>\n",
       "      <td>1.096647e+09</td>\n",
       "      <td>1.117602e+09</td>\n",
       "      <td>1.159512e+09</td>\n",
       "      <td>1.217138e+09</td>\n",
       "      <td>1.311436e+09</td>\n",
       "      <td>1.281750e+09</td>\n",
       "      <td>1.397002e+09</td>\n",
       "      <td>1.479600e+09</td>\n",
       "      <td>...</td>\n",
       "      <td>1.949552e+10</td>\n",
       "      <td>1.996312e+10</td>\n",
       "      <td>2.054868e+10</td>\n",
       "      <td>1.758489e+10</td>\n",
       "      <td>3.415607e+10</td>\n",
       "      <td>2.183223e+10</td>\n",
       "      <td>2.150970e+10</td>\n",
       "      <td>2.837124e+10</td>\n",
       "      <td>2.736663e+10</td>\n",
       "      <td>NaN</td>\n",
       "    </tr>\n",
       "  </tbody>\n",
       "</table>\n",
       "<p>266 rows × 65 columns</p>\n",
       "</div>"
      ],
      "text/plain": [
       "     NOC          1960          1961          1962          1963  \\\n",
       "0    ABW           NaN           NaN           NaN           NaN   \n",
       "1    AFE  1.847810e+10  1.936631e+10  2.050647e+10  2.224273e+10   \n",
       "2    AFG  5.377778e+08  5.488889e+08  5.466667e+08  7.511112e+08   \n",
       "3    AFW  1.041165e+10  1.113592e+10  1.195171e+10  1.268581e+10   \n",
       "4    AGO           NaN           NaN           NaN           NaN   \n",
       "..   ...           ...           ...           ...           ...   \n",
       "261  XKX           NaN           NaN           NaN           NaN   \n",
       "262  YEM           NaN           NaN           NaN           NaN   \n",
       "263  ZAF  8.748597e+09  9.225996e+09  9.813996e+09  1.085420e+10   \n",
       "264  ZMB  7.130000e+08  6.962857e+08  6.931429e+08  7.187143e+08   \n",
       "265  ZWE  1.052990e+09  1.096647e+09  1.117602e+09  1.159512e+09   \n",
       "\n",
       "             1964          1965          1966          1967          1968  \\\n",
       "0             NaN           NaN           NaN           NaN           NaN   \n",
       "1    2.429433e+10  2.661956e+10  2.873279e+10  3.159296e+10  3.421651e+10   \n",
       "2    8.000000e+08  1.006667e+09  1.400000e+09  1.673333e+09  1.373333e+09   \n",
       "3    1.384900e+10  1.487476e+10  1.584558e+10  1.442849e+10  1.488050e+10   \n",
       "4             NaN           NaN           NaN           NaN           NaN   \n",
       "..            ...           ...           ...           ...           ...   \n",
       "261           NaN           NaN           NaN           NaN           NaN   \n",
       "262           NaN           NaN           NaN           NaN           NaN   \n",
       "263  1.195600e+10  1.306899e+10  1.421139e+10  1.582139e+10  1.712479e+10   \n",
       "264  8.394286e+08  1.082857e+09  1.264286e+09  1.368000e+09  1.605857e+09   \n",
       "265  1.217138e+09  1.311436e+09  1.281750e+09  1.397002e+09  1.479600e+09   \n",
       "\n",
       "     ...          2014          2015          2016          2017  \\\n",
       "0    ...  2.790850e+09  2.962907e+09  2.983635e+09  3.092429e+09   \n",
       "1    ...  1.006992e+12  9.325135e+11  8.900514e+11  1.028394e+12   \n",
       "2    ...  2.049713e+10  1.913422e+10  1.811657e+10  1.875346e+10   \n",
       "3    ...  8.945050e+11  7.692632e+11  6.921149e+11  6.856303e+11   \n",
       "4    ...  1.359668e+11  9.049642e+10  5.276162e+10  7.369016e+10   \n",
       "..   ...           ...           ...           ...           ...   \n",
       "261  ...  7.074395e+09  6.295848e+09  6.682677e+09  7.180765e+09   \n",
       "262  ...  4.322859e+10  4.244449e+10  3.131782e+10  2.684223e+10   \n",
       "263  ...  3.811989e+11  3.467098e+11  3.235855e+11  3.814488e+11   \n",
       "264  ...  2.714102e+10  2.125122e+10  2.095841e+10  2.587360e+10   \n",
       "265  ...  1.949552e+10  1.996312e+10  2.054868e+10  1.758489e+10   \n",
       "\n",
       "             2018          2019          2020          2021          2022  \\\n",
       "0    3.276184e+09  3.395799e+09  2.558906e+09  3.103184e+09  3.544708e+09   \n",
       "1    1.012521e+12  1.006191e+12  9.288802e+11  1.086531e+12  1.185138e+12   \n",
       "2    1.805322e+10  1.879944e+10  1.995593e+10  1.426650e+10           NaN   \n",
       "3    7.681582e+11  8.234056e+11  7.869624e+11  8.449275e+11  8.753937e+11   \n",
       "4    7.945069e+10  7.089796e+10  4.850156e+10  6.650513e+10  1.067828e+11   \n",
       "..            ...           ...           ...           ...           ...   \n",
       "261  7.878760e+09  7.899738e+09  7.717145e+09  9.412034e+09  9.409474e+09   \n",
       "262  2.160616e+10           NaN           NaN           NaN           NaN   \n",
       "263  4.052607e+11  3.893300e+11  3.382914e+11  4.201178e+11  4.052709e+11   \n",
       "264  2.631151e+10  2.330867e+10  1.811064e+10  2.209642e+10  2.916378e+10   \n",
       "265  3.415607e+10  2.183223e+10  2.150970e+10  2.837124e+10  2.736663e+10   \n",
       "\n",
       "     2023  \n",
       "0     NaN  \n",
       "1     NaN  \n",
       "2     NaN  \n",
       "3     NaN  \n",
       "4     NaN  \n",
       "..    ...  \n",
       "261   NaN  \n",
       "262   NaN  \n",
       "263   NaN  \n",
       "264   NaN  \n",
       "265   NaN  \n",
       "\n",
       "[266 rows x 65 columns]"
      ]
     },
     "execution_count": 104,
     "metadata": {},
     "output_type": "execute_result"
    },
    {
     "name": "stdout",
     "output_type": "stream",
     "text": [
      "In [104] used 0.1 MiB RAM in 0.13s (system mean cpu 11%, single max cpu 100%), peaked 0.0 MiB above final usage, current RAM usage now 180.2 MiB\n"
     ]
    }
   ],
   "source": [
    "df_gdp"
   ]
  },
  {
   "cell_type": "code",
   "execution_count": 105,
   "metadata": {},
   "outputs": [
    {
     "name": "stdout",
     "output_type": "stream",
     "text": [
      "In [105] used 0.0 MiB RAM in 0.10s (system mean cpu 9%, single max cpu 100%), peaked 0.0 MiB above final usage, current RAM usage now 180.2 MiB\n"
     ]
    }
   ],
   "source": [
    "## à chercher fct melt "
   ]
  },
  {
   "cell_type": "code",
   "execution_count": 106,
   "metadata": {},
   "outputs": [
    {
     "name": "stdout",
     "output_type": "stream",
     "text": [
      "In [106] used -0.9 MiB RAM in 0.10s (system mean cpu 11%, single max cpu 100%), peaked 0.9 MiB above final usage, current RAM usage now 179.3 MiB\n"
     ]
    }
   ],
   "source": [
    "years_cols=[col for col in df_gdp.columns if col.isdigit()]"
   ]
  },
  {
   "cell_type": "code",
   "execution_count": 107,
   "metadata": {},
   "outputs": [
    {
     "name": "stdout",
     "output_type": "stream",
     "text": [
      "In [107] used 0.4 MiB RAM in 0.13s (system mean cpu 12%, single max cpu 100%), peaked 0.0 MiB above final usage, current RAM usage now 179.7 MiB\n"
     ]
    }
   ],
   "source": [
    "df_melted_gdp = pd.melt(df_gdp, id_vars=['NOC'], value_vars=years_cols, var_name='Year', value_name='GDP')\n",
    "\n",
    "# Convertir la colonne Year en type int\n",
    "df_melted_gdp['Year'] = df_melted_gdp['Year'].astype(int)"
   ]
  },
  {
   "cell_type": "code",
   "execution_count": 108,
   "metadata": {},
   "outputs": [
    {
     "data": {
      "text/html": [
       "<div>\n",
       "<style scoped>\n",
       "    .dataframe tbody tr th:only-of-type {\n",
       "        vertical-align: middle;\n",
       "    }\n",
       "\n",
       "    .dataframe tbody tr th {\n",
       "        vertical-align: top;\n",
       "    }\n",
       "\n",
       "    .dataframe thead th {\n",
       "        text-align: right;\n",
       "    }\n",
       "</style>\n",
       "<table border=\"1\" class=\"dataframe\">\n",
       "  <thead>\n",
       "    <tr style=\"text-align: right;\">\n",
       "      <th></th>\n",
       "      <th>NOC</th>\n",
       "      <th>Year</th>\n",
       "      <th>GDP</th>\n",
       "    </tr>\n",
       "  </thead>\n",
       "  <tbody>\n",
       "    <tr>\n",
       "      <th>0</th>\n",
       "      <td>ABW</td>\n",
       "      <td>1960</td>\n",
       "      <td>NaN</td>\n",
       "    </tr>\n",
       "    <tr>\n",
       "      <th>1</th>\n",
       "      <td>AFE</td>\n",
       "      <td>1960</td>\n",
       "      <td>1.847810e+10</td>\n",
       "    </tr>\n",
       "    <tr>\n",
       "      <th>2</th>\n",
       "      <td>AFG</td>\n",
       "      <td>1960</td>\n",
       "      <td>5.377778e+08</td>\n",
       "    </tr>\n",
       "    <tr>\n",
       "      <th>3</th>\n",
       "      <td>AFW</td>\n",
       "      <td>1960</td>\n",
       "      <td>1.041165e+10</td>\n",
       "    </tr>\n",
       "    <tr>\n",
       "      <th>4</th>\n",
       "      <td>AGO</td>\n",
       "      <td>1960</td>\n",
       "      <td>NaN</td>\n",
       "    </tr>\n",
       "    <tr>\n",
       "      <th>...</th>\n",
       "      <td>...</td>\n",
       "      <td>...</td>\n",
       "      <td>...</td>\n",
       "    </tr>\n",
       "    <tr>\n",
       "      <th>17019</th>\n",
       "      <td>XKX</td>\n",
       "      <td>2023</td>\n",
       "      <td>NaN</td>\n",
       "    </tr>\n",
       "    <tr>\n",
       "      <th>17020</th>\n",
       "      <td>YEM</td>\n",
       "      <td>2023</td>\n",
       "      <td>NaN</td>\n",
       "    </tr>\n",
       "    <tr>\n",
       "      <th>17021</th>\n",
       "      <td>ZAF</td>\n",
       "      <td>2023</td>\n",
       "      <td>NaN</td>\n",
       "    </tr>\n",
       "    <tr>\n",
       "      <th>17022</th>\n",
       "      <td>ZMB</td>\n",
       "      <td>2023</td>\n",
       "      <td>NaN</td>\n",
       "    </tr>\n",
       "    <tr>\n",
       "      <th>17023</th>\n",
       "      <td>ZWE</td>\n",
       "      <td>2023</td>\n",
       "      <td>NaN</td>\n",
       "    </tr>\n",
       "  </tbody>\n",
       "</table>\n",
       "<p>17024 rows × 3 columns</p>\n",
       "</div>"
      ],
      "text/plain": [
       "       NOC  Year           GDP\n",
       "0      ABW  1960           NaN\n",
       "1      AFE  1960  1.847810e+10\n",
       "2      AFG  1960  5.377778e+08\n",
       "3      AFW  1960  1.041165e+10\n",
       "4      AGO  1960           NaN\n",
       "...    ...   ...           ...\n",
       "17019  XKX  2023           NaN\n",
       "17020  YEM  2023           NaN\n",
       "17021  ZAF  2023           NaN\n",
       "17022  ZMB  2023           NaN\n",
       "17023  ZWE  2023           NaN\n",
       "\n",
       "[17024 rows x 3 columns]"
      ]
     },
     "execution_count": 108,
     "metadata": {},
     "output_type": "execute_result"
    },
    {
     "name": "stdout",
     "output_type": "stream",
     "text": [
      "In [108] used -0.5 MiB RAM in 0.12s (system mean cpu 13%, single max cpu 100%), peaked 0.5 MiB above final usage, current RAM usage now 179.1 MiB\n"
     ]
    }
   ],
   "source": [
    "df_melted_gdp"
   ]
  },
  {
   "cell_type": "markdown",
   "metadata": {},
   "source": [
    "## Merge avec base données dictionnary "
   ]
  },
  {
   "cell_type": "code",
   "execution_count": 109,
   "metadata": {},
   "outputs": [
    {
     "name": "stdout",
     "output_type": "stream",
     "text": [
      "In [109] used 0.0 MiB RAM in 0.11s (system mean cpu 10%, single max cpu 100%), peaked 0.0 MiB above final usage, current RAM usage now 179.2 MiB\n"
     ]
    }
   ],
   "source": [
    "df_dictionnary=df_dictionnary.drop('PIB/habitant',axis=1)\n",
    "df_dictionnary=df_dictionnary.drop('Population',axis=1)"
   ]
  },
  {
   "cell_type": "code",
   "execution_count": 110,
   "metadata": {},
   "outputs": [
    {
     "data": {
      "text/html": [
       "<div>\n",
       "<style scoped>\n",
       "    .dataframe tbody tr th:only-of-type {\n",
       "        vertical-align: middle;\n",
       "    }\n",
       "\n",
       "    .dataframe tbody tr th {\n",
       "        vertical-align: top;\n",
       "    }\n",
       "\n",
       "    .dataframe thead th {\n",
       "        text-align: right;\n",
       "    }\n",
       "</style>\n",
       "<table border=\"1\" class=\"dataframe\">\n",
       "  <thead>\n",
       "    <tr style=\"text-align: right;\">\n",
       "      <th></th>\n",
       "      <th>Country</th>\n",
       "      <th>NOC</th>\n",
       "    </tr>\n",
       "  </thead>\n",
       "  <tbody>\n",
       "    <tr>\n",
       "      <th>0</th>\n",
       "      <td>Afghanistan</td>\n",
       "      <td>AFG</td>\n",
       "    </tr>\n",
       "    <tr>\n",
       "      <th>1</th>\n",
       "      <td>Albania</td>\n",
       "      <td>ALB</td>\n",
       "    </tr>\n",
       "    <tr>\n",
       "      <th>2</th>\n",
       "      <td>Algeria</td>\n",
       "      <td>ALG</td>\n",
       "    </tr>\n",
       "    <tr>\n",
       "      <th>3</th>\n",
       "      <td>American Samoa</td>\n",
       "      <td>ASA</td>\n",
       "    </tr>\n",
       "    <tr>\n",
       "      <th>4</th>\n",
       "      <td>Andorra</td>\n",
       "      <td>AND</td>\n",
       "    </tr>\n",
       "    <tr>\n",
       "      <th>...</th>\n",
       "      <td>...</td>\n",
       "      <td>...</td>\n",
       "    </tr>\n",
       "    <tr>\n",
       "      <th>196</th>\n",
       "      <td>Vietnam</td>\n",
       "      <td>VIE</td>\n",
       "    </tr>\n",
       "    <tr>\n",
       "      <th>197</th>\n",
       "      <td>Virgin Islands</td>\n",
       "      <td>ISV</td>\n",
       "    </tr>\n",
       "    <tr>\n",
       "      <th>198</th>\n",
       "      <td>Yemen</td>\n",
       "      <td>YEM</td>\n",
       "    </tr>\n",
       "    <tr>\n",
       "      <th>199</th>\n",
       "      <td>Zambia</td>\n",
       "      <td>ZAM</td>\n",
       "    </tr>\n",
       "    <tr>\n",
       "      <th>200</th>\n",
       "      <td>Zimbabwe</td>\n",
       "      <td>ZIM</td>\n",
       "    </tr>\n",
       "  </tbody>\n",
       "</table>\n",
       "<p>201 rows × 2 columns</p>\n",
       "</div>"
      ],
      "text/plain": [
       "            Country  NOC\n",
       "0       Afghanistan  AFG\n",
       "1           Albania  ALB\n",
       "2           Algeria  ALG\n",
       "3    American Samoa  ASA\n",
       "4           Andorra  AND\n",
       "..              ...  ...\n",
       "196         Vietnam  VIE\n",
       "197  Virgin Islands  ISV\n",
       "198           Yemen  YEM\n",
       "199          Zambia  ZAM\n",
       "200        Zimbabwe  ZIM\n",
       "\n",
       "[201 rows x 2 columns]"
      ]
     },
     "execution_count": 110,
     "metadata": {},
     "output_type": "execute_result"
    },
    {
     "name": "stdout",
     "output_type": "stream",
     "text": [
      "In [110] used 0.0 MiB RAM in 0.12s (system mean cpu 8%, single max cpu 100%), peaked 0.0 MiB above final usage, current RAM usage now 179.2 MiB\n"
     ]
    }
   ],
   "source": [
    "df_dictionnary"
   ]
  },
  {
   "cell_type": "markdown",
   "metadata": {},
   "source": [
    "### base données utile pour alimenter en data notre modèle"
   ]
  },
  {
   "cell_type": "code",
   "execution_count": 111,
   "metadata": {},
   "outputs": [
    {
     "name": "stdout",
     "output_type": "stream",
     "text": [
      "In [111] used -0.1 MiB RAM in 0.12s (system mean cpu 13%, single max cpu 100%), peaked 0.1 MiB above final usage, current RAM usage now 179.1 MiB\n"
     ]
    }
   ],
   "source": [
    "df_hist_gdp=pd.merge(df_melted_gdp,df_dictionnary,on='NOC',how='left')"
   ]
  },
  {
   "cell_type": "code",
   "execution_count": 112,
   "metadata": {
    "scrolled": true
   },
   "outputs": [
    {
     "data": {
      "text/html": [
       "<div>\n",
       "<style scoped>\n",
       "    .dataframe tbody tr th:only-of-type {\n",
       "        vertical-align: middle;\n",
       "    }\n",
       "\n",
       "    .dataframe tbody tr th {\n",
       "        vertical-align: top;\n",
       "    }\n",
       "\n",
       "    .dataframe thead th {\n",
       "        text-align: right;\n",
       "    }\n",
       "</style>\n",
       "<table border=\"1\" class=\"dataframe\">\n",
       "  <thead>\n",
       "    <tr style=\"text-align: right;\">\n",
       "      <th></th>\n",
       "      <th>NOC</th>\n",
       "      <th>Year</th>\n",
       "      <th>GDP</th>\n",
       "      <th>Country</th>\n",
       "    </tr>\n",
       "  </thead>\n",
       "  <tbody>\n",
       "    <tr>\n",
       "      <th>0</th>\n",
       "      <td>ABW</td>\n",
       "      <td>1960</td>\n",
       "      <td>NaN</td>\n",
       "      <td>NaN</td>\n",
       "    </tr>\n",
       "    <tr>\n",
       "      <th>1</th>\n",
       "      <td>AFE</td>\n",
       "      <td>1960</td>\n",
       "      <td>1.847810e+10</td>\n",
       "      <td>NaN</td>\n",
       "    </tr>\n",
       "    <tr>\n",
       "      <th>2</th>\n",
       "      <td>AFG</td>\n",
       "      <td>1960</td>\n",
       "      <td>5.377778e+08</td>\n",
       "      <td>Afghanistan</td>\n",
       "    </tr>\n",
       "    <tr>\n",
       "      <th>3</th>\n",
       "      <td>AFW</td>\n",
       "      <td>1960</td>\n",
       "      <td>1.041165e+10</td>\n",
       "      <td>NaN</td>\n",
       "    </tr>\n",
       "    <tr>\n",
       "      <th>4</th>\n",
       "      <td>AGO</td>\n",
       "      <td>1960</td>\n",
       "      <td>NaN</td>\n",
       "      <td>NaN</td>\n",
       "    </tr>\n",
       "    <tr>\n",
       "      <th>...</th>\n",
       "      <td>...</td>\n",
       "      <td>...</td>\n",
       "      <td>...</td>\n",
       "      <td>...</td>\n",
       "    </tr>\n",
       "    <tr>\n",
       "      <th>17019</th>\n",
       "      <td>XKX</td>\n",
       "      <td>2023</td>\n",
       "      <td>NaN</td>\n",
       "      <td>NaN</td>\n",
       "    </tr>\n",
       "    <tr>\n",
       "      <th>17020</th>\n",
       "      <td>YEM</td>\n",
       "      <td>2023</td>\n",
       "      <td>NaN</td>\n",
       "      <td>Yemen</td>\n",
       "    </tr>\n",
       "    <tr>\n",
       "      <th>17021</th>\n",
       "      <td>ZAF</td>\n",
       "      <td>2023</td>\n",
       "      <td>NaN</td>\n",
       "      <td>NaN</td>\n",
       "    </tr>\n",
       "    <tr>\n",
       "      <th>17022</th>\n",
       "      <td>ZMB</td>\n",
       "      <td>2023</td>\n",
       "      <td>NaN</td>\n",
       "      <td>NaN</td>\n",
       "    </tr>\n",
       "    <tr>\n",
       "      <th>17023</th>\n",
       "      <td>ZWE</td>\n",
       "      <td>2023</td>\n",
       "      <td>NaN</td>\n",
       "      <td>NaN</td>\n",
       "    </tr>\n",
       "  </tbody>\n",
       "</table>\n",
       "<p>17024 rows × 4 columns</p>\n",
       "</div>"
      ],
      "text/plain": [
       "       NOC  Year           GDP      Country\n",
       "0      ABW  1960           NaN          NaN\n",
       "1      AFE  1960  1.847810e+10          NaN\n",
       "2      AFG  1960  5.377778e+08  Afghanistan\n",
       "3      AFW  1960  1.041165e+10          NaN\n",
       "4      AGO  1960           NaN          NaN\n",
       "...    ...   ...           ...          ...\n",
       "17019  XKX  2023           NaN          NaN\n",
       "17020  YEM  2023           NaN        Yemen\n",
       "17021  ZAF  2023           NaN          NaN\n",
       "17022  ZMB  2023           NaN          NaN\n",
       "17023  ZWE  2023           NaN          NaN\n",
       "\n",
       "[17024 rows x 4 columns]"
      ]
     },
     "execution_count": 112,
     "metadata": {},
     "output_type": "execute_result"
    },
    {
     "name": "stdout",
     "output_type": "stream",
     "text": [
      "In [112] used 0.0 MiB RAM in 0.12s (system mean cpu 18%, single max cpu 100%), peaked 0.0 MiB above final usage, current RAM usage now 179.1 MiB\n"
     ]
    }
   ],
   "source": [
    "df_hist_gdp"
   ]
  },
  {
   "cell_type": "markdown",
   "metadata": {},
   "source": [
    "## Code à ajouter "
   ]
  },
  {
   "cell_type": "markdown",
   "metadata": {},
   "source": [
    "## On va chercher la population des pays dans l'API World Bank depuis tah l'époque"
   ]
  },
  {
   "cell_type": "code",
   "execution_count": 113,
   "metadata": {},
   "outputs": [
    {
     "name": "stdout",
     "output_type": "stream",
     "text": [
      "In [113] used 0.1 MiB RAM in 0.28s (system mean cpu 12%, single max cpu 100%), peaked 0.0 MiB above final usage, current RAM usage now 179.2 MiB\n"
     ]
    }
   ],
   "source": [
    "search_pop=wb.search('population total') "
   ]
  },
  {
   "cell_type": "code",
   "execution_count": 114,
   "metadata": {},
   "outputs": [
    {
     "name": "stdout",
     "output_type": "stream",
     "text": [
      "========\n",
      "Series: SP.POP.TOTL\n",
      "\n",
      "IndicatorName: Population, total\n",
      "\n",
      "In [114] used -0.0 MiB RAM in 0.11s (system mean cpu 17%, single max cpu 100%), peaked 0.0 MiB above final usage, current RAM usage now 179.2 MiB\n"
     ]
    }
   ],
   "source": [
    "print(search_pop)"
   ]
  },
  {
   "cell_type": "code",
   "execution_count": 115,
   "metadata": {},
   "outputs": [
    {
     "name": "stdout",
     "output_type": "stream",
     "text": [
      "In [115] used -4.7 MiB RAM in 5.39s (system mean cpu 9%, single max cpu 100%), peaked 5.1 MiB above final usage, current RAM usage now 174.5 MiB\n"
     ]
    }
   ],
   "source": [
    "population=wb.data.DataFrame('SP.POP.TOTL').transpose()"
   ]
  },
  {
   "cell_type": "code",
   "execution_count": 116,
   "metadata": {},
   "outputs": [
    {
     "name": "stdout",
     "output_type": "stream",
     "text": [
      "economy       ABW          AFE         AFG          AFW         AGO  \\\n",
      "YR1960    54608.0  130692579.0   8622466.0   97256290.0   5357195.0   \n",
      "YR1961    55811.0  134169237.0   8790140.0   99314028.0   5441333.0   \n",
      "YR1962    56682.0  137835590.0   8969047.0  101445032.0   5521400.0   \n",
      "YR1963    57475.0  141630546.0   9157465.0  103667517.0   5599827.0   \n",
      "YR1964    58178.0  145605995.0   9355514.0  105959979.0   5673199.0   \n",
      "...           ...          ...         ...          ...         ...   \n",
      "YR2019   106442.0  667242986.0  37769499.0  454306063.0  32353588.0   \n",
      "YR2020   106585.0  685112979.0  38972230.0  466189102.0  33428486.0   \n",
      "YR2021   106537.0  702977106.0  40099462.0  478185907.0  34503774.0   \n",
      "YR2022   106445.0  720859132.0  41128771.0  490330870.0  35588987.0   \n",
      "YR2023        NaN          NaN         NaN          NaN         NaN   \n",
      "\n",
      "economy        ALB      AND          ARB        ARE         ARG  ...  \\\n",
      "YR1960   1608800.0   9443.0   93359407.0   133426.0  20349744.0  ...   \n",
      "YR1961   1659800.0  10216.0   95760348.0   140984.0  20680653.0  ...   \n",
      "YR1962   1711319.0  11014.0   98268683.0   148877.0  21020359.0  ...   \n",
      "YR1963   1762621.0  11839.0  100892507.0   157006.0  21364017.0  ...   \n",
      "YR1964   1814135.0  12690.0  103618568.0   165305.0  21708487.0  ...   \n",
      "...            ...      ...          ...        ...         ...  ...   \n",
      "YR2019   2854191.0  76343.0  441467739.0  9211657.0  44938712.0  ...   \n",
      "YR2020   2837849.0  77700.0  449228296.0  9287289.0  45376763.0  ...   \n",
      "YR2021   2811666.0  79034.0  456520777.0  9365145.0  45808747.0  ...   \n",
      "YR2022   2777689.0  79824.0  464684914.0  9441129.0  46234830.0  ...   \n",
      "YR2023         NaN      NaN          NaN        NaN         NaN  ...   \n",
      "\n",
      "economy       VIR         VNM       VUT           WLD       WSM        XKX  \\\n",
      "YR1960    32500.0  32718461.0   64608.0  3.031474e+09  113335.0   947000.0   \n",
      "YR1961    34300.0  33621982.0   66462.0  3.072422e+09  116820.0   966000.0   \n",
      "YR1962    35000.0  34533889.0   68391.0  3.126850e+09  120163.0   994000.0   \n",
      "YR1963    39800.0  35526727.0   70400.0  3.193429e+09  123416.0  1022000.0   \n",
      "YR1964    40800.0  36509166.0   72493.0  3.260442e+09  126582.0  1050000.0   \n",
      "...           ...         ...       ...           ...       ...        ...   \n",
      "YR2019   106669.0  95776716.0  304404.0  7.741775e+09  211905.0  1788878.0   \n",
      "YR2020   106290.0  96648685.0  311685.0  7.820206e+09  214929.0  1790133.0   \n",
      "YR2021   105870.0  97468029.0  319137.0  7.888306e+09  218764.0  1786038.0   \n",
      "YR2022   105413.0  98186856.0  326740.0  7.950947e+09  222382.0  1761985.0   \n",
      "YR2023        NaN         NaN       NaN           NaN       NaN        NaN   \n",
      "\n",
      "economy         YEM         ZAF         ZMB         ZWE  \n",
      "YR1960    5542459.0  16520441.0   3119430.0   3806310.0  \n",
      "YR1961    5646668.0  16989464.0   3219451.0   3925952.0  \n",
      "YR1962    5753386.0  17503133.0   3323427.0   4049778.0  \n",
      "YR1963    5860197.0  18042215.0   3431381.0   4177931.0  \n",
      "YR1964    5973803.0  18603097.0   3542764.0   4310332.0  \n",
      "...             ...         ...         ...         ...  \n",
      "YR2019   31546691.0  58087055.0  18380477.0  15354608.0  \n",
      "YR2020   32284046.0  58801927.0  18927715.0  15669666.0  \n",
      "YR2021   32981641.0  59392255.0  19473125.0  15993524.0  \n",
      "YR2022   33696614.0  59893885.0  20017675.0  16320537.0  \n",
      "YR2023          NaN         NaN         NaN         NaN  \n",
      "\n",
      "[64 rows x 266 columns]\n",
      "In [116] used 0.0 MiB RAM in 0.13s (system mean cpu 6%, single max cpu 100%), peaked 0.0 MiB above final usage, current RAM usage now 174.5 MiB\n"
     ]
    }
   ],
   "source": [
    "print(population)"
   ]
  },
  {
   "cell_type": "code",
   "execution_count": 117,
   "metadata": {},
   "outputs": [
    {
     "name": "stdout",
     "output_type": "stream",
     "text": [
      "In [117] used 0.0 MiB RAM in 0.11s (system mean cpu 6%, single max cpu 67%), peaked 0.0 MiB above final usage, current RAM usage now 174.6 MiB\n"
     ]
    }
   ],
   "source": [
    "df_population=pd.DataFrame(population)\n",
    "df_population = df_population.transpose()\n",
    "df_population.columns = [col.strip('YR') for col in df_population.columns]\n",
    "#df_gdp = df_gdp.transpose()\n"
   ]
  },
  {
   "cell_type": "code",
   "execution_count": 118,
   "metadata": {},
   "outputs": [
    {
     "data": {
      "text/html": [
       "<div>\n",
       "<style scoped>\n",
       "    .dataframe tbody tr th:only-of-type {\n",
       "        vertical-align: middle;\n",
       "    }\n",
       "\n",
       "    .dataframe tbody tr th {\n",
       "        vertical-align: top;\n",
       "    }\n",
       "\n",
       "    .dataframe thead th {\n",
       "        text-align: right;\n",
       "    }\n",
       "</style>\n",
       "<table border=\"1\" class=\"dataframe\">\n",
       "  <thead>\n",
       "    <tr style=\"text-align: right;\">\n",
       "      <th></th>\n",
       "      <th>1960</th>\n",
       "      <th>1961</th>\n",
       "      <th>1962</th>\n",
       "      <th>1963</th>\n",
       "      <th>1964</th>\n",
       "      <th>1965</th>\n",
       "      <th>1966</th>\n",
       "      <th>1967</th>\n",
       "      <th>1968</th>\n",
       "      <th>1969</th>\n",
       "      <th>...</th>\n",
       "      <th>2014</th>\n",
       "      <th>2015</th>\n",
       "      <th>2016</th>\n",
       "      <th>2017</th>\n",
       "      <th>2018</th>\n",
       "      <th>2019</th>\n",
       "      <th>2020</th>\n",
       "      <th>2021</th>\n",
       "      <th>2022</th>\n",
       "      <th>2023</th>\n",
       "    </tr>\n",
       "    <tr>\n",
       "      <th>economy</th>\n",
       "      <th></th>\n",
       "      <th></th>\n",
       "      <th></th>\n",
       "      <th></th>\n",
       "      <th></th>\n",
       "      <th></th>\n",
       "      <th></th>\n",
       "      <th></th>\n",
       "      <th></th>\n",
       "      <th></th>\n",
       "      <th></th>\n",
       "      <th></th>\n",
       "      <th></th>\n",
       "      <th></th>\n",
       "      <th></th>\n",
       "      <th></th>\n",
       "      <th></th>\n",
       "      <th></th>\n",
       "      <th></th>\n",
       "      <th></th>\n",
       "      <th></th>\n",
       "    </tr>\n",
       "  </thead>\n",
       "  <tbody>\n",
       "    <tr>\n",
       "      <th>ABW</th>\n",
       "      <td>54608.0</td>\n",
       "      <td>55811.0</td>\n",
       "      <td>56682.0</td>\n",
       "      <td>57475.0</td>\n",
       "      <td>58178.0</td>\n",
       "      <td>58782.0</td>\n",
       "      <td>59291.0</td>\n",
       "      <td>59522.0</td>\n",
       "      <td>59471.0</td>\n",
       "      <td>59330.0</td>\n",
       "      <td>...</td>\n",
       "      <td>103594.0</td>\n",
       "      <td>104257.0</td>\n",
       "      <td>104874.0</td>\n",
       "      <td>105439.0</td>\n",
       "      <td>105962.0</td>\n",
       "      <td>106442.0</td>\n",
       "      <td>106585.0</td>\n",
       "      <td>106537.0</td>\n",
       "      <td>106445.0</td>\n",
       "      <td>NaN</td>\n",
       "    </tr>\n",
       "    <tr>\n",
       "      <th>AFE</th>\n",
       "      <td>130692579.0</td>\n",
       "      <td>134169237.0</td>\n",
       "      <td>137835590.0</td>\n",
       "      <td>141630546.0</td>\n",
       "      <td>145605995.0</td>\n",
       "      <td>149742351.0</td>\n",
       "      <td>153955516.0</td>\n",
       "      <td>158313235.0</td>\n",
       "      <td>162875171.0</td>\n",
       "      <td>167596160.0</td>\n",
       "      <td>...</td>\n",
       "      <td>583651101.0</td>\n",
       "      <td>600008424.0</td>\n",
       "      <td>616377605.0</td>\n",
       "      <td>632746570.0</td>\n",
       "      <td>649757148.0</td>\n",
       "      <td>667242986.0</td>\n",
       "      <td>685112979.0</td>\n",
       "      <td>702977106.0</td>\n",
       "      <td>720859132.0</td>\n",
       "      <td>NaN</td>\n",
       "    </tr>\n",
       "    <tr>\n",
       "      <th>AFG</th>\n",
       "      <td>8622466.0</td>\n",
       "      <td>8790140.0</td>\n",
       "      <td>8969047.0</td>\n",
       "      <td>9157465.0</td>\n",
       "      <td>9355514.0</td>\n",
       "      <td>9565147.0</td>\n",
       "      <td>9783147.0</td>\n",
       "      <td>10010030.0</td>\n",
       "      <td>10247780.0</td>\n",
       "      <td>10494489.0</td>\n",
       "      <td>...</td>\n",
       "      <td>32716210.0</td>\n",
       "      <td>33753499.0</td>\n",
       "      <td>34636207.0</td>\n",
       "      <td>35643418.0</td>\n",
       "      <td>36686784.0</td>\n",
       "      <td>37769499.0</td>\n",
       "      <td>38972230.0</td>\n",
       "      <td>40099462.0</td>\n",
       "      <td>41128771.0</td>\n",
       "      <td>NaN</td>\n",
       "    </tr>\n",
       "    <tr>\n",
       "      <th>AFW</th>\n",
       "      <td>97256290.0</td>\n",
       "      <td>99314028.0</td>\n",
       "      <td>101445032.0</td>\n",
       "      <td>103667517.0</td>\n",
       "      <td>105959979.0</td>\n",
       "      <td>108336203.0</td>\n",
       "      <td>110798486.0</td>\n",
       "      <td>113319950.0</td>\n",
       "      <td>115921723.0</td>\n",
       "      <td>118615741.0</td>\n",
       "      <td>...</td>\n",
       "      <td>397855507.0</td>\n",
       "      <td>408690375.0</td>\n",
       "      <td>419778384.0</td>\n",
       "      <td>431138704.0</td>\n",
       "      <td>442646825.0</td>\n",
       "      <td>454306063.0</td>\n",
       "      <td>466189102.0</td>\n",
       "      <td>478185907.0</td>\n",
       "      <td>490330870.0</td>\n",
       "      <td>NaN</td>\n",
       "    </tr>\n",
       "    <tr>\n",
       "      <th>AGO</th>\n",
       "      <td>5357195.0</td>\n",
       "      <td>5441333.0</td>\n",
       "      <td>5521400.0</td>\n",
       "      <td>5599827.0</td>\n",
       "      <td>5673199.0</td>\n",
       "      <td>5736582.0</td>\n",
       "      <td>5787044.0</td>\n",
       "      <td>5827503.0</td>\n",
       "      <td>5868203.0</td>\n",
       "      <td>5928386.0</td>\n",
       "      <td>...</td>\n",
       "      <td>27128337.0</td>\n",
       "      <td>28127721.0</td>\n",
       "      <td>29154746.0</td>\n",
       "      <td>30208628.0</td>\n",
       "      <td>31273533.0</td>\n",
       "      <td>32353588.0</td>\n",
       "      <td>33428486.0</td>\n",
       "      <td>34503774.0</td>\n",
       "      <td>35588987.0</td>\n",
       "      <td>NaN</td>\n",
       "    </tr>\n",
       "    <tr>\n",
       "      <th>...</th>\n",
       "      <td>...</td>\n",
       "      <td>...</td>\n",
       "      <td>...</td>\n",
       "      <td>...</td>\n",
       "      <td>...</td>\n",
       "      <td>...</td>\n",
       "      <td>...</td>\n",
       "      <td>...</td>\n",
       "      <td>...</td>\n",
       "      <td>...</td>\n",
       "      <td>...</td>\n",
       "      <td>...</td>\n",
       "      <td>...</td>\n",
       "      <td>...</td>\n",
       "      <td>...</td>\n",
       "      <td>...</td>\n",
       "      <td>...</td>\n",
       "      <td>...</td>\n",
       "      <td>...</td>\n",
       "      <td>...</td>\n",
       "      <td>...</td>\n",
       "    </tr>\n",
       "    <tr>\n",
       "      <th>XKX</th>\n",
       "      <td>947000.0</td>\n",
       "      <td>966000.0</td>\n",
       "      <td>994000.0</td>\n",
       "      <td>1022000.0</td>\n",
       "      <td>1050000.0</td>\n",
       "      <td>1078000.0</td>\n",
       "      <td>1106000.0</td>\n",
       "      <td>1135000.0</td>\n",
       "      <td>1163000.0</td>\n",
       "      <td>1191000.0</td>\n",
       "      <td>...</td>\n",
       "      <td>1812771.0</td>\n",
       "      <td>1788196.0</td>\n",
       "      <td>1777557.0</td>\n",
       "      <td>1791003.0</td>\n",
       "      <td>1797085.0</td>\n",
       "      <td>1788878.0</td>\n",
       "      <td>1790133.0</td>\n",
       "      <td>1786038.0</td>\n",
       "      <td>1761985.0</td>\n",
       "      <td>NaN</td>\n",
       "    </tr>\n",
       "    <tr>\n",
       "      <th>YEM</th>\n",
       "      <td>5542459.0</td>\n",
       "      <td>5646668.0</td>\n",
       "      <td>5753386.0</td>\n",
       "      <td>5860197.0</td>\n",
       "      <td>5973803.0</td>\n",
       "      <td>6097298.0</td>\n",
       "      <td>6228430.0</td>\n",
       "      <td>6368014.0</td>\n",
       "      <td>6515904.0</td>\n",
       "      <td>6673981.0</td>\n",
       "      <td>...</td>\n",
       "      <td>27753304.0</td>\n",
       "      <td>28516545.0</td>\n",
       "      <td>29274002.0</td>\n",
       "      <td>30034389.0</td>\n",
       "      <td>30790513.0</td>\n",
       "      <td>31546691.0</td>\n",
       "      <td>32284046.0</td>\n",
       "      <td>32981641.0</td>\n",
       "      <td>33696614.0</td>\n",
       "      <td>NaN</td>\n",
       "    </tr>\n",
       "    <tr>\n",
       "      <th>ZAF</th>\n",
       "      <td>16520441.0</td>\n",
       "      <td>16989464.0</td>\n",
       "      <td>17503133.0</td>\n",
       "      <td>18042215.0</td>\n",
       "      <td>18603097.0</td>\n",
       "      <td>19187194.0</td>\n",
       "      <td>19789771.0</td>\n",
       "      <td>20410677.0</td>\n",
       "      <td>21050540.0</td>\n",
       "      <td>21704214.0</td>\n",
       "      <td>...</td>\n",
       "      <td>54729551.0</td>\n",
       "      <td>55876504.0</td>\n",
       "      <td>56422274.0</td>\n",
       "      <td>56641209.0</td>\n",
       "      <td>57339635.0</td>\n",
       "      <td>58087055.0</td>\n",
       "      <td>58801927.0</td>\n",
       "      <td>59392255.0</td>\n",
       "      <td>59893885.0</td>\n",
       "      <td>NaN</td>\n",
       "    </tr>\n",
       "    <tr>\n",
       "      <th>ZMB</th>\n",
       "      <td>3119430.0</td>\n",
       "      <td>3219451.0</td>\n",
       "      <td>3323427.0</td>\n",
       "      <td>3431381.0</td>\n",
       "      <td>3542764.0</td>\n",
       "      <td>3658024.0</td>\n",
       "      <td>3777680.0</td>\n",
       "      <td>3901288.0</td>\n",
       "      <td>4029173.0</td>\n",
       "      <td>4159007.0</td>\n",
       "      <td>...</td>\n",
       "      <td>15737793.0</td>\n",
       "      <td>16248230.0</td>\n",
       "      <td>16767761.0</td>\n",
       "      <td>17298054.0</td>\n",
       "      <td>17835893.0</td>\n",
       "      <td>18380477.0</td>\n",
       "      <td>18927715.0</td>\n",
       "      <td>19473125.0</td>\n",
       "      <td>20017675.0</td>\n",
       "      <td>NaN</td>\n",
       "    </tr>\n",
       "    <tr>\n",
       "      <th>ZWE</th>\n",
       "      <td>3806310.0</td>\n",
       "      <td>3925952.0</td>\n",
       "      <td>4049778.0</td>\n",
       "      <td>4177931.0</td>\n",
       "      <td>4310332.0</td>\n",
       "      <td>4447149.0</td>\n",
       "      <td>4588529.0</td>\n",
       "      <td>4734694.0</td>\n",
       "      <td>4886347.0</td>\n",
       "      <td>5044163.0</td>\n",
       "      <td>...</td>\n",
       "      <td>13855753.0</td>\n",
       "      <td>14154937.0</td>\n",
       "      <td>14452704.0</td>\n",
       "      <td>14751101.0</td>\n",
       "      <td>15052184.0</td>\n",
       "      <td>15354608.0</td>\n",
       "      <td>15669666.0</td>\n",
       "      <td>15993524.0</td>\n",
       "      <td>16320537.0</td>\n",
       "      <td>NaN</td>\n",
       "    </tr>\n",
       "  </tbody>\n",
       "</table>\n",
       "<p>266 rows × 64 columns</p>\n",
       "</div>"
      ],
      "text/plain": [
       "                1960         1961         1962         1963         1964  \\\n",
       "economy                                                                    \n",
       "ABW          54608.0      55811.0      56682.0      57475.0      58178.0   \n",
       "AFE      130692579.0  134169237.0  137835590.0  141630546.0  145605995.0   \n",
       "AFG        8622466.0    8790140.0    8969047.0    9157465.0    9355514.0   \n",
       "AFW       97256290.0   99314028.0  101445032.0  103667517.0  105959979.0   \n",
       "AGO        5357195.0    5441333.0    5521400.0    5599827.0    5673199.0   \n",
       "...              ...          ...          ...          ...          ...   \n",
       "XKX         947000.0     966000.0     994000.0    1022000.0    1050000.0   \n",
       "YEM        5542459.0    5646668.0    5753386.0    5860197.0    5973803.0   \n",
       "ZAF       16520441.0   16989464.0   17503133.0   18042215.0   18603097.0   \n",
       "ZMB        3119430.0    3219451.0    3323427.0    3431381.0    3542764.0   \n",
       "ZWE        3806310.0    3925952.0    4049778.0    4177931.0    4310332.0   \n",
       "\n",
       "                1965         1966         1967         1968         1969  ...  \\\n",
       "economy                                                                   ...   \n",
       "ABW          58782.0      59291.0      59522.0      59471.0      59330.0  ...   \n",
       "AFE      149742351.0  153955516.0  158313235.0  162875171.0  167596160.0  ...   \n",
       "AFG        9565147.0    9783147.0   10010030.0   10247780.0   10494489.0  ...   \n",
       "AFW      108336203.0  110798486.0  113319950.0  115921723.0  118615741.0  ...   \n",
       "AGO        5736582.0    5787044.0    5827503.0    5868203.0    5928386.0  ...   \n",
       "...              ...          ...          ...          ...          ...  ...   \n",
       "XKX        1078000.0    1106000.0    1135000.0    1163000.0    1191000.0  ...   \n",
       "YEM        6097298.0    6228430.0    6368014.0    6515904.0    6673981.0  ...   \n",
       "ZAF       19187194.0   19789771.0   20410677.0   21050540.0   21704214.0  ...   \n",
       "ZMB        3658024.0    3777680.0    3901288.0    4029173.0    4159007.0  ...   \n",
       "ZWE        4447149.0    4588529.0    4734694.0    4886347.0    5044163.0  ...   \n",
       "\n",
       "                2014         2015         2016         2017         2018  \\\n",
       "economy                                                                    \n",
       "ABW         103594.0     104257.0     104874.0     105439.0     105962.0   \n",
       "AFE      583651101.0  600008424.0  616377605.0  632746570.0  649757148.0   \n",
       "AFG       32716210.0   33753499.0   34636207.0   35643418.0   36686784.0   \n",
       "AFW      397855507.0  408690375.0  419778384.0  431138704.0  442646825.0   \n",
       "AGO       27128337.0   28127721.0   29154746.0   30208628.0   31273533.0   \n",
       "...              ...          ...          ...          ...          ...   \n",
       "XKX        1812771.0    1788196.0    1777557.0    1791003.0    1797085.0   \n",
       "YEM       27753304.0   28516545.0   29274002.0   30034389.0   30790513.0   \n",
       "ZAF       54729551.0   55876504.0   56422274.0   56641209.0   57339635.0   \n",
       "ZMB       15737793.0   16248230.0   16767761.0   17298054.0   17835893.0   \n",
       "ZWE       13855753.0   14154937.0   14452704.0   14751101.0   15052184.0   \n",
       "\n",
       "                2019         2020         2021         2022  2023  \n",
       "economy                                                            \n",
       "ABW         106442.0     106585.0     106537.0     106445.0   NaN  \n",
       "AFE      667242986.0  685112979.0  702977106.0  720859132.0   NaN  \n",
       "AFG       37769499.0   38972230.0   40099462.0   41128771.0   NaN  \n",
       "AFW      454306063.0  466189102.0  478185907.0  490330870.0   NaN  \n",
       "AGO       32353588.0   33428486.0   34503774.0   35588987.0   NaN  \n",
       "...              ...          ...          ...          ...   ...  \n",
       "XKX        1788878.0    1790133.0    1786038.0    1761985.0   NaN  \n",
       "YEM       31546691.0   32284046.0   32981641.0   33696614.0   NaN  \n",
       "ZAF       58087055.0   58801927.0   59392255.0   59893885.0   NaN  \n",
       "ZMB       18380477.0   18927715.0   19473125.0   20017675.0   NaN  \n",
       "ZWE       15354608.0   15669666.0   15993524.0   16320537.0   NaN  \n",
       "\n",
       "[266 rows x 64 columns]"
      ]
     },
     "execution_count": 118,
     "metadata": {},
     "output_type": "execute_result"
    },
    {
     "name": "stdout",
     "output_type": "stream",
     "text": [
      "In [118] used -0.0 MiB RAM in 0.13s (system mean cpu 9%, single max cpu 100%), peaked 0.0 MiB above final usage, current RAM usage now 174.5 MiB\n"
     ]
    }
   ],
   "source": [
    "df_population"
   ]
  },
  {
   "cell_type": "code",
   "execution_count": 119,
   "metadata": {},
   "outputs": [
    {
     "name": "stdout",
     "output_type": "stream",
     "text": [
      "In [119] used 0.0 MiB RAM in 0.11s (system mean cpu 6%, single max cpu 100%), peaked 0.0 MiB above final usage, current RAM usage now 174.6 MiB\n"
     ]
    }
   ],
   "source": [
    "df_population=df_population.reset_index(names='NOC')"
   ]
  },
  {
   "cell_type": "code",
   "execution_count": 120,
   "metadata": {},
   "outputs": [
    {
     "data": {
      "text/html": [
       "<div>\n",
       "<style scoped>\n",
       "    .dataframe tbody tr th:only-of-type {\n",
       "        vertical-align: middle;\n",
       "    }\n",
       "\n",
       "    .dataframe tbody tr th {\n",
       "        vertical-align: top;\n",
       "    }\n",
       "\n",
       "    .dataframe thead th {\n",
       "        text-align: right;\n",
       "    }\n",
       "</style>\n",
       "<table border=\"1\" class=\"dataframe\">\n",
       "  <thead>\n",
       "    <tr style=\"text-align: right;\">\n",
       "      <th></th>\n",
       "      <th>NOC</th>\n",
       "      <th>1960</th>\n",
       "      <th>1961</th>\n",
       "      <th>1962</th>\n",
       "      <th>1963</th>\n",
       "      <th>1964</th>\n",
       "      <th>1965</th>\n",
       "      <th>1966</th>\n",
       "      <th>1967</th>\n",
       "      <th>1968</th>\n",
       "      <th>...</th>\n",
       "      <th>2014</th>\n",
       "      <th>2015</th>\n",
       "      <th>2016</th>\n",
       "      <th>2017</th>\n",
       "      <th>2018</th>\n",
       "      <th>2019</th>\n",
       "      <th>2020</th>\n",
       "      <th>2021</th>\n",
       "      <th>2022</th>\n",
       "      <th>2023</th>\n",
       "    </tr>\n",
       "  </thead>\n",
       "  <tbody>\n",
       "    <tr>\n",
       "      <th>0</th>\n",
       "      <td>ABW</td>\n",
       "      <td>54608.0</td>\n",
       "      <td>55811.0</td>\n",
       "      <td>56682.0</td>\n",
       "      <td>57475.0</td>\n",
       "      <td>58178.0</td>\n",
       "      <td>58782.0</td>\n",
       "      <td>59291.0</td>\n",
       "      <td>59522.0</td>\n",
       "      <td>59471.0</td>\n",
       "      <td>...</td>\n",
       "      <td>103594.0</td>\n",
       "      <td>104257.0</td>\n",
       "      <td>104874.0</td>\n",
       "      <td>105439.0</td>\n",
       "      <td>105962.0</td>\n",
       "      <td>106442.0</td>\n",
       "      <td>106585.0</td>\n",
       "      <td>106537.0</td>\n",
       "      <td>106445.0</td>\n",
       "      <td>NaN</td>\n",
       "    </tr>\n",
       "    <tr>\n",
       "      <th>1</th>\n",
       "      <td>AFE</td>\n",
       "      <td>130692579.0</td>\n",
       "      <td>134169237.0</td>\n",
       "      <td>137835590.0</td>\n",
       "      <td>141630546.0</td>\n",
       "      <td>145605995.0</td>\n",
       "      <td>149742351.0</td>\n",
       "      <td>153955516.0</td>\n",
       "      <td>158313235.0</td>\n",
       "      <td>162875171.0</td>\n",
       "      <td>...</td>\n",
       "      <td>583651101.0</td>\n",
       "      <td>600008424.0</td>\n",
       "      <td>616377605.0</td>\n",
       "      <td>632746570.0</td>\n",
       "      <td>649757148.0</td>\n",
       "      <td>667242986.0</td>\n",
       "      <td>685112979.0</td>\n",
       "      <td>702977106.0</td>\n",
       "      <td>720859132.0</td>\n",
       "      <td>NaN</td>\n",
       "    </tr>\n",
       "    <tr>\n",
       "      <th>2</th>\n",
       "      <td>AFG</td>\n",
       "      <td>8622466.0</td>\n",
       "      <td>8790140.0</td>\n",
       "      <td>8969047.0</td>\n",
       "      <td>9157465.0</td>\n",
       "      <td>9355514.0</td>\n",
       "      <td>9565147.0</td>\n",
       "      <td>9783147.0</td>\n",
       "      <td>10010030.0</td>\n",
       "      <td>10247780.0</td>\n",
       "      <td>...</td>\n",
       "      <td>32716210.0</td>\n",
       "      <td>33753499.0</td>\n",
       "      <td>34636207.0</td>\n",
       "      <td>35643418.0</td>\n",
       "      <td>36686784.0</td>\n",
       "      <td>37769499.0</td>\n",
       "      <td>38972230.0</td>\n",
       "      <td>40099462.0</td>\n",
       "      <td>41128771.0</td>\n",
       "      <td>NaN</td>\n",
       "    </tr>\n",
       "    <tr>\n",
       "      <th>3</th>\n",
       "      <td>AFW</td>\n",
       "      <td>97256290.0</td>\n",
       "      <td>99314028.0</td>\n",
       "      <td>101445032.0</td>\n",
       "      <td>103667517.0</td>\n",
       "      <td>105959979.0</td>\n",
       "      <td>108336203.0</td>\n",
       "      <td>110798486.0</td>\n",
       "      <td>113319950.0</td>\n",
       "      <td>115921723.0</td>\n",
       "      <td>...</td>\n",
       "      <td>397855507.0</td>\n",
       "      <td>408690375.0</td>\n",
       "      <td>419778384.0</td>\n",
       "      <td>431138704.0</td>\n",
       "      <td>442646825.0</td>\n",
       "      <td>454306063.0</td>\n",
       "      <td>466189102.0</td>\n",
       "      <td>478185907.0</td>\n",
       "      <td>490330870.0</td>\n",
       "      <td>NaN</td>\n",
       "    </tr>\n",
       "    <tr>\n",
       "      <th>4</th>\n",
       "      <td>AGO</td>\n",
       "      <td>5357195.0</td>\n",
       "      <td>5441333.0</td>\n",
       "      <td>5521400.0</td>\n",
       "      <td>5599827.0</td>\n",
       "      <td>5673199.0</td>\n",
       "      <td>5736582.0</td>\n",
       "      <td>5787044.0</td>\n",
       "      <td>5827503.0</td>\n",
       "      <td>5868203.0</td>\n",
       "      <td>...</td>\n",
       "      <td>27128337.0</td>\n",
       "      <td>28127721.0</td>\n",
       "      <td>29154746.0</td>\n",
       "      <td>30208628.0</td>\n",
       "      <td>31273533.0</td>\n",
       "      <td>32353588.0</td>\n",
       "      <td>33428486.0</td>\n",
       "      <td>34503774.0</td>\n",
       "      <td>35588987.0</td>\n",
       "      <td>NaN</td>\n",
       "    </tr>\n",
       "    <tr>\n",
       "      <th>...</th>\n",
       "      <td>...</td>\n",
       "      <td>...</td>\n",
       "      <td>...</td>\n",
       "      <td>...</td>\n",
       "      <td>...</td>\n",
       "      <td>...</td>\n",
       "      <td>...</td>\n",
       "      <td>...</td>\n",
       "      <td>...</td>\n",
       "      <td>...</td>\n",
       "      <td>...</td>\n",
       "      <td>...</td>\n",
       "      <td>...</td>\n",
       "      <td>...</td>\n",
       "      <td>...</td>\n",
       "      <td>...</td>\n",
       "      <td>...</td>\n",
       "      <td>...</td>\n",
       "      <td>...</td>\n",
       "      <td>...</td>\n",
       "      <td>...</td>\n",
       "    </tr>\n",
       "    <tr>\n",
       "      <th>261</th>\n",
       "      <td>XKX</td>\n",
       "      <td>947000.0</td>\n",
       "      <td>966000.0</td>\n",
       "      <td>994000.0</td>\n",
       "      <td>1022000.0</td>\n",
       "      <td>1050000.0</td>\n",
       "      <td>1078000.0</td>\n",
       "      <td>1106000.0</td>\n",
       "      <td>1135000.0</td>\n",
       "      <td>1163000.0</td>\n",
       "      <td>...</td>\n",
       "      <td>1812771.0</td>\n",
       "      <td>1788196.0</td>\n",
       "      <td>1777557.0</td>\n",
       "      <td>1791003.0</td>\n",
       "      <td>1797085.0</td>\n",
       "      <td>1788878.0</td>\n",
       "      <td>1790133.0</td>\n",
       "      <td>1786038.0</td>\n",
       "      <td>1761985.0</td>\n",
       "      <td>NaN</td>\n",
       "    </tr>\n",
       "    <tr>\n",
       "      <th>262</th>\n",
       "      <td>YEM</td>\n",
       "      <td>5542459.0</td>\n",
       "      <td>5646668.0</td>\n",
       "      <td>5753386.0</td>\n",
       "      <td>5860197.0</td>\n",
       "      <td>5973803.0</td>\n",
       "      <td>6097298.0</td>\n",
       "      <td>6228430.0</td>\n",
       "      <td>6368014.0</td>\n",
       "      <td>6515904.0</td>\n",
       "      <td>...</td>\n",
       "      <td>27753304.0</td>\n",
       "      <td>28516545.0</td>\n",
       "      <td>29274002.0</td>\n",
       "      <td>30034389.0</td>\n",
       "      <td>30790513.0</td>\n",
       "      <td>31546691.0</td>\n",
       "      <td>32284046.0</td>\n",
       "      <td>32981641.0</td>\n",
       "      <td>33696614.0</td>\n",
       "      <td>NaN</td>\n",
       "    </tr>\n",
       "    <tr>\n",
       "      <th>263</th>\n",
       "      <td>ZAF</td>\n",
       "      <td>16520441.0</td>\n",
       "      <td>16989464.0</td>\n",
       "      <td>17503133.0</td>\n",
       "      <td>18042215.0</td>\n",
       "      <td>18603097.0</td>\n",
       "      <td>19187194.0</td>\n",
       "      <td>19789771.0</td>\n",
       "      <td>20410677.0</td>\n",
       "      <td>21050540.0</td>\n",
       "      <td>...</td>\n",
       "      <td>54729551.0</td>\n",
       "      <td>55876504.0</td>\n",
       "      <td>56422274.0</td>\n",
       "      <td>56641209.0</td>\n",
       "      <td>57339635.0</td>\n",
       "      <td>58087055.0</td>\n",
       "      <td>58801927.0</td>\n",
       "      <td>59392255.0</td>\n",
       "      <td>59893885.0</td>\n",
       "      <td>NaN</td>\n",
       "    </tr>\n",
       "    <tr>\n",
       "      <th>264</th>\n",
       "      <td>ZMB</td>\n",
       "      <td>3119430.0</td>\n",
       "      <td>3219451.0</td>\n",
       "      <td>3323427.0</td>\n",
       "      <td>3431381.0</td>\n",
       "      <td>3542764.0</td>\n",
       "      <td>3658024.0</td>\n",
       "      <td>3777680.0</td>\n",
       "      <td>3901288.0</td>\n",
       "      <td>4029173.0</td>\n",
       "      <td>...</td>\n",
       "      <td>15737793.0</td>\n",
       "      <td>16248230.0</td>\n",
       "      <td>16767761.0</td>\n",
       "      <td>17298054.0</td>\n",
       "      <td>17835893.0</td>\n",
       "      <td>18380477.0</td>\n",
       "      <td>18927715.0</td>\n",
       "      <td>19473125.0</td>\n",
       "      <td>20017675.0</td>\n",
       "      <td>NaN</td>\n",
       "    </tr>\n",
       "    <tr>\n",
       "      <th>265</th>\n",
       "      <td>ZWE</td>\n",
       "      <td>3806310.0</td>\n",
       "      <td>3925952.0</td>\n",
       "      <td>4049778.0</td>\n",
       "      <td>4177931.0</td>\n",
       "      <td>4310332.0</td>\n",
       "      <td>4447149.0</td>\n",
       "      <td>4588529.0</td>\n",
       "      <td>4734694.0</td>\n",
       "      <td>4886347.0</td>\n",
       "      <td>...</td>\n",
       "      <td>13855753.0</td>\n",
       "      <td>14154937.0</td>\n",
       "      <td>14452704.0</td>\n",
       "      <td>14751101.0</td>\n",
       "      <td>15052184.0</td>\n",
       "      <td>15354608.0</td>\n",
       "      <td>15669666.0</td>\n",
       "      <td>15993524.0</td>\n",
       "      <td>16320537.0</td>\n",
       "      <td>NaN</td>\n",
       "    </tr>\n",
       "  </tbody>\n",
       "</table>\n",
       "<p>266 rows × 65 columns</p>\n",
       "</div>"
      ],
      "text/plain": [
       "     NOC         1960         1961         1962         1963         1964  \\\n",
       "0    ABW      54608.0      55811.0      56682.0      57475.0      58178.0   \n",
       "1    AFE  130692579.0  134169237.0  137835590.0  141630546.0  145605995.0   \n",
       "2    AFG    8622466.0    8790140.0    8969047.0    9157465.0    9355514.0   \n",
       "3    AFW   97256290.0   99314028.0  101445032.0  103667517.0  105959979.0   \n",
       "4    AGO    5357195.0    5441333.0    5521400.0    5599827.0    5673199.0   \n",
       "..   ...          ...          ...          ...          ...          ...   \n",
       "261  XKX     947000.0     966000.0     994000.0    1022000.0    1050000.0   \n",
       "262  YEM    5542459.0    5646668.0    5753386.0    5860197.0    5973803.0   \n",
       "263  ZAF   16520441.0   16989464.0   17503133.0   18042215.0   18603097.0   \n",
       "264  ZMB    3119430.0    3219451.0    3323427.0    3431381.0    3542764.0   \n",
       "265  ZWE    3806310.0    3925952.0    4049778.0    4177931.0    4310332.0   \n",
       "\n",
       "            1965         1966         1967         1968  ...         2014  \\\n",
       "0        58782.0      59291.0      59522.0      59471.0  ...     103594.0   \n",
       "1    149742351.0  153955516.0  158313235.0  162875171.0  ...  583651101.0   \n",
       "2      9565147.0    9783147.0   10010030.0   10247780.0  ...   32716210.0   \n",
       "3    108336203.0  110798486.0  113319950.0  115921723.0  ...  397855507.0   \n",
       "4      5736582.0    5787044.0    5827503.0    5868203.0  ...   27128337.0   \n",
       "..           ...          ...          ...          ...  ...          ...   \n",
       "261    1078000.0    1106000.0    1135000.0    1163000.0  ...    1812771.0   \n",
       "262    6097298.0    6228430.0    6368014.0    6515904.0  ...   27753304.0   \n",
       "263   19187194.0   19789771.0   20410677.0   21050540.0  ...   54729551.0   \n",
       "264    3658024.0    3777680.0    3901288.0    4029173.0  ...   15737793.0   \n",
       "265    4447149.0    4588529.0    4734694.0    4886347.0  ...   13855753.0   \n",
       "\n",
       "            2015         2016         2017         2018         2019  \\\n",
       "0       104257.0     104874.0     105439.0     105962.0     106442.0   \n",
       "1    600008424.0  616377605.0  632746570.0  649757148.0  667242986.0   \n",
       "2     33753499.0   34636207.0   35643418.0   36686784.0   37769499.0   \n",
       "3    408690375.0  419778384.0  431138704.0  442646825.0  454306063.0   \n",
       "4     28127721.0   29154746.0   30208628.0   31273533.0   32353588.0   \n",
       "..           ...          ...          ...          ...          ...   \n",
       "261    1788196.0    1777557.0    1791003.0    1797085.0    1788878.0   \n",
       "262   28516545.0   29274002.0   30034389.0   30790513.0   31546691.0   \n",
       "263   55876504.0   56422274.0   56641209.0   57339635.0   58087055.0   \n",
       "264   16248230.0   16767761.0   17298054.0   17835893.0   18380477.0   \n",
       "265   14154937.0   14452704.0   14751101.0   15052184.0   15354608.0   \n",
       "\n",
       "            2020         2021         2022  2023  \n",
       "0       106585.0     106537.0     106445.0   NaN  \n",
       "1    685112979.0  702977106.0  720859132.0   NaN  \n",
       "2     38972230.0   40099462.0   41128771.0   NaN  \n",
       "3    466189102.0  478185907.0  490330870.0   NaN  \n",
       "4     33428486.0   34503774.0   35588987.0   NaN  \n",
       "..           ...          ...          ...   ...  \n",
       "261    1790133.0    1786038.0    1761985.0   NaN  \n",
       "262   32284046.0   32981641.0   33696614.0   NaN  \n",
       "263   58801927.0   59392255.0   59893885.0   NaN  \n",
       "264   18927715.0   19473125.0   20017675.0   NaN  \n",
       "265   15669666.0   15993524.0   16320537.0   NaN  \n",
       "\n",
       "[266 rows x 65 columns]"
      ]
     },
     "execution_count": 120,
     "metadata": {},
     "output_type": "execute_result"
    },
    {
     "name": "stdout",
     "output_type": "stream",
     "text": [
      "In [120] used -0.1 MiB RAM in 0.14s (system mean cpu 13%, single max cpu 100%), peaked 0.1 MiB above final usage, current RAM usage now 174.5 MiB\n"
     ]
    }
   ],
   "source": [
    "df_population"
   ]
  },
  {
   "cell_type": "code",
   "execution_count": 121,
   "metadata": {},
   "outputs": [
    {
     "name": "stdout",
     "output_type": "stream",
     "text": [
      "In [121] used -0.0 MiB RAM in 0.12s (system mean cpu 24%, single max cpu 100%), peaked 0.0 MiB above final usage, current RAM usage now 174.5 MiB\n"
     ]
    }
   ],
   "source": [
    "years_cols=[col for col in df_population.columns if col.isdigit()]\n",
    "df_melted_population = pd.melt(df_population, id_vars=['NOC'], value_vars=years_cols, \n",
    "                               var_name='Year', value_name='Population')\n",
    "\n",
    "# Convertir la colonne Year en type int\n",
    "df_melted_population['Year'] = df_melted_population['Year'].astype(int)"
   ]
  },
  {
   "cell_type": "code",
   "execution_count": 122,
   "metadata": {},
   "outputs": [
    {
     "data": {
      "text/html": [
       "<div>\n",
       "<style scoped>\n",
       "    .dataframe tbody tr th:only-of-type {\n",
       "        vertical-align: middle;\n",
       "    }\n",
       "\n",
       "    .dataframe tbody tr th {\n",
       "        vertical-align: top;\n",
       "    }\n",
       "\n",
       "    .dataframe thead th {\n",
       "        text-align: right;\n",
       "    }\n",
       "</style>\n",
       "<table border=\"1\" class=\"dataframe\">\n",
       "  <thead>\n",
       "    <tr style=\"text-align: right;\">\n",
       "      <th></th>\n",
       "      <th>NOC</th>\n",
       "      <th>Year</th>\n",
       "      <th>Population</th>\n",
       "    </tr>\n",
       "  </thead>\n",
       "  <tbody>\n",
       "    <tr>\n",
       "      <th>0</th>\n",
       "      <td>ABW</td>\n",
       "      <td>1960</td>\n",
       "      <td>54608.0</td>\n",
       "    </tr>\n",
       "    <tr>\n",
       "      <th>1</th>\n",
       "      <td>AFE</td>\n",
       "      <td>1960</td>\n",
       "      <td>130692579.0</td>\n",
       "    </tr>\n",
       "    <tr>\n",
       "      <th>2</th>\n",
       "      <td>AFG</td>\n",
       "      <td>1960</td>\n",
       "      <td>8622466.0</td>\n",
       "    </tr>\n",
       "    <tr>\n",
       "      <th>3</th>\n",
       "      <td>AFW</td>\n",
       "      <td>1960</td>\n",
       "      <td>97256290.0</td>\n",
       "    </tr>\n",
       "    <tr>\n",
       "      <th>4</th>\n",
       "      <td>AGO</td>\n",
       "      <td>1960</td>\n",
       "      <td>5357195.0</td>\n",
       "    </tr>\n",
       "    <tr>\n",
       "      <th>...</th>\n",
       "      <td>...</td>\n",
       "      <td>...</td>\n",
       "      <td>...</td>\n",
       "    </tr>\n",
       "    <tr>\n",
       "      <th>17019</th>\n",
       "      <td>XKX</td>\n",
       "      <td>2023</td>\n",
       "      <td>NaN</td>\n",
       "    </tr>\n",
       "    <tr>\n",
       "      <th>17020</th>\n",
       "      <td>YEM</td>\n",
       "      <td>2023</td>\n",
       "      <td>NaN</td>\n",
       "    </tr>\n",
       "    <tr>\n",
       "      <th>17021</th>\n",
       "      <td>ZAF</td>\n",
       "      <td>2023</td>\n",
       "      <td>NaN</td>\n",
       "    </tr>\n",
       "    <tr>\n",
       "      <th>17022</th>\n",
       "      <td>ZMB</td>\n",
       "      <td>2023</td>\n",
       "      <td>NaN</td>\n",
       "    </tr>\n",
       "    <tr>\n",
       "      <th>17023</th>\n",
       "      <td>ZWE</td>\n",
       "      <td>2023</td>\n",
       "      <td>NaN</td>\n",
       "    </tr>\n",
       "  </tbody>\n",
       "</table>\n",
       "<p>17024 rows × 3 columns</p>\n",
       "</div>"
      ],
      "text/plain": [
       "       NOC  Year   Population\n",
       "0      ABW  1960      54608.0\n",
       "1      AFE  1960  130692579.0\n",
       "2      AFG  1960    8622466.0\n",
       "3      AFW  1960   97256290.0\n",
       "4      AGO  1960    5357195.0\n",
       "...    ...   ...          ...\n",
       "17019  XKX  2023          NaN\n",
       "17020  YEM  2023          NaN\n",
       "17021  ZAF  2023          NaN\n",
       "17022  ZMB  2023          NaN\n",
       "17023  ZWE  2023          NaN\n",
       "\n",
       "[17024 rows x 3 columns]"
      ]
     },
     "execution_count": 122,
     "metadata": {},
     "output_type": "execute_result"
    },
    {
     "name": "stdout",
     "output_type": "stream",
     "text": [
      "In [122] used 0.0 MiB RAM in 0.12s (system mean cpu 16%, single max cpu 100%), peaked 0.0 MiB above final usage, current RAM usage now 174.5 MiB\n"
     ]
    }
   ],
   "source": [
    "df_melted_population"
   ]
  },
  {
   "cell_type": "markdown",
   "metadata": {},
   "source": [
    "### Base de données utile pour l'apport en data de notre modèle"
   ]
  },
  {
   "cell_type": "code",
   "execution_count": 123,
   "metadata": {},
   "outputs": [
    {
     "name": "stdout",
     "output_type": "stream",
     "text": [
      "In [123] used 0.4 MiB RAM in 0.11s (system mean cpu 34%, single max cpu 100%), peaked 0.0 MiB above final usage, current RAM usage now 174.9 MiB\n"
     ]
    }
   ],
   "source": [
    "df_hist_pop=pd.merge(df_melted_population,df_dictionnary,on=['NOC'])\n",
    "\n"
   ]
  },
  {
   "cell_type": "code",
   "execution_count": 124,
   "metadata": {},
   "outputs": [
    {
     "data": {
      "text/html": [
       "<div>\n",
       "<style scoped>\n",
       "    .dataframe tbody tr th:only-of-type {\n",
       "        vertical-align: middle;\n",
       "    }\n",
       "\n",
       "    .dataframe tbody tr th {\n",
       "        vertical-align: top;\n",
       "    }\n",
       "\n",
       "    .dataframe thead th {\n",
       "        text-align: right;\n",
       "    }\n",
       "</style>\n",
       "<table border=\"1\" class=\"dataframe\">\n",
       "  <thead>\n",
       "    <tr style=\"text-align: right;\">\n",
       "      <th></th>\n",
       "      <th>NOC</th>\n",
       "      <th>Year</th>\n",
       "      <th>Population</th>\n",
       "      <th>Country</th>\n",
       "    </tr>\n",
       "  </thead>\n",
       "  <tbody>\n",
       "    <tr>\n",
       "      <th>0</th>\n",
       "      <td>AFG</td>\n",
       "      <td>1960</td>\n",
       "      <td>8622466.0</td>\n",
       "      <td>Afghanistan</td>\n",
       "    </tr>\n",
       "    <tr>\n",
       "      <th>1</th>\n",
       "      <td>AFG</td>\n",
       "      <td>1961</td>\n",
       "      <td>8790140.0</td>\n",
       "      <td>Afghanistan</td>\n",
       "    </tr>\n",
       "    <tr>\n",
       "      <th>2</th>\n",
       "      <td>AFG</td>\n",
       "      <td>1962</td>\n",
       "      <td>8969047.0</td>\n",
       "      <td>Afghanistan</td>\n",
       "    </tr>\n",
       "    <tr>\n",
       "      <th>3</th>\n",
       "      <td>AFG</td>\n",
       "      <td>1963</td>\n",
       "      <td>9157465.0</td>\n",
       "      <td>Afghanistan</td>\n",
       "    </tr>\n",
       "    <tr>\n",
       "      <th>4</th>\n",
       "      <td>AFG</td>\n",
       "      <td>1964</td>\n",
       "      <td>9355514.0</td>\n",
       "      <td>Afghanistan</td>\n",
       "    </tr>\n",
       "    <tr>\n",
       "      <th>...</th>\n",
       "      <td>...</td>\n",
       "      <td>...</td>\n",
       "      <td>...</td>\n",
       "      <td>...</td>\n",
       "    </tr>\n",
       "    <tr>\n",
       "      <th>7163</th>\n",
       "      <td>YEM</td>\n",
       "      <td>2019</td>\n",
       "      <td>31546691.0</td>\n",
       "      <td>Yemen</td>\n",
       "    </tr>\n",
       "    <tr>\n",
       "      <th>7164</th>\n",
       "      <td>YEM</td>\n",
       "      <td>2020</td>\n",
       "      <td>32284046.0</td>\n",
       "      <td>Yemen</td>\n",
       "    </tr>\n",
       "    <tr>\n",
       "      <th>7165</th>\n",
       "      <td>YEM</td>\n",
       "      <td>2021</td>\n",
       "      <td>32981641.0</td>\n",
       "      <td>Yemen</td>\n",
       "    </tr>\n",
       "    <tr>\n",
       "      <th>7166</th>\n",
       "      <td>YEM</td>\n",
       "      <td>2022</td>\n",
       "      <td>33696614.0</td>\n",
       "      <td>Yemen</td>\n",
       "    </tr>\n",
       "    <tr>\n",
       "      <th>7167</th>\n",
       "      <td>YEM</td>\n",
       "      <td>2023</td>\n",
       "      <td>NaN</td>\n",
       "      <td>Yemen</td>\n",
       "    </tr>\n",
       "  </tbody>\n",
       "</table>\n",
       "<p>7168 rows × 4 columns</p>\n",
       "</div>"
      ],
      "text/plain": [
       "      NOC  Year  Population      Country\n",
       "0     AFG  1960   8622466.0  Afghanistan\n",
       "1     AFG  1961   8790140.0  Afghanistan\n",
       "2     AFG  1962   8969047.0  Afghanistan\n",
       "3     AFG  1963   9157465.0  Afghanistan\n",
       "4     AFG  1964   9355514.0  Afghanistan\n",
       "...   ...   ...         ...          ...\n",
       "7163  YEM  2019  31546691.0        Yemen\n",
       "7164  YEM  2020  32284046.0        Yemen\n",
       "7165  YEM  2021  32981641.0        Yemen\n",
       "7166  YEM  2022  33696614.0        Yemen\n",
       "7167  YEM  2023         NaN        Yemen\n",
       "\n",
       "[7168 rows x 4 columns]"
      ]
     },
     "execution_count": 124,
     "metadata": {},
     "output_type": "execute_result"
    },
    {
     "name": "stdout",
     "output_type": "stream",
     "text": [
      "In [124] used -0.2 MiB RAM in 0.12s (system mean cpu 39%, single max cpu 100%), peaked 0.2 MiB above final usage, current RAM usage now 174.7 MiB\n"
     ]
    }
   ],
   "source": [
    "df_hist_pop"
   ]
  },
  {
   "cell_type": "markdown",
   "metadata": {},
   "source": [
    "## Merge bases de données (on pourra rajouter variables après à tester modèle)"
   ]
  },
  {
   "cell_type": "code",
   "execution_count": 125,
   "metadata": {},
   "outputs": [
    {
     "name": "stdout",
     "output_type": "stream",
     "text": [
      "In [125] used 1.8 MiB RAM in 0.12s (system mean cpu 36%, single max cpu 100%), peaked 0.0 MiB above final usage, current RAM usage now 176.5 MiB\n"
     ]
    }
   ],
   "source": [
    "df_data_pop_gdp=pd.merge(df_hist_pop,df_hist_gdp,on=['NOC','Year','Country'])\n",
    "\n"
   ]
  },
  {
   "cell_type": "markdown",
   "metadata": {},
   "source": [
    "## Attention , ici on perd des données , à voir comment le modèle s'en sort "
   ]
  },
  {
   "cell_type": "code",
   "execution_count": 126,
   "metadata": {},
   "outputs": [
    {
     "name": "stdout",
     "output_type": "stream",
     "text": [
      "In [126] used -0.7 MiB RAM in 0.11s (system mean cpu 14%, single max cpu 100%), peaked 0.7 MiB above final usage, current RAM usage now 175.8 MiB\n"
     ]
    }
   ],
   "source": [
    "df_data_pop_gdp=df_data_pop_gdp.dropna(subset='GDP')"
   ]
  },
  {
   "cell_type": "code",
   "execution_count": 127,
   "metadata": {},
   "outputs": [
    {
     "data": {
      "text/plain": [
       "NOC            111\n",
       "Year            63\n",
       "Population    5414\n",
       "Country        111\n",
       "GDP           5415\n",
       "dtype: int64"
      ]
     },
     "execution_count": 127,
     "metadata": {},
     "output_type": "execute_result"
    },
    {
     "name": "stdout",
     "output_type": "stream",
     "text": [
      "In [127] used 0.1 MiB RAM in 0.12s (system mean cpu 13%, single max cpu 100%), peaked 0.0 MiB above final usage, current RAM usage now 175.8 MiB\n"
     ]
    }
   ],
   "source": [
    "df_data_pop_gdp.nunique()"
   ]
  },
  {
   "cell_type": "markdown",
   "metadata": {},
   "source": [
    "### On a de l'info que sur 111 pays ... "
   ]
  },
  {
   "cell_type": "markdown",
   "metadata": {},
   "source": [
    "## Population urbaine "
   ]
  },
  {
   "cell_type": "code",
   "execution_count": 130,
   "metadata": {},
   "outputs": [
    {
     "name": "stdout",
     "output_type": "stream",
     "text": [
      "In [130] used 6.2 MiB RAM in 2.12s (system mean cpu 23%, single max cpu 82%), peaked 0.0 MiB above final usage, current RAM usage now 36.6 MiB\n"
     ]
    }
   ],
   "source": [
    "search_urban_pop=wb.search('Urban population')"
   ]
  },
  {
   "cell_type": "code",
   "execution_count": 134,
   "metadata": {},
   "outputs": [
    {
     "name": "stdout",
     "output_type": "stream",
     "text": [
      "In [134] used -118.1 MiB RAM in 5.47s (system mean cpu 20%, single max cpu 75%), peaked 0.0 MiB above final usage, current RAM usage now 53.4 MiB\n"
     ]
    }
   ],
   "source": [
    "urban_population=wb.data.DataFrame('SP.URB.TOTL.IN.ZS').transpose()\n",
    "df_urban_population=pd.DataFrame(urban_population)\n",
    "df_urban_population = df_urban_population.transpose()\n",
    "df_urban_population.columns = [col.strip('YR') for col in df_urban_population.columns]\n",
    "\n",
    "df_urban_population=df_urban_population.reset_index(names='NOC')\n",
    "\n",
    "years_cols=[col for col in df_urban_population.columns if col.isdigit()]\n",
    "df_melted_urban_population = pd.melt(df_urban_population, id_vars=['NOC'], value_vars=years_cols, \n",
    "                               var_name='Year', value_name='Urban Population')\n",
    "\n",
    "df_melted_urban_population['Year'] = df_melted_urban_population['Year'].astype(int)"
   ]
  },
  {
   "cell_type": "code",
   "execution_count": 138,
   "metadata": {},
   "outputs": [
    {
     "name": "stdout",
     "output_type": "stream",
     "text": [
      "In [138] used -26.0 MiB RAM in 0.15s (system mean cpu 26%, single max cpu 41%), peaked 0.0 MiB above final usage, current RAM usage now 24.1 MiB\n"
     ]
    }
   ],
   "source": [
    "df_melted_urban_population=df_melted_urban_population.rename(columns={'Urban Population':\"Urban Population(%)\"})"
   ]
  },
  {
   "cell_type": "code",
   "execution_count": null,
   "metadata": {},
   "outputs": [],
   "source": [
    "## Base données urban population % de la pop totale à rajouter dans notre base données "
   ]
  },
  {
   "cell_type": "code",
   "execution_count": 139,
   "metadata": {
    "collapsed": true
   },
   "outputs": [
    {
     "data": {
      "text/html": [
       "<div>\n",
       "<style scoped>\n",
       "    .dataframe tbody tr th:only-of-type {\n",
       "        vertical-align: middle;\n",
       "    }\n",
       "\n",
       "    .dataframe tbody tr th {\n",
       "        vertical-align: top;\n",
       "    }\n",
       "\n",
       "    .dataframe thead th {\n",
       "        text-align: right;\n",
       "    }\n",
       "</style>\n",
       "<table border=\"1\" class=\"dataframe\">\n",
       "  <thead>\n",
       "    <tr style=\"text-align: right;\">\n",
       "      <th></th>\n",
       "      <th>NOC</th>\n",
       "      <th>Year</th>\n",
       "      <th>Urban Population(%)</th>\n",
       "    </tr>\n",
       "  </thead>\n",
       "  <tbody>\n",
       "    <tr>\n",
       "      <th>0</th>\n",
       "      <td>ABW</td>\n",
       "      <td>1960</td>\n",
       "      <td>50.776000</td>\n",
       "    </tr>\n",
       "    <tr>\n",
       "      <th>1</th>\n",
       "      <td>AFE</td>\n",
       "      <td>1960</td>\n",
       "      <td>14.563810</td>\n",
       "    </tr>\n",
       "    <tr>\n",
       "      <th>2</th>\n",
       "      <td>AFG</td>\n",
       "      <td>1960</td>\n",
       "      <td>8.401000</td>\n",
       "    </tr>\n",
       "    <tr>\n",
       "      <th>3</th>\n",
       "      <td>AFW</td>\n",
       "      <td>1960</td>\n",
       "      <td>14.705391</td>\n",
       "    </tr>\n",
       "    <tr>\n",
       "      <th>4</th>\n",
       "      <td>AGO</td>\n",
       "      <td>1960</td>\n",
       "      <td>10.435000</td>\n",
       "    </tr>\n",
       "    <tr>\n",
       "      <th>...</th>\n",
       "      <td>...</td>\n",
       "      <td>...</td>\n",
       "      <td>...</td>\n",
       "    </tr>\n",
       "    <tr>\n",
       "      <th>17019</th>\n",
       "      <td>XKX</td>\n",
       "      <td>2023</td>\n",
       "      <td>NaN</td>\n",
       "    </tr>\n",
       "    <tr>\n",
       "      <th>17020</th>\n",
       "      <td>YEM</td>\n",
       "      <td>2023</td>\n",
       "      <td>NaN</td>\n",
       "    </tr>\n",
       "    <tr>\n",
       "      <th>17021</th>\n",
       "      <td>ZAF</td>\n",
       "      <td>2023</td>\n",
       "      <td>NaN</td>\n",
       "    </tr>\n",
       "    <tr>\n",
       "      <th>17022</th>\n",
       "      <td>ZMB</td>\n",
       "      <td>2023</td>\n",
       "      <td>NaN</td>\n",
       "    </tr>\n",
       "    <tr>\n",
       "      <th>17023</th>\n",
       "      <td>ZWE</td>\n",
       "      <td>2023</td>\n",
       "      <td>NaN</td>\n",
       "    </tr>\n",
       "  </tbody>\n",
       "</table>\n",
       "<p>17024 rows × 3 columns</p>\n",
       "</div>"
      ],
      "text/plain": [
       "       NOC  Year  Urban Population(%)\n",
       "0      ABW  1960            50.776000\n",
       "1      AFE  1960            14.563810\n",
       "2      AFG  1960             8.401000\n",
       "3      AFW  1960            14.705391\n",
       "4      AGO  1960            10.435000\n",
       "...    ...   ...                  ...\n",
       "17019  XKX  2023                  NaN\n",
       "17020  YEM  2023                  NaN\n",
       "17021  ZAF  2023                  NaN\n",
       "17022  ZMB  2023                  NaN\n",
       "17023  ZWE  2023                  NaN\n",
       "\n",
       "[17024 rows x 3 columns]"
      ]
     },
     "execution_count": 139,
     "metadata": {},
     "output_type": "execute_result"
    },
    {
     "name": "stdout",
     "output_type": "stream",
     "text": [
      "In [139] used 6.3 MiB RAM in 0.15s (system mean cpu 17%, single max cpu 30%), peaked 0.0 MiB above final usage, current RAM usage now 30.4 MiB\n"
     ]
    }
   ],
   "source": [
    "df_melted_urban_population"
   ]
  },
  {
   "cell_type": "code",
   "execution_count": null,
   "metadata": {},
   "outputs": [],
   "source": [
    "## CO2 emissions "
   ]
  },
  {
   "cell_type": "code",
   "execution_count": 140,
   "metadata": {},
   "outputs": [
    {
     "name": "stdout",
     "output_type": "stream",
     "text": [
      "========\n",
      "Series: EN.ATM.CO2E.EG.ZS\n",
      "\n",
      "Developmentrelevance: ...Framework Convention on Climate Change (UNFCCC), is working towards curbing CO2 emissions globally....\n",
      "========\n",
      "Series: EN.ATM.CO2E.GF.KT\n",
      "\n",
      "Developmentrelevance: ...Framework Convention on Climate Change (UNFCCC), is working towards curbing CO2 emissions globally....\n",
      "--------\n",
      "IndicatorName: CO2 emissions from gaseous fuel consumption (kt)\n",
      "========\n",
      "Series: EN.ATM.CO2E.GF.ZS\n",
      "\n",
      "Developmentrelevance: ...Framework Convention on Climate Change (UNFCCC), is working towards curbing CO2 emissions globally....\n",
      "--------\n",
      "IndicatorName: CO2 emissions from gaseous fuel consumption (% of total)\n",
      "========\n",
      "Series: EN.ATM.CO2E.KD.GD\n",
      "\n",
      "IndicatorName: CO2 emissions (kg per 2015 US$ of GDP)\n",
      "========\n",
      "Series: EN.ATM.CO2E.KT\n",
      "\n",
      "Developmentrelevance: ...Framework Convention on Climate Change (UNFCCC), is working towards curbing CO2 emissions globally....\n",
      "--------\n",
      "IndicatorName: CO2 emissions (kt)\n",
      "========\n",
      "Series: EN.ATM.CO2E.LF.KT\n",
      "\n",
      "Developmentrelevance: ...Framework Convention on Climate Change (UNFCCC), is working towards curbing CO2 emissions globally....\n",
      "--------\n",
      "IndicatorName: CO2 emissions from liquid fuel consumption (kt)\n",
      "========\n",
      "Series: EN.ATM.CO2E.LF.ZS\n",
      "\n",
      "Developmentrelevance: ...Framework Convention on Climate Change (UNFCCC), is working towards curbing CO2 emissions globally....\n",
      "--------\n",
      "IndicatorName: CO2 emissions from liquid fuel consumption (% of total)\n",
      "========\n",
      "Series: EN.ATM.CO2E.PC\n",
      "\n",
      "Developmentrelevance: ...Framework Convention on Climate Change (UNFCCC), is working towards curbing CO2 emissions globally....\n",
      "--------\n",
      "IndicatorName: CO2 emissions (metric tons per capita)\n",
      "========\n",
      "Series: EN.ATM.CO2E.PP.GD\n",
      "\n",
      "IndicatorName: CO2 emissions (kg per PPP $ of GDP)\n",
      "========\n",
      "Series: EN.ATM.CO2E.PP.GD.KD\n",
      "\n",
      "Developmentrelevance: ...Framework Convention on Climate Change (UNFCCC), is working towards curbing CO2 emissions globally....\n",
      "--------\n",
      "IndicatorName: CO2 emissions (kg per 2017 PPP $ of GDP)\n",
      "========\n",
      "Series: EN.ATM.CO2E.SF.KT\n",
      "\n",
      "Developmentrelevance: ...Framework Convention on Climate Change (UNFCCC), is working towards curbing CO2 emissions globally....\n",
      "--------\n",
      "IndicatorName: CO2 emissions from solid fuel consumption (kt)\n",
      "========\n",
      "Series: EN.ATM.CO2E.SF.ZS\n",
      "\n",
      "Developmentrelevance: ...Framework Convention on Climate Change (UNFCCC), is working towards curbing CO2 emissions globally....\n",
      "--------\n",
      "IndicatorName: CO2 emissions from solid fuel consumption (% of total)\n",
      "========\n",
      "Series: EN.ATM.GHGO.KT.CE\n",
      "\n",
      "Developmentrelevance: ...Framework Convention on Climate Change (UNFCCC), is working towards curbing CO2 emissions globally....\n",
      "--------\n",
      "Statisticalconceptandmethodology: ...10-mee GWP=1300, SF6 GWP=23900). Derived as residuals from total GHG emissions, CO2 emissions, CH4 emissions, and N2O emissions in kt of CO equivalent. Other greenhouse...\n",
      "========\n",
      "Series: EN.ATM.GHGO.ZG\n",
      "\n",
      "Developmentrelevance: ...Framework Convention on Climate Change (UNFCCC), is working towards curbing CO2 emissions globally....\n",
      "--------\n",
      "Statisticalconceptandmethodology: ...10-mee GWP=1300, SF6 GWP=23900). Derived as residuals from total GHG emissions, CO2 emissions, CH4 emissions, and N2O emissions in kt of CO equivalent. Other greenhouse...\n",
      "========\n",
      "Series: EN.ATM.GHGT.KT.CE\n",
      "\n",
      "Developmentrelevance: ...Framework Convention on Climate Change (UNFCCC), is working towards curbing CO2 emissions globally....\n",
      "========\n",
      "Series: EN.ATM.GHGT.ZG\n",
      "\n",
      "Developmentrelevance: ...Framework Convention on Climate Change (UNFCCC), is working towards curbing CO2 emissions globally....\n",
      "========\n",
      "Series: EN.ATM.METH.AG.KT.CE\n",
      "\n",
      "Developmentrelevance: ...Framework Convention on Climate Change (UNFCCC), is working towards curbing CO2 emissions globally....\n",
      "========\n",
      "Series: EN.ATM.METH.AG.ZS\n",
      "\n",
      "Developmentrelevance: ...Framework Convention on Climate Change (UNFCCC), is working towards curbing CO2 emissions globally....\n",
      "========\n",
      "Series: EN.ATM.METH.EG.KT.CE\n",
      "\n",
      "Developmentrelevance: ...Framework Convention on Climate Change (UNFCCC), is working towards curbing CO2 emissions globally....\n",
      "========\n",
      "Series: EN.ATM.METH.EG.ZS\n",
      "\n",
      "Developmentrelevance: ...Framework Convention on Climate Change (UNFCCC), is working towards curbing CO2 emissions globally....\n",
      "========\n",
      "Series: EN.ATM.METH.KT.CE\n",
      "\n",
      "Developmentrelevance: ...Framework Convention on Climate Change (UNFCCC), is working towards curbing CO2 emissions globally....\n",
      "========\n",
      "Series: EN.ATM.METH.ZG\n",
      "\n",
      "Developmentrelevance: ...Framework Convention on Climate Change (UNFCCC), is working towards curbing CO2 emissions globally....\n",
      "========\n",
      "Series: EN.ATM.NOXE.AG.KT.CE\n",
      "\n",
      "Developmentrelevance: ...Framework Convention on Climate Change (UNFCCC), is working towards curbing CO2 emissions globally....\n",
      "========\n",
      "Series: EN.ATM.NOXE.AG.ZS\n",
      "\n",
      "Developmentrelevance: ...Framework Convention on Climate Change (UNFCCC), is working towards curbing CO2 emissions globally....\n",
      "========\n",
      "Series: EN.ATM.NOXE.EG.KT.CE\n",
      "\n",
      "Developmentrelevance: ...Framework Convention on Climate Change (UNFCCC), is working towards curbing CO2 emissions globally....\n",
      "========\n",
      "Series: EN.ATM.NOXE.EG.ZS\n",
      "\n",
      "Developmentrelevance: ...Framework Convention on Climate Change (UNFCCC), is working towards curbing CO2 emissions globally....\n",
      "========\n",
      "Series: EN.ATM.NOXE.KT.CE\n",
      "\n",
      "Developmentrelevance: ...Framework Convention on Climate Change (UNFCCC), is working towards curbing CO2 emissions globally....\n",
      "========\n",
      "Series: EN.ATM.NOXE.ZG\n",
      "\n",
      "Developmentrelevance: ...Framework Convention on Climate Change (UNFCCC), is working towards curbing CO2 emissions globally....\n",
      "========\n",
      "Series: EN.CO2.BLDG.ZS\n",
      "\n",
      "Developmentrelevance: ...Framework Convention on Climate Change (UNFCCC), is working towards curbing CO2 emissions globally....\n",
      "--------\n",
      "IndicatorName: ...CO2 emissions from residential buildings and commercial and public services (% of total fuel...\n",
      "--------\n",
      "Longdefinition: ...CO2 emissions from residential buildings and commercial and public services contains all...\n",
      "========\n",
      "Series: EN.CO2.ETOT.ZS\n",
      "\n",
      "Developmentrelevance: ...Framework Convention on Climate Change (UNFCCC), is working towards curbing CO2 emissions globally....\n",
      "--------\n",
      "IndicatorName: CO2 emissions from electricity and heat production, total (% of total fuel combustion)\n",
      "--------\n",
      "Longdefinition: ...CO2 emissions from electricity and heat production is the sum of three IEA categories of CO2...\n",
      "========\n",
      "Series: EN.CO2.MANF.ZS\n",
      "\n",
      "Developmentrelevance: ...Framework Convention on Climate Change (UNFCCC), is working towards curbing CO2 emissions globally....\n",
      "--------\n",
      "IndicatorName: CO2 emissions from manufacturing industries and construction (% of total fuel combustion)\n",
      "--------\n",
      "Longdefinition: ...CO2 emissions from manufacturing industries and construction contains the emissions from...\n",
      "========\n",
      "Series: EN.CO2.OTHX.ZS\n",
      "\n",
      "Developmentrelevance: ...Framework Convention on Climate Change (UNFCCC), is working towards curbing CO2 emissions globally....\n",
      "--------\n",
      "IndicatorName: ...CO2 emissions from other sectors, excluding residential buildings and commercial and public...\n",
      "--------\n",
      "Longdefinition: ...CO2 emissions from other sectors, less residential buildings and commercial and public...\n",
      "========\n",
      "Series: EN.CO2.TRAN.ZS\n",
      "\n",
      "Developmentrelevance: ...Framework Convention on Climate Change (UNFCCC), is working towards curbing CO2 emissions globally....\n",
      "--------\n",
      "IndicatorName: CO2 emissions from transport (% of total fuel combustion)\n",
      "--------\n",
      "Longdefinition: ...CO2 emissions from transport contains emissions from the combustion of fuel for all transport...\n",
      "\n",
      "In [140] used 0.2 MiB RAM in 2.33s (system mean cpu 20%, single max cpu 67%), peaked 0.0 MiB above final usage, current RAM usage now 30.7 MiB\n"
     ]
    }
   ],
   "source": [
    "search_CO2=wb.search('CO2 emissions')\n",
    "\n",
    "print(search_CO2)"
   ]
  },
  {
   "cell_type": "code",
   "execution_count": 142,
   "metadata": {},
   "outputs": [
    {
     "name": "stdout",
     "output_type": "stream",
     "text": [
      "In [142] used -116.9 MiB RAM in 6.32s (system mean cpu 17%, single max cpu 83%), peaked 0.0 MiB above final usage, current RAM usage now 50.4 MiB\n"
     ]
    }
   ],
   "source": [
    "CO2_emissions=wb.data.DataFrame('EN.ATM.CO2E.KT').transpose()\n",
    "df_CO2_emissions=pd.DataFrame(CO2_emissions)\n",
    "df_CO2_emissions = df_CO2_emissions.transpose()\n",
    "df_CO2_emissions.columns = [col.strip('YR') for col in df_CO2_emissions.columns]\n",
    "\n",
    "df_CO2_emissions=df_CO2_emissions.reset_index(names='NOC')\n",
    "\n"
   ]
  },
  {
   "cell_type": "code",
   "execution_count": 143,
   "metadata": {
    "collapsed": true
   },
   "outputs": [
    {
     "data": {
      "text/html": [
       "<div>\n",
       "<style scoped>\n",
       "    .dataframe tbody tr th:only-of-type {\n",
       "        vertical-align: middle;\n",
       "    }\n",
       "\n",
       "    .dataframe tbody tr th {\n",
       "        vertical-align: top;\n",
       "    }\n",
       "\n",
       "    .dataframe thead th {\n",
       "        text-align: right;\n",
       "    }\n",
       "</style>\n",
       "<table border=\"1\" class=\"dataframe\">\n",
       "  <thead>\n",
       "    <tr style=\"text-align: right;\">\n",
       "      <th></th>\n",
       "      <th>NOC</th>\n",
       "      <th>1960</th>\n",
       "      <th>1961</th>\n",
       "      <th>1962</th>\n",
       "      <th>1963</th>\n",
       "      <th>1964</th>\n",
       "      <th>1965</th>\n",
       "      <th>1966</th>\n",
       "      <th>1967</th>\n",
       "      <th>1968</th>\n",
       "      <th>...</th>\n",
       "      <th>2014</th>\n",
       "      <th>2015</th>\n",
       "      <th>2016</th>\n",
       "      <th>2017</th>\n",
       "      <th>2018</th>\n",
       "      <th>2019</th>\n",
       "      <th>2020</th>\n",
       "      <th>2021</th>\n",
       "      <th>2022</th>\n",
       "      <th>2023</th>\n",
       "    </tr>\n",
       "  </thead>\n",
       "  <tbody>\n",
       "    <tr>\n",
       "      <th>0</th>\n",
       "      <td>ABW</td>\n",
       "      <td>NaN</td>\n",
       "      <td>NaN</td>\n",
       "      <td>NaN</td>\n",
       "      <td>NaN</td>\n",
       "      <td>NaN</td>\n",
       "      <td>NaN</td>\n",
       "      <td>NaN</td>\n",
       "      <td>NaN</td>\n",
       "      <td>NaN</td>\n",
       "      <td>...</td>\n",
       "      <td>NaN</td>\n",
       "      <td>NaN</td>\n",
       "      <td>NaN</td>\n",
       "      <td>NaN</td>\n",
       "      <td>NaN</td>\n",
       "      <td>NaN</td>\n",
       "      <td>NaN</td>\n",
       "      <td>NaN</td>\n",
       "      <td>NaN</td>\n",
       "      <td>NaN</td>\n",
       "    </tr>\n",
       "    <tr>\n",
       "      <th>1</th>\n",
       "      <td>AFE</td>\n",
       "      <td>NaN</td>\n",
       "      <td>NaN</td>\n",
       "      <td>NaN</td>\n",
       "      <td>NaN</td>\n",
       "      <td>NaN</td>\n",
       "      <td>NaN</td>\n",
       "      <td>NaN</td>\n",
       "      <td>NaN</td>\n",
       "      <td>NaN</td>\n",
       "      <td>...</td>\n",
       "      <td>591680.972</td>\n",
       "      <td>576265.992</td>\n",
       "      <td>580219.242</td>\n",
       "      <td>590905.482</td>\n",
       "      <td>598720.9575</td>\n",
       "      <td>610723.50</td>\n",
       "      <td>544952.503</td>\n",
       "      <td>NaN</td>\n",
       "      <td>NaN</td>\n",
       "      <td>NaN</td>\n",
       "    </tr>\n",
       "    <tr>\n",
       "      <th>2</th>\n",
       "      <td>AFG</td>\n",
       "      <td>NaN</td>\n",
       "      <td>NaN</td>\n",
       "      <td>NaN</td>\n",
       "      <td>NaN</td>\n",
       "      <td>NaN</td>\n",
       "      <td>NaN</td>\n",
       "      <td>NaN</td>\n",
       "      <td>NaN</td>\n",
       "      <td>NaN</td>\n",
       "      <td>...</td>\n",
       "      <td>9281.340</td>\n",
       "      <td>10057.590</td>\n",
       "      <td>9294.930</td>\n",
       "      <td>10022.780</td>\n",
       "      <td>10972.3800</td>\n",
       "      <td>11238.83</td>\n",
       "      <td>8709.470</td>\n",
       "      <td>NaN</td>\n",
       "      <td>NaN</td>\n",
       "      <td>NaN</td>\n",
       "    </tr>\n",
       "    <tr>\n",
       "      <th>3</th>\n",
       "      <td>AFW</td>\n",
       "      <td>NaN</td>\n",
       "      <td>NaN</td>\n",
       "      <td>NaN</td>\n",
       "      <td>NaN</td>\n",
       "      <td>NaN</td>\n",
       "      <td>NaN</td>\n",
       "      <td>NaN</td>\n",
       "      <td>NaN</td>\n",
       "      <td>NaN</td>\n",
       "      <td>...</td>\n",
       "      <td>196343.630</td>\n",
       "      <td>194363.640</td>\n",
       "      <td>201399.220</td>\n",
       "      <td>200550.900</td>\n",
       "      <td>210618.8900</td>\n",
       "      <td>222990.35</td>\n",
       "      <td>215915.610</td>\n",
       "      <td>NaN</td>\n",
       "      <td>NaN</td>\n",
       "      <td>NaN</td>\n",
       "    </tr>\n",
       "    <tr>\n",
       "      <th>4</th>\n",
       "      <td>AGO</td>\n",
       "      <td>NaN</td>\n",
       "      <td>NaN</td>\n",
       "      <td>NaN</td>\n",
       "      <td>NaN</td>\n",
       "      <td>NaN</td>\n",
       "      <td>NaN</td>\n",
       "      <td>NaN</td>\n",
       "      <td>NaN</td>\n",
       "      <td>NaN</td>\n",
       "      <td>...</td>\n",
       "      <td>29610.500</td>\n",
       "      <td>31648.900</td>\n",
       "      <td>29520.700</td>\n",
       "      <td>25064.800</td>\n",
       "      <td>23637.4000</td>\n",
       "      <td>24382.90</td>\n",
       "      <td>19814.500</td>\n",
       "      <td>NaN</td>\n",
       "      <td>NaN</td>\n",
       "      <td>NaN</td>\n",
       "    </tr>\n",
       "    <tr>\n",
       "      <th>...</th>\n",
       "      <td>...</td>\n",
       "      <td>...</td>\n",
       "      <td>...</td>\n",
       "      <td>...</td>\n",
       "      <td>...</td>\n",
       "      <td>...</td>\n",
       "      <td>...</td>\n",
       "      <td>...</td>\n",
       "      <td>...</td>\n",
       "      <td>...</td>\n",
       "      <td>...</td>\n",
       "      <td>...</td>\n",
       "      <td>...</td>\n",
       "      <td>...</td>\n",
       "      <td>...</td>\n",
       "      <td>...</td>\n",
       "      <td>...</td>\n",
       "      <td>...</td>\n",
       "      <td>...</td>\n",
       "      <td>...</td>\n",
       "      <td>...</td>\n",
       "    </tr>\n",
       "    <tr>\n",
       "      <th>261</th>\n",
       "      <td>XKX</td>\n",
       "      <td>NaN</td>\n",
       "      <td>NaN</td>\n",
       "      <td>NaN</td>\n",
       "      <td>NaN</td>\n",
       "      <td>NaN</td>\n",
       "      <td>NaN</td>\n",
       "      <td>NaN</td>\n",
       "      <td>NaN</td>\n",
       "      <td>NaN</td>\n",
       "      <td>...</td>\n",
       "      <td>NaN</td>\n",
       "      <td>NaN</td>\n",
       "      <td>NaN</td>\n",
       "      <td>NaN</td>\n",
       "      <td>NaN</td>\n",
       "      <td>NaN</td>\n",
       "      <td>NaN</td>\n",
       "      <td>NaN</td>\n",
       "      <td>NaN</td>\n",
       "      <td>NaN</td>\n",
       "    </tr>\n",
       "    <tr>\n",
       "      <th>262</th>\n",
       "      <td>YEM</td>\n",
       "      <td>NaN</td>\n",
       "      <td>NaN</td>\n",
       "      <td>NaN</td>\n",
       "      <td>NaN</td>\n",
       "      <td>NaN</td>\n",
       "      <td>NaN</td>\n",
       "      <td>NaN</td>\n",
       "      <td>NaN</td>\n",
       "      <td>NaN</td>\n",
       "      <td>...</td>\n",
       "      <td>27429.900</td>\n",
       "      <td>13552.200</td>\n",
       "      <td>10035.200</td>\n",
       "      <td>9682.200</td>\n",
       "      <td>11349.8000</td>\n",
       "      <td>11194.80</td>\n",
       "      <td>9960.100</td>\n",
       "      <td>NaN</td>\n",
       "      <td>NaN</td>\n",
       "      <td>NaN</td>\n",
       "    </tr>\n",
       "    <tr>\n",
       "      <th>263</th>\n",
       "      <td>ZAF</td>\n",
       "      <td>NaN</td>\n",
       "      <td>NaN</td>\n",
       "      <td>NaN</td>\n",
       "      <td>NaN</td>\n",
       "      <td>NaN</td>\n",
       "      <td>NaN</td>\n",
       "      <td>NaN</td>\n",
       "      <td>NaN</td>\n",
       "      <td>NaN</td>\n",
       "      <td>...</td>\n",
       "      <td>448298.100</td>\n",
       "      <td>425063.100</td>\n",
       "      <td>425682.900</td>\n",
       "      <td>435214.500</td>\n",
       "      <td>439644.6000</td>\n",
       "      <td>446626.00</td>\n",
       "      <td>393241.600</td>\n",
       "      <td>NaN</td>\n",
       "      <td>NaN</td>\n",
       "      <td>NaN</td>\n",
       "    </tr>\n",
       "    <tr>\n",
       "      <th>264</th>\n",
       "      <td>ZMB</td>\n",
       "      <td>NaN</td>\n",
       "      <td>NaN</td>\n",
       "      <td>NaN</td>\n",
       "      <td>NaN</td>\n",
       "      <td>NaN</td>\n",
       "      <td>NaN</td>\n",
       "      <td>NaN</td>\n",
       "      <td>NaN</td>\n",
       "      <td>NaN</td>\n",
       "      <td>...</td>\n",
       "      <td>4686.000</td>\n",
       "      <td>4956.600</td>\n",
       "      <td>5315.300</td>\n",
       "      <td>6810.700</td>\n",
       "      <td>7857.2000</td>\n",
       "      <td>7615.70</td>\n",
       "      <td>7607.100</td>\n",
       "      <td>NaN</td>\n",
       "      <td>NaN</td>\n",
       "      <td>NaN</td>\n",
       "    </tr>\n",
       "    <tr>\n",
       "      <th>265</th>\n",
       "      <td>ZWE</td>\n",
       "      <td>NaN</td>\n",
       "      <td>NaN</td>\n",
       "      <td>NaN</td>\n",
       "      <td>NaN</td>\n",
       "      <td>NaN</td>\n",
       "      <td>NaN</td>\n",
       "      <td>NaN</td>\n",
       "      <td>NaN</td>\n",
       "      <td>NaN</td>\n",
       "      <td>...</td>\n",
       "      <td>12010.700</td>\n",
       "      <td>11988.700</td>\n",
       "      <td>10450.200</td>\n",
       "      <td>9781.000</td>\n",
       "      <td>11069.9000</td>\n",
       "      <td>10185.30</td>\n",
       "      <td>8312.500</td>\n",
       "      <td>NaN</td>\n",
       "      <td>NaN</td>\n",
       "      <td>NaN</td>\n",
       "    </tr>\n",
       "  </tbody>\n",
       "</table>\n",
       "<p>266 rows × 65 columns</p>\n",
       "</div>"
      ],
      "text/plain": [
       "     NOC  1960  1961  1962  1963  1964  1965  1966  1967  1968  ...  \\\n",
       "0    ABW   NaN   NaN   NaN   NaN   NaN   NaN   NaN   NaN   NaN  ...   \n",
       "1    AFE   NaN   NaN   NaN   NaN   NaN   NaN   NaN   NaN   NaN  ...   \n",
       "2    AFG   NaN   NaN   NaN   NaN   NaN   NaN   NaN   NaN   NaN  ...   \n",
       "3    AFW   NaN   NaN   NaN   NaN   NaN   NaN   NaN   NaN   NaN  ...   \n",
       "4    AGO   NaN   NaN   NaN   NaN   NaN   NaN   NaN   NaN   NaN  ...   \n",
       "..   ...   ...   ...   ...   ...   ...   ...   ...   ...   ...  ...   \n",
       "261  XKX   NaN   NaN   NaN   NaN   NaN   NaN   NaN   NaN   NaN  ...   \n",
       "262  YEM   NaN   NaN   NaN   NaN   NaN   NaN   NaN   NaN   NaN  ...   \n",
       "263  ZAF   NaN   NaN   NaN   NaN   NaN   NaN   NaN   NaN   NaN  ...   \n",
       "264  ZMB   NaN   NaN   NaN   NaN   NaN   NaN   NaN   NaN   NaN  ...   \n",
       "265  ZWE   NaN   NaN   NaN   NaN   NaN   NaN   NaN   NaN   NaN  ...   \n",
       "\n",
       "           2014        2015        2016        2017         2018       2019  \\\n",
       "0           NaN         NaN         NaN         NaN          NaN        NaN   \n",
       "1    591680.972  576265.992  580219.242  590905.482  598720.9575  610723.50   \n",
       "2      9281.340   10057.590    9294.930   10022.780   10972.3800   11238.83   \n",
       "3    196343.630  194363.640  201399.220  200550.900  210618.8900  222990.35   \n",
       "4     29610.500   31648.900   29520.700   25064.800   23637.4000   24382.90   \n",
       "..          ...         ...         ...         ...          ...        ...   \n",
       "261         NaN         NaN         NaN         NaN          NaN        NaN   \n",
       "262   27429.900   13552.200   10035.200    9682.200   11349.8000   11194.80   \n",
       "263  448298.100  425063.100  425682.900  435214.500  439644.6000  446626.00   \n",
       "264    4686.000    4956.600    5315.300    6810.700    7857.2000    7615.70   \n",
       "265   12010.700   11988.700   10450.200    9781.000   11069.9000   10185.30   \n",
       "\n",
       "           2020  2021  2022  2023  \n",
       "0           NaN   NaN   NaN   NaN  \n",
       "1    544952.503   NaN   NaN   NaN  \n",
       "2      8709.470   NaN   NaN   NaN  \n",
       "3    215915.610   NaN   NaN   NaN  \n",
       "4     19814.500   NaN   NaN   NaN  \n",
       "..          ...   ...   ...   ...  \n",
       "261         NaN   NaN   NaN   NaN  \n",
       "262    9960.100   NaN   NaN   NaN  \n",
       "263  393241.600   NaN   NaN   NaN  \n",
       "264    7607.100   NaN   NaN   NaN  \n",
       "265    8312.500   NaN   NaN   NaN  \n",
       "\n",
       "[266 rows x 65 columns]"
      ]
     },
     "execution_count": 143,
     "metadata": {},
     "output_type": "execute_result"
    },
    {
     "name": "stdout",
     "output_type": "stream",
     "text": [
      "In [143] used 2.7 MiB RAM in 0.14s (system mean cpu 30%, single max cpu 100%), peaked 0.0 MiB above final usage, current RAM usage now 53.1 MiB\n"
     ]
    }
   ],
   "source": [
    "df_CO2_emissions"
   ]
  },
  {
   "cell_type": "code",
   "execution_count": null,
   "metadata": {},
   "outputs": [],
   "source": [
    "years_cols=[col for col in df_CO2_emissions.columns if col.isdigit()]\n",
    "df_melted_CO2_emissions = pd.melt(df_CO2_emissions, id_vars=['NOC'], value_vars=years_cols, \n",
    "                               var_name='Year', value_name=\"CO2 emissions (kt)\")\n",
    "\n",
    "df_melted_CO2_emissions['Year'] = df_CO2_emissions['Year'].astype(int)"
   ]
  },
  {
   "cell_type": "code",
   "execution_count": null,
   "metadata": {},
   "outputs": [],
   "source": [
    "df_melted_CO2_emissions"
   ]
  },
  {
   "cell_type": "code",
   "execution_count": null,
   "metadata": {},
   "outputs": [],
   "source": []
  }
 ],
 "metadata": {
  "kernelspec": {
   "display_name": "Python 3",
   "language": "python",
   "name": "python3"
  },
  "language_info": {
   "codemirror_mode": {
    "name": "ipython",
    "version": 3
   },
   "file_extension": ".py",
   "mimetype": "text/x-python",
   "name": "python",
   "nbconvert_exporter": "python",
   "pygments_lexer": "ipython3",
   "version": "3.8.8"
  }
 },
 "nbformat": 4,
 "nbformat_minor": 2
}
