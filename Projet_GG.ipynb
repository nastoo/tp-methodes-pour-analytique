{
  "cells": [
    {
      "cell_type": "markdown",
      "metadata": {},
      "source": [
        "## Variables à ajouter issues des recherches biblio"
      ]
    },
    {
      "cell_type": "markdown",
      "metadata": {},
      "source": [
        "Variable(s): \n",
        "\n",
        "- Population des pays représentés \n",
        "- Variable indiquant si le pays est communiste ou pas \n",
        "- Variable indiquant si le pays est stable ou pas \n",
        "- Variable indiquant si le pays est émergeant ou pas ( otherwise pauvre , riche à peaufiner par la suite) \n",
        "- Variable indiquant si le pays a la culture du sport ou pas. \n",
        "- Variable indiquant le PIB par habitant \n",
        "- Variable indiquant les financements alloués aux sports (olympiques ou pas)\n"
      ]
    },
    {
      "cell_type": "markdown",
      "metadata": {},
      "source": [
        "Il faut créer le train et le test avec des données 2024 , il faut les construire , il faut aussi savoir traiter le fait que cette fois ci la Russie ne sera pas disponible .\n",
        "Faire indice : pays perturbé 1 avec Russie par exemple ou bien on enlève la Russie  (contexte géopolitique simple, on tah les années où j'ai eu un pb )\n",
        "\n",
        "But c'est de prédire le nombre de médailles pour chaque pays , indicateur simple "
      ]
    },
    {
      "cell_type": "code",
      "execution_count": null,
      "metadata": {},
      "outputs": [],
      "source": [
        "# !pip install ydata_profiling"
      ]
    },
    {
      "cell_type": "code",
      "execution_count": null,
      "metadata": {},
      "outputs": [],
      "source": [
        "import pandas as pd\n",
        "import numpy as np\n",
        "import ipython_memory_usage.ipython_memory_usage as imu\n",
        "from describe_csv import *  # charge le fichier describe_csv.py par chunk de 10 000 (10**4)\n",
        "from ydata_profiling import ProfileReport\n",
        "import math\n",
        "%matplotlib inline\n",
        "import matplotlib.pyplot as plt\n",
        "from matplotlib.pyplot import *\n",
        "import scipy as sp\n",
        "import scipy.stats\n",
        "from pivottablejs import pivot_ui\n",
        "import seaborn as sns\n",
        "\n",
        "from sklearn.impute import SimpleImputer\n",
        "from sklearn.impute import KNNImputer\n",
        "from sklearn import metrics\n",
        "from sklearn import preprocessing\n",
        "from sklearn.ensemble import RandomForestClassifier\n",
        "from sklearn.model_selection import cross_val_score\n",
        "from sklearn.model_selection import GridSearchCV, RandomizedSearchCV\n",
        "from sklearn.model_selection import train_test_split\n",
        "\n",
        "from sklearn.pipeline import make_pipeline, make_union\n",
        "from sklearn.pipeline import Pipeline, FeatureUnion\n",
        "from sklearn.impute import SimpleImputer\n",
        "from sklearn.compose import ColumnTransformer, make_column_transformer, make_column_selector\n",
        "from sklearn.preprocessing import OneHotEncoder, StandardScaler, RobustScaler\n",
        "from sklearn.preprocessing import FunctionTransformer\n",
        "from sklearn.metrics import accuracy_score\n",
        "from sklearn.ensemble import RandomForestClassifier\n",
        "\n",
        "imu.start_watching_memory()\n",
        "\n"
      ]
    },
    {
      "cell_type": "markdown",
      "metadata": {},
      "source": [
        "# Introduction  (Business Understanding) "
      ]
    },
    {
      "cell_type": "markdown",
      "metadata": {},
      "source": [
        "## Détermination objectifs métier , analytique du projet \n",
        "\n",
        "\n",
        "Objectifs métiers du projet :\n",
        "\n",
        "Promotion de la performance sportive : Utiliser les données des Jeux olympiques pour améliorer la performance sportive.\n",
        "\n",
        "Optimisation des ressources : Identifier les sports les plus prometteurs pour optimiser les investissements sportifs.\n",
        "\n",
        "Prédiction des tendances : Prédire les performances futures des pays et des athlètes en se basant sur les données historiques.\n",
        "\n",
        "Analyse de la participation : Analyser la participation mondiale aux Jeux olympiques pour identifier les opportunités de croissance.\n",
        "\n",
        "-------\n",
        "Objectifs analytiques du projet :\n",
        "\n",
        "Analyse des performances : Évaluer les performances des pays, des équipes et des athlètes aux Jeux olympiques.\n",
        "\n",
        "Identification des facteurs de réussite : Identifier les clés du succès dans différents sports et disciplines.\n",
        "\n",
        "Visualisation des données : Créer des visualisations interactives pour présenter les tendances et les comparaisons de manière compréhensible.\n",
        "\n",
        "Modélisation prédictive : Développer des modèles prédictifs pour estimer les performances futures."
      ]
    },
    {
      "cell_type": "markdown",
      "metadata": {},
      "source": [
        "## Identifier les contraintes , limites et risque du projet\n",
        "\n",
        "Qualité des données : Les données historiques peuvent être incomplètes ou imprécises.\n",
        "\n",
        "Variabilité des performances : Les performances sportives sont influencées par de nombreux facteurs difficiles à quantifier.\n",
        "\n",
        "Interprétation des résultats : Les résultats doivent être interprétés avec prudence en raison de la subjectivité des performances sportives.\n",
        "\n",
        "Protection des données : Respecter les règles de confidentialité et de protection des données lors de l'analyse des données.\n",
        "\n",
        "Dépendance aux technologies : Le projet dépend de technologies telles que l'analyse de données, la modélisation statistique, etc."
      ]
    },
    {
      "cell_type": "markdown",
      "metadata": {},
      "source": [
        "# 2. Data understanding (compréhension des données)\n",
        "\n",
        "\n",
        "## 2.1.  Chargement des données"
      ]
    },
    {
      "cell_type": "markdown",
      "metadata": {},
      "source": [
        "### Chargement des différentes bases de données + étude du chargement en mémoire"
      ]
    },
    {
      "cell_type": "code",
      "execution_count": null,
      "metadata": {},
      "outputs": [],
      "source": [
        "df = pd.read_csv(\"data/athlete_events.csv\")\n",
        "df = df[(df['Year'] > 2000) & (df['Season'] == 'Summer')]\n",
        "\n",
        "region_df = pd.read_csv(\"data/noc_regions.csv\")\n",
        "dictionary = pd.read_csv(\"data/dictionary.csv\")"
      ]
    },
    {
      "cell_type": "code",
      "execution_count": null,
      "metadata": {},
      "outputs": [],
      "source": [
        "# méthode pour calculer la taille réelle occupée par le dataframe : les index occupent aussi de la place en mémoire\n",
        "df.memory_usage(index=True).sum()"
      ]
    },
    {
      "cell_type": "markdown",
      "metadata": {},
      "source": [
        "32534052 octets = 32,53 MB =  32534,052 KB."
      ]
    },
    {
      "cell_type": "markdown",
      "metadata": {},
      "source": [
        "## 2.2 Décrire les données\n",
        "\n",
        "### Charger les données avec describe_csv et indiquer les types optimaux pour chaque colonne. "
      ]
    },
    {
      "cell_type": "code",
      "execution_count": null,
      "metadata": {},
      "outputs": [],
      "source": [
        "describe_csv(\"data/athlete_events.csv\", delimiter=',')"
      ]
    },
    {
      "cell_type": "code",
      "execution_count": null,
      "metadata": {},
      "outputs": [],
      "source": [
        "describe_csv(\"data/noc_regions.csv\", delimiter=',')\n",
        "describe_csv(\"data/dictionary.csv\", delimiter=',')"
      ]
    },
    {
      "cell_type": "code",
      "execution_count": null,
      "metadata": {},
      "outputs": [],
      "source": [
        "print(df.isnull().sum())"
      ]
    },
    {
      "cell_type": "code",
      "execution_count": null,
      "metadata": {},
      "outputs": [],
      "source": [
        "df.describe()"
      ]
    },
    {
      "cell_type": "code",
      "execution_count": null,
      "metadata": {},
      "outputs": [],
      "source": [
        "df.info()"
      ]
    },
    {
      "cell_type": "code",
      "execution_count": null,
      "metadata": {},
      "outputs": [],
      "source": [
        "# Find the unique values in year column.\n",
        "df.Games.unique()"
      ]
    },
    {
      "cell_type": "code",
      "execution_count": null,
      "metadata": {},
      "outputs": [],
      "source": [
        "# Find the unique values in city column.\n",
        "df.City.unique()"
      ]
    },
    {
      "cell_type": "code",
      "execution_count": null,
      "metadata": {},
      "outputs": [],
      "source": []
    },
    {
      "cell_type": "markdown",
      "metadata": {},
      "source": [
        "### Utilisation pandas_profiling"
      ]
    },
    {
      "cell_type": "code",
      "execution_count": null,
      "metadata": {},
      "outputs": [],
      "source": [
        "# profile = ProfileReport(df, title='Pandas Profiling Report')\n",
        "# profile.to_file(\"report-profiling-test.html\")"
      ]
    },
    {
      "cell_type": "markdown",
      "metadata": {},
      "source": [
        "### EDA via pivottablejs"
      ]
    },
    {
      "cell_type": "code",
      "execution_count": null,
      "metadata": {},
      "outputs": [],
      "source": [
        "# pivot_ui(df)"
      ]
    },
    {
      "cell_type": "markdown",
      "metadata": {},
      "source": []
    },
    {
      "cell_type": "markdown",
      "metadata": {},
      "source": [
        "## EDA"
      ]
    },
    {
      "cell_type": "markdown",
      "metadata": {},
      "source": [
        "### Target =  Medals : Nous allons construire des représentations graphiques nous permettant d'observer les Medals en fonction des autres variables.On effectue des transformations sur les données pour les besoins de cette analyse exploratoire (pas forcément les mêmes transformations que celles nécessaires lors de l'étape de Feature engineering)."
      ]
    },
    {
      "cell_type": "markdown",
      "metadata": {},
      "source": [
        "#### Number of events in each sport over years [Heatmap]"
      ]
    },
    {
      "cell_type": "code",
      "execution_count": null,
      "metadata": {},
      "outputs": [],
      "source": [
        "sport_year = df.pivot_table(index='Sport', columns='Year', values='Event', aggfunc=lambda x: len(x.unique()))\n",
        "sport_year.fillna(0, inplace=True)\n",
        "sport_year = sport_year.reindex(sport_year.sum(axis=1).sort_values(ascending=False).index)\n",
        "\n",
        "# Affichage de la heatmap\n",
        "plt.figure(figsize=(20, 20))\n",
        "sns.heatmap(sport_year, annot=True, linewidths=0.05, cmap=\"RdYlGn\")\n",
        "plt.xlabel('Year', size=14, color=\"green\")\n",
        "plt.ylabel('Sport', size=14, color=\"green\")\n",
        "plt.title('Number of Events in Each Sport Over Years (Heatmap)', size=18, color=\"green\")\n",
        "plt.show()\n"
      ]
    },
    {
      "cell_type": "markdown",
      "metadata": {},
      "source": [
        "#### Count plot for medals in summer olympics"
      ]
    },
    {
      "cell_type": "code",
      "execution_count": null,
      "metadata": {},
      "outputs": [],
      "source": [
        "#Most Medals in Summer Olympics\n",
        "data = df.groupby(['Event','Games'])['Medal'].value_counts()\n",
        "sns.set(color_codes=True)                                               \n",
        "sns.set_palette(sns.color_palette(\"muted\"))\n",
        "sns.countplot(y='Games', hue='Medal', data=df).set_title('Count plot for medals in summer olympics')"
      ]
    },
    {
      "cell_type": "code",
      "execution_count": null,
      "metadata": {},
      "outputs": [],
      "source": [
        "df_sports = df.groupby([\"Games\",\"Sex\"])[\"Sport\"].count().reset_index().rename(columns={\"Sport\":\"count\"})\n",
        "plt.figure(figsize=(25,10))\n",
        "sns.barplot(x=\"Games\", y = \"count\", hue = \"Sex\", data = df_sports, palette = \"Blues\" )"
      ]
    },
    {
      "cell_type": "code",
      "execution_count": null,
      "metadata": {},
      "outputs": [],
      "source": [
        "# # RUSSIA\n",
        "# df.loc[(df['Team'] == 'Soviet Union') & (df['NOC'] == 'URS'), ['Team', 'NOC']] = ['Russia', 'RUS'] # URSS période 1952-1988\n",
        "df.loc[(df['Team'] == 'ROC') & (df['NOC'] == 'ROC'), ['Team', 'NOC']] = ['Germany', 'RUS'] # JO 2020\n",
        "\n",
        "# # GERMANY\n",
        "# df.loc[(df['Team'] == 'East Germany') & (df['NOC'] == 'GDR'), ['Team', 'NOC']] = ['Germany', 'GER']\n",
        "\n",
        "# CHINA\n",
        "df.loc[df['Team'] == \"People's Republic of China\", ['Team', 'NOC']] = ['China', 'CHN']\n",
        "\n",
        "# UNITED STATES\n",
        "df.loc[df['Team'] == \"United States of America\", ['Team', 'NOC']] = ['United States', 'USA']"
      ]
    },
    {
      "cell_type": "markdown",
      "metadata": {},
      "source": [
        "#### Distribution of Age of Gold Medalists"
      ]
    },
    {
      "cell_type": "code",
      "execution_count": null,
      "metadata": {},
      "outputs": [],
      "source": [
        "gold_medals = df[df['Medal'] == 'Gold']\n",
        "\n",
        "plt.figure(figsize=(8, 6))  \n",
        "plt.hist(gold_medals['Age'], bins=20, color='gold', edgecolor='black', alpha=0.7)  \n",
        "\n",
        "plt.title('Distribution of Age of Gold Medalists', fontsize=16)  \n",
        "plt.xlabel('Age', fontsize=14)  \n",
        "plt.ylabel('Gold medal', fontsize=14)  \n",
        "plt.xticks(rotation=45, fontsize=12)  \n",
        "\n",
        "\n",
        "plt.show()\n",
        "#\n"
      ]
    },
    {
      "cell_type": "markdown",
      "metadata": {},
      "source": [
        "#### Evolution du nombres de médailles gagnés par les favoris"
      ]
    },
    {
      "cell_type": "code",
      "execution_count": null,
      "metadata": {},
      "outputs": [],
      "source": [
        "import matplotlib.pyplot as plt\n",
        "\n",
        "# Filter the data to include only gold medal winners\n",
        "gold_medals = df[df['Medal'] == 'Gold']\n",
        "\n",
        "# Group the data by year and count the number of gold medals won each year for each country\n",
        "gold_medals_by_year_and_country = gold_medals.groupby(['Year', 'Team'])['Medal'].count().unstack()\n",
        "\n",
        "# Select the top 10 countries with the most gold medals overall\n",
        "top_10_countries = gold_medals.groupby('Team')['Medal'].count().nlargest(10).index\n",
        "\n",
        "# Plotting the curve for the evolution of gold medals over time for the top 10 countries\n",
        "plt.figure(figsize=(10, 6))  # Taille de la figure\n",
        "\n",
        "for country in top_10_countries:\n",
        "    plt.plot(gold_medals_by_year_and_country.index, gold_medals_by_year_and_country[country], \n",
        "             marker='o', markersize=6, linewidth=2, label=country)  # Courbe pour chaque pays avec la légende\n",
        "\n",
        "plt.title('Evolution of Gold Medals Win Over Time (Top 10 Countries)', fontsize=16)  # Titre\n",
        "plt.xlabel('Year', fontsize=14)  # Étiquette de l'axe x\n",
        "plt.ylabel('Number of Gold Medals', fontsize=14)  # Étiquette de l'axe y\n",
        "plt.xticks(fontsize=12)  # Taille de la police des étiquettes de l'axe x\n",
        "plt.yticks(fontsize=12)  # Taille de la police des étiquettes de l'axe y\n",
        "\n",
        "plt.grid(True)  # Afficher la grille\n",
        "plt.legend(fontsize=10)  # Ajouter la légende\n",
        "plt.tight_layout()  # Ajuster la mise en page\n",
        "plt.show()\n"
      ]
    },
    {
      "cell_type": "markdown",
      "metadata": {},
      "source": [
        "#### Evolution of Gold Medals per Athlete Over Time"
      ]
    },
    {
      "cell_type": "code",
      "execution_count": null,
      "metadata": {},
      "outputs": [],
      "source": [
        "import matplotlib.pyplot as plt\n",
        "\n",
        "# Calculate the total number of athletes per country\n",
        "total_athletes_per_country = df.groupby('Team')['Name'].nunique()\n",
        "\n",
        "# Filter the data to include only gold medal winners\n",
        "gold_medals = df[df['Medal'] == 'Gold']\n",
        "\n",
        "# Group the data by year and count the number of gold medals won each year for each country\n",
        "gold_medals_by_year_and_country = gold_medals.groupby(['Year', 'Team'])['Medal'].count().unstack()\n",
        "\n",
        "# Calculate the number of gold medals per athlete for each country and each year\n",
        "gold_medals_per_athlete = gold_medals_by_year_and_country.div(total_athletes_per_country, axis=1)\n",
        "\n",
        "# Select the top 10 countries with the most gold medals overall\n",
        "top_10_countries = gold_medals.groupby('Team')['Medal'].count().nlargest(10).index\n",
        "\n",
        "# Plotting the curve for the evolution of gold medals per athlete over time for the top 10 countries\n",
        "plt.figure(figsize=(10, 6))  # Taille de la figure\n",
        "\n",
        "for country in top_10_countries:\n",
        "    plt.plot(gold_medals_per_athlete.index, gold_medals_per_athlete[country], \n",
        "             marker='o', markersize=6, linewidth=2, label=country)  # Courbe pour chaque pays avec la légende\n",
        "\n",
        "plt.title('Evolution of Gold Medals per Athlete Over Time (Top 10 Countries)', fontsize=16)  # Titre\n",
        "plt.xlabel('Year', fontsize=14)  # Étiquette de l'axe x\n",
        "plt.ylabel('Number of Gold Medals per Athlete', fontsize=14)  # Étiquette de l'axe y\n",
        "plt.xticks(fontsize=12)  # Taille de la police des étiquettes de l'axe x\n",
        "plt.yticks(fontsize=12)  # Taille de la police des étiquettes de l'axe y\n",
        "\n",
        "plt.grid(True)  # Afficher la grille\n",
        "plt.legend(fontsize=10)  # Ajouter la légende\n",
        "plt.tight_layout()  # Ajuster la mise en page\n",
        "plt.show()\n"
      ]
    },
    {
      "cell_type": "markdown",
      "metadata": {},
      "source": [
        "#### Total Number of Medals Won by Country and Medal Type"
      ]
    },
    {
      "cell_type": "code",
      "execution_count": null,
      "metadata": {},
      "outputs": [],
      "source": [
        "import matplotlib.pyplot as plt\n",
        "import numpy as np\n",
        "\n",
        "# Group the data by country and count the total number of medals won by each country and each type of medal\n",
        "medals_by_country = df.groupby(['Team', 'Medal']).size().unstack(fill_value=0)\n",
        "\n",
        "# Select the top 10 countries with the most total medals\n",
        "top_10_countries = medals_by_country.sum(axis=1).nlargest(10).index\n",
        "\n",
        "# Select the medal types\n",
        "medal_types = ['Gold', 'Silver', 'Bronze']\n",
        "\n",
        "# Set the position of each bar on the x-axis\n",
        "x = np.arange(len(top_10_countries))\n",
        "\n",
        "# Set the width of the bars\n",
        "width = 0.2\n",
        "\n",
        "# Assign colors to each medal type\n",
        "colors = {'Gold': 'gold', 'Silver': 'silver', 'Bronze': 'peru'}\n",
        "\n",
        "# Plotting the grouped bar graph\n",
        "plt.figure(figsize=(12, 8))  # Taille de la figure\n",
        "\n",
        "for i, medal in enumerate(medal_types):\n",
        "    plt.bar(x - width + i * width, medals_by_country.loc[top_10_countries, medal], \n",
        "            width=width, label=medal, color=colors[medal])\n",
        "\n",
        "plt.title('Total Number of Medals Won by Country and Medal Type', fontsize=16)  # Titre\n",
        "plt.xlabel('Country', fontsize=14)  # Étiquette de l'axe x\n",
        "plt.ylabel('Total Number of Medals', fontsize=14)  # Étiquette de l'axe y\n",
        "plt.xticks(ticks=x, labels=top_10_countries, rotation=45, fontsize=12)  # Étiquettes de l'axe x\n",
        "plt.yticks(fontsize=12)  # Taille de la police des étiquettes de l'axe y\n",
        "\n",
        "# Supprimer les bordures de la figure\n",
        "plt.gca().spines['top'].set_visible(False)\n",
        "plt.gca().spines['right'].set_visible(False)\n",
        "\n",
        "plt.legend(fontsize=12)  # Ajouter la légende\n",
        "plt.tight_layout()  # Ajuster la mise en page\n",
        "plt.show()\n"
      ]
    },
    {
      "cell_type": "markdown",
      "metadata": {},
      "source": [
        "#### Strongest Evolution in Medals Won by Team"
      ]
    },
    {
      "cell_type": "code",
      "execution_count": null,
      "metadata": {},
      "outputs": [],
      "source": [
        "# Filter the data to include only Summer Olympic Games between 2010 and 2020\n",
        "summer_games = df[(df['Season'] == 'Summer') & (df['Year'] >= 2008) & (df['Year'] <= 2020)]\n",
        "\n",
        "# Group the data by team and year, and calculate the total number of medals won by each team in each year\n",
        "medals_by_year = summer_games.groupby(['Team', 'Year'])['Medal'].count().unstack()\n",
        "\n",
        "# Calculate the difference in the number of medals won by each team between the first year and the last year\n",
        "medal_difference = medals_by_year.iloc[:, -1] - medals_by_year.iloc[:, 0]\n",
        "\n",
        "# Sort the teams based on the difference in the number of medals won in descending order\n",
        "sorted_teams = medal_difference.sort_values(ascending=False)\n",
        "\n",
        "# Select the top 5 teams with the largest increase in medals won\n",
        "top_5_teams = sorted_teams.index[:10]\n",
        "\n",
        "# Create a line chart showing the number of medals won by the top 5 teams in each year\n",
        "plt.figure(figsize=(12, 6))\n",
        "for team in top_5_teams:\n",
        "    plt.plot(medals_by_year.loc[team], label=team)\n",
        "plt.title('Strongest Evolution in Medals Won by Team', fontsize=18, color='#003f5c')\n",
        "plt.xlabel('Year', fontsize=14, fontweight='bold', color='#003f5c')\n",
        "plt.ylabel('Number of Medals', fontsize=14, fontweight='bold', color='#003f5c')\n",
        "plt.xticks(fontsize=12, color='#003f5c')\n",
        "plt.yticks(fontsize=12, color='#003f5c')\n",
        "plt.grid(axis='y', linestyle='--', alpha=0.5, color='#003f5c')\n",
        "plt.legend()\n",
        "plt.tight_layout()\n",
        "plt.show()\n"
      ]
    },
    {
      "cell_type": "markdown",
      "metadata": {},
      "source": [
        "#### Number of Sports Over Time"
      ]
    },
    {
      "cell_type": "code",
      "execution_count": null,
      "metadata": {},
      "outputs": [],
      "source": [
        "summer_sports_per_year = df[df['Season'] == 'Summer'].groupby('Year')['Sport'].nunique()\n",
        "\n",
        "plt.figure(figsize=(12, 6))\n",
        "plt.plot(summer_sports_per_year.index, summer_sports_per_year.values, color='#003f5c')\n",
        "plt.title('Number of Sports Over Time (Summer)', fontsize=18, color='#003f5c')\n",
        "plt.xlabel('Year', fontsize=14, fontweight='bold', color='#003f5c')\n",
        "plt.ylabel('Number of Sports', fontsize=14, fontweight='bold', color='#003f5c')\n",
        "plt.xticks(fontsize=12, color='#003f5c')\n",
        "plt.yticks(fontsize=12, color='#003f5c')\n",
        "plt.grid(axis='y', linestyle='--', alpha=0.5, color='#003f5c')\n",
        "plt.tight_layout()\n",
        "plt.show()"
      ]
    },
    {
      "cell_type": "markdown",
      "metadata": {},
      "source": [
        "#### Last sport that apperead with most medals"
      ]
    },
    {
      "cell_type": "code",
      "execution_count": null,
      "metadata": {},
      "outputs": [],
      "source": [
        "# Identifier les années où chaque sport est apparu pour la première fois\n",
        "first_appearance = summer_games.groupby('Sport')['Year'].min()\n",
        "\n",
        "# Sélectionner les 10 derniers sports apparus\n",
        "latest_sports = first_appearance.sort_values(ascending=False).head(10)\n",
        "\n",
        "# Filtrer les données pour inclure seulement les médailles des 10 derniers sports\n",
        "latest_sports_medals = summer_games[summer_games['Sport'].isin(latest_sports.index)]\n",
        "\n",
        "# Compter le nombre total de médailles par sport\n",
        "medal_counts = latest_sports_medals.groupby('Sport')['Medal'].count().sort_values(ascending=False)\n",
        "\n",
        "# Créer un graphique à barres\n",
        "plt.figure(figsize=(10, 6))\n",
        "bar_plot = medal_counts.plot(kind='bar', color='skyblue')\n",
        "\n",
        "# Ajouter l'année d'apparition à chaque barre\n",
        "for i, v in enumerate(medal_counts):\n",
        "    sport_name = medal_counts.index[i]\n",
        "    year = first_appearance[sport_name]\n",
        "    bar_plot.text(i, v + 0.2, str(year), ha='center')\n",
        "\n",
        "plt.title('Nombre total de médailles parmi les 10 derniers sports apparus')\n",
        "plt.xlabel('Sport')\n",
        "plt.ylabel('Nombre total de médailles')\n",
        "plt.xticks(rotation=45)\n",
        "plt.tight_layout()\n",
        "plt.show()"
      ]
    },
    {
      "cell_type": "markdown",
      "metadata": {},
      "source": [
        "#### Sports with the Most Medals"
      ]
    },
    {
      "cell_type": "code",
      "execution_count": null,
      "metadata": {},
      "outputs": [],
      "source": [
        "top_10_sports = df.groupby('Sport')['Medal'].count().nlargest(10)\n",
        "\n",
        "fig, ax = plt.subplots(figsize=(12, 6))\n",
        "ax.bar(top_10_sports.index, top_10_sports.values, color='#ffa600')\n",
        "ax.set_title('Top 10 Sports with the Most Medals', color='#003f5c')\n",
        "ax.set_xlabel('Sport', color='#003f5c')\n",
        "ax.set_ylabel('Number of Medals', color='#003f5c')\n",
        "ax.tick_params(axis='both', colors='#003f5c')\n",
        "ax.grid(axis='y', linestyle='--', color='#003f5c')\n",
        "\n",
        "for i, sport in enumerate(top_10_sports.index):\n",
        "    ax.text(i, top_10_sports[sport] + 0.5, str(top_10_sports[sport]), color='black', ha='center')\n",
        "\n",
        "plt.xticks(rotation=45, ha='right')\n",
        "plt.show()\n"
      ]
    },
    {
      "cell_type": "code",
      "execution_count": null,
      "metadata": {},
      "outputs": [],
      "source": [
        "plt.figure(figsize=(10, 6))\n",
        "bars = plt.barh(top_10_athletes['Athlete'] + ' - ' + top_10_athletes['Sport'], \n",
        "                top_10_athletes['Medal Count'], color='gold', edgecolor='black', alpha=0.7)\n",
        "\n",
        "# Add the number of medals in the middle of each bar\n",
        "for bar in bars:\n",
        "    plt.text(bar.get_width(), bar.get_y() + bar.get_height()/2, f'{bar.get_width():.0f}', \n",
        "             va='center', ha='left', fontsize=10)\n",
        "\n",
        "plt.xlabel('Medal Count', fontsize=14)\n",
        "plt.ylabel('Athlete - Discipline', fontsize=14)  # Updated ylabel\n",
        "plt.title('Top 10 Athletes with Most Medals', fontsize=16)\n",
        "plt.gca().invert_yaxis()  # Invert y-axis to have the athlete with most medals on top\n",
        "plt.grid(axis='x', linestyle='--', alpha=0.5)  # Add grid lines\n",
        "plt.tight_layout()  # Adjust layout to prevent clipping of labels\n",
        "plt.show()\n"
      ]
    },
    {
      "cell_type": "code",
      "execution_count": null,
      "metadata": {},
      "outputs": [],
      "source": [
        "\n",
        "# Filter the data to include only male and female athletes between 2000 and 2016\n",
        "athletes_2000_2016 = df[(df['Year'] >= 2000) & (df['Year'] <= 2016)]\n",
        "\n",
        "# Group the data by gender and year, and calculate the average height for each gender and year\n",
        "average_height_by_gender_and_year_2000_2016 = athletes_2000_2016.groupby(['Sex', 'Year'])['Height'].mean()\n",
        "\n",
        "# Create a line plot to visualize the variation of height over time between 2000 and 2016 for both male and female athletes\n",
        "plt.figure(figsize=(10, 6))\n",
        "\n",
        "# Plot the average height for male athletes\n",
        "male_heights = average_height_by_gender_and_year_2000_2016['M']\n",
        "plt.plot(male_heights.index, male_heights.values, color='blue', label='Male')\n",
        "\n",
        "# Plot the average height for female athletes\n",
        "female_heights = average_height_by_gender_and_year_2000_2016['F']\n",
        "plt.plot(female_heights.index, female_heights.values, color='red', label='Female')\n",
        "\n",
        "plt.title('Variation of Height for Male and Female Athletes over Time (2000-2016)', fontsize=16)\n",
        "plt.xlabel('Year', fontsize=14)\n",
        "plt.ylabel('Average Height (cm)', fontsize=14)\n",
        "plt.xticks(fontsize=12)\n",
        "plt.yticks(fontsize=12)\n",
        "plt.grid(True)\n",
        "plt.legend()\n",
        "plt.show()\n",
        "\n"
      ]
    },
    {
      "cell_type": "markdown",
      "metadata": {},
      "source": [
        "# TEST PERSO (REVISIONS)"
      ]
    },
    {
      "cell_type": "markdown",
      "metadata": {},
      "source": [
        "## Fusion des bases + Nettoyage"
      ]
    },
    {
      "cell_type": "code",
      "execution_count": null,
      "metadata": {},
      "outputs": [],
      "source": [
        "df = pd.read_csv(\"data/athlete_events.csv\")\n",
        "df = df[(df['Year'] > 2000) & (df['Year'] <= 2016) & (df['Season'] == 'Summer')]\n",
        "\n",
        "region_df = pd.read_csv(\"data/noc_regions.csv\")\n",
        "dictionary = pd.read_csv(\"data/dictionary.csv\")"
      ]
    },
    {
      "cell_type": "code",
      "execution_count": null,
      "metadata": {},
      "outputs": [],
      "source": [
        "df.shape"
      ]
    },
    {
      "cell_type": "code",
      "execution_count": null,
      "metadata": {},
      "outputs": [],
      "source": [
        "# Fusion de la colonne 'Team' du DataFrame df avec la colonne 'Country' du DataFrame dictionary_df\n",
        "merged_df = pd.merge(df, dictionary, left_on='Team', right_on='Country', how='left') # how = 'left' pour conserver toutes les lignes de df\n",
        "\n",
        "# Fusion du DataFrame merged_df avec le DataFrame region_df en se basant sur la colonne 'NOC' dans merged_df et dans region_df\n",
        "final_merged_df = pd.merge(merged_df, region_df, on='NOC', how='left')\n",
        "\n",
        "# Affectation du résultat final à la variable df\n",
        "df = final_merged_df\n",
        "df.head()\n",
        "\n",
        "df\n",
        "\n"
      ]
    },
    {
      "cell_type": "code",
      "execution_count": null,
      "metadata": {},
      "outputs": [],
      "source": [
        "df.shape"
      ]
    },
    {
      "cell_type": "markdown",
      "metadata": {},
      "source": [
        "## 3.2. Nettoyer les données\n",
        "\n",
        "### 3.2.1. Données manquantes"
      ]
    },
    {
      "cell_type": "code",
      "execution_count": null,
      "metadata": {},
      "outputs": [],
      "source": [
        "df.drop(columns=['Country', 'Code', 'region', 'notes'], inplace=True)"
      ]
    },
    {
      "cell_type": "code",
      "execution_count": null,
      "metadata": {},
      "outputs": [],
      "source": [
        "# Vérification des valeurs NULL \n",
        "df.isnull().sum() "
      ]
    },
    {
      "cell_type": "markdown",
      "metadata": {},
      "source": [
        "#### Traitement des valeurs nulles\n"
      ]
    },
    {
      "cell_type": "code",
      "execution_count": null,
      "metadata": {},
      "outputs": [],
      "source": [
        "df[df['Name'] == 'Ragnhild Margrethe Aamodt']"
      ]
    },
    {
      "cell_type": "code",
      "execution_count": null,
      "metadata": {},
      "outputs": [],
      "source": [
        "# Calculer les moyennes de la taille et du poids par sexe\n",
        "average_height = df.groupby('Sex')['Height'].mean()\n",
        "average_weight = df.groupby('Sex')['Weight'].mean()\n",
        "\n",
        "# Créer un DataFrame à partir des moyennes calculées\n",
        "average_stats_df = pd.DataFrame({'Average Height': average_height, 'Average Weight': average_weight})\n",
        "average_stats_df\n"
      ]
    },
    {
      "cell_type": "code",
      "execution_count": null,
      "metadata": {},
      "outputs": [],
      "source": [
        "from sklearn.impute import SimpleImputer\n",
        "\n",
        "df_male = df[df['Sex'] == 'M']\n",
        "df_female = df[df['Sex'] == 'F']\n",
        "columns_to_impute = ['Age', 'Height', 'Weight']\n",
        "\n",
        "# Créer un imputer avec la stratégie 'mean' pour remplacer les valeurs nulles par la moyenne\n",
        "imputer = SimpleImputer(strategy='mean')\n",
        "\n",
        "df_male[columns_to_impute] = imputer.fit_transform(df_male[columns_to_impute])\n",
        "df_female[columns_to_impute] = imputer.fit_transform(df_female[columns_to_impute])\n",
        "\n",
        "df = pd.concat([df_male, df_female])\n"
      ]
    },
    {
      "cell_type": "code",
      "execution_count": null,
      "metadata": {},
      "outputs": [],
      "source": [
        "df[df['Name'] == 'Ragnhild Margrethe Aamodt']"
      ]
    },
    {
      "cell_type": "code",
      "execution_count": null,
      "metadata": {},
      "outputs": [],
      "source": [
        "df.isnull().sum()"
      ]
    },
    {
      "cell_type": "code",
      "execution_count": null,
      "metadata": {},
      "outputs": [],
      "source": [
        "# Définir la fonction de mapping\n",
        "def map_medal(medal):\n",
        "    if medal == 'Gold':\n",
        "        return 3\n",
        "    elif medal == 'Silver':\n",
        "        return 2\n",
        "    elif medal == 'Bronze':\n",
        "        return 1\n",
        "    else:\n",
        "        return 0\n",
        "\n",
        "# Appliquer la fonction de mapping à la colonne 'Medal'\n",
        "df['Medal'] = df['Medal'].map(map_medal)\n",
        "df\n"
      ]
    },
    {
      "cell_type": "markdown",
      "metadata": {},
      "source": [
        "Tracer, en un graphique, le boxplot des variables numériques : "
      ]
    },
    {
      "cell_type": "code",
      "execution_count": null,
      "metadata": {},
      "outputs": [],
      "source": [
        "df.boxplot()"
      ]
    },
    {
      "cell_type": "code",
      "execution_count": null,
      "metadata": {},
      "outputs": [],
      "source": [
        "#Tracer le boxplot de la variable Age : \n",
        "df.boxplot(column='Age',return_type='axes')"
      ]
    },
    {
      "cell_type": "code",
      "execution_count": null,
      "metadata": {},
      "outputs": [],
      "source": [
        "# On va modifier les plus hauts outliers identifiés pour Age par la valeur du 99ème quantile\n",
        "\n",
        "cols = ['Age']\n",
        "low = .05\n",
        "high = .99 #Return values at the given quantile  0.99 (99% quantile)\n",
        "quant_df =  df[cols].quantile([low, high])\n",
        "print(quant_df)\n",
        "\n"
      ]
    },
    {
      "cell_type": "code",
      "execution_count": null,
      "metadata": {},
      "outputs": [],
      "source": [
        "higher = quant_df.loc[high,'Age']\n",
        "higher\n",
        "\n",
        "def func(x):\n",
        "    if x >= higher:\n",
        "        return higher\n",
        "    else:\n",
        "        return x\n",
        "\n",
        "df['Age'] = df['Age'].apply(func)"
      ]
    },
    {
      "cell_type": "code",
      "execution_count": null,
      "metadata": {},
      "outputs": [],
      "source": [
        "#vérifier que pour les valeurs les plus hautes, on a bien modifié la valeur de fare par : 43 ans\t\n",
        "\n",
        "df[df['Age'].ge(quant_df.loc[high,'Age'])]"
      ]
    },
    {
      "cell_type": "code",
      "execution_count": null,
      "metadata": {},
      "outputs": [],
      "source": [
        "df.boxplot(column='Age',return_type='axes')"
      ]
    },
    {
      "cell_type": "code",
      "execution_count": null,
      "metadata": {},
      "outputs": [],
      "source": [
        "df.isnull().sum()"
      ]
    },
    {
      "cell_type": "markdown",
      "metadata": {},
      "source": [
        "### 3.3.1 Indépendance des attributs numériques\n"
      ]
    },
    {
      "cell_type": "code",
      "execution_count": null,
      "metadata": {},
      "outputs": [],
      "source": [
        "# # effectuer l'encodage du feature Medal (ajouter de colonnes au dataframe) : \n",
        "\n",
        "# encoder=preprocessing.OneHotEncoder(sparse_output=False)\n",
        "# encoder.fit(df[['Medal']])\n",
        "# columns_name = encoder.get_feature_names_out(['Medal'])\n",
        "# df_encoded = pd.DataFrame(encoder.transform(df[['Medal']]))\n",
        "# df_encoded.columns = columns_name\n",
        "# df= pd.concat([df, df_encoded], axis=1)"
      ]
    },
    {
      "cell_type": "code",
      "execution_count": null,
      "metadata": {},
      "outputs": [],
      "source": [
        "# effectuer l'encodage du feature Sex (ajouter de colonnes au dataframe) : \n",
        "\n",
        "# Effectuer l'encodage pour la variable 'Sex'\n",
        "df_encoded = pd.get_dummies(df['Sex'], prefix='Sex')\n",
        "\n",
        "# Concaténer le dataframe original avec le nouveau dataframe encodé\n",
        "df = pd.concat([df, df_encoded], axis=1)\n",
        "\n",
        "# Supprimer la colonne 'Sex' d'origine\n",
        "df.drop('Sex', axis=1, inplace=True)\n",
        "df\n",
        "\n"
      ]
    },
    {
      "cell_type": "code",
      "execution_count": null,
      "metadata": {},
      "outputs": [],
      "source": [
        "pd.DataFrame(abs(df.corr(numeric_only=True)['Medal']).sort_values(ascending = False))\n"
      ]
    },
    {
      "cell_type": "code",
      "execution_count": null,
      "metadata": {},
      "outputs": [],
      "source": [
        "#Les collonnes non numériques ne sont pas analysées\n",
        "corrMatrix = df.corr(numeric_only=True)\n",
        "sns.heatmap(corrMatrix, annot=True)\n",
        "plt.show()"
      ]
    },
    {
      "cell_type": "code",
      "execution_count": null,
      "metadata": {},
      "outputs": [],
      "source": []
    },
    {
      "cell_type": "markdown",
      "metadata": {},
      "source": [
        "### 3.3.2 Indépendance des attributs catégoriels\n",
        "\n",
        "Variables catégorielles non regardées encore : Team, Games, City\n",
        "\n"
      ]
    },
    {
      "cell_type": "code",
      "execution_count": null,
      "metadata": {},
      "outputs": [],
      "source": [
        "# entre Team et City\n",
        "\n",
        "ct_cat = pd.crosstab(df.Games, df.City)\n",
        "ct_cat\n",
        "chi2, p_value, _, _ = sp.stats.chi2_contingency(ct_cat)\n",
        "print(chi2, p_value)"
      ]
    },
    {
      "cell_type": "markdown",
      "metadata": {},
      "source": [
        "**Conclusion** : si p_value < 0.05 : Cabin et Embarked sont dépendants. \n",
        "**Il faudra supprimer un des deux par la suite.**"
      ]
    },
    {
      "cell_type": "markdown",
      "metadata": {},
      "source": [
        "### 3.3.2. Feature engineering\n",
        "\n",
        "#### Discrétisation des variables numériques continues\n",
        "\n",
        "Nous allons discrétiser les 3 variables : \n",
        "* Age \n",
        "* Height \n",
        "* Weight \n",
        "\n",
        "\n",
        "https://www.kaggle.com/gunesevitan/titanic-advanced-feature-engineering-tutorial"
      ]
    },
    {
      "cell_type": "code",
      "execution_count": null,
      "metadata": {},
      "outputs": [],
      "source": [
        "df.isnull().sum()"
      ]
    },
    {
      "cell_type": "markdown",
      "metadata": {},
      "source": []
    },
    {
      "cell_type": "code",
      "execution_count": null,
      "metadata": {},
      "outputs": [],
      "source": [
        "# Discrétiser la variable 'Age' en 5 bins\n",
        "# df['Age_Category'] = pd.cut(df['Age'], bins=5, labels=['Enfant', 'Adolescent', 'Jeune Adulte', 'Adulte', 'Personne âgée'])\n",
        "\n",
        "# # Discrétiser la variable 'Height' en 5 bins\n",
        "# df['Height_Category'] = pd.cut(df['Height'], bins=5, labels=['Très petit', 'Petit', 'Moyen', 'Grand', 'Très grand'])\n",
        "\n",
        "# # Discrétiser la variable 'Weight' en 5 bins\n",
        "# df['Weight_Category'] = pd.cut(df['Weight'], bins=5, labels=['Très léger', 'Léger', 'Moyen', 'Lourd', 'Très lourd'])\n",
        "\n",
        "# Afficher les premières lignes du dataframe avec les nouvelles variables catégorielles\n"
      ]
    },
    {
      "cell_type": "code",
      "execution_count": null,
      "metadata": {},
      "outputs": [],
      "source": [
        "df.dtypes"
      ]
    },
    {
      "cell_type": "markdown",
      "metadata": {},
      "source": [
        "#### Création de nouveaux features\n",
        "\n",
        "Nous allons créer 3 features : \n",
        "\n",
        "1. Organisateur : Pays organisateur : Créer une variable binaire qui indique si le pays de l'athlète est le pays hôte des Jeux Olympiques correspondants. Cela pourrait avoir un impact sur les performances des athlètes en raison du soutien local et des conditions environnementales favorables.\n"
      ]
    },
    {
      "cell_type": "code",
      "execution_count": null,
      "metadata": {},
      "outputs": [],
      "source": [
        "# # Définir une fonction pour vérifier si la ville est le pays hôte\n",
        "# def is_host_country(row):\n",
        "#     if row['Team'] in row['Team']:\n",
        "#         return 1\n",
        "#     else:\n",
        "#         return 0\n",
        "\n",
        "# # Appliquer la fonction à chaque ligne du DataFrame\n",
        "# df['Host_Country'] = df.apply(is_host_country, axis=1)\n",
        "# df"
      ]
    },
    {
      "cell_type": "markdown",
      "metadata": {},
      "source": [
        "### 3.3.3 Encodage des attributs discrets/catégoriels\n",
        "\n",
        "Une étape à effectuer avant de pouvoir commencer notre modélisation est de convertir tous nos features catégoriels en nombres, car nos algorithmes ne peuvent prendre qu'un tableau de nombres en entrée, pas des noms ou des lettres. \n",
        "Choisissez les variables à tarnsformer, en utilisant des encoders adaptés. "
      ]
    },
    {
      "cell_type": "markdown",
      "metadata": {},
      "source": [
        "-----------------------------------------------------------------------------\n",
        "\n",
        "LabelEncoder : Si vous avez des variables catégorielles ordinales avec un ordre spécifique, telles que 'Season' (saison des Jeux Olympiques), vous pouvez utiliser LabelEncoder pour mapper les catégories à des entiers.\n",
        "\n",
        "OneHotEncoder : Pour les variables catégorielles nominales telles que 'Team' (nom de l'équipe), 'NOC' (code du Comité National Olympique), 'Sport' (nom du sport pratiqué) et 'City' (ville hôte des Jeux Olympiques), vous pouvez utiliser OneHotEncoder pour créer des variables binaires distinctes pour chaque catégorie.\n",
        "\n",
        "DropColumns : Certaines variables catégorielles peuvent ne pas être pertinentes pour la modélisation, comme 'Name' (nom de l'individu) et 'Event' (nom de l'événement spécifique dans le sport). Vous pouvez envisager de supprimer ces colonnes."
      ]
    },
    {
      "cell_type": "code",
      "execution_count": null,
      "metadata": {},
      "outputs": [],
      "source": [
        "categorical_vars = df.select_dtypes(include='object').columns\n",
        "print(categorical_vars)\n"
      ]
    },
    {
      "cell_type": "code",
      "execution_count": null,
      "metadata": {},
      "outputs": [],
      "source": [
        "# from sklearn.preprocessing import LabelEncoder, OneHotEncoder\n",
        "\n",
        "# # Définir les colonnes à encoder\n",
        "# ordinal_cols = ['Season']\n",
        "# nominal_cols = ['Team', 'NOC', 'Sport', 'City']\n",
        "# cols_to_drop = ['Name', 'Event']\n",
        "\n",
        "\n",
        "# # Initialiser les encodeurs\n",
        "# label_encoder = LabelEncoder()\n",
        "# onehot_encoder = OneHotEncoder(sparse=False, drop='first')  # drop='first' pour éviter le piège de la variable fictive\n",
        "\n",
        "# # Appliquer LabelEncoder aux variables ordinales\n",
        "# df[ordinal_cols] = df[ordinal_cols].apply(label_encoder.fit_transform)\n",
        "\n",
        "# # Appliquer OneHotEncoder aux variables nominales\n",
        "# onehot_encoded = onehot_encoder.fit_transform(df[nominal_cols])\n",
        "# onehot_df = pd.DataFrame(onehot_encoded, columns=onehot_encoder.get_feature_names_out(nominal_cols))\n",
        "\n",
        "# # Supprimer les colonnes à supprimer\n",
        "# df.drop(columns=cols_to_drop, inplace=True)\n",
        "\n",
        "# # Concaténer les DataFrames encodés\n",
        "# df = pd.concat([df, onehot_df], axis=1)\n",
        "\n",
        "from sklearn.preprocessing import LabelEncoder, OneHotEncoder\n",
        "\n",
        "# Définir les colonnes à encoder\n",
        "# ordinal_cols = ['Season']\n",
        "# nominal_cols = ['Team', 'NOC', 'Sport', 'City']\n",
        "cols_to_drop = ['Name', 'Event']\n",
        "\n",
        "\n",
        "# Initialiser les encodeurs\n",
        "label_encoder = LabelEncoder()\n",
        "onehot_encoder = OneHotEncoder(sparse=False, drop='first')  # drop='first' pour éviter le piège de la variable fictive\n",
        "\n",
        "# # Appliquer LabelEncoder aux variables ordinales\n",
        "# df[ordinal_cols] = df[ordinal_cols].apply(label_encoder.fit_transform)\n",
        "\n",
        "# # Appliquer OneHotEncoder aux variables nominales\n",
        "# onehot_encoded = onehot_encoder.fit_transform(df[nominal_cols])\n",
        "# onehot_df = pd.DataFrame(onehot_encoded, columns=onehot_encoder.get_feature_names_out(nominal_cols))\n",
        "\n",
        "# Supprimer les colonnes à supprimer\n",
        "df.drop(columns=cols_to_drop, inplace=True)\n",
        "\n",
        "# Concaténer les DataFrames encodés\n",
        "df = pd.concat([df, onehot_df], axis=1)\n"
      ]
    },
    {
      "cell_type": "code",
      "execution_count": null,
      "metadata": {},
      "outputs": [],
      "source": [
        "df"
      ]
    },
    {
      "cell_type": "code",
      "execution_count": null,
      "metadata": {},
      "outputs": [],
      "source": [
        "df.describe().T"
      ]
    },
    {
      "cell_type": "code",
      "execution_count": null,
      "metadata": {},
      "outputs": [],
      "source": [
        "df.info()\n",
        "df.columns.tolist()"
      ]
    },
    {
      "cell_type": "code",
      "execution_count": null,
      "metadata": {},
      "outputs": [],
      "source": [
        "# X_TRAIN\n",
        "feature_name = [\n",
        "'Name',\n",
        " 'Age',\n",
        " 'Height',\n",
        " 'Weight',\n",
        " 'Team',\n",
        " 'NOC',\n",
        " 'Games',\n",
        " 'Year',\n",
        " 'Season',\n",
        " 'City',\n",
        " 'Sport',\n",
        " 'Event',\n",
        " 'Medal',\n",
        " 'Population',\n",
        " 'GDP per Capita',\n",
        " 'Sex_F',\n",
        " 'Sex_M']\n",
        "# X_TRAIN\n",
        "X = df[feature_name]\n",
        "\n",
        "\n",
        "# Y_TRAIN --> target, variable à prédire\n",
        "y = df['Medal']\n",
        "\n",
        "# Entraînement du modèle (n_estimators : The number of trees in the forest.)\n",
        "forest = RandomForestClassifier(n_estimators=100, n_jobs=-1) # n_jobs=-1 signifie autant de jobs que de coeurs de processeur  \n",
        "forest.fit(X, y)"
      ]
    }
  ],
  "metadata": {
    "kernelspec": {
      "display_name": "Python 3",
      "language": "python",
      "name": "python3"
    },
    "language_info": {
      "codemirror_mode": {
        "name": "ipython",
        "version": 3
      },
      "file_extension": ".py",
      "mimetype": "text/x-python",
      "name": "python",
      "nbconvert_exporter": "python",
      "pygments_lexer": "ipython3",
      "version": "3.11.5"
    }
  },
  "nbformat": 4,
  "nbformat_minor": 2
}
