{
 "cells": [
  {
   "cell_type": "markdown",
   "metadata": {},
   "source": [
    "## Variables à ajouter issues des recherches biblio"
   ]
  },
  {
   "cell_type": "markdown",
   "metadata": {},
   "source": [
    "Variable(s): \n",
    "\n",
    "- Population des pays représentés \n",
    "- Variable indiquant si le pays est communiste ou pas \n",
    "- Variable indiquant si le pays est stable ou pas \n",
    "- Variable indiquant si le pays est émergeant ou pas ( otherwise pauvre , riche à peaufiner par la suite) \n",
    "- Variable indiquant si le pays a la culture du sport ou pas. \n",
    "- Variable indiquant le PIB par habitant \n",
    "- Variable indiquant les financements alloués aux sports (olympiques ou pas)\n"
   ]
  },
  {
   "cell_type": "markdown",
   "metadata": {},
   "source": [
    "Il faut créer le train et le test avec des données 2024 , il faut les construire , il faut aussi savoir traiter le fait que cette fois ci la Russie ne sera pas disponible .\n",
    "Faire indice : pays perturbé 1 avec Russie par exemple ou bien on enlève la Russie  (contexte géopolitique simple, on tah les années où j'ai eu un pb )\n",
    "\n",
    "But c'est de prédire le nombre de médailles pour chaque pays , indicateur simple "
   ]
  },
  {
   "cell_type": "code",
   "execution_count": 269,
   "metadata": {},
   "outputs": [
    {
     "name": "stdout",
     "output_type": "stream",
     "text": [
      "Requirement already satisfied: tabulate in c:\\users\\guill\\anaconda3\\lib\\site-packages (0.8.10)\n",
      "In [269] used -209.9 MiB RAM in 7.96s (system mean cpu 10%, single max cpu 100%), peaked 0.0 MiB above final usage, current RAM usage now 1218.6 MiB\n"
     ]
    }
   ],
   "source": [
    "# !pip install ydata_profiling\n",
    "!pip install tabulate\n"
   ]
  },
  {
   "cell_type": "code",
   "execution_count": 270,
   "metadata": {},
   "outputs": [
    {
     "name": "stdout",
     "output_type": "stream",
     "text": [
      "In [270] used 0.0 MiB RAM in 0.12s (system mean cpu 4%, single max cpu 67%), peaked 0.0 MiB above final usage, current RAM usage now 1218.6 MiB\n"
     ]
    }
   ],
   "source": [
    "import pandas as pd\n",
    "import numpy as np\n",
    "import ipython_memory_usage.ipython_memory_usage as imu\n",
    "from describe_csv import *  # charge le fichier describe_csv.py par chunk de 10 000 (10**4)\n",
    "from ydata_profiling import ProfileReport\n",
    "import math\n",
    "%matplotlib inline\n",
    "import matplotlib.pyplot as plt\n",
    "from matplotlib.pyplot import *\n",
    "import scipy as sp\n",
    "import scipy.stats\n",
    "from pivottablejs import pivot_ui\n",
    "import seaborn as sns\n",
    "\n",
    "from sklearn.impute import SimpleImputer\n",
    "from sklearn.impute import KNNImputer\n",
    "from sklearn import metrics\n",
    "from sklearn import preprocessing\n",
    "from sklearn.ensemble import RandomForestClassifier\n",
    "from sklearn.model_selection import cross_val_score\n",
    "from sklearn.model_selection import GridSearchCV, RandomizedSearchCV\n",
    "from sklearn.model_selection import train_test_split\n",
    "\n",
    "from sklearn.pipeline import make_pipeline, make_union\n",
    "from sklearn.pipeline import Pipeline, FeatureUnion\n",
    "from sklearn.impute import SimpleImputer\n",
    "from sklearn.compose import ColumnTransformer, make_column_transformer, make_column_selector\n",
    "from sklearn.preprocessing import OneHotEncoder, StandardScaler, RobustScaler\n",
    "from sklearn.preprocessing import FunctionTransformer\n",
    "from sklearn.metrics import accuracy_score\n",
    "from sklearn.ensemble import RandomForestClassifier\n",
    "\n",
    "imu.start_watching_memory()\n",
    "\n"
   ]
  },
  {
   "cell_type": "markdown",
   "metadata": {},
   "source": [
    "# TODO -- Introduction  (Business Understanding) "
   ]
  },
  {
   "cell_type": "markdown",
   "metadata": {},
   "source": [
    "## TODO Détermination objectifs métier , analytique du projet "
   ]
  },
  {
   "cell_type": "markdown",
   "metadata": {},
   "source": [
    "## TODO Identifier les contraintes , limites et risque du projet"
   ]
  },
  {
   "cell_type": "markdown",
   "metadata": {},
   "source": [
    "# 2. Data understanding (compréhension des données)\n",
    "\n",
    "\n",
    "## 2.1.  Chargement des données"
   ]
  },
  {
   "cell_type": "markdown",
   "metadata": {},
   "source": [
    "### Chargement des différentes bases de données + étude du chargement en mémoire"
   ]
  },
  {
   "cell_type": "code",
   "execution_count": 271,
   "metadata": {},
   "outputs": [
    {
     "name": "stdout",
     "output_type": "stream",
     "text": [
      "In [271] used -2.7 MiB RAM in 1.66s (system mean cpu 7%, single max cpu 100%), peaked 54.7 MiB above final usage, current RAM usage now 1215.9 MiB\n"
     ]
    }
   ],
   "source": [
    "df = pd.read_csv(\"data/athlete_events.csv\")\n",
    "region_df = pd.read_csv(\"data/noc_regions.csv\")\n",
    "dictionary = pd.read_csv(\"data/dictionary.csv\")"
   ]
  },
  {
   "cell_type": "code",
   "execution_count": 272,
   "metadata": {},
   "outputs": [
    {
     "data": {
      "text/plain": [
       "31695012"
      ]
     },
     "execution_count": 272,
     "metadata": {},
     "output_type": "execute_result"
    },
    {
     "name": "stdout",
     "output_type": "stream",
     "text": [
      "In [272] used 0.0 MiB RAM in 0.13s (system mean cpu 0%, single max cpu 0%), peaked 0.0 MiB above final usage, current RAM usage now 1215.9 MiB\n"
     ]
    }
   ],
   "source": [
    "# méthode pour calculer la taille réelle occupée par le dataframe : les index occupent aussi de la place en mémoire\n",
    "df.memory_usage(index=True).sum()"
   ]
  },
  {
   "cell_type": "markdown",
   "metadata": {},
   "source": [
    "32534052 octets = 32,53 MB =  32534,052 KB."
   ]
  },
  {
   "cell_type": "markdown",
   "metadata": {},
   "source": [
    "## 2.2 Décrire les données\n",
    "\n",
    "### Charger les données avec describe_csv et indiquer les types optimaux pour chaque colonne. "
   ]
  },
  {
   "cell_type": "code",
   "execution_count": 283,
   "metadata": {},
   "outputs": [
    {
     "name": "stdout",
     "output_type": "stream",
     "text": [
      "0 M rows approx.\n",
      "1 2 3 4 5 6 7 8 9 10 11 12 13 14 15 16 17 18 19 20 21 22 23 24 25 26 27 28 29 \n",
      "---------------------------------------------------\n",
      "data/athlete_events.csv\n",
      "---------------------------------------------------\n",
      "       Col     type   min    max  nulls optimal type\n",
      "0     Name   object     -      -      -       object\n",
      "1      Sex   object     -      -      -       object\n",
      "2      Age  float64  10.0   97.0   9633         int8\n",
      "3   Height  float64  0.01  226.0  67360      float16\n",
      "4   Weight  float64  25.0  214.0  74749        int16\n",
      "5     Team   object     -      -      -       object\n",
      "6      NOC   object     -      -      -       object\n",
      "7    Games   object     -      -      -       object\n",
      "8     Year    int64  1896   2020      0        int16\n",
      "9   Season   object     -      -      -       object\n",
      "10    City   object     -      -      -       object\n",
      "11   Sport   object     -      -      -       object\n",
      "12   Event   object     -      -      -       object\n",
      "13   Medal   object     -      -      -       object\n",
      "\n",
      " 282990  rows\n",
      "In [283] used 4.3 MiB RAM in 0.78s (system mean cpu 8%, single max cpu 75%), peaked 7.4 MiB above final usage, current RAM usage now 1292.2 MiB\n"
     ]
    }
   ],
   "source": [
    "describe_csv(\"data/athlete_events.csv\", delimiter=',')"
   ]
  },
  {
   "cell_type": "code",
   "execution_count": 274,
   "metadata": {},
   "outputs": [
    {
     "name": "stdout",
     "output_type": "stream",
     "text": [
      "0 M rows approx.\n",
      "1 \n",
      "---------------------------------------------------\n",
      "data/noc_regions.csv\n",
      "---------------------------------------------------\n",
      "      Col    type min max nulls optimal type\n",
      "0     NOC  object   -   -     -       object\n",
      "1  region  object   -   -     -       object\n",
      "2   notes  object   -   -     -       object\n",
      "\n",
      " 0  rows\n",
      "0 M rows approx.\n",
      "1 \n",
      "---------------------------------------------------\n",
      "data/dictionary.csv\n",
      "---------------------------------------------------\n",
      "              Col     type         min            max nulls optimal type\n",
      "0         Country   object           -              -     -       object\n",
      "1            Code   object           -              -     -       object\n",
      "2      Population  float64     10222.0   1371220000.0     5        int32\n",
      "3  GDP per Capita  float64  277.068309  101449.968168    25      float32\n",
      "\n",
      " 201  rows\n",
      "In [274] used 0.0 MiB RAM in 0.30s (system mean cpu 18%, single max cpu 58%), peaked 0.0 MiB above final usage, current RAM usage now 1223.2 MiB\n"
     ]
    }
   ],
   "source": [
    "describe_csv(\"data/noc_regions.csv\", delimiter=',')\n",
    "describe_csv(\"data/dictionary.csv\", delimiter=',')"
   ]
  },
  {
   "cell_type": "code",
   "execution_count": 286,
   "metadata": {},
   "outputs": [
    {
     "name": "stdout",
     "output_type": "stream",
     "text": [
      "Name           0\n",
      "Sex          159\n",
      "Age         9474\n",
      "Height     66003\n",
      "Weight     73401\n",
      "Team           0\n",
      "NOC            0\n",
      "Games          0\n",
      "Year           0\n",
      "Season         0\n",
      "City           0\n",
      "Sport        159\n",
      "Event       9492\n",
      "Medal     239451\n",
      "dtype: int64\n",
      "In [286] used 0.0 MiB RAM in 0.19s (system mean cpu 5%, single max cpu 21%), peaked 0.0 MiB above final usage, current RAM usage now 1286.2 MiB\n"
     ]
    }
   ],
   "source": [
    "print(df.isnull().sum())"
   ]
  },
  {
   "cell_type": "markdown",
   "metadata": {},
   "source": []
  },
  {
   "cell_type": "markdown",
   "metadata": {},
   "source": [
    "## EDA"
   ]
  },
  {
   "cell_type": "markdown",
   "metadata": {},
   "source": [
    "### Terget Medals : Nous allons construire des représentations graphiques nous permettant d'observer les Medals en fonction des autres variables.On effectue des transformations sur les données pour les besoins de cette analyse exploratoire (pas forcément les mêmes transformations que celles nécessaires lors de l'étape de Feature engineering)."
   ]
  },
  {
   "cell_type": "code",
   "execution_count": 278,
   "metadata": {},
   "outputs": [
    {
     "data": {
      "text/html": [
       "<div>\n",
       "<style scoped>\n",
       "    .dataframe tbody tr th:only-of-type {\n",
       "        vertical-align: middle;\n",
       "    }\n",
       "\n",
       "    .dataframe tbody tr th {\n",
       "        vertical-align: top;\n",
       "    }\n",
       "\n",
       "    .dataframe thead th {\n",
       "        text-align: right;\n",
       "    }\n",
       "</style>\n",
       "<table border=\"1\" class=\"dataframe\">\n",
       "  <thead>\n",
       "    <tr style=\"text-align: right;\">\n",
       "      <th></th>\n",
       "      <th>Name</th>\n",
       "      <th>Sex</th>\n",
       "      <th>Age</th>\n",
       "      <th>Height</th>\n",
       "      <th>Weight</th>\n",
       "      <th>Team</th>\n",
       "      <th>NOC</th>\n",
       "      <th>Games</th>\n",
       "      <th>Year</th>\n",
       "      <th>Season</th>\n",
       "      <th>City</th>\n",
       "      <th>Sport</th>\n",
       "      <th>Event</th>\n",
       "      <th>Medal</th>\n",
       "    </tr>\n",
       "  </thead>\n",
       "  <tbody>\n",
       "    <tr>\n",
       "      <th>0</th>\n",
       "      <td>A Dijiang</td>\n",
       "      <td>M</td>\n",
       "      <td>24.0</td>\n",
       "      <td>180.0</td>\n",
       "      <td>80.0</td>\n",
       "      <td>China</td>\n",
       "      <td>CHN</td>\n",
       "      <td>1992 Summer</td>\n",
       "      <td>1992</td>\n",
       "      <td>Summer</td>\n",
       "      <td>Barcelona</td>\n",
       "      <td>Basketball</td>\n",
       "      <td>Basketball Men's Basketball</td>\n",
       "      <td>NaN</td>\n",
       "    </tr>\n",
       "    <tr>\n",
       "      <th>1</th>\n",
       "      <td>A Lamusi</td>\n",
       "      <td>M</td>\n",
       "      <td>23.0</td>\n",
       "      <td>170.0</td>\n",
       "      <td>60.0</td>\n",
       "      <td>China</td>\n",
       "      <td>CHN</td>\n",
       "      <td>2012 Summer</td>\n",
       "      <td>2012</td>\n",
       "      <td>Summer</td>\n",
       "      <td>London</td>\n",
       "      <td>Judo</td>\n",
       "      <td>Judo Men's Extra-Lightweight</td>\n",
       "      <td>NaN</td>\n",
       "    </tr>\n",
       "    <tr>\n",
       "      <th>2</th>\n",
       "      <td>Gunnar Nielsen Aaby</td>\n",
       "      <td>M</td>\n",
       "      <td>24.0</td>\n",
       "      <td>NaN</td>\n",
       "      <td>NaN</td>\n",
       "      <td>Denmark</td>\n",
       "      <td>DEN</td>\n",
       "      <td>1920 Summer</td>\n",
       "      <td>1920</td>\n",
       "      <td>Summer</td>\n",
       "      <td>Antwerpen</td>\n",
       "      <td>Football</td>\n",
       "      <td>Football Men's Football</td>\n",
       "      <td>NaN</td>\n",
       "    </tr>\n",
       "    <tr>\n",
       "      <th>3</th>\n",
       "      <td>Edgar Lindenau Aabye</td>\n",
       "      <td>M</td>\n",
       "      <td>34.0</td>\n",
       "      <td>NaN</td>\n",
       "      <td>NaN</td>\n",
       "      <td>Denmark/Sweden</td>\n",
       "      <td>DEN</td>\n",
       "      <td>1900 Summer</td>\n",
       "      <td>1900</td>\n",
       "      <td>Summer</td>\n",
       "      <td>Paris</td>\n",
       "      <td>Tug-Of-War</td>\n",
       "      <td>Tug-Of-War Men's Tug-Of-War</td>\n",
       "      <td>Gold</td>\n",
       "    </tr>\n",
       "    <tr>\n",
       "      <th>4</th>\n",
       "      <td>Christine Jacoba Aaftink</td>\n",
       "      <td>F</td>\n",
       "      <td>21.0</td>\n",
       "      <td>185.0</td>\n",
       "      <td>82.0</td>\n",
       "      <td>Netherlands</td>\n",
       "      <td>NED</td>\n",
       "      <td>1988 Winter</td>\n",
       "      <td>1988</td>\n",
       "      <td>Winter</td>\n",
       "      <td>Calgary</td>\n",
       "      <td>Speed Skating</td>\n",
       "      <td>Speed Skating Women's 500 metres</td>\n",
       "      <td>NaN</td>\n",
       "    </tr>\n",
       "  </tbody>\n",
       "</table>\n",
       "</div>"
      ],
      "text/plain": [
       "                       Name Sex   Age  Height  Weight            Team  NOC  \\\n",
       "0                 A Dijiang   M  24.0   180.0    80.0           China  CHN   \n",
       "1                  A Lamusi   M  23.0   170.0    60.0           China  CHN   \n",
       "2       Gunnar Nielsen Aaby   M  24.0     NaN     NaN         Denmark  DEN   \n",
       "3      Edgar Lindenau Aabye   M  34.0     NaN     NaN  Denmark/Sweden  DEN   \n",
       "4  Christine Jacoba Aaftink   F  21.0   185.0    82.0     Netherlands  NED   \n",
       "\n",
       "         Games  Year  Season       City          Sport  \\\n",
       "0  1992 Summer  1992  Summer  Barcelona     Basketball   \n",
       "1  2012 Summer  2012  Summer     London           Judo   \n",
       "2  1920 Summer  1920  Summer  Antwerpen       Football   \n",
       "3  1900 Summer  1900  Summer      Paris     Tug-Of-War   \n",
       "4  1988 Winter  1988  Winter    Calgary  Speed Skating   \n",
       "\n",
       "                              Event Medal  \n",
       "0       Basketball Men's Basketball   NaN  \n",
       "1      Judo Men's Extra-Lightweight   NaN  \n",
       "2           Football Men's Football   NaN  \n",
       "3       Tug-Of-War Men's Tug-Of-War  Gold  \n",
       "4  Speed Skating Women's 500 metres   NaN  "
      ]
     },
     "execution_count": 278,
     "metadata": {},
     "output_type": "execute_result"
    },
    {
     "name": "stdout",
     "output_type": "stream",
     "text": [
      "In [278] used 0.0 MiB RAM in 0.28s (system mean cpu 0%, single max cpu 0%), peaked 0.0 MiB above final usage, current RAM usage now 1226.2 MiB\n"
     ]
    }
   ],
   "source": [
    "df.head()"
   ]
  },
  {
   "cell_type": "code",
   "execution_count": 279,
   "metadata": {},
   "outputs": [
    {
     "name": "stdout",
     "output_type": "stream",
     "text": [
      "In [279] used 4.9 MiB RAM in 0.72s (system mean cpu 15%, single max cpu 59%), peaked 4.3 MiB above final usage, current RAM usage now 1231.0 MiB\n"
     ]
    }
   ],
   "source": [
    "df['NOC'] = df['NOC'].replace(['Soviet Union', 'URS'], 'RUS')\n",
    "\n",
    "df['Team'] = df['Team'].replace(['Soviet Union', 'URS'], 'Russia')\n",
    "df['Team'] = df['Team'].replace(['East Germany'], 'Germany')"
   ]
  },
  {
   "cell_type": "code",
   "execution_count": 280,
   "metadata": {},
   "outputs": [
    {
     "name": "stdout",
     "output_type": "stream",
     "text": [
      "In [280] used 28.3 MiB RAM in 2.45s (system mean cpu 15%, single max cpu 100%), peaked 20.3 MiB above final usage, current RAM usage now 1259.3 MiB\n"
     ]
    }
   ],
   "source": [
    "df.drop_duplicates(inplace=True)\n"
   ]
  },
  {
   "cell_type": "code",
   "execution_count": 281,
   "metadata": {},
   "outputs": [
    {
     "data": {
      "image/png": "[encoded data removed]",
      "text/plain": [
       "<Figure size 1200x400 with 1 Axes>"
      ]
     },
     "metadata": {},
     "output_type": "display_data"
    },
    {
     "name": "stdout",
     "output_type": "stream",
     "text": [
      "In [281] used 1.9 MiB RAM in 2.49s (system mean cpu 14%, single max cpu 85%), peaked 3.2 MiB above final usage, current RAM usage now 1261.2 MiB\n"
     ]
    }
   ],
   "source": [
    "top_10_countries = df.groupby('Team')['Medal'].count().nlargest(10)\n",
    "\n",
    "fig, ax = plt.subplots(figsize=(12, 4))\n",
    "ax.bar(top_10_countries.index, top_10_countries.values, color='#003f5c')\n",
    "ax.set_title('Top 10 Countries with the Highest Medal Counts', color='#003f5c')\n",
    "ax.set_xlabel('Country', color='#003f5c')\n",
    "ax.set_ylabel('Number of Medals', color='#003f5c')\n",
    "ax.tick_params(axis='both', colors='#003f5c')\n",
    "ax.grid(axis='y', linestyle='--', color='#003f5c')\n",
    "\n",
    "for i, country in enumerate(top_10_countries.index):\n",
    "    ax.text(i, top_10_countries[country] + 0.5, str(top_10_countries[country]), color='white', ha='center')\n",
    "\n",
    "plt.show()\n"
   ]
  },
  {
   "cell_type": "code",
   "execution_count": 282,
   "metadata": {},
   "outputs": [
    {
     "ename": "KeyError",
     "evalue": "'Column not found: ID'",
     "output_type": "error",
     "traceback": [
      "\u001b[1;31m---------------------------------------------------------------------------\u001b[0m",
      "\u001b[1;31mKeyError\u001b[0m                                  Traceback (most recent call last)",
      "Cell \u001b[1;32mIn[282], line 2\u001b[0m\n\u001b[0;32m      1\u001b[0m \u001b[38;5;66;03m# Group the data by year and count the number of unique medalists for summer games\u001b[39;00m\n\u001b[1;32m----> 2\u001b[0m summer_medalists \u001b[38;5;241m=\u001b[39m df[df[\u001b[38;5;124m'\u001b[39m\u001b[38;5;124mSeason\u001b[39m\u001b[38;5;124m'\u001b[39m] \u001b[38;5;241m==\u001b[39m \u001b[38;5;124m'\u001b[39m\u001b[38;5;124mSummer\u001b[39m\u001b[38;5;124m'\u001b[39m]\u001b[38;5;241m.\u001b[39mgroupby(\u001b[38;5;124m'\u001b[39m\u001b[38;5;124mYear\u001b[39m\u001b[38;5;124m'\u001b[39m)[\u001b[38;5;124m'\u001b[39m\u001b[38;5;124mID\u001b[39m\u001b[38;5;124m'\u001b[39m]\u001b[38;5;241m.\u001b[39mnunique()\n\u001b[0;32m      4\u001b[0m \u001b[38;5;66;03m# Group the data by year and count the number of unique medalists for winter games\u001b[39;00m\n\u001b[0;32m      5\u001b[0m winter_medalists \u001b[38;5;241m=\u001b[39m df[df[\u001b[38;5;124m'\u001b[39m\u001b[38;5;124mSeason\u001b[39m\u001b[38;5;124m'\u001b[39m] \u001b[38;5;241m==\u001b[39m \u001b[38;5;124m'\u001b[39m\u001b[38;5;124mWinter\u001b[39m\u001b[38;5;124m'\u001b[39m]\u001b[38;5;241m.\u001b[39mgroupby(\u001b[38;5;124m'\u001b[39m\u001b[38;5;124mYear\u001b[39m\u001b[38;5;124m'\u001b[39m)[\u001b[38;5;124m'\u001b[39m\u001b[38;5;124mID\u001b[39m\u001b[38;5;124m'\u001b[39m]\u001b[38;5;241m.\u001b[39mnunique()\n",
      "File \u001b[1;32mc:\\Users\\guill\\anaconda3\\Lib\\site-packages\\pandas\\core\\groupby\\generic.py:1771\u001b[0m, in \u001b[0;36mDataFrameGroupBy.__getitem__\u001b[1;34m(self, key)\u001b[0m\n\u001b[0;32m   1764\u001b[0m \u001b[38;5;28;01mif\u001b[39;00m \u001b[38;5;28misinstance\u001b[39m(key, \u001b[38;5;28mtuple\u001b[39m) \u001b[38;5;129;01mand\u001b[39;00m \u001b[38;5;28mlen\u001b[39m(key) \u001b[38;5;241m>\u001b[39m \u001b[38;5;241m1\u001b[39m:\n\u001b[0;32m   1765\u001b[0m     \u001b[38;5;66;03m# if len == 1, then it becomes a SeriesGroupBy and this is actually\u001b[39;00m\n\u001b[0;32m   1766\u001b[0m     \u001b[38;5;66;03m# valid syntax, so don't raise\u001b[39;00m\n\u001b[0;32m   1767\u001b[0m     \u001b[38;5;28;01mraise\u001b[39;00m \u001b[38;5;167;01mValueError\u001b[39;00m(\n\u001b[0;32m   1768\u001b[0m         \u001b[38;5;124m\"\u001b[39m\u001b[38;5;124mCannot subset columns with a tuple with more than one element. \u001b[39m\u001b[38;5;124m\"\u001b[39m\n\u001b[0;32m   1769\u001b[0m         \u001b[38;5;124m\"\u001b[39m\u001b[38;5;124mUse a list instead.\u001b[39m\u001b[38;5;124m\"\u001b[39m\n\u001b[0;32m   1770\u001b[0m     )\n\u001b[1;32m-> 1771\u001b[0m \u001b[38;5;28;01mreturn\u001b[39;00m \u001b[38;5;28msuper\u001b[39m()\u001b[38;5;241m.\u001b[39m\u001b[38;5;21m__getitem__\u001b[39m(key)\n",
      "File \u001b[1;32mc:\\Users\\guill\\anaconda3\\Lib\\site-packages\\pandas\\core\\base.py:244\u001b[0m, in \u001b[0;36mSelectionMixin.__getitem__\u001b[1;34m(self, key)\u001b[0m\n\u001b[0;32m    242\u001b[0m \u001b[38;5;28;01melse\u001b[39;00m:\n\u001b[0;32m    243\u001b[0m     \u001b[38;5;28;01mif\u001b[39;00m key \u001b[38;5;129;01mnot\u001b[39;00m \u001b[38;5;129;01min\u001b[39;00m \u001b[38;5;28mself\u001b[39m\u001b[38;5;241m.\u001b[39mobj:\n\u001b[1;32m--> 244\u001b[0m         \u001b[38;5;28;01mraise\u001b[39;00m \u001b[38;5;167;01mKeyError\u001b[39;00m(\u001b[38;5;124mf\u001b[39m\u001b[38;5;124m\"\u001b[39m\u001b[38;5;124mColumn not found: \u001b[39m\u001b[38;5;132;01m{\u001b[39;00mkey\u001b[38;5;132;01m}\u001b[39;00m\u001b[38;5;124m\"\u001b[39m)\n\u001b[0;32m    245\u001b[0m     ndim \u001b[38;5;241m=\u001b[39m \u001b[38;5;28mself\u001b[39m\u001b[38;5;241m.\u001b[39mobj[key]\u001b[38;5;241m.\u001b[39mndim\n\u001b[0;32m    246\u001b[0m     \u001b[38;5;28;01mreturn\u001b[39;00m \u001b[38;5;28mself\u001b[39m\u001b[38;5;241m.\u001b[39m_gotitem(key, ndim\u001b[38;5;241m=\u001b[39mndim)\n",
      "\u001b[1;31mKeyError\u001b[0m: 'Column not found: ID'"
     ]
    },
    {
     "name": "stdout",
     "output_type": "stream",
     "text": [
      "In [282] used 26.7 MiB RAM in 1.24s (system mean cpu 16%, single max cpu 68%), peaked 0.0 MiB above final usage, current RAM usage now 1287.9 MiB\n"
     ]
    }
   ],
   "source": [
    "# Group the data by year and count the number of unique medalists for summer games\n",
    "summer_medalists = df[df['Season'] == 'Summer'].groupby('Year')['ID'].nunique()\n",
    "\n",
    "# Group the data by year and count the number of unique medalists for winter games\n",
    "winter_medalists = df[df['Season'] == 'Winter'].groupby('Year')['ID'].nunique()\n",
    "\n",
    "# Plot the data using a line plot\n",
    "plt.figure(figsize=(12, 4))\n",
    "summer_medalists.plot(label='Summer Games', color='#01a8e6', linewidth=2)\n",
    "winter_medalists.plot(label='Winter Games', color='#4c687b', linewidth=2)\n",
    "plt.title('Total Number of Medalists in Olympic Games Over Time', fontsize=18, color='#003f5c')\n",
    "plt.xlabel('Year', fontsize=14, fontweight='bold', color='#003f5c')\n",
    "plt.ylabel('Number of Medalists', fontsize=14, fontweight='bold', color='#003f5c')\n",
    "plt.legend(prop={'size': 12, 'weight': 'bold'}, loc='upper left')\n",
    "plt.grid(axis='y', linestyle='--', alpha=0.5, color='#003f5c')\n",
    "plt.tight_layout()\n",
    "plt.show()\n"
   ]
  },
  {
   "cell_type": "code",
   "execution_count": null,
   "metadata": {},
   "outputs": [
    {
     "data": {
      "image/png": "[encoded data removed]",
      "text/plain": [
       "<Figure size 1200x600 with 1 Axes>"
      ]
     },
     "metadata": {},
     "output_type": "display_data"
    },
    {
     "name": "stdout",
     "output_type": "stream",
     "text": [
      "In [153] used 1.0 MiB RAM in 0.30s (system mean cpu 4%, single max cpu 100%), peaked 5.4 MiB above final usage, current RAM usage now 1004.6 MiB\n"
     ]
    }
   ],
   "source": [
    "# Créer un graphique à barres pour visualiser les données\n",
    "plt.figure(figsize=(12, 6))\n",
    "bar_width = 0.4  # Ajoutez cette ligne pour définir la largeur des barres\n",
    "bars = plt.bar(top_10_sports.index, top_10_sports['Medal Count'], width=bar_width, color='#003f5c')\n",
    "\n",
    "# Ajouter le nombre de médailles remportées dans chaque barre\n",
    "for i, bar in enumerate(bars):\n",
    "    plt.text(i, bar.get_height() + 0.5, str(top_10_sports.loc[top_10_sports.index[i], 'Medal Count']), ha='center', color='white')\n",
    "\n",
    "plt.title('Top 10 Sports with Most Medals in Summer Olympics', fontsize=18, color='#003f5c')\n",
    "plt.xlabel('Sport', fontsize=14, color='#003f5c')\n",
    "plt.ylabel('Number of Medals', fontsize=14, color='#003f5c')\n",
    "plt.xticks(rotation=45, ha='right', fontsize=12, color='#003f5c')\n",
    "plt.yticks(fontsize=12, color='#003f5c')\n",
    "plt.grid(axis='y', linestyle='--', alpha=0.5, color='#003f5c')\n",
    "plt.tight_layout()\n",
    "plt.show()\n"
   ]
  },
  {
   "cell_type": "code",
   "execution_count": null,
   "metadata": {},
   "outputs": [],
   "source": []
  },
  {
   "cell_type": "code",
   "execution_count": null,
   "metadata": {},
   "outputs": [
    {
     "name": "stdout",
     "output_type": "stream",
     "text": [
      "Requirement already satisfied: tabulate in c:\\users\\guill\\anaconda3\\lib\\site-packages (0.8.10)\n",
      "+----+-------------------------------------------------+------------+---------------+\n",
      "|    | Athlete                                         | Sport      |   Medal Count |\n",
      "+====+=================================================+============+===============+\n",
      "|  0 | Michael Fred Phelps, II                         | Swimming   |            28 |\n",
      "+----+-------------------------------------------------+------------+---------------+\n",
      "|  1 | Larysa Semenivna Latynina (Diriy-)              | Gymnastics |            18 |\n",
      "+----+-------------------------------------------------+------------+---------------+\n",
      "|  2 | Nikolay Yefimovich Andrianov                    | Gymnastics |            15 |\n",
      "+----+-------------------------------------------------+------------+---------------+\n",
      "|  3 | Ole Einar Bjrndalen                             | Biathlon   |            13 |\n",
      "+----+-------------------------------------------------+------------+---------------+\n",
      "|  4 | Borys Anfiyanovych Shakhlin                     | Gymnastics |            13 |\n",
      "+----+-------------------------------------------------+------------+---------------+\n",
      "|  5 | Takashi Ono                                     | Gymnastics |            13 |\n",
      "+----+-------------------------------------------------+------------+---------------+\n",
      "|  6 | Edoardo Mangiarotti                             | Fencing    |            13 |\n",
      "+----+-------------------------------------------------+------------+---------------+\n",
      "|  7 | Jennifer Elisabeth \"Jenny\" Thompson (-Cumpelik) | Swimming   |            12 |\n",
      "+----+-------------------------------------------------+------------+---------------+\n",
      "|  8 | Sawao Kato                                      | Gymnastics |            12 |\n",
      "+----+-------------------------------------------------+------------+---------------+\n",
      "|  9 | Natalie Anne Coughlin (-Hall)                   | Swimming   |            12 |\n",
      "+----+-------------------------------------------------+------------+---------------+\n",
      "In [154] used 2.2 MiB RAM in 6.60s (system mean cpu 3%, single max cpu 100%), peaked 9.5 MiB above final usage, current RAM usage now 1006.8 MiB\n"
     ]
    }
   ],
   "source": [
    "\n",
    "import tabulate\n",
    "\n",
    "# Group the data by athlete name and count the number of medals\n",
    "top_10_athletes = df.groupby(['Name', 'Sport'])['Medal'].count().sort_values(ascending=False).head(10)\n",
    "\n",
    "# Reset the index to create columns for Name and Sport\n",
    "top_10_athletes = top_10_athletes.reset_index()\n",
    "\n",
    "# Rename the columns\n",
    "top_10_athletes.columns = ['Athlete', 'Sport', 'Medal Count']\n",
    "\n",
    "# Print the table using tabulate\n",
    "print(tabulate.tabulate(top_10_athletes, headers='keys', tablefmt='grid', numalign='right'))\n"
   ]
  },
  {
   "cell_type": "code",
   "execution_count": null,
   "metadata": {},
   "outputs": [
    {
     "data": {
      "image/png": "[encoded data removed]",
      "text/plain": [
       "<Figure size 1200x600 with 1 Axes>"
      ]
     },
     "metadata": {},
     "output_type": "display_data"
    },
    {
     "name": "stdout",
     "output_type": "stream",
     "text": [
      "In [155] used 3.1 MiB RAM in 0.38s (system mean cpu 2%, single max cpu 100%), peaked 2.8 MiB above final usage, current RAM usage now 1009.9 MiB\n"
     ]
    }
   ],
   "source": [
    "# Calculate the minimum and maximum age\n",
    "min_age = df['Age'].min()\n",
    "max_age = df['Age'].max()\n",
    "\n",
    "# Group the data by age and count the number of medals for each age group\n",
    "medals_by_age = df.groupby('Age')['Medal'].count()\n",
    "\n",
    "# Filter the data between min and max age\n",
    "filtered_medals_by_age = medals_by_age.loc[min_age:max_age]\n",
    "\n",
    "# Plot the distribution of medals in relation to age\n",
    "plt.figure(figsize=(12, 6))\n",
    "plt.title('Distribution of Medals in Relation to Age', fontsize=18, fontweight='bold', color='#003f5c')\n",
    "plt.xlabel('Age', fontsize=14, fontweight='bold', color='#003f5c')\n",
    "plt.ylabel('Number of Medals', fontsize=14, fontweight='bold', color='#003f5c')\n",
    "plt.bar(filtered_medals_by_age.index, filtered_medals_by_age.values, color='#5c3d7a', edgecolor='white')\n",
    "plt.xticks(fontsize=12, color='#003f5c')\n",
    "plt.yticks(fontsize=12, color='#003f5c')\n",
    "plt.grid(axis='y', linestyle='--', alpha=0.5, color='#003f5c')\n",
    "plt.xlim(min_age - 0.5, max_age + 0.5)\n",
    "plt.tight_layout()\n",
    "plt.show()\n"
   ]
  },
  {
   "cell_type": "code",
   "execution_count": null,
   "metadata": {},
   "outputs": [],
   "source": []
  },
  {
   "cell_type": "code",
   "execution_count": null,
   "metadata": {},
   "outputs": [],
   "source": []
  },
  {
   "cell_type": "code",
   "execution_count": null,
   "metadata": {},
   "outputs": [],
   "source": []
  },
  {
   "cell_type": "markdown",
   "metadata": {},
   "source": [
    "## Fusion des bases + Nettoyage"
   ]
  },
  {
   "cell_type": "code",
   "execution_count": null,
   "metadata": {},
   "outputs": [
    {
     "name": "stdout",
     "output_type": "stream",
     "text": [
      "In [206] used 7.5 MiB RAM in 0.51s (system mean cpu 10%, single max cpu 71%), peaked 48.9 MiB above final usage, current RAM usage now 1282.7 MiB\n"
     ]
    }
   ],
   "source": [
    "df = pd.read_csv(\"data/athlete_events.csv\")\n",
    "region_df = pd.read_csv(\"data/noc_regions.csv\")\n",
    "dictionary = pd.read_csv(\"data/dictionary.csv\")"
   ]
  },
  {
   "cell_type": "markdown",
   "metadata": {},
   "source": [
    "#### Normalisation de pays en-tête de classement (Russie, Allemagne)"
   ]
  },
  {
   "cell_type": "code",
   "execution_count": null,
   "metadata": {},
   "outputs": [
    {
     "name": "stdout",
     "output_type": "stream",
     "text": [
      "In [162] used 4.1 MiB RAM in 0.22s (system mean cpu 4%, single max cpu 15%), peaked 0.0 MiB above final usage, current RAM usage now 1012.5 MiB\n"
     ]
    }
   ],
   "source": [
    "# RUSSIA\n",
    "df['NOC'] = df['NOC'].replace(['Soviet Union', 'URS'], 'RUS')\n",
    "\n",
    "# GERMANY\n",
    "df['Team'] = df['Team'].replace(['Soviet Union', 'URS'], 'Russia')\n",
    "df['Team'] = df['Team'].replace(['East Germany'], 'Germany')"
   ]
  },
  {
   "cell_type": "markdown",
   "metadata": {},
   "source": [
    "#### Nous nous interessons au JO SUMMER seulement "
   ]
  },
  {
   "cell_type": "code",
   "execution_count": null,
   "metadata": {},
   "outputs": [
    {
     "name": "stdout",
     "output_type": "stream",
     "text": [
      "(233041, 14)\n",
      "In [205] used -5.7 MiB RAM in 0.16s (system mean cpu 3%, single max cpu 10%), peaked 5.6 MiB above final usage, current RAM usage now 1275.2 MiB\n"
     ]
    }
   ],
   "source": [
    "df = df[df['Season'] == \"Summer\"]\n",
    "print(df.shape)"
   ]
  },
  {
   "cell_type": "markdown",
   "metadata": {},
   "source": [
    "### Merge avec noc_regions.csv \n"
   ]
  },
  {
   "cell_type": "code",
   "execution_count": null,
   "metadata": {},
   "outputs": [
    {
     "name": "stdout",
     "output_type": "stream",
     "text": [
      "(271116, 16)\n",
      "In [165] used 2.1 MiB RAM in 0.16s (system mean cpu 3%, single max cpu 17%), peaked 0.0 MiB above final usage, current RAM usage now 1051.5 MiB\n"
     ]
    }
   ],
   "source": [
    "df = df.merge(region_df[['NOC', 'region']], how='left', on='NOC')\n",
    "print(df.shape)"
   ]
  },
  {
   "cell_type": "markdown",
   "metadata": {},
   "source": [
    "### Merge avec dictionary.csv \n"
   ]
  },
  {
   "cell_type": "code",
   "execution_count": null,
   "metadata": {},
   "outputs": [
    {
     "name": "stdout",
     "output_type": "stream",
     "text": [
      "(271116, 17)\n",
      "In [166] used 2.1 MiB RAM in 0.21s (system mean cpu 4%, single max cpu 22%), peaked 0.0 MiB above final usage, current RAM usage now 1053.6 MiB\n"
     ]
    }
   ],
   "source": [
    "df = df.merge(dictionary[['Code', 'GDP per Capita']], how='left', left_on='NOC', right_on='Code')\n",
    "df.drop('Code', axis=1, inplace=True)\n",
    "print(df.shape)"
   ]
  },
  {
   "cell_type": "code",
   "execution_count": null,
   "metadata": {},
   "outputs": [
    {
     "data": {
      "text/html": [
       "<div>\n",
       "<style scoped>\n",
       "    .dataframe tbody tr th:only-of-type {\n",
       "        vertical-align: middle;\n",
       "    }\n",
       "\n",
       "    .dataframe tbody tr th {\n",
       "        vertical-align: top;\n",
       "    }\n",
       "\n",
       "    .dataframe thead th {\n",
       "        text-align: right;\n",
       "    }\n",
       "</style>\n",
       "<table border=\"1\" class=\"dataframe\">\n",
       "  <thead>\n",
       "    <tr style=\"text-align: right;\">\n",
       "      <th></th>\n",
       "      <th>ID</th>\n",
       "      <th>Name</th>\n",
       "      <th>Sex</th>\n",
       "      <th>Age</th>\n",
       "      <th>Height</th>\n",
       "      <th>Weight</th>\n",
       "      <th>Team</th>\n",
       "      <th>NOC</th>\n",
       "      <th>Games</th>\n",
       "      <th>Year</th>\n",
       "      <th>Season</th>\n",
       "      <th>City</th>\n",
       "      <th>Sport</th>\n",
       "      <th>Event</th>\n",
       "      <th>Medal</th>\n",
       "      <th>region</th>\n",
       "      <th>GDP per Capita</th>\n",
       "    </tr>\n",
       "  </thead>\n",
       "  <tbody>\n",
       "    <tr>\n",
       "      <th>0</th>\n",
       "      <td>1</td>\n",
       "      <td>A Dijiang</td>\n",
       "      <td>M</td>\n",
       "      <td>24.0</td>\n",
       "      <td>180.0</td>\n",
       "      <td>80.0</td>\n",
       "      <td>China</td>\n",
       "      <td>CHN</td>\n",
       "      <td>1992 Summer</td>\n",
       "      <td>1992</td>\n",
       "      <td>Summer</td>\n",
       "      <td>Barcelona</td>\n",
       "      <td>Basketball</td>\n",
       "      <td>Basketball Men's Basketball</td>\n",
       "      <td>NaN</td>\n",
       "      <td>China</td>\n",
       "      <td>8027.683810</td>\n",
       "    </tr>\n",
       "    <tr>\n",
       "      <th>1</th>\n",
       "      <td>2</td>\n",
       "      <td>A Lamusi</td>\n",
       "      <td>M</td>\n",
       "      <td>23.0</td>\n",
       "      <td>170.0</td>\n",
       "      <td>60.0</td>\n",
       "      <td>China</td>\n",
       "      <td>CHN</td>\n",
       "      <td>2012 Summer</td>\n",
       "      <td>2012</td>\n",
       "      <td>Summer</td>\n",
       "      <td>London</td>\n",
       "      <td>Judo</td>\n",
       "      <td>Judo Men's Extra-Lightweight</td>\n",
       "      <td>NaN</td>\n",
       "      <td>China</td>\n",
       "      <td>8027.683810</td>\n",
       "    </tr>\n",
       "    <tr>\n",
       "      <th>2</th>\n",
       "      <td>3</td>\n",
       "      <td>Gunnar Nielsen Aaby</td>\n",
       "      <td>M</td>\n",
       "      <td>24.0</td>\n",
       "      <td>NaN</td>\n",
       "      <td>NaN</td>\n",
       "      <td>Denmark</td>\n",
       "      <td>DEN</td>\n",
       "      <td>1920 Summer</td>\n",
       "      <td>1920</td>\n",
       "      <td>Summer</td>\n",
       "      <td>Antwerpen</td>\n",
       "      <td>Football</td>\n",
       "      <td>Football Men's Football</td>\n",
       "      <td>NaN</td>\n",
       "      <td>Denmark</td>\n",
       "      <td>51989.293471</td>\n",
       "    </tr>\n",
       "    <tr>\n",
       "      <th>3</th>\n",
       "      <td>4</td>\n",
       "      <td>Edgar Lindenau Aabye</td>\n",
       "      <td>M</td>\n",
       "      <td>34.0</td>\n",
       "      <td>NaN</td>\n",
       "      <td>NaN</td>\n",
       "      <td>Denmark/Sweden</td>\n",
       "      <td>DEN</td>\n",
       "      <td>1900 Summer</td>\n",
       "      <td>1900</td>\n",
       "      <td>Summer</td>\n",
       "      <td>Paris</td>\n",
       "      <td>Tug-Of-War</td>\n",
       "      <td>Tug-Of-War Men's Tug-Of-War</td>\n",
       "      <td>Gold</td>\n",
       "      <td>Denmark</td>\n",
       "      <td>51989.293471</td>\n",
       "    </tr>\n",
       "    <tr>\n",
       "      <th>4</th>\n",
       "      <td>5</td>\n",
       "      <td>Christine Jacoba Aaftink</td>\n",
       "      <td>F</td>\n",
       "      <td>21.0</td>\n",
       "      <td>185.0</td>\n",
       "      <td>82.0</td>\n",
       "      <td>Netherlands</td>\n",
       "      <td>NED</td>\n",
       "      <td>1988 Winter</td>\n",
       "      <td>1988</td>\n",
       "      <td>Winter</td>\n",
       "      <td>Calgary</td>\n",
       "      <td>Speed Skating</td>\n",
       "      <td>Speed Skating Women's 500 metres</td>\n",
       "      <td>NaN</td>\n",
       "      <td>Netherlands</td>\n",
       "      <td>44299.768085</td>\n",
       "    </tr>\n",
       "  </tbody>\n",
       "</table>\n",
       "</div>"
      ],
      "text/plain": [
       "   ID                      Name Sex   Age  Height  Weight            Team  \\\n",
       "0   1                 A Dijiang   M  24.0   180.0    80.0           China   \n",
       "1   2                  A Lamusi   M  23.0   170.0    60.0           China   \n",
       "2   3       Gunnar Nielsen Aaby   M  24.0     NaN     NaN         Denmark   \n",
       "3   4      Edgar Lindenau Aabye   M  34.0     NaN     NaN  Denmark/Sweden   \n",
       "4   5  Christine Jacoba Aaftink   F  21.0   185.0    82.0     Netherlands   \n",
       "\n",
       "   NOC        Games  Year  Season       City          Sport  \\\n",
       "0  CHN  1992 Summer  1992  Summer  Barcelona     Basketball   \n",
       "1  CHN  2012 Summer  2012  Summer     London           Judo   \n",
       "2  DEN  1920 Summer  1920  Summer  Antwerpen       Football   \n",
       "3  DEN  1900 Summer  1900  Summer      Paris     Tug-Of-War   \n",
       "4  NED  1988 Winter  1988  Winter    Calgary  Speed Skating   \n",
       "\n",
       "                              Event Medal       region  GDP per Capita  \n",
       "0       Basketball Men's Basketball   NaN        China     8027.683810  \n",
       "1      Judo Men's Extra-Lightweight   NaN        China     8027.683810  \n",
       "2           Football Men's Football   NaN      Denmark    51989.293471  \n",
       "3       Tug-Of-War Men's Tug-Of-War  Gold      Denmark    51989.293471  \n",
       "4  Speed Skating Women's 500 metres   NaN  Netherlands    44299.768085  "
      ]
     },
     "execution_count": 167,
     "metadata": {},
     "output_type": "execute_result"
    },
    {
     "name": "stdout",
     "output_type": "stream",
     "text": [
      "In [167] used 0.0 MiB RAM in 0.12s (system mean cpu 4%, single max cpu 17%), peaked 0.0 MiB above final usage, current RAM usage now 1053.6 MiB\n"
     ]
    }
   ],
   "source": [
    "df.head()"
   ]
  },
  {
   "cell_type": "code",
   "execution_count": null,
   "metadata": {},
   "outputs": [
    {
     "data": {
      "text/plain": [
       "Name           0\n",
       "Sex          159\n",
       "Age         9474\n",
       "Height     66003\n",
       "Weight     73401\n",
       "Team           0\n",
       "NOC            0\n",
       "Games          0\n",
       "Year           0\n",
       "Season         0\n",
       "City           0\n",
       "Sport        159\n",
       "Event       9492\n",
       "Medal     239451\n",
       "dtype: int64"
      ]
     },
     "execution_count": 219,
     "metadata": {},
     "output_type": "execute_result"
    },
    {
     "name": "stdout",
     "output_type": "stream",
     "text": [
      "In [219] used -0.1 MiB RAM in 0.18s (system mean cpu 6%, single max cpu 27%), peaked 0.0 MiB above final usage, current RAM usage now 1355.8 MiB\n"
     ]
    }
   ],
   "source": [
    "df.isna().sum()"
   ]
  },
  {
   "cell_type": "code",
   "execution_count": null,
   "metadata": {},
   "outputs": [],
   "source": []
  },
  {
   "cell_type": "code",
   "execution_count": null,
   "metadata": {},
   "outputs": [],
   "source": []
  },
  {
   "cell_type": "markdown",
   "metadata": {},
   "source": [
    "## 3.2. Nettoyer les données\n",
    "\n",
    "### 3.2.1. Données manquantes"
   ]
  },
  {
   "cell_type": "code",
   "execution_count": null,
   "metadata": {},
   "outputs": [
    {
     "data": {
      "text/plain": [
       "Name           0\n",
       "Sex          159\n",
       "Age         9474\n",
       "Height     66003\n",
       "Weight     73401\n",
       "Team           0\n",
       "NOC            0\n",
       "Games          0\n",
       "Year           0\n",
       "Season         0\n",
       "City           0\n",
       "Sport        159\n",
       "Event       9492\n",
       "Medal     239451\n",
       "dtype: int64"
      ]
     },
     "execution_count": 221,
     "metadata": {},
     "output_type": "execute_result"
    },
    {
     "name": "stdout",
     "output_type": "stream",
     "text": [
      "In [221] used 0.0 MiB RAM in 0.20s (system mean cpu 5%, single max cpu 18%), peaked 0.0 MiB above final usage, current RAM usage now 1355.8 MiB\n"
     ]
    }
   ],
   "source": [
    "# Vérification des valeurs NULL \n",
    "df.isnull().sum() "
   ]
  },
  {
   "cell_type": "code",
   "execution_count": null,
   "metadata": {},
   "outputs": [],
   "source": []
  },
  {
   "cell_type": "markdown",
   "metadata": {},
   "source": [
    "#### Traitement des valeurs nulles de la colonne Embarked\n",
    "\n",
    "Essayez de deviner le sex des athletes manquants"
   ]
  },
  {
   "cell_type": "code",
   "execution_count": null,
   "metadata": {},
   "outputs": [
    {
     "data": {
      "text/html": [
       "<div>\n",
       "<style scoped>\n",
       "    .dataframe tbody tr th:only-of-type {\n",
       "        vertical-align: middle;\n",
       "    }\n",
       "\n",
       "    .dataframe tbody tr th {\n",
       "        vertical-align: top;\n",
       "    }\n",
       "\n",
       "    .dataframe thead th {\n",
       "        text-align: right;\n",
       "    }\n",
       "</style>\n",
       "<table border=\"1\" class=\"dataframe\">\n",
       "  <thead>\n",
       "    <tr style=\"text-align: right;\">\n",
       "      <th></th>\n",
       "      <th>Name</th>\n",
       "      <th>Sex</th>\n",
       "      <th>Age</th>\n",
       "      <th>Height</th>\n",
       "      <th>Weight</th>\n",
       "      <th>Team</th>\n",
       "      <th>NOC</th>\n",
       "      <th>Games</th>\n",
       "      <th>Year</th>\n",
       "      <th>Season</th>\n",
       "      <th>City</th>\n",
       "      <th>Sport</th>\n",
       "      <th>Event</th>\n",
       "      <th>Medal</th>\n",
       "    </tr>\n",
       "  </thead>\n",
       "  <tbody>\n",
       "    <tr>\n",
       "      <th>271258</th>\n",
       "      <td>AICOBOAE Vlad</td>\n",
       "      <td>NaN</td>\n",
       "      <td>NaN</td>\n",
       "      <td>NaN</td>\n",
       "      <td>NaN</td>\n",
       "      <td>Romania</td>\n",
       "      <td>ROU</td>\n",
       "      <td>Tokyo 2020</td>\n",
       "      <td>2020</td>\n",
       "      <td>Summer</td>\n",
       "      <td>Tokyo</td>\n",
       "      <td>NaN</td>\n",
       "      <td>NaN</td>\n",
       "      <td>NaN</td>\n",
       "    </tr>\n",
       "    <tr>\n",
       "      <th>271272</th>\n",
       "      <td>AKHTAR Muhammad Khalil</td>\n",
       "      <td>NaN</td>\n",
       "      <td>NaN</td>\n",
       "      <td>NaN</td>\n",
       "      <td>NaN</td>\n",
       "      <td>Pakistan</td>\n",
       "      <td>PAK</td>\n",
       "      <td>Tokyo 2020</td>\n",
       "      <td>2020</td>\n",
       "      <td>Summer</td>\n",
       "      <td>Tokyo</td>\n",
       "      <td>NaN</td>\n",
       "      <td>NaN</td>\n",
       "      <td>NaN</td>\n",
       "    </tr>\n",
       "    <tr>\n",
       "      <th>271427</th>\n",
       "      <td>AMIRI Nadiem</td>\n",
       "      <td>NaN</td>\n",
       "      <td>NaN</td>\n",
       "      <td>NaN</td>\n",
       "      <td>NaN</td>\n",
       "      <td>Germany</td>\n",
       "      <td>GER</td>\n",
       "      <td>Tokyo 2020</td>\n",
       "      <td>2020</td>\n",
       "      <td>Summer</td>\n",
       "      <td>Tokyo</td>\n",
       "      <td>NaN</td>\n",
       "      <td>NaN</td>\n",
       "      <td>NaN</td>\n",
       "    </tr>\n",
       "    <tr>\n",
       "      <th>271430</th>\n",
       "      <td>AMOAH Joseph Paul</td>\n",
       "      <td>NaN</td>\n",
       "      <td>NaN</td>\n",
       "      <td>NaN</td>\n",
       "      <td>NaN</td>\n",
       "      <td>Ghana</td>\n",
       "      <td>GHA</td>\n",
       "      <td>Tokyo 2020</td>\n",
       "      <td>2020</td>\n",
       "      <td>Summer</td>\n",
       "      <td>Tokyo</td>\n",
       "      <td>NaN</td>\n",
       "      <td>NaN</td>\n",
       "      <td>NaN</td>\n",
       "    </tr>\n",
       "    <tr>\n",
       "      <th>271552</th>\n",
       "      <td>ARCEO Mariana</td>\n",
       "      <td>NaN</td>\n",
       "      <td>NaN</td>\n",
       "      <td>NaN</td>\n",
       "      <td>NaN</td>\n",
       "      <td>Mexico</td>\n",
       "      <td>MEX</td>\n",
       "      <td>Tokyo 2020</td>\n",
       "      <td>2020</td>\n",
       "      <td>Summer</td>\n",
       "      <td>Tokyo</td>\n",
       "      <td>NaN</td>\n",
       "      <td>NaN</td>\n",
       "      <td>NaN</td>\n",
       "    </tr>\n",
       "    <tr>\n",
       "      <th>...</th>\n",
       "      <td>...</td>\n",
       "      <td>...</td>\n",
       "      <td>...</td>\n",
       "      <td>...</td>\n",
       "      <td>...</td>\n",
       "      <td>...</td>\n",
       "      <td>...</td>\n",
       "      <td>...</td>\n",
       "      <td>...</td>\n",
       "      <td>...</td>\n",
       "      <td>...</td>\n",
       "      <td>...</td>\n",
       "      <td>...</td>\n",
       "      <td>...</td>\n",
       "    </tr>\n",
       "    <tr>\n",
       "      <th>280393</th>\n",
       "      <td>YATES Simon Philip</td>\n",
       "      <td>NaN</td>\n",
       "      <td>NaN</td>\n",
       "      <td>NaN</td>\n",
       "      <td>NaN</td>\n",
       "      <td>Great Britain</td>\n",
       "      <td>GBR</td>\n",
       "      <td>Tokyo 2020</td>\n",
       "      <td>2020</td>\n",
       "      <td>Summer</td>\n",
       "      <td>Tokyo</td>\n",
       "      <td>NaN</td>\n",
       "      <td>NaN</td>\n",
       "      <td>NaN</td>\n",
       "    </tr>\n",
       "    <tr>\n",
       "      <th>280419</th>\n",
       "      <td>YODER Alec</td>\n",
       "      <td>NaN</td>\n",
       "      <td>NaN</td>\n",
       "      <td>NaN</td>\n",
       "      <td>NaN</td>\n",
       "      <td>United States of America</td>\n",
       "      <td>USA</td>\n",
       "      <td>Tokyo 2020</td>\n",
       "      <td>2020</td>\n",
       "      <td>Summer</td>\n",
       "      <td>Tokyo</td>\n",
       "      <td>NaN</td>\n",
       "      <td>NaN</td>\n",
       "      <td>NaN</td>\n",
       "    </tr>\n",
       "    <tr>\n",
       "      <th>280481</th>\n",
       "      <td>ZALEWSKI Aran</td>\n",
       "      <td>NaN</td>\n",
       "      <td>NaN</td>\n",
       "      <td>NaN</td>\n",
       "      <td>NaN</td>\n",
       "      <td>Australia</td>\n",
       "      <td>AUS</td>\n",
       "      <td>Tokyo 2020</td>\n",
       "      <td>2020</td>\n",
       "      <td>Summer</td>\n",
       "      <td>Tokyo</td>\n",
       "      <td>NaN</td>\n",
       "      <td>NaN</td>\n",
       "      <td>NaN</td>\n",
       "    </tr>\n",
       "    <tr>\n",
       "      <th>280546</th>\n",
       "      <td>ZHANG Mingyu</td>\n",
       "      <td>NaN</td>\n",
       "      <td>NaN</td>\n",
       "      <td>NaN</td>\n",
       "      <td>NaN</td>\n",
       "      <td>People's Republic of China</td>\n",
       "      <td>CHN</td>\n",
       "      <td>Tokyo 2020</td>\n",
       "      <td>2020</td>\n",
       "      <td>Summer</td>\n",
       "      <td>Tokyo</td>\n",
       "      <td>NaN</td>\n",
       "      <td>NaN</td>\n",
       "      <td>NaN</td>\n",
       "    </tr>\n",
       "    <tr>\n",
       "      <th>280549</th>\n",
       "      <td>ZHANG Quan</td>\n",
       "      <td>NaN</td>\n",
       "      <td>NaN</td>\n",
       "      <td>NaN</td>\n",
       "      <td>NaN</td>\n",
       "      <td>People's Republic of China</td>\n",
       "      <td>CHN</td>\n",
       "      <td>Tokyo 2020</td>\n",
       "      <td>2020</td>\n",
       "      <td>Summer</td>\n",
       "      <td>Tokyo</td>\n",
       "      <td>NaN</td>\n",
       "      <td>NaN</td>\n",
       "      <td>NaN</td>\n",
       "    </tr>\n",
       "  </tbody>\n",
       "</table>\n",
       "<p>159 rows × 14 columns</p>\n",
       "</div>"
      ],
      "text/plain": [
       "                          Name  Sex  Age  Height  Weight  \\\n",
       "271258           AICOBOAE Vlad  NaN  NaN     NaN     NaN   \n",
       "271272  AKHTAR Muhammad Khalil  NaN  NaN     NaN     NaN   \n",
       "271427            AMIRI Nadiem  NaN  NaN     NaN     NaN   \n",
       "271430       AMOAH Joseph Paul  NaN  NaN     NaN     NaN   \n",
       "271552           ARCEO Mariana  NaN  NaN     NaN     NaN   \n",
       "...                        ...  ...  ...     ...     ...   \n",
       "280393      YATES Simon Philip  NaN  NaN     NaN     NaN   \n",
       "280419              YODER Alec  NaN  NaN     NaN     NaN   \n",
       "280481           ZALEWSKI Aran  NaN  NaN     NaN     NaN   \n",
       "280546            ZHANG Mingyu  NaN  NaN     NaN     NaN   \n",
       "280549              ZHANG Quan  NaN  NaN     NaN     NaN   \n",
       "\n",
       "                              Team  NOC       Games  Year  Season   City  \\\n",
       "271258                     Romania  ROU  Tokyo 2020  2020  Summer  Tokyo   \n",
       "271272                    Pakistan  PAK  Tokyo 2020  2020  Summer  Tokyo   \n",
       "271427                     Germany  GER  Tokyo 2020  2020  Summer  Tokyo   \n",
       "271430                       Ghana  GHA  Tokyo 2020  2020  Summer  Tokyo   \n",
       "271552                      Mexico  MEX  Tokyo 2020  2020  Summer  Tokyo   \n",
       "...                            ...  ...         ...   ...     ...    ...   \n",
       "280393               Great Britain  GBR  Tokyo 2020  2020  Summer  Tokyo   \n",
       "280419    United States of America  USA  Tokyo 2020  2020  Summer  Tokyo   \n",
       "280481                   Australia  AUS  Tokyo 2020  2020  Summer  Tokyo   \n",
       "280546  People's Republic of China  CHN  Tokyo 2020  2020  Summer  Tokyo   \n",
       "280549  People's Republic of China  CHN  Tokyo 2020  2020  Summer  Tokyo   \n",
       "\n",
       "       Sport Event Medal  \n",
       "271258   NaN   NaN   NaN  \n",
       "271272   NaN   NaN   NaN  \n",
       "271427   NaN   NaN   NaN  \n",
       "271430   NaN   NaN   NaN  \n",
       "271552   NaN   NaN   NaN  \n",
       "...      ...   ...   ...  \n",
       "280393   NaN   NaN   NaN  \n",
       "280419   NaN   NaN   NaN  \n",
       "280481   NaN   NaN   NaN  \n",
       "280546   NaN   NaN   NaN  \n",
       "280549   NaN   NaN   NaN  \n",
       "\n",
       "[159 rows x 14 columns]"
      ]
     },
     "execution_count": 223,
     "metadata": {},
     "output_type": "execute_result"
    },
    {
     "name": "stdout",
     "output_type": "stream",
     "text": [
      "In [223] used 0.0 MiB RAM in 0.12s (system mean cpu 4%, single max cpu 15%), peaked 0.0 MiB above final usage, current RAM usage now 1356.0 MiB\n"
     ]
    }
   ],
   "source": [
    "missing_sex = df[df['Sex'].isnull()]\n",
    "missing_sex"
   ]
  },
  {
   "cell_type": "code",
   "execution_count": null,
   "metadata": {},
   "outputs": [],
   "source": []
  }
 ],
 "metadata": {
  "kernelspec": {
   "display_name": "Python 3",
   "language": "python",
   "name": "python3"
  },
  "language_info": {
   "codemirror_mode": {
    "name": "ipython",
    "version": 3
   },
   "file_extension": ".py",
   "mimetype": "text/x-python",
   "name": "python",
   "nbconvert_exporter": "python",
   "pygments_lexer": "ipython3",
   "version": "3.11.5"
  }
 },
 "nbformat": 4,
 "nbformat_minor": 2
}
