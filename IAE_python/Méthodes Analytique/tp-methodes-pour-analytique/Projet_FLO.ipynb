{
 "cells": [
  {
   "cell_type": "code",
   "execution_count": 1,
   "id": "2069a212",
   "metadata": {},
   "outputs": [],
   "source": [
    "import numpy as np \n",
    "import pandas as pd "
   ]
  },
  {
   "cell_type": "code",
   "execution_count": 2,
   "id": "115dc9ec",
   "metadata": {},
   "outputs": [],
   "source": [
    "import json \n",
    "from sklearn import preprocessing"
   ]
  },
  {
   "cell_type": "code",
   "execution_count": 3,
   "id": "d5465ff5",
   "metadata": {},
   "outputs": [],
   "source": [
    "import matplotlib.pyplot as plt"
   ]
  },
  {
   "cell_type": "code",
   "execution_count": 4,
   "id": "865a4d68",
   "metadata": {},
   "outputs": [],
   "source": [
    "import math as m "
   ]
  },
  {
   "cell_type": "code",
   "execution_count": 5,
   "id": "57bfde02",
   "metadata": {},
   "outputs": [
    {
     "name": "stdout",
     "output_type": "stream",
     "text": [
      "Enabling IPython Memory Usage, use %imu_start to begin, %imu_stop to end\n"
     ]
    }
   ],
   "source": [
    "%load_ext ipython_memory_usage"
   ]
  },
  {
   "cell_type": "code",
   "execution_count": 6,
   "id": "0947540c",
   "metadata": {},
   "outputs": [
    {
     "data": {
      "text/plain": [
       "'IPython Memory Usage started'"
      ]
     },
     "execution_count": 6,
     "metadata": {},
     "output_type": "execute_result"
    },
    {
     "name": "stdout",
     "output_type": "stream",
     "text": [
      "In [6] used 0.4 MiB RAM in 0.12s (system mean cpu 0%, single max cpu 0%), peaked 0.0 MiB above final usage, current RAM usage now 151.0 MiB\n"
     ]
    }
   ],
   "source": [
    "%imu_start "
   ]
  },
  {
   "cell_type": "markdown",
   "id": "61281c1a",
   "metadata": {},
   "source": [
    "### EDA de la dataFrame 'Athlete_events'"
   ]
  },
  {
   "cell_type": "code",
   "execution_count": 7,
   "id": "17d666b9",
   "metadata": {},
   "outputs": [
    {
     "data": {
      "text/html": [
       "<div>\n",
       "<style scoped>\n",
       "    .dataframe tbody tr th:only-of-type {\n",
       "        vertical-align: middle;\n",
       "    }\n",
       "\n",
       "    .dataframe tbody tr th {\n",
       "        vertical-align: top;\n",
       "    }\n",
       "\n",
       "    .dataframe thead th {\n",
       "        text-align: right;\n",
       "    }\n",
       "</style>\n",
       "<table border=\"1\" class=\"dataframe\">\n",
       "  <thead>\n",
       "    <tr style=\"text-align: right;\">\n",
       "      <th></th>\n",
       "      <th>Name</th>\n",
       "      <th>Sex</th>\n",
       "      <th>Age</th>\n",
       "      <th>Height</th>\n",
       "      <th>Weight</th>\n",
       "      <th>Team</th>\n",
       "      <th>NOC</th>\n",
       "      <th>Games</th>\n",
       "      <th>Year</th>\n",
       "      <th>Season</th>\n",
       "      <th>City</th>\n",
       "      <th>Sport</th>\n",
       "      <th>Event</th>\n",
       "      <th>Medal</th>\n",
       "    </tr>\n",
       "  </thead>\n",
       "  <tbody>\n",
       "    <tr>\n",
       "      <th>0</th>\n",
       "      <td>A Dijiang</td>\n",
       "      <td>M</td>\n",
       "      <td>24.0</td>\n",
       "      <td>180.00</td>\n",
       "      <td>80.0</td>\n",
       "      <td>China</td>\n",
       "      <td>CHN</td>\n",
       "      <td>1992 Summer</td>\n",
       "      <td>1992</td>\n",
       "      <td>Summer</td>\n",
       "      <td>Barcelona</td>\n",
       "      <td>Basketball</td>\n",
       "      <td>Basketball Men's Basketball</td>\n",
       "      <td>NaN</td>\n",
       "    </tr>\n",
       "    <tr>\n",
       "      <th>1</th>\n",
       "      <td>A Lamusi</td>\n",
       "      <td>M</td>\n",
       "      <td>23.0</td>\n",
       "      <td>170.00</td>\n",
       "      <td>60.0</td>\n",
       "      <td>China</td>\n",
       "      <td>CHN</td>\n",
       "      <td>2012 Summer</td>\n",
       "      <td>2012</td>\n",
       "      <td>Summer</td>\n",
       "      <td>London</td>\n",
       "      <td>Judo</td>\n",
       "      <td>Judo Men's Extra-Lightweight</td>\n",
       "      <td>NaN</td>\n",
       "    </tr>\n",
       "    <tr>\n",
       "      <th>2</th>\n",
       "      <td>Gunnar Nielsen Aaby</td>\n",
       "      <td>M</td>\n",
       "      <td>24.0</td>\n",
       "      <td>NaN</td>\n",
       "      <td>NaN</td>\n",
       "      <td>Denmark</td>\n",
       "      <td>DEN</td>\n",
       "      <td>1920 Summer</td>\n",
       "      <td>1920</td>\n",
       "      <td>Summer</td>\n",
       "      <td>Antwerpen</td>\n",
       "      <td>Football</td>\n",
       "      <td>Football Men's Football</td>\n",
       "      <td>NaN</td>\n",
       "    </tr>\n",
       "    <tr>\n",
       "      <th>3</th>\n",
       "      <td>Edgar Lindenau Aabye</td>\n",
       "      <td>M</td>\n",
       "      <td>34.0</td>\n",
       "      <td>NaN</td>\n",
       "      <td>NaN</td>\n",
       "      <td>Denmark/Sweden</td>\n",
       "      <td>DEN</td>\n",
       "      <td>1900 Summer</td>\n",
       "      <td>1900</td>\n",
       "      <td>Summer</td>\n",
       "      <td>Paris</td>\n",
       "      <td>Tug-Of-War</td>\n",
       "      <td>Tug-Of-War Men's Tug-Of-War</td>\n",
       "      <td>Gold</td>\n",
       "    </tr>\n",
       "    <tr>\n",
       "      <th>4</th>\n",
       "      <td>Christine Jacoba Aaftink</td>\n",
       "      <td>F</td>\n",
       "      <td>21.0</td>\n",
       "      <td>185.00</td>\n",
       "      <td>82.0</td>\n",
       "      <td>Netherlands</td>\n",
       "      <td>NED</td>\n",
       "      <td>1988 Winter</td>\n",
       "      <td>1988</td>\n",
       "      <td>Winter</td>\n",
       "      <td>Calgary</td>\n",
       "      <td>Speed Skating</td>\n",
       "      <td>Speed Skating Women's 500 metres</td>\n",
       "      <td>NaN</td>\n",
       "    </tr>\n",
       "    <tr>\n",
       "      <th>...</th>\n",
       "      <td>...</td>\n",
       "      <td>...</td>\n",
       "      <td>...</td>\n",
       "      <td>...</td>\n",
       "      <td>...</td>\n",
       "      <td>...</td>\n",
       "      <td>...</td>\n",
       "      <td>...</td>\n",
       "      <td>...</td>\n",
       "      <td>...</td>\n",
       "      <td>...</td>\n",
       "      <td>...</td>\n",
       "      <td>...</td>\n",
       "      <td>...</td>\n",
       "    </tr>\n",
       "    <tr>\n",
       "      <th>282985</th>\n",
       "      <td>ZOU Jingyuan</td>\n",
       "      <td>M</td>\n",
       "      <td>23.0</td>\n",
       "      <td>1.58</td>\n",
       "      <td>NaN</td>\n",
       "      <td>People's Republic of China</td>\n",
       "      <td>CHN</td>\n",
       "      <td>Tokyo 2020</td>\n",
       "      <td>2020</td>\n",
       "      <td>Summer</td>\n",
       "      <td>Tokyo</td>\n",
       "      <td>Artistic Gymnastics</td>\n",
       "      <td>Men's Parallel Bars</td>\n",
       "      <td>Gold</td>\n",
       "    </tr>\n",
       "    <tr>\n",
       "      <th>282986</th>\n",
       "      <td>ZUBIMENDI Martin</td>\n",
       "      <td>M</td>\n",
       "      <td>22.0</td>\n",
       "      <td>1.80</td>\n",
       "      <td>NaN</td>\n",
       "      <td>Spain</td>\n",
       "      <td>ESP</td>\n",
       "      <td>Tokyo 2020</td>\n",
       "      <td>2020</td>\n",
       "      <td>Summer</td>\n",
       "      <td>Tokyo</td>\n",
       "      <td>Football</td>\n",
       "      <td>Men</td>\n",
       "      <td>Silver</td>\n",
       "    </tr>\n",
       "    <tr>\n",
       "      <th>282987</th>\n",
       "      <td>ZUEV Alexander</td>\n",
       "      <td>M</td>\n",
       "      <td>25.0</td>\n",
       "      <td>1.93</td>\n",
       "      <td>NaN</td>\n",
       "      <td>ROC</td>\n",
       "      <td>ROC</td>\n",
       "      <td>Tokyo 2020</td>\n",
       "      <td>2020</td>\n",
       "      <td>Summer</td>\n",
       "      <td>Tokyo</td>\n",
       "      <td>3x3 Basketball</td>\n",
       "      <td>Men</td>\n",
       "      <td>Silver</td>\n",
       "    </tr>\n",
       "    <tr>\n",
       "      <th>282988</th>\n",
       "      <td>ZVEREV Alexander</td>\n",
       "      <td>M</td>\n",
       "      <td>24.0</td>\n",
       "      <td>1.98</td>\n",
       "      <td>NaN</td>\n",
       "      <td>Germany</td>\n",
       "      <td>GER</td>\n",
       "      <td>Tokyo 2020</td>\n",
       "      <td>2020</td>\n",
       "      <td>Summer</td>\n",
       "      <td>Tokyo</td>\n",
       "      <td>Tennis</td>\n",
       "      <td>Men's Singles</td>\n",
       "      <td>Gold</td>\n",
       "    </tr>\n",
       "    <tr>\n",
       "      <th>282989</th>\n",
       "      <td>ZYKOVA Yulia</td>\n",
       "      <td>F</td>\n",
       "      <td>26.0</td>\n",
       "      <td>NaN</td>\n",
       "      <td>NaN</td>\n",
       "      <td>ROC</td>\n",
       "      <td>ROC</td>\n",
       "      <td>Tokyo 2020</td>\n",
       "      <td>2020</td>\n",
       "      <td>Summer</td>\n",
       "      <td>Tokyo</td>\n",
       "      <td>Shooting</td>\n",
       "      <td>50m Rifle 3 Positions Women</td>\n",
       "      <td>Silver</td>\n",
       "    </tr>\n",
       "  </tbody>\n",
       "</table>\n",
       "<p>282990 rows × 14 columns</p>\n",
       "</div>"
      ],
      "text/plain": [
       "                            Name Sex   Age  Height  Weight  \\\n",
       "0                      A Dijiang   M  24.0  180.00    80.0   \n",
       "1                       A Lamusi   M  23.0  170.00    60.0   \n",
       "2            Gunnar Nielsen Aaby   M  24.0     NaN     NaN   \n",
       "3           Edgar Lindenau Aabye   M  34.0     NaN     NaN   \n",
       "4       Christine Jacoba Aaftink   F  21.0  185.00    82.0   \n",
       "...                          ...  ..   ...     ...     ...   \n",
       "282985              ZOU Jingyuan   M  23.0    1.58     NaN   \n",
       "282986          ZUBIMENDI Martin   M  22.0    1.80     NaN   \n",
       "282987            ZUEV Alexander   M  25.0    1.93     NaN   \n",
       "282988          ZVEREV Alexander   M  24.0    1.98     NaN   \n",
       "282989              ZYKOVA Yulia   F  26.0     NaN     NaN   \n",
       "\n",
       "                              Team  NOC        Games  Year  Season       City  \\\n",
       "0                            China  CHN  1992 Summer  1992  Summer  Barcelona   \n",
       "1                            China  CHN  2012 Summer  2012  Summer     London   \n",
       "2                          Denmark  DEN  1920 Summer  1920  Summer  Antwerpen   \n",
       "3                   Denmark/Sweden  DEN  1900 Summer  1900  Summer      Paris   \n",
       "4                      Netherlands  NED  1988 Winter  1988  Winter    Calgary   \n",
       "...                            ...  ...          ...   ...     ...        ...   \n",
       "282985  People's Republic of China  CHN   Tokyo 2020  2020  Summer      Tokyo   \n",
       "282986                       Spain  ESP   Tokyo 2020  2020  Summer      Tokyo   \n",
       "282987                         ROC  ROC   Tokyo 2020  2020  Summer      Tokyo   \n",
       "282988                     Germany  GER   Tokyo 2020  2020  Summer      Tokyo   \n",
       "282989                         ROC  ROC   Tokyo 2020  2020  Summer      Tokyo   \n",
       "\n",
       "                      Sport                             Event   Medal  \n",
       "0                Basketball       Basketball Men's Basketball     NaN  \n",
       "1                      Judo      Judo Men's Extra-Lightweight     NaN  \n",
       "2                  Football           Football Men's Football     NaN  \n",
       "3                Tug-Of-War       Tug-Of-War Men's Tug-Of-War    Gold  \n",
       "4             Speed Skating  Speed Skating Women's 500 metres     NaN  \n",
       "...                     ...                               ...     ...  \n",
       "282985  Artistic Gymnastics               Men's Parallel Bars    Gold  \n",
       "282986             Football                               Men  Silver  \n",
       "282987       3x3 Basketball                               Men  Silver  \n",
       "282988               Tennis                     Men's Singles    Gold  \n",
       "282989             Shooting       50m Rifle 3 Positions Women  Silver  \n",
       "\n",
       "[282990 rows x 14 columns]"
      ]
     },
     "execution_count": 7,
     "metadata": {},
     "output_type": "execute_result"
    },
    {
     "name": "stdout",
     "output_type": "stream",
     "text": [
      "In [7] used 73.1 MiB RAM in 3.84s (system mean cpu 34%, single max cpu 80%), peaked 0.0 MiB above final usage, current RAM usage now 224.1 MiB\n"
     ]
    }
   ],
   "source": [
    "df_athlete=pd.read_csv('data/athlete_events.csv',sep=',')\n",
    "\n",
    "df_athlete"
   ]
  },
  {
   "cell_type": "markdown",
   "id": "e880e9d3",
   "metadata": {},
   "source": [
    "### DataFrame dictionnary"
   ]
  },
  {
   "cell_type": "code",
   "execution_count": 8,
   "id": "adf60793",
   "metadata": {},
   "outputs": [
    {
     "data": {
      "text/plain": [
       "Country          0\n",
       "NOC              0\n",
       "Population       5\n",
       "PIB/habitant    25\n",
       "dtype: int64"
      ]
     },
     "execution_count": 8,
     "metadata": {},
     "output_type": "execute_result"
    },
    {
     "name": "stdout",
     "output_type": "stream",
     "text": [
      "In [8] used 3.5 MiB RAM in 1.04s (system mean cpu 27%, single max cpu 100%), peaked 0.0 MiB above final usage, current RAM usage now 227.6 MiB\n"
     ]
    }
   ],
   "source": [
    "df_dictionnary=pd.read_csv('data/dictionary.csv')\n",
    "\n",
    "df_dictionnary=df_dictionnary.rename(columns={'GDP per Capita':'PIB/habitant','Code':'NOC'})\n",
    "\n",
    "df_dictionnary.isna().sum()"
   ]
  },
  {
   "cell_type": "markdown",
   "id": "5f747d89",
   "metadata": {},
   "source": [
    "### On cherche les athlètes qui n'ont pas de team et ceux des îles TUVALU"
   ]
  },
  {
   "cell_type": "code",
   "execution_count": 9,
   "id": "24b590d0",
   "metadata": {},
   "outputs": [
    {
     "data": {
      "text/html": [
       "<div>\n",
       "<style scoped>\n",
       "    .dataframe tbody tr th:only-of-type {\n",
       "        vertical-align: middle;\n",
       "    }\n",
       "\n",
       "    .dataframe tbody tr th {\n",
       "        vertical-align: top;\n",
       "    }\n",
       "\n",
       "    .dataframe thead th {\n",
       "        text-align: right;\n",
       "    }\n",
       "</style>\n",
       "<table border=\"1\" class=\"dataframe\">\n",
       "  <thead>\n",
       "    <tr style=\"text-align: right;\">\n",
       "      <th></th>\n",
       "      <th>Name</th>\n",
       "      <th>Sex</th>\n",
       "      <th>Age</th>\n",
       "      <th>Height</th>\n",
       "      <th>Weight</th>\n",
       "      <th>Team</th>\n",
       "      <th>NOC</th>\n",
       "      <th>Games</th>\n",
       "      <th>Year</th>\n",
       "      <th>Season</th>\n",
       "      <th>City</th>\n",
       "      <th>Sport</th>\n",
       "      <th>Event</th>\n",
       "      <th>Medal</th>\n",
       "    </tr>\n",
       "  </thead>\n",
       "  <tbody>\n",
       "    <tr>\n",
       "      <th>61080</th>\n",
       "      <td>Fritz Eccard</td>\n",
       "      <td>M</td>\n",
       "      <td>NaN</td>\n",
       "      <td>NaN</td>\n",
       "      <td>NaN</td>\n",
       "      <td>Unknown</td>\n",
       "      <td>UNK</td>\n",
       "      <td>1912 Summer</td>\n",
       "      <td>1912</td>\n",
       "      <td>Summer</td>\n",
       "      <td>Stockholm</td>\n",
       "      <td>Art Competitions</td>\n",
       "      <td>Art Competitions Mixed Architecture</td>\n",
       "      <td>NaN</td>\n",
       "    </tr>\n",
       "    <tr>\n",
       "      <th>130721</th>\n",
       "      <td>A. Laffen</td>\n",
       "      <td>M</td>\n",
       "      <td>NaN</td>\n",
       "      <td>NaN</td>\n",
       "      <td>NaN</td>\n",
       "      <td>Unknown</td>\n",
       "      <td>UNK</td>\n",
       "      <td>1912 Summer</td>\n",
       "      <td>1912</td>\n",
       "      <td>Summer</td>\n",
       "      <td>Stockholm</td>\n",
       "      <td>Art Competitions</td>\n",
       "      <td>Art Competitions Mixed Architecture</td>\n",
       "      <td>NaN</td>\n",
       "    </tr>\n",
       "  </tbody>\n",
       "</table>\n",
       "</div>"
      ],
      "text/plain": [
       "                Name Sex  Age  Height  Weight     Team  NOC        Games  \\\n",
       "61080   Fritz Eccard   M  NaN     NaN     NaN  Unknown  UNK  1912 Summer   \n",
       "130721     A. Laffen   M  NaN     NaN     NaN  Unknown  UNK  1912 Summer   \n",
       "\n",
       "        Year  Season       City             Sport  \\\n",
       "61080   1912  Summer  Stockholm  Art Competitions   \n",
       "130721  1912  Summer  Stockholm  Art Competitions   \n",
       "\n",
       "                                      Event Medal  \n",
       "61080   Art Competitions Mixed Architecture   NaN  \n",
       "130721  Art Competitions Mixed Architecture   NaN  "
      ]
     },
     "execution_count": 9,
     "metadata": {},
     "output_type": "execute_result"
    },
    {
     "name": "stdout",
     "output_type": "stream",
     "text": [
      "In [9] used 0.8 MiB RAM in 0.14s (system mean cpu 49%, single max cpu 100%), peaked 0.0 MiB above final usage, current RAM usage now 228.4 MiB\n"
     ]
    }
   ],
   "source": [
    "df_athlete[df_athlete['NOC']=='UNK']\n"
   ]
  },
  {
   "cell_type": "markdown",
   "id": "5bf436be",
   "metadata": {},
   "source": [
    "Fritez Eccard a participé dans l'équipe Suédoise et A.Laffen .... aucunes traces je sais pas qui est ce mec "
   ]
  },
  {
   "cell_type": "code",
   "execution_count": 10,
   "id": "bdf58041",
   "metadata": {},
   "outputs": [
    {
     "data": {
      "text/plain": [
       "Name      10\n",
       "Sex        2\n",
       "Age        7\n",
       "Height     7\n",
       "Weight     9\n",
       "Team       1\n",
       "NOC        1\n",
       "Games      1\n",
       "Year       1\n",
       "Season     1\n",
       "City       1\n",
       "Sport      3\n",
       "Event     12\n",
       "Medal      0\n",
       "dtype: int64"
      ]
     },
     "execution_count": 10,
     "metadata": {},
     "output_type": "execute_result"
    },
    {
     "name": "stdout",
     "output_type": "stream",
     "text": [
      "In [10] used 0.4 MiB RAM in 0.14s (system mean cpu 34%, single max cpu 100%), peaked 0.0 MiB above final usage, current RAM usage now 228.8 MiB\n"
     ]
    }
   ],
   "source": [
    "df_athlete[df_athlete['NOC']=='ROT'].nunique()\n"
   ]
  },
  {
   "cell_type": "markdown",
   "id": "20b332c5",
   "metadata": {},
   "source": [
    "12 participations parmi 10 athlètes qui ont participé aux JO ces dernières années sous la team des athlètes réfugiés. "
   ]
  },
  {
   "cell_type": "code",
   "execution_count": 11,
   "id": "0046f005",
   "metadata": {},
   "outputs": [
    {
     "name": "stdout",
     "output_type": "stream",
     "text": [
      "In [11] used 6.0 MiB RAM in 0.16s (system mean cpu 41%, single max cpu 100%), peaked 0.0 MiB above final usage, current RAM usage now 234.8 MiB\n"
     ]
    }
   ],
   "source": [
    "df_athlete=df_athlete.query(\" NOC !='ROC' and NOC != 'UNK' \")"
   ]
  },
  {
   "cell_type": "markdown",
   "id": "b5b135c8",
   "metadata": {},
   "source": [
    "## Base données région "
   ]
  },
  {
   "cell_type": "code",
   "execution_count": 12,
   "id": "4ed18476",
   "metadata": {},
   "outputs": [
    {
     "data": {
      "text/html": [
       "<div>\n",
       "<style scoped>\n",
       "    .dataframe tbody tr th:only-of-type {\n",
       "        vertical-align: middle;\n",
       "    }\n",
       "\n",
       "    .dataframe tbody tr th {\n",
       "        vertical-align: top;\n",
       "    }\n",
       "\n",
       "    .dataframe thead th {\n",
       "        text-align: right;\n",
       "    }\n",
       "</style>\n",
       "<table border=\"1\" class=\"dataframe\">\n",
       "  <thead>\n",
       "    <tr style=\"text-align: right;\">\n",
       "      <th></th>\n",
       "      <th>NOC</th>\n",
       "      <th>Country</th>\n",
       "      <th>notes</th>\n",
       "    </tr>\n",
       "  </thead>\n",
       "  <tbody>\n",
       "    <tr>\n",
       "      <th>0</th>\n",
       "      <td>AFG</td>\n",
       "      <td>Afghanistan</td>\n",
       "      <td>NaN</td>\n",
       "    </tr>\n",
       "    <tr>\n",
       "      <th>1</th>\n",
       "      <td>AHO</td>\n",
       "      <td>Curacao</td>\n",
       "      <td>Netherlands Antilles</td>\n",
       "    </tr>\n",
       "    <tr>\n",
       "      <th>2</th>\n",
       "      <td>ALB</td>\n",
       "      <td>Albania</td>\n",
       "      <td>NaN</td>\n",
       "    </tr>\n",
       "    <tr>\n",
       "      <th>3</th>\n",
       "      <td>ALG</td>\n",
       "      <td>Algeria</td>\n",
       "      <td>NaN</td>\n",
       "    </tr>\n",
       "    <tr>\n",
       "      <th>4</th>\n",
       "      <td>AND</td>\n",
       "      <td>Andorra</td>\n",
       "      <td>NaN</td>\n",
       "    </tr>\n",
       "    <tr>\n",
       "      <th>...</th>\n",
       "      <td>...</td>\n",
       "      <td>...</td>\n",
       "      <td>...</td>\n",
       "    </tr>\n",
       "    <tr>\n",
       "      <th>225</th>\n",
       "      <td>YEM</td>\n",
       "      <td>Yemen</td>\n",
       "      <td>NaN</td>\n",
       "    </tr>\n",
       "    <tr>\n",
       "      <th>226</th>\n",
       "      <td>YMD</td>\n",
       "      <td>Yemen</td>\n",
       "      <td>South Yemen</td>\n",
       "    </tr>\n",
       "    <tr>\n",
       "      <th>227</th>\n",
       "      <td>YUG</td>\n",
       "      <td>Serbia</td>\n",
       "      <td>Yugoslavia</td>\n",
       "    </tr>\n",
       "    <tr>\n",
       "      <th>228</th>\n",
       "      <td>ZAM</td>\n",
       "      <td>Zambia</td>\n",
       "      <td>NaN</td>\n",
       "    </tr>\n",
       "    <tr>\n",
       "      <th>229</th>\n",
       "      <td>ZIM</td>\n",
       "      <td>Zimbabwe</td>\n",
       "      <td>NaN</td>\n",
       "    </tr>\n",
       "  </tbody>\n",
       "</table>\n",
       "<p>230 rows × 3 columns</p>\n",
       "</div>"
      ],
      "text/plain": [
       "     NOC      Country                 notes\n",
       "0    AFG  Afghanistan                   NaN\n",
       "1    AHO      Curacao  Netherlands Antilles\n",
       "2    ALB      Albania                   NaN\n",
       "3    ALG      Algeria                   NaN\n",
       "4    AND      Andorra                   NaN\n",
       "..   ...          ...                   ...\n",
       "225  YEM        Yemen                   NaN\n",
       "226  YMD        Yemen           South Yemen\n",
       "227  YUG       Serbia            Yugoslavia\n",
       "228  ZAM       Zambia                   NaN\n",
       "229  ZIM     Zimbabwe                   NaN\n",
       "\n",
       "[230 rows x 3 columns]"
      ]
     },
     "execution_count": 12,
     "metadata": {},
     "output_type": "execute_result"
    },
    {
     "name": "stdout",
     "output_type": "stream",
     "text": [
      "In [12] used -4.5 MiB RAM in 0.63s (system mean cpu 33%, single max cpu 100%), peaked 4.5 MiB above final usage, current RAM usage now 230.3 MiB\n"
     ]
    }
   ],
   "source": [
    "df_regions=pd.read_csv('data/noc_regions.csv')\n",
    "\n",
    "df_regions=df_regions.rename(columns={'region':'Country'})\n",
    "df_regions"
   ]
  },
  {
   "cell_type": "code",
   "execution_count": 13,
   "id": "385765ad",
   "metadata": {},
   "outputs": [
    {
     "data": {
      "text/plain": [
       "NOC        230\n",
       "Country    206\n",
       "notes       21\n",
       "dtype: int64"
      ]
     },
     "execution_count": 13,
     "metadata": {},
     "output_type": "execute_result"
    },
    {
     "name": "stdout",
     "output_type": "stream",
     "text": [
      "In [13] used -0.2 MiB RAM in 0.11s (system mean cpu 41%, single max cpu 100%), peaked 0.2 MiB above final usage, current RAM usage now 230.1 MiB\n"
     ]
    }
   ],
   "source": [
    "df_regions.nunique()"
   ]
  },
  {
   "cell_type": "markdown",
   "id": "8e41b012",
   "metadata": {},
   "source": [
    "Il y a des régions qui ont le même NOC "
   ]
  },
  {
   "cell_type": "code",
   "execution_count": 14,
   "id": "43945071",
   "metadata": {},
   "outputs": [
    {
     "name": "stdout",
     "output_type": "stream",
     "text": [
      "In [14] used -8.2 MiB RAM in 0.11s (system mean cpu 41%, single max cpu 100%), peaked 8.2 MiB above final usage, current RAM usage now 221.9 MiB\n"
     ]
    }
   ],
   "source": [
    "duplicates=[df_regions.duplicated(subset='Country')]"
   ]
  },
  {
   "cell_type": "code",
   "execution_count": 15,
   "id": "fd5494fc",
   "metadata": {},
   "outputs": [
    {
     "data": {
      "text/html": [
       "<div>\n",
       "<style scoped>\n",
       "    .dataframe tbody tr th:only-of-type {\n",
       "        vertical-align: middle;\n",
       "    }\n",
       "\n",
       "    .dataframe tbody tr th {\n",
       "        vertical-align: top;\n",
       "    }\n",
       "\n",
       "    .dataframe thead th {\n",
       "        text-align: right;\n",
       "    }\n",
       "</style>\n",
       "<table border=\"1\" class=\"dataframe\">\n",
       "  <thead>\n",
       "    <tr style=\"text-align: right;\">\n",
       "      <th></th>\n",
       "      <th>NOC</th>\n",
       "      <th>Country</th>\n",
       "      <th>notes</th>\n",
       "    </tr>\n",
       "  </thead>\n",
       "  <tbody>\n",
       "    <tr>\n",
       "      <th>12</th>\n",
       "      <td>AUS</td>\n",
       "      <td>Australia</td>\n",
       "      <td>NaN</td>\n",
       "    </tr>\n",
       "    <tr>\n",
       "      <th>54</th>\n",
       "      <td>CZE</td>\n",
       "      <td>Czech Republic</td>\n",
       "      <td>NaN</td>\n",
       "    </tr>\n",
       "    <tr>\n",
       "      <th>76</th>\n",
       "      <td>GDR</td>\n",
       "      <td>Germany</td>\n",
       "      <td>NaN</td>\n",
       "    </tr>\n",
       "    <tr>\n",
       "      <th>79</th>\n",
       "      <td>GER</td>\n",
       "      <td>Germany</td>\n",
       "      <td>NaN</td>\n",
       "    </tr>\n",
       "    <tr>\n",
       "      <th>81</th>\n",
       "      <td>GRE</td>\n",
       "      <td>Greece</td>\n",
       "      <td>NaN</td>\n",
       "    </tr>\n",
       "    <tr>\n",
       "      <th>88</th>\n",
       "      <td>HKG</td>\n",
       "      <td>China</td>\n",
       "      <td>Hong Kong</td>\n",
       "    </tr>\n",
       "    <tr>\n",
       "      <th>126</th>\n",
       "      <td>MAS</td>\n",
       "      <td>Malaysia</td>\n",
       "      <td>NaN</td>\n",
       "    </tr>\n",
       "    <tr>\n",
       "      <th>143</th>\n",
       "      <td>NBO</td>\n",
       "      <td>Malaysia</td>\n",
       "      <td>North Borneo</td>\n",
       "    </tr>\n",
       "    <tr>\n",
       "      <th>147</th>\n",
       "      <td>NFL</td>\n",
       "      <td>Canada</td>\n",
       "      <td>Newfoundland</td>\n",
       "    </tr>\n",
       "    <tr>\n",
       "      <th>171</th>\n",
       "      <td>RUS</td>\n",
       "      <td>Russia</td>\n",
       "      <td>NaN</td>\n",
       "    </tr>\n",
       "    <tr>\n",
       "      <th>173</th>\n",
       "      <td>SAA</td>\n",
       "      <td>Germany</td>\n",
       "      <td>NaN</td>\n",
       "    </tr>\n",
       "    <tr>\n",
       "      <th>185</th>\n",
       "      <td>SRB</td>\n",
       "      <td>Serbia</td>\n",
       "      <td>NaN</td>\n",
       "    </tr>\n",
       "    <tr>\n",
       "      <th>197</th>\n",
       "      <td>TCH</td>\n",
       "      <td>Czech Republic</td>\n",
       "      <td>NaN</td>\n",
       "    </tr>\n",
       "    <tr>\n",
       "      <th>208</th>\n",
       "      <td>TUV</td>\n",
       "      <td>NaN</td>\n",
       "      <td>Tuvalu</td>\n",
       "    </tr>\n",
       "    <tr>\n",
       "      <th>210</th>\n",
       "      <td>UAR</td>\n",
       "      <td>Syria</td>\n",
       "      <td>United Arab Republic</td>\n",
       "    </tr>\n",
       "    <tr>\n",
       "      <th>213</th>\n",
       "      <td>UNK</td>\n",
       "      <td>NaN</td>\n",
       "      <td>Unknown</td>\n",
       "    </tr>\n",
       "    <tr>\n",
       "      <th>214</th>\n",
       "      <td>URS</td>\n",
       "      <td>Russia</td>\n",
       "      <td>NaN</td>\n",
       "    </tr>\n",
       "    <tr>\n",
       "      <th>222</th>\n",
       "      <td>VNM</td>\n",
       "      <td>Vietnam</td>\n",
       "      <td>NaN</td>\n",
       "    </tr>\n",
       "    <tr>\n",
       "      <th>223</th>\n",
       "      <td>WIF</td>\n",
       "      <td>Trinidad</td>\n",
       "      <td>West Indies Federation</td>\n",
       "    </tr>\n",
       "    <tr>\n",
       "      <th>225</th>\n",
       "      <td>YEM</td>\n",
       "      <td>Yemen</td>\n",
       "      <td>NaN</td>\n",
       "    </tr>\n",
       "    <tr>\n",
       "      <th>226</th>\n",
       "      <td>YMD</td>\n",
       "      <td>Yemen</td>\n",
       "      <td>South Yemen</td>\n",
       "    </tr>\n",
       "    <tr>\n",
       "      <th>227</th>\n",
       "      <td>YUG</td>\n",
       "      <td>Serbia</td>\n",
       "      <td>Yugoslavia</td>\n",
       "    </tr>\n",
       "    <tr>\n",
       "      <th>229</th>\n",
       "      <td>ZIM</td>\n",
       "      <td>Zimbabwe</td>\n",
       "      <td>NaN</td>\n",
       "    </tr>\n",
       "  </tbody>\n",
       "</table>\n",
       "</div>"
      ],
      "text/plain": [
       "     NOC         Country                   notes\n",
       "12   AUS       Australia                     NaN\n",
       "54   CZE  Czech Republic                     NaN\n",
       "76   GDR         Germany                     NaN\n",
       "79   GER         Germany                     NaN\n",
       "81   GRE          Greece                     NaN\n",
       "88   HKG           China               Hong Kong\n",
       "126  MAS        Malaysia                     NaN\n",
       "143  NBO        Malaysia            North Borneo\n",
       "147  NFL          Canada            Newfoundland\n",
       "171  RUS          Russia                     NaN\n",
       "173  SAA         Germany                     NaN\n",
       "185  SRB          Serbia                     NaN\n",
       "197  TCH  Czech Republic                     NaN\n",
       "208  TUV             NaN                  Tuvalu\n",
       "210  UAR           Syria    United Arab Republic\n",
       "213  UNK             NaN                 Unknown\n",
       "214  URS          Russia                     NaN\n",
       "222  VNM         Vietnam                     NaN\n",
       "223  WIF        Trinidad  West Indies Federation\n",
       "225  YEM           Yemen                     NaN\n",
       "226  YMD           Yemen             South Yemen\n",
       "227  YUG          Serbia              Yugoslavia\n",
       "229  ZIM        Zimbabwe                     NaN"
      ]
     },
     "execution_count": 15,
     "metadata": {},
     "output_type": "execute_result"
    },
    {
     "name": "stdout",
     "output_type": "stream",
     "text": [
      "In [15] used -0.8 MiB RAM in 0.12s (system mean cpu 46%, single max cpu 100%), peaked 0.8 MiB above final usage, current RAM usage now 221.1 MiB\n"
     ]
    }
   ],
   "source": [
    "df_regions[df_regions.duplicated(subset='Country')]"
   ]
  },
  {
   "cell_type": "code",
   "execution_count": 16,
   "id": "ede869cc",
   "metadata": {},
   "outputs": [
    {
     "data": {
      "text/plain": [
       "NOC          0\n",
       "Country      3\n",
       "notes      209\n",
       "dtype: int64"
      ]
     },
     "execution_count": 16,
     "metadata": {},
     "output_type": "execute_result"
    },
    {
     "name": "stdout",
     "output_type": "stream",
     "text": [
      "In [16] used -5.6 MiB RAM in 0.11s (system mean cpu 45%, single max cpu 100%), peaked 5.6 MiB above final usage, current RAM usage now 215.5 MiB\n"
     ]
    }
   ],
   "source": [
    "df_regions.isnull().sum()"
   ]
  },
  {
   "cell_type": "code",
   "execution_count": 17,
   "id": "3a8372e7",
   "metadata": {},
   "outputs": [
    {
     "data": {
      "text/html": [
       "<div>\n",
       "<style scoped>\n",
       "    .dataframe tbody tr th:only-of-type {\n",
       "        vertical-align: middle;\n",
       "    }\n",
       "\n",
       "    .dataframe tbody tr th {\n",
       "        vertical-align: top;\n",
       "    }\n",
       "\n",
       "    .dataframe thead th {\n",
       "        text-align: right;\n",
       "    }\n",
       "</style>\n",
       "<table border=\"1\" class=\"dataframe\">\n",
       "  <thead>\n",
       "    <tr style=\"text-align: right;\">\n",
       "      <th></th>\n",
       "      <th>NOC</th>\n",
       "      <th>Country</th>\n",
       "      <th>notes</th>\n",
       "    </tr>\n",
       "  </thead>\n",
       "  <tbody>\n",
       "    <tr>\n",
       "      <th>168</th>\n",
       "      <td>ROT</td>\n",
       "      <td>NaN</td>\n",
       "      <td>Refugee Olympic Team</td>\n",
       "    </tr>\n",
       "    <tr>\n",
       "      <th>208</th>\n",
       "      <td>TUV</td>\n",
       "      <td>NaN</td>\n",
       "      <td>Tuvalu</td>\n",
       "    </tr>\n",
       "    <tr>\n",
       "      <th>213</th>\n",
       "      <td>UNK</td>\n",
       "      <td>NaN</td>\n",
       "      <td>Unknown</td>\n",
       "    </tr>\n",
       "  </tbody>\n",
       "</table>\n",
       "</div>"
      ],
      "text/plain": [
       "     NOC Country                 notes\n",
       "168  ROT     NaN  Refugee Olympic Team\n",
       "208  TUV     NaN                Tuvalu\n",
       "213  UNK     NaN               Unknown"
      ]
     },
     "execution_count": 17,
     "metadata": {},
     "output_type": "execute_result"
    },
    {
     "name": "stdout",
     "output_type": "stream",
     "text": [
      "In [17] used -19.8 MiB RAM in 0.13s (system mean cpu 49%, single max cpu 100%), peaked 19.8 MiB above final usage, current RAM usage now 195.7 MiB\n"
     ]
    }
   ],
   "source": [
    "df_regions[df_regions['Country'].isnull()]"
   ]
  },
  {
   "cell_type": "markdown",
   "id": "8cee8860",
   "metadata": {},
   "source": [
    "Il y a  3 des regions qui ne sont pas attribuées, ROT ( refugee olympic team)  , TUVALU ( 9 archipels qui constituent un État ) et UNK qui correspond à Unknown "
   ]
  },
  {
   "cell_type": "markdown",
   "id": "5379dcc6",
   "metadata": {},
   "source": [
    "### On ajoute les iles TUVALU "
   ]
  },
  {
   "cell_type": "code",
   "execution_count": 18,
   "id": "d19aad00",
   "metadata": {},
   "outputs": [
    {
     "data": {
      "text/html": [
       "<div>\n",
       "<style scoped>\n",
       "    .dataframe tbody tr th:only-of-type {\n",
       "        vertical-align: middle;\n",
       "    }\n",
       "\n",
       "    .dataframe tbody tr th {\n",
       "        vertical-align: top;\n",
       "    }\n",
       "\n",
       "    .dataframe thead th {\n",
       "        text-align: right;\n",
       "    }\n",
       "</style>\n",
       "<table border=\"1\" class=\"dataframe\">\n",
       "  <thead>\n",
       "    <tr style=\"text-align: right;\">\n",
       "      <th></th>\n",
       "      <th>NOC</th>\n",
       "      <th>Country</th>\n",
       "      <th>notes</th>\n",
       "    </tr>\n",
       "  </thead>\n",
       "  <tbody>\n",
       "    <tr>\n",
       "      <th>168</th>\n",
       "      <td>ROT</td>\n",
       "      <td>NaN</td>\n",
       "      <td>Refugee Olympic Team</td>\n",
       "    </tr>\n",
       "    <tr>\n",
       "      <th>208</th>\n",
       "      <td>TUV</td>\n",
       "      <td>NaN</td>\n",
       "      <td>Tuvalu</td>\n",
       "    </tr>\n",
       "    <tr>\n",
       "      <th>213</th>\n",
       "      <td>UNK</td>\n",
       "      <td>NaN</td>\n",
       "      <td>Unknown</td>\n",
       "    </tr>\n",
       "  </tbody>\n",
       "</table>\n",
       "</div>"
      ],
      "text/plain": [
       "     NOC Country                 notes\n",
       "168  ROT     NaN  Refugee Olympic Team\n",
       "208  TUV     NaN                Tuvalu\n",
       "213  UNK     NaN               Unknown"
      ]
     },
     "execution_count": 18,
     "metadata": {},
     "output_type": "execute_result"
    },
    {
     "name": "stdout",
     "output_type": "stream",
     "text": [
      "In [18] used -6.1 MiB RAM in 0.11s (system mean cpu 40%, single max cpu 100%), peaked 6.1 MiB above final usage, current RAM usage now 189.5 MiB\n"
     ]
    }
   ],
   "source": [
    "df_regions[df_regions['Country'].isnull()]"
   ]
  },
  {
   "cell_type": "code",
   "execution_count": 19,
   "id": "8ec0d495",
   "metadata": {},
   "outputs": [
    {
     "data": {
      "text/plain": [
       "NOC          0\n",
       "Country      1\n",
       "notes      209\n",
       "dtype: int64"
      ]
     },
     "execution_count": 19,
     "metadata": {},
     "output_type": "execute_result"
    },
    {
     "name": "stdout",
     "output_type": "stream",
     "text": [
      "In [19] used -6.6 MiB RAM in 0.12s (system mean cpu 40%, single max cpu 100%), peaked 0.0 MiB above final usage, current RAM usage now 182.9 MiB\n"
     ]
    }
   ],
   "source": [
    "df_regions=df_regions.query(\" NOC != 'ROT' and NOC != 'UNK' \")\n",
    "\n",
    "df_regions.isnull().sum()"
   ]
  },
  {
   "cell_type": "code",
   "execution_count": 20,
   "id": "2c30bf44",
   "metadata": {},
   "outputs": [
    {
     "name": "stdout",
     "output_type": "stream",
     "text": [
      "In [20] used -12.0 MiB RAM in 0.11s (system mean cpu 11%, single max cpu 50%), peaked 0.0 MiB above final usage, current RAM usage now 170.9 MiB\n"
     ]
    },
    {
     "name": "stderr",
     "output_type": "stream",
     "text": [
      "<ipython-input-20-0f7f308fe64b>:1: SettingWithCopyWarning: \n",
      "A value is trying to be set on a copy of a slice from a DataFrame.\n",
      "Try using .loc[row_indexer,col_indexer] = value instead\n",
      "\n",
      "See the caveats in the documentation: https://pandas.pydata.org/pandas-docs/stable/user_guide/indexing.html#returning-a-view-versus-a-copy\n",
      "  df_regions['Country']=df_regions['Country'].fillna('Tuvalu')\n"
     ]
    }
   ],
   "source": [
    "df_regions['Country']=df_regions['Country'].fillna('Tuvalu')"
   ]
  },
  {
   "cell_type": "code",
   "execution_count": 21,
   "id": "4b23fe5a",
   "metadata": {},
   "outputs": [
    {
     "data": {
      "text/html": [
       "<div>\n",
       "<style scoped>\n",
       "    .dataframe tbody tr th:only-of-type {\n",
       "        vertical-align: middle;\n",
       "    }\n",
       "\n",
       "    .dataframe tbody tr th {\n",
       "        vertical-align: top;\n",
       "    }\n",
       "\n",
       "    .dataframe thead th {\n",
       "        text-align: right;\n",
       "    }\n",
       "</style>\n",
       "<table border=\"1\" class=\"dataframe\">\n",
       "  <thead>\n",
       "    <tr style=\"text-align: right;\">\n",
       "      <th></th>\n",
       "      <th>NOC</th>\n",
       "      <th>Country</th>\n",
       "      <th>notes</th>\n",
       "    </tr>\n",
       "  </thead>\n",
       "  <tbody>\n",
       "    <tr>\n",
       "      <th>208</th>\n",
       "      <td>TUV</td>\n",
       "      <td>Tuvalu</td>\n",
       "      <td>Tuvalu</td>\n",
       "    </tr>\n",
       "  </tbody>\n",
       "</table>\n",
       "</div>"
      ],
      "text/plain": [
       "     NOC Country   notes\n",
       "208  TUV  Tuvalu  Tuvalu"
      ]
     },
     "execution_count": 21,
     "metadata": {},
     "output_type": "execute_result"
    },
    {
     "name": "stdout",
     "output_type": "stream",
     "text": [
      "In [21] used 0.1 MiB RAM in 0.11s (system mean cpu 19%, single max cpu 100%), peaked 0.0 MiB above final usage, current RAM usage now 171.0 MiB\n"
     ]
    }
   ],
   "source": [
    "df_regions[df_regions['Country']=='Tuvalu']"
   ]
  },
  {
   "cell_type": "code",
   "execution_count": 22,
   "id": "0c29451d",
   "metadata": {},
   "outputs": [
    {
     "data": {
      "text/plain": [
       "NOC          0\n",
       "Country      0\n",
       "notes      209\n",
       "dtype: int64"
      ]
     },
     "execution_count": 22,
     "metadata": {},
     "output_type": "execute_result"
    },
    {
     "name": "stdout",
     "output_type": "stream",
     "text": [
      "In [22] used -6.4 MiB RAM in 0.12s (system mean cpu 28%, single max cpu 100%), peaked 6.4 MiB above final usage, current RAM usage now 164.7 MiB\n"
     ]
    }
   ],
   "source": [
    "df_regions.isnull().sum()"
   ]
  },
  {
   "cell_type": "markdown",
   "id": "bc0ef96d",
   "metadata": {},
   "source": [
    "# On va merge les dataframes "
   ]
  },
  {
   "cell_type": "markdown",
   "id": "404665a5",
   "metadata": {},
   "source": [
    "## Merge en left "
   ]
  },
  {
   "cell_type": "code",
   "execution_count": 23,
   "id": "001a4bd1",
   "metadata": {},
   "outputs": [
    {
     "data": {
      "text/html": [
       "<div>\n",
       "<style scoped>\n",
       "    .dataframe tbody tr th:only-of-type {\n",
       "        vertical-align: middle;\n",
       "    }\n",
       "\n",
       "    .dataframe tbody tr th {\n",
       "        vertical-align: top;\n",
       "    }\n",
       "\n",
       "    .dataframe thead th {\n",
       "        text-align: right;\n",
       "    }\n",
       "</style>\n",
       "<table border=\"1\" class=\"dataframe\">\n",
       "  <thead>\n",
       "    <tr style=\"text-align: right;\">\n",
       "      <th></th>\n",
       "      <th>Name</th>\n",
       "      <th>Sex</th>\n",
       "      <th>Age</th>\n",
       "      <th>Height</th>\n",
       "      <th>Weight</th>\n",
       "      <th>Team</th>\n",
       "      <th>NOC</th>\n",
       "      <th>Games</th>\n",
       "      <th>Year</th>\n",
       "      <th>Season</th>\n",
       "      <th>City</th>\n",
       "      <th>Sport</th>\n",
       "      <th>Event</th>\n",
       "      <th>Medal</th>\n",
       "      <th>Country_x</th>\n",
       "      <th>notes</th>\n",
       "      <th>Country_y</th>\n",
       "      <th>Population</th>\n",
       "      <th>PIB/habitant</th>\n",
       "    </tr>\n",
       "  </thead>\n",
       "  <tbody>\n",
       "    <tr>\n",
       "      <th>0</th>\n",
       "      <td>A Dijiang</td>\n",
       "      <td>M</td>\n",
       "      <td>24.0</td>\n",
       "      <td>180.00</td>\n",
       "      <td>80.0</td>\n",
       "      <td>China</td>\n",
       "      <td>CHN</td>\n",
       "      <td>1992 Summer</td>\n",
       "      <td>1992</td>\n",
       "      <td>Summer</td>\n",
       "      <td>Barcelona</td>\n",
       "      <td>Basketball</td>\n",
       "      <td>Basketball Men's Basketball</td>\n",
       "      <td>NaN</td>\n",
       "      <td>China</td>\n",
       "      <td>NaN</td>\n",
       "      <td>China</td>\n",
       "      <td>1.371220e+09</td>\n",
       "      <td>8027.683810</td>\n",
       "    </tr>\n",
       "    <tr>\n",
       "      <th>1</th>\n",
       "      <td>A Lamusi</td>\n",
       "      <td>M</td>\n",
       "      <td>23.0</td>\n",
       "      <td>170.00</td>\n",
       "      <td>60.0</td>\n",
       "      <td>China</td>\n",
       "      <td>CHN</td>\n",
       "      <td>2012 Summer</td>\n",
       "      <td>2012</td>\n",
       "      <td>Summer</td>\n",
       "      <td>London</td>\n",
       "      <td>Judo</td>\n",
       "      <td>Judo Men's Extra-Lightweight</td>\n",
       "      <td>NaN</td>\n",
       "      <td>China</td>\n",
       "      <td>NaN</td>\n",
       "      <td>China</td>\n",
       "      <td>1.371220e+09</td>\n",
       "      <td>8027.683810</td>\n",
       "    </tr>\n",
       "    <tr>\n",
       "      <th>2</th>\n",
       "      <td>Gunnar Nielsen Aaby</td>\n",
       "      <td>M</td>\n",
       "      <td>24.0</td>\n",
       "      <td>NaN</td>\n",
       "      <td>NaN</td>\n",
       "      <td>Denmark</td>\n",
       "      <td>DEN</td>\n",
       "      <td>1920 Summer</td>\n",
       "      <td>1920</td>\n",
       "      <td>Summer</td>\n",
       "      <td>Antwerpen</td>\n",
       "      <td>Football</td>\n",
       "      <td>Football Men's Football</td>\n",
       "      <td>NaN</td>\n",
       "      <td>Denmark</td>\n",
       "      <td>NaN</td>\n",
       "      <td>Denmark</td>\n",
       "      <td>5.676002e+06</td>\n",
       "      <td>51989.293471</td>\n",
       "    </tr>\n",
       "    <tr>\n",
       "      <th>3</th>\n",
       "      <td>Edgar Lindenau Aabye</td>\n",
       "      <td>M</td>\n",
       "      <td>34.0</td>\n",
       "      <td>NaN</td>\n",
       "      <td>NaN</td>\n",
       "      <td>Denmark/Sweden</td>\n",
       "      <td>DEN</td>\n",
       "      <td>1900 Summer</td>\n",
       "      <td>1900</td>\n",
       "      <td>Summer</td>\n",
       "      <td>Paris</td>\n",
       "      <td>Tug-Of-War</td>\n",
       "      <td>Tug-Of-War Men's Tug-Of-War</td>\n",
       "      <td>Gold</td>\n",
       "      <td>Denmark</td>\n",
       "      <td>NaN</td>\n",
       "      <td>Denmark</td>\n",
       "      <td>5.676002e+06</td>\n",
       "      <td>51989.293471</td>\n",
       "    </tr>\n",
       "    <tr>\n",
       "      <th>4</th>\n",
       "      <td>Christine Jacoba Aaftink</td>\n",
       "      <td>F</td>\n",
       "      <td>21.0</td>\n",
       "      <td>185.00</td>\n",
       "      <td>82.0</td>\n",
       "      <td>Netherlands</td>\n",
       "      <td>NED</td>\n",
       "      <td>1988 Winter</td>\n",
       "      <td>1988</td>\n",
       "      <td>Winter</td>\n",
       "      <td>Calgary</td>\n",
       "      <td>Speed Skating</td>\n",
       "      <td>Speed Skating Women's 500 metres</td>\n",
       "      <td>NaN</td>\n",
       "      <td>Netherlands</td>\n",
       "      <td>NaN</td>\n",
       "      <td>Netherlands</td>\n",
       "      <td>1.693652e+07</td>\n",
       "      <td>44299.768085</td>\n",
       "    </tr>\n",
       "    <tr>\n",
       "      <th>...</th>\n",
       "      <td>...</td>\n",
       "      <td>...</td>\n",
       "      <td>...</td>\n",
       "      <td>...</td>\n",
       "      <td>...</td>\n",
       "      <td>...</td>\n",
       "      <td>...</td>\n",
       "      <td>...</td>\n",
       "      <td>...</td>\n",
       "      <td>...</td>\n",
       "      <td>...</td>\n",
       "      <td>...</td>\n",
       "      <td>...</td>\n",
       "      <td>...</td>\n",
       "      <td>...</td>\n",
       "      <td>...</td>\n",
       "      <td>...</td>\n",
       "      <td>...</td>\n",
       "      <td>...</td>\n",
       "    </tr>\n",
       "    <tr>\n",
       "      <th>282622</th>\n",
       "      <td>ZOLOTIC Anastasija</td>\n",
       "      <td>F</td>\n",
       "      <td>19.0</td>\n",
       "      <td>1.80</td>\n",
       "      <td>NaN</td>\n",
       "      <td>United States of America</td>\n",
       "      <td>USA</td>\n",
       "      <td>Tokyo 2020</td>\n",
       "      <td>2020</td>\n",
       "      <td>Summer</td>\n",
       "      <td>Tokyo</td>\n",
       "      <td>Taekwondo</td>\n",
       "      <td>Women -57kg</td>\n",
       "      <td>Gold</td>\n",
       "      <td>USA</td>\n",
       "      <td>NaN</td>\n",
       "      <td>United States</td>\n",
       "      <td>3.214188e+08</td>\n",
       "      <td>56115.718426</td>\n",
       "    </tr>\n",
       "    <tr>\n",
       "      <th>282623</th>\n",
       "      <td>ZOU Jingyuan</td>\n",
       "      <td>M</td>\n",
       "      <td>23.0</td>\n",
       "      <td>1.58</td>\n",
       "      <td>NaN</td>\n",
       "      <td>People's Republic of China</td>\n",
       "      <td>CHN</td>\n",
       "      <td>Tokyo 2020</td>\n",
       "      <td>2020</td>\n",
       "      <td>Summer</td>\n",
       "      <td>Tokyo</td>\n",
       "      <td>Artistic Gymnastics</td>\n",
       "      <td>Men's Team</td>\n",
       "      <td>Bronze</td>\n",
       "      <td>China</td>\n",
       "      <td>NaN</td>\n",
       "      <td>China</td>\n",
       "      <td>1.371220e+09</td>\n",
       "      <td>8027.683810</td>\n",
       "    </tr>\n",
       "    <tr>\n",
       "      <th>282624</th>\n",
       "      <td>ZOU Jingyuan</td>\n",
       "      <td>M</td>\n",
       "      <td>23.0</td>\n",
       "      <td>1.58</td>\n",
       "      <td>NaN</td>\n",
       "      <td>People's Republic of China</td>\n",
       "      <td>CHN</td>\n",
       "      <td>Tokyo 2020</td>\n",
       "      <td>2020</td>\n",
       "      <td>Summer</td>\n",
       "      <td>Tokyo</td>\n",
       "      <td>Artistic Gymnastics</td>\n",
       "      <td>Men's Parallel Bars</td>\n",
       "      <td>Gold</td>\n",
       "      <td>China</td>\n",
       "      <td>NaN</td>\n",
       "      <td>China</td>\n",
       "      <td>1.371220e+09</td>\n",
       "      <td>8027.683810</td>\n",
       "    </tr>\n",
       "    <tr>\n",
       "      <th>282625</th>\n",
       "      <td>ZUBIMENDI Martin</td>\n",
       "      <td>M</td>\n",
       "      <td>22.0</td>\n",
       "      <td>1.80</td>\n",
       "      <td>NaN</td>\n",
       "      <td>Spain</td>\n",
       "      <td>ESP</td>\n",
       "      <td>Tokyo 2020</td>\n",
       "      <td>2020</td>\n",
       "      <td>Summer</td>\n",
       "      <td>Tokyo</td>\n",
       "      <td>Football</td>\n",
       "      <td>Men</td>\n",
       "      <td>Silver</td>\n",
       "      <td>Spain</td>\n",
       "      <td>NaN</td>\n",
       "      <td>Spain</td>\n",
       "      <td>4.641827e+07</td>\n",
       "      <td>25831.582305</td>\n",
       "    </tr>\n",
       "    <tr>\n",
       "      <th>282626</th>\n",
       "      <td>ZVEREV Alexander</td>\n",
       "      <td>M</td>\n",
       "      <td>24.0</td>\n",
       "      <td>1.98</td>\n",
       "      <td>NaN</td>\n",
       "      <td>Germany</td>\n",
       "      <td>GER</td>\n",
       "      <td>Tokyo 2020</td>\n",
       "      <td>2020</td>\n",
       "      <td>Summer</td>\n",
       "      <td>Tokyo</td>\n",
       "      <td>Tennis</td>\n",
       "      <td>Men's Singles</td>\n",
       "      <td>Gold</td>\n",
       "      <td>Germany</td>\n",
       "      <td>NaN</td>\n",
       "      <td>Germany</td>\n",
       "      <td>8.141314e+07</td>\n",
       "      <td>41313.313995</td>\n",
       "    </tr>\n",
       "  </tbody>\n",
       "</table>\n",
       "<p>282627 rows × 19 columns</p>\n",
       "</div>"
      ],
      "text/plain": [
       "                            Name Sex   Age  Height  Weight  \\\n",
       "0                      A Dijiang   M  24.0  180.00    80.0   \n",
       "1                       A Lamusi   M  23.0  170.00    60.0   \n",
       "2            Gunnar Nielsen Aaby   M  24.0     NaN     NaN   \n",
       "3           Edgar Lindenau Aabye   M  34.0     NaN     NaN   \n",
       "4       Christine Jacoba Aaftink   F  21.0  185.00    82.0   \n",
       "...                          ...  ..   ...     ...     ...   \n",
       "282622        ZOLOTIC Anastasija   F  19.0    1.80     NaN   \n",
       "282623              ZOU Jingyuan   M  23.0    1.58     NaN   \n",
       "282624              ZOU Jingyuan   M  23.0    1.58     NaN   \n",
       "282625          ZUBIMENDI Martin   M  22.0    1.80     NaN   \n",
       "282626          ZVEREV Alexander   M  24.0    1.98     NaN   \n",
       "\n",
       "                              Team  NOC        Games  Year  Season       City  \\\n",
       "0                            China  CHN  1992 Summer  1992  Summer  Barcelona   \n",
       "1                            China  CHN  2012 Summer  2012  Summer     London   \n",
       "2                          Denmark  DEN  1920 Summer  1920  Summer  Antwerpen   \n",
       "3                   Denmark/Sweden  DEN  1900 Summer  1900  Summer      Paris   \n",
       "4                      Netherlands  NED  1988 Winter  1988  Winter    Calgary   \n",
       "...                            ...  ...          ...   ...     ...        ...   \n",
       "282622    United States of America  USA   Tokyo 2020  2020  Summer      Tokyo   \n",
       "282623  People's Republic of China  CHN   Tokyo 2020  2020  Summer      Tokyo   \n",
       "282624  People's Republic of China  CHN   Tokyo 2020  2020  Summer      Tokyo   \n",
       "282625                       Spain  ESP   Tokyo 2020  2020  Summer      Tokyo   \n",
       "282626                     Germany  GER   Tokyo 2020  2020  Summer      Tokyo   \n",
       "\n",
       "                      Sport                             Event   Medal  \\\n",
       "0                Basketball       Basketball Men's Basketball     NaN   \n",
       "1                      Judo      Judo Men's Extra-Lightweight     NaN   \n",
       "2                  Football           Football Men's Football     NaN   \n",
       "3                Tug-Of-War       Tug-Of-War Men's Tug-Of-War    Gold   \n",
       "4             Speed Skating  Speed Skating Women's 500 metres     NaN   \n",
       "...                     ...                               ...     ...   \n",
       "282622            Taekwondo                       Women -57kg    Gold   \n",
       "282623  Artistic Gymnastics                        Men's Team  Bronze   \n",
       "282624  Artistic Gymnastics               Men's Parallel Bars    Gold   \n",
       "282625             Football                               Men  Silver   \n",
       "282626               Tennis                     Men's Singles    Gold   \n",
       "\n",
       "          Country_x notes      Country_y    Population  PIB/habitant  \n",
       "0             China   NaN          China  1.371220e+09   8027.683810  \n",
       "1             China   NaN          China  1.371220e+09   8027.683810  \n",
       "2           Denmark   NaN        Denmark  5.676002e+06  51989.293471  \n",
       "3           Denmark   NaN        Denmark  5.676002e+06  51989.293471  \n",
       "4       Netherlands   NaN    Netherlands  1.693652e+07  44299.768085  \n",
       "...             ...   ...            ...           ...           ...  \n",
       "282622          USA   NaN  United States  3.214188e+08  56115.718426  \n",
       "282623        China   NaN          China  1.371220e+09   8027.683810  \n",
       "282624        China   NaN          China  1.371220e+09   8027.683810  \n",
       "282625        Spain   NaN          Spain  4.641827e+07  25831.582305  \n",
       "282626      Germany   NaN        Germany  8.141314e+07  41313.313995  \n",
       "\n",
       "[282627 rows x 19 columns]"
      ]
     },
     "execution_count": 23,
     "metadata": {},
     "output_type": "execute_result"
    },
    {
     "name": "stdout",
     "output_type": "stream",
     "text": [
      "In [23] used 71.8 MiB RAM in 0.28s (system mean cpu 24%, single max cpu 100%), peaked 0.0 MiB above final usage, current RAM usage now 236.5 MiB\n"
     ]
    }
   ],
   "source": [
    "df_complete=pd.merge(pd.merge(df_athlete,df_regions,on='NOC',how='left'),df_dictionnary,on='NOC',how='left')\n",
    "#df_complete=df_complete.drop(labels='',axis=1)\n",
    "\n",
    "df_complete"
   ]
  },
  {
   "cell_type": "code",
   "execution_count": null,
   "id": "5996b466",
   "metadata": {},
   "outputs": [],
   "source": []
  },
  {
   "cell_type": "code",
   "execution_count": 24,
   "id": "e7992632",
   "metadata": {},
   "outputs": [
    {
     "name": "stdout",
     "output_type": "stream",
     "text": [
      "In [24] used -7.0 MiB RAM in 0.16s (system mean cpu 17%, single max cpu 100%), peaked 7.0 MiB above final usage, current RAM usage now 229.5 MiB\n"
     ]
    }
   ],
   "source": [
    "df_complete=df_complete.query(\" NOC !='ROC' \")"
   ]
  },
  {
   "cell_type": "code",
   "execution_count": 25,
   "id": "b8208952",
   "metadata": {
    "scrolled": true
   },
   "outputs": [
    {
     "name": "stdout",
     "output_type": "stream",
     "text": [
      "In [25] used 0.1 MiB RAM in 0.11s (system mean cpu 15%, single max cpu 100%), peaked 0.0 MiB above final usage, current RAM usage now 229.6 MiB\n"
     ]
    }
   ],
   "source": [
    "#df_complete.info()"
   ]
  },
  {
   "cell_type": "markdown",
   "id": "2266791c",
   "metadata": {},
   "source": [
    "282 627 lignes , c'est normal on a enlevé les  réfugiés"
   ]
  },
  {
   "cell_type": "code",
   "execution_count": 26,
   "id": "57b1b780",
   "metadata": {},
   "outputs": [
    {
     "name": "stdout",
     "output_type": "stream",
     "text": [
      "In [26] used 0.7 MiB RAM in 0.13s (system mean cpu 18%, single max cpu 100%), peaked 0.0 MiB above final usage, current RAM usage now 230.3 MiB\n"
     ]
    }
   ],
   "source": [
    "df_complete.loc[(df_complete['Medal'].isna(),'Medal')]='Pas_medaille'\n",
    "\n"
   ]
  },
  {
   "cell_type": "markdown",
   "id": "ea88cfda",
   "metadata": {},
   "source": [
    "## Encoding test "
   ]
  },
  {
   "cell_type": "code",
   "execution_count": 27,
   "id": "b786455c",
   "metadata": {},
   "outputs": [
    {
     "data": {
      "text/html": [
       "<div>\n",
       "<style scoped>\n",
       "    .dataframe tbody tr th:only-of-type {\n",
       "        vertical-align: middle;\n",
       "    }\n",
       "\n",
       "    .dataframe tbody tr th {\n",
       "        vertical-align: top;\n",
       "    }\n",
       "\n",
       "    .dataframe thead th {\n",
       "        text-align: right;\n",
       "    }\n",
       "</style>\n",
       "<table border=\"1\" class=\"dataframe\">\n",
       "  <thead>\n",
       "    <tr style=\"text-align: right;\">\n",
       "      <th></th>\n",
       "      <th>Name</th>\n",
       "      <th>Sex</th>\n",
       "      <th>Age</th>\n",
       "      <th>Height</th>\n",
       "      <th>Weight</th>\n",
       "      <th>Team</th>\n",
       "      <th>NOC</th>\n",
       "      <th>Games</th>\n",
       "      <th>Year</th>\n",
       "      <th>Season</th>\n",
       "      <th>City</th>\n",
       "      <th>Sport</th>\n",
       "      <th>Event</th>\n",
       "      <th>Medal</th>\n",
       "      <th>Country_x</th>\n",
       "      <th>notes</th>\n",
       "      <th>Country_y</th>\n",
       "      <th>Population</th>\n",
       "      <th>PIB/habitant</th>\n",
       "      <th>Score_medaille</th>\n",
       "    </tr>\n",
       "  </thead>\n",
       "  <tbody>\n",
       "    <tr>\n",
       "      <th>0</th>\n",
       "      <td>A Dijiang</td>\n",
       "      <td>M</td>\n",
       "      <td>24.0</td>\n",
       "      <td>180.00</td>\n",
       "      <td>80.0</td>\n",
       "      <td>China</td>\n",
       "      <td>CHN</td>\n",
       "      <td>1992 Summer</td>\n",
       "      <td>1992</td>\n",
       "      <td>Summer</td>\n",
       "      <td>Barcelona</td>\n",
       "      <td>Basketball</td>\n",
       "      <td>Basketball Men's Basketball</td>\n",
       "      <td>Pas_medaille</td>\n",
       "      <td>China</td>\n",
       "      <td>NaN</td>\n",
       "      <td>China</td>\n",
       "      <td>1.371220e+09</td>\n",
       "      <td>8027.683810</td>\n",
       "      <td>0</td>\n",
       "    </tr>\n",
       "    <tr>\n",
       "      <th>1</th>\n",
       "      <td>A Lamusi</td>\n",
       "      <td>M</td>\n",
       "      <td>23.0</td>\n",
       "      <td>170.00</td>\n",
       "      <td>60.0</td>\n",
       "      <td>China</td>\n",
       "      <td>CHN</td>\n",
       "      <td>2012 Summer</td>\n",
       "      <td>2012</td>\n",
       "      <td>Summer</td>\n",
       "      <td>London</td>\n",
       "      <td>Judo</td>\n",
       "      <td>Judo Men's Extra-Lightweight</td>\n",
       "      <td>Pas_medaille</td>\n",
       "      <td>China</td>\n",
       "      <td>NaN</td>\n",
       "      <td>China</td>\n",
       "      <td>1.371220e+09</td>\n",
       "      <td>8027.683810</td>\n",
       "      <td>0</td>\n",
       "    </tr>\n",
       "    <tr>\n",
       "      <th>2</th>\n",
       "      <td>Gunnar Nielsen Aaby</td>\n",
       "      <td>M</td>\n",
       "      <td>24.0</td>\n",
       "      <td>NaN</td>\n",
       "      <td>NaN</td>\n",
       "      <td>Denmark</td>\n",
       "      <td>DEN</td>\n",
       "      <td>1920 Summer</td>\n",
       "      <td>1920</td>\n",
       "      <td>Summer</td>\n",
       "      <td>Antwerpen</td>\n",
       "      <td>Football</td>\n",
       "      <td>Football Men's Football</td>\n",
       "      <td>Pas_medaille</td>\n",
       "      <td>Denmark</td>\n",
       "      <td>NaN</td>\n",
       "      <td>Denmark</td>\n",
       "      <td>5.676002e+06</td>\n",
       "      <td>51989.293471</td>\n",
       "      <td>0</td>\n",
       "    </tr>\n",
       "    <tr>\n",
       "      <th>3</th>\n",
       "      <td>Edgar Lindenau Aabye</td>\n",
       "      <td>M</td>\n",
       "      <td>34.0</td>\n",
       "      <td>NaN</td>\n",
       "      <td>NaN</td>\n",
       "      <td>Denmark/Sweden</td>\n",
       "      <td>DEN</td>\n",
       "      <td>1900 Summer</td>\n",
       "      <td>1900</td>\n",
       "      <td>Summer</td>\n",
       "      <td>Paris</td>\n",
       "      <td>Tug-Of-War</td>\n",
       "      <td>Tug-Of-War Men's Tug-Of-War</td>\n",
       "      <td>Gold</td>\n",
       "      <td>Denmark</td>\n",
       "      <td>NaN</td>\n",
       "      <td>Denmark</td>\n",
       "      <td>5.676002e+06</td>\n",
       "      <td>51989.293471</td>\n",
       "      <td>3</td>\n",
       "    </tr>\n",
       "    <tr>\n",
       "      <th>4</th>\n",
       "      <td>Christine Jacoba Aaftink</td>\n",
       "      <td>F</td>\n",
       "      <td>21.0</td>\n",
       "      <td>185.00</td>\n",
       "      <td>82.0</td>\n",
       "      <td>Netherlands</td>\n",
       "      <td>NED</td>\n",
       "      <td>1988 Winter</td>\n",
       "      <td>1988</td>\n",
       "      <td>Winter</td>\n",
       "      <td>Calgary</td>\n",
       "      <td>Speed Skating</td>\n",
       "      <td>Speed Skating Women's 500 metres</td>\n",
       "      <td>Pas_medaille</td>\n",
       "      <td>Netherlands</td>\n",
       "      <td>NaN</td>\n",
       "      <td>Netherlands</td>\n",
       "      <td>1.693652e+07</td>\n",
       "      <td>44299.768085</td>\n",
       "      <td>0</td>\n",
       "    </tr>\n",
       "    <tr>\n",
       "      <th>...</th>\n",
       "      <td>...</td>\n",
       "      <td>...</td>\n",
       "      <td>...</td>\n",
       "      <td>...</td>\n",
       "      <td>...</td>\n",
       "      <td>...</td>\n",
       "      <td>...</td>\n",
       "      <td>...</td>\n",
       "      <td>...</td>\n",
       "      <td>...</td>\n",
       "      <td>...</td>\n",
       "      <td>...</td>\n",
       "      <td>...</td>\n",
       "      <td>...</td>\n",
       "      <td>...</td>\n",
       "      <td>...</td>\n",
       "      <td>...</td>\n",
       "      <td>...</td>\n",
       "      <td>...</td>\n",
       "      <td>...</td>\n",
       "    </tr>\n",
       "    <tr>\n",
       "      <th>282622</th>\n",
       "      <td>ZOLOTIC Anastasija</td>\n",
       "      <td>F</td>\n",
       "      <td>19.0</td>\n",
       "      <td>1.80</td>\n",
       "      <td>NaN</td>\n",
       "      <td>United States of America</td>\n",
       "      <td>USA</td>\n",
       "      <td>Tokyo 2020</td>\n",
       "      <td>2020</td>\n",
       "      <td>Summer</td>\n",
       "      <td>Tokyo</td>\n",
       "      <td>Taekwondo</td>\n",
       "      <td>Women -57kg</td>\n",
       "      <td>Gold</td>\n",
       "      <td>USA</td>\n",
       "      <td>NaN</td>\n",
       "      <td>United States</td>\n",
       "      <td>3.214188e+08</td>\n",
       "      <td>56115.718426</td>\n",
       "      <td>3</td>\n",
       "    </tr>\n",
       "    <tr>\n",
       "      <th>282623</th>\n",
       "      <td>ZOU Jingyuan</td>\n",
       "      <td>M</td>\n",
       "      <td>23.0</td>\n",
       "      <td>1.58</td>\n",
       "      <td>NaN</td>\n",
       "      <td>People's Republic of China</td>\n",
       "      <td>CHN</td>\n",
       "      <td>Tokyo 2020</td>\n",
       "      <td>2020</td>\n",
       "      <td>Summer</td>\n",
       "      <td>Tokyo</td>\n",
       "      <td>Artistic Gymnastics</td>\n",
       "      <td>Men's Team</td>\n",
       "      <td>Bronze</td>\n",
       "      <td>China</td>\n",
       "      <td>NaN</td>\n",
       "      <td>China</td>\n",
       "      <td>1.371220e+09</td>\n",
       "      <td>8027.683810</td>\n",
       "      <td>1</td>\n",
       "    </tr>\n",
       "    <tr>\n",
       "      <th>282624</th>\n",
       "      <td>ZOU Jingyuan</td>\n",
       "      <td>M</td>\n",
       "      <td>23.0</td>\n",
       "      <td>1.58</td>\n",
       "      <td>NaN</td>\n",
       "      <td>People's Republic of China</td>\n",
       "      <td>CHN</td>\n",
       "      <td>Tokyo 2020</td>\n",
       "      <td>2020</td>\n",
       "      <td>Summer</td>\n",
       "      <td>Tokyo</td>\n",
       "      <td>Artistic Gymnastics</td>\n",
       "      <td>Men's Parallel Bars</td>\n",
       "      <td>Gold</td>\n",
       "      <td>China</td>\n",
       "      <td>NaN</td>\n",
       "      <td>China</td>\n",
       "      <td>1.371220e+09</td>\n",
       "      <td>8027.683810</td>\n",
       "      <td>3</td>\n",
       "    </tr>\n",
       "    <tr>\n",
       "      <th>282625</th>\n",
       "      <td>ZUBIMENDI Martin</td>\n",
       "      <td>M</td>\n",
       "      <td>22.0</td>\n",
       "      <td>1.80</td>\n",
       "      <td>NaN</td>\n",
       "      <td>Spain</td>\n",
       "      <td>ESP</td>\n",
       "      <td>Tokyo 2020</td>\n",
       "      <td>2020</td>\n",
       "      <td>Summer</td>\n",
       "      <td>Tokyo</td>\n",
       "      <td>Football</td>\n",
       "      <td>Men</td>\n",
       "      <td>Silver</td>\n",
       "      <td>Spain</td>\n",
       "      <td>NaN</td>\n",
       "      <td>Spain</td>\n",
       "      <td>4.641827e+07</td>\n",
       "      <td>25831.582305</td>\n",
       "      <td>2</td>\n",
       "    </tr>\n",
       "    <tr>\n",
       "      <th>282626</th>\n",
       "      <td>ZVEREV Alexander</td>\n",
       "      <td>M</td>\n",
       "      <td>24.0</td>\n",
       "      <td>1.98</td>\n",
       "      <td>NaN</td>\n",
       "      <td>Germany</td>\n",
       "      <td>GER</td>\n",
       "      <td>Tokyo 2020</td>\n",
       "      <td>2020</td>\n",
       "      <td>Summer</td>\n",
       "      <td>Tokyo</td>\n",
       "      <td>Tennis</td>\n",
       "      <td>Men's Singles</td>\n",
       "      <td>Gold</td>\n",
       "      <td>Germany</td>\n",
       "      <td>NaN</td>\n",
       "      <td>Germany</td>\n",
       "      <td>8.141314e+07</td>\n",
       "      <td>41313.313995</td>\n",
       "      <td>3</td>\n",
       "    </tr>\n",
       "  </tbody>\n",
       "</table>\n",
       "<p>282627 rows × 20 columns</p>\n",
       "</div>"
      ],
      "text/plain": [
       "                            Name Sex   Age  Height  Weight  \\\n",
       "0                      A Dijiang   M  24.0  180.00    80.0   \n",
       "1                       A Lamusi   M  23.0  170.00    60.0   \n",
       "2            Gunnar Nielsen Aaby   M  24.0     NaN     NaN   \n",
       "3           Edgar Lindenau Aabye   M  34.0     NaN     NaN   \n",
       "4       Christine Jacoba Aaftink   F  21.0  185.00    82.0   \n",
       "...                          ...  ..   ...     ...     ...   \n",
       "282622        ZOLOTIC Anastasija   F  19.0    1.80     NaN   \n",
       "282623              ZOU Jingyuan   M  23.0    1.58     NaN   \n",
       "282624              ZOU Jingyuan   M  23.0    1.58     NaN   \n",
       "282625          ZUBIMENDI Martin   M  22.0    1.80     NaN   \n",
       "282626          ZVEREV Alexander   M  24.0    1.98     NaN   \n",
       "\n",
       "                              Team  NOC        Games  Year  Season       City  \\\n",
       "0                            China  CHN  1992 Summer  1992  Summer  Barcelona   \n",
       "1                            China  CHN  2012 Summer  2012  Summer     London   \n",
       "2                          Denmark  DEN  1920 Summer  1920  Summer  Antwerpen   \n",
       "3                   Denmark/Sweden  DEN  1900 Summer  1900  Summer      Paris   \n",
       "4                      Netherlands  NED  1988 Winter  1988  Winter    Calgary   \n",
       "...                            ...  ...          ...   ...     ...        ...   \n",
       "282622    United States of America  USA   Tokyo 2020  2020  Summer      Tokyo   \n",
       "282623  People's Republic of China  CHN   Tokyo 2020  2020  Summer      Tokyo   \n",
       "282624  People's Republic of China  CHN   Tokyo 2020  2020  Summer      Tokyo   \n",
       "282625                       Spain  ESP   Tokyo 2020  2020  Summer      Tokyo   \n",
       "282626                     Germany  GER   Tokyo 2020  2020  Summer      Tokyo   \n",
       "\n",
       "                      Sport                             Event         Medal  \\\n",
       "0                Basketball       Basketball Men's Basketball  Pas_medaille   \n",
       "1                      Judo      Judo Men's Extra-Lightweight  Pas_medaille   \n",
       "2                  Football           Football Men's Football  Pas_medaille   \n",
       "3                Tug-Of-War       Tug-Of-War Men's Tug-Of-War          Gold   \n",
       "4             Speed Skating  Speed Skating Women's 500 metres  Pas_medaille   \n",
       "...                     ...                               ...           ...   \n",
       "282622            Taekwondo                       Women -57kg          Gold   \n",
       "282623  Artistic Gymnastics                        Men's Team        Bronze   \n",
       "282624  Artistic Gymnastics               Men's Parallel Bars          Gold   \n",
       "282625             Football                               Men        Silver   \n",
       "282626               Tennis                     Men's Singles          Gold   \n",
       "\n",
       "          Country_x notes      Country_y    Population  PIB/habitant  \\\n",
       "0             China   NaN          China  1.371220e+09   8027.683810   \n",
       "1             China   NaN          China  1.371220e+09   8027.683810   \n",
       "2           Denmark   NaN        Denmark  5.676002e+06  51989.293471   \n",
       "3           Denmark   NaN        Denmark  5.676002e+06  51989.293471   \n",
       "4       Netherlands   NaN    Netherlands  1.693652e+07  44299.768085   \n",
       "...             ...   ...            ...           ...           ...   \n",
       "282622          USA   NaN  United States  3.214188e+08  56115.718426   \n",
       "282623        China   NaN          China  1.371220e+09   8027.683810   \n",
       "282624        China   NaN          China  1.371220e+09   8027.683810   \n",
       "282625        Spain   NaN          Spain  4.641827e+07  25831.582305   \n",
       "282626      Germany   NaN        Germany  8.141314e+07  41313.313995   \n",
       "\n",
       "        Score_medaille  \n",
       "0                    0  \n",
       "1                    0  \n",
       "2                    0  \n",
       "3                    3  \n",
       "4                    0  \n",
       "...                ...  \n",
       "282622               3  \n",
       "282623               1  \n",
       "282624               3  \n",
       "282625               2  \n",
       "282626               3  \n",
       "\n",
       "[282627 rows x 20 columns]"
      ]
     },
     "execution_count": 27,
     "metadata": {},
     "output_type": "execute_result"
    },
    {
     "name": "stdout",
     "output_type": "stream",
     "text": [
      "In [27] used 0.5 MiB RAM in 0.14s (system mean cpu 15%, single max cpu 100%), peaked 0.0 MiB above final usage, current RAM usage now 230.9 MiB\n"
     ]
    }
   ],
   "source": [
    "dictio_score_medaille={'Pas_medaille':0,\n",
    "                      'Bronze':1,\n",
    "                      'Silver':2,\n",
    "                      'Gold':3}\n",
    "\n",
    "df_complete['Score_medaille']=df_complete['Medal'].map(dictio_score_medaille)\n",
    "\n",
    "df_complete"
   ]
  },
  {
   "cell_type": "code",
   "execution_count": 28,
   "id": "e2f440db",
   "metadata": {},
   "outputs": [
    {
     "data": {
      "text/plain": [
       "\" \\nmedaille_categories=['Pas_medaille','Bronze','Silver','Gold']\\nencode_medaille=preprocessing.OrdinalEncoder(categories=[medaille_categories])\\n\\ndf_complete['enc_medal']=encode_medaille.fit_transform(df_complete[['Medal']])\\n\\ndf_complete\\n\""
      ]
     },
     "execution_count": 28,
     "metadata": {},
     "output_type": "execute_result"
    },
    {
     "name": "stdout",
     "output_type": "stream",
     "text": [
      "In [28] used 0.1 MiB RAM in 0.11s (system mean cpu 14%, single max cpu 100%), peaked 0.0 MiB above final usage, current RAM usage now 231.0 MiB\n"
     ]
    }
   ],
   "source": [
    "#Marche aussi \n",
    "''' \n",
    "medaille_categories=['Pas_medaille','Bronze','Silver','Gold']\n",
    "encode_medaille=preprocessing.OrdinalEncoder(categories=[medaille_categories])\n",
    "\n",
    "df_complete['enc_medal']=encode_medaille.fit_transform(df_complete[['Medal']])\n",
    "\n",
    "df_complete\n",
    "''' "
   ]
  },
  {
   "cell_type": "markdown",
   "id": "cc8d1124",
   "metadata": {},
   "source": [
    "## Analyse valeurs nulles "
   ]
  },
  {
   "cell_type": "code",
   "execution_count": 29,
   "id": "53d43ec6",
   "metadata": {},
   "outputs": [
    {
     "data": {
      "text/plain": [
       "Name                   0\n",
       "Sex                  156\n",
       "Age                 9628\n",
       "Height             67142\n",
       "Weight             74386\n",
       "Team                   0\n",
       "NOC                    0\n",
       "Games                  0\n",
       "Year                   0\n",
       "Season                 0\n",
       "City                   0\n",
       "Sport                156\n",
       "Event               9278\n",
       "Medal                  0\n",
       "Country_x            419\n",
       "notes             277510\n",
       "Country_y          26221\n",
       "Population         27593\n",
       "PIB/habitant       35919\n",
       "Score_medaille         0\n",
       "dtype: int64"
      ]
     },
     "execution_count": 29,
     "metadata": {},
     "output_type": "execute_result"
    },
    {
     "name": "stdout",
     "output_type": "stream",
     "text": [
      "In [29] used 3.7 MiB RAM in 0.24s (system mean cpu 4%, single max cpu 83%), peaked 0.0 MiB above final usage, current RAM usage now 234.7 MiB\n"
     ]
    }
   ],
   "source": [
    "df_complete.isna().sum()"
   ]
  },
  {
   "cell_type": "markdown",
   "id": "ad571996",
   "metadata": {},
   "source": [
    "156 sports où on sait pas ce que c'est .... et des country (26 221) qui ne sont pas attribués non plus "
   ]
  },
  {
   "cell_type": "markdown",
   "id": "f06d731d",
   "metadata": {},
   "source": [
    "Pour les Country , on va merge "
   ]
  },
  {
   "cell_type": "code",
   "execution_count": 30,
   "id": "b9e140a7",
   "metadata": {},
   "outputs": [
    {
     "name": "stdout",
     "output_type": "stream",
     "text": [
      "In [30] used 53.9 MiB RAM in 0.18s (system mean cpu 4%, single max cpu 64%), peaked 0.0 MiB above final usage, current RAM usage now 288.6 MiB\n"
     ]
    }
   ],
   "source": [
    "#df_complete_test=df_complete.copy()\n",
    "\n",
    "df_complete=pd.merge(df_complete,df_regions,on='NOC',how='left')\n",
    "\n",
    "df_complete['Country']=df_complete['Country_y'].fillna(df_complete['Country_x'])"
   ]
  },
  {
   "cell_type": "code",
   "execution_count": 31,
   "id": "7da8d24e",
   "metadata": {},
   "outputs": [
    {
     "name": "stdout",
     "output_type": "stream",
     "text": [
      "In [31] used 16.4 MiB RAM in 0.16s (system mean cpu 5%, single max cpu 100%), peaked 5.2 MiB above final usage, current RAM usage now 305.0 MiB\n"
     ]
    }
   ],
   "source": [
    "df_complete= df_complete.drop(['Country_x', 'Country_y'], axis=1)"
   ]
  },
  {
   "cell_type": "code",
   "execution_count": 32,
   "id": "85f345e0",
   "metadata": {
    "scrolled": true
   },
   "outputs": [
    {
     "name": "stdout",
     "output_type": "stream",
     "text": [
      "In [32] used -1.2 MiB RAM in 0.15s (system mean cpu 5%, single max cpu 50%), peaked 0.0 MiB above final usage, current RAM usage now 303.8 MiB\n"
     ]
    }
   ],
   "source": [
    "liste_pays=df_regions['Country'].tolist()\n",
    "liste_NOC=df_regions['NOC'].tolist()\n",
    "\n",
    "dictio_NOC_pays=dict(zip(liste_NOC,liste_pays))\n",
    "\n",
    "dictio_NOC_pays['SGP']='Singapour'\n",
    "dictio_NOC_pays['LBN']='Liban'\n",
    "\n",
    "\n",
    "df_complete['Country']=df_complete['Country'].fillna(df_complete['NOC'].map(dictio_NOC_pays))\n",
    "#liste_region\n",
    "\n",
    "#df_complete_test.isna().sum()"
   ]
  },
  {
   "cell_type": "code",
   "execution_count": 33,
   "id": "cbb63273",
   "metadata": {},
   "outputs": [
    {
     "name": "stdout",
     "output_type": "stream",
     "text": [
      "In [33] used 0.0 MiB RAM in 0.11s (system mean cpu 10%, single max cpu 100%), peaked 0.0 MiB above final usage, current RAM usage now 303.8 MiB\n"
     ]
    }
   ],
   "source": [
    "#test=df_complete_test[df_complete_test['Country'].isna()]\n",
    "\n",
    "#test['Country']=test['Country'].fillna(test['NOC'].map(dictio_NOC_pays))\n",
    "\n",
    "#test.groupby('NOC')['Name'].count().reset_index()"
   ]
  },
  {
   "cell_type": "markdown",
   "id": "f12aa432",
   "metadata": {},
   "source": [
    "Il y a quatre NOC qui ne correspondent à aucun pays dans notre EOR : réfugiés , ROT réfugiés aussi , LBN c'est le Liban (Lebanon en anglais )"
   ]
  },
  {
   "cell_type": "code",
   "execution_count": 34,
   "id": "caca7705",
   "metadata": {},
   "outputs": [
    {
     "name": "stdout",
     "output_type": "stream",
     "text": [
      "In [34] used 12.0 MiB RAM in 0.19s (system mean cpu 10%, single max cpu 100%), peaked 0.0 MiB above final usage, current RAM usage now 315.8 MiB\n"
     ]
    }
   ],
   "source": [
    "df_complete=df_complete.query(\" NOC !='ROT' and NOC !='EOR' \")\n",
    "\n"
   ]
  },
  {
   "cell_type": "code",
   "execution_count": 35,
   "id": "40d3bb95",
   "metadata": {},
   "outputs": [
    {
     "name": "stdout",
     "output_type": "stream",
     "text": [
      "In [35] used 4.4 MiB RAM in 0.15s (system mean cpu 10%, single max cpu 67%), peaked 0.0 MiB above final usage, current RAM usage now 320.2 MiB\n"
     ]
    }
   ],
   "source": [
    "df_complete=df_complete.drop(['notes_x','notes_y'],axis=1)"
   ]
  },
  {
   "cell_type": "markdown",
   "id": "6202ffb7",
   "metadata": {},
   "source": [
    "## Opérations sur les sports "
   ]
  },
  {
   "cell_type": "code",
   "execution_count": 36,
   "id": "5a9660fa",
   "metadata": {},
   "outputs": [
    {
     "name": "stdout",
     "output_type": "stream",
     "text": [
      "['Basketball', 'Judo', 'Football', 'Tug-Of-War', 'Speed Skating', 'Cross Country Skiing', 'Athletics', 'Ice Hockey', 'Swimming', 'Badminton', 'Sailing', 'Biathlon', 'Gymnastics', 'Art Competitions', 'Alpine Skiing', 'Handball', 'Weightlifting', 'Wrestling', 'Luge', 'Water Polo', 'Hockey', 'Rowing', 'Bobsleigh', 'Fencing', 'Equestrianism', 'Shooting', 'Boxing', 'Taekwondo', 'Cycling', 'Diving', 'Canoeing', 'Tennis', 'Modern Pentathlon', 'Figure Skating', 'Golf', 'Softball', 'Archery', 'Volleyball', 'Synchronized Swimming', 'Table Tennis', 'Nordic Combined', 'Baseball', 'Rhythmic Gymnastics', 'Freestyle Skiing', 'Rugby Sevens', 'Trampolining', 'Beach Volleyball', 'Triathlon', 'Ski Jumping', 'Curling', 'Snowboarding', 'Rugby', 'Short Track Speed Skating', 'Skeleton', 'Lacrosse', 'Polo', 'Cricket', 'Racquets', 'Motorboating', 'Military Ski Patrol', 'Croquet', 'Jeu De Paume', 'Roque', 'Alpinism', 'Basque Pelota', 'Aeronautics', 'Cycling Road', 'Artistic Gymnastics', 'Karate', 'Trampoline Gymnastics', 'Canoe Slalom', 'Surfing', 'Canoe Sprint', nan, 'Equestrian', 'Artistic Swimming', 'Cycling Track', 'Skateboarding', 'Marathon Swimming', 'Cycling BMX Racing', 'Baseball/Softball', 'Cycling Mountain Bike', '3x3 Basketball', 'Cycling BMX Freestyle', 'Sport Climbing']\n",
      "In [36] used -0.1 MiB RAM in 0.13s (system mean cpu 21%, single max cpu 67%), peaked 0.1 MiB above final usage, current RAM usage now 320.1 MiB\n"
     ]
    }
   ],
   "source": [
    "liste_sports=df_complete['Sport'].unique().tolist()\n",
    "\n",
    "print(liste_sports)"
   ]
  },
  {
   "cell_type": "code",
   "execution_count": 37,
   "id": "7da8bef5",
   "metadata": {},
   "outputs": [
    {
     "data": {
      "text/html": [
       "<div>\n",
       "<style scoped>\n",
       "    .dataframe tbody tr th:only-of-type {\n",
       "        vertical-align: middle;\n",
       "    }\n",
       "\n",
       "    .dataframe tbody tr th {\n",
       "        vertical-align: top;\n",
       "    }\n",
       "\n",
       "    .dataframe thead th {\n",
       "        text-align: right;\n",
       "    }\n",
       "</style>\n",
       "<table border=\"1\" class=\"dataframe\">\n",
       "  <thead>\n",
       "    <tr style=\"text-align: right;\">\n",
       "      <th></th>\n",
       "      <th>Sport</th>\n",
       "      <th>Name</th>\n",
       "    </tr>\n",
       "  </thead>\n",
       "  <tbody>\n",
       "    <tr>\n",
       "      <th>0</th>\n",
       "      <td>3x3 Basketball</td>\n",
       "      <td>56</td>\n",
       "    </tr>\n",
       "    <tr>\n",
       "      <th>1</th>\n",
       "      <td>Aeronautics</td>\n",
       "      <td>1</td>\n",
       "    </tr>\n",
       "    <tr>\n",
       "      <th>2</th>\n",
       "      <td>Alpine Skiing</td>\n",
       "      <td>8829</td>\n",
       "    </tr>\n",
       "    <tr>\n",
       "      <th>3</th>\n",
       "      <td>Alpinism</td>\n",
       "      <td>25</td>\n",
       "    </tr>\n",
       "    <tr>\n",
       "      <th>4</th>\n",
       "      <td>Archery</td>\n",
       "      <td>2461</td>\n",
       "    </tr>\n",
       "    <tr>\n",
       "      <th>...</th>\n",
       "      <td>...</td>\n",
       "      <td>...</td>\n",
       "    </tr>\n",
       "    <tr>\n",
       "      <th>79</th>\n",
       "      <td>Tug-Of-War</td>\n",
       "      <td>170</td>\n",
       "    </tr>\n",
       "    <tr>\n",
       "      <th>80</th>\n",
       "      <td>Volleyball</td>\n",
       "      <td>3666</td>\n",
       "    </tr>\n",
       "    <tr>\n",
       "      <th>81</th>\n",
       "      <td>Water Polo</td>\n",
       "      <td>4119</td>\n",
       "    </tr>\n",
       "    <tr>\n",
       "      <th>82</th>\n",
       "      <td>Weightlifting</td>\n",
       "      <td>4128</td>\n",
       "    </tr>\n",
       "    <tr>\n",
       "      <th>83</th>\n",
       "      <td>Wrestling</td>\n",
       "      <td>7425</td>\n",
       "    </tr>\n",
       "  </tbody>\n",
       "</table>\n",
       "<p>84 rows × 2 columns</p>\n",
       "</div>"
      ],
      "text/plain": [
       "             Sport  Name\n",
       "0   3x3 Basketball    56\n",
       "1      Aeronautics     1\n",
       "2    Alpine Skiing  8829\n",
       "3         Alpinism    25\n",
       "4          Archery  2461\n",
       "..             ...   ...\n",
       "79      Tug-Of-War   170\n",
       "80      Volleyball  3666\n",
       "81      Water Polo  4119\n",
       "82   Weightlifting  4128\n",
       "83       Wrestling  7425\n",
       "\n",
       "[84 rows x 2 columns]"
      ]
     },
     "execution_count": 37,
     "metadata": {},
     "output_type": "execute_result"
    },
    {
     "name": "stdout",
     "output_type": "stream",
     "text": [
      "In [37] used 0.1 MiB RAM in 0.17s (system mean cpu 41%, single max cpu 100%), peaked 0.0 MiB above final usage, current RAM usage now 320.1 MiB\n"
     ]
    }
   ],
   "source": [
    "table_sport=df_complete.groupby('Sport')['Name'].count().reset_index()\n",
    "\n",
    "table_sport"
   ]
  },
  {
   "cell_type": "code",
   "execution_count": 38,
   "id": "1fa11e5a",
   "metadata": {},
   "outputs": [
    {
     "name": "stdout",
     "output_type": "stream",
     "text": [
      "In [38] used -3.1 MiB RAM in 0.13s (system mean cpu 31%, single max cpu 100%), peaked 3.1 MiB above final usage, current RAM usage now 317.0 MiB\n"
     ]
    }
   ],
   "source": [
    "df_complete=df_complete[df_complete['Year']>=2000]"
   ]
  },
  {
   "cell_type": "code",
   "execution_count": 39,
   "id": "412c0826",
   "metadata": {},
   "outputs": [
    {
     "data": {
      "text/html": [
       "<div>\n",
       "<style scoped>\n",
       "    .dataframe tbody tr th:only-of-type {\n",
       "        vertical-align: middle;\n",
       "    }\n",
       "\n",
       "    .dataframe tbody tr th {\n",
       "        vertical-align: top;\n",
       "    }\n",
       "\n",
       "    .dataframe thead th {\n",
       "        text-align: right;\n",
       "    }\n",
       "</style>\n",
       "<table border=\"1\" class=\"dataframe\">\n",
       "  <thead>\n",
       "    <tr style=\"text-align: right;\">\n",
       "      <th></th>\n",
       "      <th>Name</th>\n",
       "      <th>Sex</th>\n",
       "      <th>Age</th>\n",
       "      <th>Height</th>\n",
       "      <th>Weight</th>\n",
       "      <th>Team</th>\n",
       "      <th>NOC</th>\n",
       "      <th>Games</th>\n",
       "      <th>Year</th>\n",
       "      <th>Season</th>\n",
       "      <th>City</th>\n",
       "      <th>Sport</th>\n",
       "      <th>Event</th>\n",
       "      <th>Medal</th>\n",
       "      <th>Population</th>\n",
       "      <th>PIB/habitant</th>\n",
       "      <th>Score_medaille</th>\n",
       "      <th>Country</th>\n",
       "    </tr>\n",
       "  </thead>\n",
       "  <tbody>\n",
       "    <tr>\n",
       "      <th>1</th>\n",
       "      <td>A Lamusi</td>\n",
       "      <td>M</td>\n",
       "      <td>23.0</td>\n",
       "      <td>170.00</td>\n",
       "      <td>60.0</td>\n",
       "      <td>China</td>\n",
       "      <td>CHN</td>\n",
       "      <td>2012 Summer</td>\n",
       "      <td>2012</td>\n",
       "      <td>Summer</td>\n",
       "      <td>London</td>\n",
       "      <td>Judo</td>\n",
       "      <td>Judo Men's Extra-Lightweight</td>\n",
       "      <td>Pas_medaille</td>\n",
       "      <td>1.371220e+09</td>\n",
       "      <td>8027.683810</td>\n",
       "      <td>0</td>\n",
       "      <td>China</td>\n",
       "    </tr>\n",
       "    <tr>\n",
       "      <th>28</th>\n",
       "      <td>Antti Sami Aalto</td>\n",
       "      <td>M</td>\n",
       "      <td>26.0</td>\n",
       "      <td>186.00</td>\n",
       "      <td>96.0</td>\n",
       "      <td>Finland</td>\n",
       "      <td>FIN</td>\n",
       "      <td>2002 Winter</td>\n",
       "      <td>2002</td>\n",
       "      <td>Winter</td>\n",
       "      <td>Salt Lake City</td>\n",
       "      <td>Ice Hockey</td>\n",
       "      <td>Ice Hockey Men's Ice Hockey</td>\n",
       "      <td>Pas_medaille</td>\n",
       "      <td>5.482013e+06</td>\n",
       "      <td>42311.036231</td>\n",
       "      <td>0</td>\n",
       "      <td>Finland</td>\n",
       "    </tr>\n",
       "    <tr>\n",
       "      <th>31</th>\n",
       "      <td>Jyri Tapani Aalto</td>\n",
       "      <td>M</td>\n",
       "      <td>31.0</td>\n",
       "      <td>172.00</td>\n",
       "      <td>70.0</td>\n",
       "      <td>Finland</td>\n",
       "      <td>FIN</td>\n",
       "      <td>2000 Summer</td>\n",
       "      <td>2000</td>\n",
       "      <td>Summer</td>\n",
       "      <td>Sydney</td>\n",
       "      <td>Badminton</td>\n",
       "      <td>Badminton Men's Singles</td>\n",
       "      <td>Pas_medaille</td>\n",
       "      <td>5.482013e+06</td>\n",
       "      <td>42311.036231</td>\n",
       "      <td>0</td>\n",
       "      <td>Finland</td>\n",
       "    </tr>\n",
       "    <tr>\n",
       "      <th>33</th>\n",
       "      <td>Minna Maarit Aalto</td>\n",
       "      <td>F</td>\n",
       "      <td>34.0</td>\n",
       "      <td>159.00</td>\n",
       "      <td>55.5</td>\n",
       "      <td>Finland</td>\n",
       "      <td>FIN</td>\n",
       "      <td>2000 Summer</td>\n",
       "      <td>2000</td>\n",
       "      <td>Summer</td>\n",
       "      <td>Sydney</td>\n",
       "      <td>Sailing</td>\n",
       "      <td>Sailing Women's Windsurfer</td>\n",
       "      <td>Pas_medaille</td>\n",
       "      <td>5.482013e+06</td>\n",
       "      <td>42311.036231</td>\n",
       "      <td>0</td>\n",
       "      <td>Finland</td>\n",
       "    </tr>\n",
       "    <tr>\n",
       "      <th>40</th>\n",
       "      <td>Juhamatti Tapio Aaltonen</td>\n",
       "      <td>M</td>\n",
       "      <td>28.0</td>\n",
       "      <td>184.00</td>\n",
       "      <td>85.0</td>\n",
       "      <td>Finland</td>\n",
       "      <td>FIN</td>\n",
       "      <td>2014 Winter</td>\n",
       "      <td>2014</td>\n",
       "      <td>Winter</td>\n",
       "      <td>Sochi</td>\n",
       "      <td>Ice Hockey</td>\n",
       "      <td>Ice Hockey Men's Ice Hockey</td>\n",
       "      <td>Bronze</td>\n",
       "      <td>5.482013e+06</td>\n",
       "      <td>42311.036231</td>\n",
       "      <td>1</td>\n",
       "      <td>Finland</td>\n",
       "    </tr>\n",
       "    <tr>\n",
       "      <th>...</th>\n",
       "      <td>...</td>\n",
       "      <td>...</td>\n",
       "      <td>...</td>\n",
       "      <td>...</td>\n",
       "      <td>...</td>\n",
       "      <td>...</td>\n",
       "      <td>...</td>\n",
       "      <td>...</td>\n",
       "      <td>...</td>\n",
       "      <td>...</td>\n",
       "      <td>...</td>\n",
       "      <td>...</td>\n",
       "      <td>...</td>\n",
       "      <td>...</td>\n",
       "      <td>...</td>\n",
       "      <td>...</td>\n",
       "      <td>...</td>\n",
       "      <td>...</td>\n",
       "    </tr>\n",
       "    <tr>\n",
       "      <th>282622</th>\n",
       "      <td>ZOLOTIC Anastasija</td>\n",
       "      <td>F</td>\n",
       "      <td>19.0</td>\n",
       "      <td>1.80</td>\n",
       "      <td>NaN</td>\n",
       "      <td>United States of America</td>\n",
       "      <td>USA</td>\n",
       "      <td>Tokyo 2020</td>\n",
       "      <td>2020</td>\n",
       "      <td>Summer</td>\n",
       "      <td>Tokyo</td>\n",
       "      <td>Taekwondo</td>\n",
       "      <td>Women -57kg</td>\n",
       "      <td>Gold</td>\n",
       "      <td>3.214188e+08</td>\n",
       "      <td>56115.718426</td>\n",
       "      <td>3</td>\n",
       "      <td>United States</td>\n",
       "    </tr>\n",
       "    <tr>\n",
       "      <th>282623</th>\n",
       "      <td>ZOU Jingyuan</td>\n",
       "      <td>M</td>\n",
       "      <td>23.0</td>\n",
       "      <td>1.58</td>\n",
       "      <td>NaN</td>\n",
       "      <td>People's Republic of China</td>\n",
       "      <td>CHN</td>\n",
       "      <td>Tokyo 2020</td>\n",
       "      <td>2020</td>\n",
       "      <td>Summer</td>\n",
       "      <td>Tokyo</td>\n",
       "      <td>Artistic Gymnastics</td>\n",
       "      <td>Men's Team</td>\n",
       "      <td>Bronze</td>\n",
       "      <td>1.371220e+09</td>\n",
       "      <td>8027.683810</td>\n",
       "      <td>1</td>\n",
       "      <td>China</td>\n",
       "    </tr>\n",
       "    <tr>\n",
       "      <th>282624</th>\n",
       "      <td>ZOU Jingyuan</td>\n",
       "      <td>M</td>\n",
       "      <td>23.0</td>\n",
       "      <td>1.58</td>\n",
       "      <td>NaN</td>\n",
       "      <td>People's Republic of China</td>\n",
       "      <td>CHN</td>\n",
       "      <td>Tokyo 2020</td>\n",
       "      <td>2020</td>\n",
       "      <td>Summer</td>\n",
       "      <td>Tokyo</td>\n",
       "      <td>Artistic Gymnastics</td>\n",
       "      <td>Men's Parallel Bars</td>\n",
       "      <td>Gold</td>\n",
       "      <td>1.371220e+09</td>\n",
       "      <td>8027.683810</td>\n",
       "      <td>3</td>\n",
       "      <td>China</td>\n",
       "    </tr>\n",
       "    <tr>\n",
       "      <th>282625</th>\n",
       "      <td>ZUBIMENDI Martin</td>\n",
       "      <td>M</td>\n",
       "      <td>22.0</td>\n",
       "      <td>1.80</td>\n",
       "      <td>NaN</td>\n",
       "      <td>Spain</td>\n",
       "      <td>ESP</td>\n",
       "      <td>Tokyo 2020</td>\n",
       "      <td>2020</td>\n",
       "      <td>Summer</td>\n",
       "      <td>Tokyo</td>\n",
       "      <td>Football</td>\n",
       "      <td>Men</td>\n",
       "      <td>Silver</td>\n",
       "      <td>4.641827e+07</td>\n",
       "      <td>25831.582305</td>\n",
       "      <td>2</td>\n",
       "      <td>Spain</td>\n",
       "    </tr>\n",
       "    <tr>\n",
       "      <th>282626</th>\n",
       "      <td>ZVEREV Alexander</td>\n",
       "      <td>M</td>\n",
       "      <td>24.0</td>\n",
       "      <td>1.98</td>\n",
       "      <td>NaN</td>\n",
       "      <td>Germany</td>\n",
       "      <td>GER</td>\n",
       "      <td>Tokyo 2020</td>\n",
       "      <td>2020</td>\n",
       "      <td>Summer</td>\n",
       "      <td>Tokyo</td>\n",
       "      <td>Tennis</td>\n",
       "      <td>Men's Singles</td>\n",
       "      <td>Gold</td>\n",
       "      <td>8.141314e+07</td>\n",
       "      <td>41313.313995</td>\n",
       "      <td>3</td>\n",
       "      <td>Germany</td>\n",
       "    </tr>\n",
       "  </tbody>\n",
       "</table>\n",
       "<p>96730 rows × 18 columns</p>\n",
       "</div>"
      ],
      "text/plain": [
       "                            Name Sex   Age  Height  Weight  \\\n",
       "1                       A Lamusi   M  23.0  170.00    60.0   \n",
       "28              Antti Sami Aalto   M  26.0  186.00    96.0   \n",
       "31             Jyri Tapani Aalto   M  31.0  172.00    70.0   \n",
       "33            Minna Maarit Aalto   F  34.0  159.00    55.5   \n",
       "40      Juhamatti Tapio Aaltonen   M  28.0  184.00    85.0   \n",
       "...                          ...  ..   ...     ...     ...   \n",
       "282622        ZOLOTIC Anastasija   F  19.0    1.80     NaN   \n",
       "282623              ZOU Jingyuan   M  23.0    1.58     NaN   \n",
       "282624              ZOU Jingyuan   M  23.0    1.58     NaN   \n",
       "282625          ZUBIMENDI Martin   M  22.0    1.80     NaN   \n",
       "282626          ZVEREV Alexander   M  24.0    1.98     NaN   \n",
       "\n",
       "                              Team  NOC        Games  Year  Season  \\\n",
       "1                            China  CHN  2012 Summer  2012  Summer   \n",
       "28                         Finland  FIN  2002 Winter  2002  Winter   \n",
       "31                         Finland  FIN  2000 Summer  2000  Summer   \n",
       "33                         Finland  FIN  2000 Summer  2000  Summer   \n",
       "40                         Finland  FIN  2014 Winter  2014  Winter   \n",
       "...                            ...  ...          ...   ...     ...   \n",
       "282622    United States of America  USA   Tokyo 2020  2020  Summer   \n",
       "282623  People's Republic of China  CHN   Tokyo 2020  2020  Summer   \n",
       "282624  People's Republic of China  CHN   Tokyo 2020  2020  Summer   \n",
       "282625                       Spain  ESP   Tokyo 2020  2020  Summer   \n",
       "282626                     Germany  GER   Tokyo 2020  2020  Summer   \n",
       "\n",
       "                  City                Sport                         Event  \\\n",
       "1               London                 Judo  Judo Men's Extra-Lightweight   \n",
       "28      Salt Lake City           Ice Hockey   Ice Hockey Men's Ice Hockey   \n",
       "31              Sydney            Badminton       Badminton Men's Singles   \n",
       "33              Sydney              Sailing    Sailing Women's Windsurfer   \n",
       "40               Sochi           Ice Hockey   Ice Hockey Men's Ice Hockey   \n",
       "...                ...                  ...                           ...   \n",
       "282622           Tokyo            Taekwondo                   Women -57kg   \n",
       "282623           Tokyo  Artistic Gymnastics                    Men's Team   \n",
       "282624           Tokyo  Artistic Gymnastics           Men's Parallel Bars   \n",
       "282625           Tokyo             Football                           Men   \n",
       "282626           Tokyo               Tennis                 Men's Singles   \n",
       "\n",
       "               Medal    Population  PIB/habitant  Score_medaille  \\\n",
       "1       Pas_medaille  1.371220e+09   8027.683810               0   \n",
       "28      Pas_medaille  5.482013e+06  42311.036231               0   \n",
       "31      Pas_medaille  5.482013e+06  42311.036231               0   \n",
       "33      Pas_medaille  5.482013e+06  42311.036231               0   \n",
       "40            Bronze  5.482013e+06  42311.036231               1   \n",
       "...              ...           ...           ...             ...   \n",
       "282622          Gold  3.214188e+08  56115.718426               3   \n",
       "282623        Bronze  1.371220e+09   8027.683810               1   \n",
       "282624          Gold  1.371220e+09   8027.683810               3   \n",
       "282625        Silver  4.641827e+07  25831.582305               2   \n",
       "282626          Gold  8.141314e+07  41313.313995               3   \n",
       "\n",
       "              Country  \n",
       "1               China  \n",
       "28            Finland  \n",
       "31            Finland  \n",
       "33            Finland  \n",
       "40            Finland  \n",
       "...               ...  \n",
       "282622  United States  \n",
       "282623          China  \n",
       "282624          China  \n",
       "282625          Spain  \n",
       "282626        Germany  \n",
       "\n",
       "[96730 rows x 18 columns]"
      ]
     },
     "execution_count": 39,
     "metadata": {},
     "output_type": "execute_result"
    },
    {
     "name": "stdout",
     "output_type": "stream",
     "text": [
      "In [39] used 0.1 MiB RAM in 0.13s (system mean cpu 24%, single max cpu 100%), peaked 0.0 MiB above final usage, current RAM usage now 317.1 MiB\n"
     ]
    }
   ],
   "source": [
    "df_complete"
   ]
  },
  {
   "cell_type": "markdown",
   "id": "77c5a0d5",
   "metadata": {},
   "source": [
    "## Opérations sur les Ages"
   ]
  },
  {
   "cell_type": "code",
   "execution_count": 40,
   "id": "0a023d64",
   "metadata": {},
   "outputs": [
    {
     "data": {
      "text/html": [
       "<div>\n",
       "<style scoped>\n",
       "    .dataframe tbody tr th:only-of-type {\n",
       "        vertical-align: middle;\n",
       "    }\n",
       "\n",
       "    .dataframe tbody tr th {\n",
       "        vertical-align: top;\n",
       "    }\n",
       "\n",
       "    .dataframe thead th {\n",
       "        text-align: right;\n",
       "    }\n",
       "</style>\n",
       "<table border=\"1\" class=\"dataframe\">\n",
       "  <thead>\n",
       "    <tr style=\"text-align: right;\">\n",
       "      <th></th>\n",
       "      <th>Sport</th>\n",
       "      <th>Age</th>\n",
       "    </tr>\n",
       "  </thead>\n",
       "  <tbody>\n",
       "    <tr>\n",
       "      <th>0</th>\n",
       "      <td>3x3 Basketball</td>\n",
       "      <td>30</td>\n",
       "    </tr>\n",
       "    <tr>\n",
       "      <th>1</th>\n",
       "      <td>Alpine Skiing</td>\n",
       "      <td>25</td>\n",
       "    </tr>\n",
       "    <tr>\n",
       "      <th>2</th>\n",
       "      <td>Archery</td>\n",
       "      <td>27</td>\n",
       "    </tr>\n",
       "    <tr>\n",
       "      <th>3</th>\n",
       "      <td>Artistic Gymnastics</td>\n",
       "      <td>25</td>\n",
       "    </tr>\n",
       "    <tr>\n",
       "      <th>4</th>\n",
       "      <td>Artistic Swimming</td>\n",
       "      <td>24</td>\n",
       "    </tr>\n",
       "    <tr>\n",
       "      <th>...</th>\n",
       "      <td>...</td>\n",
       "      <td>...</td>\n",
       "    </tr>\n",
       "    <tr>\n",
       "      <th>64</th>\n",
       "      <td>Triathlon</td>\n",
       "      <td>29</td>\n",
       "    </tr>\n",
       "    <tr>\n",
       "      <th>65</th>\n",
       "      <td>Volleyball</td>\n",
       "      <td>27</td>\n",
       "    </tr>\n",
       "    <tr>\n",
       "      <th>66</th>\n",
       "      <td>Water Polo</td>\n",
       "      <td>27</td>\n",
       "    </tr>\n",
       "    <tr>\n",
       "      <th>67</th>\n",
       "      <td>Weightlifting</td>\n",
       "      <td>25</td>\n",
       "    </tr>\n",
       "    <tr>\n",
       "      <th>68</th>\n",
       "      <td>Wrestling</td>\n",
       "      <td>27</td>\n",
       "    </tr>\n",
       "  </tbody>\n",
       "</table>\n",
       "<p>69 rows × 2 columns</p>\n",
       "</div>"
      ],
      "text/plain": [
       "                  Sport  Age\n",
       "0        3x3 Basketball   30\n",
       "1         Alpine Skiing   25\n",
       "2               Archery   27\n",
       "3   Artistic Gymnastics   25\n",
       "4     Artistic Swimming   24\n",
       "..                  ...  ...\n",
       "64            Triathlon   29\n",
       "65           Volleyball   27\n",
       "66           Water Polo   27\n",
       "67        Weightlifting   25\n",
       "68            Wrestling   27\n",
       "\n",
       "[69 rows x 2 columns]"
      ]
     },
     "execution_count": 40,
     "metadata": {},
     "output_type": "execute_result"
    },
    {
     "name": "stdout",
     "output_type": "stream",
     "text": [
      "In [40] used 2.3 MiB RAM in 0.13s (system mean cpu 22%, single max cpu 100%), peaked 0.0 MiB above final usage, current RAM usage now 319.5 MiB\n"
     ]
    }
   ],
   "source": [
    "table_sport_age=df_complete.groupby('Sport')['Age'].mean().apply(m.ceil).reset_index()\n",
    "\n",
    "table_sport_age"
   ]
  },
  {
   "cell_type": "code",
   "execution_count": 41,
   "id": "05fbf5f4",
   "metadata": {},
   "outputs": [
    {
     "name": "stdout",
     "output_type": "stream",
     "text": [
      "In [41] used 0.0 MiB RAM in 0.11s (system mean cpu 27%, single max cpu 100%), peaked 0.0 MiB above final usage, current RAM usage now 319.5 MiB\n"
     ]
    }
   ],
   "source": [
    "liste_sport=table_sport_age['Sport'].tolist()\n",
    "liste_age=table_sport_age['Age'].tolist()\n",
    "\n",
    "dictio_age_sport=dict(zip(liste_sport,liste_age))"
   ]
  },
  {
   "cell_type": "code",
   "execution_count": 42,
   "id": "0ced09cb",
   "metadata": {},
   "outputs": [
    {
     "data": {
      "text/plain": [
       "Name                  0\n",
       "Sex                 156\n",
       "Age                 156\n",
       "Height             7658\n",
       "Weight            12694\n",
       "Team                  0\n",
       "NOC                   0\n",
       "Games                 0\n",
       "Year                  0\n",
       "Season                0\n",
       "City                  0\n",
       "Sport               156\n",
       "Event              9249\n",
       "Medal                 0\n",
       "Population         2855\n",
       "PIB/habitant       5741\n",
       "Score_medaille        0\n",
       "Country               0\n",
       "dtype: int64"
      ]
     },
     "execution_count": 42,
     "metadata": {},
     "output_type": "execute_result"
    },
    {
     "name": "stdout",
     "output_type": "stream",
     "text": [
      "In [42] used -1.5 MiB RAM in 0.16s (system mean cpu 26%, single max cpu 100%), peaked 1.5 MiB above final usage, current RAM usage now 318.0 MiB\n"
     ]
    }
   ],
   "source": [
    "df_complete['Age']=df_complete['Age'].fillna(df_complete['Sport'].map(dictio_age_sport))\n",
    "\n",
    "df_complete.isna().sum()"
   ]
  },
  {
   "cell_type": "code",
   "execution_count": 43,
   "id": "0ee2fb21",
   "metadata": {},
   "outputs": [
    {
     "data": {
      "text/html": [
       "<div>\n",
       "<style scoped>\n",
       "    .dataframe tbody tr th:only-of-type {\n",
       "        vertical-align: middle;\n",
       "    }\n",
       "\n",
       "    .dataframe tbody tr th {\n",
       "        vertical-align: top;\n",
       "    }\n",
       "\n",
       "    .dataframe thead th {\n",
       "        text-align: right;\n",
       "    }\n",
       "</style>\n",
       "<table border=\"1\" class=\"dataframe\">\n",
       "  <thead>\n",
       "    <tr style=\"text-align: right;\">\n",
       "      <th></th>\n",
       "      <th>Medal</th>\n",
       "      <th>Name</th>\n",
       "    </tr>\n",
       "  </thead>\n",
       "  <tbody>\n",
       "    <tr>\n",
       "      <th>0</th>\n",
       "      <td>Pas_medaille</td>\n",
       "      <td>156</td>\n",
       "    </tr>\n",
       "  </tbody>\n",
       "</table>\n",
       "</div>"
      ],
      "text/plain": [
       "          Medal  Name\n",
       "0  Pas_medaille   156"
      ]
     },
     "execution_count": 43,
     "metadata": {},
     "output_type": "execute_result"
    },
    {
     "name": "stdout",
     "output_type": "stream",
     "text": [
      "In [43] used -0.0 MiB RAM in 0.11s (system mean cpu 12%, single max cpu 60%), peaked 0.0 MiB above final usage, current RAM usage now 318.0 MiB\n"
     ]
    }
   ],
   "source": [
    "df_complete[df_complete['Age'].isna()].groupby('Medal')['Name'].count().reset_index()"
   ]
  },
  {
   "cell_type": "code",
   "execution_count": 44,
   "id": "cb8586ea",
   "metadata": {},
   "outputs": [
    {
     "name": "stdout",
     "output_type": "stream",
     "text": [
      "In [44] used 0.0 MiB RAM in 0.10s (system mean cpu 12%, single max cpu 100%), peaked 0.0 MiB above final usage, current RAM usage now 318.0 MiB\n"
     ]
    }
   ],
   "source": [
    "#df_tokyo=pd.read_csv('data/athlete_events_tokyo_cleaned.csv')\n",
    "\n",
    "#df_tokyo.isna().sum()"
   ]
  },
  {
   "cell_type": "markdown",
   "id": "15512790",
   "metadata": {},
   "source": [
    "Enfaite il y a 156 personnes qui manquent prcq c'est les qu'on a pas les sport "
   ]
  },
  {
   "cell_type": "code",
   "execution_count": 45,
   "id": "6e3b0fe3",
   "metadata": {},
   "outputs": [
    {
     "name": "stdout",
     "output_type": "stream",
     "text": [
      "In [45] used 9.9 MiB RAM in 0.13s (system mean cpu 12%, single max cpu 100%), peaked 0.0 MiB above final usage, current RAM usage now 327.9 MiB\n"
     ]
    }
   ],
   "source": [
    "df_complete=df_complete.dropna(subset='Age')"
   ]
  },
  {
   "cell_type": "code",
   "execution_count": 46,
   "id": "e1387447",
   "metadata": {},
   "outputs": [
    {
     "data": {
      "text/plain": [
       "Name                  0\n",
       "Sex                   0\n",
       "Age                   0\n",
       "Height             7502\n",
       "Weight            12538\n",
       "Team                  0\n",
       "NOC                   0\n",
       "Games                 0\n",
       "Year                  0\n",
       "Season                0\n",
       "City                  0\n",
       "Sport                 0\n",
       "Event              9093\n",
       "Medal                 0\n",
       "Population         2846\n",
       "PIB/habitant       5731\n",
       "Score_medaille        0\n",
       "Country               0\n",
       "dtype: int64"
      ]
     },
     "execution_count": 46,
     "metadata": {},
     "output_type": "execute_result"
    },
    {
     "name": "stdout",
     "output_type": "stream",
     "text": [
      "In [46] used 1.0 MiB RAM in 0.15s (system mean cpu 20%, single max cpu 100%), peaked 0.0 MiB above final usage, current RAM usage now 328.9 MiB\n"
     ]
    }
   ],
   "source": [
    "df_complete.isna().sum()"
   ]
  },
  {
   "cell_type": "markdown",
   "id": "c349247c",
   "metadata": {},
   "source": [
    "## Opérations sur les poids et les tailles "
   ]
  },
  {
   "cell_type": "code",
   "execution_count": 47,
   "id": "fd8c29f2",
   "metadata": {},
   "outputs": [
    {
     "data": {
      "text/plain": [
       "Name                  0\n",
       "Sex                   0\n",
       "Age                   0\n",
       "Height             7502\n",
       "Weight            12538\n",
       "Team                  0\n",
       "NOC                   0\n",
       "Games                 0\n",
       "Year                  0\n",
       "Season                0\n",
       "City                  0\n",
       "Sport                 0\n",
       "Event              9093\n",
       "Medal                 0\n",
       "Population         2846\n",
       "PIB/habitant       5731\n",
       "Score_medaille        0\n",
       "Country               0\n",
       "dtype: int64"
      ]
     },
     "execution_count": 47,
     "metadata": {},
     "output_type": "execute_result"
    },
    {
     "name": "stdout",
     "output_type": "stream",
     "text": [
      "In [47] used -0.4 MiB RAM in 0.15s (system mean cpu 27%, single max cpu 100%), peaked 0.4 MiB above final usage, current RAM usage now 328.5 MiB\n"
     ]
    }
   ],
   "source": [
    "df_complete.isna().sum()"
   ]
  },
  {
   "cell_type": "code",
   "execution_count": 48,
   "id": "045f1523",
   "metadata": {},
   "outputs": [
    {
     "name": "stdout",
     "output_type": "stream",
     "text": [
      "                  Sport  Height\n",
      "0        3x3 Basketball       2\n",
      "1         Alpine Skiing     176\n",
      "2               Archery     174\n",
      "3   Artistic Gymnastics       2\n",
      "4     Artistic Swimming       2\n",
      "..                  ...     ...\n",
      "62            Triathlon     169\n",
      "63           Volleyball     161\n",
      "64           Water Polo     169\n",
      "65        Weightlifting     159\n",
      "66            Wrestling     171\n",
      "\n",
      "[67 rows x 2 columns]\n",
      "In [48] used 5.8 MiB RAM in 0.13s (system mean cpu 25%, single max cpu 100%), peaked 0.0 MiB above final usage, current RAM usage now 334.3 MiB\n"
     ]
    }
   ],
   "source": [
    "table_taille=df_complete[df_complete['Height'].isna()==False].groupby(['Sport'])['Height'].mean().apply(m.ceil).reset_index()\n",
    "\n",
    "liste_sport=table_taille['Sport'].tolist()\n",
    "#liste_sex=table_taille['Sex'].tolist()\n",
    "liste_taille=table_taille['Height'].tolist()\n",
    "print(table_taille)\n",
    "liste_sport_sex=[]\n",
    "for i in range(len(liste_sport)):\n",
    "    liste_sport_sex.append((liste_sport[i],liste_taille[i]))\n",
    "#print(liste_sport_sex)\n",
    "\n",
    "dictio_sport_sex=dict(zip(liste_sport,liste_taille))\n",
    "\n"
   ]
  },
  {
   "cell_type": "code",
   "execution_count": 49,
   "id": "8bc90a6f",
   "metadata": {},
   "outputs": [
    {
     "name": "stderr",
     "output_type": "stream",
     "text": [
      "<ipython-input-49-30982cdfd39c>:1: SettingWithCopyWarning: \n",
      "A value is trying to be set on a copy of a slice from a DataFrame.\n",
      "Try using .loc[row_indexer,col_indexer] = value instead\n",
      "\n",
      "See the caveats in the documentation: https://pandas.pydata.org/pandas-docs/stable/user_guide/indexing.html#returning-a-view-versus-a-copy\n",
      "  df_complete['Height'] = df_complete['Height'].fillna(df_complete['Sport'].map(dictio_sport_sex))\n"
     ]
    },
    {
     "data": {
      "text/plain": [
       "Name                  0\n",
       "Sex                   0\n",
       "Age                   0\n",
       "Height              159\n",
       "Weight            12538\n",
       "Team                  0\n",
       "NOC                   0\n",
       "Games                 0\n",
       "Year                  0\n",
       "Season                0\n",
       "City                  0\n",
       "Sport                 0\n",
       "Event              9093\n",
       "Medal                 0\n",
       "Population         2846\n",
       "PIB/habitant       5731\n",
       "Score_medaille        0\n",
       "Country               0\n",
       "dtype: int64"
      ]
     },
     "execution_count": 49,
     "metadata": {},
     "output_type": "execute_result"
    },
    {
     "name": "stdout",
     "output_type": "stream",
     "text": [
      "In [49] used 0.2 MiB RAM in 0.17s (system mean cpu 17%, single max cpu 75%), peaked 0.0 MiB above final usage, current RAM usage now 334.6 MiB\n"
     ]
    }
   ],
   "source": [
    "df_complete['Height'] = df_complete['Height'].fillna(df_complete['Sport'].map(dictio_sport_sex))\n",
    "\n",
    "\n",
    "df_complete.isna().sum()"
   ]
  },
  {
   "cell_type": "code",
   "execution_count": 50,
   "id": "4bc0ad8a",
   "metadata": {},
   "outputs": [
    {
     "name": "stdout",
     "output_type": "stream",
     "text": [
      "In [50] used -0.0 MiB RAM in 0.11s (system mean cpu 15%, single max cpu 67%), peaked 0.0 MiB above final usage, current RAM usage now 334.6 MiB\n"
     ]
    }
   ],
   "source": [
    "#df_complete[df_complete['Height'].isna()]"
   ]
  },
  {
   "cell_type": "code",
   "execution_count": 51,
   "id": "a99f8034",
   "metadata": {},
   "outputs": [
    {
     "name": "stdout",
     "output_type": "stream",
     "text": [
      "In [51] used 3.8 MiB RAM in 0.15s (system mean cpu 29%, single max cpu 100%), peaked 0.0 MiB above final usage, current RAM usage now 338.4 MiB\n"
     ]
    }
   ],
   "source": [
    "table_poids=df_complete[df_complete['Weight'].isna()==False].groupby(['Sport'])['Weight'].mean().apply(m.ceil).reset_index()\n",
    "\n",
    "liste_sport_2=table_poids['Sport'].tolist()\n",
    "#liste_sex=table_taille['Sex'].tolist()\n",
    "liste_poids=table_poids['Weight'].tolist()\n",
    "\n",
    "\n",
    "\n",
    "dictio_sport_poids=dict(zip(liste_sport_2,liste_poids))"
   ]
  },
  {
   "cell_type": "code",
   "execution_count": 52,
   "id": "c2a973fe",
   "metadata": {},
   "outputs": [
    {
     "name": "stdout",
     "output_type": "stream",
     "text": [
      "<class 'pandas.core.frame.DataFrame'>\n",
      "Index: 96574 entries, 1 to 282626\n",
      "Data columns (total 18 columns):\n",
      " #   Column          Non-Null Count  Dtype  \n",
      "---  ------          --------------  -----  \n",
      " 0   Name            96574 non-null  object \n",
      " 1   Sex             96574 non-null  object \n",
      " 2   Age             96574 non-null  float64\n",
      " 3   Height          96415 non-null  float64\n",
      " 4   Weight          94584 non-null  float64\n",
      " 5   Team            96574 non-null  object \n",
      " 6   NOC             96574 non-null  object \n",
      " 7   Games           96574 non-null  object \n",
      " 8   Year            96574 non-null  int64  \n",
      " 9   Season          96574 non-null  object \n",
      " 10  City            96574 non-null  object \n",
      " 11  Sport           96574 non-null  object \n",
      " 12  Event           87481 non-null  object \n",
      " 13  Medal           96574 non-null  object \n",
      " 14  Population      93728 non-null  float64\n",
      " 15  PIB/habitant    90843 non-null  float64\n",
      " 16  Score_medaille  96574 non-null  int64  \n",
      " 17  Country         96574 non-null  object \n",
      "dtypes: float64(5), int64(2), object(11)\n",
      "memory usage: 14.0+ MB\n",
      "In [52] used 1.0 MiB RAM in 0.17s (system mean cpu 27%, single max cpu 67%), peaked 0.0 MiB above final usage, current RAM usage now 339.5 MiB\n"
     ]
    },
    {
     "name": "stderr",
     "output_type": "stream",
     "text": [
      "<ipython-input-52-f91662992dfc>:1: SettingWithCopyWarning: \n",
      "A value is trying to be set on a copy of a slice from a DataFrame.\n",
      "Try using .loc[row_indexer,col_indexer] = value instead\n",
      "\n",
      "See the caveats in the documentation: https://pandas.pydata.org/pandas-docs/stable/user_guide/indexing.html#returning-a-view-versus-a-copy\n",
      "  df_complete['Weight'] = df_complete['Weight'].fillna(df_complete['Sport'].map(dictio_sport_poids))\n"
     ]
    }
   ],
   "source": [
    "df_complete['Weight'] = df_complete['Weight'].fillna(df_complete['Sport'].map(dictio_sport_poids))\n",
    "\n",
    "\n",
    "df_complete.info()"
   ]
  },
  {
   "cell_type": "code",
   "execution_count": 53,
   "id": "99d3118a",
   "metadata": {},
   "outputs": [
    {
     "data": {
      "text/html": [
       "<div>\n",
       "<style scoped>\n",
       "    .dataframe tbody tr th:only-of-type {\n",
       "        vertical-align: middle;\n",
       "    }\n",
       "\n",
       "    .dataframe tbody tr th {\n",
       "        vertical-align: top;\n",
       "    }\n",
       "\n",
       "    .dataframe thead th {\n",
       "        text-align: right;\n",
       "    }\n",
       "</style>\n",
       "<table border=\"1\" class=\"dataframe\">\n",
       "  <thead>\n",
       "    <tr style=\"text-align: right;\">\n",
       "      <th></th>\n",
       "      <th>Name</th>\n",
       "      <th>Sex</th>\n",
       "      <th>Age</th>\n",
       "      <th>Height</th>\n",
       "      <th>Weight</th>\n",
       "      <th>Team</th>\n",
       "      <th>NOC</th>\n",
       "      <th>Games</th>\n",
       "      <th>Year</th>\n",
       "      <th>Season</th>\n",
       "      <th>City</th>\n",
       "      <th>Sport</th>\n",
       "      <th>Event</th>\n",
       "      <th>Medal</th>\n",
       "      <th>Population</th>\n",
       "      <th>PIB/habitant</th>\n",
       "      <th>Score_medaille</th>\n",
       "      <th>Country</th>\n",
       "    </tr>\n",
       "  </thead>\n",
       "  <tbody>\n",
       "    <tr>\n",
       "      <th>1</th>\n",
       "      <td>A Lamusi</td>\n",
       "      <td>M</td>\n",
       "      <td>23.0</td>\n",
       "      <td>170.00</td>\n",
       "      <td>60.0</td>\n",
       "      <td>China</td>\n",
       "      <td>CHN</td>\n",
       "      <td>2012 Summer</td>\n",
       "      <td>2012</td>\n",
       "      <td>Summer</td>\n",
       "      <td>London</td>\n",
       "      <td>Judo</td>\n",
       "      <td>Judo Men's Extra-Lightweight</td>\n",
       "      <td>Pas_medaille</td>\n",
       "      <td>1.371220e+09</td>\n",
       "      <td>8027.683810</td>\n",
       "      <td>0</td>\n",
       "      <td>China</td>\n",
       "    </tr>\n",
       "    <tr>\n",
       "      <th>31</th>\n",
       "      <td>Jyri Tapani Aalto</td>\n",
       "      <td>M</td>\n",
       "      <td>31.0</td>\n",
       "      <td>172.00</td>\n",
       "      <td>70.0</td>\n",
       "      <td>Finland</td>\n",
       "      <td>FIN</td>\n",
       "      <td>2000 Summer</td>\n",
       "      <td>2000</td>\n",
       "      <td>Summer</td>\n",
       "      <td>Sydney</td>\n",
       "      <td>Badminton</td>\n",
       "      <td>Badminton Men's Singles</td>\n",
       "      <td>Pas_medaille</td>\n",
       "      <td>5.482013e+06</td>\n",
       "      <td>42311.036231</td>\n",
       "      <td>0</td>\n",
       "      <td>Finland</td>\n",
       "    </tr>\n",
       "    <tr>\n",
       "      <th>33</th>\n",
       "      <td>Minna Maarit Aalto</td>\n",
       "      <td>F</td>\n",
       "      <td>34.0</td>\n",
       "      <td>159.00</td>\n",
       "      <td>55.5</td>\n",
       "      <td>Finland</td>\n",
       "      <td>FIN</td>\n",
       "      <td>2000 Summer</td>\n",
       "      <td>2000</td>\n",
       "      <td>Summer</td>\n",
       "      <td>Sydney</td>\n",
       "      <td>Sailing</td>\n",
       "      <td>Sailing Women's Windsurfer</td>\n",
       "      <td>Pas_medaille</td>\n",
       "      <td>5.482013e+06</td>\n",
       "      <td>42311.036231</td>\n",
       "      <td>0</td>\n",
       "      <td>Finland</td>\n",
       "    </tr>\n",
       "    <tr>\n",
       "      <th>57</th>\n",
       "      <td>Timo Antero Aaltonen</td>\n",
       "      <td>M</td>\n",
       "      <td>31.0</td>\n",
       "      <td>189.00</td>\n",
       "      <td>130.0</td>\n",
       "      <td>Finland</td>\n",
       "      <td>FIN</td>\n",
       "      <td>2000 Summer</td>\n",
       "      <td>2000</td>\n",
       "      <td>Summer</td>\n",
       "      <td>Sydney</td>\n",
       "      <td>Athletics</td>\n",
       "      <td>Athletics Men's Shot Put</td>\n",
       "      <td>Pas_medaille</td>\n",
       "      <td>5.482013e+06</td>\n",
       "      <td>42311.036231</td>\n",
       "      <td>0</td>\n",
       "      <td>Finland</td>\n",
       "    </tr>\n",
       "    <tr>\n",
       "      <th>79</th>\n",
       "      <td>Ragnhild Margrethe Aamodt</td>\n",
       "      <td>F</td>\n",
       "      <td>27.0</td>\n",
       "      <td>163.00</td>\n",
       "      <td>82.0</td>\n",
       "      <td>Norway</td>\n",
       "      <td>NOR</td>\n",
       "      <td>2008 Summer</td>\n",
       "      <td>2008</td>\n",
       "      <td>Summer</td>\n",
       "      <td>Beijing</td>\n",
       "      <td>Handball</td>\n",
       "      <td>Handball Women's Handball</td>\n",
       "      <td>Gold</td>\n",
       "      <td>5.195921e+06</td>\n",
       "      <td>74400.369777</td>\n",
       "      <td>3</td>\n",
       "      <td>Norway</td>\n",
       "    </tr>\n",
       "    <tr>\n",
       "      <th>...</th>\n",
       "      <td>...</td>\n",
       "      <td>...</td>\n",
       "      <td>...</td>\n",
       "      <td>...</td>\n",
       "      <td>...</td>\n",
       "      <td>...</td>\n",
       "      <td>...</td>\n",
       "      <td>...</td>\n",
       "      <td>...</td>\n",
       "      <td>...</td>\n",
       "      <td>...</td>\n",
       "      <td>...</td>\n",
       "      <td>...</td>\n",
       "      <td>...</td>\n",
       "      <td>...</td>\n",
       "      <td>...</td>\n",
       "      <td>...</td>\n",
       "      <td>...</td>\n",
       "    </tr>\n",
       "    <tr>\n",
       "      <th>282622</th>\n",
       "      <td>ZOLOTIC Anastasija</td>\n",
       "      <td>F</td>\n",
       "      <td>19.0</td>\n",
       "      <td>1.80</td>\n",
       "      <td>69.0</td>\n",
       "      <td>United States of America</td>\n",
       "      <td>USA</td>\n",
       "      <td>Tokyo 2020</td>\n",
       "      <td>2020</td>\n",
       "      <td>Summer</td>\n",
       "      <td>Tokyo</td>\n",
       "      <td>Taekwondo</td>\n",
       "      <td>Women -57kg</td>\n",
       "      <td>Gold</td>\n",
       "      <td>3.214188e+08</td>\n",
       "      <td>56115.718426</td>\n",
       "      <td>3</td>\n",
       "      <td>United States</td>\n",
       "    </tr>\n",
       "    <tr>\n",
       "      <th>282623</th>\n",
       "      <td>ZOU Jingyuan</td>\n",
       "      <td>M</td>\n",
       "      <td>23.0</td>\n",
       "      <td>1.58</td>\n",
       "      <td>NaN</td>\n",
       "      <td>People's Republic of China</td>\n",
       "      <td>CHN</td>\n",
       "      <td>Tokyo 2020</td>\n",
       "      <td>2020</td>\n",
       "      <td>Summer</td>\n",
       "      <td>Tokyo</td>\n",
       "      <td>Artistic Gymnastics</td>\n",
       "      <td>Men's Team</td>\n",
       "      <td>Bronze</td>\n",
       "      <td>1.371220e+09</td>\n",
       "      <td>8027.683810</td>\n",
       "      <td>1</td>\n",
       "      <td>China</td>\n",
       "    </tr>\n",
       "    <tr>\n",
       "      <th>282624</th>\n",
       "      <td>ZOU Jingyuan</td>\n",
       "      <td>M</td>\n",
       "      <td>23.0</td>\n",
       "      <td>1.58</td>\n",
       "      <td>NaN</td>\n",
       "      <td>People's Republic of China</td>\n",
       "      <td>CHN</td>\n",
       "      <td>Tokyo 2020</td>\n",
       "      <td>2020</td>\n",
       "      <td>Summer</td>\n",
       "      <td>Tokyo</td>\n",
       "      <td>Artistic Gymnastics</td>\n",
       "      <td>Men's Parallel Bars</td>\n",
       "      <td>Gold</td>\n",
       "      <td>1.371220e+09</td>\n",
       "      <td>8027.683810</td>\n",
       "      <td>3</td>\n",
       "      <td>China</td>\n",
       "    </tr>\n",
       "    <tr>\n",
       "      <th>282625</th>\n",
       "      <td>ZUBIMENDI Martin</td>\n",
       "      <td>M</td>\n",
       "      <td>22.0</td>\n",
       "      <td>1.80</td>\n",
       "      <td>70.0</td>\n",
       "      <td>Spain</td>\n",
       "      <td>ESP</td>\n",
       "      <td>Tokyo 2020</td>\n",
       "      <td>2020</td>\n",
       "      <td>Summer</td>\n",
       "      <td>Tokyo</td>\n",
       "      <td>Football</td>\n",
       "      <td>Men</td>\n",
       "      <td>Silver</td>\n",
       "      <td>4.641827e+07</td>\n",
       "      <td>25831.582305</td>\n",
       "      <td>2</td>\n",
       "      <td>Spain</td>\n",
       "    </tr>\n",
       "    <tr>\n",
       "      <th>282626</th>\n",
       "      <td>ZVEREV Alexander</td>\n",
       "      <td>M</td>\n",
       "      <td>24.0</td>\n",
       "      <td>1.98</td>\n",
       "      <td>72.0</td>\n",
       "      <td>Germany</td>\n",
       "      <td>GER</td>\n",
       "      <td>Tokyo 2020</td>\n",
       "      <td>2020</td>\n",
       "      <td>Summer</td>\n",
       "      <td>Tokyo</td>\n",
       "      <td>Tennis</td>\n",
       "      <td>Men's Singles</td>\n",
       "      <td>Gold</td>\n",
       "      <td>8.141314e+07</td>\n",
       "      <td>41313.313995</td>\n",
       "      <td>3</td>\n",
       "      <td>Germany</td>\n",
       "    </tr>\n",
       "  </tbody>\n",
       "</table>\n",
       "<p>78790 rows × 18 columns</p>\n",
       "</div>"
      ],
      "text/plain": [
       "                             Name Sex   Age  Height  Weight  \\\n",
       "1                        A Lamusi   M  23.0  170.00    60.0   \n",
       "31              Jyri Tapani Aalto   M  31.0  172.00    70.0   \n",
       "33             Minna Maarit Aalto   F  34.0  159.00    55.5   \n",
       "57           Timo Antero Aaltonen   M  31.0  189.00   130.0   \n",
       "79      Ragnhild Margrethe Aamodt   F  27.0  163.00    82.0   \n",
       "...                           ...  ..   ...     ...     ...   \n",
       "282622         ZOLOTIC Anastasija   F  19.0    1.80    69.0   \n",
       "282623               ZOU Jingyuan   M  23.0    1.58     NaN   \n",
       "282624               ZOU Jingyuan   M  23.0    1.58     NaN   \n",
       "282625           ZUBIMENDI Martin   M  22.0    1.80    70.0   \n",
       "282626           ZVEREV Alexander   M  24.0    1.98    72.0   \n",
       "\n",
       "                              Team  NOC        Games  Year  Season     City  \\\n",
       "1                            China  CHN  2012 Summer  2012  Summer   London   \n",
       "31                         Finland  FIN  2000 Summer  2000  Summer   Sydney   \n",
       "33                         Finland  FIN  2000 Summer  2000  Summer   Sydney   \n",
       "57                         Finland  FIN  2000 Summer  2000  Summer   Sydney   \n",
       "79                          Norway  NOR  2008 Summer  2008  Summer  Beijing   \n",
       "...                            ...  ...          ...   ...     ...      ...   \n",
       "282622    United States of America  USA   Tokyo 2020  2020  Summer    Tokyo   \n",
       "282623  People's Republic of China  CHN   Tokyo 2020  2020  Summer    Tokyo   \n",
       "282624  People's Republic of China  CHN   Tokyo 2020  2020  Summer    Tokyo   \n",
       "282625                       Spain  ESP   Tokyo 2020  2020  Summer    Tokyo   \n",
       "282626                     Germany  GER   Tokyo 2020  2020  Summer    Tokyo   \n",
       "\n",
       "                      Sport                         Event         Medal  \\\n",
       "1                      Judo  Judo Men's Extra-Lightweight  Pas_medaille   \n",
       "31                Badminton       Badminton Men's Singles  Pas_medaille   \n",
       "33                  Sailing    Sailing Women's Windsurfer  Pas_medaille   \n",
       "57                Athletics      Athletics Men's Shot Put  Pas_medaille   \n",
       "79                 Handball     Handball Women's Handball          Gold   \n",
       "...                     ...                           ...           ...   \n",
       "282622            Taekwondo                   Women -57kg          Gold   \n",
       "282623  Artistic Gymnastics                    Men's Team        Bronze   \n",
       "282624  Artistic Gymnastics           Men's Parallel Bars          Gold   \n",
       "282625             Football                           Men        Silver   \n",
       "282626               Tennis                 Men's Singles          Gold   \n",
       "\n",
       "          Population  PIB/habitant  Score_medaille        Country  \n",
       "1       1.371220e+09   8027.683810               0          China  \n",
       "31      5.482013e+06  42311.036231               0        Finland  \n",
       "33      5.482013e+06  42311.036231               0        Finland  \n",
       "57      5.482013e+06  42311.036231               0        Finland  \n",
       "79      5.195921e+06  74400.369777               3         Norway  \n",
       "...              ...           ...             ...            ...  \n",
       "282622  3.214188e+08  56115.718426               3  United States  \n",
       "282623  1.371220e+09   8027.683810               1          China  \n",
       "282624  1.371220e+09   8027.683810               3          China  \n",
       "282625  4.641827e+07  25831.582305               2          Spain  \n",
       "282626  8.141314e+07  41313.313995               3        Germany  \n",
       "\n",
       "[78790 rows x 18 columns]"
      ]
     },
     "execution_count": 53,
     "metadata": {},
     "output_type": "execute_result"
    },
    {
     "name": "stdout",
     "output_type": "stream",
     "text": [
      "In [53] used 1.0 MiB RAM in 0.14s (system mean cpu 22%, single max cpu 100%), peaked 0.0 MiB above final usage, current RAM usage now 340.5 MiB\n"
     ]
    }
   ],
   "source": [
    "df_complete=df_complete[df_complete['Season']=='Summer']\n",
    "\n",
    "df_complete"
   ]
  },
  {
   "cell_type": "markdown",
   "id": "1423f245",
   "metadata": {},
   "source": [
    "## Moyenne par pays pour les sports qu'on ne connait pas \n"
   ]
  },
  {
   "cell_type": "code",
   "execution_count": 54,
   "id": "d0c99e97",
   "metadata": {},
   "outputs": [
    {
     "name": "stdout",
     "output_type": "stream",
     "text": [
      "In [54] used 0.4 MiB RAM in 0.13s (system mean cpu 15%, single max cpu 67%), peaked 0.0 MiB above final usage, current RAM usage now 340.9 MiB\n"
     ]
    }
   ],
   "source": [
    "table_pays_1=df_complete[df_complete['Weight'].isna()==False].groupby(['Country'])['Weight'].mean().apply(m.ceil).reset_index()\n",
    "\n",
    "liste_pays_1=table_pays_1['Country'].tolist()\n",
    "#liste_sex=table_taille['Sex'].tolist()\n",
    "liste_poids_1=table_pays_1['Weight'].tolist()\n",
    "\n",
    "\n",
    "\n",
    "dictio_pays_poids_1=dict(zip(liste_pays_1,liste_poids_1))\n",
    "df_complete['Weight'] = df_complete['Weight'].fillna(df_complete['Country'].map(dictio_pays_poids_1))"
   ]
  },
  {
   "cell_type": "code",
   "execution_count": 55,
   "id": "d4bd49b2",
   "metadata": {},
   "outputs": [
    {
     "name": "stdout",
     "output_type": "stream",
     "text": [
      "In [55] used 6.4 MiB RAM in 0.14s (system mean cpu 9%, single max cpu 75%), peaked 0.0 MiB above final usage, current RAM usage now 347.2 MiB\n"
     ]
    }
   ],
   "source": [
    "table_pays_2=df_complete[df_complete['Height'].isna()==False].groupby(['Country'])['Height'].mean().apply(m.ceil).reset_index()\n",
    "\n",
    "liste_pays_2=table_pays_2['Country'].tolist()\n",
    "#liste_sex=table_taille['Sex'].tolist()\n",
    "liste_poids_2=table_pays_2['Height'].tolist()\n",
    "\n",
    "\n",
    "\n",
    "dictio_pays_poids_2=dict(zip(liste_pays_2,liste_poids_2))\n",
    "df_complete['Height'] = df_complete['Height'].fillna(df_complete['Country'].map(dictio_pays_poids_2))\n",
    "\n",
    "#df_complete.isna().sum()"
   ]
  },
  {
   "cell_type": "code",
   "execution_count": 56,
   "id": "9a735c45",
   "metadata": {},
   "outputs": [
    {
     "name": "stdout",
     "output_type": "stream",
     "text": [
      "In [56] used 0.0 MiB RAM in 0.11s (system mean cpu 17%, single max cpu 100%), peaked 0.0 MiB above final usage, current RAM usage now 347.2 MiB\n"
     ]
    }
   ],
   "source": [
    "#df_complete.to_csv('data/df_merge_FLO.csv', index=False)"
   ]
  },
  {
   "cell_type": "code",
   "execution_count": 57,
   "id": "95e847e5",
   "metadata": {},
   "outputs": [
    {
     "name": "stdout",
     "output_type": "stream",
     "text": [
      "In [57] used 12.9 MiB RAM in 0.31s (system mean cpu 18%, single max cpu 100%), peaked 0.0 MiB above final usage, current RAM usage now 360.2 MiB\n"
     ]
    }
   ],
   "source": [
    "from bs4 import BeautifulSoup\n",
    "import requests"
   ]
  },
  {
   "cell_type": "code",
   "execution_count": 58,
   "id": "4f0622f3",
   "metadata": {},
   "outputs": [
    {
     "name": "stdout",
     "output_type": "stream",
     "text": [
      "In [58] used -6.7 MiB RAM in 1.03s (system mean cpu 16%, single max cpu 100%), peaked 7.8 MiB above final usage, current RAM usage now 353.5 MiB\n"
     ]
    }
   ],
   "source": [
    "url='https://www.topendsports.com/events/summer/hosts/list.htm'\n",
    "response=requests.get(url)"
   ]
  },
  {
   "cell_type": "code",
   "execution_count": 59,
   "id": "fad24d1f",
   "metadata": {},
   "outputs": [
    {
     "name": "stdout",
     "output_type": "stream",
     "text": [
      "In [59] used -0.0 MiB RAM in 0.12s (system mean cpu 14%, single max cpu 100%), peaked 0.0 MiB above final usage, current RAM usage now 353.5 MiB\n"
     ]
    }
   ],
   "source": [
    "soup=BeautifulSoup(response.text,'lxml')"
   ]
  },
  {
   "cell_type": "code",
   "execution_count": 62,
   "id": "baf5909e",
   "metadata": {},
   "outputs": [
    {
     "data": {
      "text/plain": [
       "[]"
      ]
     },
     "execution_count": 62,
     "metadata": {},
     "output_type": "execute_result"
    },
    {
     "name": "stdout",
     "output_type": "stream",
     "text": [
      "In [62] used -65.2 MiB RAM in 0.11s (system mean cpu 20%, single max cpu 30%), peaked 0.0 MiB above final usage, current RAM usage now 142.1 MiB\n"
     ]
    }
   ],
   "source": [
    "year_elements=soup.findAll('th',class_='Olympiad')\n",
    "L_pays=[]\n",
    "for pays in L_pays:\n",
    "    L_pays.append(pays.text)\n",
    "    \n",
    "L_pays"
   ]
  },
  {
   "cell_type": "code",
   "execution_count": null,
   "id": "d702d96f",
   "metadata": {},
   "outputs": [],
   "source": [
    "years = []\n",
    "for year_element in year_elements:\n",
    "    year_text = year_element.find_next_sibling('td').text\n",
    "    year = int(year_text)\n",
    "    years.append(year)\n",
    "\n",
    "years"
   ]
  },
  {
   "cell_type": "code",
   "execution_count": null,
   "id": "b9971ce5",
   "metadata": {},
   "outputs": [],
   "source": []
  }
 ],
 "metadata": {
  "kernelspec": {
   "display_name": "Python 3",
   "language": "python",
   "name": "python3"
  },
  "language_info": {
   "codemirror_mode": {
    "name": "ipython",
    "version": 3
   },
   "file_extension": ".py",
   "mimetype": "text/x-python",
   "name": "python",
   "nbconvert_exporter": "python",
   "pygments_lexer": "ipython3",
   "version": "3.8.8"
  }
 },
 "nbformat": 4,
 "nbformat_minor": 5
}
