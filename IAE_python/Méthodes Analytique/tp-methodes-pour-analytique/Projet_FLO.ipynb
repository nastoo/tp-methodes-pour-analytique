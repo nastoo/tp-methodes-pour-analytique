{
 "cells": [
  {
   "cell_type": "code",
   "execution_count": 1,
   "id": "2069a212",
   "metadata": {},
   "outputs": [],
   "source": [
    "import numpy as np \n",
    "import pandas as pd "
   ]
  },
  {
   "cell_type": "code",
   "execution_count": 2,
   "id": "af798729",
   "metadata": {},
   "outputs": [],
   "source": [
    "import json \n",
    "from sklearn import preprocessing"
   ]
  },
  {
   "cell_type": "code",
   "execution_count": 3,
   "id": "d5465ff5",
   "metadata": {},
   "outputs": [],
   "source": [
    "import matplotlib.pyplot as plt"
   ]
  },
  {
   "cell_type": "code",
   "execution_count": 4,
   "id": "57bfde02",
   "metadata": {},
   "outputs": [
    {
     "name": "stdout",
     "output_type": "stream",
     "text": [
      "Enabling IPython Memory Usage, use %imu_start to begin, %imu_stop to end\n"
     ]
    }
   ],
   "source": [
    "%load_ext ipython_memory_usage"
   ]
  },
  {
   "cell_type": "code",
   "execution_count": 5,
   "id": "0947540c",
   "metadata": {},
   "outputs": [
    {
     "data": {
      "text/plain": [
       "'IPython Memory Usage started'"
      ]
     },
     "execution_count": 5,
     "metadata": {},
     "output_type": "execute_result"
    },
    {
     "name": "stdout",
     "output_type": "stream",
     "text": [
      "In [5] used 0.4 MiB RAM in 0.12s (system mean cpu 0%, single max cpu 0%), peaked 0.0 MiB above final usage, current RAM usage now 153.6 MiB\n"
     ]
    }
   ],
   "source": [
    "%imu_start "
   ]
  },
  {
   "cell_type": "markdown",
   "id": "61281c1a",
   "metadata": {},
   "source": [
    "### EDA de la dataFrame 'Athlete_events'"
   ]
  },
  {
   "cell_type": "code",
   "execution_count": 6,
   "id": "17d666b9",
   "metadata": {},
   "outputs": [
    {
     "data": {
      "text/html": [
       "<div>\n",
       "<style scoped>\n",
       "    .dataframe tbody tr th:only-of-type {\n",
       "        vertical-align: middle;\n",
       "    }\n",
       "\n",
       "    .dataframe tbody tr th {\n",
       "        vertical-align: top;\n",
       "    }\n",
       "\n",
       "    .dataframe thead th {\n",
       "        text-align: right;\n",
       "    }\n",
       "</style>\n",
       "<table border=\"1\" class=\"dataframe\">\n",
       "  <thead>\n",
       "    <tr style=\"text-align: right;\">\n",
       "      <th></th>\n",
       "      <th>Name</th>\n",
       "      <th>Sex</th>\n",
       "      <th>Age</th>\n",
       "      <th>Height</th>\n",
       "      <th>Weight</th>\n",
       "      <th>Team</th>\n",
       "      <th>NOC</th>\n",
       "      <th>Games</th>\n",
       "      <th>Year</th>\n",
       "      <th>Season</th>\n",
       "      <th>City</th>\n",
       "      <th>Sport</th>\n",
       "      <th>Event</th>\n",
       "      <th>Medal</th>\n",
       "    </tr>\n",
       "  </thead>\n",
       "  <tbody>\n",
       "    <tr>\n",
       "      <th>0</th>\n",
       "      <td>A Dijiang</td>\n",
       "      <td>M</td>\n",
       "      <td>24.0</td>\n",
       "      <td>180.00</td>\n",
       "      <td>80.0</td>\n",
       "      <td>China</td>\n",
       "      <td>CHN</td>\n",
       "      <td>1992 Summer</td>\n",
       "      <td>1992</td>\n",
       "      <td>Summer</td>\n",
       "      <td>Barcelona</td>\n",
       "      <td>Basketball</td>\n",
       "      <td>Basketball Men's Basketball</td>\n",
       "      <td>NaN</td>\n",
       "    </tr>\n",
       "    <tr>\n",
       "      <th>1</th>\n",
       "      <td>A Lamusi</td>\n",
       "      <td>M</td>\n",
       "      <td>23.0</td>\n",
       "      <td>170.00</td>\n",
       "      <td>60.0</td>\n",
       "      <td>China</td>\n",
       "      <td>CHN</td>\n",
       "      <td>2012 Summer</td>\n",
       "      <td>2012</td>\n",
       "      <td>Summer</td>\n",
       "      <td>London</td>\n",
       "      <td>Judo</td>\n",
       "      <td>Judo Men's Extra-Lightweight</td>\n",
       "      <td>NaN</td>\n",
       "    </tr>\n",
       "    <tr>\n",
       "      <th>2</th>\n",
       "      <td>Gunnar Nielsen Aaby</td>\n",
       "      <td>M</td>\n",
       "      <td>24.0</td>\n",
       "      <td>NaN</td>\n",
       "      <td>NaN</td>\n",
       "      <td>Denmark</td>\n",
       "      <td>DEN</td>\n",
       "      <td>1920 Summer</td>\n",
       "      <td>1920</td>\n",
       "      <td>Summer</td>\n",
       "      <td>Antwerpen</td>\n",
       "      <td>Football</td>\n",
       "      <td>Football Men's Football</td>\n",
       "      <td>NaN</td>\n",
       "    </tr>\n",
       "    <tr>\n",
       "      <th>3</th>\n",
       "      <td>Edgar Lindenau Aabye</td>\n",
       "      <td>M</td>\n",
       "      <td>34.0</td>\n",
       "      <td>NaN</td>\n",
       "      <td>NaN</td>\n",
       "      <td>Denmark/Sweden</td>\n",
       "      <td>DEN</td>\n",
       "      <td>1900 Summer</td>\n",
       "      <td>1900</td>\n",
       "      <td>Summer</td>\n",
       "      <td>Paris</td>\n",
       "      <td>Tug-Of-War</td>\n",
       "      <td>Tug-Of-War Men's Tug-Of-War</td>\n",
       "      <td>Gold</td>\n",
       "    </tr>\n",
       "    <tr>\n",
       "      <th>4</th>\n",
       "      <td>Christine Jacoba Aaftink</td>\n",
       "      <td>F</td>\n",
       "      <td>21.0</td>\n",
       "      <td>185.00</td>\n",
       "      <td>82.0</td>\n",
       "      <td>Netherlands</td>\n",
       "      <td>NED</td>\n",
       "      <td>1988 Winter</td>\n",
       "      <td>1988</td>\n",
       "      <td>Winter</td>\n",
       "      <td>Calgary</td>\n",
       "      <td>Speed Skating</td>\n",
       "      <td>Speed Skating Women's 500 metres</td>\n",
       "      <td>NaN</td>\n",
       "    </tr>\n",
       "    <tr>\n",
       "      <th>...</th>\n",
       "      <td>...</td>\n",
       "      <td>...</td>\n",
       "      <td>...</td>\n",
       "      <td>...</td>\n",
       "      <td>...</td>\n",
       "      <td>...</td>\n",
       "      <td>...</td>\n",
       "      <td>...</td>\n",
       "      <td>...</td>\n",
       "      <td>...</td>\n",
       "      <td>...</td>\n",
       "      <td>...</td>\n",
       "      <td>...</td>\n",
       "      <td>...</td>\n",
       "    </tr>\n",
       "    <tr>\n",
       "      <th>282985</th>\n",
       "      <td>ZOU Jingyuan</td>\n",
       "      <td>M</td>\n",
       "      <td>23.0</td>\n",
       "      <td>1.58</td>\n",
       "      <td>NaN</td>\n",
       "      <td>People's Republic of China</td>\n",
       "      <td>CHN</td>\n",
       "      <td>Tokyo 2020</td>\n",
       "      <td>2020</td>\n",
       "      <td>Summer</td>\n",
       "      <td>Tokyo</td>\n",
       "      <td>Artistic Gymnastics</td>\n",
       "      <td>Men's Parallel Bars</td>\n",
       "      <td>Gold</td>\n",
       "    </tr>\n",
       "    <tr>\n",
       "      <th>282986</th>\n",
       "      <td>ZUBIMENDI Martin</td>\n",
       "      <td>M</td>\n",
       "      <td>22.0</td>\n",
       "      <td>1.80</td>\n",
       "      <td>NaN</td>\n",
       "      <td>Spain</td>\n",
       "      <td>ESP</td>\n",
       "      <td>Tokyo 2020</td>\n",
       "      <td>2020</td>\n",
       "      <td>Summer</td>\n",
       "      <td>Tokyo</td>\n",
       "      <td>Football</td>\n",
       "      <td>Men</td>\n",
       "      <td>Silver</td>\n",
       "    </tr>\n",
       "    <tr>\n",
       "      <th>282987</th>\n",
       "      <td>ZUEV Alexander</td>\n",
       "      <td>M</td>\n",
       "      <td>25.0</td>\n",
       "      <td>1.93</td>\n",
       "      <td>NaN</td>\n",
       "      <td>ROC</td>\n",
       "      <td>ROC</td>\n",
       "      <td>Tokyo 2020</td>\n",
       "      <td>2020</td>\n",
       "      <td>Summer</td>\n",
       "      <td>Tokyo</td>\n",
       "      <td>3x3 Basketball</td>\n",
       "      <td>Men</td>\n",
       "      <td>Silver</td>\n",
       "    </tr>\n",
       "    <tr>\n",
       "      <th>282988</th>\n",
       "      <td>ZVEREV Alexander</td>\n",
       "      <td>M</td>\n",
       "      <td>24.0</td>\n",
       "      <td>1.98</td>\n",
       "      <td>NaN</td>\n",
       "      <td>Germany</td>\n",
       "      <td>GER</td>\n",
       "      <td>Tokyo 2020</td>\n",
       "      <td>2020</td>\n",
       "      <td>Summer</td>\n",
       "      <td>Tokyo</td>\n",
       "      <td>Tennis</td>\n",
       "      <td>Men's Singles</td>\n",
       "      <td>Gold</td>\n",
       "    </tr>\n",
       "    <tr>\n",
       "      <th>282989</th>\n",
       "      <td>ZYKOVA Yulia</td>\n",
       "      <td>F</td>\n",
       "      <td>26.0</td>\n",
       "      <td>NaN</td>\n",
       "      <td>NaN</td>\n",
       "      <td>ROC</td>\n",
       "      <td>ROC</td>\n",
       "      <td>Tokyo 2020</td>\n",
       "      <td>2020</td>\n",
       "      <td>Summer</td>\n",
       "      <td>Tokyo</td>\n",
       "      <td>Shooting</td>\n",
       "      <td>50m Rifle 3 Positions Women</td>\n",
       "      <td>Silver</td>\n",
       "    </tr>\n",
       "  </tbody>\n",
       "</table>\n",
       "<p>282990 rows × 14 columns</p>\n",
       "</div>"
      ],
      "text/plain": [
       "                            Name Sex   Age  Height  Weight  \\\n",
       "0                      A Dijiang   M  24.0  180.00    80.0   \n",
       "1                       A Lamusi   M  23.0  170.00    60.0   \n",
       "2            Gunnar Nielsen Aaby   M  24.0     NaN     NaN   \n",
       "3           Edgar Lindenau Aabye   M  34.0     NaN     NaN   \n",
       "4       Christine Jacoba Aaftink   F  21.0  185.00    82.0   \n",
       "...                          ...  ..   ...     ...     ...   \n",
       "282985              ZOU Jingyuan   M  23.0    1.58     NaN   \n",
       "282986          ZUBIMENDI Martin   M  22.0    1.80     NaN   \n",
       "282987            ZUEV Alexander   M  25.0    1.93     NaN   \n",
       "282988          ZVEREV Alexander   M  24.0    1.98     NaN   \n",
       "282989              ZYKOVA Yulia   F  26.0     NaN     NaN   \n",
       "\n",
       "                              Team  NOC        Games  Year  Season       City  \\\n",
       "0                            China  CHN  1992 Summer  1992  Summer  Barcelona   \n",
       "1                            China  CHN  2012 Summer  2012  Summer     London   \n",
       "2                          Denmark  DEN  1920 Summer  1920  Summer  Antwerpen   \n",
       "3                   Denmark/Sweden  DEN  1900 Summer  1900  Summer      Paris   \n",
       "4                      Netherlands  NED  1988 Winter  1988  Winter    Calgary   \n",
       "...                            ...  ...          ...   ...     ...        ...   \n",
       "282985  People's Republic of China  CHN   Tokyo 2020  2020  Summer      Tokyo   \n",
       "282986                       Spain  ESP   Tokyo 2020  2020  Summer      Tokyo   \n",
       "282987                         ROC  ROC   Tokyo 2020  2020  Summer      Tokyo   \n",
       "282988                     Germany  GER   Tokyo 2020  2020  Summer      Tokyo   \n",
       "282989                         ROC  ROC   Tokyo 2020  2020  Summer      Tokyo   \n",
       "\n",
       "                      Sport                             Event   Medal  \n",
       "0                Basketball       Basketball Men's Basketball     NaN  \n",
       "1                      Judo      Judo Men's Extra-Lightweight     NaN  \n",
       "2                  Football           Football Men's Football     NaN  \n",
       "3                Tug-Of-War       Tug-Of-War Men's Tug-Of-War    Gold  \n",
       "4             Speed Skating  Speed Skating Women's 500 metres     NaN  \n",
       "...                     ...                               ...     ...  \n",
       "282985  Artistic Gymnastics               Men's Parallel Bars    Gold  \n",
       "282986             Football                               Men  Silver  \n",
       "282987       3x3 Basketball                               Men  Silver  \n",
       "282988               Tennis                     Men's Singles    Gold  \n",
       "282989             Shooting       50m Rifle 3 Positions Women  Silver  \n",
       "\n",
       "[282990 rows x 14 columns]"
      ]
     },
     "execution_count": 6,
     "metadata": {},
     "output_type": "execute_result"
    },
    {
     "name": "stdout",
     "output_type": "stream",
     "text": [
      "In [6] used 114.9 MiB RAM in 5.27s (system mean cpu 15%, single max cpu 90%), peaked 0.0 MiB above final usage, current RAM usage now 268.5 MiB\n"
     ]
    }
   ],
   "source": [
    "df_athlete=pd.read_csv('data/athlete_events.csv',sep=',')\n",
    "\n",
    "df_athlete"
   ]
  },
  {
   "cell_type": "markdown",
   "id": "e880e9d3",
   "metadata": {},
   "source": [
    "### DataFrame dictionnary"
   ]
  },
  {
   "cell_type": "code",
   "execution_count": 7,
   "id": "adf60793",
   "metadata": {},
   "outputs": [
    {
     "name": "stdout",
     "output_type": "stream",
     "text": [
      "In [7] used -70.6 MiB RAM in 0.71s (system mean cpu 15%, single max cpu 100%), peaked 70.6 MiB above final usage, current RAM usage now 197.9 MiB\n"
     ]
    }
   ],
   "source": [
    "df_dictionnary=pd.read_csv('data/dictionary.csv')\n",
    "\n",
    "df_dictionnary=df_dictionnary.rename(columns={'GDP per Capita':'PIB/habitant','Code':'NOC'})"
   ]
  },
  {
   "cell_type": "markdown",
   "id": "5f747d89",
   "metadata": {},
   "source": [
    "### On cherche les athlètes qui n'ont pas de team et ceux des îles TUVALU"
   ]
  },
  {
   "cell_type": "code",
   "execution_count": 8,
   "id": "24b590d0",
   "metadata": {},
   "outputs": [
    {
     "data": {
      "text/html": [
       "<div>\n",
       "<style scoped>\n",
       "    .dataframe tbody tr th:only-of-type {\n",
       "        vertical-align: middle;\n",
       "    }\n",
       "\n",
       "    .dataframe tbody tr th {\n",
       "        vertical-align: top;\n",
       "    }\n",
       "\n",
       "    .dataframe thead th {\n",
       "        text-align: right;\n",
       "    }\n",
       "</style>\n",
       "<table border=\"1\" class=\"dataframe\">\n",
       "  <thead>\n",
       "    <tr style=\"text-align: right;\">\n",
       "      <th></th>\n",
       "      <th>Name</th>\n",
       "      <th>Sex</th>\n",
       "      <th>Age</th>\n",
       "      <th>Height</th>\n",
       "      <th>Weight</th>\n",
       "      <th>Team</th>\n",
       "      <th>NOC</th>\n",
       "      <th>Games</th>\n",
       "      <th>Year</th>\n",
       "      <th>Season</th>\n",
       "      <th>City</th>\n",
       "      <th>Sport</th>\n",
       "      <th>Event</th>\n",
       "      <th>Medal</th>\n",
       "    </tr>\n",
       "  </thead>\n",
       "  <tbody>\n",
       "    <tr>\n",
       "      <th>61080</th>\n",
       "      <td>Fritz Eccard</td>\n",
       "      <td>M</td>\n",
       "      <td>NaN</td>\n",
       "      <td>NaN</td>\n",
       "      <td>NaN</td>\n",
       "      <td>Unknown</td>\n",
       "      <td>UNK</td>\n",
       "      <td>1912 Summer</td>\n",
       "      <td>1912</td>\n",
       "      <td>Summer</td>\n",
       "      <td>Stockholm</td>\n",
       "      <td>Art Competitions</td>\n",
       "      <td>Art Competitions Mixed Architecture</td>\n",
       "      <td>NaN</td>\n",
       "    </tr>\n",
       "    <tr>\n",
       "      <th>130721</th>\n",
       "      <td>A. Laffen</td>\n",
       "      <td>M</td>\n",
       "      <td>NaN</td>\n",
       "      <td>NaN</td>\n",
       "      <td>NaN</td>\n",
       "      <td>Unknown</td>\n",
       "      <td>UNK</td>\n",
       "      <td>1912 Summer</td>\n",
       "      <td>1912</td>\n",
       "      <td>Summer</td>\n",
       "      <td>Stockholm</td>\n",
       "      <td>Art Competitions</td>\n",
       "      <td>Art Competitions Mixed Architecture</td>\n",
       "      <td>NaN</td>\n",
       "    </tr>\n",
       "  </tbody>\n",
       "</table>\n",
       "</div>"
      ],
      "text/plain": [
       "                Name Sex  Age  Height  Weight     Team  NOC        Games  \\\n",
       "61080   Fritz Eccard   M  NaN     NaN     NaN  Unknown  UNK  1912 Summer   \n",
       "130721     A. Laffen   M  NaN     NaN     NaN  Unknown  UNK  1912 Summer   \n",
       "\n",
       "        Year  Season       City             Sport  \\\n",
       "61080   1912  Summer  Stockholm  Art Competitions   \n",
       "130721  1912  Summer  Stockholm  Art Competitions   \n",
       "\n",
       "                                      Event Medal  \n",
       "61080   Art Competitions Mixed Architecture   NaN  \n",
       "130721  Art Competitions Mixed Architecture   NaN  "
      ]
     },
     "execution_count": 8,
     "metadata": {},
     "output_type": "execute_result"
    },
    {
     "name": "stdout",
     "output_type": "stream",
     "text": [
      "In [8] used 3.3 MiB RAM in 0.15s (system mean cpu 13%, single max cpu 70%), peaked 0.0 MiB above final usage, current RAM usage now 201.2 MiB\n"
     ]
    }
   ],
   "source": [
    "df_athlete[df_athlete['NOC']=='UNK']\n"
   ]
  },
  {
   "cell_type": "markdown",
   "id": "5bf436be",
   "metadata": {},
   "source": [
    "Fritez Eccard a participé dans l'équipe Suédoise et A.Laffen .... aucunes traces je sais pas qui est ce mec "
   ]
  },
  {
   "cell_type": "code",
   "execution_count": 9,
   "id": "bdf58041",
   "metadata": {},
   "outputs": [
    {
     "data": {
      "text/plain": [
       "Name      10\n",
       "Sex        2\n",
       "Age        7\n",
       "Height     7\n",
       "Weight     9\n",
       "Team       1\n",
       "NOC        1\n",
       "Games      1\n",
       "Year       1\n",
       "Season     1\n",
       "City       1\n",
       "Sport      3\n",
       "Event     12\n",
       "Medal      0\n",
       "dtype: int64"
      ]
     },
     "execution_count": 9,
     "metadata": {},
     "output_type": "execute_result"
    },
    {
     "name": "stdout",
     "output_type": "stream",
     "text": [
      "In [9] used 1.0 MiB RAM in 0.14s (system mean cpu 22%, single max cpu 57%), peaked 0.0 MiB above final usage, current RAM usage now 202.2 MiB\n"
     ]
    }
   ],
   "source": [
    "df_athlete[df_athlete['NOC']=='ROT'].nunique()\n"
   ]
  },
  {
   "cell_type": "markdown",
   "id": "01417d26",
   "metadata": {},
   "source": [
    "12 participations parmi 10 athlètes qui ont participé aux JO ces dernières années sous la team des athlètes réfugiés. "
   ]
  },
  {
   "cell_type": "code",
   "execution_count": 10,
   "id": "0046f005",
   "metadata": {},
   "outputs": [
    {
     "name": "stdout",
     "output_type": "stream",
     "text": [
      "In [10] used 26.5 MiB RAM in 0.18s (system mean cpu 11%, single max cpu 60%), peaked 0.0 MiB above final usage, current RAM usage now 228.7 MiB\n"
     ]
    }
   ],
   "source": [
    "df_athlete=df_athlete.query(\" NOC !='ROC' and NOC != 'UNK' \")"
   ]
  },
  {
   "cell_type": "markdown",
   "id": "b5b135c8",
   "metadata": {},
   "source": [
    "## Base données région "
   ]
  },
  {
   "cell_type": "code",
   "execution_count": 63,
   "id": "4ed18476",
   "metadata": {},
   "outputs": [
    {
     "data": {
      "text/html": [
       "<div>\n",
       "<style scoped>\n",
       "    .dataframe tbody tr th:only-of-type {\n",
       "        vertical-align: middle;\n",
       "    }\n",
       "\n",
       "    .dataframe tbody tr th {\n",
       "        vertical-align: top;\n",
       "    }\n",
       "\n",
       "    .dataframe thead th {\n",
       "        text-align: right;\n",
       "    }\n",
       "</style>\n",
       "<table border=\"1\" class=\"dataframe\">\n",
       "  <thead>\n",
       "    <tr style=\"text-align: right;\">\n",
       "      <th></th>\n",
       "      <th>NOC</th>\n",
       "      <th>Country</th>\n",
       "      <th>notes</th>\n",
       "    </tr>\n",
       "  </thead>\n",
       "  <tbody>\n",
       "    <tr>\n",
       "      <th>0</th>\n",
       "      <td>AFG</td>\n",
       "      <td>Afghanistan</td>\n",
       "      <td>NaN</td>\n",
       "    </tr>\n",
       "    <tr>\n",
       "      <th>1</th>\n",
       "      <td>AHO</td>\n",
       "      <td>Curacao</td>\n",
       "      <td>Netherlands Antilles</td>\n",
       "    </tr>\n",
       "    <tr>\n",
       "      <th>2</th>\n",
       "      <td>ALB</td>\n",
       "      <td>Albania</td>\n",
       "      <td>NaN</td>\n",
       "    </tr>\n",
       "    <tr>\n",
       "      <th>3</th>\n",
       "      <td>ALG</td>\n",
       "      <td>Algeria</td>\n",
       "      <td>NaN</td>\n",
       "    </tr>\n",
       "    <tr>\n",
       "      <th>4</th>\n",
       "      <td>AND</td>\n",
       "      <td>Andorra</td>\n",
       "      <td>NaN</td>\n",
       "    </tr>\n",
       "    <tr>\n",
       "      <th>...</th>\n",
       "      <td>...</td>\n",
       "      <td>...</td>\n",
       "      <td>...</td>\n",
       "    </tr>\n",
       "    <tr>\n",
       "      <th>225</th>\n",
       "      <td>YEM</td>\n",
       "      <td>Yemen</td>\n",
       "      <td>NaN</td>\n",
       "    </tr>\n",
       "    <tr>\n",
       "      <th>226</th>\n",
       "      <td>YMD</td>\n",
       "      <td>Yemen</td>\n",
       "      <td>South Yemen</td>\n",
       "    </tr>\n",
       "    <tr>\n",
       "      <th>227</th>\n",
       "      <td>YUG</td>\n",
       "      <td>Serbia</td>\n",
       "      <td>Yugoslavia</td>\n",
       "    </tr>\n",
       "    <tr>\n",
       "      <th>228</th>\n",
       "      <td>ZAM</td>\n",
       "      <td>Zambia</td>\n",
       "      <td>NaN</td>\n",
       "    </tr>\n",
       "    <tr>\n",
       "      <th>229</th>\n",
       "      <td>ZIM</td>\n",
       "      <td>Zimbabwe</td>\n",
       "      <td>NaN</td>\n",
       "    </tr>\n",
       "  </tbody>\n",
       "</table>\n",
       "<p>230 rows × 3 columns</p>\n",
       "</div>"
      ],
      "text/plain": [
       "     NOC      Country                 notes\n",
       "0    AFG  Afghanistan                   NaN\n",
       "1    AHO      Curacao  Netherlands Antilles\n",
       "2    ALB      Albania                   NaN\n",
       "3    ALG      Algeria                   NaN\n",
       "4    AND      Andorra                   NaN\n",
       "..   ...          ...                   ...\n",
       "225  YEM        Yemen                   NaN\n",
       "226  YMD        Yemen           South Yemen\n",
       "227  YUG       Serbia            Yugoslavia\n",
       "228  ZAM       Zambia                   NaN\n",
       "229  ZIM     Zimbabwe                   NaN\n",
       "\n",
       "[230 rows x 3 columns]"
      ]
     },
     "execution_count": 63,
     "metadata": {},
     "output_type": "execute_result"
    },
    {
     "name": "stdout",
     "output_type": "stream",
     "text": [
      "In [63] used -1.2 MiB RAM in 0.13s (system mean cpu 16%, single max cpu 24%), peaked 0.0 MiB above final usage, current RAM usage now 27.0 MiB\n"
     ]
    }
   ],
   "source": [
    "df_regions=pd.read_csv('data/noc_regions.csv')\n",
    "\n",
    "df_regions=df_regions.rename(columns={'region':'Country'})\n",
    "df_regions"
   ]
  },
  {
   "cell_type": "code",
   "execution_count": 64,
   "id": "385765ad",
   "metadata": {},
   "outputs": [
    {
     "data": {
      "text/plain": [
       "NOC        230\n",
       "Country    206\n",
       "notes       21\n",
       "dtype: int64"
      ]
     },
     "execution_count": 64,
     "metadata": {},
     "output_type": "execute_result"
    },
    {
     "name": "stdout",
     "output_type": "stream",
     "text": [
      "In [64] used 1.5 MiB RAM in 0.12s (system mean cpu 17%, single max cpu 24%), peaked 0.0 MiB above final usage, current RAM usage now 28.5 MiB\n"
     ]
    }
   ],
   "source": [
    "df_regions.nunique()"
   ]
  },
  {
   "cell_type": "markdown",
   "id": "8e41b012",
   "metadata": {},
   "source": [
    "Il y a des régions qui ont le même NOC "
   ]
  },
  {
   "cell_type": "code",
   "execution_count": 65,
   "id": "43945071",
   "metadata": {},
   "outputs": [
    {
     "name": "stdout",
     "output_type": "stream",
     "text": [
      "In [65] used 0.3 MiB RAM in 0.11s (system mean cpu 13%, single max cpu 22%), peaked 0.0 MiB above final usage, current RAM usage now 28.8 MiB\n"
     ]
    }
   ],
   "source": [
    "duplicates=[df_regions.duplicated(subset='Country')]"
   ]
  },
  {
   "cell_type": "code",
   "execution_count": 66,
   "id": "fd5494fc",
   "metadata": {},
   "outputs": [
    {
     "data": {
      "text/html": [
       "<div>\n",
       "<style scoped>\n",
       "    .dataframe tbody tr th:only-of-type {\n",
       "        vertical-align: middle;\n",
       "    }\n",
       "\n",
       "    .dataframe tbody tr th {\n",
       "        vertical-align: top;\n",
       "    }\n",
       "\n",
       "    .dataframe thead th {\n",
       "        text-align: right;\n",
       "    }\n",
       "</style>\n",
       "<table border=\"1\" class=\"dataframe\">\n",
       "  <thead>\n",
       "    <tr style=\"text-align: right;\">\n",
       "      <th></th>\n",
       "      <th>NOC</th>\n",
       "      <th>Country</th>\n",
       "      <th>notes</th>\n",
       "    </tr>\n",
       "  </thead>\n",
       "  <tbody>\n",
       "    <tr>\n",
       "      <th>12</th>\n",
       "      <td>AUS</td>\n",
       "      <td>Australia</td>\n",
       "      <td>NaN</td>\n",
       "    </tr>\n",
       "    <tr>\n",
       "      <th>54</th>\n",
       "      <td>CZE</td>\n",
       "      <td>Czech Republic</td>\n",
       "      <td>NaN</td>\n",
       "    </tr>\n",
       "    <tr>\n",
       "      <th>76</th>\n",
       "      <td>GDR</td>\n",
       "      <td>Germany</td>\n",
       "      <td>NaN</td>\n",
       "    </tr>\n",
       "    <tr>\n",
       "      <th>79</th>\n",
       "      <td>GER</td>\n",
       "      <td>Germany</td>\n",
       "      <td>NaN</td>\n",
       "    </tr>\n",
       "    <tr>\n",
       "      <th>81</th>\n",
       "      <td>GRE</td>\n",
       "      <td>Greece</td>\n",
       "      <td>NaN</td>\n",
       "    </tr>\n",
       "    <tr>\n",
       "      <th>88</th>\n",
       "      <td>HKG</td>\n",
       "      <td>China</td>\n",
       "      <td>Hong Kong</td>\n",
       "    </tr>\n",
       "    <tr>\n",
       "      <th>126</th>\n",
       "      <td>MAS</td>\n",
       "      <td>Malaysia</td>\n",
       "      <td>NaN</td>\n",
       "    </tr>\n",
       "    <tr>\n",
       "      <th>143</th>\n",
       "      <td>NBO</td>\n",
       "      <td>Malaysia</td>\n",
       "      <td>North Borneo</td>\n",
       "    </tr>\n",
       "    <tr>\n",
       "      <th>147</th>\n",
       "      <td>NFL</td>\n",
       "      <td>Canada</td>\n",
       "      <td>Newfoundland</td>\n",
       "    </tr>\n",
       "    <tr>\n",
       "      <th>171</th>\n",
       "      <td>RUS</td>\n",
       "      <td>Russia</td>\n",
       "      <td>NaN</td>\n",
       "    </tr>\n",
       "    <tr>\n",
       "      <th>173</th>\n",
       "      <td>SAA</td>\n",
       "      <td>Germany</td>\n",
       "      <td>NaN</td>\n",
       "    </tr>\n",
       "    <tr>\n",
       "      <th>185</th>\n",
       "      <td>SRB</td>\n",
       "      <td>Serbia</td>\n",
       "      <td>NaN</td>\n",
       "    </tr>\n",
       "    <tr>\n",
       "      <th>197</th>\n",
       "      <td>TCH</td>\n",
       "      <td>Czech Republic</td>\n",
       "      <td>NaN</td>\n",
       "    </tr>\n",
       "    <tr>\n",
       "      <th>208</th>\n",
       "      <td>TUV</td>\n",
       "      <td>NaN</td>\n",
       "      <td>Tuvalu</td>\n",
       "    </tr>\n",
       "    <tr>\n",
       "      <th>210</th>\n",
       "      <td>UAR</td>\n",
       "      <td>Syria</td>\n",
       "      <td>United Arab Republic</td>\n",
       "    </tr>\n",
       "    <tr>\n",
       "      <th>213</th>\n",
       "      <td>UNK</td>\n",
       "      <td>NaN</td>\n",
       "      <td>Unknown</td>\n",
       "    </tr>\n",
       "    <tr>\n",
       "      <th>214</th>\n",
       "      <td>URS</td>\n",
       "      <td>Russia</td>\n",
       "      <td>NaN</td>\n",
       "    </tr>\n",
       "    <tr>\n",
       "      <th>222</th>\n",
       "      <td>VNM</td>\n",
       "      <td>Vietnam</td>\n",
       "      <td>NaN</td>\n",
       "    </tr>\n",
       "    <tr>\n",
       "      <th>223</th>\n",
       "      <td>WIF</td>\n",
       "      <td>Trinidad</td>\n",
       "      <td>West Indies Federation</td>\n",
       "    </tr>\n",
       "    <tr>\n",
       "      <th>225</th>\n",
       "      <td>YEM</td>\n",
       "      <td>Yemen</td>\n",
       "      <td>NaN</td>\n",
       "    </tr>\n",
       "    <tr>\n",
       "      <th>226</th>\n",
       "      <td>YMD</td>\n",
       "      <td>Yemen</td>\n",
       "      <td>South Yemen</td>\n",
       "    </tr>\n",
       "    <tr>\n",
       "      <th>227</th>\n",
       "      <td>YUG</td>\n",
       "      <td>Serbia</td>\n",
       "      <td>Yugoslavia</td>\n",
       "    </tr>\n",
       "    <tr>\n",
       "      <th>229</th>\n",
       "      <td>ZIM</td>\n",
       "      <td>Zimbabwe</td>\n",
       "      <td>NaN</td>\n",
       "    </tr>\n",
       "  </tbody>\n",
       "</table>\n",
       "</div>"
      ],
      "text/plain": [
       "     NOC         Country                   notes\n",
       "12   AUS       Australia                     NaN\n",
       "54   CZE  Czech Republic                     NaN\n",
       "76   GDR         Germany                     NaN\n",
       "79   GER         Germany                     NaN\n",
       "81   GRE          Greece                     NaN\n",
       "88   HKG           China               Hong Kong\n",
       "126  MAS        Malaysia                     NaN\n",
       "143  NBO        Malaysia            North Borneo\n",
       "147  NFL          Canada            Newfoundland\n",
       "171  RUS          Russia                     NaN\n",
       "173  SAA         Germany                     NaN\n",
       "185  SRB          Serbia                     NaN\n",
       "197  TCH  Czech Republic                     NaN\n",
       "208  TUV             NaN                  Tuvalu\n",
       "210  UAR           Syria    United Arab Republic\n",
       "213  UNK             NaN                 Unknown\n",
       "214  URS          Russia                     NaN\n",
       "222  VNM         Vietnam                     NaN\n",
       "223  WIF        Trinidad  West Indies Federation\n",
       "225  YEM           Yemen                     NaN\n",
       "226  YMD           Yemen             South Yemen\n",
       "227  YUG          Serbia              Yugoslavia\n",
       "229  ZIM        Zimbabwe                     NaN"
      ]
     },
     "execution_count": 66,
     "metadata": {},
     "output_type": "execute_result"
    },
    {
     "name": "stdout",
     "output_type": "stream",
     "text": [
      "In [66] used 0.4 MiB RAM in 0.12s (system mean cpu 13%, single max cpu 23%), peaked 0.0 MiB above final usage, current RAM usage now 29.2 MiB\n"
     ]
    }
   ],
   "source": [
    "df_regions[df_regions.duplicated(subset='Country')]"
   ]
  },
  {
   "cell_type": "code",
   "execution_count": 67,
   "id": "ede869cc",
   "metadata": {},
   "outputs": [
    {
     "data": {
      "text/plain": [
       "NOC          0\n",
       "Country      3\n",
       "notes      209\n",
       "dtype: int64"
      ]
     },
     "execution_count": 67,
     "metadata": {},
     "output_type": "execute_result"
    },
    {
     "name": "stdout",
     "output_type": "stream",
     "text": [
      "In [67] used 0.2 MiB RAM in 0.11s (system mean cpu 11%, single max cpu 21%), peaked 0.0 MiB above final usage, current RAM usage now 29.5 MiB\n"
     ]
    }
   ],
   "source": [
    "df_regions.isnull().sum()"
   ]
  },
  {
   "cell_type": "code",
   "execution_count": 68,
   "id": "3a8372e7",
   "metadata": {},
   "outputs": [
    {
     "data": {
      "text/html": [
       "<div>\n",
       "<style scoped>\n",
       "    .dataframe tbody tr th:only-of-type {\n",
       "        vertical-align: middle;\n",
       "    }\n",
       "\n",
       "    .dataframe tbody tr th {\n",
       "        vertical-align: top;\n",
       "    }\n",
       "\n",
       "    .dataframe thead th {\n",
       "        text-align: right;\n",
       "    }\n",
       "</style>\n",
       "<table border=\"1\" class=\"dataframe\">\n",
       "  <thead>\n",
       "    <tr style=\"text-align: right;\">\n",
       "      <th></th>\n",
       "      <th>NOC</th>\n",
       "      <th>Country</th>\n",
       "      <th>notes</th>\n",
       "    </tr>\n",
       "  </thead>\n",
       "  <tbody>\n",
       "    <tr>\n",
       "      <th>168</th>\n",
       "      <td>ROT</td>\n",
       "      <td>NaN</td>\n",
       "      <td>Refugee Olympic Team</td>\n",
       "    </tr>\n",
       "    <tr>\n",
       "      <th>208</th>\n",
       "      <td>TUV</td>\n",
       "      <td>NaN</td>\n",
       "      <td>Tuvalu</td>\n",
       "    </tr>\n",
       "    <tr>\n",
       "      <th>213</th>\n",
       "      <td>UNK</td>\n",
       "      <td>NaN</td>\n",
       "      <td>Unknown</td>\n",
       "    </tr>\n",
       "  </tbody>\n",
       "</table>\n",
       "</div>"
      ],
      "text/plain": [
       "     NOC Country                 notes\n",
       "168  ROT     NaN  Refugee Olympic Team\n",
       "208  TUV     NaN                Tuvalu\n",
       "213  UNK     NaN               Unknown"
      ]
     },
     "execution_count": 68,
     "metadata": {},
     "output_type": "execute_result"
    },
    {
     "name": "stdout",
     "output_type": "stream",
     "text": [
      "In [68] used 0.0 MiB RAM in 0.12s (system mean cpu 16%, single max cpu 24%), peaked 0.0 MiB above final usage, current RAM usage now 29.5 MiB\n"
     ]
    }
   ],
   "source": [
    "df_regions[df_regions['Country'].isnull()]"
   ]
  },
  {
   "cell_type": "markdown",
   "id": "8cee8860",
   "metadata": {},
   "source": [
    "Il y a  3 des regions qui ne sont pas attribuées, ROT ( refugee olympic team)  , TUVALU ( 9 archipels qui constituent un État ) et UNK qui correspond à Unknown "
   ]
  },
  {
   "cell_type": "markdown",
   "id": "5379dcc6",
   "metadata": {},
   "source": [
    "### On ajoute les iles TUVALU "
   ]
  },
  {
   "cell_type": "code",
   "execution_count": 69,
   "id": "d19aad00",
   "metadata": {},
   "outputs": [
    {
     "data": {
      "text/html": [
       "<div>\n",
       "<style scoped>\n",
       "    .dataframe tbody tr th:only-of-type {\n",
       "        vertical-align: middle;\n",
       "    }\n",
       "\n",
       "    .dataframe tbody tr th {\n",
       "        vertical-align: top;\n",
       "    }\n",
       "\n",
       "    .dataframe thead th {\n",
       "        text-align: right;\n",
       "    }\n",
       "</style>\n",
       "<table border=\"1\" class=\"dataframe\">\n",
       "  <thead>\n",
       "    <tr style=\"text-align: right;\">\n",
       "      <th></th>\n",
       "      <th>NOC</th>\n",
       "      <th>Country</th>\n",
       "      <th>notes</th>\n",
       "    </tr>\n",
       "  </thead>\n",
       "  <tbody>\n",
       "    <tr>\n",
       "      <th>168</th>\n",
       "      <td>ROT</td>\n",
       "      <td>NaN</td>\n",
       "      <td>Refugee Olympic Team</td>\n",
       "    </tr>\n",
       "    <tr>\n",
       "      <th>208</th>\n",
       "      <td>TUV</td>\n",
       "      <td>NaN</td>\n",
       "      <td>Tuvalu</td>\n",
       "    </tr>\n",
       "    <tr>\n",
       "      <th>213</th>\n",
       "      <td>UNK</td>\n",
       "      <td>NaN</td>\n",
       "      <td>Unknown</td>\n",
       "    </tr>\n",
       "  </tbody>\n",
       "</table>\n",
       "</div>"
      ],
      "text/plain": [
       "     NOC Country                 notes\n",
       "168  ROT     NaN  Refugee Olympic Team\n",
       "208  TUV     NaN                Tuvalu\n",
       "213  UNK     NaN               Unknown"
      ]
     },
     "execution_count": 69,
     "metadata": {},
     "output_type": "execute_result"
    },
    {
     "name": "stdout",
     "output_type": "stream",
     "text": [
      "In [69] used -2.0 MiB RAM in 0.11s (system mean cpu 16%, single max cpu 25%), peaked 0.0 MiB above final usage, current RAM usage now 27.5 MiB\n"
     ]
    }
   ],
   "source": [
    "df_regions[df_regions['Country'].isnull()]"
   ]
  },
  {
   "cell_type": "code",
   "execution_count": 70,
   "id": "8ec0d495",
   "metadata": {},
   "outputs": [
    {
     "data": {
      "text/plain": [
       "NOC          0\n",
       "Country      1\n",
       "notes      209\n",
       "dtype: int64"
      ]
     },
     "execution_count": 70,
     "metadata": {},
     "output_type": "execute_result"
    },
    {
     "name": "stdout",
     "output_type": "stream",
     "text": [
      "In [70] used 2.4 MiB RAM in 0.14s (system mean cpu 12%, single max cpu 20%), peaked 0.0 MiB above final usage, current RAM usage now 29.9 MiB\n"
     ]
    }
   ],
   "source": [
    "df_regions=df_regions.query(\" NOC != 'ROT' and NOC != 'UNK' \")\n",
    "\n",
    "df_regions.isnull().sum()"
   ]
  },
  {
   "cell_type": "code",
   "execution_count": 71,
   "id": "2c30bf44",
   "metadata": {},
   "outputs": [
    {
     "name": "stdout",
     "output_type": "stream",
     "text": [
      "In [71] used -5.0 MiB RAM in 0.12s (system mean cpu 14%, single max cpu 23%), peaked 0.0 MiB above final usage, current RAM usage now 24.9 MiB\n"
     ]
    },
    {
     "name": "stderr",
     "output_type": "stream",
     "text": [
      "<ipython-input-71-0f7f308fe64b>:1: SettingWithCopyWarning: \n",
      "A value is trying to be set on a copy of a slice from a DataFrame.\n",
      "Try using .loc[row_indexer,col_indexer] = value instead\n",
      "\n",
      "See the caveats in the documentation: https://pandas.pydata.org/pandas-docs/stable/user_guide/indexing.html#returning-a-view-versus-a-copy\n",
      "  df_regions['Country']=df_regions['Country'].fillna('Tuvalu')\n"
     ]
    }
   ],
   "source": [
    "df_regions['Country']=df_regions['Country'].fillna('Tuvalu')"
   ]
  },
  {
   "cell_type": "code",
   "execution_count": 73,
   "id": "4b23fe5a",
   "metadata": {},
   "outputs": [
    {
     "data": {
      "text/html": [
       "<div>\n",
       "<style scoped>\n",
       "    .dataframe tbody tr th:only-of-type {\n",
       "        vertical-align: middle;\n",
       "    }\n",
       "\n",
       "    .dataframe tbody tr th {\n",
       "        vertical-align: top;\n",
       "    }\n",
       "\n",
       "    .dataframe thead th {\n",
       "        text-align: right;\n",
       "    }\n",
       "</style>\n",
       "<table border=\"1\" class=\"dataframe\">\n",
       "  <thead>\n",
       "    <tr style=\"text-align: right;\">\n",
       "      <th></th>\n",
       "      <th>NOC</th>\n",
       "      <th>Country</th>\n",
       "      <th>notes</th>\n",
       "    </tr>\n",
       "  </thead>\n",
       "  <tbody>\n",
       "    <tr>\n",
       "      <th>208</th>\n",
       "      <td>TUV</td>\n",
       "      <td>Tuvalu</td>\n",
       "      <td>Tuvalu</td>\n",
       "    </tr>\n",
       "  </tbody>\n",
       "</table>\n",
       "</div>"
      ],
      "text/plain": [
       "     NOC Country   notes\n",
       "208  TUV  Tuvalu  Tuvalu"
      ]
     },
     "execution_count": 73,
     "metadata": {},
     "output_type": "execute_result"
    },
    {
     "name": "stdout",
     "output_type": "stream",
     "text": [
      "In [73] used 2.1 MiB RAM in 0.13s (system mean cpu 16%, single max cpu 25%), peaked 0.0 MiB above final usage, current RAM usage now 43.1 MiB\n"
     ]
    }
   ],
   "source": [
    "df_regions[df_regions['Country']=='Tuvalu']"
   ]
  },
  {
   "cell_type": "code",
   "execution_count": 74,
   "id": "0c29451d",
   "metadata": {},
   "outputs": [
    {
     "data": {
      "text/plain": [
       "NOC          0\n",
       "Country      0\n",
       "notes      209\n",
       "dtype: int64"
      ]
     },
     "execution_count": 74,
     "metadata": {},
     "output_type": "execute_result"
    },
    {
     "name": "stdout",
     "output_type": "stream",
     "text": [
      "In [74] used 0.4 MiB RAM in 0.11s (system mean cpu 17%, single max cpu 26%), peaked 0.0 MiB above final usage, current RAM usage now 43.6 MiB\n"
     ]
    }
   ],
   "source": [
    "df_regions.isnull().sum()"
   ]
  },
  {
   "cell_type": "markdown",
   "id": "bc0ef96d",
   "metadata": {},
   "source": [
    "# On va merge les dataframes "
   ]
  },
  {
   "cell_type": "markdown",
   "id": "8c4bcfa6",
   "metadata": {},
   "source": [
    "## Merge en left "
   ]
  },
  {
   "cell_type": "code",
   "execution_count": 75,
   "id": "787b13b9",
   "metadata": {
    "collapsed": true
   },
   "outputs": [
    {
     "data": {
      "text/html": [
       "<div>\n",
       "<style scoped>\n",
       "    .dataframe tbody tr th:only-of-type {\n",
       "        vertical-align: middle;\n",
       "    }\n",
       "\n",
       "    .dataframe tbody tr th {\n",
       "        vertical-align: top;\n",
       "    }\n",
       "\n",
       "    .dataframe thead th {\n",
       "        text-align: right;\n",
       "    }\n",
       "</style>\n",
       "<table border=\"1\" class=\"dataframe\">\n",
       "  <thead>\n",
       "    <tr style=\"text-align: right;\">\n",
       "      <th></th>\n",
       "      <th>Name</th>\n",
       "      <th>Sex</th>\n",
       "      <th>Age</th>\n",
       "      <th>Height</th>\n",
       "      <th>Weight</th>\n",
       "      <th>Team</th>\n",
       "      <th>NOC</th>\n",
       "      <th>Games</th>\n",
       "      <th>Year</th>\n",
       "      <th>Season</th>\n",
       "      <th>City</th>\n",
       "      <th>Sport</th>\n",
       "      <th>Event</th>\n",
       "      <th>Medal</th>\n",
       "      <th>Country_x</th>\n",
       "      <th>notes</th>\n",
       "      <th>Country_y</th>\n",
       "      <th>Population</th>\n",
       "      <th>PIB/habitant</th>\n",
       "    </tr>\n",
       "  </thead>\n",
       "  <tbody>\n",
       "    <tr>\n",
       "      <th>0</th>\n",
       "      <td>A Dijiang</td>\n",
       "      <td>M</td>\n",
       "      <td>24.0</td>\n",
       "      <td>180.00</td>\n",
       "      <td>80.0</td>\n",
       "      <td>China</td>\n",
       "      <td>CHN</td>\n",
       "      <td>1992 Summer</td>\n",
       "      <td>1992</td>\n",
       "      <td>Summer</td>\n",
       "      <td>Barcelona</td>\n",
       "      <td>Basketball</td>\n",
       "      <td>Basketball Men's Basketball</td>\n",
       "      <td>NaN</td>\n",
       "      <td>China</td>\n",
       "      <td>NaN</td>\n",
       "      <td>China</td>\n",
       "      <td>1.371220e+09</td>\n",
       "      <td>8027.683810</td>\n",
       "    </tr>\n",
       "    <tr>\n",
       "      <th>1</th>\n",
       "      <td>A Lamusi</td>\n",
       "      <td>M</td>\n",
       "      <td>23.0</td>\n",
       "      <td>170.00</td>\n",
       "      <td>60.0</td>\n",
       "      <td>China</td>\n",
       "      <td>CHN</td>\n",
       "      <td>2012 Summer</td>\n",
       "      <td>2012</td>\n",
       "      <td>Summer</td>\n",
       "      <td>London</td>\n",
       "      <td>Judo</td>\n",
       "      <td>Judo Men's Extra-Lightweight</td>\n",
       "      <td>NaN</td>\n",
       "      <td>China</td>\n",
       "      <td>NaN</td>\n",
       "      <td>China</td>\n",
       "      <td>1.371220e+09</td>\n",
       "      <td>8027.683810</td>\n",
       "    </tr>\n",
       "    <tr>\n",
       "      <th>2</th>\n",
       "      <td>Gunnar Nielsen Aaby</td>\n",
       "      <td>M</td>\n",
       "      <td>24.0</td>\n",
       "      <td>NaN</td>\n",
       "      <td>NaN</td>\n",
       "      <td>Denmark</td>\n",
       "      <td>DEN</td>\n",
       "      <td>1920 Summer</td>\n",
       "      <td>1920</td>\n",
       "      <td>Summer</td>\n",
       "      <td>Antwerpen</td>\n",
       "      <td>Football</td>\n",
       "      <td>Football Men's Football</td>\n",
       "      <td>NaN</td>\n",
       "      <td>Denmark</td>\n",
       "      <td>NaN</td>\n",
       "      <td>Denmark</td>\n",
       "      <td>5.676002e+06</td>\n",
       "      <td>51989.293471</td>\n",
       "    </tr>\n",
       "    <tr>\n",
       "      <th>3</th>\n",
       "      <td>Edgar Lindenau Aabye</td>\n",
       "      <td>M</td>\n",
       "      <td>34.0</td>\n",
       "      <td>NaN</td>\n",
       "      <td>NaN</td>\n",
       "      <td>Denmark/Sweden</td>\n",
       "      <td>DEN</td>\n",
       "      <td>1900 Summer</td>\n",
       "      <td>1900</td>\n",
       "      <td>Summer</td>\n",
       "      <td>Paris</td>\n",
       "      <td>Tug-Of-War</td>\n",
       "      <td>Tug-Of-War Men's Tug-Of-War</td>\n",
       "      <td>Gold</td>\n",
       "      <td>Denmark</td>\n",
       "      <td>NaN</td>\n",
       "      <td>Denmark</td>\n",
       "      <td>5.676002e+06</td>\n",
       "      <td>51989.293471</td>\n",
       "    </tr>\n",
       "    <tr>\n",
       "      <th>4</th>\n",
       "      <td>Christine Jacoba Aaftink</td>\n",
       "      <td>F</td>\n",
       "      <td>21.0</td>\n",
       "      <td>185.00</td>\n",
       "      <td>82.0</td>\n",
       "      <td>Netherlands</td>\n",
       "      <td>NED</td>\n",
       "      <td>1988 Winter</td>\n",
       "      <td>1988</td>\n",
       "      <td>Winter</td>\n",
       "      <td>Calgary</td>\n",
       "      <td>Speed Skating</td>\n",
       "      <td>Speed Skating Women's 500 metres</td>\n",
       "      <td>NaN</td>\n",
       "      <td>Netherlands</td>\n",
       "      <td>NaN</td>\n",
       "      <td>Netherlands</td>\n",
       "      <td>1.693652e+07</td>\n",
       "      <td>44299.768085</td>\n",
       "    </tr>\n",
       "    <tr>\n",
       "      <th>...</th>\n",
       "      <td>...</td>\n",
       "      <td>...</td>\n",
       "      <td>...</td>\n",
       "      <td>...</td>\n",
       "      <td>...</td>\n",
       "      <td>...</td>\n",
       "      <td>...</td>\n",
       "      <td>...</td>\n",
       "      <td>...</td>\n",
       "      <td>...</td>\n",
       "      <td>...</td>\n",
       "      <td>...</td>\n",
       "      <td>...</td>\n",
       "      <td>...</td>\n",
       "      <td>...</td>\n",
       "      <td>...</td>\n",
       "      <td>...</td>\n",
       "      <td>...</td>\n",
       "      <td>...</td>\n",
       "    </tr>\n",
       "    <tr>\n",
       "      <th>282622</th>\n",
       "      <td>ZOLOTIC Anastasija</td>\n",
       "      <td>F</td>\n",
       "      <td>19.0</td>\n",
       "      <td>1.80</td>\n",
       "      <td>NaN</td>\n",
       "      <td>United States of America</td>\n",
       "      <td>USA</td>\n",
       "      <td>Tokyo 2020</td>\n",
       "      <td>2020</td>\n",
       "      <td>Summer</td>\n",
       "      <td>Tokyo</td>\n",
       "      <td>Taekwondo</td>\n",
       "      <td>Women -57kg</td>\n",
       "      <td>Gold</td>\n",
       "      <td>USA</td>\n",
       "      <td>NaN</td>\n",
       "      <td>United States</td>\n",
       "      <td>3.214188e+08</td>\n",
       "      <td>56115.718426</td>\n",
       "    </tr>\n",
       "    <tr>\n",
       "      <th>282623</th>\n",
       "      <td>ZOU Jingyuan</td>\n",
       "      <td>M</td>\n",
       "      <td>23.0</td>\n",
       "      <td>1.58</td>\n",
       "      <td>NaN</td>\n",
       "      <td>People's Republic of China</td>\n",
       "      <td>CHN</td>\n",
       "      <td>Tokyo 2020</td>\n",
       "      <td>2020</td>\n",
       "      <td>Summer</td>\n",
       "      <td>Tokyo</td>\n",
       "      <td>Artistic Gymnastics</td>\n",
       "      <td>Men's Team</td>\n",
       "      <td>Bronze</td>\n",
       "      <td>China</td>\n",
       "      <td>NaN</td>\n",
       "      <td>China</td>\n",
       "      <td>1.371220e+09</td>\n",
       "      <td>8027.683810</td>\n",
       "    </tr>\n",
       "    <tr>\n",
       "      <th>282624</th>\n",
       "      <td>ZOU Jingyuan</td>\n",
       "      <td>M</td>\n",
       "      <td>23.0</td>\n",
       "      <td>1.58</td>\n",
       "      <td>NaN</td>\n",
       "      <td>People's Republic of China</td>\n",
       "      <td>CHN</td>\n",
       "      <td>Tokyo 2020</td>\n",
       "      <td>2020</td>\n",
       "      <td>Summer</td>\n",
       "      <td>Tokyo</td>\n",
       "      <td>Artistic Gymnastics</td>\n",
       "      <td>Men's Parallel Bars</td>\n",
       "      <td>Gold</td>\n",
       "      <td>China</td>\n",
       "      <td>NaN</td>\n",
       "      <td>China</td>\n",
       "      <td>1.371220e+09</td>\n",
       "      <td>8027.683810</td>\n",
       "    </tr>\n",
       "    <tr>\n",
       "      <th>282625</th>\n",
       "      <td>ZUBIMENDI Martin</td>\n",
       "      <td>M</td>\n",
       "      <td>22.0</td>\n",
       "      <td>1.80</td>\n",
       "      <td>NaN</td>\n",
       "      <td>Spain</td>\n",
       "      <td>ESP</td>\n",
       "      <td>Tokyo 2020</td>\n",
       "      <td>2020</td>\n",
       "      <td>Summer</td>\n",
       "      <td>Tokyo</td>\n",
       "      <td>Football</td>\n",
       "      <td>Men</td>\n",
       "      <td>Silver</td>\n",
       "      <td>Spain</td>\n",
       "      <td>NaN</td>\n",
       "      <td>Spain</td>\n",
       "      <td>4.641827e+07</td>\n",
       "      <td>25831.582305</td>\n",
       "    </tr>\n",
       "    <tr>\n",
       "      <th>282626</th>\n",
       "      <td>ZVEREV Alexander</td>\n",
       "      <td>M</td>\n",
       "      <td>24.0</td>\n",
       "      <td>1.98</td>\n",
       "      <td>NaN</td>\n",
       "      <td>Germany</td>\n",
       "      <td>GER</td>\n",
       "      <td>Tokyo 2020</td>\n",
       "      <td>2020</td>\n",
       "      <td>Summer</td>\n",
       "      <td>Tokyo</td>\n",
       "      <td>Tennis</td>\n",
       "      <td>Men's Singles</td>\n",
       "      <td>Gold</td>\n",
       "      <td>Germany</td>\n",
       "      <td>NaN</td>\n",
       "      <td>Germany</td>\n",
       "      <td>8.141314e+07</td>\n",
       "      <td>41313.313995</td>\n",
       "    </tr>\n",
       "  </tbody>\n",
       "</table>\n",
       "<p>282627 rows × 19 columns</p>\n",
       "</div>"
      ],
      "text/plain": [
       "                            Name Sex   Age  Height  Weight  \\\n",
       "0                      A Dijiang   M  24.0  180.00    80.0   \n",
       "1                       A Lamusi   M  23.0  170.00    60.0   \n",
       "2            Gunnar Nielsen Aaby   M  24.0     NaN     NaN   \n",
       "3           Edgar Lindenau Aabye   M  34.0     NaN     NaN   \n",
       "4       Christine Jacoba Aaftink   F  21.0  185.00    82.0   \n",
       "...                          ...  ..   ...     ...     ...   \n",
       "282622        ZOLOTIC Anastasija   F  19.0    1.80     NaN   \n",
       "282623              ZOU Jingyuan   M  23.0    1.58     NaN   \n",
       "282624              ZOU Jingyuan   M  23.0    1.58     NaN   \n",
       "282625          ZUBIMENDI Martin   M  22.0    1.80     NaN   \n",
       "282626          ZVEREV Alexander   M  24.0    1.98     NaN   \n",
       "\n",
       "                              Team  NOC        Games  Year  Season       City  \\\n",
       "0                            China  CHN  1992 Summer  1992  Summer  Barcelona   \n",
       "1                            China  CHN  2012 Summer  2012  Summer     London   \n",
       "2                          Denmark  DEN  1920 Summer  1920  Summer  Antwerpen   \n",
       "3                   Denmark/Sweden  DEN  1900 Summer  1900  Summer      Paris   \n",
       "4                      Netherlands  NED  1988 Winter  1988  Winter    Calgary   \n",
       "...                            ...  ...          ...   ...     ...        ...   \n",
       "282622    United States of America  USA   Tokyo 2020  2020  Summer      Tokyo   \n",
       "282623  People's Republic of China  CHN   Tokyo 2020  2020  Summer      Tokyo   \n",
       "282624  People's Republic of China  CHN   Tokyo 2020  2020  Summer      Tokyo   \n",
       "282625                       Spain  ESP   Tokyo 2020  2020  Summer      Tokyo   \n",
       "282626                     Germany  GER   Tokyo 2020  2020  Summer      Tokyo   \n",
       "\n",
       "                      Sport                             Event   Medal  \\\n",
       "0                Basketball       Basketball Men's Basketball     NaN   \n",
       "1                      Judo      Judo Men's Extra-Lightweight     NaN   \n",
       "2                  Football           Football Men's Football     NaN   \n",
       "3                Tug-Of-War       Tug-Of-War Men's Tug-Of-War    Gold   \n",
       "4             Speed Skating  Speed Skating Women's 500 metres     NaN   \n",
       "...                     ...                               ...     ...   \n",
       "282622            Taekwondo                       Women -57kg    Gold   \n",
       "282623  Artistic Gymnastics                        Men's Team  Bronze   \n",
       "282624  Artistic Gymnastics               Men's Parallel Bars    Gold   \n",
       "282625             Football                               Men  Silver   \n",
       "282626               Tennis                     Men's Singles    Gold   \n",
       "\n",
       "          Country_x notes      Country_y    Population  PIB/habitant  \n",
       "0             China   NaN          China  1.371220e+09   8027.683810  \n",
       "1             China   NaN          China  1.371220e+09   8027.683810  \n",
       "2           Denmark   NaN        Denmark  5.676002e+06  51989.293471  \n",
       "3           Denmark   NaN        Denmark  5.676002e+06  51989.293471  \n",
       "4       Netherlands   NaN    Netherlands  1.693652e+07  44299.768085  \n",
       "...             ...   ...            ...           ...           ...  \n",
       "282622          USA   NaN  United States  3.214188e+08  56115.718426  \n",
       "282623        China   NaN          China  1.371220e+09   8027.683810  \n",
       "282624        China   NaN          China  1.371220e+09   8027.683810  \n",
       "282625        Spain   NaN          Spain  4.641827e+07  25831.582305  \n",
       "282626      Germany   NaN        Germany  8.141314e+07  41313.313995  \n",
       "\n",
       "[282627 rows x 19 columns]"
      ]
     },
     "execution_count": 75,
     "metadata": {},
     "output_type": "execute_result"
    },
    {
     "name": "stdout",
     "output_type": "stream",
     "text": [
      "In [75] used 130.4 MiB RAM in 0.39s (system mean cpu 20%, single max cpu 50%), peaked 0.0 MiB above final usage, current RAM usage now 174.0 MiB\n"
     ]
    }
   ],
   "source": [
    "df_complete=pd.merge(pd.merge(df_athlete,df_regions,on='NOC',how='left'),df_dictionnary,on='NOC',how='left')\n",
    "#df_complete=df_complete.drop(labels='',axis=1)\n",
    "\n",
    "df_complete"
   ]
  },
  {
   "cell_type": "code",
   "execution_count": null,
   "id": "4efaca25",
   "metadata": {},
   "outputs": [],
   "source": []
  },
  {
   "cell_type": "code",
   "execution_count": 76,
   "id": "77fb7743",
   "metadata": {},
   "outputs": [
    {
     "name": "stdout",
     "output_type": "stream",
     "text": [
      "In [76] used -46.5 MiB RAM in 0.23s (system mean cpu 13%, single max cpu 27%), peaked 0.0 MiB above final usage, current RAM usage now 127.5 MiB\n"
     ]
    }
   ],
   "source": [
    "df_complete=df_complete.query(\" NOC !='ROC' \")"
   ]
  },
  {
   "cell_type": "code",
   "execution_count": 77,
   "id": "510ad09d",
   "metadata": {
    "scrolled": true
   },
   "outputs": [
    {
     "name": "stdout",
     "output_type": "stream",
     "text": [
      "In [77] used 0.9 MiB RAM in 0.10s (system mean cpu 0%, single max cpu 0%), peaked 0.0 MiB above final usage, current RAM usage now 128.3 MiB\n"
     ]
    }
   ],
   "source": [
    "#df_complete.info()"
   ]
  },
  {
   "cell_type": "markdown",
   "id": "10370fd6",
   "metadata": {},
   "source": [
    "282 627 lignes , c'est normal on a enlevé les  réfugiés"
   ]
  },
  {
   "cell_type": "code",
   "execution_count": 79,
   "id": "57b1b780",
   "metadata": {},
   "outputs": [
    {
     "name": "stdout",
     "output_type": "stream",
     "text": [
      "In [79] used -57.8 MiB RAM in 0.14s (system mean cpu 15%, single max cpu 24%), peaked 32.0 MiB above final usage, current RAM usage now 66.9 MiB\n"
     ]
    }
   ],
   "source": [
    "df_complete.loc[(df_complete['Medal'].isna(),'Medal')]='Pas_medaille'\n",
    "\n"
   ]
  },
  {
   "cell_type": "markdown",
   "id": "6818f9c9",
   "metadata": {},
   "source": [
    "## Encoding test "
   ]
  },
  {
   "cell_type": "code",
   "execution_count": 80,
   "id": "7dd45f0b",
   "metadata": {},
   "outputs": [
    {
     "data": {
      "text/html": [
       "<div>\n",
       "<style scoped>\n",
       "    .dataframe tbody tr th:only-of-type {\n",
       "        vertical-align: middle;\n",
       "    }\n",
       "\n",
       "    .dataframe tbody tr th {\n",
       "        vertical-align: top;\n",
       "    }\n",
       "\n",
       "    .dataframe thead th {\n",
       "        text-align: right;\n",
       "    }\n",
       "</style>\n",
       "<table border=\"1\" class=\"dataframe\">\n",
       "  <thead>\n",
       "    <tr style=\"text-align: right;\">\n",
       "      <th></th>\n",
       "      <th>Name</th>\n",
       "      <th>Sex</th>\n",
       "      <th>Age</th>\n",
       "      <th>Height</th>\n",
       "      <th>Weight</th>\n",
       "      <th>Team</th>\n",
       "      <th>NOC</th>\n",
       "      <th>Games</th>\n",
       "      <th>Year</th>\n",
       "      <th>Season</th>\n",
       "      <th>City</th>\n",
       "      <th>Sport</th>\n",
       "      <th>Event</th>\n",
       "      <th>Medal</th>\n",
       "      <th>Country_x</th>\n",
       "      <th>notes</th>\n",
       "      <th>Country_y</th>\n",
       "      <th>Population</th>\n",
       "      <th>PIB/habitant</th>\n",
       "      <th>Score_medaille</th>\n",
       "    </tr>\n",
       "  </thead>\n",
       "  <tbody>\n",
       "    <tr>\n",
       "      <th>0</th>\n",
       "      <td>A Dijiang</td>\n",
       "      <td>M</td>\n",
       "      <td>24.0</td>\n",
       "      <td>180.00</td>\n",
       "      <td>80.0</td>\n",
       "      <td>China</td>\n",
       "      <td>CHN</td>\n",
       "      <td>1992 Summer</td>\n",
       "      <td>1992</td>\n",
       "      <td>Summer</td>\n",
       "      <td>Barcelona</td>\n",
       "      <td>Basketball</td>\n",
       "      <td>Basketball Men's Basketball</td>\n",
       "      <td>Pas_medaille</td>\n",
       "      <td>China</td>\n",
       "      <td>NaN</td>\n",
       "      <td>China</td>\n",
       "      <td>1.371220e+09</td>\n",
       "      <td>8027.683810</td>\n",
       "      <td>0</td>\n",
       "    </tr>\n",
       "    <tr>\n",
       "      <th>1</th>\n",
       "      <td>A Lamusi</td>\n",
       "      <td>M</td>\n",
       "      <td>23.0</td>\n",
       "      <td>170.00</td>\n",
       "      <td>60.0</td>\n",
       "      <td>China</td>\n",
       "      <td>CHN</td>\n",
       "      <td>2012 Summer</td>\n",
       "      <td>2012</td>\n",
       "      <td>Summer</td>\n",
       "      <td>London</td>\n",
       "      <td>Judo</td>\n",
       "      <td>Judo Men's Extra-Lightweight</td>\n",
       "      <td>Pas_medaille</td>\n",
       "      <td>China</td>\n",
       "      <td>NaN</td>\n",
       "      <td>China</td>\n",
       "      <td>1.371220e+09</td>\n",
       "      <td>8027.683810</td>\n",
       "      <td>0</td>\n",
       "    </tr>\n",
       "    <tr>\n",
       "      <th>2</th>\n",
       "      <td>Gunnar Nielsen Aaby</td>\n",
       "      <td>M</td>\n",
       "      <td>24.0</td>\n",
       "      <td>NaN</td>\n",
       "      <td>NaN</td>\n",
       "      <td>Denmark</td>\n",
       "      <td>DEN</td>\n",
       "      <td>1920 Summer</td>\n",
       "      <td>1920</td>\n",
       "      <td>Summer</td>\n",
       "      <td>Antwerpen</td>\n",
       "      <td>Football</td>\n",
       "      <td>Football Men's Football</td>\n",
       "      <td>Pas_medaille</td>\n",
       "      <td>Denmark</td>\n",
       "      <td>NaN</td>\n",
       "      <td>Denmark</td>\n",
       "      <td>5.676002e+06</td>\n",
       "      <td>51989.293471</td>\n",
       "      <td>0</td>\n",
       "    </tr>\n",
       "    <tr>\n",
       "      <th>3</th>\n",
       "      <td>Edgar Lindenau Aabye</td>\n",
       "      <td>M</td>\n",
       "      <td>34.0</td>\n",
       "      <td>NaN</td>\n",
       "      <td>NaN</td>\n",
       "      <td>Denmark/Sweden</td>\n",
       "      <td>DEN</td>\n",
       "      <td>1900 Summer</td>\n",
       "      <td>1900</td>\n",
       "      <td>Summer</td>\n",
       "      <td>Paris</td>\n",
       "      <td>Tug-Of-War</td>\n",
       "      <td>Tug-Of-War Men's Tug-Of-War</td>\n",
       "      <td>Gold</td>\n",
       "      <td>Denmark</td>\n",
       "      <td>NaN</td>\n",
       "      <td>Denmark</td>\n",
       "      <td>5.676002e+06</td>\n",
       "      <td>51989.293471</td>\n",
       "      <td>3</td>\n",
       "    </tr>\n",
       "    <tr>\n",
       "      <th>4</th>\n",
       "      <td>Christine Jacoba Aaftink</td>\n",
       "      <td>F</td>\n",
       "      <td>21.0</td>\n",
       "      <td>185.00</td>\n",
       "      <td>82.0</td>\n",
       "      <td>Netherlands</td>\n",
       "      <td>NED</td>\n",
       "      <td>1988 Winter</td>\n",
       "      <td>1988</td>\n",
       "      <td>Winter</td>\n",
       "      <td>Calgary</td>\n",
       "      <td>Speed Skating</td>\n",
       "      <td>Speed Skating Women's 500 metres</td>\n",
       "      <td>Pas_medaille</td>\n",
       "      <td>Netherlands</td>\n",
       "      <td>NaN</td>\n",
       "      <td>Netherlands</td>\n",
       "      <td>1.693652e+07</td>\n",
       "      <td>44299.768085</td>\n",
       "      <td>0</td>\n",
       "    </tr>\n",
       "    <tr>\n",
       "      <th>...</th>\n",
       "      <td>...</td>\n",
       "      <td>...</td>\n",
       "      <td>...</td>\n",
       "      <td>...</td>\n",
       "      <td>...</td>\n",
       "      <td>...</td>\n",
       "      <td>...</td>\n",
       "      <td>...</td>\n",
       "      <td>...</td>\n",
       "      <td>...</td>\n",
       "      <td>...</td>\n",
       "      <td>...</td>\n",
       "      <td>...</td>\n",
       "      <td>...</td>\n",
       "      <td>...</td>\n",
       "      <td>...</td>\n",
       "      <td>...</td>\n",
       "      <td>...</td>\n",
       "      <td>...</td>\n",
       "      <td>...</td>\n",
       "    </tr>\n",
       "    <tr>\n",
       "      <th>282622</th>\n",
       "      <td>ZOLOTIC Anastasija</td>\n",
       "      <td>F</td>\n",
       "      <td>19.0</td>\n",
       "      <td>1.80</td>\n",
       "      <td>NaN</td>\n",
       "      <td>United States of America</td>\n",
       "      <td>USA</td>\n",
       "      <td>Tokyo 2020</td>\n",
       "      <td>2020</td>\n",
       "      <td>Summer</td>\n",
       "      <td>Tokyo</td>\n",
       "      <td>Taekwondo</td>\n",
       "      <td>Women -57kg</td>\n",
       "      <td>Gold</td>\n",
       "      <td>USA</td>\n",
       "      <td>NaN</td>\n",
       "      <td>United States</td>\n",
       "      <td>3.214188e+08</td>\n",
       "      <td>56115.718426</td>\n",
       "      <td>3</td>\n",
       "    </tr>\n",
       "    <tr>\n",
       "      <th>282623</th>\n",
       "      <td>ZOU Jingyuan</td>\n",
       "      <td>M</td>\n",
       "      <td>23.0</td>\n",
       "      <td>1.58</td>\n",
       "      <td>NaN</td>\n",
       "      <td>People's Republic of China</td>\n",
       "      <td>CHN</td>\n",
       "      <td>Tokyo 2020</td>\n",
       "      <td>2020</td>\n",
       "      <td>Summer</td>\n",
       "      <td>Tokyo</td>\n",
       "      <td>Artistic Gymnastics</td>\n",
       "      <td>Men's Team</td>\n",
       "      <td>Bronze</td>\n",
       "      <td>China</td>\n",
       "      <td>NaN</td>\n",
       "      <td>China</td>\n",
       "      <td>1.371220e+09</td>\n",
       "      <td>8027.683810</td>\n",
       "      <td>1</td>\n",
       "    </tr>\n",
       "    <tr>\n",
       "      <th>282624</th>\n",
       "      <td>ZOU Jingyuan</td>\n",
       "      <td>M</td>\n",
       "      <td>23.0</td>\n",
       "      <td>1.58</td>\n",
       "      <td>NaN</td>\n",
       "      <td>People's Republic of China</td>\n",
       "      <td>CHN</td>\n",
       "      <td>Tokyo 2020</td>\n",
       "      <td>2020</td>\n",
       "      <td>Summer</td>\n",
       "      <td>Tokyo</td>\n",
       "      <td>Artistic Gymnastics</td>\n",
       "      <td>Men's Parallel Bars</td>\n",
       "      <td>Gold</td>\n",
       "      <td>China</td>\n",
       "      <td>NaN</td>\n",
       "      <td>China</td>\n",
       "      <td>1.371220e+09</td>\n",
       "      <td>8027.683810</td>\n",
       "      <td>3</td>\n",
       "    </tr>\n",
       "    <tr>\n",
       "      <th>282625</th>\n",
       "      <td>ZUBIMENDI Martin</td>\n",
       "      <td>M</td>\n",
       "      <td>22.0</td>\n",
       "      <td>1.80</td>\n",
       "      <td>NaN</td>\n",
       "      <td>Spain</td>\n",
       "      <td>ESP</td>\n",
       "      <td>Tokyo 2020</td>\n",
       "      <td>2020</td>\n",
       "      <td>Summer</td>\n",
       "      <td>Tokyo</td>\n",
       "      <td>Football</td>\n",
       "      <td>Men</td>\n",
       "      <td>Silver</td>\n",
       "      <td>Spain</td>\n",
       "      <td>NaN</td>\n",
       "      <td>Spain</td>\n",
       "      <td>4.641827e+07</td>\n",
       "      <td>25831.582305</td>\n",
       "      <td>2</td>\n",
       "    </tr>\n",
       "    <tr>\n",
       "      <th>282626</th>\n",
       "      <td>ZVEREV Alexander</td>\n",
       "      <td>M</td>\n",
       "      <td>24.0</td>\n",
       "      <td>1.98</td>\n",
       "      <td>NaN</td>\n",
       "      <td>Germany</td>\n",
       "      <td>GER</td>\n",
       "      <td>Tokyo 2020</td>\n",
       "      <td>2020</td>\n",
       "      <td>Summer</td>\n",
       "      <td>Tokyo</td>\n",
       "      <td>Tennis</td>\n",
       "      <td>Men's Singles</td>\n",
       "      <td>Gold</td>\n",
       "      <td>Germany</td>\n",
       "      <td>NaN</td>\n",
       "      <td>Germany</td>\n",
       "      <td>8.141314e+07</td>\n",
       "      <td>41313.313995</td>\n",
       "      <td>3</td>\n",
       "    </tr>\n",
       "  </tbody>\n",
       "</table>\n",
       "<p>282627 rows × 20 columns</p>\n",
       "</div>"
      ],
      "text/plain": [
       "                            Name Sex   Age  Height  Weight  \\\n",
       "0                      A Dijiang   M  24.0  180.00    80.0   \n",
       "1                       A Lamusi   M  23.0  170.00    60.0   \n",
       "2            Gunnar Nielsen Aaby   M  24.0     NaN     NaN   \n",
       "3           Edgar Lindenau Aabye   M  34.0     NaN     NaN   \n",
       "4       Christine Jacoba Aaftink   F  21.0  185.00    82.0   \n",
       "...                          ...  ..   ...     ...     ...   \n",
       "282622        ZOLOTIC Anastasija   F  19.0    1.80     NaN   \n",
       "282623              ZOU Jingyuan   M  23.0    1.58     NaN   \n",
       "282624              ZOU Jingyuan   M  23.0    1.58     NaN   \n",
       "282625          ZUBIMENDI Martin   M  22.0    1.80     NaN   \n",
       "282626          ZVEREV Alexander   M  24.0    1.98     NaN   \n",
       "\n",
       "                              Team  NOC        Games  Year  Season       City  \\\n",
       "0                            China  CHN  1992 Summer  1992  Summer  Barcelona   \n",
       "1                            China  CHN  2012 Summer  2012  Summer     London   \n",
       "2                          Denmark  DEN  1920 Summer  1920  Summer  Antwerpen   \n",
       "3                   Denmark/Sweden  DEN  1900 Summer  1900  Summer      Paris   \n",
       "4                      Netherlands  NED  1988 Winter  1988  Winter    Calgary   \n",
       "...                            ...  ...          ...   ...     ...        ...   \n",
       "282622    United States of America  USA   Tokyo 2020  2020  Summer      Tokyo   \n",
       "282623  People's Republic of China  CHN   Tokyo 2020  2020  Summer      Tokyo   \n",
       "282624  People's Republic of China  CHN   Tokyo 2020  2020  Summer      Tokyo   \n",
       "282625                       Spain  ESP   Tokyo 2020  2020  Summer      Tokyo   \n",
       "282626                     Germany  GER   Tokyo 2020  2020  Summer      Tokyo   \n",
       "\n",
       "                      Sport                             Event         Medal  \\\n",
       "0                Basketball       Basketball Men's Basketball  Pas_medaille   \n",
       "1                      Judo      Judo Men's Extra-Lightweight  Pas_medaille   \n",
       "2                  Football           Football Men's Football  Pas_medaille   \n",
       "3                Tug-Of-War       Tug-Of-War Men's Tug-Of-War          Gold   \n",
       "4             Speed Skating  Speed Skating Women's 500 metres  Pas_medaille   \n",
       "...                     ...                               ...           ...   \n",
       "282622            Taekwondo                       Women -57kg          Gold   \n",
       "282623  Artistic Gymnastics                        Men's Team        Bronze   \n",
       "282624  Artistic Gymnastics               Men's Parallel Bars          Gold   \n",
       "282625             Football                               Men        Silver   \n",
       "282626               Tennis                     Men's Singles          Gold   \n",
       "\n",
       "          Country_x notes      Country_y    Population  PIB/habitant  \\\n",
       "0             China   NaN          China  1.371220e+09   8027.683810   \n",
       "1             China   NaN          China  1.371220e+09   8027.683810   \n",
       "2           Denmark   NaN        Denmark  5.676002e+06  51989.293471   \n",
       "3           Denmark   NaN        Denmark  5.676002e+06  51989.293471   \n",
       "4       Netherlands   NaN    Netherlands  1.693652e+07  44299.768085   \n",
       "...             ...   ...            ...           ...           ...   \n",
       "282622          USA   NaN  United States  3.214188e+08  56115.718426   \n",
       "282623        China   NaN          China  1.371220e+09   8027.683810   \n",
       "282624        China   NaN          China  1.371220e+09   8027.683810   \n",
       "282625        Spain   NaN          Spain  4.641827e+07  25831.582305   \n",
       "282626      Germany   NaN        Germany  8.141314e+07  41313.313995   \n",
       "\n",
       "        Score_medaille  \n",
       "0                    0  \n",
       "1                    0  \n",
       "2                    0  \n",
       "3                    3  \n",
       "4                    0  \n",
       "...                ...  \n",
       "282622               3  \n",
       "282623               1  \n",
       "282624               3  \n",
       "282625               2  \n",
       "282626               3  \n",
       "\n",
       "[282627 rows x 20 columns]"
      ]
     },
     "execution_count": 80,
     "metadata": {},
     "output_type": "execute_result"
    },
    {
     "name": "stdout",
     "output_type": "stream",
     "text": [
      "In [80] used -26.6 MiB RAM in 0.15s (system mean cpu 15%, single max cpu 24%), peaked 0.0 MiB above final usage, current RAM usage now 40.3 MiB\n"
     ]
    }
   ],
   "source": [
    "dictio_score_medaille={'Pas_medaille':0,\n",
    "                      'Bronze':1,\n",
    "                      'Silver':2,\n",
    "                      'Gold':3}\n",
    "\n",
    "df_complete['Score_medaille']=df_complete['Medal'].map(dictio_score_medaille)\n",
    "\n",
    "df_complete"
   ]
  },
  {
   "cell_type": "code",
   "execution_count": 26,
   "id": "16151299",
   "metadata": {},
   "outputs": [
    {
     "data": {
      "text/plain": [
       "\" \\nmedaille_categories=['Pas_medaille','Bronze','Silver','Gold']\\nencode_medaille=preprocessing.OrdinalEncoder(categories=[medaille_categories])\\n\\ndf_complete['enc_medal']=encode_medaille.fit_transform(df_complete[['Medal']])\\n\\ndf_complete\\n\""
      ]
     },
     "execution_count": 26,
     "metadata": {},
     "output_type": "execute_result"
    },
    {
     "name": "stdout",
     "output_type": "stream",
     "text": [
      "In [26] used -3.6 MiB RAM in 0.11s (system mean cpu 17%, single max cpu 100%), peaked 3.6 MiB above final usage, current RAM usage now 333.0 MiB\n"
     ]
    }
   ],
   "source": [
    "#Marche aussi \n",
    "''' \n",
    "medaille_categories=['Pas_medaille','Bronze','Silver','Gold']\n",
    "encode_medaille=preprocessing.OrdinalEncoder(categories=[medaille_categories])\n",
    "\n",
    "df_complete['enc_medal']=encode_medaille.fit_transform(df_complete[['Medal']])\n",
    "\n",
    "df_complete\n",
    "''' "
   ]
  },
  {
   "cell_type": "markdown",
   "id": "e66a2a2c",
   "metadata": {},
   "source": [
    "## Analyse valeurs nulles "
   ]
  },
  {
   "cell_type": "code",
   "execution_count": 81,
   "id": "741ea0d4",
   "metadata": {},
   "outputs": [
    {
     "data": {
      "text/plain": [
       "Name                   0\n",
       "Sex                  156\n",
       "Age                 9628\n",
       "Height             67142\n",
       "Weight             74386\n",
       "Team                   0\n",
       "NOC                    0\n",
       "Games                  0\n",
       "Year                   0\n",
       "Season                 0\n",
       "City                   0\n",
       "Sport                156\n",
       "Event               9278\n",
       "Medal                  0\n",
       "Country_x            419\n",
       "notes             277510\n",
       "Country_y          26221\n",
       "Population         27593\n",
       "PIB/habitant       35919\n",
       "Score_medaille         0\n",
       "dtype: int64"
      ]
     },
     "execution_count": 81,
     "metadata": {},
     "output_type": "execute_result"
    },
    {
     "name": "stdout",
     "output_type": "stream",
     "text": [
      "In [81] used 51.4 MiB RAM in 0.26s (system mean cpu 22%, single max cpu 46%), peaked 0.0 MiB above final usage, current RAM usage now 91.7 MiB\n"
     ]
    }
   ],
   "source": [
    "df_complete.isna().sum()"
   ]
  },
  {
   "cell_type": "markdown",
   "id": "7b8cb041",
   "metadata": {},
   "source": [
    "156 sports où on sait pas ce que c'est .... et des country (26 221) qui ne sont pas attribués non plus "
   ]
  },
  {
   "cell_type": "markdown",
   "id": "4236793b",
   "metadata": {},
   "source": [
    "Pour les Country , on va merge "
   ]
  },
  {
   "cell_type": "code",
   "execution_count": 114,
   "id": "e855afce",
   "metadata": {},
   "outputs": [
    {
     "name": "stdout",
     "output_type": "stream",
     "text": [
      "In [114] used 48.4 MiB RAM in 0.31s (system mean cpu 21%, single max cpu 60%), peaked 0.0 MiB above final usage, current RAM usage now 143.3 MiB\n"
     ]
    }
   ],
   "source": [
    "#df_complete_test=df_complete.copy()\n",
    "\n",
    "df_complete=pd.merge(df_complete,df_regions,on='NOC',how='left')\n",
    "\n",
    "df_complete['Country']=df_complete['Country_y'].fillna(df_complete['Country_x'])"
   ]
  },
  {
   "cell_type": "code",
   "execution_count": 115,
   "id": "c8a40b37",
   "metadata": {},
   "outputs": [
    {
     "name": "stdout",
     "output_type": "stream",
     "text": [
      "In [115] used 37.4 MiB RAM in 0.21s (system mean cpu 20%, single max cpu 29%), peaked 0.0 MiB above final usage, current RAM usage now 180.6 MiB\n"
     ]
    }
   ],
   "source": [
    "df_complete= df_complete.drop(['Country_x', 'Country_y'], axis=1)"
   ]
  },
  {
   "cell_type": "code",
   "execution_count": 116,
   "id": "d01f7f38",
   "metadata": {
    "scrolled": true
   },
   "outputs": [
    {
     "data": {
      "text/plain": [
       "Name                   0\n",
       "Sex                  156\n",
       "Age                 9628\n",
       "Height             67142\n",
       "Weight             74386\n",
       "Team                   0\n",
       "NOC                    0\n",
       "Games                  0\n",
       "Year                   0\n",
       "Season                 0\n",
       "City                   0\n",
       "Sport                156\n",
       "Event               9278\n",
       "Medal                  0\n",
       "notes_x           277510\n",
       "Population         27593\n",
       "PIB/habitant       35919\n",
       "Score_medaille         0\n",
       "Country               41\n",
       "notes_y           277510\n",
       "dtype: int64"
      ]
     },
     "execution_count": 116,
     "metadata": {},
     "output_type": "execute_result"
    },
    {
     "name": "stdout",
     "output_type": "stream",
     "text": [
      "In [116] used -85.7 MiB RAM in 0.32s (system mean cpu 17%, single max cpu 36%), peaked 0.0 MiB above final usage, current RAM usage now 94.9 MiB\n"
     ]
    }
   ],
   "source": [
    "liste_pays=df_regions['Country'].tolist()\n",
    "liste_NOC=df_regions['NOC'].tolist()\n",
    "\n",
    "dictio_NOC_pays=dict(zip(liste_NOC,liste_pays))\n",
    "\n",
    "dictio_NOC_pays['SGP']='Singapour'\n",
    "dictio_NOC_pays['LBN']='Liban'\n",
    "\n",
    "\n",
    "df_complete['Country']=df_complete['Country'].fillna(df_complete['NOC'].map(dictio_NOC_pays))\n",
    "#liste_region\n",
    "\n",
    "#df_complete_test.isna().sum()"
   ]
  },
  {
   "cell_type": "code",
   "execution_count": 109,
   "id": "c421e5b5",
   "metadata": {},
   "outputs": [
    {
     "data": {
      "text/html": [
       "<div>\n",
       "<style scoped>\n",
       "    .dataframe tbody tr th:only-of-type {\n",
       "        vertical-align: middle;\n",
       "    }\n",
       "\n",
       "    .dataframe tbody tr th {\n",
       "        vertical-align: top;\n",
       "    }\n",
       "\n",
       "    .dataframe thead th {\n",
       "        text-align: right;\n",
       "    }\n",
       "</style>\n",
       "<table border=\"1\" class=\"dataframe\">\n",
       "  <thead>\n",
       "    <tr style=\"text-align: right;\">\n",
       "      <th></th>\n",
       "      <th>NOC</th>\n",
       "      <th>Name</th>\n",
       "    </tr>\n",
       "  </thead>\n",
       "  <tbody>\n",
       "    <tr>\n",
       "      <th>0</th>\n",
       "      <td>EOR</td>\n",
       "      <td>29</td>\n",
       "    </tr>\n",
       "    <tr>\n",
       "      <th>1</th>\n",
       "      <td>LBN</td>\n",
       "      <td>6</td>\n",
       "    </tr>\n",
       "    <tr>\n",
       "      <th>2</th>\n",
       "      <td>ROT</td>\n",
       "      <td>12</td>\n",
       "    </tr>\n",
       "  </tbody>\n",
       "</table>\n",
       "</div>"
      ],
      "text/plain": [
       "   NOC  Name\n",
       "0  EOR    29\n",
       "1  LBN     6\n",
       "2  ROT    12"
      ]
     },
     "execution_count": 109,
     "metadata": {},
     "output_type": "execute_result"
    },
    {
     "name": "stdout",
     "output_type": "stream",
     "text": [
      "In [109] used 3.9 MiB RAM in 0.14s (system mean cpu 17%, single max cpu 26%), peaked 0.0 MiB above final usage, current RAM usage now 99.8 MiB\n"
     ]
    }
   ],
   "source": [
    "test=df_complete_test[df_complete_test['Country'].isna()]\n",
    "\n",
    "#test['Country']=test['Country'].fillna(test['NOC'].map(dictio_NOC_pays))\n",
    "\n",
    "test.groupby('NOC')['Name'].count().reset_index()"
   ]
  },
  {
   "cell_type": "markdown",
   "id": "6807bac0",
   "metadata": {},
   "source": [
    "Il y a quatre NOC qui ne correspondent à aucun pays dans notre EOR : réfugiés , ROT réfugiés aussi , LBN c'est le Liban (Lebanon en anglais )"
   ]
  },
  {
   "cell_type": "code",
   "execution_count": 119,
   "id": "766d26c2",
   "metadata": {},
   "outputs": [
    {
     "data": {
      "text/plain": [
       "Name                   0\n",
       "Sex                  156\n",
       "Age                 9628\n",
       "Height             67116\n",
       "Weight             74357\n",
       "Team                   0\n",
       "NOC                    0\n",
       "Games                  0\n",
       "Year                   0\n",
       "Season                 0\n",
       "City                   0\n",
       "Sport                156\n",
       "Event               9249\n",
       "Medal                  0\n",
       "notes_x           277469\n",
       "Population         27552\n",
       "PIB/habitant       35878\n",
       "Score_medaille         0\n",
       "Country                0\n",
       "notes_y           277469\n",
       "dtype: int64"
      ]
     },
     "execution_count": 119,
     "metadata": {},
     "output_type": "execute_result"
    },
    {
     "name": "stdout",
     "output_type": "stream",
     "text": [
      "In [119] used 4.6 MiB RAM in 0.34s (system mean cpu 22%, single max cpu 37%), peaked 0.0 MiB above final usage, current RAM usage now 138.5 MiB\n"
     ]
    }
   ],
   "source": [
    "df_complete=df_complete.query(\" NOC !='ROT' and NOC !='EOR' \")\n",
    "\n"
   ]
  },
  {
   "cell_type": "code",
   "execution_count": 121,
   "id": "7d68c342",
   "metadata": {},
   "outputs": [
    {
     "name": "stdout",
     "output_type": "stream",
     "text": [
      "In [121] used 90.6 MiB RAM in 0.22s (system mean cpu 18%, single max cpu 28%), peaked 0.0 MiB above final usage, current RAM usage now 128.5 MiB\n"
     ]
    }
   ],
   "source": [
    "df_complete=df_complete.drop(['notes_x','notes_y'],axis=1)"
   ]
  },
  {
   "cell_type": "markdown",
   "id": "8153ddce",
   "metadata": {},
   "source": [
    "## Opérations sur les sports "
   ]
  },
  {
   "cell_type": "code",
   "execution_count": 30,
   "id": "bb2a7825",
   "metadata": {},
   "outputs": [
    {
     "name": "stdout",
     "output_type": "stream",
     "text": [
      "['Basketball', 'Judo', 'Football', 'Tug-Of-War', 'Speed Skating', 'Cross Country Skiing', 'Athletics', 'Ice Hockey', 'Swimming', 'Badminton', 'Sailing', 'Biathlon', 'Gymnastics', 'Art Competitions', 'Alpine Skiing', 'Handball', 'Weightlifting', 'Wrestling', 'Luge', 'Water Polo', 'Hockey', 'Rowing', 'Bobsleigh', 'Fencing', 'Equestrianism', 'Shooting', 'Boxing', 'Taekwondo', 'Cycling', 'Diving', 'Canoeing', 'Tennis', 'Modern Pentathlon', 'Figure Skating', 'Golf', 'Softball', 'Archery', 'Volleyball', 'Synchronized Swimming', 'Table Tennis', 'Nordic Combined', 'Baseball', 'Rhythmic Gymnastics', 'Freestyle Skiing', 'Rugby Sevens', 'Trampolining', 'Beach Volleyball', 'Triathlon', 'Ski Jumping', 'Curling', 'Snowboarding', 'Rugby', 'Short Track Speed Skating', 'Skeleton', 'Lacrosse', 'Polo', 'Cricket', 'Racquets', 'Motorboating', 'Military Ski Patrol', 'Croquet', 'Jeu De Paume', 'Roque', 'Alpinism', 'Basque Pelota', 'Aeronautics', 'Cycling Road', 'Artistic Gymnastics', 'Karate', 'Trampoline Gymnastics', 'Canoe Slalom', 'Surfing', 'Canoe Sprint', nan, 'Equestrian', 'Artistic Swimming', 'Cycling Track', 'Skateboarding', 'Marathon Swimming', 'Cycling BMX Racing', 'Baseball/Softball', 'Cycling Mountain Bike', '3x3 Basketball', 'Cycling BMX Freestyle', 'Sport Climbing']\n",
      "In [30] used 0.0 MiB RAM in 0.14s (system mean cpu 5%, single max cpu 33%), peaked 0.0 MiB above final usage, current RAM usage now 335.0 MiB\n"
     ]
    }
   ],
   "source": [
    "liste_sports=df_complete['Sport'].unique().tolist()\n",
    "\n",
    "print(liste_sports)"
   ]
  },
  {
   "cell_type": "code",
   "execution_count": 31,
   "id": "e99ff056",
   "metadata": {},
   "outputs": [
    {
     "data": {
      "text/html": [
       "<div>\n",
       "<style scoped>\n",
       "    .dataframe tbody tr th:only-of-type {\n",
       "        vertical-align: middle;\n",
       "    }\n",
       "\n",
       "    .dataframe tbody tr th {\n",
       "        vertical-align: top;\n",
       "    }\n",
       "\n",
       "    .dataframe thead th {\n",
       "        text-align: right;\n",
       "    }\n",
       "</style>\n",
       "<table border=\"1\" class=\"dataframe\">\n",
       "  <thead>\n",
       "    <tr style=\"text-align: right;\">\n",
       "      <th></th>\n",
       "      <th>Sport</th>\n",
       "      <th>Name</th>\n",
       "    </tr>\n",
       "  </thead>\n",
       "  <tbody>\n",
       "    <tr>\n",
       "      <th>0</th>\n",
       "      <td>3x3 Basketball</td>\n",
       "      <td>56</td>\n",
       "    </tr>\n",
       "    <tr>\n",
       "      <th>1</th>\n",
       "      <td>Aeronautics</td>\n",
       "      <td>1</td>\n",
       "    </tr>\n",
       "    <tr>\n",
       "      <th>2</th>\n",
       "      <td>Alpine Skiing</td>\n",
       "      <td>8829</td>\n",
       "    </tr>\n",
       "    <tr>\n",
       "      <th>3</th>\n",
       "      <td>Alpinism</td>\n",
       "      <td>25</td>\n",
       "    </tr>\n",
       "    <tr>\n",
       "      <th>4</th>\n",
       "      <td>Archery</td>\n",
       "      <td>2461</td>\n",
       "    </tr>\n",
       "    <tr>\n",
       "      <th>...</th>\n",
       "      <td>...</td>\n",
       "      <td>...</td>\n",
       "    </tr>\n",
       "    <tr>\n",
       "      <th>79</th>\n",
       "      <td>Tug-Of-War</td>\n",
       "      <td>170</td>\n",
       "    </tr>\n",
       "    <tr>\n",
       "      <th>80</th>\n",
       "      <td>Volleyball</td>\n",
       "      <td>3666</td>\n",
       "    </tr>\n",
       "    <tr>\n",
       "      <th>81</th>\n",
       "      <td>Water Polo</td>\n",
       "      <td>4119</td>\n",
       "    </tr>\n",
       "    <tr>\n",
       "      <th>82</th>\n",
       "      <td>Weightlifting</td>\n",
       "      <td>4129</td>\n",
       "    </tr>\n",
       "    <tr>\n",
       "      <th>83</th>\n",
       "      <td>Wrestling</td>\n",
       "      <td>7426</td>\n",
       "    </tr>\n",
       "  </tbody>\n",
       "</table>\n",
       "<p>84 rows × 2 columns</p>\n",
       "</div>"
      ],
      "text/plain": [
       "             Sport  Name\n",
       "0   3x3 Basketball    56\n",
       "1      Aeronautics     1\n",
       "2    Alpine Skiing  8829\n",
       "3         Alpinism    25\n",
       "4          Archery  2461\n",
       "..             ...   ...\n",
       "79      Tug-Of-War   170\n",
       "80      Volleyball  3666\n",
       "81      Water Polo  4119\n",
       "82   Weightlifting  4129\n",
       "83       Wrestling  7426\n",
       "\n",
       "[84 rows x 2 columns]"
      ]
     },
     "execution_count": 31,
     "metadata": {},
     "output_type": "execute_result"
    },
    {
     "name": "stdout",
     "output_type": "stream",
     "text": [
      "In [31] used 2.4 MiB RAM in 0.16s (system mean cpu 28%, single max cpu 83%), peaked 0.0 MiB above final usage, current RAM usage now 337.4 MiB\n"
     ]
    }
   ],
   "source": [
    "table_sport=df_complete.groupby('Sport')['Name'].count().reset_index()\n",
    "\n",
    "table_sport"
   ]
  },
  {
   "cell_type": "code",
   "execution_count": null,
   "id": "b3e570b1",
   "metadata": {},
   "outputs": [],
   "source": []
  }
 ],
 "metadata": {
  "kernelspec": {
   "display_name": "Python 3",
   "language": "python",
   "name": "python3"
  },
  "language_info": {
   "codemirror_mode": {
    "name": "ipython",
    "version": 3
   },
   "file_extension": ".py",
   "mimetype": "text/x-python",
   "name": "python",
   "nbconvert_exporter": "python",
   "pygments_lexer": "ipython3",
   "version": "3.8.8"
  }
 },
 "nbformat": 4,
 "nbformat_minor": 5
}
