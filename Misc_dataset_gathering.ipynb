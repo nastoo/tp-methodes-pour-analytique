{
 "cells": [
  {
   "cell_type": "markdown",
   "metadata": {},
   "source": [
    "# Récupération des datasets annexes\n",
    "Afin de pouvoir effectuer les différentes analyses que nous avons prévues; nous allons avoir besoin de récupérer des données provenant de sources supplémentaires. \n",
    "Ainsi, nous allons télécharger les datasets supplémentaires dans `./data/additionnal/` en utilisant ce notebook. \n",
    "\n",
    "Nous nous occuperons également de nettoyer les données, afin d'utiliser uniquement ce dont nous avons besoin. "
   ]
  },
  {
   "cell_type": "markdown",
   "metadata": {},
   "source": [
    "## Pays organisateurs des JO, de leur création à 2028\n",
    "Après quelques recherches sur internet, nous avons constaté que ce dataset existait déjà sur Kaggle. Nous avons fait le choix de le récupérer, au lieu d'aller récupérer les données par nous-même au moyen du webscrapping. Nous avons préféré adopter cette stratégie au regard du temps restant. \n",
    "\n",
    "Lien du dataset : https://www.kaggle.com/datasets/piterfm/olympic-games-hosts \n",
    "\n",
    "Le dataset n'étant disponible qu'au téléchargement direct après connexion à la plateforme, nous l'avons directement ajouté dans le répertoire sus-mentionné. "
   ]
  },
  {
   "cell_type": "markdown",
   "metadata": {},
   "source": [
    "### Nettoyage"
   ]
  },
  {
   "cell_type": "code",
   "execution_count": 1,
   "metadata": {},
   "outputs": [],
   "source": [
    "# Dépendances\n",
    "import pandas as pd"
   ]
  },
  {
   "cell_type": "code",
   "execution_count": 3,
   "metadata": {},
   "outputs": [],
   "source": [
    "# Chargement des données dans un dataframe pandas \n",
    "df_hosting_countries = pd.read_csv('data/additionnal/olympic_hosts.csv')"
   ]
  },
  {
   "cell_type": "code",
   "execution_count": 4,
   "metadata": {},
   "outputs": [
    {
     "data": {
      "text/html": [
       "<div>\n",
       "<style scoped>\n",
       "    .dataframe tbody tr th:only-of-type {\n",
       "        vertical-align: middle;\n",
       "    }\n",
       "\n",
       "    .dataframe tbody tr th {\n",
       "        vertical-align: top;\n",
       "    }\n",
       "\n",
       "    .dataframe thead th {\n",
       "        text-align: right;\n",
       "    }\n",
       "</style>\n",
       "<table border=\"1\" class=\"dataframe\">\n",
       "  <thead>\n",
       "    <tr style=\"text-align: right;\">\n",
       "      <th></th>\n",
       "      <th>Type</th>\n",
       "      <th>GamesUrl</th>\n",
       "      <th>Disciplines</th>\n",
       "      <th>DisciplinesList</th>\n",
       "      <th>Country</th>\n",
       "      <th>Date</th>\n",
       "      <th>Athletes</th>\n",
       "      <th>Countries</th>\n",
       "      <th>Events</th>\n",
       "      <th>City</th>\n",
       "      <th>Year</th>\n",
       "    </tr>\n",
       "  </thead>\n",
       "  <tbody>\n",
       "    <tr>\n",
       "      <th>0</th>\n",
       "      <td>summergames</td>\n",
       "      <td>https://www.olympic.org/athens-1896</td>\n",
       "      <td>10</td>\n",
       "      <td>['Athletics', 'Cycling Road', 'Cycling Track',...</td>\n",
       "      <td>Greece</td>\n",
       "      <td>06 Apr - 15 Apr</td>\n",
       "      <td>241.0</td>\n",
       "      <td>14.0</td>\n",
       "      <td>43.0</td>\n",
       "      <td>Athens</td>\n",
       "      <td>1896</td>\n",
       "    </tr>\n",
       "    <tr>\n",
       "      <th>1</th>\n",
       "      <td>summergames</td>\n",
       "      <td>https://www.olympic.org/paris-1900</td>\n",
       "      <td>20</td>\n",
       "      <td>['Archery', 'Athletics', 'Basque Pelota', 'Cri...</td>\n",
       "      <td>France</td>\n",
       "      <td>14 May - 28 Oct</td>\n",
       "      <td>997.0</td>\n",
       "      <td>24.0</td>\n",
       "      <td>95.0</td>\n",
       "      <td>Paris</td>\n",
       "      <td>1900</td>\n",
       "    </tr>\n",
       "    <tr>\n",
       "      <th>2</th>\n",
       "      <td>summergames</td>\n",
       "      <td>https://www.olympic.org/st-louis-1904</td>\n",
       "      <td>19</td>\n",
       "      <td>['Archery', 'Athletics', 'Basketball', 'Boxing...</td>\n",
       "      <td>United States of America</td>\n",
       "      <td>01 Jul - 23 Nov</td>\n",
       "      <td>651.0</td>\n",
       "      <td>12.0</td>\n",
       "      <td>95.0</td>\n",
       "      <td>St Louis</td>\n",
       "      <td>1904</td>\n",
       "    </tr>\n",
       "    <tr>\n",
       "      <th>3</th>\n",
       "      <td>summergames</td>\n",
       "      <td>https://www.olympic.org/london-1908</td>\n",
       "      <td>25</td>\n",
       "      <td>['Archery', 'Athletics', 'Boxing', 'Cycling Tr...</td>\n",
       "      <td>Great Britain</td>\n",
       "      <td>27 Apr - 31 Oct</td>\n",
       "      <td>2008.0</td>\n",
       "      <td>22.0</td>\n",
       "      <td>110.0</td>\n",
       "      <td>London</td>\n",
       "      <td>1908</td>\n",
       "    </tr>\n",
       "    <tr>\n",
       "      <th>4</th>\n",
       "      <td>summergames</td>\n",
       "      <td>https://www.olympic.org/stockholm-1912</td>\n",
       "      <td>18</td>\n",
       "      <td>['Athletics', 'Cycling Road', 'Diving', 'Eques...</td>\n",
       "      <td>Sweden</td>\n",
       "      <td>05 May - 27 Jul</td>\n",
       "      <td>2407.0</td>\n",
       "      <td>28.0</td>\n",
       "      <td>102.0</td>\n",
       "      <td>Stockholm</td>\n",
       "      <td>1912</td>\n",
       "    </tr>\n",
       "  </tbody>\n",
       "</table>\n",
       "</div>"
      ],
      "text/plain": [
       "          Type                                GamesUrl  Disciplines  \\\n",
       "0  summergames     https://www.olympic.org/athens-1896           10   \n",
       "1  summergames      https://www.olympic.org/paris-1900           20   \n",
       "2  summergames   https://www.olympic.org/st-louis-1904           19   \n",
       "3  summergames     https://www.olympic.org/london-1908           25   \n",
       "4  summergames  https://www.olympic.org/stockholm-1912           18   \n",
       "\n",
       "                                     DisciplinesList  \\\n",
       "0  ['Athletics', 'Cycling Road', 'Cycling Track',...   \n",
       "1  ['Archery', 'Athletics', 'Basque Pelota', 'Cri...   \n",
       "2  ['Archery', 'Athletics', 'Basketball', 'Boxing...   \n",
       "3  ['Archery', 'Athletics', 'Boxing', 'Cycling Tr...   \n",
       "4  ['Athletics', 'Cycling Road', 'Diving', 'Eques...   \n",
       "\n",
       "                    Country             Date  Athletes  Countries  Events  \\\n",
       "0                    Greece  06 Apr - 15 Apr     241.0       14.0    43.0   \n",
       "1                    France  14 May - 28 Oct     997.0       24.0    95.0   \n",
       "2  United States of America  01 Jul - 23 Nov     651.0       12.0    95.0   \n",
       "3             Great Britain  27 Apr - 31 Oct    2008.0       22.0   110.0   \n",
       "4                    Sweden  05 May - 27 Jul    2407.0       28.0   102.0   \n",
       "\n",
       "         City  Year  \n",
       "0     Athens   1896  \n",
       "1      Paris   1900  \n",
       "2   St Louis   1904  \n",
       "3     London   1908  \n",
       "4  Stockholm   1912  "
      ]
     },
     "execution_count": 4,
     "metadata": {},
     "output_type": "execute_result"
    }
   ],
   "source": [
    "df_hosting_countries.head()"
   ]
  },
  {
   "cell_type": "code",
   "execution_count": 9,
   "metadata": {},
   "outputs": [],
   "source": [
    "# Dans la mesure où nous n'avons besoin que des données extraites depuis 2000, jusqu'à 2022, nous allons les filtrer. \n",
    "df_hosting_countries_filtered = df_hosting_countries[(df_hosting_countries['Year'] >= 2000) & (df_hosting_countries['Year'] <= 2024)]"
   ]
  },
  {
   "cell_type": "code",
   "execution_count": 11,
   "metadata": {},
   "outputs": [],
   "source": [
    "# Nous allons exclure les youthgames\n",
    "df_hosting_countries_filtered = df_hosting_countries_filtered[df_hosting_countries_filtered['Type'] != 'youthgames']"
   ]
  },
  {
   "cell_type": "code",
   "execution_count": 13,
   "metadata": {},
   "outputs": [
    {
     "name": "stderr",
     "output_type": "stream",
     "text": [
      "/var/folders/38/1vcxjcxx0z75mdh8whh4pw6r0000gn/T/ipykernel_19452/109912920.py:2: SettingWithCopyWarning: \n",
      "A value is trying to be set on a copy of a slice from a DataFrame\n",
      "\n",
      "See the caveats in the documentation: https://pandas.pydata.org/pandas-docs/stable/user_guide/indexing.html#returning-a-view-versus-a-copy\n",
      "  df_hosting_countries_filtered.drop(columns=['GamesUrl', 'Disciplines', 'DisciplinesList', 'Athletes', 'Countries', 'Events', 'Date'], inplace=True)\n"
     ]
    }
   ],
   "source": [
    "# Et retirer les colonnes dont nous n'avons pas besoin (GamesUrl, Disicipines, DisciplinesList, Athletes, Countries, Events, Date)\n",
    "df_hosting_countries_filtered.drop(columns=['GamesUrl', 'Disciplines', 'DisciplinesList', 'Athletes', 'Countries', 'Events', 'Date'], inplace=True)"
   ]
  },
  {
   "cell_type": "code",
   "execution_count": 15,
   "metadata": {},
   "outputs": [],
   "source": [
    "# Désormais, export du dataframe filtré dans un fichier CSV\n",
    "df_hosting_countries_filtered.to_csv('data/additionnal/olympic_hosts_filtered.csv', index=False)"
   ]
  }
 ],
 "metadata": {
  "kernelspec": {
   "display_name": "base",
   "language": "python",
   "name": "python3"
  },
  "language_info": {
   "codemirror_mode": {
    "name": "ipython",
    "version": 3
   },
   "file_extension": ".py",
   "mimetype": "text/x-python",
   "name": "python",
   "nbconvert_exporter": "python",
   "pygments_lexer": "ipython3",
   "version": "3.9.13"
  }
 },
 "nbformat": 4,
 "nbformat_minor": 2
}
